{
 "cells": [
  {
   "cell_type": "code",
   "execution_count": 1,
   "id": "96b78812",
   "metadata": {},
   "outputs": [
    {
     "name": "stderr",
     "output_type": "stream",
     "text": [
      "/usr/local/lib/python3.9/site-packages/tqdm/auto.py:21: TqdmWarning: IProgress not found. Please update jupyter and ipywidgets. See https://ipywidgets.readthedocs.io/en/stable/user_install.html\n",
      "  from .autonotebook import tqdm as notebook_tqdm\n"
     ]
    }
   ],
   "source": [
    "import numpy as np\n",
    "import pandas as pd\n",
    "import matplotlib.pyplot as plt\n",
    "from gmr import GMM\n",
    "\n",
    "from sklearn.mixture import GaussianMixture\n",
    "from sklearn.linear_model import LogisticRegression\n",
    "from sklearn.model_selection import train_test_split\n",
    "from sklearn.datasets import load_iris\n",
    "from sklearn.metrics import f1_score, accuracy_score\n",
    "\n",
    "from moebius.model.gmm.evol.optimizer import GMMOptimizer\n",
    "from moebius.model.gmm.evol.parameters import EvolutionaryConfiguration\n",
    "from moebius.model.gmm.evol.graph.graph import ProbabilisticGraphShuffler\n",
    "\n",
    "from moebius.model.gmm.evol.graph.graph import GeneratorNode\n",
    "from moebius.model.gmm.evol.operators.mutation import mutation, \\\n",
    "    Mutation, \\\n",
    "    ByNameNodeSelector, \\\n",
    "    RandomValueNodeMutator, \\\n",
    "    RandomDeltaNodeMutator, \\\n",
    "    ClapNodeDecoratedMutator, \\\n",
    "    RandomIndexRandomDeltaNodeMutator, \\\n",
    "    RandomValuesSumTo1NodeMutator, \\\n",
    "    DirichletValuesSumTo1NodeMutator\n",
    "\n",
    "from moebius.model.gmm.evol.operators.crossover import crossover, \\\n",
    "    Crossover, \\\n",
    "    ExchangeFieldNodesCrossover, \\\n",
    "    RandomIndexExchangeFieldNodesCrossover\n",
    "\n",
    "from moebius.model.gmm.evol.graph.initializer import GMMParametersInitializer, \\\n",
    "    RandomWeightsInitializer, \\\n",
    "    RandomMeansInitializer, \\\n",
    "    RandomCovariancesInitializer, \\\n",
    "    ConstantMeansInitializer, \\\n",
    "    ConstantCovariancesInitializer\n",
    "\n",
    "from moebius.model.gmm.evol.graph.auto_initializer import AutoMeansInitializer\n",
    "\n",
    "from moebius.model.gmm.bn import ContinuousBNSerializer, JsonDictSerializer, FilesystemStorage\n",
    "\n",
    "from moebius.model.gmm.evol.bn import build_bn\n",
    "from moebius.util import make_diagonal, print_gmm_params_fancy\n",
    "from moebius import olr, olr_universal"
   ]
  },
  {
   "cell_type": "code",
   "execution_count": 2,
   "id": "253808d7",
   "metadata": {},
   "outputs": [],
   "source": [
    "def explode_cluster(data, target, clusters):\n",
    "    indices_0_1 = [idx for idx, x in enumerate(target) if x in clusters]\n",
    "    \n",
    "    return (\n",
    "        [list(data[idx]) for idx in indices_0_1],\n",
    "        [target[idx].decode('UTF-8') if isinstance(target[idx], np.bytes_) else target[idx] for idx in indices_0_1]\n",
    "    )"
   ]
  },
  {
   "cell_type": "code",
   "execution_count": 3,
   "id": "41f0910f",
   "metadata": {},
   "outputs": [],
   "source": [
    "data = load_iris()\n",
    "X = data['data']\n",
    "y = data['target']"
   ]
  },
  {
   "cell_type": "code",
   "execution_count": 4,
   "id": "5ae83c65",
   "metadata": {},
   "outputs": [],
   "source": [
    "X_1_2, y_1_2 = explode_cluster(X, y, (1, 2))"
   ]
  },
  {
   "cell_type": "code",
   "execution_count": 5,
   "id": "a5bf8b2a",
   "metadata": {},
   "outputs": [
    {
     "name": "stdout",
     "output_type": "stream",
     "text": [
      "\u001b[92m ---  weights   --- \u001b[0m\n",
      "[0.551 0.449]\n",
      "\u001b[92m ---   means    --- \u001b[0m\n",
      "[[6.545 2.949 5.48  1.985]\n",
      " [5.915 2.778 4.202 1.297]]\n",
      "\u001b[92m --- covariance --- \u001b[0m\n",
      "[[[0.387 0.092 0.303 0.062]\n",
      "  [0.092 0.11  0.084 0.056]\n",
      "  [0.303 0.084 0.328 0.075]\n",
      "  [0.062 0.056 0.075 0.086]]\n",
      "\n",
      " [[0.275 0.097 0.185 0.054]\n",
      "  [0.097 0.093 0.091 0.043]\n",
      "  [0.185 0.091 0.201 0.061]\n",
      "  [0.054 0.043 0.061 0.032]]]\n",
      "\u001b[94m ---    OLR     --- \u001b[0m\n",
      "0.3201848698063574\n"
     ]
    }
   ],
   "source": [
    "gmm = GMM(n_components=2)\n",
    "gmm.from_samples(np.array(X_1_2))\n",
    "\n",
    "w = gmm.priors.tolist()\n",
    "means = gmm.means.tolist()\n",
    "cov = make_diagonal(gmm.covariances.tolist())\n",
    "\n",
    "print_gmm_params_fancy(w, means, cov, decimal_places=3)"
   ]
  },
  {
   "cell_type": "code",
   "execution_count": 6,
   "id": "59cd68a0",
   "metadata": {},
   "outputs": [
    {
     "data": {
      "text/html": [
       "<div>\n",
       "<style scoped>\n",
       "    .dataframe tbody tr th:only-of-type {\n",
       "        vertical-align: middle;\n",
       "    }\n",
       "\n",
       "    .dataframe tbody tr th {\n",
       "        vertical-align: top;\n",
       "    }\n",
       "\n",
       "    .dataframe thead th {\n",
       "        text-align: right;\n",
       "    }\n",
       "</style>\n",
       "<table border=\"1\" class=\"dataframe\">\n",
       "  <thead>\n",
       "    <tr style=\"text-align: right;\">\n",
       "      <th></th>\n",
       "      <th>0</th>\n",
       "      <th>1</th>\n",
       "      <th>2</th>\n",
       "      <th>3</th>\n",
       "    </tr>\n",
       "  </thead>\n",
       "  <tbody>\n",
       "    <tr>\n",
       "      <th>count</th>\n",
       "      <td>100.000000</td>\n",
       "      <td>100.000000</td>\n",
       "      <td>100.000000</td>\n",
       "      <td>100.000000</td>\n",
       "    </tr>\n",
       "    <tr>\n",
       "      <th>mean</th>\n",
       "      <td>6.262000</td>\n",
       "      <td>2.872000</td>\n",
       "      <td>4.906000</td>\n",
       "      <td>1.676000</td>\n",
       "    </tr>\n",
       "    <tr>\n",
       "      <th>std</th>\n",
       "      <td>0.662834</td>\n",
       "      <td>0.332751</td>\n",
       "      <td>0.825578</td>\n",
       "      <td>0.424769</td>\n",
       "    </tr>\n",
       "    <tr>\n",
       "      <th>min</th>\n",
       "      <td>4.900000</td>\n",
       "      <td>2.000000</td>\n",
       "      <td>3.000000</td>\n",
       "      <td>1.000000</td>\n",
       "    </tr>\n",
       "    <tr>\n",
       "      <th>25%</th>\n",
       "      <td>5.800000</td>\n",
       "      <td>2.700000</td>\n",
       "      <td>4.375000</td>\n",
       "      <td>1.300000</td>\n",
       "    </tr>\n",
       "    <tr>\n",
       "      <th>50%</th>\n",
       "      <td>6.300000</td>\n",
       "      <td>2.900000</td>\n",
       "      <td>4.900000</td>\n",
       "      <td>1.600000</td>\n",
       "    </tr>\n",
       "    <tr>\n",
       "      <th>75%</th>\n",
       "      <td>6.700000</td>\n",
       "      <td>3.025000</td>\n",
       "      <td>5.525000</td>\n",
       "      <td>2.000000</td>\n",
       "    </tr>\n",
       "    <tr>\n",
       "      <th>max</th>\n",
       "      <td>7.900000</td>\n",
       "      <td>3.800000</td>\n",
       "      <td>6.900000</td>\n",
       "      <td>2.500000</td>\n",
       "    </tr>\n",
       "  </tbody>\n",
       "</table>\n",
       "</div>"
      ],
      "text/plain": [
       "                0           1           2           3\n",
       "count  100.000000  100.000000  100.000000  100.000000\n",
       "mean     6.262000    2.872000    4.906000    1.676000\n",
       "std      0.662834    0.332751    0.825578    0.424769\n",
       "min      4.900000    2.000000    3.000000    1.000000\n",
       "25%      5.800000    2.700000    4.375000    1.300000\n",
       "50%      6.300000    2.900000    4.900000    1.600000\n",
       "75%      6.700000    3.025000    5.525000    2.000000\n",
       "max      7.900000    3.800000    6.900000    2.500000"
      ]
     },
     "execution_count": 6,
     "metadata": {},
     "output_type": "execute_result"
    }
   ],
   "source": [
    "pd.DataFrame(data=X_1_2).describe()"
   ]
  },
  {
   "cell_type": "code",
   "execution_count": 7,
   "id": "e4b05192",
   "metadata": {},
   "outputs": [],
   "source": [
    "X_train, X_test, y_train, y_test = train_test_split(X_1_2, y_1_2, test_size=0.25, random_state=0)"
   ]
  },
  {
   "cell_type": "code",
   "execution_count": 8,
   "id": "ae391a05",
   "metadata": {},
   "outputs": [
    {
     "data": {
      "text/plain": [
       "(0.92, 0.923076923076923)"
      ]
     },
     "execution_count": 8,
     "metadata": {},
     "output_type": "execute_result"
    }
   ],
   "source": [
    "model = LogisticRegression()\n",
    "model.fit(X_train, y_train)\n",
    "\n",
    "accuracy = accuracy_score(y_test, model.predict(X_test))\n",
    "f1 = f1_score(y_test, model.predict(X_test), pos_label=2)\n",
    "accuracy, f1"
   ]
  },
  {
   "cell_type": "code",
   "execution_count": 9,
   "id": "cf84b7d8",
   "metadata": {},
   "outputs": [
    {
     "data": {
      "text/plain": [
       "[[1.2969685652784884], [1.9846085276174643]]"
      ]
     },
     "execution_count": 9,
     "metadata": {},
     "output_type": "execute_result"
    }
   ],
   "source": [
    "auto = AutoMeansInitializer.from_data(X_1_2, 2)\n",
    "auto.create_initial_means('Comp_3', 2)"
   ]
  },
  {
   "cell_type": "code",
   "execution_count": 10,
   "id": "a22179a7",
   "metadata": {},
   "outputs": [],
   "source": [
    "optimizer = GMMOptimizer(\n",
    "    EvolutionaryConfiguration()\n",
    "        .set_mutation_types([\n",
    "            mutation(RandomValueNodeMutator('var', [\n",
    "                [\n",
    "                    [0.0, 0.25],\n",
    "                ],\n",
    "                [\n",
    "                    [0.0, 0.25],\n",
    "                ],\n",
    "            ])),\n",
    "            mutation(RandomValuesSumTo1NodeMutator('w')),\n",
    "        ])\n",
    "        .set_crossover_types([\n",
    "            crossover(ExchangeFieldNodesCrossover('var')),\n",
    "            crossover(RandomIndexExchangeFieldNodesCrossover('var'))\n",
    "        ]),\n",
    "    ProbabilisticGraphShuffler(0.5),\n",
    "    GMMParametersInitializer(\n",
    "        RandomWeightsInitializer(),\n",
    "#         ConstantMeansInitializer({\n",
    "#             'Comp_0': [\n",
    "#                 [6.545],\n",
    "#                 [5.915]\n",
    "#             ],\n",
    "#             'Comp_1': [\n",
    "#                 [2.949],\n",
    "#                 [2.778]\n",
    "#             ],\n",
    "#             'Comp_2': [\n",
    "#                 [5.48],\n",
    "#                 [4.202]\n",
    "#             ],\n",
    "#             'Comp_3': [\n",
    "#                 [1.985],\n",
    "#                 [1.297]\n",
    "#             ]\n",
    "#         }),\n",
    "        AutoMeansInitializer.from_data(X_1_2, 2),\n",
    "        RandomCovariancesInitializer(0, 2)\n",
    "    )\n",
    ")"
   ]
  },
  {
   "cell_type": "code",
   "execution_count": 11,
   "id": "a0809199",
   "metadata": {},
   "outputs": [
    {
     "name": "stderr",
     "output_type": "stream",
     "text": [
      "\r",
      "Generations:   0%|          | 1/500 [00:00<?, ?gen/s]"
     ]
    },
    {
     "name": "stdout",
     "output_type": "stream",
     "text": [
      "2024-04-14 12:57:56,667 - MultiprocessingDispatcher - Number of used CPU's: 6\n"
     ]
    },
    {
     "name": "stderr",
     "output_type": "stream",
     "text": [
      "\r",
      "  0%|          | 0/5000 [00:00<?, ?it/s]\r",
      " 26%|██▌       | 1285/5000 [00:00<00:00, 12845.82it/s]\r",
      " 52%|█████▏    | 2585/5000 [00:00<00:00, 12931.01it/s]"
     ]
    },
    {
     "name": "stdout",
     "output_type": "stream",
     "text": [
      "2024-04-14 12:57:58,744 - MultiprocessingDispatcher - 1 individuals out of 1 in previous population were evaluated successfully.\n",
      "2024-04-14 12:57:58,747 - EvoGraphOptimizer - Generation num: 1 size: 1\n",
      "2024-04-14 12:57:58,747 - EvoGraphOptimizer - Best individuals: HallOfFame archive fitness (1): ['<custom=0.354>']\n"
     ]
    },
    {
     "name": "stderr",
     "output_type": "stream",
     "text": [
      "\r",
      " 78%|███████▊  | 3879/5000 [00:00<00:00, 9917.88it/s] \r",
      "100%|██████████| 5000/5000 [00:00<00:00, 11018.83it/s]\n"
     ]
    },
    {
     "name": "stdout",
     "output_type": "stream",
     "text": [
      "2024-04-14 12:57:58,970 - EvoGraphOptimizer - Exceeded max number of attempts for extending initial graphs, stopping.Current size 1 instead of 10 graphs.\n",
      "2024-04-14 12:57:58,971 - MultiprocessingDispatcher - Number of used CPU's: 6\n",
      "2024-04-14 12:57:58,972 - MultiprocessingDispatcher - 1 individuals out of 1 in previous population were evaluated successfully.\n",
      "2024-04-14 12:57:58,973 - EvoGraphOptimizer - Generation num: 2 size: 1\n",
      "2024-04-14 12:57:58,973 - EvoGraphOptimizer - Best individuals: HallOfFame archive fitness (1): ['<custom=0.354>']\n",
      "2024-04-14 12:57:58,974 - EvoGraphOptimizer - no improvements for 1 iterations\n",
      "2024-04-14 12:57:58,974 - EvoGraphOptimizer - spent time: 0.0 min\n",
      "2024-04-14 12:57:58,975 - EvoGraphOptimizer - Next population size: 20; max graph depth: 100\n",
      "2024-04-14 12:57:58,980 - MultiprocessingDispatcher - Number of used CPU's: 6\n"
     ]
    },
    {
     "name": "stderr",
     "output_type": "stream",
     "text": [
      "100%|██████████| 5000/5000 [00:00<00:00, 11194.41it/s]\n",
      "100%|██████████| 5000/5000 [00:00<00:00, 12499.48it/s]\n",
      "100%|██████████| 5000/5000 [00:00<00:00, 11694.68it/s]\n",
      " 76%|███████▌  | 3793/5000 [00:00<00:00, 12673.62it/s]"
     ]
    },
    {
     "name": "stdout",
     "output_type": "stream",
     "text": [
      "Error message\n",
      "[Errno 17] File exists: '/root/BAMT/Nodes_data/6011'\n",
      "Error message\n",
      "[Errno 17] File exists: '/root/BAMT/Nodes_data/6011'\n"
     ]
    },
    {
     "name": "stderr",
     "output_type": "stream",
     "text": [
      "100%|██████████| 5000/5000 [00:00<00:00, 10483.24it/s]\n",
      "100%|██████████| 5000/5000 [00:00<00:00, 10869.31it/s]\n",
      "100%|██████████| 5000/5000 [00:00<00:00, 10702.05it/s]\n",
      "100%|██████████| 5000/5000 [00:00<00:00, 12333.84it/s]\n",
      "100%|██████████| 5000/5000 [00:00<00:00, 11972.63it/s]\n",
      "100%|██████████| 5000/5000 [00:00<00:00, 12324.72it/s]\n",
      "100%|██████████| 5000/5000 [00:00<00:00, 12373.45it/s]\n",
      "100%|██████████| 5000/5000 [00:00<00:00, 12488.62it/s]\n",
      "100%|██████████| 5000/5000 [00:00<00:00, 12626.58it/s]\n",
      "100%|██████████| 5000/5000 [00:00<00:00, 12232.49it/s]\n",
      "100%|██████████| 5000/5000 [00:00<00:00, 12386.32it/s]\n",
      "100%|██████████| 5000/5000 [00:00<00:00, 12457.15it/s]\n",
      "100%|██████████| 5000/5000 [00:00<00:00, 12586.72it/s]\n",
      "100%|██████████| 5000/5000 [00:00<00:00, 12503.87it/s]\n"
     ]
    },
    {
     "name": "stdout",
     "output_type": "stream",
     "text": [
      "2024-04-14 12:58:02,263 - MultiprocessingDispatcher - 18 individuals out of 20 in previous population were evaluated successfully.\n",
      "2024-04-14 12:58:02,264 - EvoGraphOptimizer - Generation num: 3 size: 19\n",
      "2024-04-14 12:58:02,264 - EvoGraphOptimizer - Best individuals: HallOfFame archive fitness (1): ['<custom=0.116>']\n",
      "2024-04-14 12:58:02,264 - EvoGraphOptimizer - Next population size: 38; max graph depth: 100\n",
      "2024-04-14 12:58:02,272 - MultiprocessingDispatcher - Number of used CPU's: 6\n"
     ]
    },
    {
     "name": "stderr",
     "output_type": "stream",
     "text": [
      "\r",
      " 99%|█████████▉| 4961/5000 [00:00<00:00, 12391.26it/s]\r",
      "100%|██████████| 5000/5000 [00:00<00:00, 12376.32it/s]\n",
      "\r",
      "  0%|          | 0/5000 [00:00<?, ?it/s]\r",
      "  0%|          | 0/5000 [00:00<?, ?it/s]"
     ]
    },
    {
     "name": "stdout",
     "output_type": "stream",
     "text": [
      "Error message\n",
      "[Errno 17] File exists: '/root/BAMT/Nodes_data/6025'\n",
      "Error message\n",
      "[Errno 17] File exists: '/root/BAMT/Nodes_data/6026'\n",
      "Error message\n",
      "[Errno 17] File exists: '/root/BAMT/Nodes_data/6025'\n",
      "Error message\n",
      "[Errno 17] File exists: '/root/BAMT/Nodes_data/6027'\n",
      "Error message\n",
      "[Errno 17] File exists: '/root/BAMT/Nodes_data/6025'\n",
      "Error message\n",
      "[Errno 17] File exists: '/root/BAMT/Nodes_data/6027'\n",
      "Error message\n",
      "[Errno 17] File exists: '/root/BAMT/Nodes_data/6029'\n"
     ]
    },
    {
     "name": "stderr",
     "output_type": "stream",
     "text": [
      "100%|██████████| 5000/5000 [00:00<00:00, 12218.93it/s]\n",
      "100%|██████████| 5000/5000 [00:00<00:00, 12025.25it/s]\n",
      "100%|██████████| 5000/5000 [00:00<00:00, 12581.30it/s]\n",
      "100%|██████████| 5000/5000 [00:00<00:00, 12186.93it/s]\n",
      "100%|██████████| 5000/5000 [00:00<00:00, 11858.19it/s]\n",
      "100%|██████████| 5000/5000 [00:00<00:00, 12342.58it/s]\n",
      "100%|██████████| 5000/5000 [00:00<00:00, 12274.04it/s]\n",
      "100%|██████████| 5000/5000 [00:00<00:00, 12365.34it/s]\n",
      "100%|██████████| 5000/5000 [00:00<00:00, 12562.94it/s]\n",
      "100%|██████████| 5000/5000 [00:00<00:00, 12597.39it/s]\n",
      "100%|██████████| 5000/5000 [00:00<00:00, 12432.47it/s]\n"
     ]
    },
    {
     "name": "stdout",
     "output_type": "stream",
     "text": [
      "2024-04-14 12:58:03,603 - MultiprocessingDispatcher - 11 individuals out of 18 in previous population were evaluated successfully.\n",
      "2024-04-14 12:58:03,604 - EvoGraphOptimizer - Generation num: 4 size: 29\n",
      "2024-04-14 12:58:03,605 - EvoGraphOptimizer - Best individuals: HallOfFame archive fitness (1): ['<custom=0.116>']\n",
      "2024-04-14 12:58:03,605 - EvoGraphOptimizer - no improvements for 1 iterations\n",
      "2024-04-14 12:58:03,606 - EvoGraphOptimizer - spent time: 0.1 min\n",
      "2024-04-14 12:58:03,606 - EvoGraphOptimizer - Next population size: 55; max graph depth: 100\n",
      "2024-04-14 12:58:03,700 - MultiprocessingDispatcher - Number of used CPU's: 6\n",
      "Error message\n",
      "[Errno 17] File exists: '/root/BAMT/Nodes_data/6036'\n",
      "Error message\n",
      "[Errno 17] File exists: '/root/BAMT/Nodes_data/6036'\n"
     ]
    },
    {
     "name": "stderr",
     "output_type": "stream",
     "text": [
      "\r",
      "  0%|          | 0/5000 [00:00<?, ?it/s]\r",
      "  0%|          | 0/5000 [00:00<?, ?it/s]\r",
      " 24%|██▍       | 1192/5000 [00:00<00:00, 11911.04it/s]\r",
      "  0%|          | 0/5000 [00:00<?, ?it/s]\r",
      " 24%|██▍       | 1220/5000 [00:00<00:00, 12195.65it/s]\r",
      "  0%|          | 0/5000 [00:00<?, ?it/s]\r",
      " 48%|████▊     | 2384/5000 [00:00<00:00, 11816.37it/s]"
     ]
    },
    {
     "name": "stdout",
     "output_type": "stream",
     "text": [
      "Error message\n",
      "[Errno 17] File exists: '/root/BAMT/Nodes_data/6036'\n",
      "Error message\n",
      "[Errno 17] File exists: '/root/BAMT/Nodes_data/6038'\n",
      "Error message\n",
      "[Errno 17] File exists: '/root/BAMT/Nodes_data/6036'\n",
      "Error message\n",
      "[Errno 17] File exists: '/root/BAMT/Nodes_data/6038'\n",
      "Error message\n",
      "[Errno 17] File exists: '/root/BAMT/Nodes_data/6039'\n",
      "Error message\n",
      "[Errno 17] File exists: '/root/BAMT/Nodes_data/6036'\n",
      "Error message\n",
      "[Errno 17] File exists: '/root/BAMT/Nodes_data/6038'\n",
      "Error message\n",
      "[Errno 17] File exists: '/root/BAMT/Nodes_data/6039'\n",
      "Error message\n",
      "[Errno 17] File exists: '/root/BAMT/Nodes_data/6040'\n"
     ]
    },
    {
     "name": "stderr",
     "output_type": "stream",
     "text": [
      "100%|██████████| 5000/5000 [00:00<00:00, 11903.94it/s]\n",
      "100%|██████████| 5000/5000 [00:00<00:00, 12371.14it/s]\n",
      "100%|██████████| 5000/5000 [00:00<00:00, 12018.82it/s]\n",
      "100%|██████████| 5000/5000 [00:00<00:00, 12328.22it/s]\n",
      "100%|██████████| 5000/5000 [00:00<00:00, 12207.53it/s]\n",
      "100%|██████████| 5000/5000 [00:00<00:00, 12509.06it/s]\n",
      "100%|██████████| 5000/5000 [00:00<00:00, 12825.82it/s]\n",
      "100%|██████████| 5000/5000 [00:00<00:00, 12257.45it/s]\n",
      "100%|██████████| 5000/5000 [00:00<00:00, 13066.39it/s]\n",
      "100%|██████████| 5000/5000 [00:00<00:00, 12501.41it/s]\n",
      "100%|██████████| 5000/5000 [00:00<00:00, 12454.62it/s]\n",
      "100%|██████████| 5000/5000 [00:00<00:00, 12563.51it/s]\n",
      "100%|██████████| 5000/5000 [00:00<00:00, 12227.00it/s]\n",
      "100%|██████████| 5000/5000 [00:00<00:00, 12598.57it/s]\n",
      "100%|██████████| 5000/5000 [00:00<00:00, 12090.15it/s]\n",
      "100%|██████████| 5000/5000 [00:00<00:00, 12587.78it/s]\n"
     ]
    },
    {
     "name": "stdout",
     "output_type": "stream",
     "text": [
      "2024-04-14 12:58:05,679 - MultiprocessingDispatcher - 17 individuals out of 28 in previous population were evaluated successfully.\n",
      "2024-04-14 12:58:05,680 - EvoGraphOptimizer - Generation num: 5 size: 45\n",
      "2024-04-14 12:58:05,681 - EvoGraphOptimizer - Best individuals: HallOfFame archive fitness (1): ['<custom=0.023>']\n",
      "2024-04-14 12:58:05,681 - EvoGraphOptimizer - Next population size: 55; max graph depth: 100\n",
      "2024-04-14 12:58:05,699 - MultiprocessingDispatcher - Number of used CPU's: 6\n"
     ]
    },
    {
     "name": "stderr",
     "output_type": "stream",
     "text": [
      "\r",
      " 96%|█████████▋| 4814/5000 [00:00<00:00, 11828.24it/s]\r",
      "100%|██████████| 5000/5000 [00:00<00:00, 11877.44it/s]\n"
     ]
    },
    {
     "name": "stdout",
     "output_type": "stream",
     "text": [
      "Error message\n",
      "[Errno 17] File exists: '/root/BAMT/Nodes_data/6053'\n",
      "Error message\n",
      "[Errno 17] File exists: '/root/BAMT/Nodes_data/6053'\n"
     ]
    },
    {
     "name": "stderr",
     "output_type": "stream",
     "text": [
      "\r",
      "  0%|          | 0/5000 [00:00<?, ?it/s]\r",
      "  0%|          | 0/5000 [00:00<?, ?it/s]\r",
      "  0%|          | 0/5000 [00:00<?, ?it/s]\r",
      " 24%|██▍       | 1206/5000 [00:00<00:00, 12052.31it/s]\r",
      "  0%|          | 0/5000 [00:00<?, ?it/s]\r",
      "  0%|          | 0/5000 [00:00<?, ?it/s]\r",
      " 25%|██▌       | 1265/5000 [00:00<00:00, 12643.77it/s]\r",
      " 23%|██▎       | 1171/5000 [00:00<00:00, 11708.06it/s]\r",
      " 49%|████▉     | 2460/5000 [00:00<00:00, 12335.33it/s]"
     ]
    },
    {
     "name": "stdout",
     "output_type": "stream",
     "text": [
      "Error message\n",
      "[Errno 17] File exists: '/root/BAMT/Nodes_data/6053'\n",
      "Error message\n",
      "[Errno 17] File exists: '/root/BAMT/Nodes_data/6054'\n",
      "Error message\n",
      "[Errno 17] File exists: '/root/BAMT/Nodes_data/6053'\n",
      "Error message\n",
      "[Errno 17] File exists: '/root/BAMT/Nodes_data/6055'\n",
      "Error message\n",
      "[Errno 17] File exists: '/root/BAMT/Nodes_data/6053'\n",
      "Error message\n",
      "[Errno 17] File exists: '/root/BAMT/Nodes_data/6055'\n",
      "Error message\n",
      "[Errno 17] File exists: '/root/BAMT/Nodes_data/6057'\n"
     ]
    },
    {
     "name": "stderr",
     "output_type": "stream",
     "text": [
      "100%|██████████| 5000/5000 [00:00<00:00, 12385.99it/s]\n",
      "100%|██████████| 5000/5000 [00:00<00:00, 12801.98it/s]\n",
      "100%|██████████| 5000/5000 [00:00<00:00, 11892.90it/s]\n",
      "100%|██████████| 5000/5000 [00:00<00:00, 12608.13it/s]\n",
      "100%|██████████| 5000/5000 [00:00<00:00, 12303.58it/s]\n",
      "100%|██████████| 5000/5000 [00:00<00:00, 13251.58it/s]\n",
      "100%|██████████| 5000/5000 [00:00<00:00, 12036.54it/s]\n",
      "100%|██████████| 5000/5000 [00:00<00:00, 11969.62it/s]\n",
      "100%|██████████| 5000/5000 [00:00<00:00, 12328.23it/s]\n",
      "100%|██████████| 5000/5000 [00:00<00:00, 12517.43it/s]\n",
      "100%|██████████| 5000/5000 [00:00<00:00, 12128.62it/s]\n",
      "100%|██████████| 5000/5000 [00:00<00:00, 12215.93it/s]\n",
      "100%|██████████| 5000/5000 [00:00<00:00, 12981.19it/s]\n",
      "100%|██████████| 5000/5000 [00:00<00:00, 12838.18it/s]\n",
      "100%|██████████| 5000/5000 [00:00<00:00, 12795.44it/s]\n",
      "100%|██████████| 5000/5000 [00:00<00:00, 12355.30it/s]\n",
      "100%|██████████| 5000/5000 [00:00<00:00, 12219.34it/s]\n",
      "100%|██████████| 5000/5000 [00:00<00:00, 11932.93it/s]\n",
      "100%|██████████| 5000/5000 [00:00<00:00, 12704.04it/s]\n",
      "100%|██████████| 5000/5000 [00:00<00:00, 12311.50it/s]\n",
      "100%|██████████| 5000/5000 [00:00<00:00, 12486.33it/s]\n",
      "100%|██████████| 5000/5000 [00:00<00:00, 11808.59it/s]\n",
      "100%|██████████| 5000/5000 [00:00<00:00, 12254.55it/s]\n",
      "100%|██████████| 5000/5000 [00:00<00:00, 12384.90it/s]\n",
      "  0%|          | 0/5000 [00:00<?, ?it/s]"
     ]
    },
    {
     "name": "stdout",
     "output_type": "stream",
     "text": [
      "Error message\n",
      "[Errno 17] File exists: '/root/BAMT/Nodes_data/6078'\n"
     ]
    },
    {
     "name": "stderr",
     "output_type": "stream",
     "text": [
      "100%|██████████| 5000/5000 [00:00<00:00, 12665.84it/s]\n",
      "100%|██████████| 5000/5000 [00:00<00:00, 11928.72it/s]\n",
      "100%|██████████| 5000/5000 [00:00<00:00, 12230.89it/s]\n",
      "100%|██████████| 5000/5000 [00:00<00:00, 13107.27it/s]\n",
      "100%|██████████| 5000/5000 [00:00<00:00, 12561.85it/s]\n",
      "100%|██████████| 5000/5000 [00:00<00:00, 12137.17it/s]\n",
      "100%|██████████| 5000/5000 [00:00<00:00, 12439.28it/s]\n",
      "100%|██████████| 5000/5000 [00:00<00:00, 12262.50it/s]\n",
      "100%|██████████| 5000/5000 [00:00<00:00, 12182.08it/s]\n",
      "100%|██████████| 5000/5000 [00:00<00:00, 11954.12it/s]\n"
     ]
    },
    {
     "name": "stdout",
     "output_type": "stream",
     "text": [
      "2024-04-14 12:58:09,368 - MultiprocessingDispatcher - 34 individuals out of 44 in previous population were evaluated successfully.\n",
      "2024-04-14 12:58:09,371 - EvoGraphOptimizer - Generation num: 6 size: 55\n",
      "2024-04-14 12:58:09,372 - EvoGraphOptimizer - Best individuals: HallOfFame archive fitness (1): ['<custom=0.005>']\n",
      "2024-04-14 12:58:09,372 - EvoGraphOptimizer - Next population size: 55; max graph depth: 100\n",
      "2024-04-14 12:58:09,394 - MultiprocessingDispatcher - Number of used CPU's: 6\n",
      "Error message\n",
      "[Errno 17] File exists: '/root/BAMT/Nodes_data/6087'\n",
      "Error message\n",
      "[Errno 17] File exists: '/root/BAMT/Nodes_data/6087'\n",
      "Error message\n",
      "[Errno 17] File exists: '/root/BAMT/Nodes_data/6087'\n"
     ]
    },
    {
     "name": "stderr",
     "output_type": "stream",
     "text": [
      "\r",
      "  0%|          | 0/5000 [00:00<?, ?it/s]\r",
      "  0%|          | 0/5000 [00:00<?, ?it/s]\r",
      "  0%|          | 0/5000 [00:00<?, ?it/s]\r",
      "  0%|          | 0/5000 [00:00<?, ?it/s]\r",
      " 24%|██▍       | 1196/5000 [00:00<00:00, 11957.39it/s]\r",
      "  0%|          | 0/5000 [00:00<?, ?it/s]\r",
      " 24%|██▍       | 1211/5000 [00:00<00:00, 12105.02it/s]\r",
      " 24%|██▍       | 1223/5000 [00:00<00:00, 12215.71it/s]\r",
      " 24%|██▍       | 1201/5000 [00:00<00:00, 12008.27it/s]\r",
      " 48%|████▊     | 2392/5000 [00:00<00:00, 11920.98it/s]"
     ]
    },
    {
     "name": "stdout",
     "output_type": "stream",
     "text": [
      "Error message\n",
      "[Errno 17] File exists: '/root/BAMT/Nodes_data/6087'\n",
      "Error message\n",
      "[Errno 17] File exists: '/root/BAMT/Nodes_data/6090'\n",
      "Error message\n",
      "[Errno 17] File exists: '/root/BAMT/Nodes_data/6087'\n",
      "Error message\n",
      "[Errno 17] File exists: '/root/BAMT/Nodes_data/6090'\n",
      "Error message\n",
      "[Errno 17] File exists: '/root/BAMT/Nodes_data/6091'\n"
     ]
    },
    {
     "name": "stderr",
     "output_type": "stream",
     "text": [
      "100%|██████████| 5000/5000 [00:00<00:00, 11871.07it/s]\n",
      "100%|██████████| 5000/5000 [00:00<00:00, 12205.15it/s]\n",
      "100%|██████████| 5000/5000 [00:00<00:00, 12327.10it/s]\n",
      "100%|██████████| 5000/5000 [00:00<00:00, 12037.18it/s]\n",
      "100%|██████████| 5000/5000 [00:00<00:00, 11982.92it/s]\n",
      "100%|██████████| 5000/5000 [00:00<00:00, 13117.42it/s]\n",
      "100%|██████████| 5000/5000 [00:00<00:00, 12389.05it/s]\n",
      "100%|██████████| 5000/5000 [00:00<00:00, 12452.30it/s]\n",
      "100%|██████████| 5000/5000 [00:00<00:00, 12179.33it/s]\n",
      "100%|██████████| 5000/5000 [00:00<00:00, 12810.88it/s]\n",
      "100%|██████████| 5000/5000 [00:00<00:00, 12453.17it/s]\n",
      "100%|██████████| 5000/5000 [00:00<00:00, 12752.56it/s]\n",
      "100%|██████████| 5000/5000 [00:00<00:00, 12080.10it/s]\n",
      "100%|██████████| 5000/5000 [00:00<00:00, 12235.73it/s]\n",
      "100%|██████████| 5000/5000 [00:00<00:00, 11917.14it/s]\n",
      "100%|██████████| 5000/5000 [00:00<00:00, 11988.29it/s]\n",
      "100%|██████████| 5000/5000 [00:00<00:00, 12278.92it/s]\n",
      "100%|██████████| 5000/5000 [00:00<00:00, 12145.05it/s]\n",
      "100%|██████████| 5000/5000 [00:00<00:00, 12383.92it/s]\n",
      "100%|██████████| 5000/5000 [00:00<00:00, 12162.04it/s]\n",
      "100%|██████████| 5000/5000 [00:00<00:00, 13127.93it/s]\n",
      "100%|██████████| 5000/5000 [00:00<00:00, 12489.65it/s]\n",
      "100%|██████████| 5000/5000 [00:00<00:00, 13106.22it/s]\n",
      "100%|██████████| 5000/5000 [00:00<00:00, 12118.89it/s]\n",
      " 72%|███████▏  | 3604/5000 [00:00<00:00, 12052.86it/s]"
     ]
    },
    {
     "name": "stdout",
     "output_type": "stream",
     "text": [
      "Error message\n",
      "[Errno 17] File exists: '/root/BAMT/Nodes_data/6113'\n"
     ]
    },
    {
     "name": "stderr",
     "output_type": "stream",
     "text": [
      "100%|██████████| 5000/5000 [00:00<00:00, 12491.11it/s]\n",
      "100%|██████████| 5000/5000 [00:00<00:00, 12047.42it/s]\n",
      "100%|██████████| 5000/5000 [00:00<00:00, 12538.74it/s]\n",
      "100%|██████████| 5000/5000 [00:00<00:00, 12166.89it/s]\n",
      "100%|██████████| 5000/5000 [00:00<00:00, 11820.03it/s]\n",
      "100%|██████████| 5000/5000 [00:00<00:00, 11951.16it/s]\n",
      "100%|██████████| 5000/5000 [00:00<00:00, 12872.48it/s]\n",
      "100%|██████████| 5000/5000 [00:00<00:00, 12112.75it/s]\n",
      "100%|██████████| 5000/5000 [00:00<00:00, 12142.89it/s]\n",
      "100%|██████████| 5000/5000 [00:00<00:00, 12016.78it/s]\n",
      "100%|██████████| 5000/5000 [00:00<00:00, 12543.03it/s]\n",
      "100%|██████████| 5000/5000 [00:00<00:00, 12194.15it/s]\n",
      "100%|██████████| 5000/5000 [00:00<00:00, 12233.40it/s]\n",
      "100%|██████████| 5000/5000 [00:00<00:00, 12726.50it/s]\n",
      " 99%|█████████▉| 4971/5000 [00:00<00:00, 12385.14it/s]\n",
      "100%|██████████| 5000/5000 [00:00<00:00, 12360.16it/s]\n",
      "100%|██████████| 5000/5000 [00:00<00:00, 12150.20it/s]\n",
      "100%|██████████| 5000/5000 [00:00<00:00, 12410.34it/s]\n",
      "100%|██████████| 5000/5000 [00:00<00:00, 12201.25it/s]\n",
      "100%|██████████| 5000/5000 [00:00<00:00, 12341.00it/s]\n"
     ]
    },
    {
     "name": "stdout",
     "output_type": "stream",
     "text": [
      "2024-04-14 12:58:14,286 - MultiprocessingDispatcher - 45 individuals out of 54 in previous population were evaluated successfully.\n",
      "2024-04-14 12:58:14,289 - EvoGraphOptimizer - Generation num: 7 size: 55\n",
      "2024-04-14 12:58:14,290 - EvoGraphOptimizer - Best individuals: HallOfFame archive fitness (1): ['<custom=0.002>']\n",
      "2024-04-14 12:58:14,290 - EvoGraphOptimizer - Next population size: 55; max graph depth: 100\n",
      "2024-04-14 12:58:14,315 - MultiprocessingDispatcher - Number of used CPU's: 6\n"
     ]
    },
    {
     "name": "stderr",
     "output_type": "stream",
     "text": [
      "\r",
      " 98%|█████████▊| 4914/5000 [00:00<00:00, 12113.59it/s]\r",
      "100%|██████████| 5000/5000 [00:00<00:00, 12133.99it/s]\n"
     ]
    },
    {
     "name": "stdout",
     "output_type": "stream",
     "text": [
      "Error message\n",
      "[Errno 17] File exists: '/root/BAMT/Nodes_data/6132'\n",
      "Error message\n",
      "[Errno 17] File exists: '/root/BAMT/Nodes_data/6132'\n"
     ]
    },
    {
     "name": "stderr",
     "output_type": "stream",
     "text": [
      "\r",
      "  0%|          | 0/5000 [00:00<?, ?it/s]\r",
      "  0%|          | 0/5000 [00:00<?, ?it/s]\r",
      "  0%|          | 0/5000 [00:00<?, ?it/s]\r",
      " 24%|██▍       | 1209/5000 [00:00<00:00, 12084.11it/s]\r",
      "  0%|          | 0/5000 [00:00<?, ?it/s]\r",
      "  0%|          | 0/5000 [00:00<?, ?it/s]\r",
      "  0%|          | 0/5000 [00:00<?, ?it/s]\r",
      " 23%|██▎       | 1148/5000 [00:00<00:00, 11475.85it/s]\r",
      " 24%|██▍       | 1207/5000 [00:00<00:00, 12062.99it/s]\r",
      " 48%|████▊     | 2418/5000 [00:00<00:00, 12050.17it/s]"
     ]
    },
    {
     "name": "stdout",
     "output_type": "stream",
     "text": [
      "Error message\n",
      "[Errno 17] File exists: '/root/BAMT/Nodes_data/6132'\n",
      "Error message\n",
      "[Errno 17] File exists: '/root/BAMT/Nodes_data/6133'\n",
      "Error message\n",
      "[Errno 17] File exists: '/root/BAMT/Nodes_data/6132'\n",
      "Error message\n",
      "[Errno 17] File exists: '/root/BAMT/Nodes_data/6134'\n",
      "Error message\n",
      "[Errno 17] File exists: '/root/BAMT/Nodes_data/6132'\n",
      "Error message\n",
      "[Errno 17] File exists: '/root/BAMT/Nodes_data/6134'\n"
     ]
    },
    {
     "name": "stderr",
     "output_type": "stream",
     "text": [
      "100%|██████████| 5000/5000 [00:00<00:00, 12197.20it/s]\n",
      "100%|██████████| 5000/5000 [00:00<00:00, 12565.17it/s]\n",
      "100%|██████████| 5000/5000 [00:00<00:00, 12193.98it/s]\n",
      "100%|██████████| 5000/5000 [00:00<00:00, 12461.21it/s]\n",
      "100%|██████████| 5000/5000 [00:00<00:00, 12093.34it/s]\n",
      "100%|██████████| 5000/5000 [00:00<00:00, 12022.63it/s]\n",
      " 48%|████▊     | 2390/5000 [00:00<00:00, 11951.23it/s]"
     ]
    },
    {
     "name": "stdout",
     "output_type": "stream",
     "text": [
      "Error message\n",
      "[Errno 17] File exists: '/root/BAMT/Nodes_data/6141'\n"
     ]
    },
    {
     "name": "stderr",
     "output_type": "stream",
     "text": [
      "100%|██████████| 5000/5000 [00:00<00:00, 12647.98it/s]\n",
      "100%|██████████| 5000/5000 [00:00<00:00, 12017.44it/s]\n",
      "100%|██████████| 5000/5000 [00:00<00:00, 11857.88it/s]\n",
      "100%|██████████| 5000/5000 [00:00<00:00, 12123.53it/s]\n",
      "100%|██████████| 5000/5000 [00:00<00:00, 11980.24it/s]\n",
      "100%|██████████| 5000/5000 [00:00<00:00, 12012.65it/s]\n",
      "100%|██████████| 5000/5000 [00:00<00:00, 12571.23it/s]\n",
      " 26%|██▌       | 1286/5000 [00:00<00:00, 12852.99it/s]"
     ]
    },
    {
     "name": "stdout",
     "output_type": "stream",
     "text": [
      "Error message\n",
      "[Errno 17] File exists: '/root/BAMT/Nodes_data/6146'\n",
      "Error message\n",
      "[Errno 17] File exists: '/root/BAMT/Nodes_data/6148'\n"
     ]
    },
    {
     "name": "stderr",
     "output_type": "stream",
     "text": [
      "100%|██████████| 5000/5000 [00:00<00:00, 12027.18it/s]\n",
      "100%|██████████| 5000/5000 [00:00<00:00, 12011.49it/s]\n",
      "100%|██████████| 5000/5000 [00:00<00:00, 12587.83it/s]\n",
      "100%|██████████| 5000/5000 [00:00<00:00, 12015.63it/s]\n",
      "100%|██████████| 5000/5000 [00:00<00:00, 12138.59it/s]\n",
      "100%|██████████| 5000/5000 [00:00<00:00, 12380.87it/s]\n",
      "100%|██████████| 5000/5000 [00:00<00:00, 12166.16it/s]\n",
      "100%|██████████| 5000/5000 [00:00<00:00, 12146.20it/s]\n",
      "100%|██████████| 5000/5000 [00:00<00:00, 11918.62it/s]\n",
      "100%|██████████| 5000/5000 [00:00<00:00, 11942.62it/s]\n",
      "100%|██████████| 5000/5000 [00:00<00:00, 11982.40it/s]\n",
      "100%|██████████| 5000/5000 [00:00<00:00, 12139.63it/s]\n",
      "100%|██████████| 5000/5000 [00:00<00:00, 12273.86it/s]\n",
      "100%|██████████| 5000/5000 [00:00<00:00, 12198.94it/s]\n",
      "100%|██████████| 5000/5000 [00:00<00:00, 12157.28it/s]\n",
      "100%|██████████| 5000/5000 [00:00<00:00, 11894.57it/s]\n",
      "100%|██████████| 5000/5000 [00:00<00:00, 12293.81it/s]\n",
      "100%|██████████| 5000/5000 [00:00<00:00, 12266.56it/s]\n",
      "100%|██████████| 5000/5000 [00:00<00:00, 12483.37it/s]\n",
      "100%|██████████| 5000/5000 [00:00<00:00, 12465.51it/s]\n",
      "100%|██████████| 5000/5000 [00:00<00:00, 12838.56it/s]\n",
      "100%|██████████| 5000/5000 [00:00<00:00, 12876.81it/s]\n",
      "100%|██████████| 5000/5000 [00:00<00:00, 13067.28it/s]\n",
      "100%|██████████| 5000/5000 [00:00<00:00, 12323.88it/s]\n",
      "100%|██████████| 5000/5000 [00:00<00:00, 11731.12it/s]\n",
      "100%|██████████| 5000/5000 [00:00<00:00, 12900.03it/s]\n",
      "100%|██████████| 5000/5000 [00:00<00:00, 11793.67it/s]\n",
      "100%|██████████| 5000/5000 [00:00<00:00, 11935.50it/s]\n",
      "100%|██████████| 5000/5000 [00:00<00:00, 12039.67it/s]\n",
      "100%|██████████| 5000/5000 [00:00<00:00, 11736.99it/s]\n"
     ]
    },
    {
     "name": "stdout",
     "output_type": "stream",
     "text": [
      "2024-04-14 12:58:18,965 - MultiprocessingDispatcher - 43 individuals out of 54 in previous population were evaluated successfully.\n",
      "2024-04-14 12:58:18,969 - EvoGraphOptimizer - Generation num: 8 size: 55\n",
      "2024-04-14 12:58:18,969 - EvoGraphOptimizer - Best individuals: HallOfFame archive fitness (1): ['<custom=0.002>']\n",
      "2024-04-14 12:58:18,970 - EvoGraphOptimizer - no improvements for 1 iterations\n",
      "2024-04-14 12:58:18,970 - EvoGraphOptimizer - spent time: 0.4 min\n",
      "2024-04-14 12:58:18,971 - EvoGraphOptimizer - Next population size: 55; max graph depth: 100\n",
      "2024-04-14 12:58:18,997 - MultiprocessingDispatcher - Number of used CPU's: 6\n",
      "Error message\n",
      "[Errno 17] File exists: '/root/BAMT/Nodes_data/6175'\n"
     ]
    },
    {
     "name": "stderr",
     "output_type": "stream",
     "text": [
      "\r",
      "  0%|          | 0/5000 [00:00<?, ?it/s]\r",
      "  0%|          | 0/5000 [00:00<?, ?it/s]\r",
      " 24%|██▎       | 1180/5000 [00:00<00:00, 11791.35it/s]\r",
      "  0%|          | 0/5000 [00:00<?, ?it/s]\r",
      "  0%|          | 0/5000 [00:00<?, ?it/s]\r",
      " 23%|██▎       | 1162/5000 [00:00<00:00, 11612.23it/s]\r",
      " 47%|████▋     | 2366/5000 [00:00<00:00, 11829.92it/s]"
     ]
    },
    {
     "name": "stdout",
     "output_type": "stream",
     "text": [
      "Error message\n",
      "[Errno 17] File exists: '/root/BAMT/Nodes_data/6175'\n",
      "Error message\n",
      "[Errno 17] File exists: '/root/BAMT/Nodes_data/6176'\n",
      "Error message\n",
      "[Errno 17] File exists: '/root/BAMT/Nodes_data/6175'\n",
      "Error message\n",
      "[Errno 17] File exists: '/root/BAMT/Nodes_data/6176'\n",
      "Error message\n",
      "[Errno 17] File exists: '/root/BAMT/Nodes_data/6175'\n",
      "Error message\n",
      "[Errno 17] File exists: '/root/BAMT/Nodes_data/6176'\n",
      "Error message\n",
      "[Errno 17] File exists: '/root/BAMT/Nodes_data/6178'\n",
      "Error message\n",
      "[Errno 17] File exists: '/root/BAMT/Nodes_data/6175'\n",
      "Error message\n",
      "[Errno 17] File exists: '/root/BAMT/Nodes_data/6176'\n",
      "Error message\n",
      "[Errno 17] File exists: '/root/BAMT/Nodes_data/6178'\n",
      "Error message\n",
      "[Errno 17] File exists: '/root/BAMT/Nodes_data/6179'\n"
     ]
    },
    {
     "name": "stderr",
     "output_type": "stream",
     "text": [
      "100%|██████████| 5000/5000 [00:00<00:00, 12052.56it/s]\n",
      "100%|██████████| 5000/5000 [00:00<00:00, 11913.93it/s]\n",
      "100%|██████████| 5000/5000 [00:00<00:00, 12529.62it/s]\n",
      "100%|██████████| 5000/5000 [00:00<00:00, 12258.74it/s]\n",
      "100%|██████████| 5000/5000 [00:00<00:00, 12808.68it/s]\n",
      "100%|██████████| 5000/5000 [00:00<00:00, 11997.65it/s]\n",
      "100%|██████████| 5000/5000 [00:00<00:00, 12438.17it/s]\n",
      " 73%|███████▎  | 3636/5000 [00:00<00:00, 12160.42it/s]"
     ]
    },
    {
     "name": "stdout",
     "output_type": "stream",
     "text": [
      "Error message\n",
      "[Errno 17] File exists: '/root/BAMT/Nodes_data/6183'\n",
      "Error message\n",
      "[Errno 17] File exists: '/root/BAMT/Nodes_data/6184'\n"
     ]
    },
    {
     "name": "stderr",
     "output_type": "stream",
     "text": [
      "100%|██████████| 5000/5000 [00:00<00:00, 11752.10it/s]\n",
      "100%|██████████| 5000/5000 [00:00<00:00, 12070.74it/s]\n",
      "100%|██████████| 5000/5000 [00:00<00:00, 12071.77it/s]\n",
      "100%|██████████| 5000/5000 [00:00<00:00, 12066.38it/s]\n",
      "100%|██████████| 5000/5000 [00:00<00:00, 12196.26it/s]\n",
      "100%|██████████| 5000/5000 [00:00<00:00, 12586.50it/s]\n",
      "100%|██████████| 5000/5000 [00:00<00:00, 12455.67it/s]\n",
      "100%|██████████| 5000/5000 [00:00<00:00, 13040.06it/s]\n",
      "100%|██████████| 5000/5000 [00:00<00:00, 11997.01it/s]\n",
      "100%|██████████| 5000/5000 [00:00<00:00, 12021.53it/s]\n",
      "100%|██████████| 5000/5000 [00:00<00:00, 12738.32it/s]\n",
      "100%|██████████| 5000/5000 [00:00<00:00, 12119.86it/s]\n",
      "100%|██████████| 5000/5000 [00:00<00:00, 12302.55it/s]\n",
      "100%|██████████| 5000/5000 [00:00<00:00, 11960.05it/s]\n",
      "100%|██████████| 5000/5000 [00:00<00:00, 12172.47it/s]\n",
      "100%|██████████| 5000/5000 [00:00<00:00, 12522.73it/s]\n",
      "100%|██████████| 5000/5000 [00:00<00:00, 12805.85it/s]\n",
      "100%|██████████| 5000/5000 [00:00<00:00, 12724.34it/s]\n",
      "100%|██████████| 5000/5000 [00:00<00:00, 12088.34it/s]\n",
      "100%|██████████| 5000/5000 [00:00<00:00, 12134.62it/s]\n",
      "100%|██████████| 5000/5000 [00:00<00:00, 11998.95it/s]\n",
      "100%|██████████| 5000/5000 [00:00<00:00, 12058.58it/s]\n",
      "100%|██████████| 5000/5000 [00:00<00:00, 12260.16it/s]\n",
      "100%|██████████| 5000/5000 [00:00<00:00, 12150.42it/s]\n",
      "100%|██████████| 5000/5000 [00:00<00:00, 11855.56it/s]\n",
      "100%|██████████| 5000/5000 [00:00<00:00, 11991.01it/s]\n",
      "100%|██████████| 5000/5000 [00:00<00:00, 11715.29it/s]\n",
      "100%|██████████| 5000/5000 [00:00<00:00, 11732.02it/s]\n",
      "100%|██████████| 5000/5000 [00:00<00:00, 12036.48it/s]\n",
      "100%|██████████| 5000/5000 [00:00<00:00, 12291.70it/s]\n",
      "100%|██████████| 5000/5000 [00:00<00:00, 12102.92it/s]\n",
      "100%|██████████| 5000/5000 [00:00<00:00, 11918.72it/s]\n",
      "100%|██████████| 5000/5000 [00:00<00:00, 11795.64it/s]\n"
     ]
    },
    {
     "name": "stdout",
     "output_type": "stream",
     "text": [
      "2024-04-14 12:58:23,533 - MultiprocessingDispatcher - 40 individuals out of 54 in previous population were evaluated successfully.\n",
      "2024-04-14 12:58:23,537 - EvoGraphOptimizer - Generation num: 9 size: 55\n",
      "2024-04-14 12:58:23,537 - EvoGraphOptimizer - Best individuals: HallOfFame archive fitness (1): ['<custom=0.001>']\n",
      "2024-04-14 12:58:23,537 - EvoGraphOptimizer - Next population size: 55; max graph depth: 100\n",
      "2024-04-14 12:58:23,560 - MultiprocessingDispatcher - Number of used CPU's: 6\n",
      "Error message\n",
      "[Errno 17] File exists: '/root/BAMT/Nodes_data/6215'\n",
      "Error message\n",
      "[Errno 17] File exists: '/root/BAMT/Nodes_data/6216'\n",
      "Error message\n",
      "[Errno 17] File exists: '/root/BAMT/Nodes_data/6216'\n"
     ]
    },
    {
     "name": "stderr",
     "output_type": "stream",
     "text": [
      "\r",
      "  0%|          | 0/5000 [00:00<?, ?it/s]\r",
      "  0%|          | 0/5000 [00:00<?, ?it/s]\r",
      "  0%|          | 0/5000 [00:00<?, ?it/s]\r",
      "  0%|          | 0/5000 [00:00<?, ?it/s]\r",
      "  0%|          | 0/5000 [00:00<?, ?it/s]\r",
      " 26%|██▌       | 1285/5000 [00:00<00:00, 12849.58it/s]\r",
      " 24%|██▎       | 1181/5000 [00:00<00:00, 11801.88it/s]\r",
      "  0%|          | 0/5000 [00:00<?, ?it/s]\r",
      " 25%|██▍       | 1229/5000 [00:00<00:00, 12280.03it/s]\r",
      " 25%|██▍       | 1246/5000 [00:00<00:00, 12451.52it/s]\r",
      " 24%|██▍       | 1203/5000 [00:00<00:00, 12024.85it/s]\r",
      " 51%|█████▏    | 2570/5000 [00:00<00:00, 12829.16it/s]"
     ]
    },
    {
     "name": "stdout",
     "output_type": "stream",
     "text": [
      "Error message\n",
      "[Errno 17] File exists: '/root/BAMT/Nodes_data/6215'\n",
      "Error message\n",
      "[Errno 17] File exists: '/root/BAMT/Nodes_data/6218'\n"
     ]
    },
    {
     "name": "stderr",
     "output_type": "stream",
     "text": [
      "100%|██████████| 5000/5000 [00:00<00:00, 12843.51it/s]\n",
      "100%|██████████| 5000/5000 [00:00<00:00, 12220.47it/s]\n",
      "100%|██████████| 5000/5000 [00:00<00:00, 12572.29it/s]\n",
      "100%|██████████| 5000/5000 [00:00<00:00, 12129.80it/s]\n",
      "100%|██████████| 5000/5000 [00:00<00:00, 12091.52it/s]\n",
      "100%|██████████| 5000/5000 [00:00<00:00, 12068.83it/s]\n",
      "100%|██████████| 5000/5000 [00:00<00:00, 11803.17it/s]\n",
      "100%|██████████| 5000/5000 [00:00<00:00, 11807.16it/s]\n",
      "100%|██████████| 5000/5000 [00:00<00:00, 12579.22it/s]\n",
      "100%|██████████| 5000/5000 [00:00<00:00, 11901.73it/s]\n",
      "100%|██████████| 5000/5000 [00:00<00:00, 12348.95it/s]\n",
      "100%|██████████| 5000/5000 [00:00<00:00, 12000.21it/s]\n",
      "100%|██████████| 5000/5000 [00:00<00:00, 12174.46it/s]\n",
      "100%|██████████| 5000/5000 [00:00<00:00, 12235.10it/s]\n",
      "100%|██████████| 5000/5000 [00:00<00:00, 11941.91it/s]\n",
      "100%|██████████| 5000/5000 [00:00<00:00, 12083.79it/s]\n",
      "100%|██████████| 5000/5000 [00:00<00:00, 12330.96it/s]\n",
      "100%|██████████| 5000/5000 [00:00<00:00, 12334.16it/s]\n",
      "100%|██████████| 5000/5000 [00:00<00:00, 11588.31it/s]\n",
      "100%|██████████| 5000/5000 [00:00<00:00, 11770.83it/s]\n",
      "100%|██████████| 5000/5000 [00:00<00:00, 12664.62it/s]\n",
      "100%|██████████| 5000/5000 [00:00<00:00, 11886.16it/s]\n",
      "100%|██████████| 5000/5000 [00:00<00:00, 12187.34it/s]\n",
      "100%|██████████| 5000/5000 [00:00<00:00, 12066.18it/s]\n",
      "100%|██████████| 5000/5000 [00:00<00:00, 11832.17it/s]\n",
      "100%|██████████| 5000/5000 [00:00<00:00, 12116.59it/s]\n",
      "100%|██████████| 5000/5000 [00:00<00:00, 12049.95it/s]\n",
      "100%|██████████| 5000/5000 [00:00<00:00, 11952.81it/s]\n",
      "100%|██████████| 5000/5000 [00:00<00:00, 12840.01it/s]\n",
      "100%|██████████| 5000/5000 [00:00<00:00, 12010.86it/s]\n",
      "100%|██████████| 5000/5000 [00:00<00:00, 12051.61it/s]\n",
      "100%|██████████| 5000/5000 [00:00<00:00, 12247.41it/s]\n",
      "100%|██████████| 5000/5000 [00:00<00:00, 11885.16it/s]\n",
      "100%|██████████| 5000/5000 [00:00<00:00, 12150.58it/s]\n",
      "100%|██████████| 5000/5000 [00:00<00:00, 12078.00it/s]\n",
      "100%|██████████| 5000/5000 [00:00<00:00, 12757.72it/s]\n",
      " 72%|███████▏  | 3593/5000 [00:00<00:00, 12002.00it/s]"
     ]
    },
    {
     "name": "stdout",
     "output_type": "stream",
     "text": [
      "Error message\n",
      "[Errno 17] File exists: '/root/BAMT/Nodes_data/6255'\n"
     ]
    },
    {
     "name": "stderr",
     "output_type": "stream",
     "text": [
      "100%|██████████| 5000/5000 [00:00<00:00, 12040.54it/s]\n",
      "100%|██████████| 5000/5000 [00:00<00:00, 12767.59it/s]\n",
      "100%|██████████| 5000/5000 [00:00<00:00, 12041.74it/s]\n",
      "100%|██████████| 5000/5000 [00:00<00:00, 11773.09it/s]\n",
      "100%|██████████| 5000/5000 [00:00<00:00, 12210.48it/s]\n",
      "100%|██████████| 5000/5000 [00:00<00:00, 12338.08it/s]\n",
      "100%|██████████| 5000/5000 [00:00<00:00, 12025.82it/s]\n",
      "100%|██████████| 5000/5000 [00:00<00:00, 12157.01it/s]\n",
      "100%|██████████| 5000/5000 [00:00<00:00, 12228.07it/s]\n",
      "100%|██████████| 5000/5000 [00:00<00:00, 12327.25it/s]\n",
      "100%|██████████| 5000/5000 [00:00<00:00, 12393.48it/s]\n",
      "100%|██████████| 5000/5000 [00:00<00:00, 11819.58it/s]\n"
     ]
    },
    {
     "name": "stdout",
     "output_type": "stream",
     "text": [
      "2024-04-14 12:58:28,637 - MultiprocessingDispatcher - 48 individuals out of 54 in previous population were evaluated successfully.\n",
      "2024-04-14 12:58:28,641 - EvoGraphOptimizer - Generation num: 10 size: 55\n",
      "2024-04-14 12:58:28,641 - EvoGraphOptimizer - Best individuals: HallOfFame archive fitness (1): ['<custom=0.000>']\n",
      "2024-04-14 12:58:28,642 - EvoGraphOptimizer - Next population size: 55; max graph depth: 100\n",
      "2024-04-14 12:58:28,665 - MultiprocessingDispatcher - Number of used CPU's: 6\n",
      "Error message\n",
      "[Errno 17] File exists: '/root/BAMT/Nodes_data/6263'\n",
      "Error message\n",
      "[Errno 17] File exists: '/root/BAMT/Nodes_data/6263'\n",
      "Error message\n",
      "[Errno 17] File exists: '/root/BAMT/Nodes_data/6263'\n"
     ]
    },
    {
     "name": "stderr",
     "output_type": "stream",
     "text": [
      "\r",
      "  0%|          | 0/5000 [00:00<?, ?it/s]\r",
      "  0%|          | 0/5000 [00:00<?, ?it/s]\r",
      "  0%|          | 0/5000 [00:00<?, ?it/s]\r",
      "  0%|          | 0/5000 [00:00<?, ?it/s]\r",
      " 25%|██▍       | 1248/5000 [00:00<00:00, 12474.81it/s]\r",
      " 24%|██▎       | 1177/5000 [00:00<00:00, 11760.11it/s]\r",
      "  0%|          | 0/5000 [00:00<?, ?it/s]\r",
      " 24%|██▍       | 1194/5000 [00:00<00:00, 11932.19it/s]\r",
      " 24%|██▍       | 1201/5000 [00:00<00:00, 12000.66it/s]"
     ]
    },
    {
     "name": "stdout",
     "output_type": "stream",
     "text": [
      "Error message\n",
      "[Errno 17] File exists: '/root/BAMT/Nodes_data/6263'\n",
      "Error message\n",
      "[Errno 17] File exists: '/root/BAMT/Nodes_data/6266'\n",
      "Error message\n",
      "[Errno 17] File exists: '/root/BAMT/Nodes_data/6263'\n",
      "Error message\n",
      "[Errno 17] File exists: '/root/BAMT/Nodes_data/6266'\n",
      "Error message\n",
      "[Errno 17] File exists: '/root/BAMT/Nodes_data/6267'\n"
     ]
    },
    {
     "name": "stderr",
     "output_type": "stream",
     "text": [
      "100%|██████████| 5000/5000 [00:00<00:00, 12363.37it/s]\n",
      "100%|██████████| 5000/5000 [00:00<00:00, 11937.61it/s]\n",
      "100%|██████████| 5000/5000 [00:00<00:00, 12287.64it/s]\n",
      "100%|██████████| 5000/5000 [00:00<00:00, 12093.49it/s]\n",
      "100%|██████████| 5000/5000 [00:00<00:00, 11842.84it/s]\n",
      "100%|██████████| 5000/5000 [00:00<00:00, 12013.09it/s]\n",
      "100%|██████████| 5000/5000 [00:00<00:00, 11840.01it/s]\n",
      "100%|██████████| 5000/5000 [00:00<00:00, 12059.70it/s]\n",
      "100%|██████████| 5000/5000 [00:00<00:00, 12177.69it/s]\n",
      "100%|██████████| 5000/5000 [00:00<00:00, 11647.15it/s]\n",
      "100%|██████████| 5000/5000 [00:00<00:00, 11747.25it/s]\n",
      "100%|██████████| 5000/5000 [00:00<00:00, 11609.54it/s]\n",
      "100%|██████████| 5000/5000 [00:00<00:00, 11551.51it/s]\n",
      "100%|██████████| 5000/5000 [00:00<00:00, 11977.40it/s]\n",
      "100%|██████████| 5000/5000 [00:00<00:00, 11984.09it/s]\n",
      "100%|██████████| 5000/5000 [00:00<00:00, 12564.22it/s]\n",
      "100%|██████████| 5000/5000 [00:00<00:00, 11983.78it/s]\n",
      "100%|██████████| 5000/5000 [00:00<00:00, 11793.98it/s]\n",
      "100%|██████████| 5000/5000 [00:00<00:00, 12833.87it/s]\n",
      "100%|██████████| 5000/5000 [00:00<00:00, 11980.89it/s]\n",
      "100%|██████████| 5000/5000 [00:00<00:00, 11899.50it/s]\n",
      "100%|██████████| 5000/5000 [00:00<00:00, 12039.88it/s]\n",
      "100%|██████████| 5000/5000 [00:00<00:00, 12783.81it/s]\n",
      "100%|██████████| 5000/5000 [00:00<00:00, 12144.20it/s]\n",
      "100%|██████████| 5000/5000 [00:00<00:00, 12256.91it/s]\n",
      "100%|██████████| 5000/5000 [00:00<00:00, 11927.75it/s]\n",
      "100%|██████████| 5000/5000 [00:00<00:00, 12767.19it/s]\n",
      "100%|██████████| 5000/5000 [00:00<00:00, 12079.68it/s]\n",
      "100%|██████████| 5000/5000 [00:00<00:00, 12582.58it/s]\n",
      "100%|██████████| 5000/5000 [00:00<00:00, 12473.63it/s]\n",
      "100%|██████████| 5000/5000 [00:00<00:00, 11847.21it/s]\n",
      "100%|██████████| 5000/5000 [00:00<00:00, 12237.30it/s]\n",
      "100%|██████████| 5000/5000 [00:00<00:00, 11990.68it/s]\n",
      "100%|██████████| 5000/5000 [00:00<00:00, 12081.41it/s]\n",
      "100%|██████████| 5000/5000 [00:00<00:00, 12233.21it/s]\n",
      "100%|██████████| 5000/5000 [00:00<00:00, 12186.08it/s]\n",
      "100%|██████████| 5000/5000 [00:00<00:00, 12090.27it/s]\n",
      " 51%|█████     | 2538/5000 [00:00<00:00, 12715.12it/s]"
     ]
    },
    {
     "name": "stdout",
     "output_type": "stream",
     "text": [
      "Error message\n",
      "[Errno 17] File exists: '/root/BAMT/Nodes_data/6303'\n"
     ]
    },
    {
     "name": "stderr",
     "output_type": "stream",
     "text": [
      "100%|██████████| 5000/5000 [00:00<00:00, 12359.44it/s]\n",
      "100%|██████████| 5000/5000 [00:00<00:00, 11958.65it/s]\n",
      "100%|██████████| 5000/5000 [00:00<00:00, 12307.29it/s]\n",
      "100%|██████████| 5000/5000 [00:00<00:00, 12555.32it/s]\n",
      "100%|██████████| 5000/5000 [00:00<00:00, 12745.56it/s]\n",
      "100%|██████████| 5000/5000 [00:00<00:00, 12248.65it/s]\n",
      "100%|██████████| 5000/5000 [00:00<00:00, 11815.19it/s]\n",
      " 70%|███████   | 3517/5000 [00:00<00:00, 11676.53it/s]"
     ]
    },
    {
     "name": "stdout",
     "output_type": "stream",
     "text": [
      "2024-04-14 12:58:33,745 - MultiprocessingDispatcher - 45 individuals out of 54 in previous population were evaluated successfully.\n",
      "2024-04-14 12:58:33,749 - EvoGraphOptimizer - Generation num: 11 size: 55\n",
      "2024-04-14 12:58:33,749 - EvoGraphOptimizer - Best individuals: HallOfFame archive fitness (1): ['<custom=0.000>']\n",
      "2024-04-14 12:58:33,749 - EvoGraphOptimizer - no improvements for 1 iterations\n",
      "2024-04-14 12:58:33,750 - EvoGraphOptimizer - spent time: 0.6 min\n",
      "2024-04-14 12:58:33,750 - EvoGraphOptimizer - Next population size: 55; max graph depth: 100\n",
      "2024-04-14 12:58:33,775 - MultiprocessingDispatcher - Number of used CPU's: 6\n"
     ]
    },
    {
     "name": "stderr",
     "output_type": "stream",
     "text": [
      "\r",
      " 94%|█████████▍| 4723/5000 [00:00<00:00, 11825.21it/s]\r",
      "100%|██████████| 5000/5000 [00:00<00:00, 11779.22it/s]\n"
     ]
    },
    {
     "name": "stdout",
     "output_type": "stream",
     "text": [
      "Error message\n",
      "[Errno 17] File exists: '/root/BAMT/Nodes_data/6308'\n",
      "Error message\n",
      "[Errno 17] File exists: '/root/BAMT/Nodes_data/6308'\n"
     ]
    },
    {
     "name": "stderr",
     "output_type": "stream",
     "text": [
      "\r",
      "  0%|          | 0/5000 [00:00<?, ?it/s]\r",
      "  0%|          | 0/5000 [00:00<?, ?it/s]\r",
      "  0%|          | 0/5000 [00:00<?, ?it/s]\r",
      " 23%|██▎       | 1150/5000 [00:00<00:00, 11489.55it/s]\r",
      "  0%|          | 0/5000 [00:00<?, ?it/s]\r",
      "  0%|          | 0/5000 [00:00<?, ?it/s]\r",
      " 26%|██▌       | 1292/5000 [00:00<00:00, 12912.59it/s]\r",
      " 24%|██▍       | 1212/5000 [00:00<00:00, 12118.77it/s]\r",
      " 47%|████▋     | 2334/5000 [00:00<00:00, 11694.82it/s]"
     ]
    },
    {
     "name": "stdout",
     "output_type": "stream",
     "text": [
      "Error message\n",
      "[Errno 17] File exists: '/root/BAMT/Nodes_data/6308'\n",
      "Error message\n",
      "[Errno 17] File exists: '/root/BAMT/Nodes_data/6309'\n",
      "Error message\n",
      "[Errno 17] File exists: '/root/BAMT/Nodes_data/6308'\n",
      "Error message\n",
      "[Errno 17] File exists: '/root/BAMT/Nodes_data/6310'\n",
      "Error message\n",
      "[Errno 17] File exists: '/root/BAMT/Nodes_data/6308'\n",
      "Error message\n",
      "[Errno 17] File exists: '/root/BAMT/Nodes_data/6310'\n",
      "Error message\n",
      "[Errno 17] File exists: '/root/BAMT/Nodes_data/6312'\n"
     ]
    },
    {
     "name": "stderr",
     "output_type": "stream",
     "text": [
      "100%|██████████| 5000/5000 [00:00<00:00, 11872.24it/s]\n",
      "100%|██████████| 5000/5000 [00:00<00:00, 13020.96it/s]\n",
      "100%|██████████| 5000/5000 [00:00<00:00, 12375.29it/s]\n",
      "100%|██████████| 5000/5000 [00:00<00:00, 12505.80it/s]\n",
      "100%|██████████| 5000/5000 [00:00<00:00, 12523.34it/s]\n",
      "100%|██████████| 5000/5000 [00:00<00:00, 11952.72it/s]\n",
      "100%|██████████| 5000/5000 [00:00<00:00, 12415.01it/s]\n",
      "100%|██████████| 5000/5000 [00:00<00:00, 12502.64it/s]\n",
      "100%|██████████| 5000/5000 [00:00<00:00, 11986.40it/s]\n",
      "100%|██████████| 5000/5000 [00:00<00:00, 12008.31it/s]\n",
      "100%|██████████| 5000/5000 [00:00<00:00, 12128.14it/s]\n",
      "100%|██████████| 5000/5000 [00:00<00:00, 12377.59it/s]\n",
      "100%|██████████| 5000/5000 [00:00<00:00, 12038.23it/s]\n",
      "100%|██████████| 5000/5000 [00:00<00:00, 12162.45it/s]\n",
      "100%|██████████| 5000/5000 [00:00<00:00, 12248.14it/s]\n",
      "100%|██████████| 5000/5000 [00:00<00:00, 11874.16it/s]\n",
      "100%|██████████| 5000/5000 [00:00<00:00, 12223.70it/s]\n",
      "100%|██████████| 5000/5000 [00:00<00:00, 12040.18it/s]\n",
      "100%|██████████| 5000/5000 [00:00<00:00, 12776.72it/s]\n",
      "100%|██████████| 5000/5000 [00:00<00:00, 11976.44it/s]\n",
      "100%|██████████| 5000/5000 [00:00<00:00, 12811.93it/s]\n",
      "100%|██████████| 5000/5000 [00:00<00:00, 12144.88it/s]\n",
      "100%|██████████| 5000/5000 [00:00<00:00, 11846.34it/s]\n",
      "100%|██████████| 5000/5000 [00:00<00:00, 11897.37it/s]\n",
      " 48%|████▊     | 2406/5000 [00:00<00:00, 12060.36it/s]"
     ]
    },
    {
     "name": "stdout",
     "output_type": "stream",
     "text": [
      "Error message\n",
      "[Errno 17] File exists: '/root/BAMT/Nodes_data/6334'\n"
     ]
    },
    {
     "name": "stderr",
     "output_type": "stream",
     "text": [
      "100%|██████████| 5000/5000 [00:00<00:00, 11856.36it/s]\n",
      "100%|██████████| 5000/5000 [00:00<00:00, 12112.38it/s]\n",
      "100%|██████████| 5000/5000 [00:00<00:00, 11931.43it/s]\n",
      "100%|██████████| 5000/5000 [00:00<00:00, 12266.20it/s]\n",
      "100%|██████████| 5000/5000 [00:00<00:00, 12447.73it/s]\n",
      "100%|██████████| 5000/5000 [00:00<00:00, 12090.91it/s]\n",
      "100%|██████████| 5000/5000 [00:00<00:00, 11998.99it/s]\n",
      "100%|██████████| 5000/5000 [00:00<00:00, 11774.63it/s]\n",
      "100%|██████████| 5000/5000 [00:00<00:00, 12456.13it/s]\n",
      "100%|██████████| 5000/5000 [00:00<00:00, 11913.10it/s]\n",
      "100%|██████████| 5000/5000 [00:00<00:00, 11944.09it/s]\n",
      "100%|██████████| 5000/5000 [00:00<00:00, 12211.54it/s]\n",
      "100%|██████████| 5000/5000 [00:00<00:00, 12063.88it/s]\n",
      "100%|██████████| 5000/5000 [00:00<00:00, 11818.60it/s]\n",
      "100%|██████████| 5000/5000 [00:00<00:00, 11354.90it/s]\n",
      "100%|██████████| 5000/5000 [00:00<00:00, 11476.33it/s]\n",
      "100%|██████████| 5000/5000 [00:00<00:00, 12325.55it/s]\n",
      "100%|██████████| 5000/5000 [00:00<00:00, 11966.71it/s]\n",
      " 97%|█████████▋| 4856/5000 [00:00<00:00, 12225.38it/s]"
     ]
    },
    {
     "name": "stdout",
     "output_type": "stream",
     "text": [
      "2024-04-14 12:58:38,706 - MultiprocessingDispatcher - 44 individuals out of 54 in previous population were evaluated successfully.\n",
      "2024-04-14 12:58:38,710 - EvoGraphOptimizer - Generation num: 12 size: 55\n",
      "2024-04-14 12:58:38,710 - EvoGraphOptimizer - Best individuals: HallOfFame archive fitness (1): ['<custom=0.000>']\n",
      "2024-04-14 12:58:38,711 - EvoGraphOptimizer - Next population size: 55; max graph depth: 100\n"
     ]
    },
    {
     "name": "stderr",
     "output_type": "stream",
     "text": [
      "\r",
      "100%|██████████| 5000/5000 [00:00<00:00, 12131.80it/s]\n",
      "\r",
      " 96%|█████████▌| 4775/5000 [00:00<00:00, 12019.32it/s]\r",
      "100%|██████████| 5000/5000 [00:00<00:00, 11928.86it/s]\n"
     ]
    },
    {
     "name": "stdout",
     "output_type": "stream",
     "text": [
      "2024-04-14 12:58:38,734 - MultiprocessingDispatcher - Number of used CPU's: 6\n",
      "Error message\n",
      "[Errno 17] File exists: '/root/BAMT/Nodes_data/6353'\n",
      "Error message\n",
      "[Errno 17] File exists: '/root/BAMT/Nodes_data/6352'\n",
      "Error message\n",
      "[Errno 17] File exists: '/root/BAMT/Nodes_data/6352'\n"
     ]
    },
    {
     "name": "stderr",
     "output_type": "stream",
     "text": [
      "\r",
      "  0%|          | 0/5000 [00:00<?, ?it/s]\r",
      "  0%|          | 0/5000 [00:00<?, ?it/s]\r",
      "  0%|          | 0/5000 [00:00<?, ?it/s]\r",
      "  0%|          | 0/5000 [00:00<?, ?it/s]\r",
      "  0%|          | 0/5000 [00:00<?, ?it/s]\r",
      " 24%|██▍       | 1205/5000 [00:00<00:00, 12040.17it/s]\r",
      " 23%|██▎       | 1168/5000 [00:00<00:00, 11669.55it/s]\r",
      "  0%|          | 0/5000 [00:00<?, ?it/s]\r",
      " 24%|██▎       | 1183/5000 [00:00<00:00, 11822.34it/s]\r",
      " 25%|██▍       | 1230/5000 [00:00<00:00, 12293.36it/s]\r",
      " 24%|██▍       | 1192/5000 [00:00<00:00, 11914.53it/s]\r",
      " 48%|████▊     | 2418/5000 [00:00<00:00, 12090.88it/s]\r",
      " 48%|████▊     | 2400/5000 [00:00<00:00, 12050.65it/s]"
     ]
    },
    {
     "name": "stdout",
     "output_type": "stream",
     "text": [
      "Error message\n",
      "[Errno 17] File exists: '/root/BAMT/Nodes_data/6352'\n",
      "Error message\n",
      "[Errno 17] File exists: '/root/BAMT/Nodes_data/6356'\n"
     ]
    },
    {
     "name": "stderr",
     "output_type": "stream",
     "text": [
      "100%|██████████| 5000/5000 [00:00<00:00, 12107.54it/s]\n",
      "100%|██████████| 5000/5000 [00:00<00:00, 12092.97it/s]\n",
      "100%|██████████| 5000/5000 [00:00<00:00, 12282.84it/s]\n",
      "100%|██████████| 5000/5000 [00:00<00:00, 11836.01it/s]\n",
      "100%|██████████| 5000/5000 [00:00<00:00, 12050.70it/s]\n",
      "100%|██████████| 5000/5000 [00:00<00:00, 12438.64it/s]\n",
      "100%|██████████| 5000/5000 [00:00<00:00, 11970.63it/s]\n",
      "100%|██████████| 5000/5000 [00:00<00:00, 11853.36it/s]\n",
      "100%|██████████| 5000/5000 [00:00<00:00, 12083.81it/s]\n",
      "100%|██████████| 5000/5000 [00:00<00:00, 12379.12it/s]\n",
      "100%|██████████| 5000/5000 [00:00<00:00, 12158.21it/s]\n",
      "100%|██████████| 5000/5000 [00:00<00:00, 12059.18it/s]\n",
      " 48%|████▊     | 2402/5000 [00:00<00:00, 12018.76it/s]"
     ]
    },
    {
     "name": "stdout",
     "output_type": "stream",
     "text": [
      "Error message\n",
      "[Errno 17] File exists: '/root/BAMT/Nodes_data/6365'\n"
     ]
    },
    {
     "name": "stderr",
     "output_type": "stream",
     "text": [
      "100%|██████████| 5000/5000 [00:00<00:00, 12237.62it/s]\n",
      "100%|██████████| 5000/5000 [00:00<00:00, 12145.22it/s]\n",
      "100%|██████████| 5000/5000 [00:00<00:00, 12103.51it/s]\n",
      "100%|██████████| 5000/5000 [00:00<00:00, 12392.40it/s]\n",
      "100%|██████████| 5000/5000 [00:00<00:00, 12219.17it/s]\n",
      "100%|██████████| 5000/5000 [00:00<00:00, 12377.08it/s]\n",
      "100%|██████████| 5000/5000 [00:00<00:00, 12138.99it/s]\n",
      "100%|██████████| 5000/5000 [00:00<00:00, 12089.45it/s]\n",
      "100%|██████████| 5000/5000 [00:00<00:00, 12792.52it/s]\n",
      "100%|██████████| 5000/5000 [00:00<00:00, 12578.35it/s]\n",
      "100%|██████████| 5000/5000 [00:00<00:00, 12039.56it/s]\n",
      "100%|██████████| 5000/5000 [00:00<00:00, 11923.10it/s]\n",
      "100%|██████████| 5000/5000 [00:00<00:00, 11873.61it/s]\n",
      "100%|██████████| 5000/5000 [00:00<00:00, 11984.15it/s]\n",
      "100%|██████████| 5000/5000 [00:00<00:00, 12046.21it/s]\n",
      "100%|██████████| 5000/5000 [00:00<00:00, 12412.31it/s]\n",
      "100%|██████████| 5000/5000 [00:00<00:00, 12390.92it/s]\n",
      "100%|██████████| 5000/5000 [00:00<00:00, 11979.63it/s]\n",
      "100%|██████████| 5000/5000 [00:00<00:00, 11972.77it/s]\n",
      "100%|██████████| 5000/5000 [00:00<00:00, 11807.58it/s]\n",
      "100%|██████████| 5000/5000 [00:00<00:00, 12280.80it/s]\n",
      "100%|██████████| 5000/5000 [00:00<00:00, 11964.85it/s]\n",
      "100%|██████████| 5000/5000 [00:00<00:00, 12174.91it/s]\n",
      "100%|██████████| 5000/5000 [00:00<00:00, 11836.71it/s]\n",
      "100%|██████████| 5000/5000 [00:00<00:00, 12280.95it/s]\n",
      "100%|██████████| 5000/5000 [00:00<00:00, 12344.90it/s]\n",
      "100%|██████████| 5000/5000 [00:00<00:00, 12376.88it/s]\n",
      "100%|██████████| 5000/5000 [00:00<00:00, 12283.46it/s]\n",
      "100%|██████████| 5000/5000 [00:00<00:00, 11996.85it/s]\n",
      "100%|██████████| 5000/5000 [00:00<00:00, 12245.64it/s]\n",
      "100%|██████████| 5000/5000 [00:00<00:00, 11946.70it/s]\n",
      "100%|██████████| 5000/5000 [00:00<00:00, 11957.79it/s]\n",
      "100%|██████████| 5000/5000 [00:00<00:00, 11870.92it/s]\n",
      "100%|██████████| 5000/5000 [00:00<00:00, 12459.57it/s]\n",
      "100%|██████████| 5000/5000 [00:00<00:00, 11902.54it/s]\n",
      "100%|██████████| 5000/5000 [00:00<00:00, 11948.56it/s]\n"
     ]
    },
    {
     "name": "stdout",
     "output_type": "stream",
     "text": [
      "2024-04-14 12:58:43,885 - MultiprocessingDispatcher - 48 individuals out of 54 in previous population were evaluated successfully.\n",
      "2024-04-14 12:58:43,889 - EvoGraphOptimizer - Generation num: 13 size: 55\n",
      "2024-04-14 12:58:43,889 - EvoGraphOptimizer - Best individuals: HallOfFame archive fitness (1): ['<custom=0.000>']\n",
      "2024-04-14 12:58:43,890 - EvoGraphOptimizer - no improvements for 1 iterations\n",
      "2024-04-14 12:58:43,890 - EvoGraphOptimizer - spent time: 0.8 min\n",
      "2024-04-14 12:58:43,891 - EvoGraphOptimizer - Next population size: 55; max graph depth: 100\n",
      "2024-04-14 12:58:43,912 - MultiprocessingDispatcher - Number of used CPU's: 6\n",
      "Error message\n",
      "[Errno 17] File exists: '/root/BAMT/Nodes_data/6400'\n",
      "Error message\n",
      "[Errno 17] File exists: '/root/BAMT/Nodes_data/6400'\n",
      "Error message\n",
      "[Errno 17] File exists: '/root/BAMT/Nodes_data/6400'\n"
     ]
    },
    {
     "name": "stderr",
     "output_type": "stream",
     "text": [
      "\r",
      "  0%|          | 0/5000 [00:00<?, ?it/s]\r",
      "  0%|          | 0/5000 [00:00<?, ?it/s]\r",
      " 24%|██▎       | 1180/5000 [00:00<00:00, 11796.05it/s]\r",
      "  0%|          | 0/5000 [00:00<?, ?it/s]\r",
      "  0%|          | 0/5000 [00:00<?, ?it/s]\r",
      " 24%|██▍       | 1195/5000 [00:00<00:00, 11942.04it/s]\r",
      "  0%|          | 0/5000 [00:00<?, ?it/s]\r",
      " 48%|████▊     | 2384/5000 [00:00<00:00, 11934.58it/s]\r",
      " 23%|██▎       | 1174/5000 [00:00<00:00, 11737.74it/s]"
     ]
    },
    {
     "name": "stdout",
     "output_type": "stream",
     "text": [
      "Error message\n",
      "[Errno 17] File exists: '/root/BAMT/Nodes_data/6400'\n",
      "Error message\n",
      "[Errno 17] File exists: '/root/BAMT/Nodes_data/6402'\n",
      "Error message\n",
      "[Errno 17] File exists: '/root/BAMT/Nodes_data/6400'\n",
      "Error message\n",
      "[Errno 17] File exists: '/root/BAMT/Nodes_data/6402'\n",
      "Error message\n",
      "[Errno 17] File exists: '/root/BAMT/Nodes_data/6404'\n"
     ]
    },
    {
     "name": "stderr",
     "output_type": "stream",
     "text": [
      "100%|██████████| 5000/5000 [00:00<00:00, 12013.02it/s]\n",
      "100%|██████████| 5000/5000 [00:00<00:00, 12203.56it/s]\n",
      "100%|██████████| 5000/5000 [00:00<00:00, 11938.15it/s]\n",
      "100%|██████████| 5000/5000 [00:00<00:00, 11810.30it/s]\n",
      "100%|██████████| 5000/5000 [00:00<00:00, 11845.70it/s]\n",
      "100%|██████████| 5000/5000 [00:00<00:00, 11956.10it/s]\n",
      "100%|██████████| 5000/5000 [00:00<00:00, 11863.54it/s]\n",
      "100%|██████████| 5000/5000 [00:00<00:00, 12353.96it/s]\n",
      "100%|██████████| 5000/5000 [00:00<00:00, 12283.74it/s]\n",
      "100%|██████████| 5000/5000 [00:00<00:00, 12075.20it/s]\n",
      "100%|██████████| 5000/5000 [00:00<00:00, 12006.95it/s]\n",
      "100%|██████████| 5000/5000 [00:00<00:00, 12051.34it/s]\n",
      "100%|██████████| 5000/5000 [00:00<00:00, 12072.73it/s]\n",
      "100%|██████████| 5000/5000 [00:00<00:00, 11804.00it/s]\n",
      "100%|██████████| 5000/5000 [00:00<00:00, 11750.57it/s]\n",
      "100%|██████████| 5000/5000 [00:00<00:00, 12178.41it/s]\n",
      "100%|██████████| 5000/5000 [00:00<00:00, 12101.32it/s]\n",
      "100%|██████████| 5000/5000 [00:00<00:00, 12067.67it/s]\n",
      "100%|██████████| 5000/5000 [00:00<00:00, 12000.20it/s]\n",
      "100%|██████████| 5000/5000 [00:00<00:00, 11823.65it/s]\n",
      "100%|██████████| 5000/5000 [00:00<00:00, 12307.33it/s]\n",
      "100%|██████████| 5000/5000 [00:00<00:00, 12098.96it/s]\n",
      "100%|██████████| 5000/5000 [00:00<00:00, 11877.28it/s]\n",
      "100%|██████████| 5000/5000 [00:00<00:00, 11887.38it/s]\n",
      "100%|██████████| 5000/5000 [00:00<00:00, 12165.70it/s]\n",
      "100%|██████████| 5000/5000 [00:00<00:00, 11888.75it/s]\n",
      "100%|██████████| 5000/5000 [00:00<00:00, 12244.37it/s]\n",
      "100%|██████████| 5000/5000 [00:00<00:00, 12413.36it/s]\n",
      "100%|██████████| 5000/5000 [00:00<00:00, 11908.84it/s]\n",
      "100%|██████████| 5000/5000 [00:00<00:00, 12150.37it/s]\n",
      "100%|██████████| 5000/5000 [00:00<00:00, 12307.14it/s]\n",
      "100%|██████████| 5000/5000 [00:00<00:00, 11885.50it/s]\n",
      "100%|██████████| 5000/5000 [00:00<00:00, 11825.87it/s]\n",
      "100%|██████████| 5000/5000 [00:00<00:00, 12007.67it/s]\n",
      "100%|██████████| 5000/5000 [00:00<00:00, 12352.54it/s]\n",
      "100%|██████████| 5000/5000 [00:00<00:00, 12136.16it/s]\n",
      "100%|██████████| 5000/5000 [00:00<00:00, 11747.28it/s]\n",
      "100%|██████████| 5000/5000 [00:00<00:00, 11839.77it/s]\n",
      "100%|██████████| 5000/5000 [00:00<00:00, 12447.96it/s]\n",
      "100%|██████████| 5000/5000 [00:00<00:00, 12176.32it/s]\n",
      "100%|██████████| 5000/5000 [00:00<00:00, 12550.67it/s]\n",
      "100%|██████████| 5000/5000 [00:00<00:00, 12128.98it/s]\n",
      "100%|██████████| 5000/5000 [00:00<00:00, 12189.87it/s]\n",
      "100%|██████████| 5000/5000 [00:00<00:00, 11947.11it/s]\n",
      "100%|██████████| 5000/5000 [00:00<00:00, 11813.33it/s]\n"
     ]
    },
    {
     "name": "stdout",
     "output_type": "stream",
     "text": [
      "2024-04-14 12:58:48,977 - MultiprocessingDispatcher - 46 individuals out of 54 in previous population were evaluated successfully.\n",
      "2024-04-14 12:58:48,980 - EvoGraphOptimizer - Generation num: 14 size: 55\n",
      "2024-04-14 12:58:48,981 - EvoGraphOptimizer - Best individuals: HallOfFame archive fitness (1): ['<custom=0.000>']\n",
      "2024-04-14 12:58:48,981 - EvoGraphOptimizer - Next population size: 55; max graph depth: 100\n"
     ]
    },
    {
     "name": "stderr",
     "output_type": "stream",
     "text": [
      "\r",
      " 94%|█████████▍| 4716/5000 [00:00<00:00, 11841.40it/s]\r",
      "100%|██████████| 5000/5000 [00:00<00:00, 11763.54it/s]\n"
     ]
    },
    {
     "name": "stdout",
     "output_type": "stream",
     "text": [
      "2024-04-14 12:58:49,005 - MultiprocessingDispatcher - Number of used CPU's: 6\n",
      "Error message\n",
      "[Errno 17] File exists: '/root/BAMT/Nodes_data/6446'\n",
      "Error message\n",
      "[Errno 17] File exists: '/root/BAMT/Nodes_data/6446'\n",
      "Error message\n",
      "[Errno 17] File exists: '/root/BAMT/Nodes_data/6446'\n",
      "Error message\n",
      "[Errno 17] File exists: '/root/BAMT/Nodes_data/6446'\n"
     ]
    },
    {
     "name": "stderr",
     "output_type": "stream",
     "text": [
      "\r",
      "  0%|          | 0/5000 [00:00<?, ?it/s]\r",
      "  0%|          | 0/5000 [00:00<?, ?it/s]\r",
      "  0%|          | 0/5000 [00:00<?, ?it/s]\r",
      "  0%|          | 0/5000 [00:00<?, ?it/s]\r",
      "  0%|          | 0/5000 [00:00<?, ?it/s]\r",
      " 24%|██▍       | 1208/5000 [00:00<00:00, 12072.47it/s]\r",
      "  0%|          | 0/5000 [00:00<?, ?it/s]\r",
      " 24%|██▎       | 1185/5000 [00:00<00:00, 11840.30it/s]\r",
      " 24%|██▎       | 1186/5000 [00:00<00:00, 11849.22it/s]\r",
      " 24%|██▎       | 1178/5000 [00:00<00:00, 11776.67it/s]\r",
      " 24%|██▍       | 1225/5000 [00:00<00:00, 12240.64it/s]\r",
      " 49%|████▉     | 2452/5000 [00:00<00:00, 12288.27it/s]"
     ]
    },
    {
     "name": "stdout",
     "output_type": "stream",
     "text": [
      "Error message\n",
      "[Errno 17] File exists: '/root/BAMT/Nodes_data/6446'\n",
      "Error message\n",
      "[Errno 17] File exists: '/root/BAMT/Nodes_data/6449'\n"
     ]
    },
    {
     "name": "stderr",
     "output_type": "stream",
     "text": [
      "100%|██████████| 5000/5000 [00:00<00:00, 12261.98it/s]\n",
      "100%|██████████| 5000/5000 [00:00<00:00, 11934.62it/s]\n",
      "100%|██████████| 5000/5000 [00:00<00:00, 11984.65it/s]\n",
      "100%|██████████| 5000/5000 [00:00<00:00, 11886.62it/s]\n",
      "100%|██████████| 5000/5000 [00:00<00:00, 11973.54it/s]\n",
      "100%|██████████| 5000/5000 [00:00<00:00, 12131.72it/s]\n",
      " 72%|███████▏  | 3596/5000 [00:00<00:00, 12044.59it/s]"
     ]
    },
    {
     "name": "stdout",
     "output_type": "stream",
     "text": [
      "Error message\n",
      "[Errno 17] File exists: '/root/BAMT/Nodes_data/6453'\n"
     ]
    },
    {
     "name": "stderr",
     "output_type": "stream",
     "text": [
      "100%|██████████| 5000/5000 [00:00<00:00, 12053.57it/s]\n",
      "100%|██████████| 5000/5000 [00:00<00:00, 11833.19it/s]\n",
      "100%|██████████| 5000/5000 [00:00<00:00, 11855.38it/s]\n",
      "100%|██████████| 5000/5000 [00:00<00:00, 11722.79it/s]\n",
      "100%|██████████| 5000/5000 [00:00<00:00, 12319.17it/s]\n",
      "100%|██████████| 5000/5000 [00:00<00:00, 12175.76it/s]\n",
      " 47%|████▋     | 2359/5000 [00:00<00:00, 11811.30it/s]"
     ]
    },
    {
     "name": "stdout",
     "output_type": "stream",
     "text": [
      "Error message\n",
      "[Errno 17] File exists: '/root/BAMT/Nodes_data/6462'\n"
     ]
    },
    {
     "name": "stderr",
     "output_type": "stream",
     "text": [
      "100%|██████████| 5000/5000 [00:00<00:00, 12237.09it/s]\n",
      "100%|██████████| 5000/5000 [00:00<00:00, 12207.04it/s]\n",
      "100%|██████████| 5000/5000 [00:00<00:00, 11815.79it/s]\n",
      "100%|██████████| 5000/5000 [00:00<00:00, 11941.02it/s]\n",
      "100%|██████████| 5000/5000 [00:00<00:00, 11980.45it/s]\n",
      "100%|██████████| 5000/5000 [00:00<00:00, 12468.79it/s]\n",
      "100%|██████████| 5000/5000 [00:00<00:00, 12553.82it/s]\n",
      "100%|██████████| 5000/5000 [00:00<00:00, 11998.80it/s]\n",
      "100%|██████████| 5000/5000 [00:00<00:00, 12046.95it/s]\n",
      "100%|██████████| 5000/5000 [00:00<00:00, 12249.64it/s]\n",
      "100%|██████████| 5000/5000 [00:00<00:00, 12350.86it/s]\n",
      "100%|██████████| 5000/5000 [00:00<00:00, 12036.02it/s]\n",
      "100%|██████████| 5000/5000 [00:00<00:00, 11963.16it/s]\n",
      "100%|██████████| 5000/5000 [00:00<00:00, 12420.69it/s]\n",
      "100%|██████████| 5000/5000 [00:00<00:00, 11831.07it/s]\n",
      "100%|██████████| 5000/5000 [00:00<00:00, 11810.54it/s]\n",
      "100%|██████████| 5000/5000 [00:00<00:00, 11874.11it/s]\n",
      "100%|██████████| 5000/5000 [00:00<00:00, 11999.24it/s]\n",
      "100%|██████████| 5000/5000 [00:00<00:00, 12012.62it/s]\n",
      "100%|██████████| 5000/5000 [00:00<00:00, 11893.92it/s]\n",
      "100%|██████████| 5000/5000 [00:00<00:00, 11948.65it/s]\n",
      "100%|██████████| 5000/5000 [00:00<00:00, 11917.39it/s]\n",
      "100%|██████████| 5000/5000 [00:00<00:00, 12095.79it/s]\n",
      "100%|██████████| 5000/5000 [00:00<00:00, 11967.25it/s]\n",
      "100%|██████████| 5000/5000 [00:00<00:00, 12053.27it/s]\n",
      "100%|██████████| 5000/5000 [00:00<00:00, 11745.33it/s]\n",
      "100%|██████████| 5000/5000 [00:00<00:00, 11868.17it/s]\n",
      "100%|██████████| 5000/5000 [00:00<00:00, 12068.72it/s]\n",
      "100%|██████████| 5000/5000 [00:00<00:00, 11972.50it/s]\n",
      "100%|██████████| 5000/5000 [00:00<00:00, 11992.02it/s]\n",
      "100%|██████████| 5000/5000 [00:00<00:00, 12298.53it/s]\n",
      "100%|██████████| 5000/5000 [00:00<00:00, 12029.10it/s]\n",
      "100%|██████████| 5000/5000 [00:00<00:00, 12054.24it/s]\n",
      " 96%|█████████▋| 4823/5000 [00:00<00:00, 12146.82it/s]"
     ]
    },
    {
     "name": "stdout",
     "output_type": "stream",
     "text": [
      "2024-04-14 12:58:54,280 - MultiprocessingDispatcher - 46 individuals out of 54 in previous population were evaluated successfully.\n",
      "2024-04-14 12:58:54,284 - EvoGraphOptimizer - Generation num: 15 size: 55\n",
      "2024-04-14 12:58:54,285 - EvoGraphOptimizer - Best individuals: HallOfFame archive fitness (1): ['<custom=0.000>']\n",
      "2024-04-14 12:58:54,285 - EvoGraphOptimizer - Next population size: 55; max graph depth: 100\n"
     ]
    },
    {
     "name": "stderr",
     "output_type": "stream",
     "text": [
      "\r",
      "100%|██████████| 5000/5000 [00:00<00:00, 12049.05it/s]\n"
     ]
    },
    {
     "name": "stdout",
     "output_type": "stream",
     "text": [
      "2024-04-14 12:58:54,310 - MultiprocessingDispatcher - Number of used CPU's: 6\n",
      "Error message\n",
      "[Errno 17] File exists: '/root/BAMT/Nodes_data/6492'\n",
      "Error message\n",
      "[Errno 17] File exists: '/root/BAMT/Nodes_data/6492'\n"
     ]
    },
    {
     "name": "stderr",
     "output_type": "stream",
     "text": [
      "\r",
      "  0%|          | 0/5000 [00:00<?, ?it/s]\r",
      "  0%|          | 0/5000 [00:00<?, ?it/s]\r",
      "  0%|          | 0/5000 [00:00<?, ?it/s]\r",
      " 23%|██▎       | 1161/5000 [00:00<00:00, 11603.59it/s]\r",
      "  0%|          | 0/5000 [00:00<?, ?it/s]\r",
      "  0%|          | 0/5000 [00:00<?, ?it/s]\r",
      " 23%|██▎       | 1169/5000 [00:00<00:00, 11681.10it/s]\r",
      " 24%|██▎       | 1179/5000 [00:00<00:00, 11781.14it/s]\r",
      " 47%|████▋     | 2372/5000 [00:00<00:00, 11896.60it/s]"
     ]
    },
    {
     "name": "stdout",
     "output_type": "stream",
     "text": [
      "Error message\n",
      "[Errno 17] File exists: '/root/BAMT/Nodes_data/6492'\n",
      "Error message\n",
      "[Errno 17] File exists: '/root/BAMT/Nodes_data/6493'\n",
      "Error message\n",
      "[Errno 17] File exists: '/root/BAMT/Nodes_data/6492'\n",
      "Error message\n",
      "[Errno 17] File exists: '/root/BAMT/Nodes_data/6494'\n",
      "Error message\n",
      "[Errno 17] File exists: '/root/BAMT/Nodes_data/6492'\n",
      "Error message\n",
      "[Errno 17] File exists: '/root/BAMT/Nodes_data/6494'\n",
      "Error message\n",
      "[Errno 17] File exists: '/root/BAMT/Nodes_data/6495'\n"
     ]
    },
    {
     "name": "stderr",
     "output_type": "stream",
     "text": [
      "100%|██████████| 5000/5000 [00:00<00:00, 12014.69it/s]\n",
      "100%|██████████| 5000/5000 [00:00<00:00, 12058.63it/s]\n",
      "100%|██████████| 5000/5000 [00:00<00:00, 12081.94it/s]\n",
      "100%|██████████| 5000/5000 [00:00<00:00, 11841.41it/s]\n",
      "100%|██████████| 5000/5000 [00:00<00:00, 11813.28it/s]\n",
      "100%|██████████| 5000/5000 [00:00<00:00, 11830.46it/s]\n",
      "100%|██████████| 5000/5000 [00:00<00:00, 11880.68it/s]\n",
      "100%|██████████| 5000/5000 [00:00<00:00, 12090.61it/s]\n",
      "100%|██████████| 5000/5000 [00:00<00:00, 12144.84it/s]\n",
      "100%|██████████| 5000/5000 [00:00<00:00, 11881.41it/s]\n",
      "100%|██████████| 5000/5000 [00:00<00:00, 11878.31it/s]\n",
      "100%|██████████| 5000/5000 [00:00<00:00, 12284.67it/s]\n",
      "100%|██████████| 5000/5000 [00:00<00:00, 12014.13it/s]\n",
      "100%|██████████| 5000/5000 [00:00<00:00, 12453.80it/s]\n",
      "100%|██████████| 5000/5000 [00:00<00:00, 12040.83it/s]\n",
      "100%|██████████| 5000/5000 [00:00<00:00, 12105.72it/s]\n",
      "100%|██████████| 5000/5000 [00:00<00:00, 12357.77it/s]\n",
      "100%|██████████| 5000/5000 [00:00<00:00, 12214.40it/s]\n",
      "100%|██████████| 5000/5000 [00:00<00:00, 11942.79it/s]\n",
      "100%|██████████| 5000/5000 [00:00<00:00, 12030.68it/s]\n",
      "100%|██████████| 5000/5000 [00:00<00:00, 11828.98it/s]\n",
      "100%|██████████| 5000/5000 [00:00<00:00, 12365.55it/s]\n",
      "100%|██████████| 5000/5000 [00:00<00:00, 11967.35it/s]\n",
      "100%|██████████| 5000/5000 [00:00<00:00, 12022.33it/s]\n",
      " 24%|██▍       | 1222/5000 [00:00<00:00, 12215.96it/s]"
     ]
    },
    {
     "name": "stdout",
     "output_type": "stream",
     "text": [
      "Error message\n",
      "[Errno 17] File exists: '/root/BAMT/Nodes_data/6518'\n"
     ]
    },
    {
     "name": "stderr",
     "output_type": "stream",
     "text": [
      "100%|██████████| 5000/5000 [00:00<00:00, 12295.37it/s]\n",
      "100%|██████████| 5000/5000 [00:00<00:00, 12153.56it/s]\n",
      "100%|██████████| 5000/5000 [00:00<00:00, 11966.03it/s]\n",
      "100%|██████████| 5000/5000 [00:00<00:00, 11690.80it/s]\n",
      "100%|██████████| 5000/5000 [00:00<00:00, 12032.56it/s]\n",
      "100%|██████████| 5000/5000 [00:00<00:00, 12052.97it/s]\n",
      " 24%|██▍       | 1213/5000 [00:00<00:00, 12123.83it/s]"
     ]
    },
    {
     "name": "stdout",
     "output_type": "stream",
     "text": [
      "Error message\n",
      "[Errno 17] File exists: '/root/BAMT/Nodes_data/6522'\n"
     ]
    },
    {
     "name": "stderr",
     "output_type": "stream",
     "text": [
      "\r",
      " 47%|████▋     | 2338/5000 [00:00<00:00, 11583.90it/s]\r",
      "  0%|          | 0/5000 [00:00<?, ?it/s]\r",
      " 24%|██▍       | 1220/5000 [00:00<00:00, 12197.80it/s]\r",
      " 49%|████▊     | 2426/5000 [00:00<00:00, 11755.92it/s]\r",
      " 70%|██████▉   | 3497/5000 [00:00<00:00, 11556.11it/s]\r",
      "  0%|          | 0/5000 [00:00<?, ?it/s]\r",
      " 24%|██▍       | 1191/5000 [00:00<00:00, 11900.62it/s]\r",
      " 49%|████▉     | 2440/5000 [00:00<00:00, 11997.39it/s]\r",
      "  0%|          | 0/5000 [00:00<?, ?it/s]\r",
      " 72%|███████▏  | 3612/5000 [00:00<00:00, 11798.77it/s]\r",
      " 94%|█████████▎| 4687/5000 [00:00<00:00, 11690.73it/s]"
     ]
    },
    {
     "name": "stdout",
     "output_type": "stream",
     "text": [
      "Error message\n",
      "[Errno 17] File exists: '/root/BAMT/Nodes_data/6525'\n",
      "Error message\n",
      "[Errno 17] File exists: '/root/BAMT/Nodes_data/6526'\n"
     ]
    },
    {
     "name": "stderr",
     "output_type": "stream",
     "text": [
      "100%|██████████| 5000/5000 [00:00<00:00, 11661.03it/s]\n",
      "100%|██████████| 5000/5000 [00:00<00:00, 11843.06it/s]\n",
      "100%|██████████| 5000/5000 [00:00<00:00, 12067.04it/s]\n",
      "100%|██████████| 5000/5000 [00:00<00:00, 11923.40it/s]\n",
      "100%|██████████| 5000/5000 [00:00<00:00, 11846.01it/s]\n",
      "100%|██████████| 5000/5000 [00:00<00:00, 12474.53it/s]\n",
      "100%|██████████| 5000/5000 [00:00<00:00, 12024.95it/s]\n",
      "100%|██████████| 5000/5000 [00:00<00:00, 11900.23it/s]\n",
      "100%|██████████| 5000/5000 [00:00<00:00, 12258.85it/s]\n",
      "100%|██████████| 5000/5000 [00:00<00:00, 11991.27it/s]\n"
     ]
    },
    {
     "name": "stdout",
     "output_type": "stream",
     "text": [
      "2024-04-14 12:58:58,979 - MultiprocessingDispatcher - 41 individuals out of 54 in previous population were evaluated successfully.\n",
      "2024-04-14 12:58:58,982 - EvoGraphOptimizer - Generation num: 16 size: 55\n",
      "2024-04-14 12:58:58,983 - EvoGraphOptimizer - Best individuals: HallOfFame archive fitness (1): ['<custom=0.000>']\n",
      "2024-04-14 12:58:58,983 - EvoGraphOptimizer - no improvements for 1 iterations\n",
      "2024-04-14 12:58:58,983 - EvoGraphOptimizer - spent time: 1.0 min\n",
      "2024-04-14 12:58:58,984 - EvoGraphOptimizer - Next population size: 55; max graph depth: 100\n",
      "2024-04-14 12:58:59,006 - MultiprocessingDispatcher - Number of used CPU's: 6\n"
     ]
    },
    {
     "name": "stderr",
     "output_type": "stream",
     "text": [
      "\r",
      " 98%|█████████▊| 4897/5000 [00:00<00:00, 11781.85it/s]\r",
      "100%|██████████| 5000/5000 [00:00<00:00, 11890.90it/s]\n"
     ]
    },
    {
     "name": "stdout",
     "output_type": "stream",
     "text": [
      "Error message\n",
      "[Errno 17] File exists: '/root/BAMT/Nodes_data/6533'\n",
      "Error message\n",
      "[Errno 17] File exists: '/root/BAMT/Nodes_data/6533'\n",
      "Error message\n",
      "[Errno 17] File exists: '/root/BAMT/Nodes_data/6533'\n"
     ]
    },
    {
     "name": "stderr",
     "output_type": "stream",
     "text": [
      "\r",
      "  0%|          | 0/5000 [00:00<?, ?it/s]\r",
      "  0%|          | 0/5000 [00:00<?, ?it/s]\r",
      "  0%|          | 0/5000 [00:00<?, ?it/s]\r",
      "  0%|          | 0/5000 [00:00<?, ?it/s]\r",
      " 24%|██▎       | 1178/5000 [00:00<00:00, 11772.26it/s]\r",
      " 26%|██▌       | 1281/5000 [00:00<00:00, 12807.29it/s]\r",
      "  0%|          | 0/5000 [00:00<?, ?it/s]\r",
      " 24%|██▍       | 1223/5000 [00:00<00:00, 12225.67it/s]\r",
      " 23%|██▎       | 1170/5000 [00:00<00:00, 11696.66it/s]\r",
      " 47%|████▋     | 2356/5000 [00:00<00:00, 11713.28it/s]"
     ]
    },
    {
     "name": "stdout",
     "output_type": "stream",
     "text": [
      "Error message\n",
      "[Errno 17] File exists: '/root/BAMT/Nodes_data/6533'\n",
      "Error message\n",
      "[Errno 17] File exists: '/root/BAMT/Nodes_data/6536'\n",
      "Error message\n",
      "[Errno 17] File exists: '/root/BAMT/Nodes_data/6533'\n",
      "Error message\n",
      "[Errno 17] File exists: '/root/BAMT/Nodes_data/6536'\n",
      "Error message\n",
      "[Errno 17] File exists: '/root/BAMT/Nodes_data/6537'\n"
     ]
    },
    {
     "name": "stderr",
     "output_type": "stream",
     "text": [
      "100%|██████████| 5000/5000 [00:00<00:00, 11829.30it/s]\n",
      "100%|██████████| 5000/5000 [00:00<00:00, 12629.23it/s]\n",
      "100%|██████████| 5000/5000 [00:00<00:00, 12043.82it/s]\n",
      "100%|██████████| 5000/5000 [00:00<00:00, 11854.22it/s]\n",
      "100%|██████████| 5000/5000 [00:00<00:00, 11975.46it/s]\n",
      "100%|██████████| 5000/5000 [00:00<00:00, 11895.52it/s]\n",
      "100%|██████████| 5000/5000 [00:00<00:00, 12108.42it/s]\n",
      "100%|██████████| 5000/5000 [00:00<00:00, 11774.47it/s]\n",
      "100%|██████████| 5000/5000 [00:00<00:00, 11883.78it/s]\n",
      "100%|██████████| 5000/5000 [00:00<00:00, 11992.31it/s]\n",
      "100%|██████████| 5000/5000 [00:00<00:00, 11907.27it/s]\n",
      "100%|██████████| 5000/5000 [00:00<00:00, 11728.40it/s]\n",
      "100%|██████████| 5000/5000 [00:00<00:00, 12160.12it/s]\n",
      "100%|██████████| 5000/5000 [00:00<00:00, 11769.39it/s]\n",
      "100%|██████████| 5000/5000 [00:00<00:00, 11813.02it/s]\n",
      "100%|██████████| 5000/5000 [00:00<00:00, 12052.10it/s]\n",
      "100%|██████████| 5000/5000 [00:00<00:00, 11890.44it/s]\n",
      "100%|██████████| 5000/5000 [00:00<00:00, 12244.68it/s]\n",
      "100%|██████████| 5000/5000 [00:00<00:00, 12166.71it/s]\n",
      "100%|██████████| 5000/5000 [00:00<00:00, 12018.19it/s]\n",
      "100%|██████████| 5000/5000 [00:00<00:00, 11962.47it/s]\n",
      "100%|██████████| 5000/5000 [00:00<00:00, 11917.80it/s]\n",
      "100%|██████████| 5000/5000 [00:00<00:00, 11951.44it/s]\n",
      "100%|██████████| 5000/5000 [00:00<00:00, 12172.79it/s]\n",
      "100%|██████████| 5000/5000 [00:00<00:00, 12426.96it/s]\n",
      "100%|██████████| 5000/5000 [00:00<00:00, 11791.52it/s]\n",
      "100%|██████████| 5000/5000 [00:00<00:00, 11901.22it/s]\n",
      "100%|██████████| 5000/5000 [00:00<00:00, 12420.79it/s]\n",
      "100%|██████████| 5000/5000 [00:00<00:00, 11809.67it/s]\n",
      "100%|██████████| 5000/5000 [00:00<00:00, 11943.03it/s]\n",
      "100%|██████████| 5000/5000 [00:00<00:00, 11823.59it/s]\n",
      " 48%|████▊     | 2381/5000 [00:00<00:00, 11912.22it/s]"
     ]
    },
    {
     "name": "stdout",
     "output_type": "stream",
     "text": [
      "Error message\n",
      "[Errno 17] File exists: '/root/BAMT/Nodes_data/6565'\n"
     ]
    },
    {
     "name": "stderr",
     "output_type": "stream",
     "text": [
      "100%|██████████| 5000/5000 [00:00<00:00, 11715.83it/s]\n",
      "100%|██████████| 5000/5000 [00:00<00:00, 11879.81it/s]\n",
      "100%|██████████| 5000/5000 [00:00<00:00, 11823.41it/s]\n",
      "100%|██████████| 5000/5000 [00:00<00:00, 11825.07it/s]\n",
      "100%|██████████| 5000/5000 [00:00<00:00, 12006.94it/s]\n",
      "100%|██████████| 5000/5000 [00:00<00:00, 10983.34it/s]\n",
      "100%|██████████| 5000/5000 [00:00<00:00, 10955.20it/s]\n",
      "100%|██████████| 5000/5000 [00:00<00:00, 11432.98it/s]\n",
      "100%|██████████| 5000/5000 [00:00<00:00, 11755.82it/s]\n",
      "100%|██████████| 5000/5000 [00:00<00:00, 11806.44it/s]\n",
      "100%|██████████| 5000/5000 [00:00<00:00, 11665.71it/s]\n",
      "100%|██████████| 5000/5000 [00:00<00:00, 11712.12it/s]\n",
      "100%|██████████| 5000/5000 [00:00<00:00, 12052.87it/s]\n",
      "100%|██████████| 5000/5000 [00:00<00:00, 11768.62it/s]\n"
     ]
    },
    {
     "name": "stdout",
     "output_type": "stream",
     "text": [
      "2024-04-14 12:59:04,186 - MultiprocessingDispatcher - 45 individuals out of 54 in previous population were evaluated successfully.\n",
      "2024-04-14 12:59:04,189 - EvoGraphOptimizer - Generation num: 17 size: 55\n",
      "2024-04-14 12:59:04,189 - EvoGraphOptimizer - Best individuals: HallOfFame archive fitness (1): ['<custom=0.000>']\n",
      "2024-04-14 12:59:04,190 - EvoGraphOptimizer - no improvements for 2 iterations\n",
      "2024-04-14 12:59:04,190 - EvoGraphOptimizer - spent time: 1.1 min\n",
      "2024-04-14 12:59:04,191 - EvoGraphOptimizer - Next population size: 55; max graph depth: 100\n",
      "2024-04-14 12:59:04,214 - MultiprocessingDispatcher - Number of used CPU's: 6\n",
      "Error message\n",
      "[Errno 17] File exists: '/root/BAMT/Nodes_data/6578'\n",
      "Error message\n",
      "[Errno 17] File exists: '/root/BAMT/Nodes_data/6578'\n"
     ]
    },
    {
     "name": "stderr",
     "output_type": "stream",
     "text": [
      "\r",
      "  0%|          | 0/5000 [00:00<?, ?it/s]\r",
      "  0%|          | 0/5000 [00:00<?, ?it/s]\r",
      " 24%|██▍       | 1200/5000 [00:00<00:00, 11994.44it/s]\r",
      "  0%|          | 0/5000 [00:00<?, ?it/s]\r",
      " 23%|██▎       | 1141/5000 [00:00<00:00, 11407.97it/s]"
     ]
    },
    {
     "name": "stdout",
     "output_type": "stream",
     "text": [
      "Error message\n",
      "[Errno 17] File exists: '/root/BAMT/Nodes_data/6578'\n",
      "Error message\n",
      "[Errno 17] File exists: '/root/BAMT/Nodes_data/6580'\n",
      "Error message\n",
      "[Errno 17] File exists: '/root/BAMT/Nodes_data/6578'\n",
      "Error message\n",
      "[Errno 17] File exists: '/root/BAMT/Nodes_data/6580'\n",
      "Error message\n",
      "[Errno 17] File exists: '/root/BAMT/Nodes_data/6578'\n",
      "Error message\n",
      "[Errno 17] File exists: '/root/BAMT/Nodes_data/6580'\n",
      "Error message\n",
      "[Errno 17] File exists: '/root/BAMT/Nodes_data/6582'\n"
     ]
    },
    {
     "name": "stderr",
     "output_type": "stream",
     "text": [
      "100%|██████████| 5000/5000 [00:00<00:00, 11646.94it/s]\n",
      "100%|██████████| 5000/5000 [00:00<00:00, 11708.03it/s]\n",
      "100%|██████████| 5000/5000 [00:00<00:00, 11893.98it/s]\n",
      "100%|██████████| 5000/5000 [00:00<00:00, 12098.26it/s]\n",
      "100%|██████████| 5000/5000 [00:00<00:00, 12181.43it/s]\n",
      "100%|██████████| 5000/5000 [00:00<00:00, 12045.95it/s]\n",
      "100%|██████████| 5000/5000 [00:00<00:00, 11747.59it/s]\n",
      "100%|██████████| 5000/5000 [00:00<00:00, 11934.11it/s]\n",
      "100%|██████████| 5000/5000 [00:00<00:00, 12110.00it/s]\n",
      "100%|██████████| 5000/5000 [00:00<00:00, 11815.67it/s]\n",
      "100%|██████████| 5000/5000 [00:00<00:00, 12409.65it/s]\n",
      "100%|██████████| 5000/5000 [00:00<00:00, 11993.08it/s]\n",
      "100%|██████████| 5000/5000 [00:00<00:00, 11884.80it/s]\n",
      "100%|██████████| 5000/5000 [00:00<00:00, 11776.94it/s]\n",
      "100%|██████████| 5000/5000 [00:00<00:00, 11804.87it/s]\n",
      "100%|██████████| 5000/5000 [00:00<00:00, 12154.16it/s]\n",
      "100%|██████████| 5000/5000 [00:00<00:00, 12305.20it/s]\n",
      "100%|██████████| 5000/5000 [00:00<00:00, 11921.38it/s]\n",
      "100%|██████████| 5000/5000 [00:00<00:00, 11825.02it/s]\n",
      "100%|██████████| 5000/5000 [00:00<00:00, 11735.75it/s]\n",
      "100%|██████████| 5000/5000 [00:00<00:00, 11796.29it/s]\n",
      "100%|██████████| 5000/5000 [00:00<00:00, 11955.81it/s]\n",
      "100%|██████████| 5000/5000 [00:00<00:00, 12018.05it/s]\n",
      "100%|██████████| 5000/5000 [00:00<00:00, 12042.96it/s]\n",
      "100%|██████████| 5000/5000 [00:00<00:00, 12059.76it/s]\n",
      "100%|██████████| 5000/5000 [00:00<00:00, 12290.71it/s]\n",
      "100%|██████████| 5000/5000 [00:00<00:00, 11791.29it/s]\n",
      "100%|██████████| 5000/5000 [00:00<00:00, 11828.61it/s]\n",
      "100%|██████████| 5000/5000 [00:00<00:00, 11981.16it/s]\n",
      "100%|██████████| 5000/5000 [00:00<00:00, 12196.41it/s]\n",
      "100%|██████████| 5000/5000 [00:00<00:00, 11799.26it/s]\n",
      "100%|██████████| 5000/5000 [00:00<00:00, 11999.13it/s]\n",
      "100%|██████████| 5000/5000 [00:00<00:00, 11792.41it/s]\n",
      "100%|██████████| 5000/5000 [00:00<00:00, 12035.18it/s]\n",
      "100%|██████████| 5000/5000 [00:00<00:00, 11885.15it/s]\n",
      "100%|██████████| 5000/5000 [00:00<00:00, 11836.75it/s]\n",
      "100%|██████████| 5000/5000 [00:00<00:00, 11854.79it/s]\n",
      "100%|██████████| 5000/5000 [00:00<00:00, 11909.88it/s]\n",
      "100%|██████████| 5000/5000 [00:00<00:00, 11796.70it/s]\n",
      "100%|██████████| 5000/5000 [00:00<00:00, 12176.88it/s]\n",
      "100%|██████████| 5000/5000 [00:00<00:00, 11943.86it/s]\n",
      "100%|██████████| 5000/5000 [00:00<00:00, 11891.66it/s]\n",
      "100%|██████████| 5000/5000 [00:00<00:00, 11805.51it/s]\n",
      "100%|██████████| 5000/5000 [00:00<00:00, 12103.52it/s]\n",
      "100%|██████████| 5000/5000 [00:00<00:00, 11817.04it/s]\n"
     ]
    },
    {
     "name": "stdout",
     "output_type": "stream",
     "text": [
      "2024-04-14 12:59:09,505 - MultiprocessingDispatcher - 45 individuals out of 54 in previous population were evaluated successfully.\n",
      "2024-04-14 12:59:09,509 - EvoGraphOptimizer - Generation num: 18 size: 55\n",
      "2024-04-14 12:59:09,509 - EvoGraphOptimizer - Best individuals: HallOfFame archive fitness (1): ['<custom=0.000>']\n",
      "2024-04-14 12:59:09,509 - EvoGraphOptimizer - no improvements for 3 iterations\n",
      "2024-04-14 12:59:09,510 - EvoGraphOptimizer - spent time: 1.2 min\n",
      "2024-04-14 12:59:09,510 - EvoGraphOptimizer - Next population size: 55; max graph depth: 100\n",
      "2024-04-14 12:59:09,533 - MultiprocessingDispatcher - Number of used CPU's: 6\n"
     ]
    },
    {
     "name": "stderr",
     "output_type": "stream",
     "text": [
      "\r",
      "  0%|          | 0/5000 [00:00<?, ?it/s]\r",
      "  0%|          | 0/5000 [00:00<?, ?it/s]\r",
      "  0%|          | 0/5000 [00:00<?, ?it/s]\r",
      " 23%|██▎       | 1150/5000 [00:00<00:00, 11499.57it/s]\r",
      "  0%|          | 0/5000 [00:00<?, ?it/s]\r",
      "  0%|          | 0/5000 [00:00<?, ?it/s]\r",
      " 24%|██▍       | 1203/5000 [00:00<00:00, 12028.92it/s]\r",
      " 23%|██▎       | 1164/5000 [00:00<00:00, 11632.16it/s]\r",
      " 46%|████▋     | 2324/5000 [00:00<00:00, 11636.03it/s]"
     ]
    },
    {
     "name": "stdout",
     "output_type": "stream",
     "text": [
      "Error message\n",
      "[Errno 17] File exists: '/root/BAMT/Nodes_data/6623'\n",
      "Error message\n",
      "[Errno 17] File exists: '/root/BAMT/Nodes_data/6623'\n",
      "Error message\n",
      "[Errno 17] File exists: '/root/BAMT/Nodes_data/6623'\n",
      "Error message\n",
      "[Errno 17] File exists: '/root/BAMT/Nodes_data/6625'\n",
      "Error message\n",
      "[Errno 17] File exists: '/root/BAMT/Nodes_data/6623'\n",
      "Error message\n",
      "[Errno 17] File exists: '/root/BAMT/Nodes_data/6625'\n",
      "Error message\n",
      "[Errno 17] File exists: '/root/BAMT/Nodes_data/6623'\n",
      "Error message\n",
      "[Errno 17] File exists: '/root/BAMT/Nodes_data/6625'\n",
      "Error message\n",
      "[Errno 17] File exists: '/root/BAMT/Nodes_data/6627'\n"
     ]
    },
    {
     "name": "stderr",
     "output_type": "stream",
     "text": [
      "100%|██████████| 5000/5000 [00:00<00:00, 11812.96it/s]\n",
      "100%|██████████| 5000/5000 [00:00<00:00, 11919.67it/s]\n",
      "100%|██████████| 5000/5000 [00:00<00:00, 11827.12it/s]\n",
      "100%|██████████| 5000/5000 [00:00<00:00, 11896.01it/s]\n",
      "100%|██████████| 5000/5000 [00:00<00:00, 12104.01it/s]\n",
      "100%|██████████| 5000/5000 [00:00<00:00, 11972.13it/s]\n",
      " 47%|████▋     | 2340/5000 [00:00<00:00, 11742.17it/s]"
     ]
    },
    {
     "name": "stdout",
     "output_type": "stream",
     "text": [
      "Error message\n",
      "[Errno 17] File exists: '/root/BAMT/Nodes_data/6630'\n"
     ]
    },
    {
     "name": "stderr",
     "output_type": "stream",
     "text": [
      "100%|██████████| 5000/5000 [00:00<00:00, 11824.71it/s]\n",
      "100%|██████████| 5000/5000 [00:00<00:00, 11954.75it/s]\n",
      "100%|██████████| 5000/5000 [00:00<00:00, 11974.43it/s]\n",
      "100%|██████████| 5000/5000 [00:00<00:00, 11928.84it/s]\n",
      "100%|██████████| 5000/5000 [00:00<00:00, 11875.32it/s]\n",
      "100%|██████████| 5000/5000 [00:00<00:00, 11820.23it/s]\n",
      " 46%|████▋     | 2315/5000 [00:00<00:00, 11602.39it/s]"
     ]
    },
    {
     "name": "stdout",
     "output_type": "stream",
     "text": [
      "Error message\n",
      "[Errno 17] File exists: '/root/BAMT/Nodes_data/6637'\n"
     ]
    },
    {
     "name": "stderr",
     "output_type": "stream",
     "text": [
      "100%|██████████| 5000/5000 [00:00<00:00, 11836.67it/s]\n",
      "100%|██████████| 5000/5000 [00:00<00:00, 11887.47it/s]\n",
      "100%|██████████| 5000/5000 [00:00<00:00, 11857.40it/s]\n",
      "100%|██████████| 5000/5000 [00:00<00:00, 12034.28it/s]\n",
      "100%|██████████| 5000/5000 [00:00<00:00, 11980.70it/s]\n",
      "100%|██████████| 5000/5000 [00:00<00:00, 11962.62it/s]\n",
      "100%|██████████| 5000/5000 [00:00<00:00, 11838.15it/s]\n",
      "100%|██████████| 5000/5000 [00:00<00:00, 12023.32it/s]\n",
      "100%|██████████| 5000/5000 [00:00<00:00, 12010.10it/s]\n",
      "100%|██████████| 5000/5000 [00:00<00:00, 12004.94it/s]\n",
      "100%|██████████| 5000/5000 [00:00<00:00, 11803.93it/s]\n",
      "100%|██████████| 5000/5000 [00:00<00:00, 11835.54it/s]\n",
      "100%|██████████| 5000/5000 [00:00<00:00, 12033.72it/s]\n",
      "100%|██████████| 5000/5000 [00:00<00:00, 11751.86it/s]\n",
      "100%|██████████| 5000/5000 [00:00<00:00, 12204.50it/s]\n",
      "100%|██████████| 5000/5000 [00:00<00:00, 11818.90it/s]\n",
      "100%|██████████| 5000/5000 [00:00<00:00, 11996.89it/s]\n",
      "100%|██████████| 5000/5000 [00:00<00:00, 12164.53it/s]\n",
      "100%|██████████| 5000/5000 [00:00<00:00, 11838.62it/s]\n",
      "100%|██████████| 5000/5000 [00:00<00:00, 11830.00it/s]\n",
      "100%|██████████| 5000/5000 [00:00<00:00, 11918.88it/s]\n",
      "100%|██████████| 5000/5000 [00:00<00:00, 11943.92it/s]\n",
      "100%|██████████| 5000/5000 [00:00<00:00, 12044.57it/s]\n",
      "100%|██████████| 5000/5000 [00:00<00:00, 11964.43it/s]\n",
      "100%|██████████| 5000/5000 [00:00<00:00, 11881.43it/s]\n",
      "100%|██████████| 5000/5000 [00:00<00:00, 11938.75it/s]\n",
      "100%|██████████| 5000/5000 [00:00<00:00, 11884.85it/s]\n",
      "100%|██████████| 5000/5000 [00:00<00:00, 11905.65it/s]\n",
      "100%|██████████| 5000/5000 [00:00<00:00, 12002.07it/s]\n",
      "100%|██████████| 5000/5000 [00:00<00:00, 12077.00it/s]\n",
      "100%|██████████| 5000/5000 [00:00<00:00, 12052.41it/s]\n"
     ]
    },
    {
     "name": "stdout",
     "output_type": "stream",
     "text": [
      "2024-04-14 12:59:14,700 - MultiprocessingDispatcher - 43 individuals out of 54 in previous population were evaluated successfully.\n",
      "2024-04-14 12:59:14,704 - EvoGraphOptimizer - Generation num: 19 size: 55\n",
      "2024-04-14 12:59:14,704 - EvoGraphOptimizer - Best individuals: HallOfFame archive fitness (1): ['<custom=0.000>']\n",
      "2024-04-14 12:59:14,705 - EvoGraphOptimizer - Next population size: 55; max graph depth: 100\n",
      "2024-04-14 12:59:14,730 - MultiprocessingDispatcher - Number of used CPU's: 6\n",
      "Error message\n",
      "[Errno 17] File exists: '/root/BAMT/Nodes_data/6666'\n",
      "Error message\n",
      "[Errno 17] File exists: '/root/BAMT/Nodes_data/6666'\n",
      "Error message\n",
      "[Errno 17] File exists: '/root/BAMT/Nodes_data/6666'\n"
     ]
    },
    {
     "name": "stderr",
     "output_type": "stream",
     "text": [
      "\r",
      "  0%|          | 0/5000 [00:00<?, ?it/s]\r",
      "  0%|          | 0/5000 [00:00<?, ?it/s]\r",
      "  0%|          | 0/5000 [00:00<?, ?it/s]\r",
      "  0%|          | 0/5000 [00:00<?, ?it/s]\r",
      " 24%|██▍       | 1201/5000 [00:00<00:00, 12005.52it/s]\r",
      "  0%|          | 0/5000 [00:00<?, ?it/s]\r",
      " 24%|██▍       | 1193/5000 [00:00<00:00, 11926.29it/s]\r",
      " 24%|██▍       | 1190/5000 [00:00<00:00, 11892.13it/s]\r",
      " 24%|██▎       | 1180/5000 [00:00<00:00, 11793.32it/s]\r",
      " 48%|████▊     | 2402/5000 [00:00<00:00, 11957.29it/s]"
     ]
    },
    {
     "name": "stdout",
     "output_type": "stream",
     "text": [
      "Error message\n",
      "[Errno 17] File exists: '/root/BAMT/Nodes_data/6666'\n",
      "Error message\n",
      "[Errno 17] File exists: '/root/BAMT/Nodes_data/6669'\n",
      "Error message\n",
      "[Errno 17] File exists: '/root/BAMT/Nodes_data/6666'\n",
      "Error message\n",
      "[Errno 17] File exists: '/root/BAMT/Nodes_data/6669'\n",
      "Error message\n",
      "[Errno 17] File exists: '/root/BAMT/Nodes_data/6670'\n"
     ]
    },
    {
     "name": "stderr",
     "output_type": "stream",
     "text": [
      "100%|██████████| 5000/5000 [00:00<00:00, 11968.42it/s]\n",
      "100%|██████████| 5000/5000 [00:00<00:00, 12074.49it/s]\n",
      "100%|██████████| 5000/5000 [00:00<00:00, 11905.58it/s]\n",
      "100%|██████████| 5000/5000 [00:00<00:00, 11923.90it/s]\n",
      "100%|██████████| 5000/5000 [00:00<00:00, 11914.60it/s]\n",
      "100%|██████████| 5000/5000 [00:00<00:00, 11772.14it/s]\n",
      "100%|██████████| 5000/5000 [00:00<00:00, 12134.92it/s]\n",
      "100%|██████████| 5000/5000 [00:00<00:00, 11919.69it/s]\n",
      "100%|██████████| 5000/5000 [00:00<00:00, 11992.83it/s]\n",
      "100%|██████████| 5000/5000 [00:00<00:00, 11869.41it/s]\n",
      "100%|██████████| 5000/5000 [00:00<00:00, 11909.93it/s]\n",
      "100%|██████████| 5000/5000 [00:00<00:00, 12015.32it/s]\n",
      "100%|██████████| 5000/5000 [00:00<00:00, 11772.31it/s]\n",
      "100%|██████████| 5000/5000 [00:00<00:00, 12047.92it/s]\n",
      "100%|██████████| 5000/5000 [00:00<00:00, 11829.83it/s]\n",
      "100%|██████████| 5000/5000 [00:00<00:00, 11958.80it/s]\n",
      "100%|██████████| 5000/5000 [00:00<00:00, 12130.90it/s]\n",
      "100%|██████████| 5000/5000 [00:00<00:00, 12097.16it/s]\n",
      "100%|██████████| 5000/5000 [00:00<00:00, 11878.80it/s]\n",
      "100%|██████████| 5000/5000 [00:00<00:00, 12113.41it/s]\n",
      "100%|██████████| 5000/5000 [00:00<00:00, 11919.35it/s]\n",
      "100%|██████████| 5000/5000 [00:00<00:00, 11935.68it/s]\n",
      "100%|██████████| 5000/5000 [00:00<00:00, 12022.25it/s]\n",
      "100%|██████████| 5000/5000 [00:00<00:00, 12058.81it/s]\n",
      "100%|██████████| 5000/5000 [00:00<00:00, 11846.77it/s]\n",
      "100%|██████████| 5000/5000 [00:00<00:00, 12125.21it/s]\n",
      "100%|██████████| 5000/5000 [00:00<00:00, 11960.90it/s]\n",
      "100%|██████████| 5000/5000 [00:00<00:00, 12377.38it/s]\n",
      "100%|██████████| 5000/5000 [00:00<00:00, 11950.57it/s]\n",
      "100%|██████████| 5000/5000 [00:00<00:00, 11869.20it/s]\n",
      " 71%|███████   | 3549/5000 [00:00<00:00, 11736.80it/s]"
     ]
    },
    {
     "name": "stdout",
     "output_type": "stream",
     "text": [
      "Error message\n",
      "[Errno 17] File exists: '/root/BAMT/Nodes_data/6698'\n"
     ]
    },
    {
     "name": "stderr",
     "output_type": "stream",
     "text": [
      "100%|██████████| 5000/5000 [00:00<00:00, 11774.50it/s]\n",
      "100%|██████████| 5000/5000 [00:00<00:00, 11772.48it/s]\n",
      "100%|██████████| 5000/5000 [00:00<00:00, 12231.86it/s]\n",
      "100%|██████████| 5000/5000 [00:00<00:00, 11835.56it/s]\n",
      "100%|██████████| 5000/5000 [00:00<00:00, 11818.92it/s]\n",
      "100%|██████████| 5000/5000 [00:00<00:00, 11928.24it/s]\n",
      " 49%|████▉     | 2450/5000 [00:00<00:00, 12173.34it/s]"
     ]
    },
    {
     "name": "stdout",
     "output_type": "stream",
     "text": [
      "Error message\n",
      "[Errno 17] File exists: '/root/BAMT/Nodes_data/6706'\n"
     ]
    },
    {
     "name": "stderr",
     "output_type": "stream",
     "text": [
      "100%|██████████| 5000/5000 [00:00<00:00, 11828.21it/s]\n",
      "100%|██████████| 5000/5000 [00:00<00:00, 11964.28it/s]\n",
      "100%|██████████| 5000/5000 [00:00<00:00, 12132.68it/s]\n",
      "100%|██████████| 5000/5000 [00:00<00:00, 12043.45it/s]\n",
      "100%|██████████| 5000/5000 [00:00<00:00, 11859.98it/s]\n",
      "100%|██████████| 5000/5000 [00:00<00:00, 12284.51it/s]\n",
      "100%|██████████| 5000/5000 [00:00<00:00, 12105.57it/s]\n",
      "100%|██████████| 5000/5000 [00:00<00:00, 12147.97it/s]\n"
     ]
    },
    {
     "name": "stdout",
     "output_type": "stream",
     "text": [
      "2024-04-14 12:59:19,996 - MultiprocessingDispatcher - 44 individuals out of 54 in previous population were evaluated successfully.\n",
      "2024-04-14 12:59:20,000 - EvoGraphOptimizer - Generation num: 20 size: 55\n",
      "2024-04-14 12:59:20,000 - EvoGraphOptimizer - Best individuals: HallOfFame archive fitness (1): ['<custom=0.000>']\n",
      "2024-04-14 12:59:20,001 - EvoGraphOptimizer - no improvements for 1 iterations\n",
      "2024-04-14 12:59:20,001 - EvoGraphOptimizer - spent time: 1.4 min\n",
      "2024-04-14 12:59:20,002 - EvoGraphOptimizer - Next population size: 55; max graph depth: 100\n",
      "2024-04-14 12:59:20,026 - MultiprocessingDispatcher - Number of used CPU's: 6\n",
      "Error message\n",
      "[Errno 17] File exists: '/root/BAMT/Nodes_data/6710'\n",
      "Error message\n",
      "[Errno 17] File exists: '/root/BAMT/Nodes_data/6710'\n"
     ]
    },
    {
     "name": "stderr",
     "output_type": "stream",
     "text": [
      "\r",
      "  0%|          | 0/5000 [00:00<?, ?it/s]\r",
      "  0%|          | 0/5000 [00:00<?, ?it/s]\r",
      "  0%|          | 0/5000 [00:00<?, ?it/s]\r",
      " 23%|██▎       | 1148/5000 [00:00<00:00, 11473.83it/s]\r",
      "  0%|          | 0/5000 [00:00<?, ?it/s]\r",
      "  0%|          | 0/5000 [00:00<?, ?it/s]\r",
      "  0%|          | 0/5000 [00:00<?, ?it/s]\r",
      " 24%|██▎       | 1182/5000 [00:00<00:00, 11815.70it/s]\r",
      " 24%|██▎       | 1183/5000 [00:00<00:00, 11828.66it/s]\r",
      " 47%|████▋     | 2330/5000 [00:00<00:00, 11675.64it/s]"
     ]
    },
    {
     "name": "stdout",
     "output_type": "stream",
     "text": [
      "Error message\n",
      "[Errno 17] File exists: '/root/BAMT/Nodes_data/6710'\n",
      "Error message\n",
      "[Errno 17] File exists: '/root/BAMT/Nodes_data/6711'\n",
      "Error message\n",
      "[Errno 17] File exists: '/root/BAMT/Nodes_data/6710'\n",
      "Error message\n",
      "[Errno 17] File exists: '/root/BAMT/Nodes_data/6712'\n",
      "Error message\n",
      "[Errno 17] File exists: '/root/BAMT/Nodes_data/6710'\n",
      "Error message\n",
      "[Errno 17] File exists: '/root/BAMT/Nodes_data/6712'\n"
     ]
    },
    {
     "name": "stderr",
     "output_type": "stream",
     "text": [
      "100%|██████████| 5000/5000 [00:00<00:00, 11774.64it/s]\n",
      "100%|██████████| 5000/5000 [00:00<00:00, 12034.34it/s]\n",
      "100%|██████████| 5000/5000 [00:00<00:00, 11910.22it/s]\n",
      "100%|██████████| 5000/5000 [00:00<00:00, 12007.59it/s]\n",
      "100%|██████████| 5000/5000 [00:00<00:00, 12163.00it/s]\n",
      "100%|██████████| 5000/5000 [00:00<00:00, 12036.11it/s]\n",
      "100%|██████████| 5000/5000 [00:00<00:00, 11912.75it/s]\n",
      "100%|██████████| 5000/5000 [00:00<00:00, 11893.92it/s]\n",
      "100%|██████████| 5000/5000 [00:00<00:00, 12029.59it/s]\n",
      "100%|██████████| 5000/5000 [00:00<00:00, 11870.70it/s]\n",
      "100%|██████████| 5000/5000 [00:00<00:00, 12060.00it/s]\n",
      "100%|██████████| 5000/5000 [00:00<00:00, 11979.80it/s]\n",
      " 48%|████▊     | 2383/5000 [00:00<00:00, 11906.74it/s]"
     ]
    },
    {
     "name": "stdout",
     "output_type": "stream",
     "text": [
      "Error message\n",
      "[Errno 17] File exists: '/root/BAMT/Nodes_data/6722'\n",
      "Error message\n",
      "[Errno 17] File exists: '/root/BAMT/Nodes_data/6723'\n"
     ]
    },
    {
     "name": "stderr",
     "output_type": "stream",
     "text": [
      "100%|██████████| 5000/5000 [00:00<00:00, 12030.82it/s]\n",
      "100%|██████████| 5000/5000 [00:00<00:00, 11862.08it/s]\n",
      "100%|██████████| 5000/5000 [00:00<00:00, 11868.22it/s]\n",
      "100%|██████████| 5000/5000 [00:00<00:00, 11877.86it/s]\n",
      "100%|██████████| 5000/5000 [00:00<00:00, 12248.81it/s]\n",
      "100%|██████████| 5000/5000 [00:00<00:00, 12077.04it/s]\n",
      "100%|██████████| 5000/5000 [00:00<00:00, 11908.84it/s]\n",
      "100%|██████████| 5000/5000 [00:00<00:00, 11772.25it/s]\n",
      "100%|██████████| 5000/5000 [00:00<00:00, 12267.16it/s]\n",
      "100%|██████████| 5000/5000 [00:00<00:00, 12072.25it/s]\n",
      "100%|██████████| 5000/5000 [00:00<00:00, 12039.45it/s]\n",
      "100%|██████████| 5000/5000 [00:00<00:00, 12065.79it/s]\n",
      "100%|██████████| 5000/5000 [00:00<00:00, 11688.98it/s]\n",
      "100%|██████████| 5000/5000 [00:00<00:00, 11703.16it/s]\n",
      "100%|██████████| 5000/5000 [00:00<00:00, 11608.17it/s]\n",
      "100%|██████████| 5000/5000 [00:00<00:00, 11907.80it/s]\n",
      "100%|██████████| 5000/5000 [00:00<00:00, 11586.72it/s]\n",
      "100%|██████████| 5000/5000 [00:00<00:00, 11708.91it/s]\n",
      "100%|██████████| 5000/5000 [00:00<00:00, 11673.15it/s]\n",
      "100%|██████████| 5000/5000 [00:00<00:00, 12116.31it/s]\n",
      "100%|██████████| 5000/5000 [00:00<00:00, 11845.59it/s]\n",
      "100%|██████████| 5000/5000 [00:00<00:00, 11902.43it/s]\n",
      "100%|██████████| 5000/5000 [00:00<00:00, 12134.93it/s]\n",
      "100%|██████████| 5000/5000 [00:00<00:00, 11930.74it/s]\n",
      "100%|██████████| 5000/5000 [00:00<00:00, 11698.52it/s]\n",
      "100%|██████████| 5000/5000 [00:00<00:00, 11794.55it/s]\n",
      "100%|██████████| 5000/5000 [00:00<00:00, 11786.41it/s]\n",
      "100%|██████████| 5000/5000 [00:00<00:00, 11977.96it/s]\n",
      "100%|██████████| 5000/5000 [00:00<00:00, 11848.01it/s]\n",
      "100%|██████████| 5000/5000 [00:00<00:00, 12122.60it/s]\n",
      "100%|██████████| 5000/5000 [00:00<00:00, 12106.29it/s]\n",
      "100%|██████████| 5000/5000 [00:00<00:00, 12211.65it/s]\n"
     ]
    },
    {
     "name": "stdout",
     "output_type": "stream",
     "text": [
      "2024-04-14 12:59:25,334 - MultiprocessingDispatcher - 44 individuals out of 54 in previous population were evaluated successfully.\n",
      "2024-04-14 12:59:25,338 - EvoGraphOptimizer - Generation num: 21 size: 55\n",
      "2024-04-14 12:59:25,339 - EvoGraphOptimizer - Best individuals: HallOfFame archive fitness (1): ['<custom=0.000>']\n",
      "2024-04-14 12:59:25,339 - EvoGraphOptimizer - no improvements for 2 iterations\n",
      "2024-04-14 12:59:25,340 - EvoGraphOptimizer - spent time: 1.5 min\n",
      "2024-04-14 12:59:25,340 - EvoGraphOptimizer - Next population size: 55; max graph depth: 100\n",
      "2024-04-14 12:59:25,363 - MultiprocessingDispatcher - Number of used CPU's: 6\n",
      "Error message\n",
      "[Errno 17] File exists: '/root/BAMT/Nodes_data/6754'\n",
      "Error message\n",
      "[Errno 17] File exists: '/root/BAMT/Nodes_data/6754'\n",
      "Error message\n",
      "[Errno 17] File exists: '/root/BAMT/Nodes_data/6754'\n"
     ]
    },
    {
     "name": "stderr",
     "output_type": "stream",
     "text": [
      "\r",
      "  0%|          | 0/5000 [00:00<?, ?it/s]\r",
      "  0%|          | 0/5000 [00:00<?, ?it/s]\r",
      " 25%|██▌       | 1253/5000 [00:00<00:00, 12523.68it/s]\r",
      "  0%|          | 0/5000 [00:00<?, ?it/s]\r",
      "  0%|          | 0/5000 [00:00<?, ?it/s]\r",
      " 24%|██▎       | 1180/5000 [00:00<00:00, 11793.46it/s]\r",
      "  0%|          | 0/5000 [00:00<?, ?it/s]\r",
      " 50%|█████     | 2506/5000 [00:00<00:00, 12466.85it/s]"
     ]
    },
    {
     "name": "stdout",
     "output_type": "stream",
     "text": [
      "Error message\n",
      "[Errno 17] File exists: '/root/BAMT/Nodes_data/6754'\n",
      "Error message\n",
      "[Errno 17] File exists: '/root/BAMT/Nodes_data/6756'\n",
      "Error message\n",
      "[Errno 17] File exists: '/root/BAMT/Nodes_data/6754'\n",
      "Error message\n",
      "[Errno 17] File exists: '/root/BAMT/Nodes_data/6756'\n",
      "Error message\n",
      "[Errno 17] File exists: '/root/BAMT/Nodes_data/6758'\n"
     ]
    },
    {
     "name": "stderr",
     "output_type": "stream",
     "text": [
      "100%|██████████| 5000/5000 [00:00<00:00, 12656.90it/s]\n",
      "100%|██████████| 5000/5000 [00:00<00:00, 11771.91it/s]\n",
      "100%|██████████| 5000/5000 [00:00<00:00, 11853.46it/s]\n",
      "100%|██████████| 5000/5000 [00:00<00:00, 11759.59it/s]\n",
      "100%|██████████| 5000/5000 [00:00<00:00, 11841.71it/s]\n",
      "100%|██████████| 5000/5000 [00:00<00:00, 11429.26it/s]\n",
      "100%|██████████| 5000/5000 [00:00<00:00, 10871.22it/s]\n",
      "100%|██████████| 5000/5000 [00:00<00:00, 11143.28it/s]\n",
      "100%|██████████| 5000/5000 [00:00<00:00, 11066.33it/s]\n",
      "100%|██████████| 5000/5000 [00:00<00:00, 11178.54it/s]\n",
      "100%|██████████| 5000/5000 [00:00<00:00, 11153.33it/s]\n",
      "100%|██████████| 5000/5000 [00:00<00:00, 11377.23it/s]\n",
      "100%|██████████| 5000/5000 [00:00<00:00, 11754.60it/s]\n",
      "100%|██████████| 5000/5000 [00:00<00:00, 11772.34it/s]\n",
      "100%|██████████| 5000/5000 [00:00<00:00, 11897.67it/s]\n",
      "100%|██████████| 5000/5000 [00:00<00:00, 11851.83it/s]\n",
      "100%|██████████| 5000/5000 [00:00<00:00, 12119.84it/s]\n",
      "100%|██████████| 5000/5000 [00:00<00:00, 11840.22it/s]\n",
      "100%|██████████| 5000/5000 [00:00<00:00, 11769.08it/s]\n",
      "100%|██████████| 5000/5000 [00:00<00:00, 12236.60it/s]\n",
      "100%|██████████| 5000/5000 [00:00<00:00, 11707.51it/s]\n",
      "100%|██████████| 5000/5000 [00:00<00:00, 11869.27it/s]\n",
      "100%|██████████| 5000/5000 [00:00<00:00, 11943.03it/s]\n",
      "100%|██████████| 5000/5000 [00:00<00:00, 12092.12it/s]\n",
      "100%|██████████| 5000/5000 [00:00<00:00, 11738.61it/s]\n",
      "100%|██████████| 5000/5000 [00:00<00:00, 12093.28it/s]\n",
      "100%|██████████| 5000/5000 [00:00<00:00, 12139.14it/s]\n",
      "100%|██████████| 5000/5000 [00:00<00:00, 11842.78it/s]\n",
      "100%|██████████| 5000/5000 [00:00<00:00, 11919.38it/s]\n",
      "100%|██████████| 5000/5000 [00:00<00:00, 11802.31it/s]\n",
      "100%|██████████| 5000/5000 [00:00<00:00, 11811.13it/s]\n",
      "100%|██████████| 5000/5000 [00:00<00:00, 11766.55it/s]\n",
      "100%|██████████| 5000/5000 [00:00<00:00, 11868.06it/s]\n",
      "100%|██████████| 5000/5000 [00:00<00:00, 12109.05it/s]\n",
      "100%|██████████| 5000/5000 [00:00<00:00, 11914.88it/s]\n",
      "100%|██████████| 5000/5000 [00:00<00:00, 11740.37it/s]\n",
      "100%|██████████| 5000/5000 [00:00<00:00, 11878.04it/s]\n",
      "100%|██████████| 5000/5000 [00:00<00:00, 11884.57it/s]\n",
      "100%|██████████| 5000/5000 [00:00<00:00, 11998.96it/s]\n",
      "100%|██████████| 5000/5000 [00:00<00:00, 11745.08it/s]\n",
      "100%|██████████| 5000/5000 [00:00<00:00, 11915.26it/s]\n",
      "100%|██████████| 5000/5000 [00:00<00:00, 11929.24it/s]\n",
      "100%|██████████| 5000/5000 [00:00<00:00, 11960.77it/s]\n",
      "100%|██████████| 5000/5000 [00:00<00:00, 11826.25it/s]\n",
      "100%|██████████| 5000/5000 [00:00<00:00, 11908.62it/s]\n",
      "100%|██████████| 5000/5000 [00:00<00:00, 11771.86it/s]\n"
     ]
    },
    {
     "name": "stdout",
     "output_type": "stream",
     "text": [
      "2024-04-14 12:59:30,723 - MultiprocessingDispatcher - 46 individuals out of 54 in previous population were evaluated successfully.\n",
      "2024-04-14 12:59:30,727 - EvoGraphOptimizer - Generation num: 22 size: 55\n",
      "2024-04-14 12:59:30,727 - EvoGraphOptimizer - Best individuals: HallOfFame archive fitness (1): ['<custom=0.000>']\n",
      "2024-04-14 12:59:30,728 - EvoGraphOptimizer - no improvements for 3 iterations\n",
      "2024-04-14 12:59:30,728 - EvoGraphOptimizer - spent time: 1.6 min\n",
      "2024-04-14 12:59:30,729 - EvoGraphOptimizer - Next population size: 55; max graph depth: 100\n",
      "2024-04-14 12:59:30,755 - MultiprocessingDispatcher - Number of used CPU's: 6\n",
      "Error message\n",
      "[Errno 17] File exists: '/root/BAMT/Nodes_data/6800'\n",
      "Error message\n",
      "[Errno 17] File exists: '/root/BAMT/Nodes_data/6800'\n"
     ]
    },
    {
     "name": "stderr",
     "output_type": "stream",
     "text": [
      "\r",
      "  0%|          | 0/5000 [00:00<?, ?it/s]\r",
      "  0%|          | 0/5000 [00:00<?, ?it/s]\r",
      "  0%|          | 0/5000 [00:00<?, ?it/s]\r",
      " 23%|██▎       | 1130/5000 [00:00<00:00, 11296.78it/s]\r",
      "  0%|          | 0/5000 [00:00<?, ?it/s]\r",
      "  0%|          | 0/5000 [00:00<?, ?it/s]\r",
      " 23%|██▎       | 1171/5000 [00:00<00:00, 11704.07it/s]\r",
      " 24%|██▎       | 1176/5000 [00:00<00:00, 11751.13it/s]\r",
      " 47%|████▋     | 2327/5000 [00:00<00:00, 11692.39it/s]"
     ]
    },
    {
     "name": "stdout",
     "output_type": "stream",
     "text": [
      "Error message\n",
      "[Errno 17] File exists: '/root/BAMT/Nodes_data/6800'\n",
      "Error message\n",
      "[Errno 17] File exists: '/root/BAMT/Nodes_data/6801'\n",
      "Error message\n",
      "[Errno 17] File exists: '/root/BAMT/Nodes_data/6800'\n",
      "Error message\n",
      "[Errno 17] File exists: '/root/BAMT/Nodes_data/6802'\n",
      "Error message\n",
      "[Errno 17] File exists: '/root/BAMT/Nodes_data/6800'\n",
      "Error message\n",
      "[Errno 17] File exists: '/root/BAMT/Nodes_data/6802'\n",
      "Error message\n",
      "[Errno 17] File exists: '/root/BAMT/Nodes_data/6804'\n"
     ]
    },
    {
     "name": "stderr",
     "output_type": "stream",
     "text": [
      "100%|██████████| 5000/5000 [00:00<00:00, 11765.90it/s]\n",
      "100%|██████████| 5000/5000 [00:00<00:00, 11808.29it/s]\n",
      "100%|██████████| 5000/5000 [00:00<00:00, 12001.94it/s]\n",
      "100%|██████████| 5000/5000 [00:00<00:00, 12096.26it/s]\n",
      "100%|██████████| 5000/5000 [00:00<00:00, 11889.38it/s]\n",
      "100%|██████████| 5000/5000 [00:00<00:00, 12085.43it/s]\n",
      "100%|██████████| 5000/5000 [00:00<00:00, 11871.40it/s]\n",
      "100%|██████████| 5000/5000 [00:00<00:00, 11901.79it/s]\n",
      "100%|██████████| 5000/5000 [00:00<00:00, 12090.38it/s]\n",
      "100%|██████████| 5000/5000 [00:00<00:00, 12047.93it/s]\n",
      "100%|██████████| 5000/5000 [00:00<00:00, 11911.12it/s]\n",
      "100%|██████████| 5000/5000 [00:00<00:00, 11863.96it/s]\n",
      "100%|██████████| 5000/5000 [00:00<00:00, 12108.24it/s]\n",
      "100%|██████████| 5000/5000 [00:00<00:00, 11846.51it/s]\n",
      "100%|██████████| 5000/5000 [00:00<00:00, 11905.21it/s]\n",
      "100%|██████████| 5000/5000 [00:00<00:00, 11947.16it/s]\n",
      "100%|██████████| 5000/5000 [00:00<00:00, 12243.90it/s]\n",
      "100%|██████████| 5000/5000 [00:00<00:00, 11921.53it/s]\n",
      " 49%|████▊     | 2436/5000 [00:00<00:00, 12027.42it/s]"
     ]
    },
    {
     "name": "stdout",
     "output_type": "stream",
     "text": [
      "Error message\n",
      "[Errno 17] File exists: '/root/BAMT/Nodes_data/6821'\n"
     ]
    },
    {
     "name": "stderr",
     "output_type": "stream",
     "text": [
      "100%|██████████| 5000/5000 [00:00<00:00, 11655.05it/s]\n",
      "100%|██████████| 5000/5000 [00:00<00:00, 11952.01it/s]\n",
      "100%|██████████| 5000/5000 [00:00<00:00, 11875.42it/s]\n",
      "100%|██████████| 5000/5000 [00:00<00:00, 11766.87it/s]\n",
      "100%|██████████| 5000/5000 [00:00<00:00, 11735.38it/s]\n",
      "100%|██████████| 5000/5000 [00:00<00:00, 12142.72it/s]\n",
      "100%|██████████| 5000/5000 [00:00<00:00, 11755.15it/s]\n",
      "100%|██████████| 5000/5000 [00:00<00:00, 11993.65it/s]\n",
      "100%|██████████| 5000/5000 [00:00<00:00, 11891.30it/s]\n",
      "100%|██████████| 5000/5000 [00:00<00:00, 11931.04it/s]\n",
      "100%|██████████| 5000/5000 [00:00<00:00, 11912.73it/s]\n",
      "100%|██████████| 5000/5000 [00:00<00:00, 11950.16it/s]\n",
      "100%|██████████| 5000/5000 [00:00<00:00, 11900.22it/s]\n",
      "100%|██████████| 5000/5000 [00:00<00:00, 11817.85it/s]\n",
      "100%|██████████| 5000/5000 [00:00<00:00, 12086.63it/s]\n",
      "100%|██████████| 5000/5000 [00:00<00:00, 12055.65it/s]\n",
      "100%|██████████| 5000/5000 [00:00<00:00, 11952.38it/s]\n",
      "100%|██████████| 5000/5000 [00:00<00:00, 11820.74it/s]\n",
      "100%|██████████| 5000/5000 [00:00<00:00, 11933.00it/s]\n",
      "100%|██████████| 5000/5000 [00:00<00:00, 11882.59it/s]\n",
      "100%|██████████| 5000/5000 [00:00<00:00, 12168.70it/s]\n",
      "100%|██████████| 5000/5000 [00:00<00:00, 11837.10it/s]\n",
      "100%|██████████| 5000/5000 [00:00<00:00, 12036.27it/s]\n",
      "100%|██████████| 5000/5000 [00:00<00:00, 11942.38it/s]\n",
      "100%|██████████| 5000/5000 [00:00<00:00, 12031.31it/s]\n",
      " 97%|█████████▋| 4848/5000 [00:00<00:00, 12160.19it/s]"
     ]
    },
    {
     "name": "stdout",
     "output_type": "stream",
     "text": [
      "2024-04-14 12:59:35,953 - MultiprocessingDispatcher - 44 individuals out of 54 in previous population were evaluated successfully.\n",
      "2024-04-14 12:59:35,957 - EvoGraphOptimizer - Generation num: 23 size: 55\n",
      "2024-04-14 12:59:35,957 - EvoGraphOptimizer - Best individuals: HallOfFame archive fitness (1): ['<custom=0.000>']\n",
      "2024-04-14 12:59:35,957 - EvoGraphOptimizer - no improvements for 4 iterations\n",
      "2024-04-14 12:59:35,958 - EvoGraphOptimizer - spent time: 1.7 min\n",
      "2024-04-14 12:59:35,958 - EvoGraphOptimizer - Next population size: 55; max graph depth: 100\n",
      "2024-04-14 12:59:35,984 - MultiprocessingDispatcher - Number of used CPU's: 6\n"
     ]
    },
    {
     "name": "stderr",
     "output_type": "stream",
     "text": [
      "\r",
      "100%|██████████| 5000/5000 [00:00<00:00, 12064.46it/s]\n"
     ]
    },
    {
     "name": "stdout",
     "output_type": "stream",
     "text": [
      "Error message\n",
      "[Errno 17] File exists: '/root/BAMT/Nodes_data/6844'\n",
      "Error message\n",
      "[Errno 17] File exists: '/root/BAMT/Nodes_data/6844'\n",
      "Error message\n",
      "[Errno 17] File exists: '/root/BAMT/Nodes_data/6844'\n"
     ]
    },
    {
     "name": "stderr",
     "output_type": "stream",
     "text": [
      "\r",
      "  0%|          | 0/5000 [00:00<?, ?it/s]\r",
      "  0%|          | 0/5000 [00:00<?, ?it/s]\r",
      "  0%|          | 0/5000 [00:00<?, ?it/s]\r",
      " 24%|██▍       | 1203/5000 [00:00<00:00, 12023.93it/s]\r",
      "  0%|          | 0/5000 [00:00<?, ?it/s]\r",
      "  0%|          | 0/5000 [00:00<?, ?it/s]\r",
      " 23%|██▎       | 1167/5000 [00:00<00:00, 11664.67it/s]\r",
      " 24%|██▎       | 1176/5000 [00:00<00:00, 11751.16it/s]"
     ]
    },
    {
     "name": "stdout",
     "output_type": "stream",
     "text": [
      "Error message\n",
      "[Errno 17] File exists: '/root/BAMT/Nodes_data/6844'\n",
      "Error message\n",
      "[Errno 17] File exists: '/root/BAMT/Nodes_data/6847'\n",
      "Error message\n",
      "[Errno 17] File exists: '/root/BAMT/Nodes_data/6844'\n",
      "Error message\n",
      "[Errno 17] File exists: '/root/BAMT/Nodes_data/6847'\n",
      "Error message\n",
      "[Errno 17] File exists: '/root/BAMT/Nodes_data/6848'\n"
     ]
    },
    {
     "name": "stderr",
     "output_type": "stream",
     "text": [
      "100%|██████████| 5000/5000 [00:00<00:00, 11882.71it/s]\n",
      "100%|██████████| 5000/5000 [00:00<00:00, 11891.29it/s]\n",
      "100%|██████████| 5000/5000 [00:00<00:00, 11708.27it/s]\n",
      "100%|██████████| 5000/5000 [00:00<00:00, 11881.28it/s]\n",
      "100%|██████████| 5000/5000 [00:00<00:00, 11848.13it/s]\n",
      "100%|██████████| 5000/5000 [00:00<00:00, 11879.63it/s]\n",
      "100%|██████████| 5000/5000 [00:00<00:00, 11778.27it/s]\n",
      "100%|██████████| 5000/5000 [00:00<00:00, 11951.99it/s]\n",
      "100%|██████████| 5000/5000 [00:00<00:00, 11935.19it/s]\n",
      "100%|██████████| 5000/5000 [00:00<00:00, 11826.69it/s]\n",
      "100%|██████████| 5000/5000 [00:00<00:00, 12073.29it/s]\n",
      "100%|██████████| 5000/5000 [00:00<00:00, 11858.61it/s]\n",
      "100%|██████████| 5000/5000 [00:00<00:00, 11927.80it/s]\n",
      "100%|██████████| 5000/5000 [00:00<00:00, 11934.56it/s]\n",
      "100%|██████████| 5000/5000 [00:00<00:00, 11831.04it/s]\n",
      "100%|██████████| 5000/5000 [00:00<00:00, 12085.26it/s]\n",
      "100%|██████████| 5000/5000 [00:00<00:00, 11887.11it/s]\n",
      "100%|██████████| 5000/5000 [00:00<00:00, 11950.00it/s]\n",
      "100%|██████████| 5000/5000 [00:00<00:00, 11835.51it/s]\n",
      "100%|██████████| 5000/5000 [00:00<00:00, 12000.11it/s]\n",
      "100%|██████████| 5000/5000 [00:00<00:00, 11874.31it/s]\n",
      "100%|██████████| 5000/5000 [00:00<00:00, 12007.03it/s]\n",
      "100%|██████████| 5000/5000 [00:00<00:00, 11981.21it/s]\n",
      "100%|██████████| 5000/5000 [00:00<00:00, 12284.25it/s]\n",
      "100%|██████████| 5000/5000 [00:00<00:00, 12362.23it/s]\n",
      "  0%|          | 0/5000 [00:00<?, ?it/s] 12304.41it/s]"
     ]
    },
    {
     "name": "stdout",
     "output_type": "stream",
     "text": [
      "Error message\n",
      "[Errno 17] File exists: '/root/BAMT/Nodes_data/6870'\n"
     ]
    },
    {
     "name": "stderr",
     "output_type": "stream",
     "text": [
      "100%|██████████| 5000/5000 [00:00<00:00, 11874.59it/s]\n",
      "100%|██████████| 5000/5000 [00:00<00:00, 11943.37it/s]\n",
      "100%|██████████| 5000/5000 [00:00<00:00, 11755.02it/s]\n",
      "100%|██████████| 5000/5000 [00:00<00:00, 12049.96it/s]\n",
      "100%|██████████| 5000/5000 [00:00<00:00, 11918.02it/s]\n",
      "100%|██████████| 5000/5000 [00:00<00:00, 11699.95it/s]\n",
      "100%|██████████| 5000/5000 [00:00<00:00, 12045.53it/s]\n",
      "100%|██████████| 5000/5000 [00:00<00:00, 11867.06it/s]\n",
      "100%|██████████| 5000/5000 [00:00<00:00, 11924.84it/s]\n",
      "100%|██████████| 5000/5000 [00:00<00:00, 11977.22it/s]\n",
      "100%|██████████| 5000/5000 [00:00<00:00, 11772.79it/s]\n",
      "100%|██████████| 5000/5000 [00:00<00:00, 11817.40it/s]\n",
      "100%|██████████| 5000/5000 [00:00<00:00, 12156.49it/s]\n",
      "100%|██████████| 5000/5000 [00:00<00:00, 11965.99it/s]\n",
      "100%|██████████| 5000/5000 [00:00<00:00, 11730.05it/s]\n",
      "100%|██████████| 5000/5000 [00:00<00:00, 12001.32it/s]\n",
      "100%|██████████| 5000/5000 [00:00<00:00, 11983.86it/s]\n",
      "100%|██████████| 5000/5000 [00:00<00:00, 11791.97it/s]\n",
      "100%|██████████| 5000/5000 [00:00<00:00, 11764.23it/s]\n",
      " 96%|█████████▌| 4783/5000 [00:00<00:00, 11958.18it/s]"
     ]
    },
    {
     "name": "stdout",
     "output_type": "stream",
     "text": [
      "2024-04-14 12:59:41,211 - MultiprocessingDispatcher - 45 individuals out of 54 in previous population were evaluated successfully.\n",
      "2024-04-14 12:59:41,214 - EvoGraphOptimizer - Generation num: 24 size: 55\n",
      "2024-04-14 12:59:41,215 - EvoGraphOptimizer - Best individuals: HallOfFame archive fitness (1): ['<custom=0.000>']\n",
      "2024-04-14 12:59:41,215 - EvoGraphOptimizer - no improvements for 5 iterations\n",
      "2024-04-14 12:59:41,216 - EvoGraphOptimizer - spent time: 1.7 min\n",
      "2024-04-14 12:59:41,216 - GroupedCondition - Optimisation finished: Early stopping iterations criteria was satisfied\n"
     ]
    },
    {
     "name": "stderr",
     "output_type": "stream",
     "text": [
      "\r",
      "100%|██████████| 5000/5000 [00:00<00:00, 11910.59it/s]\n",
      "\r",
      "Generations:   0%|          | 1/500 [01:44<?, ?gen/s]"
     ]
    },
    {
     "name": "stdout",
     "output_type": "stream",
     "text": [
      "2024-04-14 12:59:41,217 - OptimisationTimer - Composition time: 1.743 min\n",
      "2024-04-14 12:59:41,217 - EvoGraphOptimizer - Generation num: 25 size: 1\n",
      "2024-04-14 12:59:41,218 - EvoGraphOptimizer - Best individuals: HallOfFame archive fitness (1): ['<custom=0.000>']\n",
      "2024-04-14 12:59:41,219 - EvoGraphOptimizer - no improvements for 6 iterations\n",
      "2024-04-14 12:59:41,219 - EvoGraphOptimizer - spent time: 1.7 min\n"
     ]
    },
    {
     "name": "stderr",
     "output_type": "stream",
     "text": [
      "\n"
     ]
    }
   ],
   "source": [
    "optimization_result = optimizer.optimize(n_dim=4, n_comp=2, target_olr=0.3)"
   ]
  },
  {
   "cell_type": "code",
   "execution_count": 12,
   "id": "11738238",
   "metadata": {},
   "outputs": [],
   "source": [
    "optimized_graph = optimization_result[0]\n",
    "net = build_bn(optimized_graph)"
   ]
  },
  {
   "cell_type": "code",
   "execution_count": 13,
   "id": "ad1bdc1c",
   "metadata": {},
   "outputs": [
    {
     "name": "stderr",
     "output_type": "stream",
     "text": [
      "100%|██████████| 200/200 [00:00<00:00, 807.84it/s]\n"
     ]
    }
   ],
   "source": [
    "data = net.sample(200)"
   ]
  },
  {
   "cell_type": "code",
   "execution_count": 14,
   "id": "ce87294e",
   "metadata": {},
   "outputs": [
    {
     "data": {
      "text/html": [
       "<div>\n",
       "<style scoped>\n",
       "    .dataframe tbody tr th:only-of-type {\n",
       "        vertical-align: middle;\n",
       "    }\n",
       "\n",
       "    .dataframe tbody tr th {\n",
       "        vertical-align: top;\n",
       "    }\n",
       "\n",
       "    .dataframe thead th {\n",
       "        text-align: right;\n",
       "    }\n",
       "</style>\n",
       "<table border=\"1\" class=\"dataframe\">\n",
       "  <thead>\n",
       "    <tr style=\"text-align: right;\">\n",
       "      <th></th>\n",
       "      <th>Comp_0</th>\n",
       "      <th>Comp_1</th>\n",
       "      <th>Comp_2</th>\n",
       "      <th>Comp_3</th>\n",
       "    </tr>\n",
       "  </thead>\n",
       "  <tbody>\n",
       "    <tr>\n",
       "      <th>count</th>\n",
       "      <td>200.000000</td>\n",
       "      <td>200.000000</td>\n",
       "      <td>200.000000</td>\n",
       "      <td>200.000000</td>\n",
       "    </tr>\n",
       "    <tr>\n",
       "      <th>mean</th>\n",
       "      <td>6.238868</td>\n",
       "      <td>2.906282</td>\n",
       "      <td>5.141847</td>\n",
       "      <td>2.058017</td>\n",
       "    </tr>\n",
       "    <tr>\n",
       "      <th>std</th>\n",
       "      <td>0.487391</td>\n",
       "      <td>0.208641</td>\n",
       "      <td>0.647394</td>\n",
       "      <td>1.395904</td>\n",
       "    </tr>\n",
       "    <tr>\n",
       "      <th>min</th>\n",
       "      <td>4.937032</td>\n",
       "      <td>2.146774</td>\n",
       "      <td>3.521673</td>\n",
       "      <td>-1.224117</td>\n",
       "    </tr>\n",
       "    <tr>\n",
       "      <th>25%</th>\n",
       "      <td>5.883381</td>\n",
       "      <td>2.787700</td>\n",
       "      <td>4.690504</td>\n",
       "      <td>1.109719</td>\n",
       "    </tr>\n",
       "    <tr>\n",
       "      <th>50%</th>\n",
       "      <td>6.285163</td>\n",
       "      <td>2.918602</td>\n",
       "      <td>5.374628</td>\n",
       "      <td>1.964388</td>\n",
       "    </tr>\n",
       "    <tr>\n",
       "      <th>75%</th>\n",
       "      <td>6.557211</td>\n",
       "      <td>3.039409</td>\n",
       "      <td>5.620151</td>\n",
       "      <td>2.965573</td>\n",
       "    </tr>\n",
       "    <tr>\n",
       "      <th>max</th>\n",
       "      <td>7.342145</td>\n",
       "      <td>3.573231</td>\n",
       "      <td>6.161262</td>\n",
       "      <td>5.593079</td>\n",
       "    </tr>\n",
       "  </tbody>\n",
       "</table>\n",
       "</div>"
      ],
      "text/plain": [
       "           Comp_0      Comp_1      Comp_2      Comp_3\n",
       "count  200.000000  200.000000  200.000000  200.000000\n",
       "mean     6.238868    2.906282    5.141847    2.058017\n",
       "std      0.487391    0.208641    0.647394    1.395904\n",
       "min      4.937032    2.146774    3.521673   -1.224117\n",
       "25%      5.883381    2.787700    4.690504    1.109719\n",
       "50%      6.285163    2.918602    5.374628    1.964388\n",
       "75%      6.557211    3.039409    5.620151    2.965573\n",
       "max      7.342145    3.573231    6.161262    5.593079"
      ]
     },
     "execution_count": 14,
     "metadata": {},
     "output_type": "execute_result"
    }
   ],
   "source": [
    "data.describe()"
   ]
  },
  {
   "cell_type": "code",
   "execution_count": 15,
   "id": "3f0a7962",
   "metadata": {},
   "outputs": [
    {
     "data": {
      "text/plain": [
       "0.29827803905987227"
      ]
     },
     "execution_count": 15,
     "metadata": {},
     "output_type": "execute_result"
    }
   ],
   "source": [
    "gmm = GMM(n_components=2)\n",
    "gmm.from_samples(data.to_numpy())\n",
    "\n",
    "w = gmm.priors.tolist()\n",
    "means = gmm.means.tolist()\n",
    "cov = make_diagonal(gmm.covariances.tolist())\n",
    "\n",
    "# print_gmm_params_fancy(w, means, cov, decimal_places=3)\n",
    "\n",
    "olr_universal(w, means, cov)"
   ]
  },
  {
   "cell_type": "code",
   "execution_count": 16,
   "id": "fc88df99",
   "metadata": {},
   "outputs": [
    {
     "data": {
      "text/plain": [
       "<bamt.networks.continuous_bn.ContinuousBN at 0xffff3d188b50>"
      ]
     },
     "execution_count": 16,
     "metadata": {},
     "output_type": "execute_result"
    }
   ],
   "source": [
    "net"
   ]
  },
  {
   "cell_type": "code",
   "execution_count": 16,
   "id": "819fb520",
   "metadata": {},
   "outputs": [],
   "source": [
    "serialized = ContinuousBNSerializer().serialize(net)\n",
    "j = JsonDictSerializer().serialize(serialized)\n",
    "FilesystemStorage().write(j, './bns_iris/0.3_1.json')"
   ]
  },
  {
   "cell_type": "code",
   "execution_count": 17,
   "id": "933bf1a7",
   "metadata": {},
   "outputs": [
    {
     "data": {
      "text/plain": [
       "(0.93, 0.933477021642587)"
      ]
     },
     "execution_count": 17,
     "metadata": {},
     "output_type": "execute_result"
    }
   ],
   "source": [
    "gmm = GaussianMixture(n_components = 2) \n",
    "gmm.fit(data)\n",
    "        \n",
    "sample = gmm.sample(200)\n",
    "data = sample[0]\n",
    "labels = [2 if each == 1 else 1 for each in sample[1]]\n",
    "\n",
    "accuracy = accuracy_score(labels, model.predict(data))\n",
    "f1 = f1_score(labels, model.predict(data))\n",
    "\n",
    "accuracy, f1"
   ]
  }
 ],
 "metadata": {
  "kernelspec": {
   "display_name": "Python 3 (ipykernel)",
   "language": "python",
   "name": "python3"
  },
  "language_info": {
   "codemirror_mode": {
    "name": "ipython",
    "version": 3
   },
   "file_extension": ".py",
   "mimetype": "text/x-python",
   "name": "python",
   "nbconvert_exporter": "python",
   "pygments_lexer": "ipython3",
   "version": "3.9.16"
  }
 },
 "nbformat": 4,
 "nbformat_minor": 5
}
