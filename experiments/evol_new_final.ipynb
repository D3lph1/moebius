{
 "cells": [
  {
   "cell_type": "code",
   "execution_count": 1,
   "id": "0091ca29",
   "metadata": {},
   "outputs": [
    {
     "name": "stderr",
     "output_type": "stream",
     "text": [
      "/usr/local/lib/python3.9/site-packages/tqdm/auto.py:21: TqdmWarning: IProgress not found. Please update jupyter and ipywidgets. See https://ipywidgets.readthedocs.io/en/stable/user_install.html\n",
      "  from .autonotebook import tqdm as notebook_tqdm\n"
     ]
    }
   ],
   "source": [
    "from typing import Optional, Union, List\n",
    "from golem.core.optimisers.graph import OptGraph, OptNode\n",
    "from golem.core.dag.graph_delegate import GraphDelegate\n",
    "from golem.core.dag.linked_graph_node import LinkedGraphNode\n",
    "from golem.core.dag.linked_graph import LinkedGraph\n",
    "import numpy as np\n",
    "import pandas as pd\n",
    "from gmr import GMM\n",
    "from random import choice, random,randint, uniform, sample\n",
    "import math\n",
    "from datetime import timedelta, datetime\n",
    "from golem.core.optimisers.objective.objective import Objective\n",
    "from golem.core.optimisers.objective.objective_eval import ObjectiveEvaluate\n",
    "from golem.core.optimisers.optimization_parameters import GraphRequirements\n",
    "from golem.core.optimisers.genetic.gp_params import GPAlgorithmParameters\n",
    "from golem.core.optimisers.genetic.operators.inheritance import GeneticSchemeTypesEnum\n",
    "from golem.core.optimisers.genetic.operators.selection import SelectionTypesEnum\n",
    "from golem.core.optimisers.optimizer import GraphGenerationParams\n",
    "from golem.core.adapter import DirectAdapter\n",
    "from golem.core.optimisers.genetic.gp_optimizer import EvoGraphOptimizer\n",
    "from itertools import repeat\n",
    "import networkx as nx\n",
    "from sklearn.preprocessing import LabelEncoder, KBinsDiscretizer\n",
    "\n",
    "from bamt.networks.continuous_bn import ContinuousBN\n",
    "from bamt.networks.discrete_bn import DiscreteBN\n",
    "from bamt.preprocessors import Preprocessor\n",
    "from moebius import olr\n",
    "\n",
    "import time\n",
    "from sklearn.mixture import GaussianMixture\n",
    "from bamt.utils.MathUtils import component\n",
    "\n",
    "from scipy import stats\n",
    "import json\n",
    "from bamt.nodes.mixture_gaussian_node import MixtureGaussianNode\n",
    "import os\n",
    "\n",
    "import matplotlib as mpl\n",
    "import matplotlib.pyplot as plt\n",
    "\n",
    "import seaborn as sns\n",
    "import json\n",
    "\n",
    "import gc"
   ]
  },
  {
   "cell_type": "code",
   "execution_count": 2,
   "id": "e052ff41",
   "metadata": {},
   "outputs": [],
   "source": [
    "def write_bn_to_file(bn, pathname):\n",
    "    obj = {\n",
    "        'sf_name': bn.sf_name,\n",
    "        'type': bn.type,\n",
    "        '_allowed_dtypes': bn._allowed_dtypes,\n",
    "        'nodes': [\n",
    "            {\n",
    "                'name': node.name,\n",
    "                'type': node.type,\n",
    "                'disc_parents': node.disc_parents,\n",
    "                'cont_parents': node.cont_parents,\n",
    "                'children': node.children\n",
    "            } for node in bn.nodes\n",
    "        ],\n",
    "        'edges': bn.edges,\n",
    "        'weights': bn.weights,\n",
    "        'descriptor': bn.descriptor,\n",
    "        'distributions': bn.distributions,\n",
    "        'has_logit': bn.has_logit,\n",
    "        'use_mixture': bn.use_mixture,\n",
    "        'encoders': bn.encoders\n",
    "    }\n",
    "    \n",
    "    j = json.dumps(obj)\n",
    "    with open(pathname, 'w') as f:\n",
    "        f.write(j)\n",
    "\n",
    "def read_bn_from_file(pathname):\n",
    "    with open(pathname, 'r') as f:\n",
    "        j = json.load(f)\n",
    "    \n",
    "    bn1 = ContinuousBN(use_mixture=True)\n",
    "    bn1.sf_name = j['sf_name']\n",
    "    bn1.type = j['type']\n",
    "    bn1._allowed_dtypes = j['_allowed_dtypes']\n",
    "    \n",
    "    bn1.nodes = []\n",
    "    for node in j['nodes']:\n",
    "        m_node = MixtureGaussianNode(node['name'])\n",
    "        m_node.type = node['type']\n",
    "        m_node.disc_parents = node['disc_parents']\n",
    "        m_node.cont_parents = node['cont_parents']\n",
    "        m_node.children = node['children']\n",
    "        bn1.nodes.append(m_node)\n",
    "    \n",
    "    bn1.edges = j['edges']\n",
    "    bn1.weights = j['weights']\n",
    "    bn1.descriptor = j['descriptor']\n",
    "    bn1.distributions = j['distributions']\n",
    "    bn1.has_logit = j['has_logit']\n",
    "    bn1.use_mixture = j['use_mixture']\n",
    "    bn1.encoders = j['encoders']\n",
    "    \n",
    "    return bn1"
   ]
  },
  {
   "cell_type": "code",
   "execution_count": 113,
   "id": "923ccc48",
   "metadata": {},
   "outputs": [],
   "source": [
    "class GeneratorModel(GraphDelegate):\n",
    "    def __init__(self, nodes: Optional[Union[LinkedGraphNode, List[LinkedGraphNode]]] = None):\n",
    "        super().__init__(nodes)\n",
    "        self.unique_pipeline_id = 1\n",
    "    \n",
    "    def find_node(self, name: str) -> Union[LinkedGraphNode, None]:\n",
    "        for node in self.nodes:\n",
    "            if node.content['name'] == name:\n",
    "                return node\n",
    "        \n",
    "        return None\n",
    "\n",
    "class GeneratorNode(LinkedGraphNode):\n",
    "    def __str__(self):\n",
    "        return self.content[\"name\"]\n",
    "\n",
    "def custom_mutation_change_mean(graph: GeneratorModel, **kwargs):\n",
    "    try:\n",
    "        node = choice(graph.nodes)\n",
    "        node.content['mean'] = [[randint(-1000, 1000)] for _ in range(len(node.content['w']))]\n",
    "    except Exception as ex:\n",
    "        graph.log.warn(f'Incorrect mutation: {ex}')\n",
    "    return graph\n",
    "\n",
    "def custom_mutation_change_mean_step(graph: GeneratorModel, **kwargs):\n",
    "    try:\n",
    "        node = choice(graph.nodes)\n",
    "        \n",
    "        means = []\n",
    "        for i in range(len(node.content['w'])):\n",
    "            mean = node.content['mean'][i][0]\n",
    "            means.append([mean + uniform(-5, 5)])\n",
    "    \n",
    "        node.content['mean'] = means\n",
    "        \n",
    "    except Exception as ex:\n",
    "        print(ex)\n",
    "        \n",
    "    return graph\n",
    "\n",
    "def custom_mutation_change_mean_i(graph: GeneratorModel, **kwargs):\n",
    "    try:\n",
    "        node = choice(graph.nodes)\n",
    "        n = len(node.content['w'])\n",
    "        random_index = randint(0, n)\n",
    "        mean = node.content['mean']\n",
    "        new_mean = []\n",
    "        for i, m in enumerate(mean):\n",
    "            if i == random_index:\n",
    "                new_mean.append([randint(-1000,1000)])\n",
    "            else:\n",
    "                new_mean.append(m)\n",
    "        node.content['mean'] = new_mean\n",
    "    except Exception as ex:\n",
    "        graph.log.warn(f'Incorrect mutation: {ex}')\n",
    "    return graph\n",
    "\n",
    "def custom_mutation_change_var(graph: GeneratorModel, **kwargs):\n",
    "    try:\n",
    "        node = choice(graph.nodes)\n",
    "        node.content['var'] = [[[randint(1,50)]] for _ in range(len(node.content['w']))]\n",
    "    except Exception as ex:\n",
    "        graph.log.warn(f'Incorrect var: {ex}')\n",
    "    return graph\n",
    "\n",
    "def custom_mutation_change_var_i(graph: GeneratorModel, **kwargs):\n",
    "    try:\n",
    "        node = choice(graph.nodes)\n",
    "        n = len(node.content['w'])\n",
    "        random_index = randint(0, n)\n",
    "        var = node.content['var']\n",
    "        new_var = []\n",
    "        for i, m in enumerate(var):\n",
    "            if i == random_index:\n",
    "                new_var.append([[randint(1,50)]])\n",
    "            else:\n",
    "                new_var.append(m)\n",
    "        node.content['var'] = new_var\n",
    "    except Exception as ex:\n",
    "        graph.log.warn(f'Incorrect mutation: {ex}')\n",
    "    return graph\n",
    "\n",
    "def custom_mutation_change_w(graph: GeneratorModel, **kwargs):\n",
    "    node = choice(graph.nodes)\n",
    "    w = node.content['w']\n",
    "#     print('a', node.content)\n",
    "    \n",
    "    array = np.random.random(len(w))\n",
    "    array /= np.sum(array)\n",
    "        \n",
    "    for i, node in enumerate(graph.nodes):\n",
    "        node.content['w'] = array\n",
    "        \n",
    "#     print('b', node.content)\n",
    "        \n",
    "    return graph\n",
    "\n",
    "\n",
    "def custom_crossover_exchange_mean(graph1: GeneratorModel,graph2: GeneratorModel, **kwargs):\n",
    "    node1 = choice(graph1.nodes)\n",
    "    node2 = choice(graph2.nodes)\n",
    "    mean1 = node1.content['mean']\n",
    "    mean2 = node2.content['mean']\n",
    "    node1.content['mean'] = mean2\n",
    "    node2.content['mean'] = mean1\n",
    "    \n",
    "    return graph1, graph2\n",
    "\n",
    "\n",
    "def custom_crossover_exchange_mean_i(graph1: GeneratorModel,graph2: GeneratorModel, **kwargs):\n",
    "    node1 = choice(graph1.nodes)\n",
    "    node2 = choice(graph2.nodes)\n",
    "    mean1 = node1.content['mean']\n",
    "    mean2 = node2.content['mean']\n",
    "    n = len(node1.content['w'])\n",
    "    random_index = randint(0, n)\n",
    "    new_mean1 = []\n",
    "    new_mean2 = []\n",
    "    for i, m in enumerate(mean1):\n",
    "        if i == random_index:\n",
    "            new_mean1.append(mean2[i])\n",
    "            new_mean2.append(mean1[i])\n",
    "        else:\n",
    "            new_mean1.append(m)\n",
    "            new_mean2.append(mean2[i])\n",
    "    node1.content['mean'] = new_mean1\n",
    "    node2.content['mean'] = new_mean2\n",
    "    return graph1, graph2\n",
    "\n",
    "\n",
    "def custom_crossover_exchange_var_i(graph1: GeneratorModel,graph2: GeneratorModel, **kwargs):\n",
    "    node1 = choice(graph1.nodes)\n",
    "    node2 = choice(graph2.nodes)\n",
    "    var1 = node1.content['var']\n",
    "    var2 = node2.content['var']\n",
    "    n = len(node1.content['w'])\n",
    "    random_index = randint(0, n)\n",
    "    new_var1 = []\n",
    "    new_var2 = []\n",
    "    for i, m in enumerate(var1):\n",
    "        if i == random_index:\n",
    "            new_var1.append(var2[i])\n",
    "            new_var2.append(var1[i])\n",
    "        else:\n",
    "            new_var1.append(m)\n",
    "            new_var2.append(var2[i])\n",
    "    node1.content['var'] = new_var1\n",
    "    node2.content['var'] = new_var2\n",
    "    return graph1, graph2\n",
    "\n",
    "def custom_crossover_exchange_var(graph1: GeneratorModel, graph2: GeneratorModel, **kwargs):\n",
    "    node1 = choice(graph1.nodes)\n",
    "    node2 = choice(graph2.nodes)\n",
    "    var1 = node1.content['var']\n",
    "    var2 = node2.content['var']\n",
    "    node1.content['var'] = var2\n",
    "    node2.content['var'] = var1\n",
    "    return graph1, graph2\n",
    "\n",
    "def make_diagonal(matrix):\n",
    "    for i, dim in enumerate(matrix):\n",
    "        A = np.array(dim)\n",
    "        matrix[i] = np.tril(A) + np.triu(A.T, 1)\n",
    "    \n",
    "    return matrix\n",
    "\n",
    "def model_olr(graph: GeneratorModel):\n",
    "    sample_data = pd.DataFrame()\n",
    "    sample_data.index = [i for i in range(5000)]\n",
    "    structure = []\n",
    "    info = {'types':{}, 'signs':{}}\n",
    "    n_components = None\n",
    "\n",
    "    for node in graph.nodes:\n",
    "        info['types'][node.content['name']] = 'disc'\n",
    "        info['signs'][node.content['name']] = 'neg'\n",
    "        w = node.content['w']\n",
    "        mean = node.content['mean']\n",
    "        var = node.content['var']\n",
    "        n_components = len(w)\n",
    "        gmm = GMM(n_components=n_components, priors=w, means=mean, covariances=var)\n",
    "        sample_data[node.content['name']] = gmm.sample(5000)\n",
    "        for parent in node.nodes_from:\n",
    "            structure.append((parent.content['name'], node.content['name']))\n",
    "\n",
    "    # попробовать заюзать дискртеную БН\n",
    "    # чтобы ускорилось без потери качества\n",
    "    discretizer = KBinsDiscretizer(n_bins=50, encode='ordinal', strategy='quantile')\n",
    "    discretizer.fit(sample_data)\n",
    "    disc_data = discretizer.transform(sample_data)\n",
    "    disc_data = pd.DataFrame(columns=sample_data.columns, data=disc_data, dtype=int)\n",
    "#     bn = ContinuousBN(use_mixture=True)\n",
    "\n",
    "    bn = DiscreteBN()\n",
    "    bn.add_nodes(info)\n",
    "    bn.set_structure(edges=structure)\n",
    "    bn.fit_parameters(disc_data)\n",
    "    data = bn.sample(5000)\n",
    "    \n",
    "    # с помощью discretizer преобразовать из дискретного в непрерывные\n",
    "\n",
    "#     print(data.to_numpy())\n",
    "\n",
    "#     gmm = GMM(n_components=component(data, data.columns.tolist(), 'bic'))\n",
    "    gmm = GMM(n_components=n_components)\n",
    "    gmm.from_samples(data.to_numpy().astype('int'))\n",
    "\n",
    "    w = gmm.priors.tolist()\n",
    "    means = gmm.means.tolist()\n",
    "    cov = make_diagonal(gmm.covariances.tolist())\n",
    "    \n",
    "#     w = gmm.means_\n",
    "#     means = gmm.means_\n",
    "#     cov = gmm.covariances_\n",
    "\n",
    "#     print('w:', w)\n",
    "#     print('means:', means)\n",
    "#     print('cov:', cov)\n",
    "#     print('!!!')\n",
    "    \n",
    "    try:\n",
    "#         print(w, means, cov)\n",
    "        oo = olr(w, means, cov)\n",
    "    \n",
    "        print(f'olr: {oo}, w: {w}, means: {means}, cov: {cov}')\n",
    "    \n",
    "        return oo\n",
    "    except Exception:\n",
    "        print('Panic!')\n",
    "        \n",
    "        return [100]\n",
    "    \n",
    "def build_bn(graph: GeneratorModel):\n",
    "    sample_data = pd.DataFrame()\n",
    "    sample_data.index = [i for i in range(5000)]\n",
    "    structure = []\n",
    "    info = {'types':{}, 'signs':{}}\n",
    "    for node in graph.nodes:\n",
    "        info['types'][node.content['name']] = 'disc'\n",
    "        info['signs'][node.content['name']] = 'neg'\n",
    "        w = node.content['w']\n",
    "        mean = node.content['mean']\n",
    "        var = node.content['var']\n",
    "        gmm = GMM(n_components=len(w), priors=w, means=mean, covariances=var)\n",
    "        sample_data[node.content['name']] = gmm.sample(5000)\n",
    "        for parent in node.nodes_from:\n",
    "            structure.append((parent.content['name'], node.content['name']))\n",
    "\n",
    "    discretizer = KBinsDiscretizer(n_bins=50, encode='ordinal', strategy='quantile')\n",
    "    discretizer.fit(sample_data)\n",
    "    disc_data = discretizer.transform(sample_data)\n",
    "    disc_data = pd.DataFrame(columns=sample_data.columns, data=disc_data, dtype=int)\n",
    "#     bn = ContinuousBN(use_mixture=True)\n",
    "    bn = DiscreteBN()\n",
    "    bn.add_nodes(info)\n",
    "    bn.set_structure(edges=structure)\n",
    "    bn.fit_parameters(disc_data)\n",
    "    \n",
    "    return bn\n",
    "\n",
    "def optimisation_metric(graph: GeneratorModel, target_olr, components):\n",
    "    try:\n",
    "        o = model_olr(graph)\n",
    "        if len(o) == 0:\n",
    "            return 100\n",
    "        \n",
    "        d = (sum(o) / len(o) - target_olr) ** 2\n",
    "#         print(o, d)\n",
    "        \n",
    "        return d\n",
    "    except BaseException as e:\n",
    "        print('Error message')\n",
    "        print(e)"
   ]
  },
  {
   "cell_type": "code",
   "execution_count": 115,
   "id": "f00c98ac",
   "metadata": {},
   "outputs": [
    {
     "name": "stdout",
     "output_type": "stream",
     "text": [
      "Dim: 2, p_i: 0.3, p_i_j: 0\n"
     ]
    },
    {
     "name": "stderr",
     "output_type": "stream",
     "text": [
      "\r",
      "Generations:   0%|          | 1/500 [00:00<?, ?gen/s]"
     ]
    },
    {
     "name": "stdout",
     "output_type": "stream",
     "text": [
      "2024-01-16 22:50:22,638 - MultiprocessingDispatcher - Number of used CPU's: 6\n"
     ]
    },
    {
     "name": "stderr",
     "output_type": "stream",
     "text": [
      "\r",
      "  0%|          | 0/5000 [00:00<?, ?it/s]\r",
      " 49%|████▉     | 2457/5000 [00:00<00:00, 24562.59it/s]\r",
      "100%|█████████▉| 4997/5000 [00:00<00:00, 25051.55it/s]\r",
      "100%|██████████| 5000/5000 [00:00<00:00, 24968.12it/s]\n"
     ]
    },
    {
     "name": "stdout",
     "output_type": "stream",
     "text": [
      "2024-01-16 22:50:24,467 - MultiprocessingDispatcher - 1 individuals out of 1 in previous population were evaluated successfully.\n",
      "2024-01-16 22:50:24,469 - EvoGraphOptimizer - Generation num: 1 size: 1\n",
      "2024-01-16 22:50:24,469 - EvoGraphOptimizer - Best individuals: HallOfFame archive fitness (1): ['<custom=0.211>']\n",
      "2024-01-16 22:50:24,595 - EvoGraphOptimizer - Exceeded max number of attempts for extending initial graphs, stopping.Current size 1 instead of 10 graphs.\n",
      "2024-01-16 22:50:24,596 - MultiprocessingDispatcher - Number of used CPU's: 6\n",
      "2024-01-16 22:50:24,597 - MultiprocessingDispatcher - 1 individuals out of 1 in previous population were evaluated successfully.\n",
      "2024-01-16 22:50:24,597 - EvoGraphOptimizer - Generation num: 2 size: 1\n",
      "2024-01-16 22:50:24,598 - EvoGraphOptimizer - Best individuals: HallOfFame archive fitness (1): ['<custom=0.211>']\n",
      "2024-01-16 22:50:24,598 - EvoGraphOptimizer - no improvements for 1 iterations\n",
      "2024-01-16 22:50:24,598 - EvoGraphOptimizer - spent time: 0.0 min\n",
      "2024-01-16 22:50:24,599 - EvoGraphOptimizer - Next population size: 20; max graph depth: 100\n",
      "2024-01-16 22:50:24,602 - MultiprocessingDispatcher - Number of used CPU's: 6\n",
      "olr: [0.14072068123861659], w: [0.5165915620698648, 0.48340843793013527], means: [[36.700183557848526, 36.89171049478641], [12.089972762215126, 12.126502535142556]], cov: [array([[53.49434029,  0.60960388],\n",
      "       [ 0.60960388, 55.91087547]]), array([[54.77838081,  0.99271228],\n",
      "       [ 0.99271228, 58.27632169]])]\n"
     ]
    },
    {
     "name": "stderr",
     "output_type": "stream",
     "text": [
      "100%|██████████| 5000/5000 [00:00<00:00, 23889.97it/s]\n",
      "  0%|          | 0/5000 [00:00<?, ?it/s]"
     ]
    },
    {
     "name": "stdout",
     "output_type": "stream",
     "text": [
      "olr: [0.1165817174427304], w: [0.4962266412686167, 0.5037733587313834], means: [[12.204530941170393, 11.965076411796709], [36.58269395033817, 36.83086848096935]], cov: [array([[54.35909317, -0.90654304],\n",
      "       [-0.90654304, 55.50069392]]), array([[52.22133275, -1.43262719],\n",
      "       [-1.43262719, 54.19363521]])]\n"
     ]
    },
    {
     "name": "stderr",
     "output_type": "stream",
     "text": [
      "\r",
      " 47%|████▋     | 2337/5000 [00:00<00:00, 23367.46it/s]\r",
      " 94%|█████████▍| 4711/5000 [00:00<00:00, 23583.96it/s]\r",
      "100%|██████████| 5000/5000 [00:00<00:00, 23426.32it/s]\n"
     ]
    },
    {
     "name": "stdout",
     "output_type": "stream",
     "text": [
      "olr: [0.13311892959961585], w: [0.696099112189351, 0.3039008878106489], means: [[31.947178889026866, 32.16316583395303], [7.3589687562460435, 7.06759639058594]], cov: [array([[104.8842015 ,  -4.36073844],\n",
      "       [ -4.36073844, 107.4744874 ]]), array([[19.68401409,  0.92699529],\n",
      "       [ 0.92699529, 21.58223078]])]\n"
     ]
    },
    {
     "name": "stderr",
     "output_type": "stream",
     "text": [
      "100%|██████████| 5000/5000 [00:00<00:00, 23614.77it/s]\n",
      "  0%|          | 0/5000 [00:00<?, ?it/s]"
     ]
    },
    {
     "name": "stdout",
     "output_type": "stream",
     "text": [
      "olr: [0.10719249357522344], w: [0.5108364937539451, 0.48916350624605487], means: [[12.420712846770272, 36.627736607496935], [37.298871167739385, 11.856189971714615]], cov: [array([[51.50940029,  0.90720506],\n",
      "       [ 0.90720506, 53.41139024]]), array([[53.82448133,  0.44519847],\n",
      "       [ 0.44519847, 52.58544797]])]\n"
     ]
    },
    {
     "name": "stderr",
     "output_type": "stream",
     "text": [
      "\r",
      " 48%|████▊     | 2418/5000 [00:00<00:00, 24172.53it/s]\r",
      " 97%|█████████▋| 4836/5000 [00:00<00:00, 23691.53it/s]\r",
      "100%|██████████| 5000/5000 [00:00<00:00, 23698.99it/s]\n"
     ]
    },
    {
     "name": "stdout",
     "output_type": "stream",
     "text": [
      "olr: [0.14274855727235336], w: [0.4918359080174476, 0.5081640919825523], means: [[37.00465765966522, 36.89916989824221], [12.352271044171449, 12.203662883407546]], cov: [array([[57.47797882,  2.1896701 ],\n",
      "       [ 2.1896701 , 60.29493818]]), array([[60.78039087, -6.01636646],\n",
      "       [-6.01636646, 59.36243283]])]\n"
     ]
    },
    {
     "name": "stderr",
     "output_type": "stream",
     "text": [
      "100%|██████████| 5000/5000 [00:00<00:00, 23914.32it/s]\n",
      "100%|██████████| 5000/5000 [00:00<00:00, 23531.54it/s]\n",
      "100%|██████████| 5000/5000 [00:00<00:00, 23454.40it/s]\n",
      "100%|██████████| 5000/5000 [00:00<00:00, 23735.76it/s]\n",
      "100%|██████████| 5000/5000 [00:00<00:00, 23271.67it/s]\n",
      "100%|██████████| 5000/5000 [00:00<00:00, 23477.12it/s]\n",
      "  0%|          | 0/5000 [00:00<?, ?it/s]"
     ]
    },
    {
     "name": "stdout",
     "output_type": "stream",
     "text": [
      "olr: [0.12320898918078595], w: [0.48880086890887614, 0.5111991310911238], means: [[11.769567873156651, 12.174027653538207], [36.99072210188926, 36.38176118400831]], cov: [array([[52.59530747, -2.48309835],\n",
      "       [-2.48309835, 58.35836988]]), array([[55.50020178,  0.65767548],\n",
      "       [ 0.65767548, 55.23539252]])]\n",
      "olr: [0.15056747242916985], w: [0.4962844200167563, 0.5037155799832436], means: [[36.80827972271962, 36.904304711113284], [12.405461522955935, 12.377160421623035]], cov: [array([[59.80326552, -4.30195564],\n",
      "       [-4.30195564, 57.69070385]]), array([[55.92470607,  1.05474665],\n",
      "       [ 1.05474665, 64.85335581]])]\n",
      "olr: [0.14955036132235486], w: [0.5098811196626826, 0.4901188803373173], means: [[36.39642526756277, 36.37841399788061], [11.942714650836276, 12.248729400255568]], cov: [array([[56.62538836, -0.30170515],\n",
      "       [-0.30170515, 62.38183339]]), array([[56.43343604, -2.29621497],\n",
      "       [-2.29621497, 57.71417188]])]\n",
      "olr: [0.13729818084808737], w: [0.48981795295677655, 0.5101820470432236], means: [[11.980819932384861, 12.590577967957074], [36.92403410733798, 36.84510065012146]], cov: [array([[55.710357  , -0.59005648],\n",
      "       [-0.59005648, 58.97060671]]), array([[53.67767272, -1.33409558],\n",
      "       [-1.33409558, 60.04449043]])]\n",
      "olr: [0.29223927012930884], w: [0.5140223037127499, 0.48597769628725], means: [[12.333735419527338, 14.019703152907896], [36.77120378732047, 35.121693893303]], cov: [array([[61.47094253, -4.81920127],\n",
      "       [-4.81920127, 81.1782742 ]]), array([[ 56.43367192,  -7.33879045],\n",
      "       [ -7.33879045, 112.54157237]])]\n"
     ]
    },
    {
     "name": "stderr",
     "output_type": "stream",
     "text": [
      "\r",
      " 46%|████▋     | 2319/5000 [00:00<00:00, 23181.90it/s]\r",
      "  0%|          | 0/5000 [00:00<?, ?it/s]\r",
      "  0%|          | 0/5000 [00:00<?, ?it/s]\r",
      "  0%|          | 0/5000 [00:00<?, ?it/s]\r",
      "  0%|          | 0/5000 [00:00<?, ?it/s]\r",
      " 93%|█████████▎| 4638/5000 [00:00<00:00, 22788.39it/s]\r",
      "  0%|          | 0/5000 [00:00<?, ?it/s]\r",
      "100%|██████████| 5000/5000 [00:00<00:00, 22834.25it/s]\n",
      "\r",
      " 47%|████▋     | 2342/5000 [00:00<00:00, 23417.51it/s]\r",
      " 47%|████▋     | 2355/5000 [00:00<00:00, 23543.74it/s]\r",
      " 47%|████▋     | 2356/5000 [00:00<00:00, 23550.98it/s]\r",
      " 48%|████▊     | 2403/5000 [00:00<00:00, 24027.33it/s]"
     ]
    },
    {
     "name": "stdout",
     "output_type": "stream",
     "text": [
      "olr: [0.15559224915499364], w: [0.40735402340698723, 0.5926459765930127], means: [[39.1365554411798, 38.820081825983074], [14.498312682624292, 14.39018202439246]], cov: [array([[35.18496759,  3.40327791],\n",
      "       [ 3.40327791, 40.35659377]]), array([[75.41452961, -1.75083533],\n",
      "       [-1.75083533, 76.33093622]])]\n",
      "olr: [0.15241093299816638], w: [0.5033047591543501, 0.4966952408456498], means: [[36.75708675392878, 36.04309099241971], [12.0878615504272, 12.21260094732191]], cov: [array([[55.4927951 , -1.93637003],\n",
      "       [-1.93637003, 65.56744122]]), array([[55.32361154, -1.08366866],\n",
      "       [-1.08366866, 56.87078746]])]\n"
     ]
    },
    {
     "name": "stderr",
     "output_type": "stream",
     "text": [
      "\r",
      " 47%|████▋     | 2340/5000 [00:00<00:00, 23395.84it/s]\r",
      "  0%|          | 0/5000 [00:00<?, ?it/s]\r",
      " 94%|█████████▎| 4687/5000 [00:00<00:00, 23433.58it/s]\r",
      "100%|██████████| 5000/5000 [00:00<00:00, 23418.91it/s]\n",
      "\r",
      " 94%|█████████▍| 4710/5000 [00:00<00:00, 23468.94it/s]\r",
      " 94%|█████████▍| 4712/5000 [00:00<00:00, 23481.92it/s]\r",
      "100%|██████████| 5000/5000 [00:00<00:00, 23433.65it/s]\n",
      "\r",
      "100%|██████████| 5000/5000 [00:00<00:00, 23463.51it/s]\n",
      "\r",
      " 96%|█████████▌| 4806/5000 [00:00<00:00, 23812.88it/s]\r",
      " 94%|█████████▍| 4690/5000 [00:00<00:00, 23456.13it/s]\r",
      "100%|██████████| 5000/5000 [00:00<00:00, 23800.55it/s]\n",
      "\r",
      "100%|██████████| 5000/5000 [00:00<00:00, 23395.35it/s]\n",
      "\r",
      " 47%|████▋     | 2358/5000 [00:00<00:00, 23578.45it/s]\r",
      "  0%|          | 0/5000 [00:00<?, ?it/s]"
     ]
    },
    {
     "name": "stdout",
     "output_type": "stream",
     "text": [
      "olr: [0.1391950807274792], w: [0.4966948259492382, 0.5033051740507618], means: [[36.98209511002257, 36.8885887220287], [12.159590287605367, 12.501021586089156]], cov: [array([[53.04106462,  2.16301323],\n",
      "       [ 2.16301323, 56.0790745 ]]), array([[54.14487709,  0.85456884],\n",
      "       [ 0.85456884, 57.70278789]])]\n",
      "olr: [0.15282885920859332], w: [0.49061014716133033, 0.5093898528386697], means: [[12.222543978180118, 12.280466763191878], [36.72922771413105, 36.603945465725495]], cov: [array([[55.50150951, -2.7049501 ],\n",
      "       [-2.7049501 , 66.02362574]]), array([[58.45763452, -2.49781369],\n",
      "       [-2.49781369, 60.96017509]])]\n",
      "olr: [0.14056421028729216], w: [0.5662507457364209, 0.4337492542635791], means: [[13.626333212559079, 13.74318730396786], [38.47817256786187, 38.366659485298314]], cov: [array([[68.547544  , -2.55230221],\n",
      "       [-2.55230221, 73.74670496]]), array([[41.18636646,  1.30397806],\n",
      "       [ 1.30397806, 44.61519327]])]\n"
     ]
    },
    {
     "name": "stderr",
     "output_type": "stream",
     "text": [
      "\r",
      "  0%|          | 0/5000 [00:00<?, ?it/s]\r",
      " 94%|█████████▍| 4716/5000 [00:00<00:00, 23547.44it/s]\r",
      "  0%|          | 0/5000 [00:00<?, ?it/s]\r",
      "100%|██████████| 5000/5000 [00:00<00:00, 23552.36it/s]\n",
      "\r",
      " 47%|████▋     | 2364/5000 [00:00<00:00, 23635.91it/s]\r",
      " 48%|████▊     | 2375/5000 [00:00<00:00, 23746.06it/s]\r",
      " 48%|████▊     | 2378/5000 [00:00<00:00, 23772.14it/s]\r",
      " 95%|█████████▍| 4745/5000 [00:00<00:00, 23732.96it/s]\r",
      "100%|██████████| 5000/5000 [00:00<00:00, 23734.96it/s]\n",
      "\r",
      " 96%|█████████▌| 4786/5000 [00:00<00:00, 23959.44it/s]"
     ]
    },
    {
     "name": "stdout",
     "output_type": "stream",
     "text": [
      "2024-01-16 22:50:27,209 - MultiprocessingDispatcher - 20 individuals out of 20 in previous population were evaluated successfully.\n",
      "2024-01-16 22:50:27,211 - EvoGraphOptimizer - Generation num: 3 size: 20\n",
      "2024-01-16 22:50:27,211 - EvoGraphOptimizer - Best individuals: HallOfFame archive fitness (1): ['<custom=0.095>']\n",
      "2024-01-16 22:50:27,211 - EvoGraphOptimizer - Next population size: 40; max graph depth: 100\n",
      "2024-01-16 22:50:27,217 - MultiprocessingDispatcher - Number of used CPU's: 6\n"
     ]
    },
    {
     "name": "stderr",
     "output_type": "stream",
     "text": [
      "\r",
      "100%|██████████| 5000/5000 [00:00<00:00, 23865.50it/s]\n",
      "\r",
      " 96%|█████████▌| 4782/5000 [00:00<00:00, 23926.65it/s]\r",
      "100%|██████████| 5000/5000 [00:00<00:00, 23817.52it/s]\n",
      "\r",
      "  0%|          | 0/5000 [00:00<?, ?it/s]\r",
      "  0%|          | 0/5000 [00:00<?, ?it/s]\r",
      "  0%|          | 0/5000 [00:00<?, ?it/s]\r",
      "  0%|          | 0/5000 [00:00<?, ?it/s]\r",
      "  0%|          | 0/5000 [00:00<?, ?it/s]\r",
      "  0%|          | 0/5000 [00:00<?, ?it/s]"
     ]
    },
    {
     "name": "stdout",
     "output_type": "stream",
     "text": [
      "olr: [0.12522356089354644], w: [0.514406309861949, 0.4855936901380509], means: [[36.76213080766929, 36.727014174511865], [11.817138618364657, 11.91653080293682]], cov: [array([[55.61830452,  2.79168689],\n",
      "       [ 2.79168689, 55.00945628]]), array([[51.44749056, -1.08927196],\n",
      "       [-1.08927196, 56.8434262 ]])]\n",
      "olr: [0.12922219302192467], w: [0.5087212990706245, 0.49127870092937553], means: [[36.61719105832499, 36.6107591447949], [12.002260601440838, 11.982459318431678]], cov: [array([[55.51680297,  0.06609501],\n",
      "       [ 0.06609501, 58.63061441]]), array([[52.49486516, -0.43287841],\n",
      "       [-0.43287841, 54.40470888]])]\n",
      "olr: [0.15064983909107046], w: [0.5257182488125793, 0.47428175118742055], means: [[12.390263421345164, 12.104240711019367], [36.833827926262444, 36.88014503278849]], cov: [array([[55.76178973,  0.42673671],\n",
      "       [ 0.42673671, 62.10860035]]), array([[58.03505591, -1.19050669],\n",
      "       [-1.19050669, 56.69669208]])]\n",
      "olr: [0.1423652119184039], w: [0.38996324851287767, 0.6100367514871223], means: [[9.460538845602674, 9.117768245138222], [34.06374696021104, 34.05598994698744]], cov: [array([[30.59180417,  0.12229734],\n",
      "       [ 0.12229734, 33.36707163]]), array([[82.73331531,  1.12405242],\n",
      "       [ 1.12405242, 83.66542074]])]\n",
      "olr: [0.15654854804990959], w: [0.3657800029204381, 0.6342199970795619], means: [[39.95873031085419, 39.8886828385813], [15.234296544873281, 15.648383085540337]], cov: [array([[30.35234636,  2.99201017],\n",
      "       [ 2.99201017, 32.99872089]]), array([[86.55633695, -7.36434694],\n",
      "       [-7.36434694, 91.6504474 ]])]\n",
      "olr: [0.14732379653071598], w: [0.6992269309376071, 0.300773069062393], means: [[17.204168913440334, 16.920321785799576], [41.75766736854202, 41.6069675594614]], cov: [array([[102.08866319,  -2.21987749],\n",
      "       [ -2.21987749, 103.88789007]]), array([[21.77733368,  1.4997201 ],\n",
      "       [ 1.4997201 , 22.56850686]])]\n"
     ]
    },
    {
     "name": "stderr",
     "output_type": "stream",
     "text": [
      "100%|██████████| 5000/5000 [00:00<00:00, 24181.69it/s]\n",
      "100%|██████████| 5000/5000 [00:00<00:00, 23723.09it/s]\n",
      "100%|██████████| 5000/5000 [00:00<00:00, 23539.52it/s]\n",
      "100%|██████████| 5000/5000 [00:00<00:00, 23877.21it/s]\n",
      "100%|██████████| 5000/5000 [00:00<00:00, 23677.74it/s]\n",
      "100%|██████████| 5000/5000 [00:00<00:00, 23636.09it/s]\n",
      " 48%|████▊     | 2384/5000 [00:00<00:00, 23835.42it/s]"
     ]
    },
    {
     "name": "stdout",
     "output_type": "stream",
     "text": [
      "olr: [0.14617662247419466], w: [0.5015342027963192, 0.4984657972036809], means: [[12.201267953087251, 12.38970078644085], [36.7825574129657, 36.87663505962955]], cov: [array([[57.63249948,  0.93952288],\n",
      "       [ 0.93952288, 56.83339535]]), array([[53.67651541,  0.80725211],\n",
      "       [ 0.80725211, 57.67997121]])]\n",
      "olr: [0.19868929948238273], w: [0.5143826539567284, 0.48561734604327167], means: [[12.664138979351536, 13.151364648445806], [37.10120062333789, 36.89894171816318]], cov: [array([[66.1131397 ,  0.63217255],\n",
      "       [ 0.63217255, 71.2077171 ]]), array([[54.5866207 , -5.64376971],\n",
      "       [-5.64376971, 70.79747299]])]\n",
      "olr: [0.29801285359437096], w: [0.42330955045693874, 0.5766904495430613], means: [[37.34580634588582, 37.79603519615378], [14.418764019518049, 14.487108879089686]], cov: [array([[53.28750735, -4.85484793],\n",
      "       [-4.85484793, 55.81569782]]), array([[ 9.78957820e+01, -8.87155581e-03],\n",
      "       [-8.87155581e-03,  8.20472549e+01]])]\n",
      "olr: [0.25263235177906623], w: [0.5140940086841057, 0.4859059913158942], means: [[36.015163272853705, 35.93940332827992], [12.274844200816798, 12.17718690240015]], cov: [array([[77.99701468, -3.29503751],\n",
      "       [-3.29503751, 70.70444808]]), array([[ 5.79821069e+01, -6.58804515e-02],\n",
      "       [-6.58804515e-02,  6.68303954e+01]])]\n",
      "olr: [0.5926212126273845], w: [0.47237590985438555, 0.5276240901456145], means: [[37.12672932624849, 28.846891325086194], [13.272759120348695, 20.644666661894973]], cov: [array([[ 57.36452675, -10.3401817 ],\n",
      "       [-10.3401817 , 179.56083107]]), array([[ 67.19546993,   1.86546943],\n",
      "       [  1.86546943, 192.14519956]])]\n",
      "olr: [0.6543998232604697], w: [0.716150863889959, 0.28384913611004103], means: [[22.935533562856268, 17.519706215268254], [28.082163414064713, 40.99165992996546]], cov: [array([[203.99654261,  62.31500296],\n",
      "       [ 62.31500296, 116.03476483]]), array([[196.0187708 ,  19.88611612],\n",
      "       [ 19.88611612,  28.81560215]])]\n"
     ]
    },
    {
     "name": "stderr",
     "output_type": "stream",
     "text": [
      "\r",
      " 97%|█████████▋| 4826/5000 [00:00<00:00, 23822.04it/s]\r",
      "100%|██████████| 5000/5000 [00:00<00:00, 23770.12it/s]\n",
      "\r",
      " 96%|█████████▋| 4822/5000 [00:00<00:00, 23870.99it/s]\r",
      "100%|██████████| 5000/5000 [00:00<00:00, 23841.87it/s]\n",
      "\r",
      " 95%|█████████▌| 4768/5000 [00:00<00:00, 23594.49it/s]\r",
      "100%|██████████| 5000/5000 [00:00<00:00, 23591.44it/s]\n",
      "\r",
      " 95%|█████████▌| 4762/5000 [00:00<00:00, 23720.96it/s]\r",
      " 94%|█████████▍| 4713/5000 [00:00<00:00, 23564.41it/s]\r",
      " 95%|█████████▌| 4768/5000 [00:00<00:00, 23637.19it/s]\r",
      "100%|██████████| 5000/5000 [00:00<00:00, 23654.11it/s]\n",
      "\r",
      "100%|██████████| 5000/5000 [00:00<00:00, 23461.59it/s]\n",
      "\r",
      "100%|██████████| 5000/5000 [00:00<00:00, 23615.19it/s]\n",
      "\r",
      "  0%|          | 0/5000 [00:00<?, ?it/s]\r",
      "  0%|          | 0/5000 [00:00<?, ?it/s]\r",
      "  0%|          | 0/5000 [00:00<?, ?it/s]"
     ]
    },
    {
     "name": "stdout",
     "output_type": "stream",
     "text": [
      "olr: [0.10275226922651252], w: [0.5071633217545621, 0.492836678245438], means: [[36.97921832548983, 36.84317079751784], [11.619055664736141, 12.241570850284042]], cov: [array([[56.38485542,  1.30662079],\n",
      "       [ 1.30662079, 54.33731055]]), array([[51.08110009, -3.25889461],\n",
      "       [-3.25889461, 50.98747915]])]\n",
      "olr: [0.1552017704894651], w: [0.3705117056135273, 0.6294882943864727], means: [[8.95972642956312, 8.735064079037798], [33.37078173824632, 33.57958630514996]], cov: [array([[31.4455694 ,  3.01094717],\n",
      "       [ 3.01094717, 29.82213364]]), array([[92.8854695 , -4.82832254],\n",
      "       [-4.82832254, 84.79613469]])]\n",
      "olr: [0.297473884058766], w: [0.48422241387282217, 0.515777586127178], means: [[36.60743671029585, 35.95923678277883], [12.925840148470757, 13.155537864620202]], cov: [array([[57.92323895, -2.46129772],\n",
      "       [-2.46129772, 88.52069526]]), array([[67.26605245,  1.52389254],\n",
      "       [ 1.52389254, 74.0150917 ]])]\n",
      "olr: [0.12589386269829525], w: [0.6901152709960169, 0.3098847290039832], means: [[32.000188528135794, 32.35250768546661], [7.427217305543063, 7.3538324994845725]], cov: [array([[102.54600745,  -0.7207426 ],\n",
      "       [ -0.7207426 , 102.0966349 ]]), array([[21.5361567 , -0.62398704],\n",
      "       [-0.62398704, 20.56897186]])]\n",
      "olr: [0.14498663021445982], w: [0.5022858690475912, 0.4977141309524088], means: [[36.911652706623364, 36.82044430979092], [12.125029343094635, 12.213458998051792]], cov: [array([[53.71500343,  0.66018435],\n",
      "       [ 0.66018435, 58.68865243]]), array([[58.2806913 , -1.44786638],\n",
      "       [-1.44786638, 60.75413864]])]\n",
      "olr: [0.14563784760439447], w: [0.3708543207739628, 0.6291456792260373], means: [[40.23376148025208, 40.25783156275597], [15.492017247976147, 15.36561330573533]], cov: [array([[29.20539945,  1.13202796],\n",
      "       [ 1.13202796, 31.29288852]]), array([[86.28583278,  0.46280119],\n",
      "       [ 0.46280119, 87.29980637]])]\n"
     ]
    },
    {
     "name": "stderr",
     "output_type": "stream",
     "text": [
      "\r",
      "  0%|          | 0/5000 [00:00<?, ?it/s]\r",
      "  0%|          | 0/5000 [00:00<?, ?it/s]\r",
      "  0%|          | 0/5000 [00:00<?, ?it/s]\r",
      " 47%|████▋     | 2349/5000 [00:00<00:00, 23488.12it/s]\r",
      " 47%|████▋     | 2328/5000 [00:00<00:00, 23270.92it/s]\r",
      " 47%|████▋     | 2343/5000 [00:00<00:00, 23424.21it/s]\r",
      " 47%|████▋     | 2348/5000 [00:00<00:00, 23475.49it/s]\r",
      " 47%|████▋     | 2360/5000 [00:00<00:00, 23597.88it/s]\r",
      " 48%|████▊     | 2398/5000 [00:00<00:00, 23970.54it/s]\r",
      " 94%|█████████▍| 4710/5000 [00:00<00:00, 23555.27it/s]\r",
      "100%|██████████| 5000/5000 [00:00<00:00, 23459.81it/s]\n",
      "\r",
      " 94%|█████████▎| 4685/5000 [00:00<00:00, 23446.11it/s]\r",
      " 94%|█████████▍| 4724/5000 [00:00<00:00, 23649.41it/s]\r",
      "100%|██████████| 5000/5000 [00:00<00:00, 23379.65it/s]\n",
      "\r",
      "100%|██████████| 5000/5000 [00:00<00:00, 23596.46it/s]\n"
     ]
    },
    {
     "name": "stdout",
     "output_type": "stream",
     "text": [
      "2024-01-16 22:50:28,365 - MultiprocessingDispatcher - 18 individuals out of 18 in previous population were evaluated successfully.\n",
      "2024-01-16 22:50:28,366 - EvoGraphOptimizer - Generation num: 4 size: 37\n",
      "2024-01-16 22:50:28,367 - EvoGraphOptimizer - Best individuals: HallOfFame archive fitness (1): ['<custom=0.003>']\n",
      "2024-01-16 22:50:28,367 - EvoGraphOptimizer - Next population size: 55; max graph depth: 100\n",
      "2024-01-16 22:50:28,378 - MultiprocessingDispatcher - Number of used CPU's: 6\n"
     ]
    },
    {
     "name": "stderr",
     "output_type": "stream",
     "text": [
      "\r",
      " 94%|█████████▍| 4696/5000 [00:00<00:00, 23038.67it/s]\r",
      " 94%|█████████▍| 4720/5000 [00:00<00:00, 22999.02it/s]\r",
      "100%|██████████| 5000/5000 [00:00<00:00, 22813.41it/s]\n",
      "\r",
      " 96%|█████████▌| 4796/5000 [00:00<00:00, 23258.13it/s]\r",
      "100%|██████████| 5000/5000 [00:00<00:00, 22785.22it/s]\n",
      "\r",
      "100%|██████████| 5000/5000 [00:00<00:00, 23147.99it/s]\n",
      "\r",
      "  0%|          | 0/5000 [00:00<?, ?it/s]\r",
      "  0%|          | 0/5000 [00:00<?, ?it/s]\r",
      "  0%|          | 0/5000 [00:00<?, ?it/s]"
     ]
    },
    {
     "name": "stdout",
     "output_type": "stream",
     "text": [
      "olr: [0.1282871265067701], w: [0.3130425526052927, 0.6869574473947073], means: [[41.780138874996304, 41.49609695720688], [16.80255265030327, 17.008558433526677]], cov: [array([[20.91748266,  0.14418867],\n",
      "       [ 0.14418867, 21.30144039]]), array([[100.14204463,  -0.94653421],\n",
      "       [ -0.94653421, 100.98262244]])]\n",
      "olr: [0.12504740967374636], w: [0.5116920244582956, 0.48830797554170446], means: [[12.331065011687894, 12.207436404848934], [36.855618343070724, 36.902432594034025]], cov: [array([[57.28246486, -1.67002973],\n",
      "       [-1.67002973, 54.88306874]]), array([[52.60042653,  0.74845885],\n",
      "       [ 0.74845885, 55.33058802]])]\n",
      "olr: [0.17658782457134437], w: [0.5793807675235145, 0.4206192324764854], means: [[14.205062451914628, 13.977438704777189], [38.38592904758083, 38.590581651828735]], cov: [array([[75.88025777,  4.58867702],\n",
      "       [ 4.58867702, 73.97177135]]), array([[40.10123008,  0.40940209],\n",
      "       [ 0.40940209, 42.5083251 ]])]\n",
      "olr: [0.11400055139950682], w: [0.4955551484979372, 0.5044448515020629], means: [[36.72583279421038, 36.69567892823895], [11.97340890281634, 11.834925783675112]], cov: [array([[54.18890234,  0.54183308],\n",
      "       [ 0.54183308, 52.99543932]]), array([[53.37924389, -0.22245388],\n",
      "       [-0.22245388, 52.56436481]])]\n",
      "olr: [0.14249048633110822], w: [0.5122922808516558, 0.4877077191483442], means: [[36.66101352822099, 36.53184308205276], [11.814546981860753, 11.928494373514077]], cov: [array([[63.67222128,  1.53415616],\n",
      "       [ 1.53415616, 56.49848171]]), array([[54.16912942, -1.08927197],\n",
      "       [-1.08927197, 55.07453108]])]\n",
      "olr: [0.11931603767398555], w: [0.5029310798342278, 0.4970689201657722], means: [[12.255980899387236, 12.347994055758432], [37.135466618366515, 36.86613520241704]], cov: [array([[52.28267268,  1.39594162],\n",
      "       [ 1.39594162, 54.03394404]]), array([[ 5.19695631e+01, -2.09829623e-02],\n",
      "       [-2.09829623e-02,  5.48997598e+01]])]\n"
     ]
    },
    {
     "name": "stderr",
     "output_type": "stream",
     "text": [
      "100%|██████████| 5000/5000 [00:00<00:00, 22453.38it/s]\n",
      "100%|██████████| 5000/5000 [00:00<00:00, 22123.16it/s]\n",
      "100%|██████████| 5000/5000 [00:00<00:00, 22233.19it/s]\n",
      "100%|██████████| 5000/5000 [00:00<00:00, 22396.35it/s]\n",
      "100%|██████████| 5000/5000 [00:00<00:00, 22275.41it/s]\n",
      "100%|██████████| 5000/5000 [00:00<00:00, 22382.92it/s]\n",
      "  0%|          | 0/5000 [00:00<?, ?it/s]"
     ]
    },
    {
     "name": "stdout",
     "output_type": "stream",
     "text": [
      "olr: [0.1268054193469992], w: [0.5042653508636429, 0.49573464913635706], means: [[12.36232084337754, 12.131792824051402], [37.20359263681874, 36.926927070492994]], cov: [array([[53.93061502,  1.36275933],\n",
      "       [ 1.36275933, 57.30811991]]), array([[52.72651668,  0.5558805 ],\n",
      "       [ 0.5558805 , 55.21175186]])]\n",
      "olr: [0.1710646496640858], w: [0.28040735152385626, 0.7195926484761437], means: [[7.132776862479079, 7.028862035293224], [31.2317211391394, 31.52819231894789]], cov: [array([[23.51226355, -0.70697297],\n",
      "       [-0.70697297, 19.96671889]]), array([[112.76725735,   0.84054731],\n",
      "       [  0.84054731, 114.1718587 ]])]\n",
      "olr: [0.10975627434609649], w: [0.4915730412067749, 0.508426958793225], means: [[11.81037716768354, 11.985187777772833], [36.86613515217973, 36.7443237844588]], cov: [array([[52.28782018, -0.51328001],\n",
      "       [-0.51328001, 50.06278844]]), array([[54.05595839,  0.39378847],\n",
      "       [ 0.39378847, 56.31905083]])]\n",
      "olr: [0.13659918763353232], w: [0.6461457574507242, 0.3538542425492758], means: [[15.417758304539174, 15.807536622676134], [40.34339331153648, 40.53258531586917]], cov: [array([[87.75285954,  2.22997107],\n",
      "       [ 2.22997107, 89.9382642 ]]), array([[27.46585333, -0.44906184],\n",
      "       [-0.44906184, 29.2998057 ]])]\n",
      "olr: [0.16107411687882428], w: [0.6270957586109293, 0.37290424138907063], means: [[15.532763184641396, 15.775145232362657], [40.27808863598421, 40.32743976656404]], cov: [array([[87.49242096, -1.43115317],\n",
      "       [-1.43115317, 89.07796386]]), array([[30.1666475 ,  2.44751794],\n",
      "       [ 2.44751794, 31.52895154]])]\n",
      "olr: [0.25224415177393233], w: [0.29507491366512106, 0.7049250863348789], means: [[40.94541492553973, 41.513193480220075], [17.757965305148854, 17.467527055791464]], cov: [array([[34.6220017 ,  0.70924605],\n",
      "       [ 0.70924605, 22.32067619]]), array([[123.14616333,  -0.80255478],\n",
      "       [ -0.80255478, 114.84016937]])]\n"
     ]
    },
    {
     "name": "stderr",
     "output_type": "stream",
     "text": [
      "\r",
      " 47%|████▋     | 2359/5000 [00:00<00:00, 23581.48it/s]\r",
      " 47%|████▋     | 2332/5000 [00:00<00:00, 23313.63it/s]\r",
      " 47%|████▋     | 2374/5000 [00:00<00:00, 23738.38it/s]\r",
      " 47%|████▋     | 2345/5000 [00:00<00:00, 23448.68it/s]\r",
      " 47%|████▋     | 2348/5000 [00:00<00:00, 23470.34it/s]\r",
      " 47%|████▋     | 2354/5000 [00:00<00:00, 23534.30it/s]\r",
      " 95%|█████████▍| 4740/5000 [00:00<00:00, 23712.94it/s]\r",
      " 93%|█████████▎| 4666/5000 [00:00<00:00, 23328.30it/s]\r",
      "100%|██████████| 5000/5000 [00:00<00:00, 23667.16it/s]\n",
      "\r",
      " 95%|█████████▌| 4765/5000 [00:00<00:00, 23835.00it/s]\r",
      " 94%|█████████▍| 4725/5000 [00:00<00:00, 23651.20it/s]\r",
      "100%|██████████| 5000/5000 [00:00<00:00, 23278.98it/s]\n",
      "\r",
      "100%|██████████| 5000/5000 [00:00<00:00, 23801.17it/s]\n",
      "\r",
      " 95%|█████████▍| 4737/5000 [00:00<00:00, 23712.52it/s]\r",
      "100%|██████████| 5000/5000 [00:00<00:00, 23574.71it/s]\n",
      "\r",
      "100%|██████████| 5000/5000 [00:00<00:00, 23654.03it/s]\n",
      "\r",
      " 95%|█████████▍| 4728/5000 [00:00<00:00, 23653.87it/s]\r",
      "100%|██████████| 5000/5000 [00:00<00:00, 23623.33it/s]\n"
     ]
    },
    {
     "name": "stdout",
     "output_type": "stream",
     "text": [
      "olr: [0.12457885805167329], w: [0.4915006745142021, 0.5084993254857979], means: [[37.26741559522105, 37.06071886184548], [12.559780863910184, 12.234493478390052]], cov: [array([[52.08194198,  0.49684172],\n",
      "       [ 0.49684172, 51.93454035]]), array([[60.35707747, -1.00807609],\n",
      "       [-1.00807609, 55.25921929]])]\n",
      "olr: [0.14317148843687347], w: [0.6113851605577865, 0.3886148394422134], means: [[33.87535351649599, 33.98503662947], [9.119341804991192, 9.194844254681513]], cov: [array([[85.81434785,  1.60532861],\n",
      "       [ 1.60532861, 77.79066272]]), array([[31.74652974,  1.32241112],\n",
      "       [ 1.32241112, 31.41400007]])]\n",
      "olr: [0.20888377883824435], w: [0.503296130057679, 0.49670386994232096], means: [[36.77015489596213, 35.942720617094174], [12.428579104804887, 13.023791842860717]], cov: [array([[55.99359588, -3.98644565],\n",
      "       [-3.98644565, 78.2898407 ]]), array([[60.22570966, -1.12430604],\n",
      "       [-1.12430604, 67.10547985]])]\n",
      "olr: [0.13557257795126815], w: [0.4805458385003856, 0.5194541614996143], means: [[36.77729792983749, 36.802004547680355], [12.519723607089734, 12.067570790160229]], cov: [array([[55.29611185,  1.91762119],\n",
      "       [ 1.91762119, 58.07958042]]), array([[58.10005966, -4.94706654],\n",
      "       [-4.94706654, 54.6277934 ]])]\n",
      "olr: [0.11474007636778541], w: [0.4873886966735017, 0.5126113033264983], means: [[11.766944740028524, 11.882012976804695], [36.47661301650782, 36.825253479348554]], cov: [array([[53.95708832, -0.31193154],\n",
      "       [-0.31193154, 50.95204836]]), array([[54.67587321,  0.83076599],\n",
      "       [ 0.83076599, 54.98180921]])]\n",
      "olr: [0.13696294596110553], w: [0.4976955936270427, 0.5023044063729574], means: [[12.298569435605444, 12.499206722893222], [36.94623409336284, 36.68213867210565]], cov: [array([[ 5.32187553e+01, -9.86335203e-03],\n",
      "       [-9.86335203e-03,  6.16759816e+01]]), array([[54.54447497, -2.72058135],\n",
      "       [-2.72058135, 58.37069813]])]\n"
     ]
    },
    {
     "name": "stderr",
     "output_type": "stream",
     "text": [
      "100%|██████████| 5000/5000 [00:00<00:00, 23893.94it/s]\n",
      "100%|██████████| 5000/5000 [00:00<00:00, 23923.16it/s]\n",
      "100%|██████████| 5000/5000 [00:00<00:00, 23551.09it/s]\n",
      "100%|██████████| 5000/5000 [00:00<00:00, 23758.78it/s]\n",
      "100%|██████████| 5000/5000 [00:00<00:00, 23639.66it/s]\n",
      "100%|██████████| 5000/5000 [00:00<00:00, 23728.62it/s]\n",
      "  0%|          | 0/5000 [00:00<?, ?it/s]"
     ]
    },
    {
     "name": "stdout",
     "output_type": "stream",
     "text": [
      "olr: [0.12298355762517753], w: [0.5054828849026084, 0.4945171150973917], means: [[12.21006409888266, 12.22674876037236], [37.03334225519025, 37.10081451885498]], cov: [array([[55.18066191,  0.37615483],\n",
      "       [ 0.37615483, 56.56305168]]), array([[53.86639031,  0.0706819 ],\n",
      "       [ 0.0706819 , 54.65211817]])]\n",
      "olr: [0.13897317382020877], w: [0.5060718703372743, 0.4939281296627257], means: [[11.858879207402198, 12.342631020100193], [36.92916787683548, 36.749357942358245]], cov: [array([[55.25655868,  0.9202074 ],\n",
      "       [ 0.9202074 , 58.17914037]]), array([[54.59432183, -1.41203294],\n",
      "       [-1.41203294, 61.31460996]])]\n",
      "olr: [0.11520506938906798], w: [0.5108435964560272, 0.48915640354397283], means: [[37.10807232564167, 12.20467198301544], [11.9004449976408, 36.88456563159018]], cov: [array([[53.06367569, -0.47267326],\n",
      "       [-0.47267326, 56.99855903]]), array([[54.86812751,  0.62946333],\n",
      "       [ 0.62946333, 52.80816958]])]\n",
      "olr: [0.6227672914395004], w: [0.7575490519112476, 0.2424509480887524], means: [[28.80957417661777, 29.990485102150117], [11.421421192062125, 7.8000785701835555]], cov: [array([[179.02907445,  18.2379245 ],\n",
      "       [ 18.2379245 , 148.92739166]]), array([[56.42428553, -4.26930448],\n",
      "       [-4.26930448, 31.2337306 ]])]\n",
      "olr: [0.1443232955262241], w: [0.37470470148177537, 0.6252952985182246], means: [[9.025509677192021, 8.932862572330285], [33.860640150119046, 33.08998875489578]], cov: [array([[30.65929845,  1.63301536],\n",
      "       [ 1.63301536, 32.00050468]]), array([[80.55861034, -1.57996935],\n",
      "       [-1.57996935, 84.8860976 ]])]\n",
      "olr: [0.15527577110145377], w: [0.5018920167488867, 0.4981079832511133], means: [[12.447059649357179, 12.491514807451951], [36.96451522381674, 37.00765508860804]], cov: [array([[54.60131578,  2.08500516],\n",
      "       [ 2.08500516, 56.65117074]]), array([[55.14140087,  1.52109407],\n",
      "       [ 1.52109407, 59.97295451]])]\n"
     ]
    },
    {
     "name": "stderr",
     "output_type": "stream",
     "text": [
      "100%|██████████| 5000/5000 [00:00<00:00, 23669.51it/s]\n",
      "100%|██████████| 5000/5000 [00:00<00:00, 23473.99it/s]\n",
      "100%|██████████| 5000/5000 [00:00<00:00, 23673.28it/s]\n",
      "100%|██████████| 5000/5000 [00:00<00:00, 23586.14it/s]\n",
      "100%|██████████| 5000/5000 [00:00<00:00, 22954.74it/s]\n",
      "100%|██████████| 5000/5000 [00:00<00:00, 23472.78it/s]\n",
      " 47%|████▋     | 2355/5000 [00:00<00:00, 23541.77it/s]"
     ]
    },
    {
     "name": "stdout",
     "output_type": "stream",
     "text": [
      "olr: [0.1565489385183906], w: [0.6391661836697224, 0.36083381633027756], means: [[15.435399199594057, 15.635700487756056], [40.204144244890486, 39.95631323268627]], cov: [array([[83.76766126, -0.547429  ],\n",
      "       [-0.547429  , 93.04770568]]), array([[29.57066269,  0.98551798],\n",
      "       [ 0.98551798, 32.91297847]])]\n",
      "olr: [0.15736412829586718], w: [0.5006018508199436, 0.4993981491800564], means: [[12.297240636354367, 12.234716644356155], [36.4970887605177, 36.966252746206564]], cov: [array([[55.88274524,  4.55525555],\n",
      "       [ 4.55525555, 57.11707303]]), array([[55.69356117,  0.9538331 ],\n",
      "       [ 0.9538331 , 55.31891193]])]\n",
      "olr: [0.13791973494335244], w: [0.1934836572255317, 0.8065163427744684], means: [[4.6907805574753905, 4.840608082563596], [29.437482371186455, 29.5443752113195]], cov: [array([[ 9.17761972,  0.39205943],\n",
      "       [ 0.39205943, 11.10090911]]), array([[136.41589199,   2.38742491],\n",
      "       [  2.38742491, 142.93614841]])]\n",
      "olr: [0.24721242592967563], w: [0.7101935665167378, 0.28980643348326224], means: [[31.340333712894534, 31.499337051574354], [7.580565407777656, 7.689178772348573]], cov: [array([[116.24731156,   5.55122898],\n",
      "       [  5.55122898, 118.54729148]]), array([[26.8653014 , -0.30806292],\n",
      "       [-0.30806292, 25.99669447]])]\n",
      "olr: [0.10791127138698929], w: [0.5047337287073915, 0.4952662712926084], means: [[11.903232759589086, 12.094528305983076], [36.891744915102, 36.85791803169072]], cov: [array([[54.88810992, -3.93795026],\n",
      "       [-3.93795026, 53.31685277]]), array([[52.71532871,  2.79886497],\n",
      "       [ 2.79886497, 53.47159745]])]\n",
      "olr: [0.1337204111157008], w: [0.5094191632375998, 0.4905808367624002], means: [[37.02214526754255, 12.449027784450925], [11.949120913964098, 37.06795153869964]], cov: [array([[55.140166  , -3.39991987],\n",
      "       [-3.39991987, 59.01929396]]), array([[52.98573209,  0.23286377],\n",
      "       [ 0.23286377, 54.41438435]])]\n"
     ]
    },
    {
     "name": "stderr",
     "output_type": "stream",
     "text": [
      "\r",
      " 47%|████▋     | 2359/5000 [00:00<00:00, 23581.20it/s]\r",
      " 48%|████▊     | 2381/5000 [00:00<00:00, 23806.56it/s]\r",
      " 48%|████▊     | 2378/5000 [00:00<00:00, 23772.09it/s]\r",
      " 47%|████▋     | 2372/5000 [00:00<00:00, 23716.52it/s]\r",
      " 94%|█████████▍| 4716/5000 [00:00<00:00, 23599.18it/s]\r",
      " 94%|█████████▍| 4717/5000 [00:00<00:00, 23585.22it/s]\r",
      "100%|██████████| 5000/5000 [00:00<00:00, 23543.19it/s]\n",
      "\r",
      "100%|██████████| 5000/5000 [00:00<00:00, 23486.69it/s]\n",
      "\r",
      " 94%|█████████▍| 4718/5000 [00:00<00:00, 23463.63it/s]\r",
      "100%|██████████| 5000/5000 [00:00<00:00, 23440.67it/s]\n",
      "\r",
      " 95%|█████████▌| 4762/5000 [00:00<00:00, 23770.76it/s]\r",
      " 95%|█████████▌| 4756/5000 [00:00<00:00, 23730.90it/s]\r",
      " 95%|█████████▍| 4744/5000 [00:00<00:00, 23645.00it/s]\r",
      "100%|██████████| 5000/5000 [00:00<00:00, 23696.10it/s]\n",
      "\r",
      "100%|██████████| 5000/5000 [00:00<00:00, 23638.48it/s]\n",
      "\r",
      "100%|██████████| 5000/5000 [00:00<00:00, 23564.41it/s]\n"
     ]
    },
    {
     "name": "stdout",
     "output_type": "stream",
     "text": [
      "olr: [0.14067293977900625], w: [0.6710819445040731, 0.328918055495927], means: [[16.49216980608912, 16.620054210805186], [40.974955288233446, 41.160956281456976]], cov: [array([[100.00567646,  -3.61494888],\n",
      "       [ -3.61494888, 100.616227  ]]), array([[22.48928274, -0.17244868],\n",
      "       [-0.17244868, 24.7152149 ]])]\n",
      "olr: [0.15212271202944583], w: [0.5744449412990036, 0.4255550587009964], means: [[14.262694912269808, 13.950249228809987], [38.77633862167267, 38.89167702804488]], cov: [array([[74.54120091, -0.26196347],\n",
      "       [-0.26196347, 72.6010892 ]]), array([[38.58432405,  2.69650129],\n",
      "       [ 2.69650129, 40.4925608 ]])]\n",
      "olr: [0.12081388223433626], w: [0.4828943386221129, 0.517105661377887], means: [[37.19926516128562, 37.28236453630617], [12.452165840835468, 12.275551611749089]], cov: [array([[52.54974058,  1.46329223],\n",
      "       [ 1.46329223, 50.69665751]]), array([[55.6005648 ,  2.52060173],\n",
      "       [ 2.52060173, 53.25823236]])]\n",
      "olr: [0.12096439993475906], w: [0.4940460217446194, 0.5059539782553807], means: [[37.11884453396968, 36.824260183584876], [12.124388363122911, 12.180793150123977]], cov: [array([[56.74600927,  0.83032837],\n",
      "       [ 0.83032837, 52.9321029 ]]), array([[5.22109869e+01, 4.64044279e-02],\n",
      "       [4.64044279e-02, 5.39968545e+01]])]\n",
      "olr: [0.14539453663302604], w: [0.5118740254761301, 0.48812597452386997], means: [[36.89502518985263, 12.388327894251162], [12.364830496705713, 36.51667328139657]], cov: [array([[5.32329392e+01, 4.32548452e-02],\n",
      "       [4.32548452e-02, 5.95917142e+01]]), array([[54.81834533,  0.94840808],\n",
      "       [ 0.94840808, 58.53409702]])]\n",
      "olr: [0.15510884190812904], w: [0.7003366214734292, 0.29966337852657066], means: [[17.06973925779272, 17.21047787056453], [41.66487256519416, 41.569550925560016]], cov: [array([[104.82235942,  -3.47168998],\n",
      "       [ -3.47168998, 105.98139337]]), array([[21.48964924,  1.34488627],\n",
      "       [ 1.34488627, 23.23633793]])]\n"
     ]
    },
    {
     "name": "stderr",
     "output_type": "stream",
     "text": [
      "100%|██████████| 5000/5000 [00:00<00:00, 23145.92it/s]\n",
      "100%|██████████| 5000/5000 [00:00<00:00, 23668.82it/s]\n",
      "100%|██████████| 5000/5000 [00:00<00:00, 23654.72it/s]\n",
      "100%|██████████| 5000/5000 [00:00<00:00, 23428.07it/s]\n",
      "100%|██████████| 5000/5000 [00:00<00:00, 23513.41it/s]\n",
      "100%|██████████| 5000/5000 [00:00<00:00, 23913.18it/s]\n"
     ]
    },
    {
     "name": "stdout",
     "output_type": "stream",
     "text": [
      "2024-01-16 22:50:30,618 - MultiprocessingDispatcher - 36 individuals out of 36 in previous population were evaluated successfully.\n",
      "2024-01-16 22:50:30,621 - EvoGraphOptimizer - Generation num: 5 size: 55\n",
      "2024-01-16 22:50:30,621 - EvoGraphOptimizer - Best individuals: HallOfFame archive fitness (1): ['<custom=0.001>']\n",
      "2024-01-16 22:50:30,621 - EvoGraphOptimizer - Next population size: 55; max graph depth: 100\n",
      "2024-01-16 22:50:30,634 - MultiprocessingDispatcher - Number of used CPU's: 6\n",
      "olr: [0.12459762770974248], w: [0.49244175559637926, 0.5075582444036207], means: [[37.07543589560891, 11.997784986984424], [12.361748286519536, 36.880082047994364]], cov: [array([[53.9944823 , -0.52642023],\n",
      "       [-0.52642023, 50.02875557]]), array([[56.83752337,  1.55448664],\n",
      "       [ 1.55448664, 59.8394674 ]])]\n",
      "olr: [0.12848589394101276], w: [0.5127830783359797, 0.4872169216640202], means: [[12.300817453388532, 36.60436167463458], [37.09466596208566, 12.09749185193907]], cov: [array([[54.65583708, -0.63085635],\n",
      "       [-0.63085635, 58.57474996]]), array([[53.61374552,  2.15013099],\n",
      "       [ 2.15013099, 56.89041066]])]\n",
      "olr: [0.15496734256402825], w: [0.40678120205897117, 0.5932187979410288], means: [[39.4369794981333, 39.211304213019936], [14.74764135010435, 14.65593903649697]], cov: [array([[35.99291522,  0.59471782],\n",
      "       [ 0.59471782, 38.39076798]]), array([[77.50106687,  1.28756687],\n",
      "       [ 1.28756687, 78.74021949]])]\n",
      "olr: [0.17281218462195322], w: [0.5970266895230985, 0.40297331047690155], means: [[14.68338491279773, 14.820062211637687], [39.404662546328005, 38.86864691044444]], cov: [array([[80.32921485, -0.25380019],\n",
      "       [-0.25380019, 89.87369381]]), array([[35.88867324, -1.77423426],\n",
      "       [-1.77423426, 40.6593233 ]])]\n",
      "olr: [0.10622068545895319], w: [0.48797132323043535, 0.5120286767695648], means: [[11.81577346004677, 11.800147269712523], [36.82340901034209, 36.62620351813683]], cov: [array([[51.98748037,  0.59970338],\n",
      "       [ 0.59970338, 50.05530449]]), array([[54.8448407 , -1.32877631],\n",
      "       [-1.32877631, 55.17077132]])]\n",
      "olr: [0.32249695609850093], w: [0.6225077926544356, 0.3774922073455644], means: [[33.44229803689227, 32.190472461524074], [9.249750855296618, 11.222960265230087]], cov: [array([[ 88.27589718,  -5.24517425],\n",
      "       [ -5.24517425, 135.73545841]]), array([[34.35811537, -1.45151958],\n",
      "       [-1.45151958, 57.53593722]])]\n"
     ]
    },
    {
     "name": "stderr",
     "output_type": "stream",
     "text": [
      "100%|██████████| 5000/5000 [00:00<00:00, 23658.99it/s]\n",
      "100%|██████████| 5000/5000 [00:00<00:00, 23559.01it/s]\n",
      "100%|██████████| 5000/5000 [00:00<00:00, 23788.94it/s]\n",
      "100%|██████████| 5000/5000 [00:00<00:00, 23959.29it/s]\n",
      "100%|██████████| 5000/5000 [00:00<00:00, 23343.94it/s]\n",
      "100%|██████████| 5000/5000 [00:00<00:00, 23676.59it/s]\n",
      "  0%|          | 0/5000 [00:00<?, ?it/s]"
     ]
    },
    {
     "name": "stdout",
     "output_type": "stream",
     "text": [
      "olr: [0.15172059325834597], w: [0.6913418500167332, 0.3086581499832666], means: [[17.203371512021707, 17.33350289837328], [41.813862077036816, 41.23922870547297]], cov: [array([[105.23292155,  -2.27817975],\n",
      "       [ -2.27817975, 108.37622265]]), array([[20.51750419, -1.2413746 ],\n",
      "       [-1.2413746 , 24.27544548]])]\n",
      "olr: [0.13393241564362707], w: [0.7537920196647985, 0.24620798033520144], means: [[18.58497033318924, 18.60023575075699], [43.46568158580871, 43.32227863887194]], cov: [array([[123.45902118,  -2.65202954],\n",
      "       [ -2.65202954, 122.34443055]]), array([[12.58419171,  1.50123634],\n",
      "       [ 1.50123634, 14.67144893]])]\n",
      "olr: [0.18049167599832047], w: [0.5127192582152689, 0.48728074178473113], means: [[12.789857374253677, 12.737882774665149], [37.01848291464493, 37.108879218807765]], cov: [array([[66.89845879, -0.96969215],\n",
      "       [-0.96969215, 61.44150821]]), array([[57.85135418,  2.85417314],\n",
      "       [ 2.85417314, 50.90169814]])]\n",
      "olr: [0.21538081824897426], w: [0.47567914980842335, 0.5243208501915767], means: [[37.2111002228648, 36.11505936086885], [12.719798345068314, 13.068370760837688]], cov: [array([[53.6277555 , -5.8922144 ],\n",
      "       [-5.8922144 , 80.73674273]]), array([[67.94136445, -1.5183752 ],\n",
      "       [-1.5183752 , 71.00109538]])]\n",
      "olr: [0.1294542739458294], w: [0.2974258052188206, 0.7025741947811793], means: [[41.832502911861795, 41.8036808929958], [17.22484860248803, 17.07080424868926]], cov: [array([[20.79357219,  0.36273086],\n",
      "       [ 0.36273086, 19.0196878 ]]), array([[103.15089966,  -1.44920071],\n",
      "       [ -1.44920071, 103.94554686]])]\n",
      "olr: [0.14450281444285026], w: [0.5077961783676638, 0.49220382163233617], means: [[12.340347814412361, 12.199466038533457], [36.79333183569066, 36.8476573533274]], cov: [array([[56.404198  ,  1.82377753],\n",
      "       [ 1.82377753, 58.76925926]]), array([[55.99727759, -0.32954511],\n",
      "       [-0.32954511, 55.23720038]])]\n"
     ]
    },
    {
     "name": "stderr",
     "output_type": "stream",
     "text": [
      "\r",
      " 47%|████▋     | 2366/5000 [00:00<00:00, 23652.02it/s]\r",
      " 47%|████▋     | 2370/5000 [00:00<00:00, 23696.80it/s]\r",
      " 48%|████▊     | 2402/5000 [00:00<00:00, 24016.87it/s]\r",
      " 47%|████▋     | 2366/5000 [00:00<00:00, 23650.15it/s]\r",
      " 47%|████▋     | 2371/5000 [00:00<00:00, 23707.25it/s]\r",
      " 47%|████▋     | 2373/5000 [00:00<00:00, 23719.50it/s]\r",
      " 95%|█████████▍| 4737/5000 [00:00<00:00, 23684.27it/s]\r",
      " 95%|█████████▌| 4752/5000 [00:00<00:00, 23764.81it/s]\r",
      "100%|██████████| 5000/5000 [00:00<00:00, 23630.92it/s]\n",
      "\r",
      "100%|██████████| 5000/5000 [00:00<00:00, 23658.57it/s]\n",
      "\r",
      " 96%|█████████▌| 4812/5000 [00:00<00:00, 24062.71it/s]\r",
      "100%|██████████| 5000/5000 [00:00<00:00, 24030.89it/s]\n",
      "\r",
      " 95%|█████████▍| 4734/5000 [00:00<00:00, 23666.56it/s]\r",
      " 95%|█████████▍| 4742/5000 [00:00<00:00, 23633.02it/s]\r",
      " 95%|█████████▌| 4753/5000 [00:00<00:00, 23765.16it/s]\r",
      "100%|██████████| 5000/5000 [00:00<00:00, 23636.70it/s]\n",
      "\r",
      "100%|██████████| 5000/5000 [00:00<00:00, 23612.56it/s]\n",
      "\r",
      "100%|██████████| 5000/5000 [00:00<00:00, 23720.00it/s]\n"
     ]
    },
    {
     "name": "stdout",
     "output_type": "stream",
     "text": [
      "olr: [0.16121131395319577], w: [0.4994295051863409, 0.500570494813659], means: [[37.05453282450311, 12.25932372684253], [12.280933595248818, 36.493425414504486]], cov: [array([[55.93675749, -3.75985042],\n",
      "       [-3.75985042, 62.39206844]]), array([[55.80939202,  1.49275846],\n",
      "       [ 1.49275846, 59.6774568 ]])]\n",
      "olr: [0.19299764264356056], w: [0.5589244709601756, 0.4410755290398245], means: [[13.897233683925602, 13.99321298000755], [37.931136310877505, 38.23166266971411]], cov: [array([[80.2144366 , -1.79060378],\n",
      "       [-1.79060378, 72.64695036]]), array([[46.02169969, -0.09069935],\n",
      "       [-0.09069935, 47.76452812]])]\n",
      "olr: [0.1895416345691534], w: [0.5069530036635661, 0.49304699633643406], means: [[12.14093759876389, 12.55684337790501], [36.36999180657948, 36.403569368447606]], cov: [array([[60.7689845 , -0.87433069],\n",
      "       [-0.87433069, 59.93322073]]), array([[61.847705  , -1.25683736],\n",
      "       [-1.25683736, 63.65464802]])]\n",
      "olr: [0.13946928372503004], w: [0.5044062528458799, 0.49559374715412013], means: [[37.00557028060744, 12.292482135196668], [12.161491130475483, 36.93467735039473]], cov: [array([[56.9406912 , -1.24195026],\n",
      "       [-1.24195026, 58.69583881]]), array([[53.87805394, -0.10097298],\n",
      "       [-0.10097298, 56.82026934]])]\n",
      "olr: [0.3248979144865766], w: [0.4787079652481536, 0.5212920347518463], means: [[36.926448185178835, 35.38973369950118], [12.452933658427918, 14.740015342255415]], cov: [array([[ 56.94251369,  -5.7656049 ],\n",
      "       [ -5.7656049 , 112.98143018]]), array([[65.08491276, -5.03911953],\n",
      "       [-5.03911953, 91.45240644]])]\n",
      "olr: [0.17158147507270857], w: [0.4881523516102032, 0.5118476483897969], means: [[36.38758078255193, 36.358471792577774], [12.275756060143044, 12.062039384028107]], cov: [array([[65.59978524, -5.91119528],\n",
      "       [-5.91119528, 62.32793216]]), array([[58.73344979, -1.15828446],\n",
      "       [-1.15828446, 60.96844555]])]\n"
     ]
    },
    {
     "name": "stderr",
     "output_type": "stream",
     "text": [
      "100%|██████████| 5000/5000 [00:00<00:00, 23702.71it/s]\n",
      "100%|██████████| 5000/5000 [00:00<00:00, 23710.14it/s]\n",
      "100%|██████████| 5000/5000 [00:00<00:00, 23765.49it/s]\n",
      "100%|██████████| 5000/5000 [00:00<00:00, 23857.57it/s]\n",
      "100%|██████████| 5000/5000 [00:00<00:00, 23726.53it/s]\n",
      "100%|██████████| 5000/5000 [00:00<00:00, 23363.94it/s]\n",
      "  0%|          | 0/5000 [00:00<?, ?it/s]"
     ]
    },
    {
     "name": "stdout",
     "output_type": "stream",
     "text": [
      "olr: [0.31742904968777463], w: [0.4197538194065628, 0.5802461805934372], means: [[11.917794918293906, 10.072338680950475], [33.316996665743545, 34.38281549377973]], cov: [array([[53.69627712, -2.01365793],\n",
      "       [-2.01365793, 46.58086355]]), array([[127.44858879,  -7.35324132],\n",
      "       [ -7.35324132,  80.00322781]])]\n",
      "olr: [0.1435062252928272], w: [0.5473376348810679, 0.45266236511893215], means: [[13.454243065783208, 13.689000392665088], [38.3274328907392, 37.924723202208675]], cov: [array([[63.96455841, -0.60992949],\n",
      "       [-0.60992949, 73.0722409 ]]), array([[45.03780095, -1.25264481],\n",
      "       [-1.25264481, 46.76462319]])]\n",
      "olr: [0.6423746543515613], w: [0.5862680067031929, 0.41373199329680693], means: [[21.406299388704817, 15.021158097028037], [29.650043325733048, 38.71727553974839]], cov: [array([[200.35251418,  33.22977971],\n",
      "       [ 33.22977971,  83.12992162]]), array([[176.12652449,  11.77096693],\n",
      "       [ 11.77096693,  46.47619426]])]\n",
      "olr: [0.12088380816118839], w: [0.38255328049408194, 0.617446719505918], means: [[40.08705355609966, 8.826904777845982], [14.688176113445426, 33.89578073614736]], cov: [array([[31.54674254, -1.59831165],\n",
      "       [-1.59831165, 29.26668466]]), array([[82.8062099 ,  2.61489379],\n",
      "       [ 2.61489379, 84.60755564]])]\n",
      "olr: [0.4301463797701271], w: [0.49215603901318955, 0.5078439609868105], means: [[12.227105438527916, 15.850403487202856], [36.43354581360869, 33.5290552040642]], cov: [array([[ 61.86923672, -10.11612077],\n",
      "       [-10.11612077, 117.70155753]]), array([[ 63.34147754,  -2.05141934],\n",
      "       [ -2.05141934, 139.66606766]])]\n",
      "olr: [0.253879163462127], w: [0.3256194418634426, 0.6743805581365575], means: [[40.83594822560648, 40.4037673675529], [16.818132127285974, 16.80022901594795]], cov: [array([[26.38849053,  0.61161159],\n",
      "       [ 0.61161159, 36.02414886]]), array([[107.93907293,   2.29042593],\n",
      "       [  2.29042593, 113.91924821]])]\n"
     ]
    },
    {
     "name": "stderr",
     "output_type": "stream",
     "text": [
      "100%|██████████| 5000/5000 [00:00<00:00, 23327.61it/s]\n",
      "100%|██████████| 5000/5000 [00:00<00:00, 23368.08it/s]\n",
      "100%|██████████| 5000/5000 [00:00<00:00, 23218.98it/s]\n",
      "100%|██████████| 5000/5000 [00:00<00:00, 23065.27it/s]\n",
      "100%|██████████| 5000/5000 [00:00<00:00, 23534.00it/s]\n",
      "100%|██████████| 5000/5000 [00:00<00:00, 23125.65it/s]\n",
      "  0%|          | 0/5000 [00:00<?, ?it/s]"
     ]
    },
    {
     "name": "stdout",
     "output_type": "stream",
     "text": [
      "olr: [0.13282675939112054], w: [0.522050055535562, 0.47794994446443795], means: [[36.711054234283495, 36.63169370377456], [11.793687107840405, 12.043567185749703]], cov: [array([[57.80132939, -2.62693554],\n",
      "       [-2.62693554, 63.79872473]]), array([[55.66525597, -0.59293195],\n",
      "       [-0.59293195, 55.49698434]])]\n",
      "olr: [0.1267962661744582], w: [0.5110602791872887, 0.4889397208127114], means: [[12.252068690495104, 36.643350076189755], [37.073392859724684, 12.240444015791923]], cov: [array([[56.12757489,  1.48868851],\n",
      "       [ 1.48868851, 61.64487979]]), array([[54.57310851,  2.35628946],\n",
      "       [ 2.35628946, 54.08659128]])]\n",
      "olr: [0.13653540098344896], w: [0.6384528024854451, 0.36154719751455483], means: [[15.55283920411802, 15.58895264598946], [40.46897977389635, 40.169553505584986]], cov: [array([[85.96445672, -0.37721189],\n",
      "       [-0.37721189, 87.77797429]]), array([[27.84307735,  0.4627574 ],\n",
      "       [ 0.4627574 , 30.8694888 ]])]\n",
      "olr: [0.1261732917974411], w: [0.19619876483484153, 0.8038012351651584], means: [[4.690212586491318, 4.798172023153182], [29.403022849126938, 29.395581322710154]], cov: [array([[ 9.41715779, -0.49556678],\n",
      "       [-0.49556678, 10.81957542]]), array([[137.4173715 ,   2.34367132],\n",
      "       [  2.34367132, 136.13343894]])]\n",
      "olr: [0.14756341045960886], w: [0.36351859324476815, 0.6364814067552319], means: [[8.91197450246011, 8.590456060458378], [33.53205818632814, 33.43916926980397]], cov: [array([[29.24728735, -0.24434011],\n",
      "       [-0.24434011, 28.65014109]]), array([[96.9910728 , -0.30469521],\n",
      "       [-0.30469521, 87.20571096]])]\n",
      "olr: [0.5836541199737232], w: [0.3168515727889425, 0.6831484272110575], means: [[24.787206662315544, 8.173225766929846], [24.666578905545478, 31.964211130713686]], cov: [array([[188.7135383 ,  11.2284358 ],\n",
      "       [ 11.2284358 ,  30.71600271]]), array([[210.06141587,  38.31144951],\n",
      "       [ 38.31144951, 111.26142369]])]\n"
     ]
    },
    {
     "name": "stderr",
     "output_type": "stream",
     "text": [
      "\r",
      " 47%|████▋     | 2370/5000 [00:00<00:00, 23697.76it/s]\r",
      " 47%|████▋     | 2356/5000 [00:00<00:00, 23558.28it/s]\r",
      " 47%|████▋     | 2348/5000 [00:00<00:00, 23471.68it/s]\r",
      " 47%|████▋     | 2362/5000 [00:00<00:00, 23615.41it/s]\r",
      " 48%|████▊     | 2382/5000 [00:00<00:00, 23814.57it/s]\r",
      " 48%|████▊     | 2403/5000 [00:00<00:00, 24025.90it/s]\r",
      " 95%|█████████▌| 4758/5000 [00:00<00:00, 23804.07it/s]\r",
      " 95%|█████████▍| 4737/5000 [00:00<00:00, 23705.96it/s]\r",
      " 94%|█████████▍| 4705/5000 [00:00<00:00, 23524.38it/s]\r",
      "100%|██████████| 5000/5000 [00:00<00:00, 23722.55it/s]\n",
      "\r",
      " 95%|█████████▍| 4738/5000 [00:00<00:00, 23694.75it/s]\r",
      "100%|██████████| 5000/5000 [00:00<00:00, 23588.55it/s]\n",
      "\r",
      "100%|██████████| 5000/5000 [00:00<00:00, 23681.11it/s]\n",
      "\r",
      "100%|██████████| 5000/5000 [00:00<00:00, 23461.83it/s]\n",
      "\r",
      " 96%|█████████▌| 4782/5000 [00:00<00:00, 23919.69it/s]\r",
      "100%|██████████| 5000/5000 [00:00<00:00, 23847.56it/s]\n",
      "\r",
      " 96%|█████████▋| 4817/5000 [00:00<00:00, 24087.82it/s]\r",
      "100%|██████████| 5000/5000 [00:00<00:00, 24008.64it/s]\n"
     ]
    },
    {
     "name": "stdout",
     "output_type": "stream",
     "text": [
      "olr: [0.1412783998010818], w: [0.4977458262871018, 0.5022541737128983], means: [[11.974816227261352, 12.33062417896183], [36.673433823677136, 36.83569843260782]], cov: [array([[53.83005818, -3.23295145],\n",
      "       [-3.23295145, 67.63668619]]), array([[54.3771232 , -0.081563  ],\n",
      "       [-0.081563  , 57.26055443]])]\n",
      "olr: [0.1324309312172492], w: [0.5062715799962105, 0.4937284200037893], means: [[11.989346890113454, 11.984742130731288], [36.59407414035622, 36.57935199575689]], cov: [array([[53.71047155, -0.80256911],\n",
      "       [-0.80256911, 54.98320359]]), array([[63.54039112, -3.75541828],\n",
      "       [-3.75541828, 55.77867556]])]\n",
      "olr: [0.13823981684167386], w: [0.6262025742325411, 0.373797425767459], means: [[33.778129204922564, 33.54344258352086], [8.935450885624837, 8.915550712355747]], cov: [array([[85.01403783, -2.8003117 ],\n",
      "       [-2.8003117 , 87.45525402]]), array([[32.35603236, -0.29983913],\n",
      "       [-0.29983913, 32.01082233]])]\n",
      "olr: [0.1324067893841538], w: [0.6361666165318858, 0.3638333834681143], means: [[15.255388368231939, 33.792641254879086], [40.288307406477244, 8.60077687038878]], cov: [array([[91.95839123,  3.0006368 ],\n",
      "       [ 3.0006368 , 84.81347117]]), array([[30.36650614, -1.56502937],\n",
      "       [-1.56502937, 29.76791197]])]\n",
      "olr: [0.15308503665409404], w: [0.6313347409064293, 0.3686652590935708], means: [[33.620394505464475, 33.64124529078383], [9.000785574098403, 9.030721063218941]], cov: [array([[84.02725306,  0.51933034],\n",
      "       [ 0.51933034, 88.39085558]]), array([[30.0944927 ,  1.26656758],\n",
      "       [ 1.26656758, 31.67231104]])]\n",
      "olr: [0.21701524870460043], w: [0.28113025171487993, 0.7188697482851201], means: [[7.173255927730647, 6.717305382023317], [31.057616221411255, 31.187238440048947]], cov: [array([[22.17397147,  1.50056452],\n",
      "       [ 1.50056452, 20.29048459]]), array([[122.96432694,   6.29507432],\n",
      "       [  6.29507432, 114.03774404]])]\n"
     ]
    },
    {
     "name": "stderr",
     "output_type": "stream",
     "text": [
      "100%|██████████| 5000/5000 [00:00<00:00, 23744.85it/s]\n",
      "100%|██████████| 5000/5000 [00:00<00:00, 23725.48it/s]\n",
      "100%|██████████| 5000/5000 [00:00<00:00, 23552.97it/s]\n",
      "100%|██████████| 5000/5000 [00:00<00:00, 23835.96it/s]\n",
      "100%|██████████| 5000/5000 [00:00<00:00, 23670.90it/s]\n",
      "100%|██████████| 5000/5000 [00:00<00:00, 23602.54it/s]\n",
      "  0%|          | 0/5000 [00:00<?, ?it/s]"
     ]
    },
    {
     "name": "stdout",
     "output_type": "stream",
     "text": [
      "olr: [0.13133142418676602], w: [0.3976115310389919, 0.6023884689610082], means: [[39.22846717358201, 39.220851035293904], [14.493154428831268, 14.393929860841515]], cov: [array([[35.32324073, -1.82887075],\n",
      "       [-1.82887075, 38.963461  ]]), array([[76.67402787,  0.97799573],\n",
      "       [ 0.97799573, 77.18865075]])]\n",
      "olr: [0.1492797702200562], w: [0.693603765422066, 0.3063962345779339], means: [[17.09572048401793, 16.771322711402973], [41.47486968038982, 41.52449012236821]], cov: [array([[101.30299033,  -1.06111876],\n",
      "       [ -1.06111876, 102.59896297]]), array([[22.32686708,  1.25469188],\n",
      "       [ 1.25469188, 22.38440749]])]\n",
      "olr: [0.21759680177595395], w: [0.3019061122128553, 0.6980938877871447], means: [[40.21762483267926, 41.28558132615881], [17.47451661981921, 16.690635536583393]], cov: [array([[34.68023576,  0.2135848 ],\n",
      "       [ 0.2135848 , 23.64835927]]), array([[118.46329438,  -4.61746811],\n",
      "       [ -4.61746811, 105.62785616]])]\n",
      "olr: [0.38719585744290885], w: [0.5862689209603186, 0.41373107903968154], means: [[16.12703313437591, 14.982391010544823], [37.3339651492235, 38.864109087874695]], cov: [array([[131.17869227,   0.14186353],\n",
      "       [  0.14186353,  89.64927219]]), array([[52.62158313, -3.55738418],\n",
      "       [-3.55738418, 47.7164168 ]])]\n",
      "olr: [0.2550270373283116], w: [0.4485166171835384, 0.5514833828164615], means: [[37.124468945765365, 37.089617289054175], [13.864894232460893, 13.724965351132568]], cov: [array([[55.1676038 , -9.21017201],\n",
      "       [-9.21017201, 72.12733699]]), array([[84.13543321, -5.02673193],\n",
      "       [-5.02673193, 81.72452758]])]\n",
      "olr: [0.16312313582368157], w: [0.6009230272824156, 0.39907697271758436], means: [[34.62819586619176, 14.544672755830163], [9.968301813231415, 39.18184281657364]], cov: [array([[76.26096229, -2.74769659],\n",
      "       [-2.74769659, 80.04414806]]), array([[36.77123046, -1.37432455],\n",
      "       [-1.37432455, 39.43145368]])]\n"
     ]
    },
    {
     "name": "stderr",
     "output_type": "stream",
     "text": [
      "100%|██████████| 5000/5000 [00:00<00:00, 23398.30it/s]\n",
      "100%|██████████| 5000/5000 [00:00<00:00, 23717.54it/s]\n",
      "100%|██████████| 5000/5000 [00:00<00:00, 23588.55it/s]\n",
      "100%|██████████| 5000/5000 [00:00<00:00, 23714.80it/s]\n",
      "100%|██████████| 5000/5000 [00:00<00:00, 23512.54it/s]\n",
      "100%|██████████| 5000/5000 [00:00<00:00, 23609.61it/s]\n",
      "  0%|          | 0/5000 [00:00<?, ?it/s] 23344.01it/s]"
     ]
    },
    {
     "name": "stdout",
     "output_type": "stream",
     "text": [
      "olr: [0.1271557412896042], w: [0.4999500899206703, 0.5000499100793296], means: [[37.01429343208571, 12.047298479846859], [12.376565909784562, 36.81462924126696]], cov: [array([[51.34587639, -0.39915759],\n",
      "       [-0.39915759, 52.82781801]]), array([[54.11681402, -1.06307228],\n",
      "       [-1.06307228, 57.74976354]])]\n",
      "olr: [0.1878216867740733], w: [0.5025272705413268, 0.4974727294586731], means: [[36.55496624502699, 36.319604722800335], [12.218825732961555, 12.05173231914681]], cov: [array([[60.55207153,  0.09773474],\n",
      "       [ 0.09773474, 66.60807851]]), array([[59.76230944,  0.50920334],\n",
      "       [ 0.50920334, 59.01462969]])]\n",
      "olr: [0.1301143703176025], w: [0.49991797988184505, 0.5000820201181551], means: [[12.025174979321765, 12.386298649302338], [36.85595177418504, 36.77450070426938]], cov: [array([[53.56320931, -0.21435318],\n",
      "       [-0.21435318, 55.52809293]]), array([[54.97503975, -0.25537325],\n",
      "       [-0.25537325, 57.51221034]])]\n",
      "olr: [0.12795310952792416], w: [0.551804997446348, 0.448195002553652], means: [[35.42647181705975, 35.70660141916532], [10.5487472696402, 10.742018245737537]], cov: [array([[67.7428253 ,  1.29711708],\n",
      "       [ 1.29711708, 69.16189777]]), array([[42.86629607, -2.19089058],\n",
      "       [-2.19089058, 44.37087765]])]\n",
      "olr: [0.126763643176834], w: [0.2517526772026661, 0.7482473227973339], means: [[6.067642181241641, 6.369670193568707], [30.86660537617479, 30.96304894116701]], cov: [array([[14.46008565,  1.24697392],\n",
      "       [ 1.24697392, 15.81236677]]), array([[113.75623754,  -1.05415888],\n",
      "       [ -1.05415888, 112.78145125]])]\n",
      "olr: [0.6036115944960613], w: [0.49216130699851474, 0.5078386930014853], means: [[36.668317239761954, 29.544875063911313], [12.511203162347483, 20.137409406509462]], cov: [array([[ 62.73304525,  -7.79309197],\n",
      "       [ -7.79309197, 169.22398522]]), array([[ 65.6909761 ,  -2.13955744],\n",
      "       [ -2.13955744, 197.59450446]])]\n"
     ]
    },
    {
     "name": "stderr",
     "output_type": "stream",
     "text": [
      "\r",
      " 46%|████▌     | 2299/5000 [00:00<00:00, 22984.76it/s]\r",
      " 96%|█████████▋| 4820/5000 [00:00<00:00, 23751.77it/s]\r",
      " 47%|████▋     | 2366/5000 [00:00<00:00, 23650.77it/s]\r",
      " 48%|████▊     | 2377/5000 [00:00<00:00, 23760.79it/s]\r",
      "100%|██████████| 5000/5000 [00:00<00:00, 23744.93it/s]\n",
      "\r",
      " 94%|█████████▍| 4702/5000 [00:00<00:00, 23531.97it/s]\r",
      "100%|██████████| 5000/5000 [00:00<00:00, 23472.62it/s]\n",
      "\r",
      " 47%|████▋     | 2362/5000 [00:00<00:00, 23615.29it/s]\r",
      " 93%|█████████▎| 4662/5000 [00:00<00:00, 23362.85it/s]\r",
      "100%|██████████| 5000/5000 [00:00<00:00, 23275.13it/s]\n",
      "\r",
      " 95%|█████████▍| 4732/5000 [00:00<00:00, 23598.64it/s]\r",
      " 95%|█████████▌| 4770/5000 [00:00<00:00, 23857.41it/s]\r",
      "100%|██████████| 5000/5000 [00:00<00:00, 23780.66it/s]\n",
      "\r",
      "100%|██████████| 5000/5000 [00:00<00:00, 23585.95it/s]\n",
      "\r",
      "  0%|          | 0/5000 [00:00<?, ?it/s]\r",
      " 94%|█████████▍| 4724/5000 [00:00<00:00, 23587.02it/s]\r",
      "100%|██████████| 5000/5000 [00:00<00:00, 23545.04it/s]\n",
      "\r",
      "  0%|          | 0/5000 [00:00<?, ?it/s]"
     ]
    },
    {
     "name": "stdout",
     "output_type": "stream",
     "text": [
      "olr: [0.11224217370211147], w: [0.5077436197272227, 0.4922563802727772], means: [[12.14191246985603, 12.018170956280319], [36.95802053812463, 36.91013688047965]], cov: [array([[52.91183385,  2.64540073],\n",
      "       [ 2.64540073, 52.84212486]]), array([[51.00849308,  0.48210545],\n",
      "       [ 0.48210545, 51.4978647 ]])]\n",
      "olr: [0.14547746692644056], w: [0.7116874710821554, 0.2883125289178446], means: [[17.0042377022526, 32.04870118234992], [41.648197243018885, 7.111522040895864]], cov: [array([[109.90337671,  -0.27663076],\n",
      "       [ -0.27663076, 108.32532314]]), array([[20.48393285,  0.48978558],\n",
      "       [ 0.48978558, 22.83591518]])]\n",
      "olr: [0.15216574196892285], w: [0.4178719821100285, 0.5821280178899716], means: [[38.83066706088276, 39.19602695499701], [14.328381270579623, 14.56634668816095]], cov: [array([[38.8893304 , -0.40608482],\n",
      "       [-0.40608482, 40.59065744]]), array([[78.44678059, -0.19850687],\n",
      "       [-0.19850687, 74.19301021]])]\n",
      "olr: [0.11906241277804229], w: [0.30925977245050545, 0.6907402275494945], means: [[7.471660492441642, 7.416966794015792], [32.19924812426876, 31.994416505047337]], cov: [array([[20.7253249 , -1.25656751],\n",
      "       [-1.25656751, 20.87690993]]), array([[102.66463375,  -3.55269284],\n",
      "       [ -3.55269284, 102.72402551]])]\n",
      "olr: [0.2025642547740602], w: [0.5052654176788877, 0.49473458232111245], means: [[35.98734069429365, 36.52017303503352], [12.538927931500234, 12.225180397482069]], cov: [array([[70.72762696, -1.46984856],\n",
      "       [-1.46984856, 59.1146545 ]]), array([[70.21531586, -2.35081208],\n",
      "       [-2.35081208, 58.62801517]])]\n",
      "olr: [0.37581589742031224], w: [0.5398028923150159, 0.460197107684984], means: [[35.37951504852816, 33.4725318869077], [11.59945457926673, 13.939745311767362]], cov: [array([[ 77.25951905,  -4.42189794],\n",
      "       [ -4.42189794, 110.91830441]]), array([[ 53.10868705, -12.11508864],\n",
      "       [-12.11508864, 114.74413248]])]\n"
     ]
    },
    {
     "name": "stderr",
     "output_type": "stream",
     "text": [
      "100%|██████████| 5000/5000 [00:00<00:00, 23293.23it/s]\n",
      "100%|██████████| 5000/5000 [00:00<00:00, 23703.03it/s]\n",
      "100%|██████████| 5000/5000 [00:00<00:00, 23604.48it/s]\n",
      "100%|██████████| 5000/5000 [00:00<00:00, 23580.91it/s]\n",
      "100%|██████████| 5000/5000 [00:00<00:00, 23707.46it/s]\n",
      "100%|██████████| 5000/5000 [00:00<00:00, 23566.50it/s]\n"
     ]
    },
    {
     "name": "stdout",
     "output_type": "stream",
     "text": [
      "2024-01-16 22:50:34,005 - MultiprocessingDispatcher - 54 individuals out of 54 in previous population were evaluated successfully.\n",
      "2024-01-16 22:50:34,009 - EvoGraphOptimizer - Generation num: 6 size: 55\n",
      "2024-01-16 22:50:34,009 - EvoGraphOptimizer - Best individuals: HallOfFame archive fitness (1): ['<custom=0.000>']\n",
      "2024-01-16 22:50:34,010 - EvoGraphOptimizer - Next population size: 55; max graph depth: 100\n",
      "2024-01-16 22:50:34,024 - MultiprocessingDispatcher - Number of used CPU's: 6\n",
      "olr: [0.13222556196754395], w: [0.3824290153943726, 0.6175709846056275], means: [[9.31785295468185, 39.758703467419934], [33.95461119719258, 14.768048381388727]], cov: [array([[32.13778268,  1.23188893],\n",
      "       [ 1.23188893, 31.61807525]]), array([[82.97434046, -2.91565002],\n",
      "       [-2.91565002, 80.48733533]])]\n",
      "olr: [0.14677674047535252], w: [0.503855696029051, 0.49614430397094894], means: [[36.57356330730775, 36.62779218868634], [12.19685836378809, 11.889037575461902]], cov: [array([[62.16760957, -1.91099827],\n",
      "       [-1.91099827, 55.53210621]]), array([[56.31055508,  2.42623183],\n",
      "       [ 2.42623183, 54.43106106]])]\n",
      "olr: [0.11345399028598124], w: [0.2338383017306693, 0.7661616982693307], means: [[43.555476541771924, 43.54156168154959], [18.55282163871003, 18.46100528600577]], cov: [array([[12.05729   ,  0.46330077],\n",
      "       [ 0.46330077, 12.01968294]]), array([[120.34707691,   1.55982944],\n",
      "       [  1.55982944, 123.38922031]])]\n",
      "olr: [0.11328685627361852], w: [0.5012989110155014, 0.4987010889844987], means: [[12.290251294839344, 11.886781626761188], [36.82147646234828, 37.095105111351714]], cov: [array([[52.59682074,  2.36425669],\n",
      "       [ 2.36425669, 52.06863085]]), array([[53.77100408, -0.58274918],\n",
      "       [-0.58274918, 52.68663795]])]\n",
      "olr: [0.47223452459940163], w: [0.4583429112919448, 0.5416570887080552], means: [[11.47303693802209, 17.230690387918216], [36.205590690675905, 31.14707728513584]], cov: [array([[ 55.12503129,  -7.05314578],\n",
      "       [ -7.05314578, 153.09822276]]), array([[ 67.07253558,  -4.20909913],\n",
      "       [ -4.20909913, 154.62842713]])]\n",
      "olr: [0.25371805967647015], w: [0.5402334796654823, 0.4597665203345177], means: [[13.492088043692723, 35.19903096925099], [37.07995596503839, 11.93280670945056]], cov: [array([[80.89852722,  1.92494935],\n",
      "       [ 1.92494935, 82.58752263]]), array([[55.16604954,  8.7281225 ],\n",
      "       [ 8.7281225 , 65.17743258]])]\n"
     ]
    },
    {
     "name": "stderr",
     "output_type": "stream",
     "text": [
      "100%|██████████| 5000/5000 [00:00<00:00, 23724.70it/s]\n",
      "100%|██████████| 5000/5000 [00:00<00:00, 23558.16it/s]\n",
      "100%|██████████| 5000/5000 [00:00<00:00, 23780.47it/s]\n",
      "100%|██████████| 5000/5000 [00:00<00:00, 23831.49it/s]\n",
      "100%|██████████| 5000/5000 [00:00<00:00, 23891.44it/s]\n",
      "100%|██████████| 5000/5000 [00:00<00:00, 23723.36it/s]\n",
      "  0%|          | 0/5000 [00:00<?, ?it/s]"
     ]
    },
    {
     "name": "stdout",
     "output_type": "stream",
     "text": [
      "olr: [0.1571931940809207], w: [0.6052547407462344, 0.39474525925376563], means: [[14.311156843621204, 14.527363425944161], [38.9332211459329, 39.15498426788648]], cov: [array([[78.51947106, -0.96396205],\n",
      "       [-0.96396205, 79.86671965]]), array([[35.37015861,  2.10301809],\n",
      "       [ 2.10301809, 39.4794519 ]])]\n",
      "olr: [0.14367822243930456], w: [0.31658522951183626, 0.6834147704881637], means: [[41.78178536576423, 7.59553718885354], [17.134695350820014, 32.32146285047799]], cov: [array([[21.29651577, -1.15241962],\n",
      "       [-1.15241962, 23.64617095]]), array([[ 97.72216593,   0.65203821],\n",
      "       [  0.65203821, 103.33726385]])]\n",
      "olr: [0.19169054684739917], w: [0.4910479979738709, 0.5089520020261291], means: [[12.152064690773102, 36.38124260490239], [36.28938070548879, 13.188009141019927]], cov: [array([[54.70765148,  7.04856927],\n",
      "       [ 7.04856927, 75.00309916]]), array([[64.34812359,  4.3212694 ],\n",
      "       [ 4.3212694 , 70.84506603]])]\n",
      "olr: [0.1427070834841591], w: [0.6653380680913121, 0.33466193190868787], means: [[32.99767336468829, 32.531954843660515], [8.02299722802892, 8.138517570705703]], cov: [array([[94.98559868, -1.20287888],\n",
      "       [-1.20287888, 98.9751753 ]]), array([[24.1766132 , -0.09458971],\n",
      "       [-0.09458971, 27.38403542]])]\n",
      "olr: [1.0], w: [0.48727951207539827, 0.5127204879246017], means: [[19.689003249013723, 27.475775804380422], [29.133128976438016, 22.013197517880787]], cov: [array([[178.95781682, 161.64937545],\n",
      "       [161.64937545, 202.96205768]]), array([[185.53169924, 162.62658602],\n",
      "       [162.62658602, 196.78131253]])]\n",
      "olr: [0.5977181946463297], w: [0.5515478839124353, 0.4484521160875648], means: [[35.31263264567471, 26.98351947885787], [10.885871676760475, 21.27562026948483]], cov: [array([[ 73.40785493,  14.87930867],\n",
      "       [ 14.87930867, 190.91662696]]), array([[ 50.50794054,   4.19122939],\n",
      "       [  4.19122939, 205.31171929]])]\n"
     ]
    },
    {
     "name": "stderr",
     "output_type": "stream",
     "text": [
      "100%|██████████| 5000/5000 [00:00<00:00, 23577.10it/s]\n",
      "100%|██████████| 5000/5000 [00:00<00:00, 23682.02it/s]\n",
      "100%|██████████| 5000/5000 [00:00<00:00, 23725.02it/s]\n",
      "100%|██████████| 5000/5000 [00:00<00:00, 23656.70it/s]\n",
      "100%|██████████| 5000/5000 [00:00<00:00, 23577.81it/s]\n",
      "100%|██████████| 5000/5000 [00:00<00:00, 23595.08it/s]\n",
      "  0%|          | 0/5000 [00:00<?, ?it/s]"
     ]
    },
    {
     "name": "stdout",
     "output_type": "stream",
     "text": [
      "olr: [0.2607779683096465], w: [0.40755206708553915, 0.592447932914461], means: [[10.340067498046844, 11.15756318904168], [34.78429575404117, 33.728047560853845]], cov: [array([[47.58905358, -1.83450329],\n",
      "       [-1.83450329, 54.20164339]]), array([[84.48743153, -0.84379445],\n",
      "       [-0.84379445, 90.57594227]])]\n",
      "olr: [0.12619126546542983], w: [0.6974850041843391, 0.3025149958156609], means: [[32.45598377176652, 32.11385589202832], [7.46487960722008, 7.162841904517568]], cov: [array([[101.09564065,   2.23576076],\n",
      "       [  2.23576076,  98.08829586]]), array([[21.63491935,  0.39332062],\n",
      "       [ 0.39332062, 20.69601377]])]\n",
      "olr: [0.1348901138870177], w: [0.5667674377549782, 0.43323256224502177], means: [[13.801885700117177, 13.914835275181149], [38.58145038531117, 38.53663348338229]], cov: [array([[69.75474667, -0.51282674],\n",
      "       [-0.51282674, 74.47151931]]), array([[38.71097555, -1.29032985],\n",
      "       [-1.29032985, 43.51279592]])]\n",
      "olr: [0.13757093673025364], w: [0.4914275965520844, 0.5085724034479157], means: [[37.05637977184667, 37.09676848962937], [12.319725390765885, 12.538282018570854]], cov: [array([[52.91424426,  3.38058512],\n",
      "       [ 3.38058512, 56.46917499]]), array([[55.57075597, -1.08519531],\n",
      "       [-1.08519531, 57.57871701]])]\n",
      "olr: [0.2664838371022935], w: [0.5371970830618186, 0.46280291693818143], means: [[13.013806428362091, 13.633451504571047], [37.146311135824305, 36.156966620663816]], cov: [array([[67.21191201, -5.31823038],\n",
      "       [-5.31823038, 83.44784318]]), array([[56.73264282, -2.56366986],\n",
      "       [-2.56366986, 83.49322489]])]\n",
      "olr: [0.582846493871337], w: [0.48425494601103986, 0.5157450539889601], means: [[29.342079646712097, 36.95875834814675], [20.172278385150506, 12.77363383425511]], cov: [array([[166.04291021,  18.21310494],\n",
      "       [ 18.21310494,  58.28980475]]), array([[213.20554855,  54.23405064],\n",
      "       [ 54.23405064,  65.13684242]])]\n"
     ]
    },
    {
     "name": "stderr",
     "output_type": "stream",
     "text": [
      "\r",
      " 45%|████▍     | 2238/5000 [00:00<00:00, 22372.34it/s]\r",
      " 47%|████▋     | 2369/5000 [00:00<00:00, 23681.38it/s]\r",
      " 47%|████▋     | 2331/5000 [00:00<00:00, 23308.41it/s]\r",
      " 47%|████▋     | 2345/5000 [00:00<00:00, 23440.91it/s]\r",
      " 47%|████▋     | 2372/5000 [00:00<00:00, 23710.30it/s]\r",
      " 47%|████▋     | 2346/5000 [00:00<00:00, 23453.70it/s]\r",
      " 92%|█████████▏| 4605/5000 [00:00<00:00, 23130.84it/s]\r",
      "100%|██████████| 5000/5000 [00:00<00:00, 23025.89it/s]\n",
      "\r",
      " 95%|█████████▍| 4744/5000 [00:00<00:00, 23719.92it/s]\r",
      " 94%|█████████▍| 4723/5000 [00:00<00:00, 23663.09it/s]\r",
      " 94%|█████████▍| 4690/5000 [00:00<00:00, 23442.03it/s]\r",
      " 95%|█████████▍| 4744/5000 [00:00<00:00, 23653.20it/s]\r",
      " 95%|█████████▍| 4748/5000 [00:00<00:00, 23786.23it/s]\r",
      "100%|██████████| 5000/5000 [00:00<00:00, 23677.77it/s]\n",
      "\r",
      "100%|██████████| 5000/5000 [00:00<00:00, 23569.15it/s]\n",
      "\r",
      "100%|██████████| 5000/5000 [00:00<00:00, 23612.24it/s]\n",
      "\r",
      "100%|██████████| 5000/5000 [00:00<00:00, 23406.37it/s]\n",
      "\r",
      "100%|██████████| 5000/5000 [00:00<00:00, 23708.39it/s]\n"
     ]
    },
    {
     "name": "stdout",
     "output_type": "stream",
     "text": [
      "olr: [0.12690213115936738], w: [0.4130635294269179, 0.5869364705730821], means: [[9.493932191742726, 9.617932186622635], [34.56422266779695, 34.41800603305584]], cov: [array([[33.963439  ,  0.30382881],\n",
      "       [ 0.30382881, 34.9260021 ]]), array([[76.04584616,  1.8674205 ],\n",
      "       [ 1.8674205 , 73.91842555]])]\n",
      "olr: [0.10955447226048212], w: [0.5037364502650242, 0.4962635497349759], means: [[12.07679035593159, 12.116803982776371], [37.28518950341937, 36.67753592396533]], cov: [array([[55.33387992,  1.04648402],\n",
      "       [ 1.04648402, 52.2599548 ]]), array([[51.36826667, -1.04561496],\n",
      "       [-1.04561496, 54.42817649]])]\n",
      "olr: [0.11347900659884219], w: [0.4921262690725975, 0.5078737309274026], means: [[37.2621587361287, 11.882954367438462], [12.28555931058772, 36.60218056099812]], cov: [array([[53.33133868,  2.95640811],\n",
      "       [ 2.95640811, 56.87341167]]), array([[53.17410774,  0.48830741],\n",
      "       [ 0.48830741, 58.56534878]])]\n",
      "olr: [0.2415673960362779], w: [0.5086462651014837, 0.49135373489851625], means: [[12.910421181315604, 13.668492957092237], [37.1226698602466, 36.42543210037002]], cov: [array([[66.29375753, -0.86463668],\n",
      "       [-0.86463668, 74.23337141]]), array([[55.04859961, -2.97232562],\n",
      "       [-2.97232562, 76.43124674]])]\n",
      "olr: [0.26154578995495315], w: [0.53911689765308, 0.46088310234691987], means: [[13.40433102620928, 14.133121011072754], [37.105067543054794, 36.526823310790405]], cov: [array([[78.9250675 , -8.33127565],\n",
      "       [-8.33127565, 88.46943127]]), array([[51.77348834, -9.28932997],\n",
      "       [-9.28932997, 82.9797622 ]])]\n",
      "olr: [0.5933522161944309], w: [0.7469339391253484, 0.25306606087465144], means: [[30.210681548219736, 28.283246394182488], [6.991125642893091, 12.720328235301835]], cov: [array([[134.88376167,  36.64950509],\n",
      "       [ 36.64950509, 202.94972766]]), array([[23.59428894, -2.23448899],\n",
      "       [-2.23448899, 69.36811071]])]\n"
     ]
    },
    {
     "name": "stderr",
     "output_type": "stream",
     "text": [
      "100%|██████████| 5000/5000 [00:00<00:00, 23641.74it/s]\n",
      "100%|██████████| 5000/5000 [00:00<00:00, 23772.54it/s]\n",
      "100%|██████████| 5000/5000 [00:00<00:00, 23689.00it/s]\n",
      "100%|██████████| 5000/5000 [00:00<00:00, 23854.75it/s]\n",
      "100%|██████████| 5000/5000 [00:00<00:00, 23548.50it/s]\n",
      "100%|██████████| 5000/5000 [00:00<00:00, 23529.40it/s]\n",
      "  0%|          | 0/5000 [00:00<?, ?it/s]"
     ]
    },
    {
     "name": "stdout",
     "output_type": "stream",
     "text": [
      "olr: [0.19849361899405799], w: [0.7914204509766821, 0.2085795490233179], means: [[19.39332036130727, 19.555153676389402], [43.22537706086907, 43.688134820422235]], cov: [array([[143.13042328,   1.44242966],\n",
      "       [  1.44242966, 135.26196264]]), array([[13.68769479,  0.77906073],\n",
      "       [ 0.77906073, 14.7959596 ]])]\n",
      "olr: [0.2595275755104949], w: [0.4103377872569363, 0.5896622127430637], means: [[11.588977726068178, 10.237152640883409], [33.66504431574468, 34.51248697599002]], cov: [array([[51.11471253, -3.89884866],\n",
      "       [-3.89884866, 43.6687185 ]]), array([[120.42450946, -11.57136977],\n",
      "       [-11.57136977,  81.74539378]])]\n",
      "olr: [0.29210540514705313], w: [0.4493448044011447, 0.5506551955988553], means: [[36.971012643601604, 37.53843611494064], [14.019058780973122, 14.339824321133785]], cov: [array([[60.98679378, -7.14161154],\n",
      "       [-7.14161154, 59.77344955]]), array([[91.59540669, -4.7634638 ],\n",
      "       [-4.7634638 , 83.03571656]])]\n",
      "olr: [0.13485492948903072], w: [0.5090404154787133, 0.49095958452128663], means: [[12.127468422132099, 36.6642487164398], [36.6686566537787, 12.284138634444192]], cov: [array([[53.30376024,  0.27618794],\n",
      "       [ 0.27618794, 57.1308384 ]]), array([[51.13155771, -0.82096695],\n",
      "       [-0.82096695, 58.77176672]])]\n",
      "olr: [0.6245805407903904], w: [0.4896159873444753, 0.5103840126555247], means: [[24.950428350559594, 36.88486666633492], [24.067508158340086, 12.965491522085374]], cov: [array([[214.32298724,  30.19215837],\n",
      "       [ 30.19215837,  59.0129203 ]]), array([[204.12558664,   4.67358743],\n",
      "       [  4.67358743,  67.08250459]])]\n",
      "olr: [0.3156262964034897], w: [0.26675797434544785, 0.7332420256545521], means: [[7.56558716692519, 7.455827402936075], [30.616383823031622, 30.36827923910351]], cov: [array([[23.36100044,  0.3958209 ],\n",
      "       [ 0.3958209 , 32.43909884]]), array([[135.94505894,  -1.89972142],\n",
      "       [ -1.89972142, 130.11633453]])]\n"
     ]
    },
    {
     "name": "stderr",
     "output_type": "stream",
     "text": [
      "100%|██████████| 5000/5000 [00:00<00:00, 23418.76it/s]\n",
      "100%|██████████| 5000/5000 [00:00<00:00, 23638.54it/s]\n",
      "100%|██████████| 5000/5000 [00:00<00:00, 23443.76it/s]\n",
      "100%|██████████| 5000/5000 [00:00<00:00, 23595.11it/s]\n",
      "100%|██████████| 5000/5000 [00:00<00:00, 23726.50it/s]\n",
      "100%|██████████| 5000/5000 [00:00<00:00, 23705.69it/s]\n",
      "  0%|          | 0/5000 [00:00<?, ?it/s] 23324.68it/s]"
     ]
    },
    {
     "name": "stdout",
     "output_type": "stream",
     "text": [
      "olr: [0.14899333888922722], w: [0.4971372651068254, 0.5028627348931747], means: [[12.257391345149221, 36.43009228324631], [36.8768506842485, 12.13978115919546]], cov: [array([[59.37865817,  0.9009261 ],\n",
      "       [ 0.9009261 , 57.31826704]]), array([[52.20916851, -0.72055864],\n",
      "       [-0.72055864, 60.22873828]])]\n",
      "olr: [0.14856643459053506], w: [0.511163580617893, 0.48883641938210715], means: [[12.136827303569882, 36.481849252606466], [36.868152992665294, 11.951252150688934]], cov: [array([[57.24937468,  0.30425784],\n",
      "       [ 0.30425784, 57.79058245]]), array([[54.29128195, -1.10387154],\n",
      "       [-1.10387154, 60.93022226]])]\n",
      "olr: [0.1599325311030132], w: [0.5095436395316091, 0.4904563604683909], means: [[36.401408897824005, 36.829132520933705], [12.132157120853451, 12.16000087917273]], cov: [array([[53.45706972,  3.77322581],\n",
      "       [ 3.77322581, 59.60599721]]), array([[57.28172946,  0.57280001],\n",
      "       [ 0.57280001, 56.18350645]])]\n",
      "olr: [0.271651132540224], w: [0.6479601188622992, 0.3520398811377009], means: [[32.51827895198281, 33.22324378288884], [9.893345304571978, 8.867924279939796]], cov: [array([[113.88941605,  -0.62634646],\n",
      "       [ -0.62634646,  98.62051039]]), array([[47.30540115, -0.49929165],\n",
      "       [-0.49929165, 31.38460538]])]\n",
      "olr: [0.6464337115316205], w: [0.490205924007918, 0.509794075992082], means: [[11.874774262954265, 24.443195809593586], [36.035168267291496, 24.489889546393275]], cov: [array([[ 61.68470777,   5.63139863],\n",
      "       [  5.63139863, 206.47498484]]), array([[ 68.3827362 ,  10.15321975],\n",
      "       [ 10.15321975, 209.71037217]])]\n"
     ]
    },
    {
     "name": "stderr",
     "output_type": "stream",
     "text": [
      "\r",
      " 47%|████▋     | 2352/5000 [00:00<00:00, 23512.34it/s]\r",
      " 48%|████▊     | 2392/5000 [00:00<00:00, 23908.00it/s]\r",
      " 93%|█████████▎| 4670/5000 [00:00<00:00, 23346.08it/s]\r",
      "  0%|          | 0/5000 [00:00<?, ?it/s]\r",
      "100%|██████████| 5000/5000 [00:00<00:00, 23279.44it/s]\n",
      "\r",
      " 48%|████▊     | 2383/5000 [00:00<00:00, 23820.54it/s]\r",
      " 47%|████▋     | 2364/5000 [00:00<00:00, 23636.08it/s]\r",
      " 95%|█████████▍| 4726/5000 [00:00<00:00, 23642.77it/s]\r",
      " 96%|█████████▌| 4783/5000 [00:00<00:00, 23556.88it/s]\r",
      " 47%|████▋     | 2373/5000 [00:00<00:00, 23727.59it/s]\r",
      "100%|██████████| 5000/5000 [00:00<00:00, 23613.01it/s]\n",
      "\r",
      "100%|██████████| 5000/5000 [00:00<00:00, 23576.09it/s]\n",
      "\r",
      "  0%|          | 0/5000 [00:00<?, ?it/s]\r",
      " 96%|█████████▌| 4782/5000 [00:00<00:00, 23914.72it/s]\r",
      "100%|██████████| 5000/5000 [00:00<00:00, 23868.21it/s]\n",
      "\r",
      " 95%|█████████▍| 4728/5000 [00:00<00:00, 23480.67it/s]\r",
      "100%|██████████| 5000/5000 [00:00<00:00, 23517.69it/s]\n"
     ]
    },
    {
     "name": "stdout",
     "output_type": "stream",
     "text": [
      "olr: [0.1709928029777053], w: [0.21235500631708118, 0.7876449936829187], means: [[43.405263566565594, 43.849270002521564], [19.184626452676298, 19.09818269938854]], cov: [array([[14.65166827,  2.7528814 ],\n",
      "       [ 2.7528814 , 11.88740628]]), array([[134.23810087,  -0.51976856],\n",
      "       [ -0.51976856, 129.63399467]])]\n",
      "olr: [0.11338838013807369], w: [0.4850537159184275, 0.5149462840815725], means: [[37.18204520085398, 12.101304499268144], [12.063609354824996, 36.904465325084665]], cov: [array([[52.11273252, -1.18634566],\n",
      "       [-1.18634566, 56.94199568]]), array([[53.07759339,  2.17359986],\n",
      "       [ 2.17359986, 54.76829381]])]\n"
     ]
    },
    {
     "name": "stderr",
     "output_type": "stream",
     "text": [
      "\r",
      " 95%|█████████▍| 4746/5000 [00:00<00:00, 23549.98it/s]\r",
      "100%|██████████| 5000/5000 [00:00<00:00, 23522.33it/s]\n",
      "\r",
      " 46%|████▋     | 2322/5000 [00:00<00:00, 23210.78it/s]\r",
      "  0%|          | 0/5000 [00:00<?, ?it/s]\r",
      "  0%|          | 0/5000 [00:00<?, ?it/s]\r",
      " 93%|█████████▎| 4644/5000 [00:00<00:00, 23159.51it/s]\r",
      "100%|██████████| 5000/5000 [00:00<00:00, 23168.11it/s]\n",
      "\r",
      "  0%|          | 0/5000 [00:00<?, ?it/s]\r",
      "  0%|          | 0/5000 [00:00<?, ?it/s]\r",
      "  0%|          | 0/5000 [00:00<?, ?it/s]\r",
      " 47%|████▋     | 2350/5000 [00:00<00:00, 23495.82it/s]\r",
      " 47%|████▋     | 2363/5000 [00:00<00:00, 23624.00it/s]"
     ]
    },
    {
     "name": "stdout",
     "output_type": "stream",
     "text": [
      "olr: [0.26243499953918814], w: [0.18844688691222436, 0.8115531130877757], means: [[44.24250915546862, 40.84309308238186], [19.994547021978168, 20.79080960278931]], cov: [array([[ 9.87805965, -1.00159409],\n",
      "       [-1.00159409, 25.3961891 ]]), array([[142.50058349,  -2.40929214],\n",
      "       [ -2.40929214, 176.78843364]])]\n",
      "olr: [0.6449270641039099], w: [0.4747140462321937, 0.5252859537678063], means: [[28.5497653557437, 37.207353400547476], [20.161257488481223, 12.935329164804628]], cov: [array([[185.89862674,  20.77889682],\n",
      "       [ 20.77889682,  58.34402307]]), array([[190.31647739,  29.93114671],\n",
      "       [ 29.93114671,  72.94115317]])]\n",
      "olr: [0.15098795151290964], w: [0.55107372713835, 0.44892627286165004], means: [[35.745310625073806, 35.88292760379471], [11.188693444258545, 11.464379912394692]], cov: [array([[62.05226406, -0.91394834],\n",
      "       [-0.91394834, 69.02281869]]), array([[48.03160368,  1.40982681],\n",
      "       [ 1.40982681, 50.10459997]])]\n",
      "olr: [0.4922958127325855], w: [0.4768873727095829, 0.5231126272904171], means: [[36.768327929320314, 33.22807799951557], [13.265305276237525, 16.55618452087893]], cov: [array([[ 58.38769967,  -9.37018538],\n",
      "       [ -9.37018538, 129.25651675]]), array([[ 68.58181258,  -4.54003871],\n",
      "       [ -4.54003871, 148.92323595]])]\n",
      "olr: [0.5450238090615641], w: [0.2841386801655524, 0.7158613198344476], means: [[38.43403662810902, 40.68228462817983], [19.1319228733046, 18.030292993920497]], cov: [array([[49.39884466, -6.91756637],\n",
      "       [-6.91756637, 35.42299797]]), array([[171.60225463,  17.96491045],\n",
      "       [ 17.96491045, 134.51867464]])]\n"
     ]
    },
    {
     "name": "stderr",
     "output_type": "stream",
     "text": [
      "\r",
      " 48%|████▊     | 2392/5000 [00:00<00:00, 23917.80it/s]\r",
      " 47%|████▋     | 2371/5000 [00:00<00:00, 23700.70it/s]\r",
      " 48%|████▊     | 2378/5000 [00:00<00:00, 23772.14it/s]\r",
      " 95%|█████████▍| 4738/5000 [00:00<00:00, 23716.52it/s]\r",
      "100%|██████████| 5000/5000 [00:00<00:00, 23628.26it/s]\n",
      "\r",
      " 95%|█████████▍| 4726/5000 [00:00<00:00, 23535.10it/s]\r",
      "100%|██████████| 5000/5000 [00:00<00:00, 23523.41it/s]\n",
      "\r",
      "  0%|          | 0/5000 [00:00<?, ?it/s]\r",
      " 96%|█████████▌| 4795/5000 [00:00<00:00, 23982.16it/s]\r",
      " 95%|█████████▍| 4742/5000 [00:00<00:00, 23559.63it/s]\r",
      "100%|██████████| 5000/5000 [00:00<00:00, 23915.11it/s]\n",
      "\r",
      " 95%|█████████▌| 4756/5000 [00:00<00:00, 23718.67it/s]\r",
      "100%|██████████| 5000/5000 [00:00<00:00, 23586.51it/s]\n",
      "\r",
      "100%|██████████| 5000/5000 [00:00<00:00, 23682.29it/s]\n",
      "\r",
      " 47%|████▋     | 2349/5000 [00:00<00:00, 23489.29it/s]"
     ]
    },
    {
     "name": "stdout",
     "output_type": "stream",
     "text": [
      "olr: [0.5886044714396665], w: [0.4636484723395339, 0.5363515276604662], means: [[37.55268755628006, 28.18274349384888], [13.420216800134767, 20.899938668276295]], cov: [array([[ 54.12978022,  41.5142981 ],\n",
      "       [ 41.5142981 , 212.7338753 ]]), array([[ 72.55543916,   0.31710631],\n",
      "       [  0.31710631, 178.72426479]])]\n",
      "olr: [0.4957769334712446], w: [0.5672264228184783, 0.43277357718152165], means: [[29.00968691712159, 34.781427223849256], [17.904834009001835, 10.483670201962717]], cov: [array([[222.44685116,  85.60471294],\n",
      "       [ 85.60471294,  76.68824792]]), array([[118.6422147 ,   7.06285181],\n",
      "       [  7.06285181,  47.58367558]])]\n",
      "olr: [0.36856713774493793], w: [0.18753825911852656, 0.8124617408814734], means: [[17.753834874933013, 5.030457498788443], [26.028396970340903, 28.696485735823366]], cov: [array([[257.19426412,  44.4471016 ],\n",
      "       [ 44.4471016 ,  13.27506565]]), array([[183.80055801,   0.34765608],\n",
      "       [  0.34765608, 147.24746873]])]\n"
     ]
    },
    {
     "name": "stderr",
     "output_type": "stream",
     "text": [
      "\r",
      "  0%|          | 0/5000 [00:00<?, ?it/s]\r",
      "  0%|          | 0/5000 [00:00<?, ?it/s]\r",
      " 94%|█████████▍| 4698/5000 [00:00<00:00, 22068.01it/s]\r",
      "  0%|          | 0/5000 [00:00<?, ?it/s]\r",
      "  0%|          | 0/5000 [00:00<?, ?it/s]\r",
      "  0%|          | 0/5000 [00:00<?, ?it/s]\r",
      "100%|██████████| 5000/5000 [00:00<00:00, 22097.78it/s]\n",
      "\r",
      " 41%|████      | 2049/5000 [00:00<00:00, 20481.23it/s]\r",
      " 42%|████▏     | 2078/5000 [00:00<00:00, 20773.23it/s]\r",
      " 42%|████▏     | 2085/5000 [00:00<00:00, 20841.67it/s]\r",
      " 41%|████▏     | 2063/5000 [00:00<00:00, 20627.66it/s]\r",
      " 41%|████▏     | 2074/5000 [00:00<00:00, 20723.32it/s]\r",
      " 83%|████████▎ | 4148/5000 [00:00<00:00, 20778.92it/s]"
     ]
    },
    {
     "name": "stdout",
     "output_type": "stream",
     "text": [
      "olr: [0.3758422899303445], w: [0.480739735414014, 0.5192602645859861], means: [[36.87171012870177, 35.15024544291136], [13.017949358892935, 14.914448176025846]], cov: [array([[ 59.49181487,  -8.40828339],\n",
      "       [ -8.40828339, 116.25506917]]), array([[67.56285791, -3.40220059],\n",
      "       [-3.40220059, 97.09362974]])]\n",
      "olr: [0.15316359406118935], w: [0.32415752492527294, 0.675842475074727], means: [[7.913242214303325, 41.05971434075023], [32.80300337327269, 16.568631061440076]], cov: [array([[25.37068548, -1.16755581],\n",
      "       [-1.16755581, 26.29851915]]), array([[93.80798547, -1.85470397],\n",
      "       [-1.85470397, 97.7333627 ]])]\n",
      "olr: [0.15049511900606788], w: [0.310104956593267, 0.689895043406733], means: [[41.683482875730746, 7.7937758956765935], [16.86567466075489, 32.1012763837425]], cov: [array([[21.24654262, -0.65469817],\n",
      "       [-0.65469817, 23.84258892]]), array([[102.8876868 ,   2.3453365 ],\n",
      "       [  2.3453365 , 106.38215572]])]\n",
      "olr: [0.11349289540386434], w: [0.49767696497124425, 0.5023230350287556], means: [[36.94410390943631, 37.086013106344495], [12.078622857544506, 12.311491058730072]], cov: [array([[5.35264551e+01, 3.89862726e-02],\n",
      "       [3.89862726e-02, 5.47775939e+01]]), array([[51.71664672, -1.21740112],\n",
      "       [-1.21740112, 57.14966359]])]\n"
     ]
    },
    {
     "name": "stderr",
     "output_type": "stream",
     "text": [
      "\r",
      "  0%|          | 0/5000 [00:00<?, ?it/s]\r",
      "100%|██████████| 5000/5000 [00:00<00:00, 20839.65it/s]\n",
      "\r",
      " 83%|████████▎ | 4167/5000 [00:00<00:00, 20837.74it/s]\r",
      " 85%|████████▍ | 4227/5000 [00:00<00:00, 21176.39it/s]\r",
      " 84%|████████▍ | 4225/5000 [00:00<00:00, 21209.89it/s]\r",
      " 85%|████████▌ | 4273/5000 [00:00<00:00, 21467.71it/s]\r",
      "100%|██████████| 5000/5000 [00:00<00:00, 20932.25it/s]\n",
      "\r",
      "100%|██████████| 5000/5000 [00:00<00:00, 21364.61it/s]\n",
      "\r",
      "100%|██████████| 5000/5000 [00:00<00:00, 21403.40it/s]\n",
      "\r",
      "100%|██████████| 5000/5000 [00:00<00:00, 21589.16it/s]\n",
      "\r",
      " 45%|████▍     | 2249/5000 [00:00<00:00, 22486.00it/s]\r",
      "  0%|          | 0/5000 [00:00<?, ?it/s]\r",
      "  0%|          | 0/5000 [00:00<?, ?it/s]\r",
      " 91%|█████████ | 4546/5000 [00:00<00:00, 22767.73it/s]"
     ]
    },
    {
     "name": "stdout",
     "output_type": "stream",
     "text": [
      "olr: [0.3314923961959287], w: [0.5120411088705779, 0.48795889112942215], means: [[36.616816605939015, 34.23365768529474], [12.006102826048437, 13.977734768474367]], cov: [array([[ 60.48526333,  -4.01375766],\n",
      "       [ -4.01375766, 106.05334734]]), array([[ 59.07023676,  -2.24195065],\n",
      "       [ -2.24195065, 105.95727008]])]\n",
      "olr: [0.15666376420165162], w: [0.49908271711121743, 0.5009172828887826], means: [[12.634775856535947, 12.190134997484236], [36.68749784285068, 37.04227212224733]], cov: [array([[60.93719328,  2.76048827],\n",
      "       [ 2.76048827, 57.59692063]]), array([[61.44340965, -1.96870844],\n",
      "       [-1.96870844, 52.80231292]])]\n",
      "olr: [0.12193394821330551], w: [0.492668867826499, 0.507331132173501], means: [[12.272000412906017, 37.036576636956795], [36.769214951760105, 12.253992167732902]], cov: [array([[54.52121148,  3.24724943],\n",
      "       [ 3.24724943, 56.53390605]]), array([[61.05063897,  0.89608457],\n",
      "       [ 0.89608457, 53.73189975]])]\n",
      "olr: [0.1354223233145257], w: [0.6256663029785716, 0.37433369702142844], means: [[15.489732935800214, 33.69552736591024], [40.46816030848867, 8.649619288407893]], cov: [array([[85.33733939,  0.5910639 ],\n",
      "       [ 0.5910639 , 90.77256628]]), array([[29.55178719, -0.61058921],\n",
      "       [-0.61058921, 29.35717766]])]\n",
      "olr: [0.1909099767317287], w: [0.5146908272634675, 0.4853091727365324], means: [[36.06079725815502, 36.607074622464395], [12.281322427539894, 11.784806057999694]], cov: [array([[69.03239878,  2.04252807],\n",
      "       [ 2.04252807, 60.71447252]]), array([[59.87239842, -0.10826929],\n",
      "       [-0.10826929, 57.4039594 ]])]\n"
     ]
    },
    {
     "name": "stderr",
     "output_type": "stream",
     "text": [
      "\r",
      "100%|██████████| 5000/5000 [00:00<00:00, 22720.08it/s]\n",
      "\r",
      "  0%|          | 0/5000 [00:00<?, ?it/s]\r",
      "  0%|          | 0/5000 [00:00<?, ?it/s]\r",
      "  0%|          | 0/5000 [00:00<?, ?it/s]\r",
      " 47%|████▋     | 2327/5000 [00:00<00:00, 23268.69it/s]\r",
      " 46%|████▌     | 2282/5000 [00:00<00:00, 22811.86it/s]\r",
      " 46%|████▌     | 2286/5000 [00:00<00:00, 22857.68it/s]\r",
      " 46%|████▋     | 2313/5000 [00:00<00:00, 23119.66it/s]\r",
      " 45%|████▌     | 2257/5000 [00:00<00:00, 22568.19it/s]\r",
      " 93%|█████████▎| 4654/5000 [00:00<00:00, 23162.57it/s]\r",
      " 92%|█████████▏| 4589/5000 [00:00<00:00, 22962.22it/s]\r",
      "100%|██████████| 5000/5000 [00:00<00:00, 23152.05it/s]\n",
      "\r",
      "100%|██████████| 5000/5000 [00:00<00:00, 22976.70it/s]\n"
     ]
    },
    {
     "name": "stdout",
     "output_type": "stream",
     "text": [
      "2024-01-16 22:50:37,442 - MultiprocessingDispatcher - 54 individuals out of 54 in previous population were evaluated successfully.\n",
      "2024-01-16 22:50:37,446 - EvoGraphOptimizer - Generation num: 7 size: 55\n",
      "2024-01-16 22:50:37,446 - EvoGraphOptimizer - Best individuals: HallOfFame archive fitness (1): ['<custom=0.000>']\n",
      "2024-01-16 22:50:37,447 - EvoGraphOptimizer - Next population size: 55; max graph depth: 100\n",
      "2024-01-16 22:50:37,461 - MultiprocessingDispatcher - Number of used CPU's: 6\n"
     ]
    },
    {
     "name": "stderr",
     "output_type": "stream",
     "text": [
      "\r",
      " 92%|█████████▏| 4624/5000 [00:00<00:00, 23160.74it/s]\r",
      " 94%|█████████▎| 4676/5000 [00:00<00:00, 23419.00it/s]\r",
      "100%|██████████| 5000/5000 [00:00<00:00, 23359.70it/s]\n",
      "\r",
      "100%|██████████| 5000/5000 [00:00<00:00, 23106.44it/s]\n",
      "\r",
      " 92%|█████████▏| 4613/5000 [00:00<00:00, 23151.21it/s]\r",
      "100%|██████████| 5000/5000 [00:00<00:00, 23050.64it/s]\n"
     ]
    },
    {
     "name": "stdout",
     "output_type": "stream",
     "text": [
      "olr: [0.23935059683019375], w: [0.561058032454529, 0.43894196754547105], means: [[34.32468223114952, 35.657123681263364], [12.404512954665854, 10.991622358148716]], cov: [array([[100.53288772,  -5.95778811],\n",
      "       [ -5.95778811,  71.78146184]]), array([[76.1264017 , -6.82055371],\n",
      "       [-6.82055371, 47.35716795]])]\n",
      "olr: [0.19129372017418633], w: [0.5063023558542694, 0.4936976441457305], means: [[12.69165776101159, 12.509942326036615], [36.87273778144714, 36.710296157250504]], cov: [array([[61.95656582,  0.91715973],\n",
      "       [ 0.91715973, 62.89899472]]), array([[58.42131192,  0.56231553],\n",
      "       [ 0.56231553, 63.24128569]])]\n",
      "olr: [0.4222814858122262], w: [0.5931508772860626, 0.40684912271393736], means: [[14.827568645683902, 17.330585175216292], [39.11330702556823, 35.40120254742844]], cov: [array([[ 83.28006539,  -3.20500062],\n",
      "       [ -3.20500062, 155.01944836]]), array([[42.71130452, -5.97697933],\n",
      "       [-5.97697933, 97.95132493]])]\n",
      "olr: [0.31456923304601864], w: [0.6924625003631755, 0.30753749963682464], means: [[17.20369899458997, 17.725254104393535], [40.594996036105485, 40.230951470665595]], cov: [array([[116.16883366,  -5.50764074],\n",
      "       [ -5.50764074, 129.09725134]]), array([[34.04023685,  0.34958662],\n",
      "       [ 0.34958662, 30.2701814 ]])]\n",
      "olr: [0.13346202092645465], w: [0.48967829822735803, 0.5103217017726419], means: [[37.02183250517331, 11.971605292863101], [12.654786263598119, 36.63133397660129]], cov: [array([[55.75369679,  1.0554368 ],\n",
      "       [ 1.0554368 , 51.42367128]]), array([[58.02792949, -0.31179311],\n",
      "       [-0.31179311, 57.35331081]])]\n",
      "olr: [0.2504840629902875], w: [0.46207246355262294, 0.537927536447377], means: [[11.971223398693267, 12.13257326752561], [35.716385592219076, 35.32013271995864]], cov: [array([[53.64106088, -2.95842377],\n",
      "       [-2.95842377, 64.87347805]]), array([[76.29113417,  0.97705473],\n",
      "       [ 0.97705473, 72.83333643]])]\n"
     ]
    },
    {
     "name": "stderr",
     "output_type": "stream",
     "text": [
      "100%|██████████| 5000/5000 [00:00<00:00, 23434.43it/s]\n",
      "100%|██████████| 5000/5000 [00:00<00:00, 23714.16it/s]\n",
      "100%|██████████| 5000/5000 [00:00<00:00, 23315.65it/s]\n",
      "100%|██████████| 5000/5000 [00:00<00:00, 23660.35it/s]\n",
      "100%|██████████| 5000/5000 [00:00<00:00, 23832.03it/s]\n",
      "100%|██████████| 5000/5000 [00:00<00:00, 23746.51it/s]\n",
      "  0%|          | 0/5000 [00:00<?, ?it/s]"
     ]
    },
    {
     "name": "stdout",
     "output_type": "stream",
     "text": [
      "olr: [0.22610830238739585], w: [0.5194337988221982, 0.48056620117780185], means: [[36.53360167007046, 35.61574158683645], [11.86269963615086, 12.907649423694734]], cov: [array([[59.30455346, -1.42491512],\n",
      "       [-1.42491512, 85.20086003]]), array([[52.30036689,  0.21453889],\n",
      "       [ 0.21453889, 69.20788804]])]\n",
      "olr: [0.21681314239353044], w: [0.5012591439058288, 0.49874085609417107], means: [[36.036300342841, 36.750809085273985], [12.995676735555783, 12.52819139182214]], cov: [array([[71.21004409, -4.67776223],\n",
      "       [-4.67776223, 61.92563424]]), array([[71.60782285, -3.00466327],\n",
      "       [-3.00466327, 63.04804883]])]\n",
      "olr: [0.2511954981620858], w: [0.482727973164772, 0.517272026835228], means: [[37.21579651171606, 36.77746200725989], [13.453064575640356, 13.445324599596836]], cov: [array([[55.54876177, -4.10848212],\n",
      "       [-4.10848212, 68.61694257]]), array([[79.82120942, -4.86845053],\n",
      "       [-4.86845053, 75.07248491]])]\n",
      "olr: [0.6375153506026576], w: [0.41846038908984023, 0.5815396109101598], means: [[10.321860036655014, 22.13374479954202], [34.08694792415922, 26.020763255464797]], cov: [array([[ 45.63168706,  -0.76181703],\n",
      "       [ -0.76181703, 186.83265206]]), array([[ 82.19410609,  11.82735917],\n",
      "       [ 11.82735917, 213.08947214]])]\n",
      "olr: [0.7370206054891579], w: [0.4612334288333436, 0.5387665711666564], means: [[11.629868236698911, 21.565436301389916], [35.83020370864101, 27.409087090251056]], cov: [array([[ 59.03165386,   4.29646559],\n",
      "       [  4.29646559, 255.45814184]]), array([[ 70.43501059,   7.48138103],\n",
      "       [  7.48138103, 151.22673752]])]\n",
      "olr: [0.5757737374945938], w: [0.5311865731085819, 0.46881342689141803], means: [[19.857382118719883, 13.254506831164205], [29.96421270311254, 37.607250404526184]], cov: [array([[160.83710715,   7.05882632],\n",
      "       [  7.05882632,  73.62209067]]), array([[205.25071731,  48.41346556],\n",
      "       [ 48.41346556,  53.12973658]])]\n"
     ]
    },
    {
     "name": "stderr",
     "output_type": "stream",
     "text": [
      "100%|██████████| 5000/5000 [00:00<00:00, 23530.30it/s]\n",
      "100%|██████████| 5000/5000 [00:00<00:00, 23451.28it/s]\n",
      "100%|██████████| 5000/5000 [00:00<00:00, 23824.21it/s]\n",
      "100%|██████████| 5000/5000 [00:00<00:00, 23689.91it/s]\n",
      "100%|██████████| 5000/5000 [00:00<00:00, 23769.74it/s]\n",
      "100%|██████████| 5000/5000 [00:00<00:00, 23652.51it/s]\n",
      "  0%|          | 0/5000 [00:00<?, ?it/s] 23188.20it/s]"
     ]
    },
    {
     "name": "stdout",
     "output_type": "stream",
     "text": [
      "olr: [0.20764410997301516], w: [0.49482690286548603, 0.505173097134514], means: [[37.00948299035899, 36.29731151530467], [12.620450675998976, 13.399196827648295]], cov: [array([[55.58067231, -5.31126579],\n",
      "       [-5.31126579, 78.08215499]]), array([[60.97956633, -4.50637382],\n",
      "       [-4.50637382, 78.26140899]])]\n",
      "olr: [0.19128116966635678], w: [0.5585021451428479, 0.44149785485715204], means: [[13.22696106076036, 14.008149188369618], [37.68152821314879, 37.284028558056086]], cov: [array([[63.93861713, -1.92169276],\n",
      "       [-1.92169276, 92.76102089]]), array([[52.6359718 , -5.67055574],\n",
      "       [-5.67055574, 52.16524545]])]\n",
      "olr: [0.17713851048510176], w: [0.5161744675759559, 0.4838255324240442], means: [[12.498348908494759, 12.857087664650328], [36.94445664540318, 36.960223100522484]], cov: [array([[64.67193154,  0.75631592],\n",
      "       [ 0.75631592, 63.81315358]]), array([[54.30763756, -3.49615961],\n",
      "       [-3.49615961, 67.47851562]])]\n",
      "olr: [0.43657528434577236], w: [0.4876860062455511, 0.512313993754449], means: [[36.44270901293333, 32.85115782405996], [12.486874968673936, 16.676394055979706]], cov: [array([[ 62.73030451, -12.25816687],\n",
      "       [-12.25816687, 134.16622408]]), array([[ 63.91002543, -11.23132792],\n",
      "       [-11.23132792, 144.97742219]])]\n",
      "olr: [0.4749391750423182], w: [0.4034036685936513, 0.5965963314063488], means: [[34.6215886545852, 38.42238542948242], [17.150497892067925, 14.809123517070235]], cov: [array([[109.18223869,  -7.70993096],\n",
      "       [ -7.70993096,  45.17051298]]), array([[158.43695903,  -2.19165433],\n",
      "       [ -2.19165433,  84.5894861 ]])]\n",
      "olr: [0.5041182223151454], w: [0.47552252678916185, 0.524477473210838], means: [[12.017109274566543, 32.48247928886908], [36.087334156004914, 17.55585290596245]], cov: [array([[ 60.3177551 ,   3.8756979 ],\n",
      "       [  3.8756979 , 146.04803405]]), array([[ 65.62789838,   4.85439093],\n",
      "       [  4.85439093, 162.98977236]])]\n"
     ]
    },
    {
     "name": "stderr",
     "output_type": "stream",
     "text": [
      "\r",
      " 46%|████▋     | 2314/5000 [00:00<00:00, 23135.89it/s]\r",
      " 47%|████▋     | 2350/5000 [00:00<00:00, 23492.07it/s]\r",
      " 47%|████▋     | 2373/5000 [00:00<00:00, 23720.07it/s]\r",
      " 48%|████▊     | 2392/5000 [00:00<00:00, 23918.83it/s]\r",
      " 94%|█████████▍| 4700/5000 [00:00<00:00, 23553.27it/s]\r",
      " 47%|████▋     | 2348/5000 [00:00<00:00, 23475.66it/s]\r",
      "100%|██████████| 5000/5000 [00:00<00:00, 23462.56it/s]\n",
      "\r",
      " 93%|█████████▎| 4662/5000 [00:00<00:00, 23334.67it/s]\r",
      "100%|██████████| 5000/5000 [00:00<00:00, 23349.69it/s]\n",
      "\r",
      " 94%|█████████▍| 4707/5000 [00:00<00:00, 23536.53it/s]\r",
      "100%|██████████| 5000/5000 [00:00<00:00, 23514.60it/s]\n",
      "\r",
      " 95%|█████████▌| 4762/5000 [00:00<00:00, 23815.55it/s]\r",
      " 96%|█████████▌| 4784/5000 [00:00<00:00, 23833.76it/s]\r",
      "100%|██████████| 5000/5000 [00:00<00:00, 23763.30it/s]\n",
      "\r",
      "100%|██████████| 5000/5000 [00:00<00:00, 23807.22it/s]\n",
      "\r",
      " 95%|█████████▍| 4726/5000 [00:00<00:00, 23652.16it/s]\r",
      "100%|██████████| 5000/5000 [00:00<00:00, 23573.46it/s]\n"
     ]
    },
    {
     "name": "stdout",
     "output_type": "stream",
     "text": [
      "olr: [0.15620337482844612], w: [0.6862001949002844, 0.3137998050997157], means: [[32.284626187570744, 32.02731703329981], [7.313845262194519, 7.566125826184015]], cov: [array([[ 99.56999626,   2.01473317],\n",
      "       [  2.01473317, 105.45553529]]), array([[21.51276245,  1.33425975],\n",
      "       [ 1.33425975, 24.02658354]])]\n",
      "olr: [0.08942895360840827], w: [0.8656927548874662, 0.13430724511253384], means: [[20.797224742639536, 27.945129366821256], [45.939392274488284, 3.1443126720079557]], cov: [array([[159.52958695,   3.52330339],\n",
      "       [  3.52330339, 156.34811042]]), array([[ 3.9676064 , -0.18453737],\n",
      "       [-0.18453737,  4.11633582]])]\n",
      "olr: [0.16541080984497705], w: [0.5089588361524503, 0.4910411638475498], means: [[12.47456597960838, 12.826481934214897], [36.86851683809586, 36.880917560821985]], cov: [array([[60.56805798, -1.10923331],\n",
      "       [-1.10923331, 61.86671809]]), array([[58.2107887 ,  0.84527529],\n",
      "       [ 0.84527529, 52.73317522]])]\n",
      "olr: [0.13000198986740058], w: [0.4867964287653426, 0.5132035712346573], means: [[36.95495762353216, 11.88132029067924], [12.325437620148023, 36.52276945070164]], cov: [array([[56.28709798,  0.25481632],\n",
      "       [ 0.25481632, 53.43815942]]), array([[59.40694496,  0.73223742],\n",
      "       [ 0.73223742, 54.53303022]])]\n",
      "olr: [0.29443318316162], w: [0.31355531068149767, 0.6864446893185022], means: [[39.89609815512305, 41.02411386791998], [17.49269348986025, 16.99287854101088]], cov: [array([[32.17774668, -2.62986119],\n",
      "       [-2.62986119, 30.3417352 ]]), array([[135.65222994,   5.69377449],\n",
      "       [  5.69377449, 107.28145085]])]\n",
      "olr: [0.35745167898981783], w: [0.5915489629022844, 0.40845103709771563], means: [[33.67334441304677, 33.44835045375844], [11.15768506157695, 10.377407799978325]], cov: [array([[ 99.52283782,   0.36710019],\n",
      "       [  0.36710019, 110.90363113]]), array([[59.12140255, -6.3022622 ],\n",
      "       [-6.3022622 , 44.43177082]])]\n"
     ]
    },
    {
     "name": "stderr",
     "output_type": "stream",
     "text": [
      "100%|██████████| 5000/5000 [00:00<00:00, 22207.57it/s]\n",
      "100%|██████████| 5000/5000 [00:00<00:00, 21938.07it/s]\n",
      "100%|██████████| 5000/5000 [00:00<00:00, 22319.82it/s]\n",
      "100%|██████████| 5000/5000 [00:00<00:00, 22431.28it/s]\n",
      "100%|██████████| 5000/5000 [00:00<00:00, 22479.73it/s]\n",
      "100%|██████████| 5000/5000 [00:00<00:00, 23739.07it/s]\n",
      "  0%|          | 0/5000 [00:00<?, ?it/s]"
     ]
    },
    {
     "name": "stdout",
     "output_type": "stream",
     "text": [
      "olr: [0.13092747312600553], w: [0.318499402205775, 0.6815005977942251], means: [[41.3608707127306, 41.81817993446076], [16.911485390604078, 16.779639998193456]], cov: [array([[20.60777389,  1.13691082],\n",
      "       [ 1.13691082, 20.57568909]]), array([[103.58022122,  -2.82309257],\n",
      "       [ -2.82309257,  99.53034008]])]\n",
      "olr: [0.17441249851266644], w: [0.576979266863923, 0.42302073313607713], means: [[13.834860891620448, 14.415743531517673], [39.03159068157812, 38.343309429868825]], cov: [array([[74.01580525, -3.65957545],\n",
      "       [-3.65957545, 89.0831803 ]]), array([[39.12272581,  1.30179147],\n",
      "       [ 1.30179147, 45.59121428]])]\n",
      "olr: [0.5371276464814093], w: [0.2859985817068099, 0.7140014182931902], means: [[37.218186317579054, 7.764149380988518], [19.21487989795409, 31.52775850598351]], cov: [array([[52.62782987,  3.37392209],\n",
      "       [ 3.37392209, 30.08459372]]), array([[186.19648833, -28.9744557 ],\n",
      "       [-28.9744557 , 123.42438345]])]\n",
      "olr: [0.6264550506669608], w: [0.44089131744633325, 0.5591086825536666], means: [[23.350636855297527, 11.204054324336301], [25.44461818886431, 35.13740770126101]], cov: [array([[182.76889998,   1.28559723],\n",
      "       [  1.28559723,  50.22320617]]), array([[226.95739678,  40.20159723],\n",
      "       [ 40.20159723,  78.50364348]])]\n",
      "olr: [0.2522551713766794], w: [0.6869157803037405, 0.3130842196962596], means: [[16.796608060698773, 17.525912065876792], [41.33566642254995, 39.616734595460045]], cov: [array([[102.42820856,  -0.57511668],\n",
      "       [ -0.57511668, 135.74392269]]), array([[23.76879627, -1.44921398],\n",
      "       [-1.44921398, 37.65046371]])]\n",
      "olr: [0.2934073817977725], w: [0.7588557126777865, 0.24114428732221346], means: [[19.095850575562174, 18.44410975668528], [41.17205019676452, 42.72704139209395]], cov: [array([[147.04516089,   7.43030966],\n",
      "       [  7.43030966, 129.71685904]]), array([[22.32970983, -0.12440418],\n",
      "       [-0.12440418, 21.32218379]])]\n"
     ]
    },
    {
     "name": "stderr",
     "output_type": "stream",
     "text": [
      "100%|██████████| 5000/5000 [00:00<00:00, 23254.48it/s]\n",
      "100%|██████████| 5000/5000 [00:00<00:00, 23074.61it/s]\n",
      "100%|██████████| 5000/5000 [00:00<00:00, 23487.66it/s]\n",
      "100%|██████████| 5000/5000 [00:00<00:00, 23596.51it/s]\n",
      "100%|██████████| 5000/5000 [00:00<00:00, 23330.80it/s]\n",
      "100%|██████████| 5000/5000 [00:00<00:00, 23402.53it/s]\n",
      "  0%|          | 0/5000 [00:00<?, ?it/s] 23272.48it/s]"
     ]
    },
    {
     "name": "stdout",
     "output_type": "stream",
     "text": [
      "olr: [0.37709075700656364], w: [0.37657971118106504, 0.623420288818935], means: [[38.12954605798739, 39.17465573446382], [16.33887562003353, 15.857712100815492]], cov: [array([[46.48023795, -3.17838776],\n",
      "       [-3.17838776, 43.55260667]]), array([[125.9565672 ,  -1.94331067],\n",
      "       [ -1.94331067, 102.98268074]])]\n",
      "olr: [0.47672053778471574], w: [0.26705527717089494, 0.7329447228291052], means: [[37.17206722831749, 41.30273644782657], [19.761112717232276, 17.98401142603302]], cov: [array([[55.72465631, -4.24349802],\n",
      "       [-4.24349802, 28.07312636]]), array([[181.30995932,  -7.09980459],\n",
      "       [ -7.09980459, 127.10049924]])]\n",
      "olr: [0.16415320654436322], w: [0.27656542740413154, 0.7234345725958685], means: [[42.640808718201804, 42.49162616919539], [17.948860897537482, 18.174532632911383]], cov: [array([[16.34323593,  0.32628286],\n",
      "       [ 0.32628286, 18.50574056]]), array([[117.46778164,   3.49635957],\n",
      "       [  3.49635957, 118.98294706]])]\n",
      "olr: [0.3851758570423151], w: [0.5979065890881086, 0.40209341091189144], means: [[15.597850396660395, 15.133383545528144], [37.47871032765642, 38.380758908563074]], cov: [array([[120.00992712,   3.44190852],\n",
      "       [  3.44190852,  94.0276166 ]]), array([[51.67459743, -6.35020133],\n",
      "       [-6.35020133, 53.32266535]])]\n",
      "olr: [0.5729663822337735], w: [0.5424273463073722, 0.4575726536926278], means: [[13.25579282307466, 32.38783628378779], [37.21397102375327, 15.388052269131581]], cov: [array([[ 71.07381162,  13.53078856],\n",
      "       [ 13.53078856, 146.93181433]]), array([[ 59.03102386, -37.49371511],\n",
      "       [-37.49371511, 118.03914957]])]\n",
      "olr: [0.3610628914391637], w: [0.6121060499708533, 0.38789395002914673], means: [[14.92266023586291, 16.983290195158876], [39.295661576633364, 36.35948774677427]], cov: [array([[ 81.54367578,  -3.97705615],\n",
      "       [ -3.97705615, 153.35242209]]), array([[36.47605746, -0.99392226],\n",
      "       [-0.99392226, 55.57498655]])]\n"
     ]
    },
    {
     "name": "stderr",
     "output_type": "stream",
     "text": [
      "\r",
      "  0%|          | 0/5000 [00:00<?, ?it/s]\r",
      "  0%|          | 0/5000 [00:00<?, ?it/s]\r",
      " 95%|█████████▍| 4746/5000 [00:00<00:00, 23474.47it/s]\r",
      "100%|██████████| 5000/5000 [00:00<00:00, 23445.36it/s]\n",
      "\r",
      " 93%|█████████▎| 4656/5000 [00:00<00:00, 23219.38it/s]\r",
      "100%|██████████| 5000/5000 [00:00<00:00, 23179.92it/s]\n",
      "\r",
      " 47%|████▋     | 2350/5000 [00:00<00:00, 23486.70it/s]\r",
      " 47%|████▋     | 2361/5000 [00:00<00:00, 23607.66it/s]\r",
      " 47%|████▋     | 2356/5000 [00:00<00:00, 23552.05it/s]\r",
      " 47%|████▋     | 2367/5000 [00:00<00:00, 23666.64it/s]\r",
      " 94%|█████████▍| 4699/5000 [00:00<00:00, 23392.61it/s]\r",
      "100%|██████████| 5000/5000 [00:00<00:00, 23391.62it/s]\n",
      "\r",
      " 94%|█████████▍| 4722/5000 [00:00<00:00, 23578.03it/s]\r",
      "  0%|          | 0/5000 [00:00<?, ?it/s]\r",
      "100%|██████████| 5000/5000 [00:00<00:00, 23539.09it/s]\n",
      "\r",
      " 94%|█████████▍| 4712/5000 [00:00<00:00, 23465.92it/s]"
     ]
    },
    {
     "name": "stdout",
     "output_type": "stream",
     "text": [
      "olr: [0.13459417780726599], w: [0.5837914277895284, 0.41620857221047153], means: [[35.03841783181267, 14.091314388334325], [9.968252226150616, 38.806532426812936]], cov: [array([[72.44196682,  1.42440473],\n",
      "       [ 1.42440473, 73.27164889]]), array([[38.29588882, -1.46977086],\n",
      "       [-1.46977086, 41.94430324]])]\n",
      "olr: [0.6126908652739612], w: [0.4312151770989989, 0.568784822901001], means: [[27.731253935839558, 38.18420465345503], [21.4293031953863, 13.832984128947894]], cov: [array([[183.82825024,   7.16135074],\n",
      "       [  7.16135074,  51.22258638]]), array([[205.27090643,  47.79587888],\n",
      "       [ 47.79587888,  76.27220979]])]\n",
      "olr: [0.24956868494261125], w: [0.545828960205514, 0.45417103979448603], means: [[13.72230511745037, 13.719304714194733], [37.10181184987972, 37.279801417479185]], cov: [array([[90.2689807 , -6.69231103],\n",
      "       [-6.69231103, 76.59734099]]), array([[53.57377541, -4.91535954],\n",
      "       [-4.91535954, 62.3318837 ]])]\n",
      "olr: [0.7143663677034895], w: [0.5187998916205272, 0.48120010837947286], means: [[12.647941786701079, 22.99931199171523], [37.021706482634436, 25.836152600255264]], cov: [array([[ 65.66660087,   1.51662692],\n",
      "       [  1.51662692, 302.50152021]]), array([[ 54.98588749,   2.74035237],\n",
      "       [  2.74035237, 111.4405088 ]])]\n"
     ]
    },
    {
     "name": "stderr",
     "output_type": "stream",
     "text": [
      "\r",
      " 95%|█████████▍| 4734/5000 [00:00<00:00, 23550.43it/s]\r",
      "  0%|          | 0/5000 [00:00<?, ?it/s]\r",
      "100%|██████████| 5000/5000 [00:00<00:00, 23438.62it/s]\n",
      "\r",
      "100%|██████████| 5000/5000 [00:00<00:00, 23511.28it/s]\n",
      "\r",
      " 47%|████▋     | 2343/5000 [00:00<00:00, 23421.42it/s]\r",
      " 47%|████▋     | 2372/5000 [00:00<00:00, 23712.96it/s]\r",
      "  0%|          | 0/5000 [00:00<?, ?it/s]\r",
      "  0%|          | 0/5000 [00:00<?, ?it/s]\r",
      " 94%|█████████▍| 4705/5000 [00:00<00:00, 23532.39it/s]\r",
      "  0%|          | 0/5000 [00:00<?, ?it/s]\r",
      "100%|██████████| 5000/5000 [00:00<00:00, 23455.45it/s]\n",
      "\r",
      "  0%|          | 0/5000 [00:00<?, ?it/s]"
     ]
    },
    {
     "name": "stdout",
     "output_type": "stream",
     "text": [
      "olr: [0.23376889624247654], w: [0.5269266866586177, 0.47307331334138214], means: [[13.195425680769606, 13.552175756109904], [36.91473937440223, 36.84882752884908]], cov: [array([[77.12104215, -5.85393411],\n",
      "       [-5.85393411, 79.65039576]]), array([[55.95312593, -9.06537636],\n",
      "       [-9.06537636, 73.18175228]])]\n",
      "olr: [0.6037688633742275], w: [0.4984519736606784, 0.5015480263393216], means: [[24.943253955324135, 37.065105052149896], [24.077027926093983, 12.752169078397324]], cov: [array([[219.03299346,  14.52051572],\n",
      "       [ 14.52051572,  59.795892  ]]), array([[195.4718281 ,   5.56672802],\n",
      "       [  5.56672802,  64.67472614]])]\n",
      "olr: [0.5598458633463709], w: [0.688973042533199, 0.3110269574668011], means: [[17.253807725109056, 20.287620286360916], [40.700625114464366, 33.33658474492305]], cov: [array([[116.85140351,  -2.09854177],\n",
      "       [ -2.09854177, 180.34464133]]), array([[ 31.93614742,  44.68315158],\n",
      "       [ 44.68315158, 145.3454599 ]])]\n"
     ]
    },
    {
     "name": "stderr",
     "output_type": "stream",
     "text": [
      "\r",
      " 95%|█████████▍| 4744/5000 [00:00<00:00, 23404.96it/s]\r",
      "100%|██████████| 5000/5000 [00:00<00:00, 23416.51it/s]\n",
      "\r",
      " 47%|████▋     | 2370/5000 [00:00<00:00, 23695.11it/s]\r",
      " 47%|████▋     | 2341/5000 [00:00<00:00, 23405.00it/s]\r",
      " 48%|████▊     | 2384/5000 [00:00<00:00, 23832.12it/s]\r",
      " 47%|████▋     | 2369/5000 [00:00<00:00, 23682.00it/s]\r",
      " 95%|█████████▌| 4755/5000 [00:00<00:00, 23783.66it/s]\r",
      "100%|██████████| 5000/5000 [00:00<00:00, 23742.54it/s]\n",
      "\r",
      " 94%|█████████▍| 4716/5000 [00:00<00:00, 23605.09it/s]\r",
      "  0%|          | 0/5000 [00:00<?, ?it/s]\r",
      "100%|██████████| 5000/5000 [00:00<00:00, 23532.02it/s]\n",
      "\r",
      " 95%|█████████▌| 4768/5000 [00:00<00:00, 23745.90it/s]\r",
      " 95%|█████████▍| 4738/5000 [00:00<00:00, 23684.20it/s]\r",
      "  0%|          | 0/5000 [00:00<?, ?it/s]\r",
      "100%|██████████| 5000/5000 [00:00<00:00, 23700.19it/s]\n",
      "\r",
      "100%|██████████| 5000/5000 [00:00<00:00, 23642.48it/s]\n"
     ]
    },
    {
     "name": "stdout",
     "output_type": "stream",
     "text": [
      "olr: [0.43117094515615073], w: [0.8188088088140762, 0.18119119118592378], means: [[20.42287386949369, 20.974830125882765], [42.680722631954126, 40.87298218570188]], cov: [array([[160.5488048 ,   2.98129837],\n",
      "       [  2.98129837, 172.89819041]]), array([[17.34247685, -2.33761665],\n",
      "       [-2.33761665, 40.3855205 ]])]\n",
      "olr: [0.11532510009794773], w: [0.49818422283576536, 0.5018157771642346], means: [[36.96832144153589, 37.18966116775988], [12.106764652633322, 12.044853567120738]], cov: [array([[54.10443098,  1.46868385],\n",
      "       [ 1.46868385, 52.94008586]]), array([[53.95955244, -0.58036313],\n",
      "       [-0.58036313, 55.71467949]])]\n",
      "olr: [0.17045743938291721], w: [0.6027388151290752, 0.39726118487092477], means: [[34.47488689016147, 34.04365511273653], [9.807773002995797, 10.147902206947634]], cov: [array([[78.81141684, -1.39041849],\n",
      "       [-1.39041849, 78.13724059]]), array([[37.7765637 ,  2.76747699],\n",
      "       [ 2.76747699, 37.67105916]])]\n",
      "olr: [0.24216826512925585], w: [0.36149267729643525, 0.6385073227035647], means: [[9.387751816775406, 9.357575000370618], [33.35622898070873, 33.344183227164365]], cov: [array([[43.16261352, -0.17754035],\n",
      "       [-0.17754035, 31.59955297]]), array([[99.93026418,  2.26358355],\n",
      "       [ 2.26358355, 99.73929038]])]\n",
      "olr: [0.21043238883187534], w: [0.47725394285336586, 0.5227460571466342], means: [[37.53742994160783, 36.43082668090318], [12.654162504625313, 13.380195277435364]], cov: [array([[52.60041903, -4.5758988 ],\n",
      "       [-4.5758988 , 79.3111062 ]]), array([[61.1636497 ,  1.19811055],\n",
      "       [ 1.19811055, 80.25072178]])]\n"
     ]
    },
    {
     "name": "stderr",
     "output_type": "stream",
     "text": [
      "100%|██████████| 5000/5000 [00:00<00:00, 23398.48it/s]\n",
      "100%|██████████| 5000/5000 [00:00<00:00, 23397.96it/s]\n",
      "100%|██████████| 5000/5000 [00:00<00:00, 23737.83it/s]\n",
      "100%|██████████| 5000/5000 [00:00<00:00, 23515.05it/s]\n",
      "100%|██████████| 5000/5000 [00:00<00:00, 23623.04it/s]\n",
      "100%|██████████| 5000/5000 [00:00<00:00, 23610.65it/s]\n",
      "  0%|          | 0/5000 [00:00<?, ?it/s] 23906.32it/s]"
     ]
    },
    {
     "name": "stdout",
     "output_type": "stream",
     "text": [
      "olr: [0.26828619251783337], w: [0.49187184933167927, 0.5081281506683207], means: [[13.481363796255742, 12.401812375306177], [35.57389338545361, 36.56104781335014]], cov: [array([[85.93008989, -3.66785876],\n",
      "       [-3.66785876, 58.57001048]]), array([[79.8191477 , -1.86491775],\n",
      "       [-1.86491775, 61.45387665]])]\n",
      "olr: [0.5941094299603924], w: [0.7144238691918366, 0.28557613080816335], means: [[18.03522084826791, 22.375999599564004], [41.7710251416789, 29.605596816226722]], cov: [array([[121.78179382,  -8.45694595],\n",
      "       [ -8.45694595, 174.30099211]]), array([[ 22.82816017,   5.7191935 ],\n",
      "       [  5.7191935 , 252.54361333]])]\n",
      "olr: [0.21890688077270112], w: [0.3115704797555499, 0.6884295202444501], means: [[40.60115904309497, 41.66262806441007], [17.708824272937203, 17.237138497316348]], cov: [array([[33.69425596,  2.05171851],\n",
      "       [ 2.05171851, 22.64936433]]), array([[119.7322795 ,  -6.65506734],\n",
      "       [ -6.65506734, 102.44208747]])]\n",
      "olr: [0.3572161737720511], w: [0.5676961540402292, 0.43230384595977084], means: [[14.771716848027742, 14.416626307678602], [36.98175092870005, 37.43694820702957]], cov: [array([[103.63539337,  -5.49917047],\n",
      "       [ -5.49917047,  88.02031872]]), array([[62.11214279, -6.22496054],\n",
      "       [-6.22496054, 63.1117466 ]])]\n",
      "olr: [0.6014306223388106], w: [0.5172586976147382, 0.48274130238526186], means: [[26.527529387603703, 36.338561358203165], [22.16177618357863, 12.191546589410438]], cov: [array([[180.9810516 ,  11.33357075],\n",
      "       [ 11.33357075,  65.11452369]]), array([[212.8931239 ,  33.59207043],\n",
      "       [ 33.59207043,  57.85457261]])]\n",
      "olr: [0.6483782348157414], w: [0.4932006453235938, 0.506799354676406], means: [[21.32038488433746, 12.206182203899738], [27.726500215197568, 36.22755808720847]], cov: [array([[167.80058121,  12.95992697],\n",
      "       [ 12.95992697,  58.05027811]]), array([[224.69419871,  36.55286897],\n",
      "       [ 36.55286897,  65.66477411]])]\n"
     ]
    },
    {
     "name": "stderr",
     "output_type": "stream",
     "text": [
      "\r",
      "  0%|          | 0/5000 [00:00<?, ?it/s]\r",
      "  0%|          | 0/5000 [00:00<?, ?it/s]\r",
      " 94%|█████████▎| 4684/5000 [00:00<00:00, 23274.82it/s]\r",
      "100%|██████████| 5000/5000 [00:00<00:00, 23254.17it/s]\n",
      "\r",
      " 96%|█████████▌| 4782/5000 [00:00<00:00, 23591.78it/s]\r",
      "100%|██████████| 5000/5000 [00:00<00:00, 23657.36it/s]\n",
      "\r",
      " 47%|████▋     | 2354/5000 [00:00<00:00, 23536.99it/s]\r",
      " 47%|████▋     | 2362/5000 [00:00<00:00, 23614.05it/s]\r",
      " 48%|████▊     | 2375/5000 [00:00<00:00, 23739.72it/s]\r",
      " 48%|████▊     | 2378/5000 [00:00<00:00, 23770.67it/s]\r",
      " 95%|█████████▌| 4774/5000 [00:00<00:00, 23922.16it/s]\r",
      " 96%|█████████▌| 4791/5000 [00:00<00:00, 24009.89it/s]\r",
      "100%|██████████| 5000/5000 [00:00<00:00, 23832.52it/s]\n",
      "\r",
      "100%|██████████| 5000/5000 [00:00<00:00, 23937.00it/s]\n",
      "\r",
      " 95%|█████████▍| 4749/5000 [00:00<00:00, 23550.68it/s]"
     ]
    },
    {
     "name": "stdout",
     "output_type": "stream",
     "text": [
      "2024-01-16 22:50:40,963 - MultiprocessingDispatcher - 54 individuals out of 54 in previous population were evaluated successfully.\n",
      "2024-01-16 22:50:40,967 - EvoGraphOptimizer - Generation num: 8 size: 55\n",
      "2024-01-16 22:50:40,967 - EvoGraphOptimizer - Best individuals: HallOfFame archive fitness (1): ['<custom=0.000>']\n",
      "2024-01-16 22:50:40,968 - EvoGraphOptimizer - Next population size: 55; max graph depth: 100\n",
      "2024-01-16 22:50:40,981 - MultiprocessingDispatcher - Number of used CPU's: 6\n"
     ]
    },
    {
     "name": "stderr",
     "output_type": "stream",
     "text": [
      "\r",
      "100%|██████████| 5000/5000 [00:00<00:00, 23557.15it/s]\n",
      "\r",
      " 95%|█████████▌| 4756/5000 [00:00<00:00, 23735.60it/s]\r",
      "100%|██████████| 5000/5000 [00:00<00:00, 23735.60it/s]\n"
     ]
    },
    {
     "name": "stdout",
     "output_type": "stream",
     "text": [
      "olr: [0.6237899797582026], w: [0.4452463305733479, 0.554753669426652], means: [[37.64298739828201, 18.666014202322064], [13.405946456888618, 29.1005297660687]], cov: [array([[ 53.72060251, -45.67989213],\n",
      "       [-45.67989213, 214.27129096]]), array([[ 71.66730483, -10.77681736],\n",
      "       [-10.77681736, 149.92865179]])]\n",
      "olr: [0.3560017297404475], w: [0.13757774720012186, 0.862422252799878], means: [[32.90161612914003, 44.70613752771961], [23.05746368342377, 21.115213868609573]], cov: [array([[228.02180993,  36.59424274],\n",
      "       [ 36.59424274,   9.96452055]]), array([[194.35517461,  -3.46043993],\n",
      "       [ -3.46043993, 166.77721532]])]\n",
      "olr: [0.27178472056316766], w: [0.3098599695349945, 0.6901400304650054], means: [[41.2946506868094, 40.34449336337281], [17.289014213807516, 17.557967920446494]], cov: [array([[24.2752231 , -2.63152668],\n",
      "       [-2.63152668, 40.77454143]]), array([[113.60588267,   3.76470478],\n",
      "       [  3.76470478, 125.40989494]])]\n",
      "olr: [0.309188146711204], w: [0.19449988983040278, 0.8055001101695972], means: [[5.950401869632644, 6.8072783256807], [28.925442961148892, 28.78830781379757]], cov: [array([[15.61386925, -3.71821705],\n",
      "       [-3.71821705, 32.67553322]]), array([[154.75299208,   1.69001327],\n",
      "       [  1.69001327, 158.45836835]])]\n",
      "olr: [0.24796415474664907], w: [0.509569571130207, 0.490430428869793], means: [[36.71974716551568, 13.401409541472367], [12.010539799565345, 35.66876861153325]], cov: [array([[59.75363909,  3.22275238],\n",
      "       [ 3.22275238, 89.57088888]]), array([[56.65374552,  1.10286823],\n",
      "       [ 1.10286823, 78.00882915]])]\n",
      "olr: [0.33014369010478956], w: [0.4950073966177431, 0.5049926033822567], means: [[36.58867115322192, 34.63140453299349], [12.49431596518823, 14.115451500011888]], cov: [array([[ 59.45943341, -10.07493382],\n",
      "       [-10.07493382, 111.64432895]]), array([[ 61.86647799,  -2.39908832],\n",
      "       [ -2.39908832, 102.75318751]])]\n"
     ]
    },
    {
     "name": "stderr",
     "output_type": "stream",
     "text": [
      "100%|██████████| 5000/5000 [00:00<00:00, 24293.15it/s]\n",
      "100%|██████████| 5000/5000 [00:00<00:00, 23684.86it/s]\n",
      "100%|██████████| 5000/5000 [00:00<00:00, 23878.08it/s]\n",
      "100%|██████████| 5000/5000 [00:00<00:00, 23467.53it/s]\n",
      "100%|██████████| 5000/5000 [00:00<00:00, 23675.34it/s]\n",
      "100%|██████████| 5000/5000 [00:00<00:00, 23763.09it/s]\n",
      "  0%|          | 0/5000 [00:00<?, ?it/s]"
     ]
    },
    {
     "name": "stdout",
     "output_type": "stream",
     "text": [
      "olr: [0.27522624940152557], w: [0.7611979702534089, 0.2388020297465911], means: [[19.25311446992453, 18.67182477100851], [41.414088292849094, 42.671517047800315]], cov: [array([[146.12593983,  -6.0325115 ],\n",
      "       [ -6.0325115 , 125.52181906]]), array([[21.93276383,  2.81013182],\n",
      "       [ 2.81013182, 19.20404418]])]\n",
      "olr: [0.37320311001583606], w: [0.183067220046529, 0.816932779953471], means: [[11.419349051072933, 5.346927936706758], [27.04370794833006, 28.964136765555654]], cov: [array([[60.24996359, -1.63940192],\n",
      "       [-1.63940192, 14.97437122]]), array([[197.9194111 , -33.32808955],\n",
      "       [-33.32808955, 150.92993897]])]\n",
      "olr: [0.38866370900084074], w: [0.5303226081205907, 0.4696773918794092], means: [[12.924425389409787, 15.21537150584232], [36.93106229707937, 34.053894813835484]], cov: [array([[63.99796465, -7.37467503],\n",
      "       [-7.37467503, 98.44214117]]), array([[ 57.65949402, -17.46279922],\n",
      "       [-17.46279922, 152.93881682]])]\n",
      "olr: [0.4938818453202093], w: [0.2915855009726824, 0.7084144990273177], means: [[11.58385064955867, 40.60123818204377], [29.953815364156437, 18.008196673125376]], cov: [array([[126.8729585 ,   4.78456451],\n",
      "       [  4.78456451,  32.38521152]]), array([[143.25316963,  21.13980401],\n",
      "       [ 21.13980401, 126.85336714]])]\n",
      "olr: [0.5606660266029405], w: [0.37005629246428595, 0.629943707535714], means: [[18.010379728926402, 8.662591854330575], [27.845258936323553, 32.90731080773581]], cov: [array([[129.0392342 ,  -4.75247892],\n",
      "       [ -4.75247892,  37.76776195]]), array([[217.13001728, -25.99276488],\n",
      "       [-25.99276488, 100.73020121]])]\n",
      "olr: [0.45347093396380517], w: [0.44886308397134983, 0.5511369160286501], means: [[34.05834107368616, 37.611157096152326], [16.775628200228375, 13.66763832183317]], cov: [array([[113.72679628,  -8.42010733],\n",
      "       [ -8.42010733,  53.16274551]]), array([[152.58562622,  -9.62326903],\n",
      "       [ -9.62326903,  75.62713876]])]\n"
     ]
    },
    {
     "name": "stderr",
     "output_type": "stream",
     "text": [
      "100%|██████████| 5000/5000 [00:00<00:00, 23756.49it/s]\n",
      "100%|██████████| 5000/5000 [00:00<00:00, 23768.77it/s]\n",
      "100%|██████████| 5000/5000 [00:00<00:00, 23461.15it/s]\n",
      "100%|██████████| 5000/5000 [00:00<00:00, 23873.57it/s]\n",
      "100%|██████████| 5000/5000 [00:00<00:00, 23900.07it/s]\n",
      "100%|██████████| 5000/5000 [00:00<00:00, 23880.47it/s]\n",
      "  0%|          | 0/5000 [00:00<?, ?it/s]"
     ]
    },
    {
     "name": "stdout",
     "output_type": "stream",
     "text": [
      "olr: [0.2121881971738931], w: [0.48702870161187056, 0.5129712983881294], means: [[36.95265611119021, 36.38711418195335], [12.213150897025033, 13.203528239967333]], cov: [array([[56.46026424, -1.27828155],\n",
      "       [-1.27828155, 76.61302827]]), array([[58.23286099, -1.11065518],\n",
      "       [-1.11065518, 73.07776524]])]\n",
      "olr: [0.2624385092679608], w: [0.229164930128788, 0.770835069871212], means: [[5.73868148931351, 9.114947337587553], [30.352141945720025, 29.386537556002395]], cov: [array([[15.08152768, -1.47188663],\n",
      "       [-1.47188663, 33.01811594]]), array([[124.87538421,  -7.47604321],\n",
      "       [ -7.47604321, 171.27283829]])]\n",
      "olr: [0.3565906720618375], w: [0.47592955842026696, 0.524070441579733], means: [[35.44379875141304, 36.74865685605983], [14.800011403282172, 12.915874342300034]], cov: [array([[119.4838194 , -14.76843463],\n",
      "       [-14.76843463,  61.65651466]]), array([[82.06820271, -4.83514507],\n",
      "       [-4.83514507, 71.62754641]])]\n",
      "olr: [0.4262968695138909], w: [0.20529007886090953, 0.7947099211390904], means: [[8.033437944076974, 6.491290057126536], [28.313746050488806, 28.77024929988482]], cov: [array([[29.8298715 , -3.18240875],\n",
      "       [-3.18240875, 22.16923773]]), array([[168.76385871,   5.46968896],\n",
      "       [  5.46968896, 150.29854577]])]\n",
      "olr: [0.5606309145641178], w: [0.7545487140649945, 0.2454512859350056], means: [[18.279426950190345, 22.30232669554888], [42.633640565483944, 31.153261398031407]], cov: [array([[127.58213295, -10.35485357],\n",
      "       [-10.35485357, 171.47771343]]), array([[ 19.1839396 ,  -4.30310915],\n",
      "       [ -4.30310915, 261.92528369]])]\n",
      "olr: [0.4706096600981096], w: [0.486794723717953, 0.513205276282047], means: [[12.23149251107689, 16.633720307142674], [36.602846561710706, 32.38585705722256]], cov: [array([[ 60.12992627,  -5.43122315],\n",
      "       [ -5.43122315, 153.46502702]]), array([[ 64.71873921,  -7.09705193],\n",
      "       [ -7.09705193, 140.71681787]])]\n"
     ]
    },
    {
     "name": "stderr",
     "output_type": "stream",
     "text": [
      "\r",
      " 46%|████▋     | 2322/5000 [00:00<00:00, 23207.13it/s]\r",
      " 46%|████▋     | 2320/5000 [00:00<00:00, 23196.10it/s]\r",
      " 48%|████▊     | 2379/5000 [00:00<00:00, 23786.73it/s]\r",
      " 47%|████▋     | 2333/5000 [00:00<00:00, 23327.24it/s]\r",
      " 48%|████▊     | 2402/5000 [00:00<00:00, 24018.13it/s]\r",
      " 48%|████▊     | 2380/5000 [00:00<00:00, 23789.59it/s]\r",
      " 93%|█████████▎| 4668/5000 [00:00<00:00, 23353.89it/s]\r",
      " 94%|█████████▍| 4693/5000 [00:00<00:00, 23507.58it/s]\r",
      "100%|██████████| 5000/5000 [00:00<00:00, 23484.00it/s]\n",
      "\r",
      "100%|██████████| 5000/5000 [00:00<00:00, 23340.07it/s]\n",
      "\r",
      " 95%|█████████▌| 4758/5000 [00:00<00:00, 23773.23it/s]\r",
      " 94%|█████████▍| 4715/5000 [00:00<00:00, 23614.02it/s]\r",
      "100%|██████████| 5000/5000 [00:00<00:00, 23765.38it/s]\n",
      "\r",
      "100%|██████████| 5000/5000 [00:00<00:00, 23568.03it/s]\n",
      "\r",
      " 96%|█████████▌| 4804/5000 [00:00<00:00, 23883.96it/s]\r",
      " 95%|█████████▌| 4759/5000 [00:00<00:00, 23720.33it/s]\r",
      "100%|██████████| 5000/5000 [00:00<00:00, 23882.10it/s]\n",
      "\r",
      "100%|██████████| 5000/5000 [00:00<00:00, 23708.18it/s]\n"
     ]
    },
    {
     "name": "stdout",
     "output_type": "stream",
     "text": [
      "olr: [0.3987542432563818], w: [0.4951065422709198, 0.5048934577290802], means: [[36.89802760754707, 34.53484192013465], [12.75307698295726, 15.123931023773942]], cov: [array([[ 58.45825184,  -5.82478862],\n",
      "       [ -5.82478862, 101.29444997]]), array([[ 64.35976067,  -3.53356139],\n",
      "       [ -3.53356139, 130.08025304]])]\n",
      "olr: [0.4755523102040091], w: [0.7603124259884549, 0.2396875740115451], means: [[19.034592536203284, 23.677350848886054], [42.77970108956794, 27.505872852574893]], cov: [array([[134.53646419,  -0.786607  ],\n",
      "       [ -0.786607  , 190.92378003]]), array([[ 18.32806483,  37.11220173],\n",
      "       [ 37.11220173, 257.38043735]])]\n",
      "olr: [0.4711635973673873], w: [0.7735289098012365, 0.22647109019876355], means: [[19.274729855473286, 20.589803564550813], [42.2104173198996, 37.82112625577932]], cov: [array([[145.50810461,  -7.78729881],\n",
      "       [ -7.78729881, 181.14604199]]), array([[21.18857275, -3.92537851],\n",
      "       [-3.92537851, 67.72380733]])]\n",
      "olr: [0.43004496909550954], w: [0.4701413818595849, 0.529858618140415], means: [[37.387076112615524, 32.983692850872856], [12.7158229423004, 17.1687328521432]], cov: [array([[ 54.21469764, -10.65590246],\n",
      "       [-10.65590246, 129.58582242]]), array([[ 67.35098034,  -4.58504125],\n",
      "       [ -4.58504125, 157.37532346]])]\n",
      "olr: [0.6402350729465642], w: [0.5740894918097998, 0.42591050819020015], means: [[14.106455968850907, 20.410351630532848], [37.98739770557604, 29.77064749739813]], cov: [array([[ 78.56971801,  60.23819149],\n",
      "       [ 60.23819149, 235.21965397]]), array([[ 51.50227861,   1.21184469],\n",
      "       [  1.21184469, 126.82245522]])]\n",
      "olr: [0.6273623456266285], w: [0.4517265641506231, 0.5482734358493768], means: [[25.281525214411186, 37.844810266977326], [23.743742861149734, 13.493073717323895]], cov: [array([[228.70735829,   7.22555624],\n",
      "       [  7.22555624,  51.53742215]]), array([[187.99038326,   3.92443834],\n",
      "       [  3.92443834,  73.55027966]])]\n"
     ]
    },
    {
     "name": "stderr",
     "output_type": "stream",
     "text": [
      "100%|██████████| 5000/5000 [00:00<00:00, 23428.83it/s]\n",
      "100%|██████████| 5000/5000 [00:00<00:00, 23334.20it/s]\n",
      "100%|██████████| 5000/5000 [00:00<00:00, 23807.98it/s]\n",
      "100%|██████████| 5000/5000 [00:00<00:00, 23516.10it/s]\n",
      "100%|██████████| 5000/5000 [00:00<00:00, 23405.53it/s]\n",
      "100%|██████████| 5000/5000 [00:00<00:00, 23694.81it/s]\n",
      "  0%|          | 0/5000 [00:00<?, ?it/s]"
     ]
    },
    {
     "name": "stdout",
     "output_type": "stream",
     "text": [
      "olr: [0.1280932182858713], w: [0.489029198930144, 0.5109708010698559], means: [[36.96879517335447, 12.042639923812885], [12.312601224549809, 36.71677012810121]], cov: [array([[51.93749937, -3.89826898],\n",
      "       [-3.89826898, 51.86924005]]), array([[55.35383324,  2.13495905],\n",
      "       [ 2.13495905, 57.1717744 ]])]\n",
      "olr: [0.5929289428475661], w: [0.5828965018106526, 0.41710349818934755], means: [[24.446336283933668, 34.32880656089912], [25.218479690700534, 10.150619121384853]], cov: [array([[210.96443133,  10.10213378],\n",
      "       [ 10.10213378,  84.01532479]]), array([[209.69226691,   7.87089677],\n",
      "       [  7.87089677,  43.04544366]])]\n",
      "olr: [0.16890947660396008], w: [0.5250667171454594, 0.4749332828545405], means: [[36.2989413029183, 35.79879603425496], [11.602964570307321, 12.029571088795818]], cov: [array([[63.66283028, -5.19393043],\n",
      "       [-5.19393043, 78.9501999 ]]), array([[56.21814734, -3.70274773],\n",
      "       [-3.70274773, 52.81238908]])]\n",
      "olr: [0.39334388229645856], w: [0.2171729426843405, 0.7828270573156595], means: [[40.2299925161475, 42.733631703979576], [20.18904941187585, 19.656207980370347]], cov: [array([[44.92027489, -3.91172806],\n",
      "       [-3.91172806, 18.55797049]]), array([[169.91359924,   3.6716967 ],\n",
      "       [  3.6716967 , 146.35710029]])]\n",
      "olr: [0.6234825901598712], w: [0.43585549663170015, 0.5641445033682998], means: [[37.91773340309733, 24.75831876005467], [13.930734819752228, 23.74170199496982]], cov: [array([[ 51.54977813,  33.73774096],\n",
      "       [ 33.73774096, 225.70691816]]), array([[ 75.15455333,  11.10265176],\n",
      "       [ 11.10265176, 188.21724293]])]\n",
      "olr: [0.28389029957333384], w: [0.14312796355085758, 0.8568720364491424], means: [[6.676295041731687, 44.53775243670251], [27.596694116199814, 21.199900825192397]], cov: [array([[18.58781335, -0.69506032],\n",
      "       [-0.69506032, 12.33516674]]), array([[174.32223414,  16.45405508],\n",
      "       [ 16.45405508, 160.679148  ]])]\n"
     ]
    },
    {
     "name": "stderr",
     "output_type": "stream",
     "text": [
      "100%|██████████| 5000/5000 [00:00<00:00, 23002.88it/s]\n",
      "100%|██████████| 5000/5000 [00:00<00:00, 23349.56it/s]\n",
      "100%|██████████| 5000/5000 [00:00<00:00, 23327.32it/s]\n",
      "100%|██████████| 5000/5000 [00:00<00:00, 23844.47it/s]\n",
      "100%|██████████| 5000/5000 [00:00<00:00, 23599.65it/s]\n",
      "100%|██████████| 5000/5000 [00:00<00:00, 23610.09it/s]\n",
      "  0%|          | 0/5000 [00:00<?, ?it/s] 23315.07it/s]"
     ]
    },
    {
     "name": "stdout",
     "output_type": "stream",
     "text": [
      "olr: [0.21191699276292192], w: [0.4764029093768489, 0.5235970906231512], means: [[36.246494495447635, 11.969666807003902], [13.21066272431828, 36.39060691913881]], cov: [array([[72.35183456,  5.16781435],\n",
      "       [ 5.16781435, 51.97529793]]), array([[78.02495966, -2.34870112],\n",
      "       [-2.34870112, 61.26385474]])]\n",
      "olr: [0.11062131471574448], w: [0.652709147287078, 0.34729085271292215], means: [[15.474078674250734, 16.171793749959086], [40.5179900177457, 40.584202495573535]], cov: [array([[87.25903712, -2.00348589],\n",
      "       [-2.00348589, 88.09218389]]), array([[26.30045069, -1.91456943],\n",
      "       [-1.91456943, 27.30584612]])]\n",
      "olr: [0.6161776972076861], w: [0.3464764031719838, 0.6535235968280162], means: [[23.641315693620804, 8.886409629075084], [25.285761757382488, 32.96815732313212]], cov: [array([[224.52840153,   3.24758673],\n",
      "       [  3.24758673,  34.0515945 ]]), array([[207.13993751,  11.98061159],\n",
      "       [ 11.98061159, 104.04410579]])]\n",
      "olr: [0.25662067065769534], w: [0.49572584452334506, 0.504274155476655], means: [[12.144016086955466, 13.135159298852145], [36.50335272881356, 35.53496023743261]], cov: [array([[58.5648294 , -5.53127825],\n",
      "       [-5.53127825, 87.57884208]]), array([[59.75798476, -0.24193893],\n",
      "       [-0.24193893, 84.63711874]])]\n",
      "olr: [0.3951237901973242], w: [0.507001699086774, 0.4929983009132261], means: [[12.612856650215287, 14.913975406957967], [36.773879776908075, 34.443910044068836]], cov: [array([[ 63.7032749 ,  -3.74386788],\n",
      "       [ -3.74386788, 101.17307759]]), array([[ 59.46147065,  -2.07859124],\n",
      "       [ -2.07859124, 123.91728054]])]\n",
      "olr: [0.36879199607524055], w: [0.585894443969929, 0.4141055560300711], means: [[15.297126965078672, 15.364269611829416], [37.885746940614716, 38.10274836695823]], cov: [array([[108.69213882,  -0.53885376],\n",
      "       [ -0.53885376, 102.71006888]]), array([[51.62765712, -8.76565074],\n",
      "       [-8.76565074, 57.49149581]])]\n"
     ]
    },
    {
     "name": "stderr",
     "output_type": "stream",
     "text": [
      "100%|██████████| 5000/5000 [00:00<00:00, 23224.15it/s]\n",
      "100%|██████████| 5000/5000 [00:00<00:00, 23668.31it/s]\n",
      "100%|██████████| 5000/5000 [00:00<00:00, 23444.70it/s]\n",
      "100%|██████████| 5000/5000 [00:00<00:00, 23306.71it/s]\n",
      "100%|██████████| 5000/5000 [00:00<00:00, 23431.21it/s]\n",
      "100%|██████████| 5000/5000 [00:00<00:00, 23850.62it/s]\n",
      "  0%|          | 0/5000 [00:00<?, ?it/s] 23635.29it/s]"
     ]
    },
    {
     "name": "stdout",
     "output_type": "stream",
     "text": [
      "olr: [0.06387723396878178], w: [0.9249457745431441, 0.07505422545685587], means: [[26.85337315588219, 26.20806921951646], [1.3521686036825025, 1.435723516139136]], cov: [array([[176.84450333,  -3.12497202],\n",
      "       [ -3.12497202, 177.21023442]]), array([[ 1.13549658, -0.00328249],\n",
      "       [-0.00328249,  1.14188371]])]\n",
      "olr: [0.28750547070655835], w: [0.4910653413277396, 0.5089346586722604], means: [[36.69523100263462, 13.923974839712544], [12.306577584892533, 35.061511804384175]], cov: [array([[60.14859033,  4.85395761],\n",
      "       [ 4.85395761, 88.74264668]]), array([[ 58.1487247 ,   6.04824195],\n",
      "       [  6.04824195, 107.92148271]])]\n",
      "olr: [0.5923900186132441], w: [0.19504805773294479, 0.8049519422670551], means: [[7.939287883351065, 8.98036495650109], [28.429346047813294, 28.32392352925993]], cov: [array([[30.19282801, -4.07908194],\n",
      "       [-4.07908194, 42.09772807]]), array([[166.79076599,   9.72776616],\n",
      "       [  9.72776616, 170.7290788 ]])]\n",
      "olr: [0.6043462721351943], w: [0.3289127482585926, 0.6710872517414073], means: [[27.34922863704055, 40.52500709056436], [23.170593698343847, 16.787397637803092]], cov: [array([[201.45935611,  -8.96233764],\n",
      "       [ -8.96233764,  31.86732489]]), array([[206.51811616,  25.45369462],\n",
      "       [ 25.45369462, 107.50114   ]])]\n",
      "olr: [0.3504280315509891], w: [0.4090651402792159, 0.5909348597207842], means: [[11.140009979515948, 10.79206105138966], [33.93438367215718, 34.06795808530193]], cov: [array([[62.7634413 , -0.46203702],\n",
      "       [-0.46203702, 46.75218413]]), array([[99.56936556, -0.15842889],\n",
      "       [-0.15842889, 94.75028953]])]\n",
      "olr: [0.47100785442919657], w: [0.5828926215422218, 0.4171073784577783], means: [[17.191280488659466, 14.170554719514177], [34.59092356899672, 38.09831480227198]], cov: [array([[157.29946435,  -3.59995452],\n",
      "       [ -3.59995452,  81.76456077]]), array([[110.85016501,  -6.38226826],\n",
      "       [ -6.38226826,  48.11861086]])]\n"
     ]
    },
    {
     "name": "stderr",
     "output_type": "stream",
     "text": [
      "\r",
      " 47%|████▋     | 2358/5000 [00:00<00:00, 23571.48it/s]\r",
      " 94%|█████████▍| 4716/5000 [00:00<00:00, 23619.03it/s]\r",
      "100%|██████████| 5000/5000 [00:00<00:00, 23502.48it/s]\n",
      "\r",
      " 48%|████▊     | 2393/5000 [00:00<00:00, 23925.17it/s]\r",
      " 48%|████▊     | 2399/5000 [00:00<00:00, 23987.74it/s]\r",
      " 95%|█████████▍| 4728/5000 [00:00<00:00, 23539.83it/s]\r",
      " 47%|████▋     | 2338/5000 [00:00<00:00, 23374.84it/s]\r",
      "100%|██████████| 5000/5000 [00:00<00:00, 23518.03it/s]\n",
      "\r",
      " 95%|█████████▍| 4733/5000 [00:00<00:00, 23674.13it/s]\r",
      "100%|██████████| 5000/5000 [00:00<00:00, 23626.07it/s]\n",
      "\r",
      " 96%|█████████▌| 4786/5000 [00:00<00:00, 23710.93it/s]\r",
      "100%|██████████| 5000/5000 [00:00<00:00, 23724.81it/s]\n",
      "\r",
      "  0%|          | 0/5000 [00:00<?, ?it/s]\r",
      " 96%|█████████▌| 4798/5000 [00:00<00:00, 23627.44it/s]\r",
      "100%|██████████| 5000/5000 [00:00<00:00, 23619.72it/s]\n",
      "\r",
      " 94%|█████████▍| 4701/5000 [00:00<00:00, 23520.25it/s]\r",
      "100%|██████████| 5000/5000 [00:00<00:00, 23473.65it/s]\n"
     ]
    },
    {
     "name": "stdout",
     "output_type": "stream",
     "text": [
      "olr: [0.12980035823010325], w: [0.4816782035553151, 0.518321796444685], means: [[11.995279531195909, 37.021822872429645], [36.41161809849498, 12.578276489981238]], cov: [array([[54.70415489,  2.91053254],\n",
      "       [ 2.91053254, 52.53019134]]), array([[58.00833833,  3.53637093],\n",
      "       [ 3.53637093, 64.32208059]])]\n",
      "olr: [0.3098148427191616], w: [0.6727729111749121, 0.32722708882508794], means: [[32.201386218412296, 32.20877100161176], [9.153214242516505, 8.543948417956146]], cov: [array([[115.89324948,   9.01490389],\n",
      "       [  9.01490389, 109.59940804]]), array([[41.50302338, -1.26320761],\n",
      "       [-1.26320761, 30.47145232]])]\n",
      "olr: [0.34612156214268786], w: [0.5026229765525478, 0.4973770234474521], means: [[12.454025825890465, 14.971047887619749], [36.75425202117319, 34.780471419266235]], cov: [array([[ 59.91927257,  -3.70150128],\n",
      "       [ -3.70150128, 116.99798267]]), array([[ 60.67505664,  -7.01113655],\n",
      "       [ -7.01113655, 104.91651492]])]\n",
      "olr: [0.2938414290283244], w: [0.4901325942084002, 0.5098674057915997], means: [[12.292095993905425, 35.395290376139194], [36.500946894917334, 14.111540419047948]], cov: [array([[ 55.95291048,   6.83565111],\n",
      "       [  6.83565111, 107.33018136]]), array([[63.34287852,  3.98174577],\n",
      "       [ 3.98174577, 83.58545601]])]\n"
     ]
    },
    {
     "name": "stderr",
     "output_type": "stream",
     "text": [
      "\r",
      " 47%|████▋     | 2346/5000 [00:00<00:00, 23455.21it/s]\r",
      "  0%|          | 0/5000 [00:00<?, ?it/s]\r",
      "  0%|          | 0/5000 [00:00<?, ?it/s]\r",
      "  0%|          | 0/5000 [00:00<?, ?it/s]\r",
      " 94%|█████████▍| 4692/5000 [00:00<00:00, 23340.50it/s]\r",
      " 46%|████▌     | 2280/5000 [00:00<00:00, 22795.62it/s]\r",
      "100%|██████████| 5000/5000 [00:00<00:00, 23219.62it/s]\n",
      "\r",
      " 46%|████▌     | 2301/5000 [00:00<00:00, 23003.55it/s]\r",
      "  0%|          | 0/5000 [00:00<?, ?it/s]\r",
      "  0%|          | 0/5000 [00:00<?, ?it/s]\r",
      " 43%|████▎     | 2136/5000 [00:00<00:00, 21352.99it/s]"
     ]
    },
    {
     "name": "stdout",
     "output_type": "stream",
     "text": [
      "olr: [0.6620557850845031], w: [0.722436963351449, 0.277563036648551], means: [[29.54260773549288, 30.78795586051165], [10.960854928027215, 9.246341628633726]], cov: [array([[172.43335177,  14.57697609],\n",
      "       [ 14.57697609, 143.96111544]]), array([[49.09758038, -5.26723601],\n",
      "       [-5.26723601, 45.98251792]])]\n",
      "olr: [0.3928189362117418], w: [0.4865179324017232, 0.5134820675982769], means: [[37.16202169507299, 34.411567889899416], [12.722567063736454, 15.141239840895889]], cov: [array([[ 61.69241676,  -9.30251474],\n",
      "       [ -9.30251474, 102.76232568]]), array([[ 65.26973794,   0.5336012 ],\n",
      "       [  0.5336012 , 127.58833584]])]\n",
      "olr: [0.2939706459111377], w: [0.25919809734085364, 0.7408019026591465], means: [[41.950041588585535, 7.527789384790273], [18.923316728195562, 30.444591507288294]], cov: [array([[20.91947802,  2.43458252],\n",
      "       [ 2.43458252, 29.72102883]]), array([[131.77716464,  -7.24273419],\n",
      "       [ -7.24273419, 133.08204729]])]\n"
     ]
    },
    {
     "name": "stderr",
     "output_type": "stream",
     "text": [
      "\r",
      " 91%|█████████ | 4560/5000 [00:00<00:00, 21679.12it/s]\r",
      " 41%|████      | 2059/5000 [00:00<00:00, 20587.61it/s]\r",
      " 92%|█████████▏| 4602/5000 [00:00<00:00, 21548.63it/s]\r",
      " 41%|████      | 2055/5000 [00:00<00:00, 20540.13it/s]\r",
      "100%|██████████| 5000/5000 [00:00<00:00, 21754.69it/s]\n",
      "\r",
      "100%|██████████| 5000/5000 [00:00<00:00, 21667.46it/s]\n",
      "\r",
      " 85%|████████▌ | 4272/5000 [00:00<00:00, 20878.41it/s]\r",
      "  0%|          | 0/5000 [00:00<?, ?it/s]\r",
      "100%|██████████| 5000/5000 [00:00<00:00, 21045.43it/s]\n",
      "\r",
      " 85%|████████▍ | 4235/5000 [00:00<00:00, 21272.49it/s]\r",
      " 86%|████████▌ | 4310/5000 [00:00<00:00, 21709.73it/s]\r",
      "100%|██████████| 5000/5000 [00:00<00:00, 21371.81it/s]\n",
      "\r",
      "100%|██████████| 5000/5000 [00:00<00:00, 21751.10it/s]\n",
      "\r",
      " 45%|████▌     | 2270/5000 [00:00<00:00, 22690.61it/s]\r",
      "  0%|          | 0/5000 [00:00<?, ?it/s]\r",
      "  0%|          | 0/5000 [00:00<?, ?it/s]"
     ]
    },
    {
     "name": "stdout",
     "output_type": "stream",
     "text": [
      "olr: [0.07071199811348405], w: [0.04501883065530243, 0.9549811693446977], means: [[48.27047374156549, 48.17497650220334], [23.499855743099882, 23.664570167945385]], cov: [array([[ 0.54259768, -0.04205262],\n",
      "       [-0.04205262,  0.67839985]]), array([[191.98397632,  -4.71546707],\n",
      "       [ -4.71546707, 192.33602188]])]\n",
      "olr: [0.6470268189451663], w: [0.7370501236065363, 0.2629498763934638], means: [[20.15599417663419, 18.33260466115922], [35.63881500623528, 41.015236882350784]], cov: [array([[190.80964104,  11.42299789],\n",
      "       [ 11.42299789, 136.90352935]]), array([[76.74571846, -2.97160724],\n",
      "       [-2.97160724, 33.28943811]])]\n",
      "olr: [0.2991266514191423], w: [0.31287095667732, 0.68712904332268], means: [[40.50494455226482, 40.293782012365924], [17.168215144460593, 17.254758751444548]], cov: [array([[35.16072461, -1.47608927],\n",
      "       [-1.47608927, 32.11879949]]), array([[117.5995764 ,  -2.70375906],\n",
      "       [ -2.70375906, 122.78377169]])]\n",
      "olr: [0.12252734115972608], w: [0.5106773256891971, 0.489322674310803], means: [[12.284706469137515, 12.211910523544981], [37.15437666785166, 37.1150881529451]], cov: [array([[53.91378871,  3.3192065 ],\n",
      "       [ 3.3192065 , 56.26784439]]), array([[52.25329682, -0.57753344],\n",
      "       [-0.57753344, 53.8471683 ]])]\n",
      "olr: [0.3514831342113427], w: [0.3813384036438691, 0.6186615963561309], means: [[38.32733608345119, 38.92984279883737], [15.87865627974058, 15.72710501232345]], cov: [array([[45.99881539, -3.0680665 ],\n",
      "       [-3.0680665 , 49.38617334]]), array([[123.73354487,  -6.45490774],\n",
      "       [ -6.45490774,  99.4182568 ]])]\n"
     ]
    },
    {
     "name": "stderr",
     "output_type": "stream",
     "text": [
      "100%|██████████| 5000/5000 [00:00<00:00, 23118.67it/s]\n",
      "100%|██████████| 5000/5000 [00:00<00:00, 24048.83it/s]\n",
      "100%|██████████| 5000/5000 [00:00<00:00, 23727.65it/s]\n",
      "100%|██████████| 5000/5000 [00:00<00:00, 23452.51it/s]\n",
      "100%|██████████| 5000/5000 [00:00<00:00, 23597.50it/s]\n",
      "100%|██████████| 5000/5000 [00:00<00:00, 23845.69it/s]\n"
     ]
    },
    {
     "name": "stdout",
     "output_type": "stream",
     "text": [
      "2024-01-16 22:50:44,503 - MultiprocessingDispatcher - 54 individuals out of 54 in previous population were evaluated successfully.\n",
      "2024-01-16 22:50:44,507 - EvoGraphOptimizer - Generation num: 9 size: 55\n",
      "2024-01-16 22:50:44,507 - EvoGraphOptimizer - Best individuals: HallOfFame archive fitness (1): ['<custom=0.000>']\n",
      "2024-01-16 22:50:44,507 - EvoGraphOptimizer - no improvements for 1 iterations\n",
      "2024-01-16 22:50:44,508 - EvoGraphOptimizer - spent time: 0.4 min\n",
      "2024-01-16 22:50:44,509 - EvoGraphOptimizer - Next population size: 55; max graph depth: 100\n",
      "2024-01-16 22:50:44,521 - MultiprocessingDispatcher - Number of used CPU's: 6\n",
      "olr: [0.6269597740170691], w: [0.3362285308279462, 0.663771469172054], means: [[25.36589335154383, 40.625462839344976], [24.024628484202886, 16.53545056555722]], cov: [array([[231.17754691,  16.39052343],\n",
      "       [ 16.39052343,  33.671256  ]]), array([[198.11912209,  -2.24899061],\n",
      "       [ -2.24899061, 105.55042645]])]\n",
      "olr: [0.6039209417279384], w: [0.5524717079446003, 0.44752829205539957], means: [[28.81713929624926, 35.58782405897902], [19.415411247001355, 11.166967874033931]], cov: [array([[190.32211503,  32.13084943],\n",
      "       [ 32.13084943,  71.31613955]]), array([[177.22510958,  24.621899  ],\n",
      "       [ 24.621899  ,  53.81307877]])]\n",
      "olr: [0.13773512370204835], w: [0.32224906156189287, 0.6777509384381071], means: [[41.55490998156379, 7.202280821085235], [16.605169564335323, 32.16413364847126]], cov: [array([[22.3312092 , -2.04347973],\n",
      "       [-2.04347973, 20.98810477]]), array([[102.85507388,   1.61732198],\n",
      "       [  1.61732198,  99.24668744]])]\n",
      "olr: [0.6122828971186441], w: [0.3502175940537583, 0.6497824059462417], means: [[28.648289102452566, 8.729324995178986], [21.874192016763377, 32.750404762784086]], cov: [array([[150.43812017,  -5.51509132],\n",
      "       [ -5.51509132,  34.17182069]]), array([[217.78476653, -33.21350126],\n",
      "       [-33.21350126, 100.29724808]])]\n",
      "olr: [0.5698806452749517], w: [0.5560135496366486, 0.4439864503633514], means: [[35.7354942141329, 29.199016502044405], [11.306158126834594, 18.58784470121847]], cov: [array([[ 74.50175066,  -7.10114969],\n",
      "       [ -7.10114969, 174.53405012]]), array([[ 52.96213888,  -5.16021904],\n",
      "       [ -5.16021904, 193.87300577]])]\n",
      "olr: [0.12712271475678383], w: [0.4859487709499577, 0.5140512290500423], means: [[12.427432371644775, 36.91253680960232], [36.92570592237154, 12.036539852580225]], cov: [array([[56.38892316, -1.73555782],\n",
      "       [-1.73555782, 52.9643499 ]]), array([[54.11636238,  1.60414924],\n",
      "       [ 1.60414924, 55.61894134]])]\n"
     ]
    },
    {
     "name": "stderr",
     "output_type": "stream",
     "text": [
      "100%|██████████| 5000/5000 [00:00<00:00, 23848.48it/s]\n",
      "100%|██████████| 5000/5000 [00:00<00:00, 23633.66it/s]\n",
      "100%|██████████| 5000/5000 [00:00<00:00, 23906.74it/s]\n",
      "100%|██████████| 5000/5000 [00:00<00:00, 23665.53it/s]\n",
      "100%|██████████| 5000/5000 [00:00<00:00, 24222.33it/s]\n",
      "100%|██████████| 5000/5000 [00:00<00:00, 23598.64it/s]\n",
      "  0%|          | 0/5000 [00:00<?, ?it/s]"
     ]
    },
    {
     "name": "stdout",
     "output_type": "stream",
     "text": [
      "olr: [0.19900582702658776], w: [0.5062157496838666, 0.49378425031613343], means: [[12.145151890080923, 13.03314065150851], [36.75599782560593, 36.302937817244604]], cov: [array([[56.79972209, -1.04394487],\n",
      "       [-1.04394487, 76.80628799]]), array([[56.3502931 , -2.31948384],\n",
      "       [-2.31948384, 70.44160529]])]\n",
      "olr: [0.22266190771110395], w: [0.5130096843369479, 0.4869903156630521], means: [[12.893886185875461, 13.195771284896653], [37.160721550012795, 36.88336494761097]], cov: [array([[68.88124234, -0.33415272],\n",
      "       [-0.33415272, 73.85282717]]), array([[60.1957049 , -1.44866266],\n",
      "       [-1.44866266, 55.67150274]])]\n",
      "olr: [0.6092832978293854], w: [0.4779667733773709, 0.5220332266226291], means: [[26.288308297452485, 37.05797768525726], [22.530485619873073, 12.823164573633699]], cov: [array([[203.69348675,   8.49246213],\n",
      "       [  8.49246213,  56.83525706]]), array([[201.89703636,  19.00677548],\n",
      "       [ 19.00677548,  68.3923814 ]])]\n",
      "olr: [0.4347615507090158], w: [0.1670519753713714, 0.8329480246286286], means: [[42.60941225573357, 41.195630617406984], [20.871426546713497, 20.94102874722544]], cov: [array([[17.4802715 , -0.74948324],\n",
      "       [-0.74948324, 32.44371173]]), array([[162.27664056,  -0.44542868],\n",
      "       [ -0.44542868, 172.8116404 ]])]\n",
      "olr: [0.6399323582764226], w: [0.4527531341890504, 0.5472468658109496], means: [[11.373614746309451, 19.2870015428959], [35.45485865469053, 29.187832037511985]], cov: [array([[ 53.55335741,   8.91584299],\n",
      "       [  8.91584299, 204.29868244]]), array([[ 73.45272559,   3.5877808 ],\n",
      "       [  3.5877808 , 163.68925942]])]\n",
      "olr: [0.6453033041633532], w: [0.44716067688474753, 0.5528393231152524], means: [[11.112554205165228, 24.38038360752435], [35.12974191174008, 24.381498565252425]], cov: [array([[ 52.08857956,  -4.03059476],\n",
      "       [ -4.03059476, 226.14247177]]), array([[ 74.91678727,  21.00363889],\n",
      "       [ 21.00363889, 198.73517195]])]\n"
     ]
    },
    {
     "name": "stderr",
     "output_type": "stream",
     "text": [
      "100%|██████████| 5000/5000 [00:00<00:00, 23289.91it/s]\n",
      "100%|██████████| 5000/5000 [00:00<00:00, 23649.17it/s]\n",
      "100%|██████████| 5000/5000 [00:00<00:00, 23752.81it/s]\n",
      "100%|██████████| 5000/5000 [00:00<00:00, 23747.02it/s]\n",
      "100%|██████████| 5000/5000 [00:00<00:00, 23739.55it/s]\n",
      "100%|██████████| 5000/5000 [00:00<00:00, 23263.46it/s]\n",
      "  0%|          | 0/5000 [00:00<?, ?it/s] 22933.62it/s]"
     ]
    },
    {
     "name": "stdout",
     "output_type": "stream",
     "text": [
      "olr: [0.12304564709155574], w: [0.5098825408083151, 0.490117459191685], means: [[36.83854014464173, 36.92735710212616], [12.289853051378824, 12.132980011034942]], cov: [array([[58.05195724, -2.41941515],\n",
      "       [-2.41941515, 54.31843689]]), array([[54.37296859, -0.34505927],\n",
      "       [-0.34505927, 56.28038423]])]\n",
      "olr: [0.6264068269844745], w: [0.677509949560943, 0.322490050439057], means: [[20.92321566633854, 17.02596563272673], [32.35111655395995, 40.72354748639566]], cov: [array([[210.01952655,  42.69525231],\n",
      "       [ 42.69525231, 105.1117591 ]]), array([[117.99476584,  10.31023792],\n",
      "       [ 10.31023792,  31.51947727]])]\n",
      "olr: [0.6357215596690482], w: [0.42076609829927386, 0.5792339017007261], means: [[38.09695357520463, 31.006864971486067], [14.436125825026393, 19.442857837547965]], cov: [array([[ 50.69069167, -13.70441265],\n",
      "       [-13.70441265, 180.33645137]]), array([[ 82.05549529,  22.99260994],\n",
      "       [ 22.99260994, 173.52207879]])]\n",
      "olr: [0.5966630931198093], w: [0.48140817330396385, 0.5185918266960361], means: [[11.772686064190363, 21.275022412105045], [35.91250719397312, 27.25463379096412]], cov: [array([[ 57.3876299 ,   5.55095695],\n",
      "       [  5.55095695, 191.90553082]]), array([[ 67.84660608,  52.5345044 ],\n",
      "       [ 52.5345044 , 203.05131834]])]\n",
      "olr: [0.55138672084903], w: [0.6276113751060967, 0.3723886248939034], means: [[24.577147062058575, 15.542213818240736], [24.731966339789906, 39.838837229702534]], cov: [array([[201.57074359,   2.25163233],\n",
      "       [  2.25163233,  95.27287708]]), array([[215.13475471,  23.56725496],\n",
      "       [ 23.56725496,  35.58363211]])]\n",
      "olr: [0.6183639939360878], w: [0.5232086107430906, 0.4767913892569094], means: [[27.43530835430393, 36.00010861945683], [21.84353716384863, 11.809007690740351]], cov: [array([[216.85891238,  30.4891332 ],\n",
      "       [ 30.4891332 ,  66.64075726]]), array([[178.54883472,   3.27200297],\n",
      "       [  3.27200297,  59.02267221]])]\n"
     ]
    },
    {
     "name": "stderr",
     "output_type": "stream",
     "text": [
      "100%|██████████| 5000/5000 [00:00<00:00, 23183.63it/s]\n",
      "100%|██████████| 5000/5000 [00:00<00:00, 23610.30it/s]\n",
      "100%|██████████| 5000/5000 [00:00<00:00, 23466.37it/s]\n",
      "100%|██████████| 5000/5000 [00:00<00:00, 23732.41it/s]\n",
      "100%|██████████| 5000/5000 [00:00<00:00, 23676.54it/s]\n",
      "100%|██████████| 5000/5000 [00:00<00:00, 23401.56it/s]\n",
      "  0%|          | 0/5000 [00:00<?, ?it/s] 23201.72it/s]"
     ]
    },
    {
     "name": "stdout",
     "output_type": "stream",
     "text": [
      "olr: [0.4986780037157024], w: [0.3081748323401725, 0.6918251676598276], means: [[8.2926561839885, 11.200215110353353], [31.42182893458047, 29.79882280942058]], cov: [array([[28.73197769, -4.71238575],\n",
      "       [-4.71238575, 69.40866296]]), array([[127.03997232,   4.03023021],\n",
      "       [  4.03023021, 164.2755747 ]])]\n",
      "olr: [0.23390823069187824], w: [0.7036267752759068, 0.2963732247240932], means: [[17.750241898687214, 31.60181547350706], [41.30418509922939, 7.248686137258048]], cov: [array([[121.86053454,  -2.66177663],\n",
      "       [ -2.66177663, 110.29753159]]), array([[31.50118542, -1.52940833],\n",
      "       [-1.52940833, 21.09483367]])]\n",
      "olr: [0.6217395103087424], w: [0.5125627335947852, 0.48743726640521473], means: [[12.49135161949632, 19.774742059620344], [36.94629013581849, 28.89644498802016]], cov: [array([[ 63.93600675,  -7.58378964],\n",
      "       [ -7.58378964, 267.4370296 ]]), array([[ 56.81787824,  -9.05564983],\n",
      "       [ -9.05564983, 104.81034825]])]\n",
      "olr: [0.5962632071406694], w: [0.5046388914137663, 0.49536110858623367], means: [[18.91095490487939, 12.297311584443573], [29.725782718896237, 36.802037944977585]], cov: [array([[182.56193727,  35.29795759],\n",
      "       [ 35.29795759,  62.01035779]]), array([[179.60959253,  28.59377985],\n",
      "       [ 28.59377985,  61.80377044]])]\n",
      "olr: [0.4545085629510815], w: [0.517630320514217, 0.4823696794857831], means: [[12.920731219103574, 16.793094048915265], [37.01774493125787, 33.125185981979826]], cov: [array([[ 66.49727602,  -9.79611925],\n",
      "       [ -9.79611925, 152.6061094 ]]), array([[ 59.60364735,  -9.41801705],\n",
      "       [ -9.41801705, 128.3881359 ]])]\n",
      "olr: [0.6331929162714325], w: [0.4822360409871085, 0.5177639590128915], means: [[26.22306802910634, 36.52521884959336], [22.912161583677904, 12.528533423128618]], cov: [array([[191.10301802,  12.68374442],\n",
      "       [ 12.68374442,  62.13989891]]), array([[221.33269715,  23.13261101],\n",
      "       [ 23.13261101,  64.64541168]])]\n"
     ]
    },
    {
     "name": "stderr",
     "output_type": "stream",
     "text": [
      "\r",
      " 47%|████▋     | 2335/5000 [00:00<00:00, 23343.45it/s]\r",
      " 93%|█████████▎| 4659/5000 [00:00<00:00, 23305.90it/s]\r",
      " 48%|████▊     | 2385/5000 [00:00<00:00, 23844.79it/s]\r",
      "100%|██████████| 5000/5000 [00:00<00:00, 23239.48it/s]\n",
      "\r",
      " 47%|████▋     | 2359/5000 [00:00<00:00, 23583.56it/s]\r",
      " 47%|████▋     | 2359/5000 [00:00<00:00, 23589.46it/s]\r",
      " 47%|████▋     | 2371/5000 [00:00<00:00, 23704.82it/s]\r",
      " 94%|█████████▍| 4709/5000 [00:00<00:00, 23572.60it/s]\r",
      "100%|██████████| 5000/5000 [00:00<00:00, 23548.13it/s]\n",
      "\r",
      " 95%|█████████▌| 4770/5000 [00:00<00:00, 23784.20it/s]\r",
      "100%|██████████| 5000/5000 [00:00<00:00, 23789.26it/s]\n",
      "\r",
      " 94%|█████████▍| 4720/5000 [00:00<00:00, 23594.19it/s]\r",
      " 94%|█████████▍| 4725/5000 [00:00<00:00, 23625.86it/s]\r",
      " 95%|█████████▍| 4742/5000 [00:00<00:00, 23704.56it/s]\r",
      "100%|██████████| 5000/5000 [00:00<00:00, 23599.38it/s]\n",
      "\r",
      "100%|██████████| 5000/5000 [00:00<00:00, 23589.91it/s]\n",
      "\r",
      "100%|██████████| 5000/5000 [00:00<00:00, 23663.02it/s]\n"
     ]
    },
    {
     "name": "stdout",
     "output_type": "stream",
     "text": [
      "olr: [0.1423245392107834], w: [0.5656073016983991, 0.43439269830160077], means: [[13.733630849416564, 13.750523695287011], [38.381303778646284, 38.43988046082511]], cov: [array([[68.57380617,  0.46787055],\n",
      "       [ 0.46787055, 72.88619253]]), array([[42.58949086, -0.25706178],\n",
      "       [-0.25706178, 41.89091258]])]\n",
      "olr: [0.445870665722981], w: [0.3897758774030328, 0.6102241225969672], means: [[34.39376457161301, 39.13127530051459], [17.58753847886566, 15.120301695998807]], cov: [array([[105.30578573,  -8.58191536],\n",
      "       [ -8.58191536,  40.90551936]]), array([[159.30395066,  -4.17188969],\n",
      "       [ -4.17188969,  87.77152196]])]\n",
      "olr: [0.0940117540917894], w: [0.10130173549819925, 0.8986982645018008], means: [[47.177560592265216, 2.183709319643187], [21.972036683945866, 26.813433838614284]], cov: [array([[ 2.02342706, -0.11015107],\n",
      "       [-0.11015107,  2.31616943]]), array([[174.05172399,  -4.67367284],\n",
      "       [ -4.67367284, 174.24756827]])]\n",
      "olr: [0.27784254225677996], w: [0.19956879665350533, 0.8004312033464948], means: [[44.26609677169705, 41.027917578198036], [20.094004665835477, 20.957588596728023]], cov: [array([[ 9.86245906,  0.62293203],\n",
      "       [ 0.62293203, 24.76352712]]), array([[139.59264443,   2.03810241],\n",
      "       [  2.03810241, 167.96621505]])]\n",
      "olr: [0.5831277440587777], w: [0.6655615907987963, 0.3344384092012037], means: [[16.343152428311978, 23.812469799318333], [40.586323513395634, 25.96452584575358]], cov: [array([[103.66056911,   2.3737745 ],\n",
      "       [  2.3737745 , 209.56498383]]), array([[ 32.8011432 ,   1.67685596],\n",
      "       [  1.67685596, 197.73826558]])]\n",
      "olr: [0.6538043866092671], w: [0.46448267653645936, 0.5355173234635405], means: [[11.873263370464258, 28.869264283058993], [35.82568482823438, 20.608347055494864]], cov: [array([[ 57.84423732, -16.57412583],\n",
      "       [-16.57412583, 147.35411125]]), array([[ 71.63238843, -55.79322737],\n",
      "       [-55.79322737, 229.06931298]])]\n"
     ]
    },
    {
     "name": "stderr",
     "output_type": "stream",
     "text": [
      "100%|██████████| 5000/5000 [00:00<00:00, 23587.12it/s]\n",
      "100%|██████████| 5000/5000 [00:00<00:00, 23646.48it/s]\n",
      "100%|██████████| 5000/5000 [00:00<00:00, 23507.35it/s]\n",
      "100%|██████████| 5000/5000 [00:00<00:00, 23364.15it/s]\n",
      "100%|██████████| 5000/5000 [00:00<00:00, 23415.51it/s]\n",
      "100%|██████████| 5000/5000 [00:00<00:00, 23213.43it/s]\n",
      "  0%|          | 0/5000 [00:00<?, ?it/s]"
     ]
    },
    {
     "name": "stdout",
     "output_type": "stream",
     "text": [
      "olr: [0.5996126820225866], w: [0.4244428550046798, 0.5755571449953203], means: [[23.617267725623766, 10.311616103183756], [25.05818854745282, 34.34881904144063]], cov: [array([[191.38676188,  -3.67350147],\n",
      "       [ -3.67350147,  46.39115042]]), array([[222.09366317,  44.37476634],\n",
      "       [ 44.37476634,  83.92548415]])]\n",
      "olr: [0.5977569122772729], w: [0.4805648156196973, 0.5194351843803028], means: [[32.85224770584421, 36.55557646341282], [16.06700102247602, 12.774021353413504]], cov: [array([[132.02395991,  -0.75632475],\n",
      "       [ -0.75632475,  66.91580642]]), array([[144.50817451,  19.85271661],\n",
      "       [ 19.85271661,  69.73268104]])]\n",
      "olr: [0.6029369191021376], w: [0.6808620461745665, 0.3191379538254334], means: [[32.16583796246472, 24.8135368899966], [8.337779057805905, 23.55597136015016]], cov: [array([[110.01980117,  16.87340061],\n",
      "       [ 16.87340061, 212.80379892]]), array([[ 31.27927592,  -0.94756738],\n",
      "       [ -0.94756738, 193.00313334]])]\n",
      "olr: [0.6932852647900323], w: [0.5274273997619479, 0.4725726002380522], means: [[26.08849305981316, 35.825498699685], [22.619199539648687, 11.43834909795276]], cov: [array([[279.96448244,   5.38594301],\n",
      "       [  5.38594301,  67.3648654 ]]), array([[121.75423378,   7.17550678],\n",
      "       [  7.17550678,  54.34841624]])]\n",
      "olr: [0.705537936412322], w: [0.24372220306595732, 0.7562777969340427], means: [[41.07798650715351, 35.842715915758475], [19.408982639011676, 21.08343571341769]], cov: [array([[31.99288685, -8.24698735],\n",
      "       [-8.24698735, 69.67561636]]), array([[151.93753532,  19.0240458 ],\n",
      "       [ 19.0240458 , 200.77585882]])]\n",
      "olr: [0.6289975528307143], w: [0.5283051537009279, 0.471694846299072], means: [[35.71182511432171, 28.61197889236977], [12.150776691767494, 19.548536868542474]], cov: [array([[ 67.92984544,  -6.84955346],\n",
      "       [ -6.84955346, 177.96445618]]), array([[ 58.57828054,  -4.80900051],\n",
      "       [ -4.80900051, 193.13152481]])]\n"
     ]
    },
    {
     "name": "stderr",
     "output_type": "stream",
     "text": [
      "100%|██████████| 5000/5000 [00:00<00:00, 23212.55it/s]\n",
      "100%|██████████| 5000/5000 [00:00<00:00, 23579.03it/s]\n",
      "100%|██████████| 5000/5000 [00:00<00:00, 23508.67it/s]\n",
      "100%|██████████| 5000/5000 [00:00<00:00, 23922.50it/s]\n",
      "100%|██████████| 5000/5000 [00:00<00:00, 23548.50it/s]\n",
      "100%|██████████| 5000/5000 [00:00<00:00, 23741.54it/s]\n",
      " 47%|████▋     | 2339/5000 [00:00<00:00, 23384.06it/s]"
     ]
    },
    {
     "name": "stdout",
     "output_type": "stream",
     "text": [
      "olr: [0.1403292326905857], w: [0.34765668217724977, 0.6523433178227501], means: [[8.689642382358212, 8.376749610865296], [32.96605816676075, 33.21558821998144]], cov: [array([[26.91279542, -1.3676039 ],\n",
      "       [-1.3676039 , 30.10959207]]), array([[97.00628262, -2.78391401],\n",
      "       [-2.78391401, 90.33630123]])]\n",
      "olr: [0.6275351484757419], w: [0.6677863129759669, 0.3322136870240331], means: [[23.85277391966544, 16.642663208496153], [25.33081681649228, 40.27364861981033]], cov: [array([[211.1659123 ,  23.64297045],\n",
      "       [ 23.64297045, 104.59286669]]), array([[201.670332  ,  -0.23667314],\n",
      "       [ -0.23667314,  33.33299291]])]\n",
      "olr: [0.48592963839747116], w: [0.6083955443189674, 0.39160445568103264], means: [[34.05966119954242, 18.184518964970163], [9.77786087373738, 34.12325751730622]], cov: [array([[ 90.44805766,   4.91917438],\n",
      "       [  4.91917438, 161.96155932]]), array([[ 42.08071739,   1.5061607 ],\n",
      "       [  1.5061607 , 127.44064014]])]\n",
      "olr: [0.6165629495639435], w: [0.3665304642226989, 0.6334695357773011], means: [[39.547069249732466, 25.473603597314955], [15.827429391605527, 23.489287815226852]], cov: [array([[ 39.14986585,  38.88302381],\n",
      "       [ 38.88302381, 243.82231043]]), array([[ 96.43146711,   1.34639413],\n",
      "       [  1.34639413, 189.97463805]])]\n"
     ]
    },
    {
     "name": "stderr",
     "output_type": "stream",
     "text": [
      "\r",
      "  0%|          | 0/5000 [00:00<?, ?it/s]\r",
      "  0%|          | 0/5000 [00:00<?, ?it/s]\r",
      " 46%|████▋     | 2318/5000 [00:00<00:00, 23171.96it/s]\r",
      " 94%|█████████▎| 4678/5000 [00:00<00:00, 23367.22it/s]\r",
      "  0%|          | 0/5000 [00:00<?, ?it/s]\r",
      "  0%|          | 0/5000 [00:00<?, ?it/s]\r",
      "100%|██████████| 5000/5000 [00:00<00:00, 23307.59it/s]\n",
      "\r",
      " 48%|████▊     | 2393/5000 [00:00<00:00, 23927.63it/s]\r",
      " 47%|████▋     | 2366/5000 [00:00<00:00, 23656.30it/s]\r",
      " 93%|█████████▎| 4648/5000 [00:00<00:00, 23241.87it/s]\r",
      " 47%|████▋     | 2338/5000 [00:00<00:00, 23374.51it/s]\r",
      " 47%|████▋     | 2366/5000 [00:00<00:00, 23651.39it/s]\r",
      "100%|██████████| 5000/5000 [00:00<00:00, 23256.60it/s]\n",
      "\r",
      " 96%|█████████▌| 4786/5000 [00:00<00:00, 23864.84it/s]"
     ]
    },
    {
     "name": "stdout",
     "output_type": "stream",
     "text": [
      "olr: [0.5893849428808635], w: [0.6176511352549204, 0.38234886474507956], means: [[25.362101676175392, 33.51894762155637], [22.46134328915923, 9.41962767797608]], cov: [array([[209.76363218,  27.35967671],\n",
      "       [ 27.35967671,  93.11516021]]), array([[203.15665392,  -5.70041428],\n",
      "       [ -5.70041428,  38.74007871]])]\n",
      "olr: [0.6420871697100606], w: [0.44934896842004374, 0.5506510315799564], means: [[29.391572135621377, 11.32233969336719], [20.39790490973465, 35.197461236154766]], cov: [array([[187.21566109, -32.1935213 ],\n",
      "       [-32.1935213 ,  53.85203531]]), array([[190.72104828, -36.69693487],\n",
      "       [-36.69693487,  75.89587714]])]\n",
      "olr: [0.2996705581662047], w: [0.6190988641661729, 0.3809011358338271], means: [[33.545545549602004, 15.852940314022774], [10.392173926553061, 39.22819139193377]], cov: [array([[ 97.86688183,   0.17679074],\n",
      "       [  0.17679074, 105.31527613]]), array([[54.89676877,  3.42142754],\n",
      "       [ 3.42142754, 39.03654346]])]\n"
     ]
    },
    {
     "name": "stderr",
     "output_type": "stream",
     "text": [
      "\r",
      "100%|██████████| 5000/5000 [00:00<00:00, 23841.65it/s]\n",
      "\r",
      "  0%|          | 0/5000 [00:00<?, ?it/s]\r",
      " 95%|█████████▍| 4732/5000 [00:00<00:00, 23584.17it/s]\r",
      " 94%|█████████▍| 4695/5000 [00:00<00:00, 23487.96it/s]\r",
      " 95%|█████████▍| 4732/5000 [00:00<00:00, 23563.69it/s]\r",
      "100%|██████████| 5000/5000 [00:00<00:00, 23575.72it/s]\n",
      "\r",
      "100%|██████████| 5000/5000 [00:00<00:00, 23437.73it/s]\n",
      "\r",
      "100%|██████████| 5000/5000 [00:00<00:00, 23576.80it/s]\n",
      "\r",
      " 47%|████▋     | 2343/5000 [00:00<00:00, 23428.91it/s]\r",
      "  0%|          | 0/5000 [00:00<?, ?it/s]\r",
      "  0%|          | 0/5000 [00:00<?, ?it/s]"
     ]
    },
    {
     "name": "stdout",
     "output_type": "stream",
     "text": [
      "olr: [0.7001330337407607], w: [0.46941924132270657, 0.5305807586772934], means: [[37.37737737268981, 26.27002531498469], [13.190338617869264, 23.43874036841101]], cov: [array([[ 55.05123911,   0.36699582],\n",
      "       [  0.36699582, 145.80607088]]), array([[ 71.63361629,  -0.45491595],\n",
      "       [ -0.45491595, 261.79607664]])]\n",
      "olr: [0.6082970846361495], w: [0.5076826586244287, 0.4923173413755712], means: [[24.52032497950251, 12.16547721020898], [24.740660546383822, 36.368814749564415]], cov: [array([[203.95231915,   2.25290436],\n",
      "       [  2.25290436,  59.64542439]]), array([[202.74853733,  -4.84305162],\n",
      "       [ -4.84305162,  62.0572246 ]])]\n",
      "olr: [0.2610347093264803], w: [0.27150795724490223, 0.7284920427550978], means: [[7.900143412423495, 6.570378936051691], [30.641993172265067, 31.037387520715598]], cov: [array([[29.83791375, -0.10389112],\n",
      "       [-0.10389112, 19.82900967]]), array([[136.58301118,   3.84655669],\n",
      "       [  3.84655669, 122.56216951]])]\n",
      "olr: [0.6639935914820594], w: [0.6044773686194632, 0.3955226313805367], means: [[15.100032718474912, 23.45090391530083], [38.79872032279278, 25.7731378706456]], cov: [array([[ 88.31718882,  -1.51898522],\n",
      "       [ -1.51898522, 199.98678447]]), array([[ 44.46941928,  18.53337084],\n",
      "       [ 18.53337084, 221.65439778]])]\n",
      "olr: [0.6242725049925948], w: [0.4630982191501311, 0.5369017808498688], means: [[11.79772190844592, 24.484168201448067], [35.65884241222827, 24.305051266324732]], cov: [array([[ 57.67771715,   7.31337884],\n",
      "       [  7.31337884, 188.14314475]]), array([[ 70.02390297,  30.54122034],\n",
      "       [ 30.54122034, 222.41297747]])]\n"
     ]
    },
    {
     "name": "stderr",
     "output_type": "stream",
     "text": [
      "\r",
      "  0%|          | 0/5000 [00:00<?, ?it/s]\r",
      " 94%|█████████▎| 4686/5000 [00:00<00:00, 23189.13it/s]\r",
      "100%|██████████| 5000/5000 [00:00<00:00, 23253.19it/s]\n",
      "\r",
      " 46%|████▌     | 2312/5000 [00:00<00:00, 23114.95it/s]\r",
      "  0%|          | 0/5000 [00:00<?, ?it/s]\r",
      "  0%|          | 0/5000 [00:00<?, ?it/s]\r",
      " 46%|████▌     | 2303/5000 [00:00<00:00, 23020.86it/s]\r",
      " 47%|████▋     | 2358/5000 [00:00<00:00, 23575.64it/s]\r",
      " 94%|█████████▍| 4691/5000 [00:00<00:00, 23509.54it/s]\r",
      " 47%|████▋     | 2367/5000 [00:00<00:00, 23662.12it/s]\r",
      " 47%|████▋     | 2368/5000 [00:00<00:00, 23672.69it/s]\r",
      "100%|██████████| 5000/5000 [00:00<00:00, 23410.50it/s]\n",
      "\r",
      " 94%|█████████▍| 4699/5000 [00:00<00:00, 23568.92it/s]\r",
      "100%|██████████| 5000/5000 [00:00<00:00, 23451.05it/s]\n",
      "\r",
      "  0%|          | 0/5000 [00:00<?, ?it/s]\r",
      " 95%|█████████▍| 4730/5000 [00:00<00:00, 23658.27it/s]"
     ]
    },
    {
     "name": "stdout",
     "output_type": "stream",
     "text": [
      "olr: [0.4456651458494006], w: [0.7850360453067502, 0.2149639546932499], means: [[29.35048022543139, 28.940710120649666], [7.015199725578574, 9.81140945944078]], cov: [array([[148.84864057,  -9.8690714 ],\n",
      "       [ -9.8690714 , 166.57664166]]), array([[20.64337918, -1.37246414],\n",
      "       [-1.37246414, 63.00318042]])]\n",
      "olr: [0.13802085049891685], w: [0.7104278193451503, 0.28957218065484974], means: [[17.474352851312155, 17.559793455911393], [42.341545315738884, 42.21826212490117]], cov: [array([[108.0695381 ,   2.41606102],\n",
      "       [  2.41606102, 108.00234845]]), array([[1.81711046e+01, 8.63445429e-03],\n",
      "       [8.63445429e-03, 1.99050945e+01]])]\n",
      "olr: [0.6037637925117526], w: [0.6312557610493635, 0.36874423895063657], means: [[33.09889082242796, 25.890057228148407], [9.090676219207813, 22.52171381569799]], cov: [array([[ 97.56003261,  42.68438261],\n",
      "       [ 42.68438261, 233.40069279]]), array([[ 35.59140231,   6.26952201],\n",
      "       [  6.26952201, 170.17213638]])]\n",
      "olr: [0.6070721698642408], w: [0.30287278576984555, 0.6971272142301543], means: [[38.71826156776855, 39.28244124056827], [18.622558399388897, 17.944526241804073]], cov: [array([[55.93340753, -5.30218562],\n",
      "       [-5.30218562, 42.84185763]]), array([[152.08624406,  14.33812312],\n",
      "       [ 14.33812312, 137.19378935]])]\n"
     ]
    },
    {
     "name": "stderr",
     "output_type": "stream",
     "text": [
      "100%|██████████| 5000/5000 [00:00<00:00, 23554.32it/s]\n",
      "100%|██████████| 5000/5000 [00:00<00:00, 23437.21it/s]\n",
      "100%|██████████| 5000/5000 [00:00<00:00, 23612.85it/s]\n",
      "100%|██████████| 5000/5000 [00:00<00:00, 23048.29it/s]\n",
      "100%|██████████| 5000/5000 [00:00<00:00, 23716.81it/s]\n",
      "100%|██████████| 5000/5000 [00:00<00:00, 23522.70it/s]\n",
      "100%|██████████| 5000/5000 [00:00<00:00, 23678.47it/s]\n"
     ]
    },
    {
     "name": "stdout",
     "output_type": "stream",
     "text": [
      "olr: [0.5100743155994215], w: [0.7562870840903904, 0.24371291590960964], means: [[24.555273250818736, 18.868441925389117], [25.233640043830945, 42.977784069529434]], cov: [array([[2.03175466e+02, 7.12567846e-02],\n",
      "       [7.12567846e-02, 1.34624015e+02]]), array([[222.21200351,   5.11396661],\n",
      "       [  5.11396661,  16.92743164]])]\n",
      "olr: [0.5741173798114387], w: [0.6603178605657956, 0.3396821394342044], means: [[23.50829810301113, 16.44107304757279], [26.474311855359165, 40.49040035702215]], cov: [array([[211.74230729,  41.47368249],\n",
      "       [ 41.47368249, 105.13623605]]), array([[197.11992723,  17.94475733],\n",
      "       [ 17.94475733,  33.15319661]])]\n",
      "2024-01-16 22:50:48,137 - MultiprocessingDispatcher - 54 individuals out of 54 in previous population were evaluated successfully.\n",
      "2024-01-16 22:50:48,141 - EvoGraphOptimizer - Generation num: 10 size: 55\n",
      "2024-01-16 22:50:48,141 - EvoGraphOptimizer - Best individuals: HallOfFame archive fitness (1): ['<custom=0.000>']\n",
      "2024-01-16 22:50:48,142 - EvoGraphOptimizer - Next population size: 55; max graph depth: 100\n",
      "2024-01-16 22:50:48,155 - MultiprocessingDispatcher - Number of used CPU's: 6\n"
     ]
    },
    {
     "name": "stderr",
     "output_type": "stream",
     "text": [
      "\r",
      " 94%|█████████▍| 4724/5000 [00:00<00:00, 23617.56it/s]\r",
      " 96%|█████████▌| 4801/5000 [00:00<00:00, 24025.39it/s]\r",
      "100%|██████████| 5000/5000 [00:00<00:00, 23524.33it/s]\n",
      "\r",
      "100%|██████████| 5000/5000 [00:00<00:00, 23972.66it/s]\n"
     ]
    },
    {
     "name": "stdout",
     "output_type": "stream",
     "text": [
      "olr: [0.22587172254955412], w: [0.34307817529808343, 0.6569218247019165], means: [[39.28912478488878, 8.488722766355068], [16.953857127208888, 32.82780944672226]], cov: [array([[35.91014262,  2.71516962],\n",
      "       [ 2.71516962, 32.00973508]]), array([[120.24540903,   9.34182917],\n",
      "       [  9.34182917,  96.95519409]])]\n",
      "olr: [0.279885433631108], w: [0.8094073186525423, 0.19059268134745758], means: [[29.1076478757135, 20.77380548768913], [4.93542970268394, 40.40307186802086]], cov: [array([[137.45664904,   0.4827225 ],\n",
      "       [  0.4827225 , 175.46979207]]), array([[10.83517814,  0.58333626],\n",
      "       [ 0.58333626, 25.35288229]])]\n",
      "olr: [0.6876043274316067], w: [0.6853545453119276, 0.31464545468807226], means: [[24.609178810556923, 17.043736687049414], [24.150952548557182, 40.42517507535824]], cov: [array([[198.10686478,  -2.85062682],\n",
      "       [ -2.85062682, 114.08135665]]), array([[220.08916621,   5.42583787],\n",
      "       [  5.42583787,  32.49160188]])]\n",
      "olr: [0.6047326441187771], w: [0.40264699142388705, 0.597353008576113], means: [[21.98569900776471, 9.962611392543185], [26.289855771558212, 34.01101895258714]], cov: [array([[195.93773357,  -0.70069798],\n",
      "       [ -0.70069798,  43.49874005]]), array([[209.17944938,  57.05685484],\n",
      "       [ 57.05685484,  87.10000334]])]\n",
      "olr: [0.2785460575891898], w: [0.40588505353056276, 0.5941149464694371], means: [[11.841056019848239, 10.1985506753997], [32.9766023560786, 34.104781967850435]], cov: [array([[54.4799256 , -3.06204819],\n",
      "       [-3.06204819, 42.16684588]]), array([[129.67116839, -19.34593579],\n",
      "       [-19.34593579,  81.75362889]])]\n",
      "olr: [0.62353184487611], w: [0.41690008567330544, 0.5830999143266945], means: [[38.56769407862884, 28.32502649855727], [14.103457799155729, 21.696957442810742]], cov: [array([[ 47.64385446,   1.08223039],\n",
      "       [  1.08223039, 151.25442526]]), array([[ 83.33285947,  40.55093461],\n",
      "       [ 40.55093461, 228.27130786]])]\n"
     ]
    },
    {
     "name": "stderr",
     "output_type": "stream",
     "text": [
      "100%|██████████| 5000/5000 [00:00<00:00, 21343.60it/s]\n",
      "100%|██████████| 5000/5000 [00:00<00:00, 21229.74it/s]\n",
      "100%|██████████| 5000/5000 [00:00<00:00, 21107.81it/s]\n",
      "100%|██████████| 5000/5000 [00:00<00:00, 21344.65it/s]\n",
      "100%|██████████| 5000/5000 [00:00<00:00, 21053.19it/s]\n",
      "100%|██████████| 5000/5000 [00:00<00:00, 20924.86it/s]\n"
     ]
    },
    {
     "name": "stdout",
     "output_type": "stream",
     "text": [
      "olr: [0.3852144265710501], w: [0.8342442771546086, 0.1657557228453914], means: [[20.597830696743234, 23.566858427338016], [44.48942994457474, 29.59465376079925]], cov: [array([[151.30583352,   5.49107169],\n",
      "       [  5.49107169, 191.42648438]]), array([[  9.66466329,  30.42161395],\n",
      "       [ 30.42161395, 256.38486051]])]\n",
      "olr: [0.6493621716251239], w: [0.4581716271557245, 0.5418283728442755], means: [[12.007722452622566, 18.44147109014676], [35.88590638651527, 29.755992841142543]], cov: [array([[5.82868593e+01, 8.54652363e-02],\n",
      "       [8.54652363e-02, 1.95562301e+02]]), array([[ 66.96532139,   4.33475725],\n",
      "       [  4.33475725, 156.1784225 ]])]\n",
      "olr: [0.596679152552091], w: [0.6252672681783946, 0.3747327318216055], means: [[23.310109325821095, 15.775103705802453], [25.796923513759637, 39.76312378214026]], cov: [array([[205.44427616,  12.12683341],\n",
      "       [ 12.12683341,  94.59283589]]), array([[203.21159454,  -3.89825994],\n",
      "       [ -3.89825994,  37.38777774]])]\n",
      "olr: [0.5006737150256333], w: [0.626889025954811, 0.373110974045189], means: [[21.090269193374212, 33.54299432231314], [31.012600789489177, 9.359319892999043]], cov: [array([[166.47461505,  -5.87559813],\n",
      "       [ -5.87559813,  93.49720984]]), array([[216.17427953, -56.21668228],\n",
      "       [-56.21668228,  38.60533764]])]\n",
      "olr: [0.5861447321328558], w: [0.5196159186610997, 0.48038408133890026], means: [[36.12150329358906, 20.77410080068012], [12.01307892342614, 28.287045836787037]], cov: [array([[ 64.83996054,  -4.45499279],\n",
      "       [ -4.45499279, 202.06774403]]), array([[ 56.55416315,   4.88047642],\n",
      "       [  4.88047642, 184.01978305]])]\n",
      "olr: [0.6138854372601998], w: [0.5920967386950905, 0.4079032613049094], means: [[15.323242279069508, 23.626537621282907], [39.09642244416219, 25.3138552870336]], cov: [array([[ 90.03315154,  14.52273253],\n",
      "       [ 14.52273253, 186.01176326]]), array([[ 42.48516832,  31.78625927],\n",
      "       [ 31.78625927, 237.26098708]])]\n"
     ]
    },
    {
     "name": "stderr",
     "output_type": "stream",
     "text": [
      "100%|██████████| 5000/5000 [00:00<00:00, 23531.30it/s]\n",
      "100%|██████████| 5000/5000 [00:00<00:00, 23525.76it/s]\n",
      "100%|██████████| 5000/5000 [00:00<00:00, 23475.04it/s]\n",
      "100%|██████████| 5000/5000 [00:00<00:00, 23533.44it/s]\n",
      "100%|██████████| 5000/5000 [00:00<00:00, 23658.03it/s]\n",
      "100%|██████████| 5000/5000 [00:00<00:00, 23348.15it/s]\n",
      "  0%|          | 0/5000 [00:00<?, ?it/s]"
     ]
    },
    {
     "name": "stdout",
     "output_type": "stream",
     "text": [
      "olr: [0.5066075325373346], w: [0.7675832253546562, 0.23241677464534385], means: [[19.009144475354304, 22.525810056963152], [42.94311194880391, 31.29105493287847]], cov: [array([[131.35766504,   0.40146829],\n",
      "       [  0.40146829, 226.95511026]]), array([[16.1538454 , -0.77677554],\n",
      "       [-0.77677554, 80.19029453]])]\n",
      "olr: [0.626006861904079], w: [0.43537243460976793, 0.5646275653902322], means: [[25.42066147392725, 11.051455259528291], [23.760697399591795, 35.27369586341979]], cov: [array([[203.96050154,  -2.42753786],\n",
      "       [ -2.42753786,  52.35496005]]), array([[212.14122434, -25.44855859],\n",
      "       [-25.44855859,  74.25536912]])]\n",
      "olr: [0.16046294251167403], w: [0.5166504980485993, 0.4833495019514008], means: [[36.27713323946436, 36.18950507178486], [11.941257869829535, 12.004303629371384]], cov: [array([[66.62432566, -1.73376943],\n",
      "       [-1.73376943, 60.85075232]]), array([[53.02122924, -0.74289795],\n",
      "       [-0.74289795, 53.79668299]])]\n",
      "olr: [0.48856820870958884], w: [0.38334904471891723, 0.6166509552810827], means: [[35.261926069074356, 39.52832933616945], [17.670570738845917, 15.713675016084041]], cov: [array([[100.71380244,  -7.87400706],\n",
      "       [ -7.87400706,  40.61411242]]), array([[155.70275963,   3.51853158],\n",
      "       [  3.51853158,  96.57558346]])]\n",
      "olr: [0.5996934076974729], w: [0.5911365954892955, 0.40886340451070446], means: [[34.77249012226301, 24.97026153628654], [10.41499074131192, 23.64399577049732]], cov: [array([[ 78.32882987,  22.83379682],\n",
      "       [ 22.83379682, 213.27990241]]), array([[ 46.4987805 ,   4.03918349],\n",
      "       [  4.03918349, 200.78032017]])]\n",
      "olr: [0.5410322206589733], w: [0.7754755984376174, 0.22452440156238263], means: [[29.828256919277585, 24.754815704060924], [6.077355537648578, 23.208365956752342]], cov: [array([[137.59810342,   8.03011102],\n",
      "       [  8.03011102, 210.40463302]]), array([[ 16.69230713,   1.17107349],\n",
      "       [  1.17107349, 206.90940638]])]\n"
     ]
    },
    {
     "name": "stderr",
     "output_type": "stream",
     "text": [
      "100%|██████████| 5000/5000 [00:00<00:00, 23657.15it/s]\n",
      "100%|██████████| 5000/5000 [00:00<00:00, 23383.22it/s]\n",
      "100%|██████████| 5000/5000 [00:00<00:00, 23610.09it/s]\n",
      "100%|██████████| 5000/5000 [00:00<00:00, 23721.02it/s]\n",
      "100%|██████████| 5000/5000 [00:00<00:00, 23617.51it/s]\n",
      "100%|██████████| 5000/5000 [00:00<00:00, 23607.03it/s]\n",
      "  0%|          | 0/5000 [00:00<?, ?it/s]"
     ]
    },
    {
     "name": "stdout",
     "output_type": "stream",
     "text": [
      "olr: [0.4282763191381997], w: [0.4636248371226724, 0.5363751628773277], means: [[11.88012024112072, 14.411264645068377], [35.77995872378205, 33.46758205562924]], cov: [array([[ 58.56288649,  -8.50312501],\n",
      "       [ -8.50312501, 118.89953075]]), array([[ 72.85842349,  -1.48158823],\n",
      "       [ -1.48158823, 113.45925656]])]\n",
      "olr: [0.6431348617305083], w: [0.5373926873447661, 0.462607312655234], means: [[28.821183508631464, 35.81630921882211], [18.830888538789996, 11.494365075220786]], cov: [array([[198.34818413,  22.00064567],\n",
      "       [ 22.00064567,  72.87052612]]), array([[172.78444504,  27.7206455 ],\n",
      "       [ 27.7206455 ,  55.78034186]])]\n",
      "olr: [0.664227959237815], w: [0.6049344802544405, 0.39506551974555953], means: [[15.414588348127085, 20.407218468278646], [38.76719998028074, 30.905177223050593]], cov: [array([[ 90.09500179,  36.71042214],\n",
      "       [ 36.71042214, 181.03472834]]), array([[ 44.11602133,  -9.21719344],\n",
      "       [ -9.21719344, 186.97101914]])]\n",
      "olr: [0.5964185367467895], w: [0.6135007430128449, 0.3864992569871552], means: [[21.774851339739516, 33.75043166186646], [28.81224820684625, 9.537107851576513]], cov: [array([[206.33091142, -12.02751475],\n",
      "       [-12.02751475,  91.00609295]]), array([[191.1966626 ,  -9.50720681],\n",
      "       [ -9.50720681,  40.09926813]])]\n",
      "olr: [0.6116989724229768], w: [0.8354914696482849, 0.16450853035171512], means: [[21.98241318695584, 20.809999359783482], [37.38578958103454, 42.07941701694548]], cov: [array([[198.77420925,   4.46179438],\n",
      "       [  4.46179438, 171.29254316]]), array([[56.07679625, -7.26260897],\n",
      "       [-7.26260897, 22.89826461]])]\n",
      "olr: [0.6115013785532771], w: [0.4197215584734056, 0.5802784415265944], means: [[27.943434765059923, 38.3725615463487], [21.48233868298518, 14.49064459990711]], cov: [array([[192.07342197,  34.23644993],\n",
      "       [ 34.23644993,  46.08090469]]), array([[209.27354341,  -3.51121923],\n",
      "       [ -3.51121923,  81.71977189]])]\n"
     ]
    },
    {
     "name": "stderr",
     "output_type": "stream",
     "text": [
      "100%|██████████| 5000/5000 [00:00<00:00, 23665.32it/s]\n",
      "100%|██████████| 5000/5000 [00:00<00:00, 23362.01it/s]\n",
      "100%|██████████| 5000/5000 [00:00<00:00, 23901.46it/s]\n",
      "100%|██████████| 5000/5000 [00:00<00:00, 23971.51it/s]\n",
      "100%|██████████| 5000/5000 [00:00<00:00, 23623.12it/s]\n",
      "100%|██████████| 5000/5000 [00:00<00:00, 23590.46it/s]\n",
      " 46%|████▋     | 2317/5000 [00:00<00:00, 23164.61it/s]"
     ]
    },
    {
     "name": "stdout",
     "output_type": "stream",
     "text": [
      "olr: [0.12922085954783902], w: [0.502642353717269, 0.497357646282731], means: [[36.84812263129163, 36.625153172710256], [11.95995066126633, 11.95085035575092]], cov: [array([[55.62026511, -0.07819427],\n",
      "       [-0.07819427, 58.56063953]]), array([[ 5.59264264e+01, -9.88200890e-03],\n",
      "       [-9.88200890e-03,  5.29685996e+01]])]\n",
      "olr: [0.5844278684476615], w: [0.7429683604126458, 0.2570316395873541], means: [[30.132482667495317, 20.194521488116816], [7.6952345654566106, 38.36768693725109]], cov: [array([[137.40759421, -19.87966305],\n",
      "       [-19.87966305, 178.60685183]]), array([[30.0809882 ,  2.43285992],\n",
      "       [ 2.43285992, 46.1740377 ]])]\n",
      "olr: [0.6295710190812777], w: [0.4820399347559514, 0.5179600652440486], means: [[19.749656579838682, 11.817373854387276], [28.289587970258065, 35.91233210127912]], cov: [array([[157.18212009,  12.46480657],\n",
      "       [ 12.46480657,  57.61023021]]), array([[220.00601479,  55.13365557],\n",
      "       [ 55.13365557,  69.77163262]])]\n",
      "olr: [0.6095891518165091], w: [0.5214035696893898, 0.4785964303106102], means: [[12.944239051904193, 24.068034380422137], [37.13907255824826, 25.62919441476037]], cov: [array([[ 67.45519051,  21.2703085 ],\n",
      "       [ 21.2703085 , 220.93636709]]), array([[ 55.42694698,   5.11973213],\n",
      "       [  5.11973213, 197.0826439 ]])]\n",
      "olr: [0.6285776279415323], w: [0.43839024226436224, 0.5616097577356378], means: [[38.232887618946286, 24.64760247633168], [14.310426454604311, 24.665047906246933]], cov: [array([[ 48.53269689,  16.13359702],\n",
      "       [ 16.13359702, 216.16962946]]), array([[ 81.70063163,   4.66741368],\n",
      "       [  4.66741368, 196.5950423 ]])]\n",
      "olr: [0.5550846397188673], w: [0.6271640155710299, 0.37283598442897026], means: [[15.672239931230626, 21.459202382869133], [39.94983234933519, 30.36874372507199]], cov: [array([[ 97.26290166,  -4.47549598],\n",
      "       [ -4.47549598, 192.2988255 ]]), array([[ 35.75828441,  30.19983243],\n",
      "       [ 30.19983243, 184.62805227]])]\n"
     ]
    },
    {
     "name": "stderr",
     "output_type": "stream",
     "text": [
      "\r",
      " 48%|████▊     | 2401/5000 [00:00<00:00, 24003.38it/s]\r",
      " 47%|████▋     | 2361/5000 [00:00<00:00, 23604.06it/s]\r",
      " 47%|████▋     | 2370/5000 [00:00<00:00, 23694.15it/s]\r",
      " 48%|████▊     | 2418/5000 [00:00<00:00, 24176.56it/s]\r",
      " 47%|████▋     | 2367/5000 [00:00<00:00, 23668.61it/s]\r",
      " 94%|█████████▎| 4681/5000 [00:00<00:00, 23442.66it/s]\r",
      "100%|██████████| 5000/5000 [00:00<00:00, 23378.84it/s]\n",
      "\r",
      " 94%|█████████▍| 4722/5000 [00:00<00:00, 23550.86it/s]\r",
      " 96%|█████████▌| 4802/5000 [00:00<00:00, 23585.30it/s]\r",
      "100%|██████████| 5000/5000 [00:00<00:00, 23598.53it/s]\n",
      "\r",
      "100%|██████████| 5000/5000 [00:00<00:00, 23521.43it/s]\n",
      "\r",
      " 95%|█████████▍| 4740/5000 [00:00<00:00, 23689.33it/s]\r",
      " 95%|█████████▍| 4734/5000 [00:00<00:00, 23646.03it/s]\r",
      " 97%|█████████▋| 4836/5000 [00:00<00:00, 23640.33it/s]\r",
      "100%|██████████| 5000/5000 [00:00<00:00, 23652.37it/s]\n",
      "\r",
      "100%|██████████| 5000/5000 [00:00<00:00, 23685.77it/s]\n",
      "\r",
      "100%|██████████| 5000/5000 [00:00<00:00, 23604.06it/s]\n"
     ]
    },
    {
     "name": "stdout",
     "output_type": "stream",
     "text": [
      "olr: [0.6645344841291805], w: [0.5624866869303419, 0.4375133130696581], means: [[35.43902944422667, 28.060953898790622], [11.303010884843067, 20.33832284309819]], cov: [array([[ 72.6892777 ,  17.96595091],\n",
      "       [ 17.96595091, 189.7853664 ]]), array([[5.52166393e+01, 1.03310349e-01],\n",
      "       [1.03310349e-01, 2.01186493e+02]])]\n",
      "olr: [0.16531754732933837], w: [0.7644375279997325, 0.23556247200026736], means: [[18.844448461540583, 18.76102867110609], [42.60269607601239, 43.4032022720324]], cov: [array([[132.04527772,  -4.57384656],\n",
      "       [ -4.57384656, 124.82279458]]), array([[20.46881728,  0.34814328],\n",
      "       [ 0.34814328, 13.46746445]])]\n",
      "olr: [0.6260541735482112], w: [0.392695640449622, 0.6073043595503779], means: [[27.783825945533597, 39.20318493292929], [21.87834232906697, 15.425017189130463]], cov: [array([[197.99667703,   5.85189555],\n",
      "       [  5.85189555,  42.30472581]]), array([[206.86706883,  21.00841107],\n",
      "       [ 21.00841107,  85.64075225]])]\n",
      "olr: [0.5803102647717714], w: [0.48885908026334657, 0.5111409197366534], means: [[12.114387006521053, 23.2389018432434], [36.517467471895266, 25.42127095845984]], cov: [array([[ 58.95900801,  24.45244031],\n",
      "       [ 24.45244031, 220.72640783]]), array([[ 62.29979689,   4.18233806],\n",
      "       [  4.18233806, 203.53330229]])]\n",
      "olr: [0.5694283331628214], w: [0.3727657686234983, 0.6272342313765018], means: [[9.180606045758356, 25.95576676858615], [33.52461214493459, 24.237801270718883]], cov: [array([[ 37.44128707, -31.65352393],\n",
      "       [-31.65352393, 232.01833952]]), array([[ 95.14602207, -10.04750542],\n",
      "       [-10.04750542, 187.84242283]])]\n",
      "olr: [0.7360293192060379], w: [0.7561593731411534, 0.2438406268588465], means: [[20.01931141498508, 19.381924065319726], [37.84443203170242, 39.50931628007691]], cov: [array([[180.92818223,  17.29701026],\n",
      "       [ 17.29701026, 163.53371313]]), array([[55.28664114, -9.53802935],\n",
      "       [-9.53802935, 46.07422648]])]\n"
     ]
    },
    {
     "name": "stderr",
     "output_type": "stream",
     "text": [
      "100%|██████████| 5000/5000 [00:00<00:00, 21136.96it/s]\n",
      "100%|██████████| 5000/5000 [00:00<00:00, 21831.62it/s]\n",
      "100%|██████████| 5000/5000 [00:00<00:00, 22156.80it/s]\n",
      "100%|██████████| 5000/5000 [00:00<00:00, 22011.38it/s]\n",
      "100%|██████████| 5000/5000 [00:00<00:00, 22283.46it/s]\n",
      "100%|██████████| 5000/5000 [00:00<00:00, 22590.98it/s]\n",
      "  0%|          | 0/5000 [00:00<?, ?it/s]"
     ]
    },
    {
     "name": "stdout",
     "output_type": "stream",
     "text": [
      "olr: [0.12169981904457998], w: [0.7210739554351778, 0.27892604456482206], means: [[31.465036115249188, 31.461740897824644], [6.3629122667106355, 6.651792050554573]], cov: [array([[109.35780724,   2.64699571],\n",
      "       [  2.64699571, 111.28550685]]), array([[16.59280403,  0.01870553],\n",
      "       [ 0.01870553, 16.02287514]])]\n",
      "olr: [0.600529456909682], w: [0.3679494128987151, 0.6320505871012848], means: [[23.70501610888346, 9.16888094092256], [24.391960951554722, 33.27315260839919]], cov: [array([[203.17256195,   6.78857023],\n",
      "       [  6.78857023,  37.73733626]]), array([[208.7061644 ,   3.0647382 ],\n",
      "       [  3.0647382 ,  96.42069571]])]\n",
      "olr: [0.6009892233953713], w: [0.47864513530507147, 0.5213548646949286], means: [[37.32651099693333, 24.633648618229703], [13.027685274176852, 24.637007907437265]], cov: [array([[ 54.77268196,   6.33771068],\n",
      "       [  6.33771068, 206.8889134 ]]), array([[ 68.08590423,   3.85924241],\n",
      "       [  3.85924241, 208.37034318]])]\n",
      "olr: [0.43424815928308236], w: [0.2210818919458812, 0.7789181080541188], means: [[41.37878945430388, 7.427047453332325], [19.73159794603772, 29.025919494831683]], cov: [array([[36.90324326,  1.2477871 ],\n",
      "       [ 1.2477871 , 22.71064387]]), array([[147.0108153 ,  -6.39538035],\n",
      "       [ -6.39538035, 154.41361196]])]\n",
      "olr: [0.5805964674446049], w: [0.617568892066089, 0.38243110793391094], means: [[33.6240643839356, 24.027817206138806], [9.44019389834247, 26.048005359856464]], cov: [array([[ 91.41758697,  -6.7444337 ],\n",
      "       [ -6.7444337 , 186.40586777]]), array([[ 39.50073068, -38.66483179],\n",
      "       [-38.66483179, 250.74271988]])]\n",
      "olr: [0.6215753956996404], w: [0.5177544203569406, 0.4822455796430594], means: [[23.783660470009703, 12.634687583378964], [25.398065169305355, 36.89475944402815]], cov: [array([[195.76609168,  -2.62681086],\n",
      "       [ -2.62681086,  65.45593343]]), array([[217.92842112,   2.6028655 ],\n",
      "       [  2.6028655 ,  58.44262216]])]\n"
     ]
    },
    {
     "name": "stderr",
     "output_type": "stream",
     "text": [
      "100%|██████████| 5000/5000 [00:00<00:00, 23344.54it/s]\n",
      "100%|██████████| 5000/5000 [00:00<00:00, 23672.88it/s]\n",
      "100%|██████████| 5000/5000 [00:00<00:00, 23972.88it/s]\n",
      "100%|██████████| 5000/5000 [00:00<00:00, 23391.67it/s]\n",
      "100%|██████████| 5000/5000 [00:00<00:00, 23620.51it/s]\n",
      "100%|██████████| 5000/5000 [00:00<00:00, 24007.78it/s]\n",
      "  0%|          | 0/5000 [00:00<?, ?it/s]"
     ]
    },
    {
     "name": "stdout",
     "output_type": "stream",
     "text": [
      "olr: [0.6146186797821063], w: [0.3762692687164368, 0.6237307312835632], means: [[9.55023122516174, 18.037318764570912], [33.36045578196098, 28.571481835080217]], cov: [array([[ 40.90185836,  -6.46777735],\n",
      "       [ -6.46777735, 180.78419892]]), array([[ 95.24962174,  13.54967233],\n",
      "       [ 13.54967233, 177.54575518]])]\n",
      "olr: [0.5915612023526202], w: [0.4050756820402905, 0.5949243179597095], means: [[24.462428432789192, 10.127468232489061], [24.251933704285467, 34.29009082759443]], cov: [array([[213.30142604,   0.24129223],\n",
      "       [  0.24129223,  42.46419517]]), array([[207.42671637, -10.93223712],\n",
      "       [-10.93223712,  81.15216029]])]\n",
      "olr: [0.5655500109087646], w: [0.4358056370436751, 0.5641943629563249], means: [[38.20869584390012, 25.896372268478817], [13.974324248523972, 23.034287188405425]], cov: [array([[ 47.57880761,  33.77213189],\n",
      "       [ 33.77213189, 219.80812048]]), array([[ 77.18766927,   8.72297816],\n",
      "       [  8.72297816, 194.31203948]])]\n",
      "olr: [0.5298083672356912], w: [0.44483797494884675, 0.5551620250511533], means: [[21.810544109520492, 38.24298472375138], [26.117135307395053, 13.845450107612317]], cov: [array([[231.6692176 , -42.73037659],\n",
      "       [-42.73037659,  47.34684228]]), array([[188.74944728,   4.25871278],\n",
      "       [  4.25871278,  75.38027241]])]\n",
      "olr: [0.47966692581349585], w: [0.5481285219193976, 0.45187147808060235], means: [[27.68115154152343, 35.621953098505564], [20.370773033999694, 11.272655494590547]], cov: [array([[203.44431078, -46.66855081],\n",
      "       [-46.66855081,  74.6179917 ]]), array([[191.18891828,  47.86560493],\n",
      "       [ 47.86560493,  53.89056209]])]\n",
      "olr: [0.5642821623918219], w: [0.36753036551710216, 0.6324696344828978], means: [[25.47606108627056, 39.646984740654695], [23.73516946675309, 15.735347064927483]], cov: [array([[231.30285516,  36.91091236],\n",
      "       [ 36.91091236,  36.92179689]]), array([[193.24099203,  13.90954615],\n",
      "       [ 13.90954615,  96.0277425 ]])]\n"
     ]
    },
    {
     "name": "stderr",
     "output_type": "stream",
     "text": [
      "100%|██████████| 5000/5000 [00:00<00:00, 23424.56it/s]\n",
      "100%|██████████| 5000/5000 [00:00<00:00, 23496.16it/s]\n",
      "100%|██████████| 5000/5000 [00:00<00:00, 23487.05it/s]\n",
      "100%|██████████| 5000/5000 [00:00<00:00, 23452.51it/s]\n",
      "100%|██████████| 5000/5000 [00:00<00:00, 23282.70it/s]\n",
      "100%|██████████| 5000/5000 [00:00<00:00, 23414.83it/s]\n",
      "  0%|          | 0/5000 [00:00<?, ?it/s] 23415.95it/s]"
     ]
    },
    {
     "name": "stdout",
     "output_type": "stream",
     "text": [
      "olr: [0.4553173426309793], w: [0.7431407166631415, 0.25685928333685853], means: [[18.11279341142835, 23.92821583509238], [42.492704883652955, 25.145941590783444]], cov: [array([[1.23801396e+02, 1.02822871e-01],\n",
      "       [1.02822871e-01, 2.03004098e+02]]), array([[ 18.82317094,  26.44826326],\n",
      "       [ 26.44826326, 222.61082477]])]\n",
      "olr: [0.07225206191809078], w: [0.062333704542501936, 0.937666295457498], means: [[48.02360109818112, 47.880331799518984], [23.119217511707635, 22.72454672567216]], cov: [array([[0.78591322, 0.09015   ],\n",
      "       [0.09015   , 0.95636394]]), array([[183.12647881,   0.32899623],\n",
      "       [  0.32899623, 185.07623905]])]\n",
      "olr: [0.24390879099974938], w: [0.3965388206866041, 0.6034611793133958], means: [[38.82659335227898, 38.30984171129535], [14.642115787567855, 14.887884846767747]], cov: [array([[46.33802207, -1.18759108],\n",
      "       [-1.18759108, 46.32473534]]), array([[83.19142801,  1.11851993],\n",
      "       [ 1.11851993, 93.53443061]])]\n",
      "olr: [0.6077275586697202], w: [0.4072292181236121, 0.5927707818763879], means: [[29.721141341651865, 38.55700435363894], [21.396605968919935, 14.905021526046239]], cov: [array([[145.92777459,   5.94668899],\n",
      "       [  5.94668899,  47.14091593]]), array([[217.01768226,  63.60751861],\n",
      "       [ 63.60751861,  81.1497233 ]])]\n",
      "olr: [0.5985850192467619], w: [0.3347178764536995, 0.6652821235463006], means: [[24.498879600653616, 40.32797575574936], [24.267279208578824, 16.49661881016324]], cov: [array([[199.92546034, -11.11527112],\n",
      "       [-11.11527112,  33.83769176]]), array([[211.65237734,  48.429668  ],\n",
      "       [ 48.429668  , 102.8344638 ]])]\n",
      "olr: [0.6403566569687081], w: [0.49697409695527306, 0.5030259030447269], means: [[36.76176515006972, 27.946729190745565], [12.578984350035853, 21.46966872323348]], cov: [array([[ 61.3479067 ,  -5.71690266],\n",
      "       [ -5.71690266, 147.52904009]]), array([[ 62.50625301,  37.4772378 ],\n",
      "       [ 37.4772378 , 248.06878503]])]\n"
     ]
    },
    {
     "name": "stderr",
     "output_type": "stream",
     "text": [
      "\r",
      "  0%|          | 0/5000 [00:00<?, ?it/s]\r",
      "  0%|          | 0/5000 [00:00<?, ?it/s]\r",
      " 48%|████▊     | 2381/5000 [00:00<00:00, 23807.35it/s]\r",
      "  0%|          | 0/5000 [00:00<?, ?it/s]\r",
      " 94%|█████████▍| 4717/5000 [00:00<00:00, 23606.26it/s]\r",
      " 47%|████▋     | 2368/5000 [00:00<00:00, 23670.99it/s]\r",
      "100%|██████████| 5000/5000 [00:00<00:00, 23524.12it/s]\n",
      "\r",
      " 46%|████▋     | 2322/5000 [00:00<00:00, 23214.60it/s]\r",
      " 47%|████▋     | 2359/5000 [00:00<00:00, 23584.01it/s]\r",
      " 96%|█████████▌| 4797/5000 [00:00<00:00, 24009.71it/s]\r",
      " 48%|████▊     | 2413/5000 [00:00<00:00, 24128.53it/s]\r",
      "100%|██████████| 5000/5000 [00:00<00:00, 23928.21it/s]\n",
      "\r",
      " 95%|█████████▌| 4770/5000 [00:00<00:00, 23873.23it/s]\r",
      " 94%|█████████▎| 4682/5000 [00:00<00:00, 23440.34it/s]\r",
      "100%|██████████| 5000/5000 [00:00<00:00, 23805.14it/s]\n"
     ]
    },
    {
     "name": "stdout",
     "output_type": "stream",
     "text": [
      "2024-01-16 22:50:51,889 - MultiprocessingDispatcher - 54 individuals out of 54 in previous population were evaluated successfully.\n",
      "2024-01-16 22:50:51,893 - EvoGraphOptimizer - Generation num: 11 size: 55\n",
      "2024-01-16 22:50:51,893 - EvoGraphOptimizer - Best individuals: HallOfFame archive fitness (1): ['<custom=0.000>']\n",
      "2024-01-16 22:50:51,894 - EvoGraphOptimizer - Next population size: 55; max graph depth: 100\n"
     ]
    },
    {
     "name": "stderr",
     "output_type": "stream",
     "text": [
      "\r",
      " 95%|█████████▍| 4739/5000 [00:00<00:00, 23708.30it/s]\r",
      "100%|██████████| 5000/5000 [00:00<00:00, 23668.10it/s]\n",
      "\r",
      "100%|██████████| 5000/5000 [00:00<00:00, 23383.87it/s]\n",
      "\r",
      " 97%|█████████▋| 4826/5000 [00:00<00:00, 23866.00it/s]\r",
      "100%|██████████| 5000/5000 [00:00<00:00, 23923.79it/s]\n"
     ]
    },
    {
     "name": "stdout",
     "output_type": "stream",
     "text": [
      "2024-01-16 22:50:51,909 - MultiprocessingDispatcher - Number of used CPU's: 6\n",
      "olr: [0.45203282361789204], w: [0.7963142465606049, 0.203685753439395], means: [[20.05292107202531, 20.495847669455017], [42.21293399270108, 40.044354441822904]], cov: [array([[158.05055725,  -2.03300304],\n",
      "       [ -2.03300304, 170.17905691]]), array([[20.98412902, -4.4579965 ],\n",
      "       [-4.4579965 , 48.1827021 ]])]\n",
      "olr: [0.10809591695147523], w: [0.25051329581321563, 0.7494867041867844], means: [[43.10292116395439, 43.15543677624708], [18.005849983267165, 17.825518753424017]], cov: [array([[14.15934207,  0.463586  ],\n",
      "       [ 0.463586  , 13.82435138]]), array([[114.38395226,   1.7312656 ],\n",
      "       [  1.7312656 , 114.16398337]])]\n",
      "olr: [0.5624221009896512], w: [0.49194664276725797, 0.508053357232742], means: [[23.26856680990398, 11.726321714102262], [25.61720435576195, 36.18020654534899]], cov: [array([[191.29405126, -10.80405638],\n",
      "       [-10.80405638,  59.23991522]]), array([[220.77643231,  44.5304681 ],\n",
      "       [ 44.5304681 ,  66.18089414]])]\n",
      "olr: [0.6252625063851982], w: [0.44784635113270244, 0.5521536488672975], means: [[28.869687327052716, 37.938819111122136], [20.87682639766057, 13.611135795657]], cov: [array([[195.69287721,  23.14838922],\n",
      "       [ 23.14838922,  53.39714405]]), array([[190.5941787 ,  34.07167539],\n",
      "       [ 34.07167539,  72.84892143]])]\n",
      "olr: [0.22632695212773118], w: [0.3424179544031078, 0.6575820455968922], means: [[8.260324730893366, 8.873893095350306], [32.659827996744866, 32.38686308621286]], cov: [array([[28.49181758, -1.72317389],\n",
      "       [-1.72317389, 38.60156344]]), array([[ 95.979754  ,   2.92980316],\n",
      "       [  2.92980316, 114.20511661]])]\n",
      "olr: [0.5369013042204851], w: [0.7267809679148565, 0.27321903208514337], means: [[18.040002096548626, 27.962815180260833], [41.73966113579697, 15.569040286842709]], cov: [array([[124.13747156,   6.3827819 ],\n",
      "       [  6.3827819 , 181.49121924]]), array([[ 24.97345276,   3.87082494],\n",
      "       [  3.87082494, 174.95059787]])]\n"
     ]
    },
    {
     "name": "stderr",
     "output_type": "stream",
     "text": [
      "100%|██████████| 5000/5000 [00:00<00:00, 24135.60it/s]\n",
      "100%|██████████| 5000/5000 [00:00<00:00, 23888.85it/s]\n",
      "100%|██████████| 5000/5000 [00:00<00:00, 23621.13it/s]\n",
      "100%|██████████| 5000/5000 [00:00<00:00, 23760.72it/s]\n",
      "100%|██████████| 5000/5000 [00:00<00:00, 23410.89it/s]\n",
      "100%|██████████| 5000/5000 [00:00<00:00, 23689.00it/s]\n",
      "  0%|          | 0/5000 [00:00<?, ?it/s]"
     ]
    },
    {
     "name": "stdout",
     "output_type": "stream",
     "text": [
      "olr: [0.28926670832381823], w: [0.5089939210225829, 0.49100607897741705], means: [[36.163768476042215, 35.05866452067856], [12.16861041083198, 13.390776940069012]], cov: [array([[63.84355543, -1.81475032],\n",
      "       [-1.81475032, 90.49242644]]), array([[57.14871392, -6.23745877],\n",
      "       [-6.23745877, 89.7990527 ]])]\n",
      "olr: [0.546884093549712], w: [0.6020508067492503, 0.39794919325074973], means: [[21.849572793024187, 15.31121917980334], [28.835457559535445, 39.35996957937129]], cov: [array([[184.08656921,   2.7799861 ],\n",
      "       [  2.7799861 ,  89.70308273]]), array([[233.48140785,  52.26787914],\n",
      "       [ 52.26787914,  41.91236496]])]\n",
      "olr: [0.5996364467948265], w: [0.615450789643485, 0.384549210356515], means: [[33.93953774574834, 23.116970810435337], [9.690527490069497, 27.083769203157175]], cov: [array([[ 88.50780426,  -0.33145079],\n",
      "       [ -0.33145079, 216.38015423]]), array([[ 41.86986038,  -5.53534241],\n",
      "       [ -5.53534241, 181.46403043]])]\n",
      "olr: [0.23126597703211288], w: [0.535917323590886, 0.46408267640911394], means: [[13.45097138441745, 13.383699911709382], [37.34246567886978, 37.16157538354175]], cov: [array([[70.58192147,  0.28238616],\n",
      "       [ 0.28238616, 81.7366902 ]]), array([[61.9853521 , -3.85183977],\n",
      "       [-3.85183977, 52.9703151 ]])]\n",
      "olr: [0.6245175850902907], w: [0.5066646859143492, 0.4933353140856507], means: [[36.459197481345676, 24.932417503831303], [12.152408287528122, 23.96387239832452]], cov: [array([[ 65.33066085,   6.23165801],\n",
      "       [  6.23165801, 205.01031551]]), array([[ 61.35029537,   0.94999756],\n",
      "       [  0.94999756, 196.51456265]])]\n",
      "olr: [0.3534260151723822], w: [0.8374369635426822, 0.1625630364573179], means: [[27.033012759266636, 28.344891170496094], [10.256672831691844, 4.784238921595879]], cov: [array([[189.46766545, -27.49008273],\n",
      "       [-27.49008273, 156.11463838]]), array([[46.47367085, -0.73480637],\n",
      "       [-0.73480637, 13.36936431]])]\n"
     ]
    },
    {
     "name": "stderr",
     "output_type": "stream",
     "text": [
      "100%|██████████| 5000/5000 [00:00<00:00, 23769.71it/s]\n",
      "100%|██████████| 5000/5000 [00:00<00:00, 23852.25it/s]\n",
      "100%|██████████| 5000/5000 [00:00<00:00, 23716.95it/s]\n",
      "100%|██████████| 5000/5000 [00:00<00:00, 23849.13it/s]\n",
      "100%|██████████| 5000/5000 [00:00<00:00, 23651.68it/s]\n",
      "100%|██████████| 5000/5000 [00:00<00:00, 23637.85it/s]\n",
      "  0%|          | 0/5000 [00:00<?, ?it/s]"
     ]
    },
    {
     "name": "stdout",
     "output_type": "stream",
     "text": [
      "olr: [0.15717011202100445], w: [0.6941813381057237, 0.30581866189427626], means: [[31.73170507232447, 32.05387708402909], [7.581102141239368, 7.354674500243195]], cov: [array([[109.99696284,  -1.3762624 ],\n",
      "       [ -1.3762624 , 103.89434508]]), array([[23.97974652,  0.30202696],\n",
      "       [ 0.30202696, 20.16175095]])]\n",
      "olr: [0.6525933529043952], w: [0.5043831845444202, 0.4956168154555798], means: [[25.03087674111293, 36.402073210072295], [23.680888766031995, 12.643651697984472]], cov: [array([[207.480943  ,   2.68920414],\n",
      "       [  2.68920414,  65.09829333]]), array([[212.84632974,   2.51400353],\n",
      "       [  2.51400353,  62.12094099]])]\n",
      "olr: [0.42784234501065654], w: [0.37592691588510135, 0.6240730841148986], means: [[10.61346237292055, 10.637518710440997], [33.07579568595049, 33.19077673072702]], cov: [array([[47.66334451, -2.07489326],\n",
      "       [-2.07489326, 59.36278064]]), array([[118.93615019,  -2.6525667 ],\n",
      "       [ -2.6525667 , 112.09756511]])]\n",
      "olr: [0.6763433073824423], w: [0.5508547664469687, 0.4491452335530313], means: [[13.28395266523252, 24.798956215629307], [37.18679418008045, 24.48467877242305]], cov: [array([[ 73.42121274,   1.49430315],\n",
      "       [  1.49430315, 196.6554451 ]]), array([[ 55.85396819,  10.15536685],\n",
      "       [ 10.15536685, 215.24635134]])]\n",
      "olr: [0.5935076452832937], w: [0.5002518689170206, 0.4997481310829795], means: [[36.445442203717214, 25.89358312693593], [12.20714805048518, 22.64037811061547]], cov: [array([[ 61.11151941, -15.25971347],\n",
      "       [-15.25971347, 218.67786954]]), array([[ 62.90342653,  -6.48355914],\n",
      "       [ -6.48355914, 197.74328114]])]\n",
      "olr: [0.5810135180828139], w: [0.42769518902281456, 0.5723048109771856], means: [[10.731509778380216, 19.466782800372815], [34.81149295742985, 28.220539720698486]], cov: [array([[ 46.80329646,  -2.31893737],\n",
      "       [ -2.31893737, 187.12426867]]), array([[ 78.56359517,   8.76861774],\n",
      "       [  8.76861774, 189.10421037]])]\n"
     ]
    },
    {
     "name": "stderr",
     "output_type": "stream",
     "text": [
      "100%|██████████| 5000/5000 [00:00<00:00, 22371.15it/s]\n",
      "100%|██████████| 5000/5000 [00:00<00:00, 21509.41it/s]\n",
      "100%|██████████| 5000/5000 [00:00<00:00, 21369.40it/s]\n",
      "100%|██████████| 5000/5000 [00:00<00:00, 21422.57it/s]\n",
      "100%|██████████| 5000/5000 [00:00<00:00, 21466.27it/s]\n",
      "100%|██████████| 5000/5000 [00:00<00:00, 21290.69it/s]\n",
      "  0%|          | 0/5000 [00:00<?, ?it/s]"
     ]
    },
    {
     "name": "stdout",
     "output_type": "stream",
     "text": [
      "olr: [0.6346511716196851], w: [0.41777902219664437, 0.5822209778033557], means: [[23.201880925396015, 10.140237895826168], [25.18792938240389, 34.21453724013438]], cov: [array([[186.4699848 ,  11.60272863],\n",
      "       [ 11.60272863,  43.48612554]]), array([[217.05231819,  11.93585334],\n",
      "       [ 11.93585334,  86.3124587 ]])]\n",
      "olr: [0.1418236655652035], w: [0.5004095296631427, 0.4995904703368572], means: [[36.70097099659109, 36.906783081568165], [12.04563482037105, 11.901536137716397]], cov: [array([[56.40880423,  6.03851843],\n",
      "       [ 6.03851843, 55.06153062]]), array([[52.28843275,  0.96818876],\n",
      "       [ 0.96818876, 53.83503246]])]\n",
      "olr: [0.40375067651977403], w: [0.4536872449018745, 0.5463127550981255], means: [[35.43594868995062, 37.80093922998328], [15.325950181903053, 13.965985518085226]], cov: [array([[71.16729813, -5.03574044],\n",
      "       [-5.03574044, 53.98317504]]), array([[148.13815976,  -8.04337114],\n",
      "       [ -8.04337114,  74.13373207]])]\n",
      "olr: [0.6310996581559415], w: [0.46651269705704274, 0.5334873029429572], means: [[28.88949422068874, 37.021744358356756], [21.0259627035436, 13.162236759695608]], cov: [array([[163.60191628,  18.38578129],\n",
      "       [ 18.38578129,  60.61094871]]), array([[218.58664056,  59.38649274],\n",
      "       [ 59.38649274,  68.99345841]])]\n",
      "olr: [0.6848941817517286], w: [0.5518386341900462, 0.4481613658099538], means: [[35.58994141890236, 26.773437784026427], [11.496518284608428, 22.428936154557483]], cov: [array([[ 70.75173733,   3.32134144],\n",
      "       [  3.32134144, 272.29629475]]), array([[ 52.28238242,  -1.40733521],\n",
      "       [ -1.40733521, 122.80820962]])]\n",
      "olr: [0.627356400280058], w: [0.4796735622248634, 0.5203264377751365], means: [[11.797324777075236, 21.96735993430487], [36.121430384782904, 26.896265866244942]], cov: [array([[ 59.75726415,  21.1644057 ],\n",
      "       [ 21.1644057 , 206.47247241]]), array([[ 68.79298902,   4.79833425],\n",
      "       [  4.79833425, 192.01426535]])]\n"
     ]
    },
    {
     "name": "stderr",
     "output_type": "stream",
     "text": [
      "100%|██████████| 5000/5000 [00:00<00:00, 22466.61it/s]\n",
      "100%|██████████| 5000/5000 [00:00<00:00, 22561.50it/s]\n",
      "100%|██████████| 5000/5000 [00:00<00:00, 22965.75it/s]\n",
      "100%|██████████| 5000/5000 [00:00<00:00, 22856.17it/s]\n",
      "100%|██████████| 5000/5000 [00:00<00:00, 23017.42it/s]\n",
      "100%|██████████| 5000/5000 [00:00<00:00, 23170.34it/s]\n",
      "  0%|          | 0/5000 [00:00<?, ?it/s]"
     ]
    },
    {
     "name": "stdout",
     "output_type": "stream",
     "text": [
      "olr: [0.16357998137067503], w: [0.4802134941603901, 0.51978650583961], means: [[12.22994435567713, 12.14299257909416], [36.59697870926057, 36.895092289962456]], cov: [array([[57.45293256,  2.2854424 ],\n",
      "       [ 2.2854424 , 59.39182787]]), array([[61.87039003, -0.91550394],\n",
      "       [-0.91550394, 56.8349072 ]])]\n",
      "olr: [0.6355138199199892], w: [0.5297351179010932, 0.4702648820989067], means: [[23.023795267983882, 13.054005721055681], [26.452936574089183, 37.32754753433421]], cov: [array([[178.59262212,  11.85986915],\n",
      "       [ 11.85986915,  68.61022868]]), array([[228.40416097,  22.05987521],\n",
      "       [ 22.05987521,  55.92410976]])]\n",
      "olr: [0.47761757738527005], w: [0.47607051508819886, 0.5239294849118012], means: [[16.13126919870387, 37.27848203896607], [32.05999823883607, 13.264788591108163]], cov: [array([[154.58641403,   3.13325281],\n",
      "       [  3.13325281,  54.68491837]]), array([[137.11160682,   7.25840723],\n",
      "       [  7.25840723,  70.03910315]])]\n",
      "olr: [0.5814354518840559], w: [0.48789981260956555, 0.5121001873904344], means: [[26.18956571797358, 12.027606266549059], [23.48000662750665, 36.25176013117751]], cov: [array([[175.19450989,  -2.61738516],\n",
      "       [ -2.61738516,  59.21602321]]), array([[237.78135171, -49.54518783],\n",
      "       [-49.54518783,  65.10973477]])]\n",
      "olr: [0.6339325720021666], w: [0.6572915972851184, 0.3427084027148817], means: [[26.682050220980173, 32.59424330355776], [20.848372945656585, 8.732431807907684]], cov: [array([[222.1208059 ,  37.01171327],\n",
      "       [ 37.01171327, 106.27064409]]), array([[160.01144206,   9.67434891],\n",
      "       [  9.67434891,  33.66217449]])]\n",
      "olr: [0.6072575253611857], w: [0.45603134980821186, 0.5439686501917881], means: [[11.689920653848969, 24.324823627723006], [35.79439678777337, 24.74796634412008]], cov: [array([[ 57.3965751 ,  45.04184952],\n",
      "       [ 45.04184952, 231.89660875]]), array([[ 72.32508617,  10.29398394],\n",
      "       [ 10.29398394, 188.81241624]])]\n"
     ]
    },
    {
     "name": "stderr",
     "output_type": "stream",
     "text": [
      "100%|██████████| 5000/5000 [00:00<00:00, 23528.45it/s]\n",
      "100%|██████████| 5000/5000 [00:00<00:00, 23354.57it/s]\n",
      "100%|██████████| 5000/5000 [00:00<00:00, 23558.00it/s]\n",
      "100%|██████████| 5000/5000 [00:00<00:00, 23886.56it/s]\n",
      "100%|██████████| 5000/5000 [00:00<00:00, 24024.48it/s]\n",
      "100%|██████████| 5000/5000 [00:00<00:00, 23573.39it/s]\n",
      " 47%|████▋     | 2344/5000 [00:00<00:00, 23439.24it/s]"
     ]
    },
    {
     "name": "stdout",
     "output_type": "stream",
     "text": [
      "olr: [0.6307992306845628], w: [0.4400560971577985, 0.5599439028422014], means: [[25.952746084864433, 37.85119601852144], [23.441519374961775, 13.611632109301675]], cov: [array([[221.60728758,   8.78968001],\n",
      "       [  8.78968001,  50.53708258]]), array([[190.28528578,   9.89356317],\n",
      "       [  9.89356317,  72.77492826]])]\n",
      "olr: [0.4412738659266134], w: [0.29318432298312397, 0.7068156770168761], means: [[39.636900168968765, 8.242717801101934], [18.585159732524648, 31.075095072372775]], cov: [array([[51.39260746, -3.28444018],\n",
      "       [-3.28444018, 27.18778623]]), array([[144.76225705,   5.97861775],\n",
      "       [  5.97861775, 130.76281973]])]\n",
      "olr: [0.12424577202015466], w: [0.5039953977211535, 0.4960046022788465], means: [[36.802722859139315, 12.37608049457626], [11.857545329952908, 37.192220201489405]], cov: [array([[55.47715114,  0.46459775],\n",
      "       [ 0.46459775, 55.25802386]]), array([[52.90698067, -3.08928059],\n",
      "       [-3.08928059, 52.50277613]])]\n",
      "olr: [0.41794634815334103], w: [0.5145616992435945, 0.48543830075640554], means: [[36.491200480151534, 15.741880135595784], [12.287093672255612, 33.814042654981506]], cov: [array([[ 61.14206156,   3.39252164],\n",
      "       [  3.39252164, 142.3380462 ]]), array([[ 60.59924149,   5.50090213],\n",
      "       [  5.50090213, 108.44995821]])]\n",
      "olr: [0.5653431019446638], w: [0.43001824040525316, 0.5699817595947468], means: [[38.40314505394015, 24.764370541193536], [13.778242909844296, 23.98474815203229]], cov: [array([[ 48.09347268,   1.86468879],\n",
      "       [  1.86468879, 184.46734132]]), array([[ 73.70031897,  12.35701357],\n",
      "       [ 12.35701357, 224.50245165]])]\n",
      "olr: [0.5551051539323341], w: [0.727676753443871, 0.27232324655612905], means: [[25.561610999908932, 30.755190912739984], [20.707045638239123, 7.006241843836708]], cov: [array([[187.17230348,   8.58173426],\n",
      "       [  8.58173426, 121.99724948]]), array([[232.53975849,  26.47847626],\n",
      "       [ 26.47847626,  22.56956256]])]\n"
     ]
    },
    {
     "name": "stderr",
     "output_type": "stream",
     "text": [
      "100%|██████████| 5000/5000 [00:00<00:00, 23446.38it/s]\n",
      "100%|██████████| 5000/5000 [00:00<00:00, 23332.75it/s]\n",
      "100%|██████████| 5000/5000 [00:00<00:00, 23644.11it/s]\n",
      "100%|██████████| 5000/5000 [00:00<00:00, 23604.61it/s]\n",
      "100%|██████████| 5000/5000 [00:00<00:00, 23503.64it/s]\n",
      "100%|██████████| 5000/5000 [00:00<00:00, 23761.53it/s]\n",
      "  0%|          | 0/5000 [00:00<?, ?it/s] 23245.59it/s]"
     ]
    },
    {
     "name": "stdout",
     "output_type": "stream",
     "text": [
      "olr: [0.2817910949710315], w: [0.16990113908865073, 0.8300988609113493], means: [[4.690980208943655, 6.6506470007894345], [28.62887571363158, 28.082977337537802]], cov: [array([[12.87499422, -0.02515477],\n",
      "       [-0.02515477, 16.24218794]]), array([[151.11185173,   4.82066687],\n",
      "       [  4.82066687, 166.02100862]])]\n",
      "olr: [0.561446456124459], w: [0.6948511077592959, 0.3051488922407041], means: [[17.523466913207557, 24.358698693023854], [41.329331104457175, 24.22008212223038]], cov: [array([[114.4489549 ,   4.91114405],\n",
      "       [  4.91114405, 204.89481563]]), array([[ 26.66828084,  16.56867014],\n",
      "       [ 16.56867014, 214.44622271]])]\n",
      "olr: [0.5364429520249294], w: [0.5383013752911671, 0.4616986247088328], means: [[20.68654702993449, 13.278866538990448], [29.143260481328966, 37.77522164107049]], cov: [array([[172.78910529,  26.61752729],\n",
      "       [ 26.61752729,  70.84709269]]), array([[223.13217652,  56.34412389],\n",
      "       [ 56.34412389,  53.43372161]])]\n",
      "olr: [0.6471647102827733], w: [0.38853986627608744, 0.6114601337239125], means: [[39.051735596335995, 28.666868581180328], [15.294936427978529, 21.403159409936567]], cov: [array([[ 42.24281482,   6.14702838],\n",
      "       [  6.14702838, 173.39016299]]), array([[ 91.00237708,  27.94719454],\n",
      "       [ 27.94719454, 212.7345742 ]])]\n",
      "olr: [0.6185255473292606], w: [0.4397121808321618, 0.5602878191678381], means: [[24.269420658222177, 37.666663948012555], [24.46107098168862, 13.919469215537251]], cov: [array([[187.71395481, -12.81015621],\n",
      "       [-12.81015621,  52.76978006]]), array([[224.3412333, -34.9223122],\n",
      "       [-34.9223122,  75.2902853]])]\n",
      "olr: [0.6098525365238059], w: [0.706855857640845, 0.29314414235915504], means: [[17.56775453718698, 23.851917835203995], [41.059424564746074, 25.873729221323764]], cov: [array([[116.39205207,   2.43262315],\n",
      "       [  2.43262315, 198.73125718]]), array([[ 28.87905295,  31.78684806],\n",
      "       [ 31.78684806, 233.1766129 ]])]\n"
     ]
    },
    {
     "name": "stderr",
     "output_type": "stream",
     "text": [
      "100%|██████████| 5000/5000 [00:00<00:00, 22686.48it/s]\n",
      "100%|██████████| 5000/5000 [00:00<00:00, 22329.82it/s]\n",
      "100%|██████████| 5000/5000 [00:00<00:00, 22226.42it/s]\n",
      "100%|██████████| 5000/5000 [00:00<00:00, 21879.77it/s]\n",
      "100%|██████████| 5000/5000 [00:00<00:00, 22223.79it/s]\n",
      "100%|██████████| 5000/5000 [00:00<00:00, 21955.38it/s]\n",
      " 41%|████      | 2059/5000 [00:00<00:00, 20583.89it/s]"
     ]
    },
    {
     "name": "stdout",
     "output_type": "stream",
     "text": [
      "olr: [0.3734342585034071], w: [0.41791534884749587, 0.5820846511525042], means: [[37.40864182274567, 37.30440763318419], [14.51602337564891, 14.732076259784266]], cov: [array([[59.56019819, -5.62007484],\n",
      "       [-5.62007484, 64.63326605]]), array([[100.07393448,   0.27718917],\n",
      "       [  0.27718917,  94.02051089]])]\n",
      "olr: [0.6277077761665874], w: [0.3853325882175, 0.6146674117825], means: [[39.252948819325155, 25.042014988814636], [15.096228396705497, 24.3141172993681]], cov: [array([[ 42.02628722,  17.9690291 ],\n",
      "       [ 17.9690291 , 218.82627648]]), array([[ 93.01949512,   7.29934154],\n",
      "       [  7.29934154, 201.29302582]])]\n",
      "olr: [0.4815640306705614], w: [0.42346929693118257, 0.5765307030688174], means: [[34.76329122492699, 38.30867910900415], [17.233450799896563, 14.326818237747547]], cov: [array([[105.99785278,  -4.33179253],\n",
      "       [ -4.33179253,  46.99969843]]), array([[152.05393841,  -8.29263233],\n",
      "       [ -8.29263233,  87.71788347]])]\n",
      "olr: [0.5970115605446732], w: [0.49077684091557155, 0.5092231590844285], means: [[21.50330232684471, 12.164223688814369], [27.864948719714633, 36.40855761381308]], cov: [array([[176.57806609,  -9.94260814],\n",
      "       [ -9.94260814,  63.00272409]]), array([[210.92212182,  -6.18231091],\n",
      "       [ -6.18231091,  62.82175272]])]\n",
      "olr: [0.44380124755522155], w: [0.8208591793785956, 0.17914082062140438], means: [[20.63945546394993, 27.952956876050273], [42.679906782382155, 7.501130969808348]], cov: [array([[160.28148751,  -2.73585693],\n",
      "       [ -2.73585693, 174.11177524]]), array([[16.50483616, -1.07936236],\n",
      "       [-1.07936236, 35.61729285]])]\n",
      "olr: [0.62182753572681], w: [0.4107100210992814, 0.5892899789007185], means: [[29.7434625423199, 38.75693060646989], [21.510737201614322, 14.963669040024659]], cov: [array([[178.2583855 ,  16.48699879],\n",
      "       [ 16.48699879,  43.51955638]]), array([[199.39616339,  37.56989642],\n",
      "       [ 37.56989642,  83.93992383]])]\n"
     ]
    },
    {
     "name": "stderr",
     "output_type": "stream",
     "text": [
      "100%|██████████| 5000/5000 [00:00<00:00, 21564.68it/s]\n",
      "100%|██████████| 5000/5000 [00:00<00:00, 22014.80it/s]\n",
      "100%|██████████| 5000/5000 [00:00<00:00, 22229.20it/s]\n",
      "100%|██████████| 5000/5000 [00:00<00:00, 22517.92it/s]\n",
      "100%|██████████| 5000/5000 [00:00<00:00, 22499.80it/s]\n",
      "100%|██████████| 5000/5000 [00:00<00:00, 22577.02it/s]\n",
      " 43%|████▎     | 2128/5000 [00:00<00:00, 21272.16it/s]"
     ]
    },
    {
     "name": "stdout",
     "output_type": "stream",
     "text": [
      "olr: [0.6043044382766831], w: [0.5962000673727698, 0.4037999326272302], means: [[33.9946981741948, 28.155972998612395], [10.096481769331348, 19.549797717695398]], cov: [array([[ 86.38144381,   3.81037239],\n",
      "       [  3.81037239, 182.2533602 ]]), array([[ 44.29096454,  -8.59837615],\n",
      "       [ -8.59837615, 192.44363078]])]\n",
      "olr: [0.625359148617713], w: [0.5340377063540672, 0.4659622936459329], means: [[24.611371914060307, 13.572282894493313], [23.826819346083422, 37.71955244600007]], cov: [array([[199.93034129,  -5.61778464],\n",
      "       [ -5.61778464,  74.8150368 ]]), array([[213.32772042, -17.53570771],\n",
      "       [-17.53570771,  53.43321905]])]\n",
      "olr: [0.1362089851073351], w: [0.4034561805126812, 0.5965438194873189], means: [[9.663844524287333, 10.243428447916514], [34.730495099200425, 34.40623272350399]], cov: [array([[37.18803212,  0.4672277 ],\n",
      "       [ 0.4672277 , 36.64546547]]), array([[74.72112635, -4.61382224],\n",
      "       [-4.61382224, 82.02693018]])]\n",
      "olr: [0.6026898910098824], w: [0.57812523483508, 0.4218747651649199], means: [[25.520542021104745, 35.07348003714716], [22.67007045844881, 11.035825087145874]], cov: [array([[212.58946118,   5.01333008],\n",
      "       [  5.01333008,  76.37317804]]), array([[195.41021677,  19.55282814],\n",
      "       [ 19.55282814,  48.73215976]])]\n",
      "olr: [0.277441621198057], w: [0.13396683456177855, 0.8660331654382214], means: [[42.4316581480636, 45.003083946417505], [21.58920214474181, 21.098359771169584]], cov: [array([[16.88826433,  2.09856483],\n",
      "       [ 2.09856483, 12.16051528]]), array([[183.30980957, -23.65213811],\n",
      "       [-23.65213811, 165.07149193]])]\n",
      "olr: [0.6198071436735111], w: [0.3893630336485669, 0.610636966351433], means: [[25.100806525347544, 38.97339564001588], [24.179790346605458, 15.065580613281988]], cov: [array([[212.39355452,  15.68152445],\n",
      "       [ 15.68152445,  41.60049052]]), array([[203.76860422,   4.95134836],\n",
      "       [  4.95134836,  88.45176559]])]\n"
     ]
    },
    {
     "name": "stderr",
     "output_type": "stream",
     "text": [
      "\r",
      "  0%|          | 0/5000 [00:00<?, ?it/s]\r",
      "  0%|          | 0/5000 [00:00<?, ?it/s]\r",
      " 45%|████▍     | 2243/5000 [00:00<00:00, 22421.68it/s]\r",
      " 47%|████▋     | 2345/5000 [00:00<00:00, 23449.07it/s]\r",
      " 48%|████▊     | 2378/5000 [00:00<00:00, 23775.03it/s]\r",
      " 89%|████████▉ | 4470/5000 [00:00<00:00, 22531.66it/s]\r",
      " 47%|████▋     | 2357/5000 [00:00<00:00, 23567.27it/s]\r",
      "100%|██████████| 5000/5000 [00:00<00:00, 22403.48it/s]\n",
      "\r",
      " 47%|████▋     | 2367/5000 [00:00<00:00, 23662.29it/s]\r",
      " 92%|█████████▏| 4620/5000 [00:00<00:00, 23210.18it/s]\r",
      "100%|██████████| 5000/5000 [00:00<00:00, 23144.54it/s]\n",
      "\r",
      " 95%|█████████▍| 4726/5000 [00:00<00:00, 23658.14it/s]\r",
      "100%|██████████| 5000/5000 [00:00<00:00, 23620.89it/s]\n",
      "\r",
      " 95%|█████████▌| 4756/5000 [00:00<00:00, 23711.23it/s]\r",
      "100%|██████████| 5000/5000 [00:00<00:00, 23700.86it/s]\n",
      "\r",
      " 95%|█████████▍| 4737/5000 [00:00<00:00, 23700.85it/s]"
     ]
    },
    {
     "name": "stdout",
     "output_type": "stream",
     "text": [
      "2024-01-16 22:50:55,636 - MultiprocessingDispatcher - 54 individuals out of 54 in previous population were evaluated successfully.\n",
      "2024-01-16 22:50:55,639 - EvoGraphOptimizer - Generation num: 12 size: 55\n",
      "2024-01-16 22:50:55,639 - EvoGraphOptimizer - Best individuals: HallOfFame archive fitness (1): ['<custom=0.000>']\n",
      "2024-01-16 22:50:55,640 - EvoGraphOptimizer - no improvements for 1 iterations\n",
      "2024-01-16 22:50:55,640 - EvoGraphOptimizer - spent time: 0.6 min\n",
      "2024-01-16 22:50:55,641 - EvoGraphOptimizer - Next population size: 55; max graph depth: 100\n",
      "2024-01-16 22:50:55,656 - MultiprocessingDispatcher - Number of used CPU's: 6\n"
     ]
    },
    {
     "name": "stderr",
     "output_type": "stream",
     "text": [
      "\r",
      "100%|██████████| 5000/5000 [00:00<00:00, 23641.60it/s]\n",
      "\r",
      " 95%|█████████▍| 4734/5000 [00:00<00:00, 23656.12it/s]\r",
      "100%|██████████| 5000/5000 [00:00<00:00, 23656.64it/s]\n"
     ]
    },
    {
     "name": "stdout",
     "output_type": "stream",
     "text": [
      "olr: [0.6724837880815415], w: [0.3471262483875881, 0.6528737516124119], means: [[22.85886295220739, 9.134938235671015], [25.60477982107384, 32.92738160771008]], cov: [array([[209.34681652,  -0.58559498],\n",
      "       [ -0.58559498,  38.14260567]]), array([[199.91252721,   5.64850959],\n",
      "       [  5.64850959,  97.3143225 ]])]\n",
      "olr: [0.5646634484207979], w: [0.40773433949170496, 0.592265660508295], means: [[25.049194435001954, 38.73153401159426], [24.479864727936842, 14.763347168866776]], cov: [array([[196.70197733, -19.63892431],\n",
      "       [-19.63892431,  44.66668937]]), array([[222.05614683,  50.31280669],\n",
      "       [ 50.31280669,  85.46052665]])]\n",
      "olr: [0.5316076142827112], w: [0.6189921219311156, 0.3810078780688843], means: [[27.756554553911872, 33.75218693033021], [20.120086330055717, 9.516501891133249]], cov: [array([[173.14870603,   4.81886783],\n",
      "       [  4.81886783,  92.57672105]]), array([[230.89153248,  47.82626653],\n",
      "       [ 47.82626653,  39.09190424]])]\n",
      "olr: [0.6185003796978644], w: [0.47977716748624044, 0.5202228325137597], means: [[36.90465262550449, 25.22901305834117], [12.724913022914512, 23.804598342130948]], cov: [array([[ 59.19365599,  17.98170835],\n",
      "       [ 17.98170835, 215.27258009]]), array([[ 64.34404654,   8.47788195],\n",
      "       [  8.47788195, 200.66435229]])]\n",
      "olr: [0.10050756520320711], w: [0.03840912148349859, 0.9615908785165015], means: [[0.822221342553301, 47.71294690486557], [25.190150761347773, 23.53057639326078]], cov: [array([[ 0.77003234, -0.03353544],\n",
      "       [-0.03353544,  2.09632342]]), array([[196.57801676,   2.14715381],\n",
      "       [  2.14715381, 198.39351085]])]\n",
      "olr: [0.6471737125539141], w: [0.594391790135072, 0.405608209864928], means: [[34.1927890891477, 25.34044045792216], [10.284522803371644, 22.03715313450169]], cov: [array([[ 81.97656937,  49.75126525],\n",
      "       [ 49.75126525, 206.40551333]]), array([[ 47.26672953,  16.53825237],\n",
      "       [ 16.53825237, 210.14700752]])]\n"
     ]
    },
    {
     "name": "stderr",
     "output_type": "stream",
     "text": [
      "100%|██████████| 5000/5000 [00:00<00:00, 22519.10it/s]\n",
      "100%|██████████| 5000/5000 [00:00<00:00, 22396.69it/s]\n",
      "100%|██████████| 5000/5000 [00:00<00:00, 22173.08it/s]\n",
      "100%|██████████| 5000/5000 [00:00<00:00, 22377.88it/s]\n",
      "100%|██████████| 5000/5000 [00:00<00:00, 22538.51it/s]\n",
      "100%|██████████| 5000/5000 [00:00<00:00, 22443.96it/s]\n",
      "  0%|          | 0/5000 [00:00<?, ?it/s]"
     ]
    },
    {
     "name": "stdout",
     "output_type": "stream",
     "text": [
      "olr: [0.12223780276013874], w: [0.4932266006458459, 0.5067733993541541], means: [[12.148612512873564, 11.807205335209503], [36.6585562134626, 36.69839867895322]], cov: [array([[55.68974776, -1.07063155],\n",
      "       [-1.07063155, 52.4963842 ]]), array([[53.84638783,  0.94280313],\n",
      "       [ 0.94280313, 56.4448681 ]])]\n",
      "olr: [0.742773248479779], w: [0.49909635367466215, 0.5009036463253378], means: [[12.977511218869815, 22.0782754677999], [36.78945363260752, 26.829537611047176]], cov: [array([[ 65.5072887 ,   1.8679709 ],\n",
      "       [  1.8679709 , 261.69990009]]), array([[ 60.41129651,   2.89901819],\n",
      "       [  2.89901819, 140.33034663]])]\n",
      "olr: [0.6411547414804787], w: [0.4667908691421798, 0.5332091308578203], means: [[19.98582498356462, 11.639309687510025], [28.503261676985336, 35.72571325645897]], cov: [array([[176.78400582,  27.68084305],\n",
      "       [ 27.68084305,  54.11534195]]), array([[199.9197112 ,  33.90164538],\n",
      "       [ 33.90164538,  72.42159396]])]\n",
      "olr: [0.610763794209432], w: [0.5748378798085987, 0.42516212019140126], means: [[34.83849460084842, 28.075308458670996], [10.826725640216491, 19.706010513997477]], cov: [array([[ 77.94374169,  28.00787498],\n",
      "       [ 28.00787498, 178.51016018]]), array([[ 48.35825705,  40.97830901],\n",
      "       [ 40.97830901, 209.28281281]])]\n",
      "olr: [0.5832983872757345], w: [0.4533742864371953, 0.5466257135628046], means: [[37.83788281126527, 26.037875839373218], [13.483589771342805, 24.02246417461142]], cov: [array([[ 51.35457134,  22.32253921],\n",
      "       [ 22.32253921, 212.73064576]]), array([[ 72.58324506,   1.67896833],\n",
      "       [  1.67896833, 209.84977711]])]\n",
      "olr: [0.5654106739669884], w: [0.5538126614048607, 0.4461873385951393], means: [[24.820485162639567, 13.58196317900381], [23.55535477051126, 37.95700899549817]], cov: [array([[205.83455757,   3.8268113 ],\n",
      "       [  3.8268113 ,  73.66702818]]), array([[207.56926075,  14.0303619 ],\n",
      "       [ 14.0303619 ,  48.01501549]])]\n"
     ]
    },
    {
     "name": "stderr",
     "output_type": "stream",
     "text": [
      "100%|██████████| 5000/5000 [00:00<00:00, 21297.63it/s]\n",
      "100%|██████████| 5000/5000 [00:00<00:00, 22573.98it/s]\n",
      "100%|██████████| 5000/5000 [00:00<00:00, 22754.12it/s]\n",
      "100%|██████████| 5000/5000 [00:00<00:00, 22790.15it/s]\n",
      "100%|██████████| 5000/5000 [00:00<00:00, 22498.32it/s]\n",
      "100%|██████████| 5000/5000 [00:00<00:00, 22725.87it/s]\n",
      " 47%|████▋     | 2332/5000 [00:00<00:00, 23315.63it/s]"
     ]
    },
    {
     "name": "stdout",
     "output_type": "stream",
     "text": [
      "olr: [0.14454413871080593], w: [0.5233696010461187, 0.4766303989538812], means: [[36.582915669572934, 36.435611159878775], [11.553216146091028, 12.001980435864406]], cov: [array([[59.04196539, -0.45308493],\n",
      "       [-0.45308493, 66.02109315]]), array([[54.23931104, -0.43139824],\n",
      "       [-0.43139824, 54.21066521]])]\n",
      "olr: [0.06993582695299326], w: [0.04095120367972392, 0.9590487963202761], means: [[48.327890650303765, 48.14015479323845], [23.260875559368376, 23.40381720096853]], cov: [array([[0.44390363, 0.0798346 ],\n",
      "       [0.0798346 , 0.77485784]]), array([[190.67400151,   0.90937901],\n",
      "       [  0.90937901, 185.14302582]])]\n",
      "olr: [0.7011084381550708], w: [0.10182102304841875, 0.8981789769515812], means: [[8.223206015773757, 40.34628735926863], [26.836861437734743, 22.95166138806765]], cov: [array([[32.39941593,  6.7357766 ],\n",
      "       [ 6.7357766 , 35.78807228]]), array([[190.52541279,  58.21530264],\n",
      "       [ 58.21530264, 195.18985059]])]\n",
      "olr: [0.6503719256359152], w: [0.3951490796629665, 0.6048509203370336], means: [[20.266597981683223, 10.037981261091021], [27.24914835287796, 33.942414986433526]], cov: [array([[155.00525479,   9.52713611],\n",
      "       [  9.52713611,  42.62510663]]), array([[228.33051726,  30.19347783],\n",
      "       [ 30.19347783,  87.6865314 ]])]\n",
      "olr: [0.6314337028786771], w: [0.39260546927295015, 0.6073945307270499], means: [[27.933092365883006, 39.21238520512667], [22.558509288924075, 15.462113387797237]], cov: [array([[200.22255462,  11.62439092],\n",
      "       [ 11.62439092,  40.73060026]]), array([[207.395231  ,  28.61758469],\n",
      "       [ 28.61758469,  91.90955824]])]\n",
      "olr: [0.5465785687816301], w: [0.5364602716191569, 0.463539728380843], means: [[25.559423637222316, 35.38049374322403], [22.486928336340213, 11.409530602617345]], cov: [array([[209.22797215,  52.00660925],\n",
      "       [ 52.00660925,  73.19269438]]), array([[206.4688588 , -30.17175863],\n",
      "       [-30.17175863,  53.46802232]])]\n"
     ]
    },
    {
     "name": "stderr",
     "output_type": "stream",
     "text": [
      "100%|██████████| 5000/5000 [00:00<00:00, 23320.24it/s]\n",
      "100%|██████████| 5000/5000 [00:00<00:00, 23630.89it/s]\n",
      "100%|██████████| 5000/5000 [00:00<00:00, 23746.08it/s]\n",
      "100%|██████████| 5000/5000 [00:00<00:00, 23465.71it/s]\n",
      "100%|██████████| 5000/5000 [00:00<00:00, 23591.76it/s]\n",
      "100%|██████████| 5000/5000 [00:00<00:00, 23688.31it/s]\n",
      "  0%|          | 0/5000 [00:00<?, ?it/s] 23202.33it/s]"
     ]
    },
    {
     "name": "stdout",
     "output_type": "stream",
     "text": [
      "olr: [0.6627705717676254], w: [0.4758633486886183, 0.5241366513113817], means: [[29.28201744884438, 36.81672641690196], [19.912290228744283, 13.142887951577102]], cov: [array([[186.44748235,  23.86040215],\n",
      "       [ 23.86040215,  59.53815722]]), array([[188.95346082,  26.89502147],\n",
      "       [ 26.89502147,  68.05521372]])]\n",
      "olr: [0.317183176052029], w: [0.6355564770244554, 0.36444352297554455], means: [[32.68019303295336, 15.72022855564964], [9.940337580756244, 39.11197763859992]], cov: [array([[106.22986025,   2.26579325],\n",
      "       [  2.26579325, 101.29965361]]), array([[48.06834245,  0.12917033],\n",
      "       [ 0.12917033, 39.82996057]])]\n",
      "olr: [0.1160463283625337], w: [0.24305981578717398, 0.756940184212826], means: [[43.02677081622391, 43.11029586616749], [18.196577878627874, 18.34123715162046]], cov: [array([[13.9018337 , -0.2924365 ],\n",
      "       [-0.2924365 , 12.43212653]]), array([[123.48990043,  -1.03295263],\n",
      "       [ -1.03295263, 119.30816317]])]\n",
      "olr: [0.5687159632850384], w: [0.43198304046183067, 0.5680169595381692], means: [[10.812958024997254, 23.764203252606688], [35.304906269489656, 25.416260874541624]], cov: [array([[ 46.87957792,   1.56508844],\n",
      "       [  1.56508844, 200.13579968]]), array([[ 75.23774622,   9.65944142],\n",
      "       [  9.65944142, 218.58217939]])]\n",
      "olr: [0.597968671816547], w: [0.2650160647264061, 0.7349839352735938], means: [[23.51523509337338, 7.069223237456058], [25.054812834219288, 30.813384061933967]], cov: [array([[208.13392707,   1.69953063],\n",
      "       [  1.69953063,  23.20095031]]), array([[204.54096376,   1.36122206],\n",
      "       [  1.36122206, 126.352461  ]])]\n",
      "olr: [0.5984156775020326], w: [0.5695368507550893, 0.43046314924491064], means: [[21.982347875286543, 34.827941058083894], [27.684234619875426, 10.50636770982224]], cov: [array([[227.93787781, -38.72597035],\n",
      "       [-38.72597035,  76.28786944]]), array([[161.40083532, -19.36642393],\n",
      "       [-19.36642393,  47.19376273]])]\n"
     ]
    },
    {
     "name": "stderr",
     "output_type": "stream",
     "text": [
      "100%|██████████| 5000/5000 [00:00<00:00, 23301.20it/s]\n",
      "100%|██████████| 5000/5000 [00:00<00:00, 23767.42it/s]\n",
      "100%|██████████| 5000/5000 [00:00<00:00, 23778.15it/s]\n",
      "100%|██████████| 5000/5000 [00:00<00:00, 23623.84it/s]\n",
      "100%|██████████| 5000/5000 [00:00<00:00, 23518.35it/s]\n",
      "100%|██████████| 5000/5000 [00:00<00:00, 23410.03it/s]\n",
      "  0%|          | 0/5000 [00:00<?, ?it/s] 23300.63it/s]"
     ]
    },
    {
     "name": "stdout",
     "output_type": "stream",
     "text": [
      "olr: [0.6137415809650403], w: [0.35077873815495114, 0.6492212618450488], means: [[39.91374090859333, 32.73791956745529], [16.2288405328824, 20.456868351116277]], cov: [array([[ 34.78651604,  -1.22090587],\n",
      "       [ -1.22090587, 131.60343868]]), array([[102.08514283,  31.41767315],\n",
      "       [ 31.41767315, 195.45900009]])]\n",
      "olr: [0.5556007236696994], w: [0.24640926002769561, 0.7535907399723044], means: [[27.218531846645245, 42.46142235496217], [23.159920607927383, 18.88891620180125]], cov: [array([[265.39695956,  34.73552321],\n",
      "       [ 34.73552321,  20.52199332]]), array([[189.22599409,   5.4223447 ],\n",
      "       [  5.4223447 , 132.11864575]])]\n",
      "olr: [0.16389805519195003], w: [0.5771727540747266, 0.42282724592527354], means: [[34.6956875496015, 14.053051559934856], [10.384842757404224, 38.75521666570716]], cov: [array([[78.52498273, -0.27663079],\n",
      "       [-0.27663079, 80.1156151 ]]), array([[37.95526183,  0.63965947],\n",
      "       [ 0.63965947, 39.67746788]])]\n",
      "olr: [0.6412412541142704], w: [0.5843426103013497, 0.4156573896986504], means: [[21.0729931855888, 14.751362396297877], [29.016570988463812, 38.459921050449694]], cov: [array([[214.15601243,  53.24976929],\n",
      "       [ 53.24976929,  84.37243612]]), array([[146.3291934 ,   3.77424082],\n",
      "       [  3.77424082,  45.3830091 ]])]\n",
      "olr: [0.6142120100759985], w: [0.4399448516112743, 0.5600551483887257], means: [[23.586189285681122, 11.098214992578592], [24.670744469338374, 35.32901627431651]], cov: [array([[207.40252372,   8.90443201],\n",
      "       [  8.90443201,  51.42841163]]), array([[207.58709957,  -7.17655805],\n",
      "       [ -7.17655805,  74.27138311]])]\n",
      "olr: [0.6151728967656589], w: [0.4852554959432384, 0.5147445040567616], means: [[36.486535515333486, 19.3367755096672], [12.570718215075324, 29.50652856011558]], cov: [array([[ 62.29344512,   2.08674266],\n",
      "       [  2.08674266, 188.924786  ]]), array([[ 64.42954428,   1.79352738],\n",
      "       [  1.79352738, 174.32997753]])]\n"
     ]
    },
    {
     "name": "stderr",
     "output_type": "stream",
     "text": [
      "\r",
      " 47%|████▋     | 2364/5000 [00:00<00:00, 23632.59it/s]\r",
      " 94%|█████████▍| 4696/5000 [00:00<00:00, 23504.41it/s]\r",
      " 47%|████▋     | 2357/5000 [00:00<00:00, 23563.11it/s]\r",
      "100%|██████████| 5000/5000 [00:00<00:00, 23428.59it/s]\n",
      "\r",
      " 47%|████▋     | 2367/5000 [00:00<00:00, 23659.25it/s]\r",
      " 48%|████▊     | 2383/5000 [00:00<00:00, 23823.04it/s]\r",
      " 47%|████▋     | 2362/5000 [00:00<00:00, 23607.41it/s]\r",
      " 95%|█████████▍| 4742/5000 [00:00<00:00, 23718.07it/s]\r",
      "100%|██████████| 5000/5000 [00:00<00:00, 23691.06it/s]\n",
      "\r",
      " 95%|█████████▍| 4737/5000 [00:00<00:00, 23701.26it/s]\r",
      "100%|██████████| 5000/5000 [00:00<00:00, 23664.92it/s]\n",
      "\r",
      " 95%|█████████▍| 4739/5000 [00:00<00:00, 23690.51it/s]\r",
      "100%|██████████| 5000/5000 [00:00<00:00, 23711.64it/s]\n",
      "\r",
      " 94%|█████████▍| 4723/5000 [00:00<00:00, 23586.72it/s]\r",
      " 95%|█████████▌| 4766/5000 [00:00<00:00, 23697.35it/s]\r",
      "100%|██████████| 5000/5000 [00:00<00:00, 23695.75it/s]\n",
      "\r",
      "100%|██████████| 5000/5000 [00:00<00:00, 23584.33it/s]\n"
     ]
    },
    {
     "name": "stdout",
     "output_type": "stream",
     "text": [
      "olr: [0.6398755777030404], w: [0.4985205130383811, 0.5014794869616188], means: [[24.334423799882092, 36.7600832232487], [24.59600219646354, 12.780471821578214]], cov: [array([[206.96015128,   3.48298259],\n",
      "       [  3.48298259,  61.01558311]]), array([[206.581192  ,   8.02717221],\n",
      "       [  8.02717221,  65.33540838]])]\n",
      "olr: [0.61785246877035], w: [0.7830413642002422, 0.21695863579975783], means: [[28.1301967538188, 28.887196145407433], [9.709188808749591, 7.334718512191361]], cov: [array([[184.18980965,  13.5954179 ],\n",
      "       [ 13.5954179 , 159.55637539]]), array([[46.31738322, -1.7195998 ],\n",
      "       [-1.7195998 , 28.13711609]])]\n",
      "olr: [0.6611218386164404], w: [0.6298812382677541, 0.3701187617322459], means: [[24.125546868673037, 15.39118895079305], [25.36799437167113, 39.17493611348123]], cov: [array([[213.36746368,  15.23593479],\n",
      "       [ 15.23593479,  93.18458002]]), array([[200.35046533,   5.3506408 ],\n",
      "       [  5.3506408 ,  42.15834757]])]\n",
      "olr: [0.7028386609221556], w: [0.48891195167262186, 0.5110880483273782], means: [[27.35525463711347, 36.80751493146899], [21.163650964381024, 12.865427121912433]], cov: [array([[222.92891041,  13.69408544],\n",
      "       [ 13.69408544,  63.32437562]]), array([[173.65796593,  17.69146592],\n",
      "       [ 17.69146592,  66.51436624]])]\n",
      "olr: [0.07625423512932869], w: [0.9673052779017868, 0.032694722098213294], means: [[23.33625719105467, 23.16981643313707], [48.213141187868985, 48.457799135033746]], cov: [array([[195.04847788,   8.77195069],\n",
      "       [  8.77195069, 193.86098789]]), array([[ 0.59610722, -0.06074302],\n",
      "       [-0.06074302,  0.54180631]])]\n",
      "olr: [0.5805881172184186], w: [0.3627187523673998, 0.6372812476326002], means: [[24.441731849214896, 39.925747358842386], [24.224352395905143, 15.771031656746509]], cov: [array([[224.93927779,  14.0588258 ],\n",
      "       [ 14.0588258 ,  34.40475597]]), array([[201.00238809,   3.63614655],\n",
      "       [  3.63614655,  99.50098809]])]\n"
     ]
    },
    {
     "name": "stderr",
     "output_type": "stream",
     "text": [
      "100%|██████████| 5000/5000 [00:00<00:00, 23498.42it/s]\n",
      "100%|██████████| 5000/5000 [00:00<00:00, 23344.82it/s]\n",
      "100%|██████████| 5000/5000 [00:00<00:00, 23591.98it/s]\n",
      "100%|██████████| 5000/5000 [00:00<00:00, 23575.58it/s]\n",
      "100%|██████████| 5000/5000 [00:00<00:00, 23343.47it/s]\n",
      "100%|██████████| 5000/5000 [00:00<00:00, 23556.44it/s]\n",
      "  0%|          | 0/5000 [00:00<?, ?it/s]"
     ]
    },
    {
     "name": "stdout",
     "output_type": "stream",
     "text": [
      "olr: [0.5169667917461869], w: [0.6369200162806716, 0.3630799837193284], means: [[16.55718890866422, 32.37286867820815], [38.00979285434716, 11.072689585475453]], cov: [array([[1.31308709e+02, 1.29857783e-01],\n",
      "       [1.29857783e-01, 1.15710317e+02]]), array([[52.83057471,  7.11330876],\n",
      "       [ 7.11330876, 62.69447745]])]\n",
      "olr: [0.6158787878621479], w: [0.38862237804203653, 0.6113776219579635], means: [[9.848912388405584, 25.943798832668005], [34.04588506172281, 23.32512458754165]], cov: [array([[ 41.06654913, -27.10304596],\n",
      "       [-27.10304596, 241.3037    ]]), array([[ 89.70626422,   3.62428061],\n",
      "       [  3.62428061, 189.37620405]])]\n",
      "olr: [0.6508248061923212], w: [0.4315957951457351, 0.5684042048542649], means: [[37.861813663971574, 24.208671204809132], [14.000952769304325, 25.016773592631274]], cov: [array([[ 51.21987122,   9.06667857],\n",
      "       [  9.06667857, 213.41383647]]), array([[ 78.80421947, -15.79390929],\n",
      "       [-15.79390929, 214.61674413]])]\n",
      "olr: [0.47337328631904946], w: [0.7519000223361199, 0.2480999776638802], means: [[18.437077854358343, 24.05891492271029], [42.68424708946229, 26.550189138490467]], cov: [array([[130.671245  ,   5.91234207],\n",
      "       [  5.91234207, 198.7900484 ]]), array([[ 19.13559271,  30.80685033],\n",
      "       [ 30.80685033, 218.67732285]])]\n",
      "olr: [0.6221169402602191], w: [0.48971822721875635, 0.5102817727812438], means: [[37.18992458358655, 29.316294827121148], [12.906234190242337, 20.290115424284284]], cov: [array([[ 56.71450752,  21.04954416],\n",
      "       [ 21.04954416, 179.84787591]]), array([[ 66.75834057,  25.87277639],\n",
      "       [ 25.87277639, 195.59621437]])]\n",
      "olr: [0.5818093755566905], w: [0.3776300469185531, 0.6223699530814469], means: [[9.499254235781121, 18.008254914656288], [33.52185637168844, 28.226526304296286]], cov: [array([[ 39.62575472,  -8.97052553],\n",
      "       [ -8.97052553, 118.6121416 ]]), array([[ 94.30757647, -11.52441766],\n",
      "       [-11.52441766, 222.69788246]])]\n"
     ]
    },
    {
     "name": "stderr",
     "output_type": "stream",
     "text": [
      "100%|██████████| 5000/5000 [00:00<00:00, 23003.03it/s]\n",
      "100%|██████████| 5000/5000 [00:00<00:00, 23180.25it/s]\n",
      "100%|██████████| 5000/5000 [00:00<00:00, 23146.35it/s]\n",
      "100%|██████████| 5000/5000 [00:00<00:00, 23058.68it/s]\n",
      "100%|██████████| 5000/5000 [00:00<00:00, 23416.87it/s]\n",
      "100%|██████████| 5000/5000 [00:00<00:00, 23021.14it/s]\n",
      " 47%|████▋     | 2338/5000 [00:00<00:00, 23376.01it/s]"
     ]
    },
    {
     "name": "stdout",
     "output_type": "stream",
     "text": [
      "olr: [0.453107518400152], w: [0.6579573144010713, 0.3420426855989287], means: [[16.81534999195065, 15.99042896167541], [38.22452000599951, 38.96993230805302]], cov: [array([[133.33227805,   4.12885001],\n",
      "       [  4.12885001, 113.80377617]]), array([[52.85230576, -3.86384414],\n",
      "       [-3.86384414, 47.77563601]])]\n",
      "olr: [0.5703972553770512], w: [0.5046150804379389, 0.4953849195620611], means: [[11.952522213043528, 19.93733883199756], [36.760862761280265, 28.607488040010256]], cov: [array([[ 58.27800526,  13.16486567],\n",
      "       [ 13.16486567, 182.37515695]]), array([[ 62.31931165,   5.12672181],\n",
      "       [  5.12672181, 195.42352053]])]\n",
      "olr: [0.5785316887840677], w: [0.6128664285088906, 0.38713357149110944], means: [[34.18410391442051, 26.776888681940488], [9.736976071781601, 21.62288285843279]], cov: [array([[ 86.96005681,  22.72561962],\n",
      "       [ 22.72561962, 205.37542393]]), array([[ 40.49762284,  -2.48344265],\n",
      "       [ -2.48344265, 198.33476599]])]\n",
      "olr: [0.618780176585074], w: [0.47701061215384927, 0.5229893878461508], means: [[37.461738112479495, 28.85221338541674], [13.263659897931948, 21.128512906421502]], cov: [array([[ 55.36699178,  -5.95025759],\n",
      "       [ -5.95025759, 157.825438  ]]), array([[ 67.91839086,  -1.48149235],\n",
      "       [ -1.48149235, 224.91123434]])]\n",
      "olr: [0.646147504535992], w: [0.5784188493112438, 0.4215811506887563], means: [[34.623114752681424, 24.22129357166197], [10.593305222225089, 24.568810124758972]], cov: [array([[ 82.43376061,  12.13667213],\n",
      "       [ 12.13667213, 209.67591336]]), array([[ 49.5498754 ,   3.54161429],\n",
      "       [  3.54161429, 206.59598564]])]\n",
      "olr: [0.6364620562195475], w: [0.5540065188617691, 0.44599348113823095], means: [[24.3466222968418, 13.711759603729755], [24.229978670775832, 37.74493688003208]], cov: [array([[194.55317979,   0.58465221],\n",
      "       [  0.58465221,  72.76915831]]), array([[213.65137216,  13.71220897],\n",
      "       [ 13.71220897,  52.55779713]])]\n"
     ]
    },
    {
     "name": "stderr",
     "output_type": "stream",
     "text": [
      "100%|██████████| 5000/5000 [00:00<00:00, 23402.58it/s]\n",
      "100%|██████████| 5000/5000 [00:00<00:00, 23841.49it/s]\n",
      "100%|██████████| 5000/5000 [00:00<00:00, 23568.22it/s]\n",
      "100%|██████████| 5000/5000 [00:00<00:00, 23725.85it/s]\n",
      "100%|██████████| 5000/5000 [00:00<00:00, 23683.95it/s]\n",
      "100%|██████████| 5000/5000 [00:00<00:00, 23466.08it/s]\n",
      "  0%|          | 0/5000 [00:00<?, ?it/s] 24401.30it/s]"
     ]
    },
    {
     "name": "stdout",
     "output_type": "stream",
     "text": [
      "olr: [0.632291426801705], w: [0.48617092128235284, 0.5138290787176473], means: [[37.00019007153437, 25.805781583958524], [12.632573309201126, 23.478195167589625]], cov: [array([[ 61.25993393,   1.68686497],\n",
      "       [  1.68686497, 202.46296819]]), array([[ 68.18910912,   7.56315824],\n",
      "       [  7.56315824, 208.92114148]])]\n",
      "olr: [0.5329813669383408], w: [0.2308718791571146, 0.7691281208428854], means: [[42.75518002437345, 21.015639589649165], [18.900142707227253, 25.53213081681148]], cov: [array([[ 19.2622876 , -33.37061119],\n",
      "       [-33.37061119, 250.98646538]]), array([[133.49639093,   1.40398374],\n",
      "       [  1.40398374, 189.91734894]])]\n",
      "olr: [0.11840872617720168], w: [0.7214816696160364, 0.2785183303839635], means: [[31.3302390734863, 31.410051041219194], [6.579842702866697, 6.238095459142911]], cov: [array([[116.99912266,   0.73293411],\n",
      "       [  0.73293411, 110.61661504]]), array([[15.88633763, -0.69523877],\n",
      "       [-0.69523877, 16.23010079]])]\n",
      "olr: [0.7241289112993095], w: [0.5359778600208053, 0.46402213997919467], means: [[35.825575962493325, 27.172469283580952], [11.977196738628107, 21.565690943871573]], cov: [array([[ 68.23228349,  -6.37549768],\n",
      "       [ -6.37549768, 147.12390144]]), array([[ 57.97656093,  14.06871336],\n",
      "       [ 14.06871336, 251.30252101]])]\n",
      "olr: [0.6111409591058872], w: [0.3890078870931092, 0.6109921129068908], means: [[9.836083355829578, 18.912462879877058], [33.87619178585238, 28.098403257111045]], cov: [array([[ 40.7785648 ,  -3.35193555],\n",
      "       [ -3.35193555, 120.10452123]]), array([[ 88.64491247,  -2.99751688],\n",
      "       [ -2.99751688, 226.40801349]])]\n",
      "olr: [0.5049252767507273], w: [0.7505156686299665, 0.24948433137003354], means: [[24.0024719453422, 18.585976335580153], [27.15348367558079, 42.614834707163695]], cov: [array([[189.2936512 ,  -0.37210675],\n",
      "       [ -0.37210675, 133.04350484]]), array([[251.03844036,  28.59254688],\n",
      "       [ 28.59254688,  18.6664161 ]])]\n"
     ]
    },
    {
     "name": "stderr",
     "output_type": "stream",
     "text": [
      "\r",
      "  0%|          | 0/5000 [00:00<?, ?it/s]\r",
      "  0%|          | 0/5000 [00:00<?, ?it/s]\r",
      " 47%|████▋     | 2345/5000 [00:00<00:00, 23449.07it/s]\r",
      " 98%|█████████▊| 4882/5000 [00:00<00:00, 23930.82it/s]\r",
      "100%|██████████| 5000/5000 [00:00<00:00, 23976.74it/s]\n",
      "\r",
      " 47%|████▋     | 2357/5000 [00:00<00:00, 23564.74it/s]\r",
      " 47%|████▋     | 2362/5000 [00:00<00:00, 23617.09it/s]\r",
      " 48%|████▊     | 2385/5000 [00:00<00:00, 23842.29it/s]\r",
      " 47%|████▋     | 2353/5000 [00:00<00:00, 23520.94it/s]\r",
      " 94%|█████████▍| 4708/5000 [00:00<00:00, 23550.92it/s]\r",
      "100%|██████████| 5000/5000 [00:00<00:00, 23570.07it/s]\n",
      "\r",
      " 95%|█████████▌| 4750/5000 [00:00<00:00, 23773.46it/s]\r",
      "100%|██████████| 5000/5000 [00:00<00:00, 23757.35it/s]\n",
      "\r",
      " 95%|█████████▍| 4736/5000 [00:00<00:00, 23683.52it/s]\r",
      "100%|██████████| 5000/5000 [00:00<00:00, 23668.23it/s]\n",
      "\r",
      " 95%|█████████▌| 4770/5000 [00:00<00:00, 23769.31it/s]"
     ]
    },
    {
     "name": "stdout",
     "output_type": "stream",
     "text": [
      "2024-01-16 22:50:59,327 - MultiprocessingDispatcher - 54 individuals out of 54 in previous population were evaluated successfully.\n",
      "2024-01-16 22:50:59,330 - EvoGraphOptimizer - Generation num: 13 size: 55\n",
      "2024-01-16 22:50:59,331 - EvoGraphOptimizer - Best individuals: HallOfFame archive fitness (1): ['<custom=0.000>']\n",
      "2024-01-16 22:50:59,331 - EvoGraphOptimizer - no improvements for 2 iterations\n",
      "2024-01-16 22:50:59,332 - EvoGraphOptimizer - spent time: 0.6 min\n",
      "2024-01-16 22:50:59,332 - EvoGraphOptimizer - Next population size: 55; max graph depth: 100\n"
     ]
    },
    {
     "name": "stderr",
     "output_type": "stream",
     "text": [
      "\r",
      "100%|██████████| 5000/5000 [00:00<00:00, 23766.94it/s]\n",
      "\r",
      " 94%|█████████▍| 4719/5000 [00:00<00:00, 23600.79it/s]\r",
      "100%|██████████| 5000/5000 [00:00<00:00, 23576.75it/s]\n"
     ]
    },
    {
     "name": "stdout",
     "output_type": "stream",
     "text": [
      "2024-01-16 22:50:59,348 - MultiprocessingDispatcher - Number of used CPU's: 6\n",
      "olr: [0.4778271792435477], w: [0.11323861083909767, 0.8867613891609023], means: [[38.846996484689065, 43.86564103299577], [22.8548742993647, 21.74329642848087]], cov: [array([[49.78587548, -2.12634279],\n",
      "       [-2.12634279, 12.13478255]]), array([[198.27581123,   6.43468862],\n",
      "       [  6.43468862, 173.01537124]])]\n",
      "olr: [0.5729967843657756], w: [0.6007166279920035, 0.39928337200799646], means: [[14.708281951806102, 23.979132839835682], [39.12632370286279, 25.761994862324627]], cov: [array([[ 88.00567708,   3.7618615 ],\n",
      "       [  3.7618615 , 193.13323152]]), array([[ 41.81126299,  31.31062343],\n",
      "       [ 31.31062343, 233.55034513]])]\n",
      "olr: [0.6338940405440388], w: [0.5135473432165347, 0.48645265678346533], means: [[12.515877500057535, 20.672995957194427], [36.95016177046565, 28.949657594583236]], cov: [array([[ 62.7014026 ,  -8.27733951],\n",
      "       [ -8.27733951, 121.64620549]]), array([[ 57.88121194,  -4.79498324],\n",
      "       [ -4.79498324, 265.23778289]])]\n",
      "olr: [0.6642364971934263], w: [0.4945902127426994, 0.5054097872573007], means: [[25.160158895801732, 36.61800189114461], [23.58132343214361, 12.614505724244124]], cov: [array([[182.79076362,   9.93675668],\n",
      "       [  9.93675668,  61.38213323]]), array([[231.69670244,  19.05091653],\n",
      "       [ 19.05091653,  65.19881191]])]\n",
      "olr: [0.47601840389246025], w: [0.5087888684372306, 0.49121113156276935], means: [[12.856669803539408, 31.98069273819402], [36.75948763892922, 16.241854097469695]], cov: [array([[ 65.3981597 ,   3.15914115],\n",
      "       [  3.15914115, 140.40363235]]), array([[ 59.9695251 ,  13.18453859],\n",
      "       [ 13.18453859, 154.13426844]])]\n",
      "olr: [0.6038009759220814], w: [0.3839620603048337, 0.6160379396951663], means: [[9.560265276996365, 23.75102219089144], [33.55770726947954, 24.750924582314486]], cov: [array([[ 40.30699142,   3.13434927],\n",
      "       [  3.13434927, 186.447044  ]]), array([[ 93.04808671,  38.64655154],\n",
      "       [ 38.64655154, 225.2329311 ]])]\n"
     ]
    },
    {
     "name": "stderr",
     "output_type": "stream",
     "text": [
      "100%|██████████| 5000/5000 [00:00<00:00, 23568.40it/s]\n",
      "100%|██████████| 5000/5000 [00:00<00:00, 23646.43it/s]\n",
      "100%|██████████| 5000/5000 [00:00<00:00, 23529.72it/s]\n",
      "100%|██████████| 5000/5000 [00:00<00:00, 23416.74it/s]\n",
      "100%|██████████| 5000/5000 [00:00<00:00, 23501.90it/s]\n",
      "100%|██████████| 5000/5000 [00:00<00:00, 23278.59it/s]\n",
      "  0%|          | 0/5000 [00:00<?, ?it/s]"
     ]
    },
    {
     "name": "stdout",
     "output_type": "stream",
     "text": [
      "olr: [0.16888290371654802], w: [0.2704436288551338, 0.7295563711448662], means: [[42.26219819939567, 6.651897053198568], [17.82954446021515, 31.318809246099033]], cov: [array([[19.10980628, -1.0432767 ],\n",
      "       [-1.0432767 , 16.820691  ]]), array([[111.75350655,  -7.08833893],\n",
      "       [ -7.08833893, 116.93444794]])]\n",
      "olr: [0.3042832662568493], w: [0.5054320953409625, 0.49456790465903766], means: [[13.763284864920758, 12.656665672275865], [35.36863983118337, 36.69165503520097]], cov: [array([[95.09237186, -2.72800894],\n",
      "       [-2.72800894, 63.42519286]]), array([[82.23047637, -5.70322496],\n",
      "       [-5.70322496, 62.81814531]])]\n",
      "olr: [0.6036467417891259], w: [0.4277222550301725, 0.5722777449698275], means: [[26.412395501244234, 10.8335548830696], [23.308665683238093, 35.20501653700096]], cov: [array([[207.93556453,  -3.46452159],\n",
      "       [ -3.46452159,  48.40270648]]), array([[202.78408786,  -3.01400058],\n",
      "       [ -3.01400058,  76.12725426]])]\n",
      "olr: [0.5016730368859739], w: [0.7999880410293648, 0.20001195897063528], means: [[28.38968461609987, 28.25608016478773], [7.40451634065635, 7.004950049054144]], cov: [array([[165.46430251,  20.45031166],\n",
      "       [ 20.45031166, 161.90186359]]), array([[27.98229278, -3.07005996],\n",
      "       [-3.07005996, 28.11176179]])]\n",
      "olr: [0.6048519377552702], w: [0.41854608609410543, 0.5814539139058945], means: [[10.414073041529027, 24.883827944169926], [34.38626864485397, 23.737687333139853]], cov: [array([[ 46.74937054, -36.89769607],\n",
      "       [-36.89769607, 235.74496548]]), array([[ 83.51029212,  -8.37268173],\n",
      "       [ -8.37268173, 192.37622797]])]\n",
      "olr: [0.6288295472719736], w: [0.40770482201367175, 0.5922951779863281], means: [[38.788506672328154, 24.90182057313738], [14.874574567591207, 24.304448542623348]], cov: [array([[ 44.22265232,   1.91445473],\n",
      "       [  1.91445473, 206.4000174 ]]), array([[ 84.96974221,  21.31404749],\n",
      "       [ 21.31404749, 197.86762493]])]\n"
     ]
    },
    {
     "name": "stderr",
     "output_type": "stream",
     "text": [
      "100%|██████████| 5000/5000 [00:00<00:00, 22360.89it/s]\n",
      "100%|██████████| 5000/5000 [00:00<00:00, 22299.55it/s]\n",
      "100%|██████████| 5000/5000 [00:00<00:00, 22031.24it/s]\n",
      "100%|██████████| 5000/5000 [00:00<00:00, 22091.59it/s]\n",
      "100%|██████████| 5000/5000 [00:00<00:00, 22129.47it/s]\n",
      "100%|██████████| 5000/5000 [00:00<00:00, 22181.33it/s]\n",
      "  0%|          | 0/5000 [00:00<?, ?it/s]"
     ]
    },
    {
     "name": "stdout",
     "output_type": "stream",
     "text": [
      "olr: [0.22312570540635926], w: [0.7493900504433737, 0.25060994955662635], means: [[18.14402586363107, 18.45335479825173], [42.30258041056801, 42.14932222593916]], cov: [array([[121.57432108,  -1.12472421],\n",
      "       [ -1.12472421, 131.2010094 ]]), array([[22.92554307,  1.85962576],\n",
      "       [ 1.85962576, 18.54949918]])]\n",
      "olr: [0.6214896106824682], w: [0.5312289678078262, 0.4687710321921738], means: [[13.499143812095607, 24.60845470929888], [37.313021849098526, 24.419759795952338]], cov: [array([[ 68.35551664,   3.52559931],\n",
      "       [  3.52559931, 211.51410812]]), array([[ 53.95355369,   0.77065043],\n",
      "       [  0.77065043, 205.12084866]])]\n",
      "olr: [0.219316885611407], w: [0.7554038595701934, 0.24459614042980668], means: [[18.89660369616302, 18.91327443274284], [42.42762218943573, 42.807868832258045]], cov: [array([[128.53678268,   2.76342909],\n",
      "       [  2.76342909, 128.98971414]]), array([[21.05306798,  0.66619361],\n",
      "       [ 0.66619361, 15.74727413]])]\n",
      "olr: [0.6228585321135423], w: [0.4291087757546681, 0.570891224245332], means: [[38.316320992689036, 27.906988936011114], [14.501765057517392, 22.439066495729048]], cov: [array([[ 47.67833641,  13.29175144],\n",
      "       [ 13.29175144, 200.07588532]]), array([[ 77.81543808,  26.66015772],\n",
      "       [ 26.66015772, 205.48492417]])]\n",
      "olr: [0.46698052742940205], w: [0.5284999557616797, 0.47150004423832026], means: [[36.23815585341699, 16.79381412320936], [12.340054482886519, 32.944365899068025]], cov: [array([[ 66.46313362,   7.53823435],\n",
      "       [  7.53823435, 148.48384168]]), array([[ 59.41129172,   6.68845209],\n",
      "       [  6.68845209, 133.4603587 ]])]\n",
      "olr: [0.644613730237439], w: [0.5923777276070946, 0.4076222723929055], means: [[14.921441137212586, 24.049572115506056], [38.89009919270273, 24.82486803503157]], cov: [array([[ 92.25722602,  27.6712681 ],\n",
      "       [ 27.6712681 , 215.2783311 ]]), array([[ 44.19721892,   8.16978532],\n",
      "       [  8.16978532, 198.59735848]])]\n"
     ]
    },
    {
     "name": "stderr",
     "output_type": "stream",
     "text": [
      "100%|██████████| 5000/5000 [00:00<00:00, 22218.32it/s]\n",
      "100%|██████████| 5000/5000 [00:00<00:00, 22021.88it/s]\n",
      "100%|██████████| 5000/5000 [00:00<00:00, 21586.92it/s]\n",
      "100%|██████████| 5000/5000 [00:00<00:00, 21854.26it/s]\n",
      "100%|██████████| 5000/5000 [00:00<00:00, 21587.72it/s]\n",
      "100%|██████████| 5000/5000 [00:00<00:00, 21447.68it/s]\n",
      "  0%|          | 0/5000 [00:00<?, ?it/s]"
     ]
    },
    {
     "name": "stdout",
     "output_type": "stream",
     "text": [
      "olr: [0.6399755518401313], w: [0.3732235493999562, 0.6267764506000438], means: [[39.62269848248753, 29.651537188654608], [15.683862765026953, 21.45190367700235]], cov: [array([[ 38.28053133,   5.77892081],\n",
      "       [  5.77892081, 209.61712908]]), array([[ 92.9057276 ,  32.48116085],\n",
      "       [ 32.48116085, 188.89846199]])]\n",
      "olr: [0.581445907936638], w: [0.38028495197127804, 0.6197150480287221], means: [[18.786147894441, 9.289729287599505], [28.275431919841232, 33.55163927385457]], cov: [array([[127.40626285,  -2.20757965],\n",
      "       [ -2.20757965,  37.11688645]]), array([[219.73128577,  49.79060379],\n",
      "       [ 49.79060379,  90.65552672]])]\n",
      "olr: [0.533068462266518], w: [0.23347187611274386, 0.7665281238872561], means: [[12.078647454915643, 6.98172109918207], [28.529123506775438, 29.898921855930386]], cov: [array([[58.43190161, -5.30947332],\n",
      "       [-5.30947332, 24.47347782]]), array([[186.42150533,   9.29403283],\n",
      "       [  9.29403283, 140.35139209]])]\n",
      "olr: [0.6415535260995581], w: [0.47357087092526695, 0.5264291290747332], means: [[11.870677931349109, 24.283247250511426], [35.830830157006524, 24.89862495587878]], cov: [array([[ 58.19929768,  -2.33210966],\n",
      "       [ -2.33210966, 204.73490492]]), array([[ 69.55889532,   3.83887871],\n",
      "       [  3.83887871, 210.58259676]])]\n",
      "olr: [0.5577785479920756], w: [0.7024239419068584, 0.2975760580931415], means: [[22.186467723448477, 31.75338646051655], [29.78967441638529, 7.440992154076575]], cov: [array([[221.64868106, -50.4091861 ],\n",
      "       [-50.4091861 , 116.42345729]]), array([[148.60943709,  -6.42791373],\n",
      "       [ -6.42791373,  25.3642187 ]])]\n",
      "olr: [0.6253703983777728], w: [0.38432734989222533, 0.6156726501077747], means: [[28.885998148878173, 39.088322236433335], [21.90599319311808, 15.507735647290573]], cov: [array([[178.92914412,  11.53306904],\n",
      "       [ 11.53306904,  40.67750726]]), array([[203.78906991,  42.22002014],\n",
      "       [ 42.22002014,  88.95134279]])]\n"
     ]
    },
    {
     "name": "stderr",
     "output_type": "stream",
     "text": [
      "100%|██████████| 5000/5000 [00:00<00:00, 23227.26it/s]\n",
      "100%|██████████| 5000/5000 [00:00<00:00, 23488.11it/s]\n",
      "100%|██████████| 5000/5000 [00:00<00:00, 23213.89it/s]\n",
      "100%|██████████| 5000/5000 [00:00<00:00, 23532.17it/s]\n",
      "100%|██████████| 5000/5000 [00:00<00:00, 23705.18it/s]\n",
      "100%|██████████| 5000/5000 [00:00<00:00, 23247.96it/s]\n",
      "  0%|          | 0/5000 [00:00<?, ?it/s] 24065.95it/s]"
     ]
    },
    {
     "name": "stdout",
     "output_type": "stream",
     "text": [
      "olr: [0.1484048515789643], w: [0.4911251486436127, 0.5088748513563872], means: [[36.55632473114041, 12.177617295240937], [12.172481241790365, 36.92787302351699]], cov: [array([[55.87864076, -3.16348305],\n",
      "       [-3.16348305, 58.65924171]]), array([[58.29206257,  1.31074943],\n",
      "       [ 1.31074943, 53.48982752]])]\n",
      "olr: [0.6076257163778558], w: [0.5593055729047208, 0.44069442709527923], means: [[35.073450504000654, 24.666108150232823], [11.046710311727962, 23.833539985821744]], cov: [array([[ 75.27758253,  26.375623  ],\n",
      "       [ 26.375623  , 221.06955374]]), array([[ 50.6235999 ,  11.30723864],\n",
      "       [ 11.30723864, 194.31376081]])]\n",
      "olr: [0.24930623181667477], w: [0.724473354152564, 0.275526645847436], means: [[30.690196466047105, 17.53851110752127], [7.7733695049867, 41.85517518867376]], cov: [array([[126.68703659,  -1.46700401],\n",
      "       [ -1.46700401, 117.42582206]]), array([[29.02431034, -1.43236036],\n",
      "       [-1.43236036, 20.41925871]])]\n",
      "olr: [0.5692680102260708], w: [0.35754939496654425, 0.6424506050334556], means: [[8.98511928866022, 23.809424420384552], [33.32828371065558, 24.64369179505309]], cov: [array([[ 35.29688086,  -1.42735345],\n",
      "       [ -1.42735345, 196.35712721]]), array([[ 95.6986656 ,   7.61149954],\n",
      "       [  7.61149954, 207.90960214]])]\n",
      "olr: [0.6143638821415337], w: [0.653792306909839, 0.346207693090161], means: [[24.984799035197142, 32.39775816078334], [23.37363023008375, 8.498352324563129]], cov: [array([[224.64409119,  13.15343544],\n",
      "       [ 13.15343544, 105.30989388]]), array([[181.55495965,   3.58819243],\n",
      "       [  3.58819243,  32.05288107]])]\n",
      "olr: [0.5618384290442867], w: [0.5108779665174624, 0.4891220334825375], means: [[36.15629528014897, 29.304636858441693], [11.899168289421105, 19.85293249434716]], cov: [array([[ 65.63368062,  -6.05958861],\n",
      "       [ -6.05958861, 174.89535227]]), array([[ 59.21823214,  -8.42593982],\n",
      "       [ -8.42593982, 193.30662941]])]\n"
     ]
    },
    {
     "name": "stderr",
     "output_type": "stream",
     "text": [
      "100%|██████████| 5000/5000 [00:00<00:00, 23935.23it/s]\n",
      "100%|██████████| 5000/5000 [00:00<00:00, 23727.89it/s]\n",
      "100%|██████████| 5000/5000 [00:00<00:00, 23397.78it/s]\n",
      "100%|██████████| 5000/5000 [00:00<00:00, 23733.16it/s]\n",
      "100%|██████████| 5000/5000 [00:00<00:00, 23586.40it/s]\n",
      "100%|██████████| 5000/5000 [00:00<00:00, 23828.48it/s]\n",
      "  0%|          | 0/5000 [00:00<?, ?it/s] 22632.58it/s]"
     ]
    },
    {
     "name": "stdout",
     "output_type": "stream",
     "text": [
      "olr: [0.6852070774247432], w: [0.5374131429706241, 0.46258685702937585], means: [[12.973147053011095, 22.579629674837967], [37.188821961988296, 26.533849941510713]], cov: [array([[ 68.52151001,  -6.56647345],\n",
      "       [ -6.56647345, 160.93271616]]), array([[ 56.809861  ,  20.91082364],\n",
      "       [ 20.91082364, 258.01607992]])]\n",
      "olr: [0.6364892991975747], w: [0.4406832541567624, 0.5593167458432377], means: [[24.848911325775564, 37.737279327647386], [24.073838294264586, 13.670273596658253]], cov: [array([[211.83847241,  13.51053886],\n",
      "       [ 13.51053886,  52.16114058]]), array([[196.8085265 , -11.68352454],\n",
      "       [-11.68352454,  74.20796184]])]\n",
      "olr: [0.2495614439155053], w: [0.4793324318463582, 0.5206675681536418], means: [[36.91843925798642, 37.30742302629814], [13.240683983725612, 13.285525386982547]], cov: [array([[64.38948817,  1.25446216],\n",
      "       [ 1.25446216, 54.78033391]]), array([[75.13113451, -0.97310144],\n",
      "       [-0.97310144, 72.33407019]])]\n",
      "olr: [0.597199829165766], w: [0.6887270380884769, 0.3112729619115232], means: [[31.889527484791103, 25.644256001665383], [8.311098315356034, 20.115809229104]], cov: [array([[108.86757139,   1.00995572],\n",
      "       [  1.00995572, 221.02996216]]), array([[ 29.21858228,  17.55759921],\n",
      "       [ 17.55759921, 166.25891797]])]\n",
      "olr: [0.6464900147807218], w: [0.4080104349038738, 0.5919895650961261], means: [[39.05159790953977, 23.287251093200197], [14.940365632629508, 25.16591411763917]], cov: [array([[ 4.39454885e+01, -8.25916150e-02],\n",
      "       [-8.25916150e-02,  1.72933334e+02]]), array([[ 89.47870692, -30.85682878],\n",
      "       [-30.85682878, 234.84332368]])]\n",
      "olr: [0.5960051194603488], w: [0.41019634571937325, 0.5898036542806268], means: [[27.280145754489187, 38.844577655886845], [22.49322092959511, 14.973959775333501]], cov: [array([[219.8345659 ,  33.16086344],\n",
      "       [ 33.16086344,  44.31490929]]), array([[194.97087666, -12.56075117],\n",
      "       [-12.56075117,  87.82881977]])]\n"
     ]
    },
    {
     "name": "stderr",
     "output_type": "stream",
     "text": [
      "\r",
      " 91%|█████████ | 4538/5000 [00:00<00:00, 22695.10it/s]\r",
      "100%|██████████| 5000/5000 [00:00<00:00, 22663.36it/s]\n",
      "\r",
      " 46%|████▌     | 2300/5000 [00:00<00:00, 22994.98it/s]\r",
      " 46%|████▌     | 2301/5000 [00:00<00:00, 23003.44it/s]\r",
      " 45%|████▌     | 2274/5000 [00:00<00:00, 22733.68it/s]\r",
      " 45%|████▌     | 2271/5000 [00:00<00:00, 22703.63it/s]\r",
      " 46%|████▋     | 2313/5000 [00:00<00:00, 23121.64it/s]\r",
      " 93%|█████████▎| 4637/5000 [00:00<00:00, 23213.88it/s]\r",
      " 93%|█████████▎| 4648/5000 [00:00<00:00, 23254.49it/s]\r",
      "100%|██████████| 5000/5000 [00:00<00:00, 23196.53it/s]\n",
      "\r",
      "100%|██████████| 5000/5000 [00:00<00:00, 23208.88it/s]\n",
      "\r",
      " 92%|█████████▎| 4625/5000 [00:00<00:00, 23186.33it/s]\r",
      " 92%|█████████▏| 4594/5000 [00:00<00:00, 23011.11it/s]\r",
      " 93%|█████████▎| 4671/5000 [00:00<00:00, 23389.86it/s]\r",
      "100%|██████████| 5000/5000 [00:00<00:00, 23134.84it/s]\n",
      "\r",
      "100%|██████████| 5000/5000 [00:00<00:00, 22965.22it/s]\n",
      "\r",
      "100%|██████████| 5000/5000 [00:00<00:00, 23322.60it/s]\n",
      "\r",
      "  0%|          | 0/5000 [00:00<?, ?it/s]"
     ]
    },
    {
     "name": "stdout",
     "output_type": "stream",
     "text": [
      "olr: [0.6242585768802834], w: [0.31178289887417454, 0.6882171011258255], means: [[22.70946995762686, 8.226921316317693], [25.479133831504818, 31.794598808128484]], cov: [array([[212.76716661, -14.60279277],\n",
      "       [-14.60279277,  30.33478585]]), array([[204.56780955,  38.73942216],\n",
      "       [ 38.73942216, 110.2255396 ]])]\n",
      "olr: [0.13347705846856303], w: [0.4764951866703754, 0.5235048133296247], means: [[11.698850302032117, 11.815496984642497], [36.05153889888104, 36.37172395339656]], cov: [array([[50.97594643,  0.30373075],\n",
      "       [ 0.30373075, 50.2044146 ]]), array([[61.73113938, -1.22238998],\n",
      "       [-1.22238998, 57.63565436]])]\n",
      "olr: [0.628724498715856], w: [0.5707630427669281, 0.42923695723307187], means: [[29.196610709383176, 35.05514142108127], [18.971930295855405, 10.877956194585675]], cov: [array([[131.52020448,  12.61675913],\n",
      "       [ 12.61675913,  76.74748465]]), array([[240.2744169 ,  50.08438656],\n",
      "       [ 50.08438656,  48.34542193]])]\n",
      "olr: [0.6308826730101047], w: [0.49342157964566197, 0.506578420354338], means: [[31.883672374376022, 37.03222485895062], [17.90583184689531, 13.252639359582902]], cov: [array([[138.51953443, -10.5805906 ],\n",
      "       [-10.5805906 ,  60.55266243]]), array([[172.77647426,  26.03920968],\n",
      "       [ 26.03920968,  71.93419926]])]\n",
      "olr: [0.6484022582561011], w: [0.3927961337504822, 0.6072038662495177], means: [[10.025485367780316, 20.66980143034125], [33.805825768785034, 27.065344649861746]], cov: [array([[ 43.08372539,  -1.86379505],\n",
      "       [ -1.86379505, 204.41126932]]), array([[ 89.84241851,  19.45920426],\n",
      "       [ 19.45920426, 197.61329136]])]\n",
      "olr: [0.6320947365089907], w: [0.5319127612438246, 0.4680872387561755], means: [[24.95967858481588, 35.4116964648776], [24.371158834634507, 11.39929976988373]], cov: [array([[210.64362447,  18.55352918],\n",
      "       [ 18.55352918,  71.87057873]]), array([[205.82616725,   4.82569279],\n",
      "       [  4.82569279,  56.28913674]])]\n"
     ]
    },
    {
     "name": "stderr",
     "output_type": "stream",
     "text": [
      "100%|██████████| 5000/5000 [00:00<00:00, 23469.31it/s]\n",
      "100%|██████████| 5000/5000 [00:00<00:00, 23728.89it/s]\n",
      "100%|██████████| 5000/5000 [00:00<00:00, 23900.64it/s]\n",
      "100%|██████████| 5000/5000 [00:00<00:00, 23639.20it/s]\n",
      "100%|██████████| 5000/5000 [00:00<00:00, 23312.39it/s]\n",
      "100%|██████████| 5000/5000 [00:00<00:00, 23366.83it/s]\n",
      " 46%|████▌     | 2295/5000 [00:00<00:00, 22943.46it/s]"
     ]
    },
    {
     "name": "stdout",
     "output_type": "stream",
     "text": [
      "olr: [0.12501722401111567], w: [0.24829970803954565, 0.7517002919604543], means: [[43.30909042419749, 5.69103322020294], [18.191246748821086, 30.73926983946928]], cov: [array([[13.76355551, -0.76053869],\n",
      "       [-0.76053869, 13.15939749]]), array([[122.06810092,  -4.41380757],\n",
      "       [ -4.41380757, 116.07124174]])]\n",
      "olr: [0.10784409858409073], w: [0.48865200228099775, 0.5113479977190022], means: [[36.995750958798155, 36.99233446832817], [12.129024159203507, 12.124466548532375]], cov: [array([[51.70071119, -1.1033678 ],\n",
      "       [-1.1033678 , 52.6606056 ]]), array([[57.16329473, -0.7771895 ],\n",
      "       [-0.7771895 , 53.67172009]])]\n",
      "olr: [0.6691496496838235], w: [0.5085271351463947, 0.4914728648536053], means: [[25.012530989820043, 12.808242819445988], [23.973753416673407, 36.641821472955414]], cov: [array([[201.2384788 , -22.36003873],\n",
      "       [-22.36003873,  64.85867194]]), array([[219.5748542 ,  -0.32557362],\n",
      "       [ -0.32557362,  63.38939096]])]\n"
     ]
    },
    {
     "name": "stderr",
     "output_type": "stream",
     "text": [
      "\r",
      "  0%|          | 0/5000 [00:00<?, ?it/s]\r",
      "  0%|          | 0/5000 [00:00<?, ?it/s]\r",
      " 92%|█████████▏| 4590/5000 [00:00<00:00, 22941.46it/s]\r",
      "  0%|          | 0/5000 [00:00<?, ?it/s]\r",
      "  0%|          | 0/5000 [00:00<?, ?it/s]\r",
      "  0%|          | 0/5000 [00:00<?, ?it/s]\r",
      "100%|██████████| 5000/5000 [00:00<00:00, 22966.10it/s]\n",
      "\r",
      " 47%|████▋     | 2339/5000 [00:00<00:00, 23383.17it/s]\r",
      " 47%|████▋     | 2363/5000 [00:00<00:00, 23621.12it/s]\r",
      " 48%|████▊     | 2402/5000 [00:00<00:00, 24010.98it/s]\r",
      " 48%|████▊     | 2418/5000 [00:00<00:00, 24174.03it/s]\r",
      " 48%|████▊     | 2382/5000 [00:00<00:00, 23816.96it/s]\r",
      " 94%|█████████▎| 4685/5000 [00:00<00:00, 23425.68it/s]"
     ]
    },
    {
     "name": "stdout",
     "output_type": "stream",
     "text": [
      "olr: [0.30012298168380075], w: [0.612692001366644, 0.38730799863335597], means: [[33.80121558705939, 33.64715911302995], [10.210131438784812, 10.303569140883077]], cov: [array([[ 97.96741521,   0.34354596],\n",
      "       [  0.34354596, 100.99327708]]), array([[51.7235301 , -1.33363307],\n",
      "       [-1.33363307, 41.32638081]])]\n",
      "olr: [0.6566566140669766], w: [0.4573768787620873, 0.5426231212379126], means: [[37.31900426774221, 23.895218498052728], [13.467451023538219, 24.698688687366854]], cov: [array([[ 56.6772667 ,   4.65902587],\n",
      "       [  4.65902587, 203.21956839]]), array([[ 72.02510048,   0.46243243],\n",
      "       [  0.46243243, 207.35451918]])]\n",
      "olr: [0.6005742361891271], w: [0.4127898142120871, 0.587210185787913], means: [[23.077340770725886, 38.690628362624224], [25.37576689128636, 14.393317607566283]], cov: [array([[232.68792056, -33.48056304],\n",
      "       [-33.48056304,  46.0653831 ]]), array([[186.93367071,  -0.98964938],\n",
      "       [ -0.98964938,  81.39397145]])]\n",
      "olr: [0.653503231354722], w: [0.47573258748147956, 0.5242674125185205], means: [[37.28220144401407, 23.649564804588145], [13.454282436034966, 24.94439103105682]], cov: [array([[ 56.30505119,  10.45282483],\n",
      "       [ 10.45282483, 199.10175658]]), array([[ 70.15138479,   2.70033691],\n",
      "       [  2.70033691, 217.48977811]])]\n"
     ]
    },
    {
     "name": "stderr",
     "output_type": "stream",
     "text": [
      "\r",
      "  0%|          | 0/5000 [00:00<?, ?it/s]\r",
      " 95%|█████████▍| 4726/5000 [00:00<00:00, 23602.23it/s]\r",
      "100%|██████████| 5000/5000 [00:00<00:00, 23376.68it/s]\n",
      "\r",
      " 96%|█████████▌| 4804/5000 [00:00<00:00, 23970.79it/s]\r",
      "100%|██████████| 5000/5000 [00:00<00:00, 23586.35it/s]\n",
      "\r",
      " 97%|█████████▋| 4836/5000 [00:00<00:00, 23737.89it/s]\r",
      "100%|██████████| 5000/5000 [00:00<00:00, 23852.88it/s]\n",
      "\r",
      " 96%|█████████▌| 4795/5000 [00:00<00:00, 24000.13it/s]\r",
      "100%|██████████| 5000/5000 [00:00<00:00, 23760.42it/s]\n",
      "\r",
      "100%|██████████| 5000/5000 [00:00<00:00, 23944.08it/s]\n",
      "\r",
      " 47%|████▋     | 2355/5000 [00:00<00:00, 23540.48it/s]\r",
      "  0%|          | 0/5000 [00:00<?, ?it/s]\r",
      "  0%|          | 0/5000 [00:00<?, ?it/s]\r",
      "  0%|          | 0/5000 [00:00<?, ?it/s]\r",
      " 94%|█████████▍| 4723/5000 [00:00<00:00, 23618.15it/s]"
     ]
    },
    {
     "name": "stdout",
     "output_type": "stream",
     "text": [
      "olr: [0.1502559332332042], w: [0.6974712925357134, 0.3025287074642867], means: [[16.59715849567348, 31.862040882411836], [41.70631778173305, 7.551485550137884]], cov: [array([[102.69379091,  -0.80716592],\n",
      "       [ -0.80716592, 110.84865068]]), array([[20.08957265, -0.85193572],\n",
      "       [-0.85193572, 21.76432121]])]\n",
      "olr: [0.32162557406788617], w: [0.6363159077522258, 0.3636840922477742], means: [[33.597216110629205, 32.18735841595248], [9.036295517644927, 10.838174931010135]], cov: [array([[ 91.62455238,  -0.6192585 ],\n",
      "       [ -0.6192585 , 134.81191926]]), array([[33.70500877, -0.14319205],\n",
      "       [-0.14319205, 52.97028872]])]\n",
      "olr: [0.4283960365318457], w: [0.5100272714248808, 0.4899727285751191], means: [[14.24796882897548, 13.068898269099313], [35.49778655108215, 36.19610733613091]], cov: [array([[97.87409322, -1.60320784],\n",
      "       [-1.60320784, 76.94395528]]), array([[89.07663325, -3.4448185 ],\n",
      "       [-3.4448185 , 69.11452659]])]\n",
      "olr: [0.6452992589514268], w: [0.4985196167805745, 0.5014803832194256], means: [[24.523217385642187, 36.59932653342755], [23.526932381561416, 12.805521366363653]], cov: [array([[212.54304701,   1.72428072],\n",
      "       [  1.72428072,  62.08603982]]), array([[202.94556741,  -0.90658491],\n",
      "       [ -0.90658491,  63.47742821]])]\n",
      "olr: [0.6671483474360029], w: [0.5413832347188644, 0.4586167652811356], means: [[35.6924677661919, 26.83887174036973], [11.714129862537762, 21.85546966397874]], cov: [array([[ 70.90267585,  -9.11576233],\n",
      "       [ -9.11576233, 179.49926468]]), array([[ 56.76441006,  -3.92791417],\n",
      "       [ -3.92791417, 224.07295183]])]\n"
     ]
    },
    {
     "name": "stderr",
     "output_type": "stream",
     "text": [
      "\r",
      "  0%|          | 0/5000 [00:00<?, ?it/s]\r",
      "100%|██████████| 5000/5000 [00:00<00:00, 23551.89it/s]\n",
      "\r",
      "  0%|          | 0/5000 [00:00<?, ?it/s]\r",
      " 47%|████▋     | 2329/5000 [00:00<00:00, 23287.14it/s]\r",
      " 47%|████▋     | 2340/5000 [00:00<00:00, 23391.27it/s]\r",
      " 47%|████▋     | 2359/5000 [00:00<00:00, 23587.94it/s]\r",
      " 48%|████▊     | 2402/5000 [00:00<00:00, 24010.86it/s]\r",
      " 47%|████▋     | 2369/5000 [00:00<00:00, 23686.69it/s]\r",
      " 94%|█████████▎| 4684/5000 [00:00<00:00, 23440.48it/s]\r",
      "100%|██████████| 5000/5000 [00:00<00:00, 23392.53it/s]\n",
      "\r",
      " 94%|█████████▍| 4703/5000 [00:00<00:00, 23531.36it/s]\r",
      "100%|██████████| 5000/5000 [00:00<00:00, 23510.07it/s]\n",
      "\r",
      " 94%|█████████▍| 4718/5000 [00:00<00:00, 23580.20it/s]\r",
      "100%|██████████| 5000/5000 [00:00<00:00, 23593.89it/s]\n",
      "\r",
      " 96%|█████████▌| 4804/5000 [00:00<00:00, 23978.93it/s]"
     ]
    },
    {
     "name": "stdout",
     "output_type": "stream",
     "text": [
      "2024-01-16 22:51:02,992 - MultiprocessingDispatcher - 54 individuals out of 54 in previous population were evaluated successfully.\n",
      "2024-01-16 22:51:02,995 - EvoGraphOptimizer - Generation num: 14 size: 55\n",
      "2024-01-16 22:51:02,996 - EvoGraphOptimizer - Best individuals: HallOfFame archive fitness (1): ['<custom=0.000>']\n",
      "2024-01-16 22:51:02,996 - EvoGraphOptimizer - no improvements for 3 iterations\n",
      "2024-01-16 22:51:02,997 - EvoGraphOptimizer - spent time: 0.7 min\n",
      "2024-01-16 22:51:02,997 - EvoGraphOptimizer - Next population size: 55; max graph depth: 100\n",
      "2024-01-16 22:51:03,011 - MultiprocessingDispatcher - Number of used CPU's: 6\n"
     ]
    },
    {
     "name": "stderr",
     "output_type": "stream",
     "text": [
      "\r",
      "100%|██████████| 5000/5000 [00:00<00:00, 23944.30it/s]\n",
      "\r",
      " 95%|█████████▍| 4739/5000 [00:00<00:00, 23689.88it/s]\r",
      "100%|██████████| 5000/5000 [00:00<00:00, 23694.04it/s]\n"
     ]
    },
    {
     "name": "stdout",
     "output_type": "stream",
     "text": [
      "olr: [0.5818142278212821], w: [0.4131005340131293, 0.5868994659868707], means: [[9.926080430986111, 23.519626802232825], [34.2009697343146, 25.178468314603432]], cov: [array([[ 42.71956379,  13.24435106],\n",
      "       [ 13.24435106, 209.3710014 ]]), array([[ 84.71624362,  15.74216008],\n",
      "       [ 15.74216008, 200.57323142]])]\n",
      "olr: [0.5271354025902113], w: [0.25171827973291894, 0.7482817202670811], means: [[26.02557917537953, 42.31498242794659], [23.732353069619435, 18.75061896647782]], cov: [array([[259.75644648,  36.78055679],\n",
      "       [ 36.78055679,  20.72433998]]), array([[191.20413395,   7.08313824],\n",
      "       [  7.08313824, 131.85813239]])]\n",
      "olr: [0.6303215278600379], w: [0.6687448289889486, 0.3312551710110514], means: [[23.81170671514779, 16.708014399943917], [26.654509989668547, 40.47635460735867]], cov: [array([[206.73809024,  13.09904653],\n",
      "       [ 13.09904653, 104.2398715 ]]), array([[204.8393597 ,  -0.26178734],\n",
      "       [ -0.26178734,  33.39779496]])]\n",
      "olr: [0.5014781700879761], w: [0.5415692926128287, 0.4584307073871713], means: [[13.438675644616216, 17.994211905298265], [37.62362699435215, 32.10667861062692]], cov: [array([[ 71.4043847 ,  -2.40661082],\n",
      "       [ -2.40661082, 174.04206709]]), array([[ 52.19300364, -10.70143215],\n",
      "       [-10.70143215, 142.61124502]])]\n",
      "olr: [0.6205938116403453], w: [0.6126461723328243, 0.3873538276671758], means: [[24.559267148354785, 33.88150185323052], [23.33747168758703, 9.79008675238711]], cov: [array([[226.86819342,  -4.93589925],\n",
      "       [ -4.93589925,  88.72493452]]), array([[180.23629775,  -3.23553939],\n",
      "       [ -3.23553939,  42.24514673]])]\n",
      "olr: [0.6183209011582463], w: [0.5142324134988928, 0.4857675865011071], means: [[25.896263207383676, 36.218391059411836], [23.094381720833354, 12.029475648142295]], cov: [array([[214.06506503,   5.53056997],\n",
      "       [  5.53056997,  64.63585258]]), array([[194.79546146,  -2.39140914],\n",
      "       [ -2.39140914,  60.01090116]])]\n"
     ]
    },
    {
     "name": "stderr",
     "output_type": "stream",
     "text": [
      "100%|██████████| 5000/5000 [00:00<00:00, 22876.57it/s]\n",
      "100%|██████████| 5000/5000 [00:00<00:00, 22907.43it/s]\n",
      "100%|██████████| 5000/5000 [00:00<00:00, 22917.87it/s]\n",
      "100%|██████████| 5000/5000 [00:00<00:00, 22846.78it/s]\n",
      "100%|██████████| 5000/5000 [00:00<00:00, 22856.05it/s]\n",
      "100%|██████████| 5000/5000 [00:00<00:00, 23054.24it/s]\n",
      " 95%|█████████▍| 4729/5000 [00:00<00:00, 23657.55it/s]"
     ]
    },
    {
     "name": "stdout",
     "output_type": "stream",
     "text": [
      "olr: [0.49812312236342904], w: [0.6527360020714887, 0.34726399792851126], means: [[20.372829590631046, 16.387920091246105], [32.412575819175245, 40.14989932887681]], cov: [array([[207.30246633, -47.09422092],\n",
      "       [-47.09422092, 103.83992428]]), array([[114.98575594,   5.05488758],\n",
      "       [  5.05488758,  35.13416171]])]\n",
      "olr: [0.6196569823072062], w: [0.7032932231793592, 0.2967067768206409], means: [[31.47760864331846, 28.916285324680956], [8.183874953183446, 13.92948464446311]], cov: [array([[117.80399267,  31.61216688],\n",
      "       [ 31.61216688, 193.72344969]]), array([[31.18744043, -2.005868  ],\n",
      "       [-2.005868  , 78.68950781]])]\n",
      "olr: [0.6400191561745231], w: [0.6190214819794688, 0.38097851802053107], means: [[23.09021710064244, 33.60397545317752], [26.40321990698329, 9.792723573908521]], cov: [array([[206.22687782, -42.04832418],\n",
      "       [-42.04832418,  92.87147848]]), array([[199.0202421 ,  -1.25212908],\n",
      "       [ -1.25212908,  41.23020695]])]\n",
      "olr: [0.6476073732759217], w: [0.3779011679930836, 0.6220988320069164], means: [[9.912433258112115, 22.119952644616305], [33.600898793961235, 25.50341399687976]], cov: [array([[ 41.3352677 ,  -3.10728493],\n",
      "       [ -3.10728493, 195.17341287]]), array([[ 96.36169677,  34.96545852],\n",
      "       [ 34.96545852, 208.07612926]])]\n",
      "olr: [0.611021262845656], w: [0.4702134259138023, 0.5297865740861976], means: [[11.938789768748247, 28.262126143052004], [35.83975451684984, 20.91175840342246]], cov: [array([[ 57.69308168, -44.42181799],\n",
      "       [-44.42181799, 206.72073735]]), array([[ 69.02875811,  -0.3506269 ],\n",
      "       [ -0.3506269 , 190.5157172 ]])]\n",
      "olr: [0.6515590055526023], w: [0.6008367908561567, 0.39916320914384334], means: [[24.62422213439922, 15.100826626065295], [24.136646801951546, 38.80785462153528]], cov: [array([[199.11987632,  10.17107731],\n",
      "       [ 10.17107731,  87.17811199]]), array([[214.74694866,  21.3322325 ],\n",
      "       [ 21.3322325 ,  45.5427817 ]])]\n"
     ]
    },
    {
     "name": "stderr",
     "output_type": "stream",
     "text": [
      "\r",
      "100%|██████████| 5000/5000 [00:00<00:00, 23677.02it/s]\n",
      "\r",
      "100%|██████████| 5000/5000 [00:00<00:00, 23541.89it/s]\n",
      "\r",
      " 96%|█████████▌| 4779/5000 [00:00<00:00, 23951.41it/s]\r",
      " 96%|█████████▌| 4783/5000 [00:00<00:00, 23926.40it/s]\r",
      " 96%|█████████▌| 4800/5000 [00:00<00:00, 23600.01it/s]\r",
      " 95%|█████████▌| 4766/5000 [00:00<00:00, 23686.38it/s]\r",
      "100%|██████████| 5000/5000 [00:00<00:00, 23860.01it/s]\n",
      "\r",
      "100%|██████████| 5000/5000 [00:00<00:00, 23859.33it/s]\n",
      "\r",
      "100%|██████████| 5000/5000 [00:00<00:00, 23645.33it/s]\n",
      "\r",
      "100%|██████████| 5000/5000 [00:00<00:00, 23710.62it/s]\n",
      "\r",
      "  0%|          | 0/5000 [00:00<?, ?it/s]\r",
      "  0%|          | 0/5000 [00:00<?, ?it/s]"
     ]
    },
    {
     "name": "stdout",
     "output_type": "stream",
     "text": [
      "olr: [0.6029915290576775], w: [0.4654379137989719, 0.534562086201028], means: [[20.030540497170932, 11.90029559342593], [28.54416243241161, 35.88011896188209]], cov: [array([[179.41717724,  -9.54338671],\n",
      "       [ -9.54338671,  57.5382007 ]]), array([[205.4225883 ,  -3.10952264],\n",
      "       [ -3.10952264,  70.29472358]])]\n",
      "olr: [0.5451460990379877], w: [0.7228948064017336, 0.27710519359826635], means: [[17.95022942214689, 23.016272511325848], [41.894820614011635, 29.116221295124596]], cov: [array([[124.8689076 ,  -1.46120237],\n",
      "       [ -1.46120237, 201.03286292]]), array([[ 22.99149863,   3.94024549],\n",
      "       [  3.94024549, 195.4535717 ]])]\n",
      "olr: [0.6593360572005372], w: [0.5751509166464774, 0.42484908335352267], means: [[23.32986706168936, 34.393111050604574], [25.706082470563103, 10.459645147034127]], cov: [array([[191.3352896 ,  -4.988157  ],\n",
      "       [ -4.988157  ,  83.53448032]]), array([[223.2327506 , -13.49854106],\n",
      "       [-13.49854106,  48.00524721]])]\n",
      "olr: [0.5994287689959962], w: [0.40903914263145336, 0.5909608573685465], means: [[10.690478663168903, 23.11870593980112], [34.335227994031825, 25.826320226344343]], cov: [array([[ 46.65035654, -25.62700713],\n",
      "       [-25.62700713, 201.28182467]]), array([[ 81.26524983,  50.51322515],\n",
      "       [ 50.51322515, 204.36048095]])]\n",
      "olr: [0.684268588554697], w: [0.486266675901129, 0.513733324098871], means: [[12.017895928193006, 25.11789307564315], [35.74753054590148, 24.31028909867537]], cov: [array([[ 59.64795787,   6.667172  ],\n",
      "       [  6.667172  , 198.8602611 ]]), array([[ 70.07406871,   8.11151005],\n",
      "       [  8.11151005, 218.57787798]])]\n",
      "olr: [0.6225168188169294], w: [0.6349958244990365, 0.3650041755009635], means: [[22.303720024924644, 16.238240722247088], [29.31043432227529, 40.07018529059044]], cov: [array([[202.93001262,  48.26836869],\n",
      "       [ 48.26836869, 104.41941378]]), array([[186.84661923,  16.87713483],\n",
      "       [ 16.87713483,  34.82481614]])]\n"
     ]
    },
    {
     "name": "stderr",
     "output_type": "stream",
     "text": [
      "100%|██████████| 5000/5000 [00:00<00:00, 23680.50it/s]\n",
      "100%|██████████| 5000/5000 [00:00<00:00, 23970.08it/s]\n",
      "100%|██████████| 5000/5000 [00:00<00:00, 23649.01it/s]\n",
      "100%|██████████| 5000/5000 [00:00<00:00, 23656.59it/s]\n",
      "100%|██████████| 5000/5000 [00:00<00:00, 23868.27it/s]\n",
      "100%|██████████| 5000/5000 [00:00<00:00, 23725.72it/s]\n",
      "  0%|          | 0/5000 [00:00<?, ?it/s]"
     ]
    },
    {
     "name": "stdout",
     "output_type": "stream",
     "text": [
      "olr: [0.6307296597261288], w: [0.4002523748632758, 0.5997476251367242], means: [[16.185604924962895, 10.366345266951184], [30.04609344818473, 34.267823375815595]], cov: [array([[105.33145726,  -6.48408452],\n",
      "       [ -6.48408452,  46.44332813]]), array([[205.27699917,  28.78979714],\n",
      "       [ 28.78979714,  89.54751557]])]\n",
      "olr: [0.5888227380886565], w: [0.3033608239718792, 0.6966391760281208], means: [[10.489815215416648, 8.948805749322672], [30.176598928582017, 30.72678604778483]], cov: [array([[48.51275979, -4.27853604],\n",
      "       [-4.27853604, 39.04438685]]), array([[164.51374721,  12.22840624],\n",
      "       [ 12.22840624, 132.64957842]])]\n",
      "olr: [0.3194721945731179], w: [0.13225980638488655, 0.8677401936151135], means: [[42.326365486058755, 43.88300548958501], [21.652244801018778, 21.37672350185973]], cov: [array([[19.27936234, -0.58347122],\n",
      "       [-0.58347122, 18.11266256]]), array([[181.02418885, -26.55464518],\n",
      "       [-26.55464518, 166.7443949 ]])]\n",
      "olr: [0.629378880918019], w: [0.44412351509616066, 0.5558764849038395], means: [[23.688244715091482, 37.993522080350054], [25.685370542604335, 13.999842832239196]], cov: [array([[209.24939601,   1.62522812],\n",
      "       [  1.62522812,  51.72379268]]), array([[208.93869101, -36.54474291],\n",
      "       [-36.54474291,  77.07823775]])]\n",
      "olr: [0.5967487663174093], w: [0.807216122791711, 0.1927838772082891], means: [[27.490275296580688, 28.741032952757955], [9.28089312512518, 7.202753855529462]], cov: [array([[180.53819584,  15.27911503],\n",
      "       [ 15.27911503, 167.92331855]]), array([[40.86804425, -3.32672906],\n",
      "       [-3.32672906, 26.96693721]])]\n",
      "olr: [0.6022784934118974], w: [0.38334725664154934, 0.6166527433584507], means: [[28.266574483388506, 39.40041071788101], [22.6709219535777, 15.366445285141511]], cov: [array([[179.332085  ,  11.60327784],\n",
      "       [ 11.60327784,  40.48098393]]), array([[204.89316066,  44.37835083],\n",
      "       [ 44.37835083,  92.44394808]])]\n"
     ]
    },
    {
     "name": "stderr",
     "output_type": "stream",
     "text": [
      "100%|██████████| 5000/5000 [00:00<00:00, 23764.79it/s]\n",
      "100%|██████████| 5000/5000 [00:00<00:00, 23663.61it/s]\n",
      "100%|██████████| 5000/5000 [00:00<00:00, 23804.98it/s]\n",
      "100%|██████████| 5000/5000 [00:00<00:00, 23815.58it/s]\n",
      "100%|██████████| 5000/5000 [00:00<00:00, 23687.99it/s]\n",
      "100%|██████████| 5000/5000 [00:00<00:00, 23642.86it/s]\n",
      "  0%|          | 0/5000 [00:00<?, ?it/s]"
     ]
    },
    {
     "name": "stdout",
     "output_type": "stream",
     "text": [
      "olr: [0.12839170402002914], w: [0.5053100782835294, 0.4946899217164706], means: [[36.27243252988721, 12.554901330068732], [12.104095951686954, 37.37145434844113]], cov: [array([[63.63970224,  4.08912703],\n",
      "       [ 4.08912703, 60.33668861]]), array([[48.57088712,  2.34185358],\n",
      "       [ 2.34185358, 53.20641378]])]\n",
      "olr: [0.1103760171843382], w: [0.508428320588429, 0.4915716794115709], means: [[36.918988340591525, 12.357786187372323], [11.873631058559022, 36.837255442053745]], cov: [array([[55.70982711,  1.17124118],\n",
      "       [ 1.17124118, 52.65310557]]), array([[52.83113585,  1.10666261],\n",
      "       [ 1.10666261, 54.29543273]])]\n",
      "olr: [0.5863227486469185], w: [0.5345874801460718, 0.4654125198539282], means: [[21.087316206386443, 35.664479274865236], [28.363192228536377, 11.625849462378492]], cov: [array([[226.29753384, -64.84824191],\n",
      "       [-64.84824191,  71.74848912]]), array([[159.52259204,  -5.95379609],\n",
      "       [ -5.95379609,  56.89095523]])]\n",
      "olr: [0.1210347311371523], w: [0.2109455092323899, 0.7890544907676101], means: [[44.27993279049601, 4.94895529431239], [19.295938628929278, 29.725247596595732]], cov: [array([[ 9.15161451, -0.32477244],\n",
      "       [-0.32477244,  9.99957527]]), array([[131.43401677,  -2.36475418],\n",
      "       [ -2.36475418, 137.15351152]])]\n",
      "olr: [0.5903960003302215], w: [0.43085784209624856, 0.5691421579037514], means: [[21.879371630593784, 10.995586051505123], [26.437509405804814, 35.03143326212115]], cov: [array([[204.95950569,  39.43439475],\n",
      "       [ 39.43439475,  51.27757969]]), array([[208.13018604, -24.34014552],\n",
      "       [-24.34014552,  80.89381291]])]\n",
      "olr: [0.6630809827880008], w: [0.5013718243775472, 0.4986281756224527], means: [[24.21672989166639, 36.0690959254481], [24.476783604378763, 12.165320510893729]], cov: [array([[212.84460453,  20.02883521],\n",
      "       [ 20.02883521,  68.95312015]]), array([[209.64642115,   4.30501352],\n",
      "       [  4.30501352,  61.23240799]])]\n"
     ]
    },
    {
     "name": "stderr",
     "output_type": "stream",
     "text": [
      "100%|██████████| 5000/5000 [00:00<00:00, 23736.41it/s]\n",
      "100%|██████████| 5000/5000 [00:00<00:00, 23427.21it/s]\n",
      "100%|██████████| 5000/5000 [00:00<00:00, 23732.94it/s]\n",
      "100%|██████████| 5000/5000 [00:00<00:00, 23475.93it/s]\n",
      "100%|██████████| 5000/5000 [00:00<00:00, 23786.78it/s]\n",
      "100%|██████████| 5000/5000 [00:00<00:00, 23811.11it/s]\n",
      " 44%|████▎     | 2176/5000 [00:00<00:00, 21752.66it/s]"
     ]
    },
    {
     "name": "stdout",
     "output_type": "stream",
     "text": [
      "olr: [0.10688962354049235], w: [0.4897785403193251, 0.5102214596806748], means: [[11.753497054834094, 11.72024389474517], [36.856915780463666, 36.97860153677861]], cov: [array([[51.1606792 , -0.48839909],\n",
      "       [-0.48839909, 50.75010219]]), array([[53.81116336,  4.0369182 ],\n",
      "       [ 4.0369182 , 53.63437497]])]\n",
      "olr: [0.577936958883852], w: [0.699428960448871, 0.30057103955112896], means: [[25.228822590282174, 17.057125398997712], [22.64632964138909, 41.157499845651564]], cov: [array([[193.08407546,  -7.22957773],\n",
      "       [ -7.22957773, 115.87134667]]), array([[249.56193823, -34.39606359],\n",
      "       [-34.39606359,  28.60106674]])]\n",
      "olr: [0.25431414763406957], w: [0.4600096877246538, 0.5399903122753461], means: [[36.83327366557361, 37.3937709091025], [13.683462675632269, 13.414135321677655]], cov: [array([[68.70201971, -1.65941895],\n",
      "       [-1.65941895, 54.85940743]]), array([[ 7.96810445e+01, -4.61078613e-02],\n",
      "       [-4.61078613e-02,  7.09615999e+01]])]\n",
      "olr: [0.6342366422119637], w: [0.46192991193680166, 0.5380700880631983], means: [[37.39021798906212, 24.49752702814087], [13.2200991187215, 24.994623926468527]], cov: [array([[ 56.2477071 ,  -0.26512838],\n",
      "       [ -0.26512838, 214.17570646]]), array([[ 71.79939506,   4.96488284],\n",
      "       [  4.96488284, 212.24928521]])]\n",
      "olr: [0.5702996927494485], w: [0.20916863160786764, 0.7908313683921323], means: [[15.755286440443307, 5.875927833322788], [26.36477146455824, 29.213737768962126]], cov: [array([[103.07079956,  -3.32616236],\n",
      "       [ -3.32616236,  18.48421003]]), array([[212.29921424,  19.81576427],\n",
      "       [ 19.81576427, 145.44963842]])]\n",
      "olr: [0.5775412625089232], w: [0.4920682098572299, 0.5079317901427702], means: [[26.54309901883123, 36.709027622411824], [22.680180696117606, 12.662831145954325]], cov: [array([[193.67693432, -11.74879677],\n",
      "       [-11.74879677,  60.34299285]]), array([[215.3934506 ,  47.16188146],\n",
      "       [ 47.16188146,  64.47597015]])]\n"
     ]
    },
    {
     "name": "stderr",
     "output_type": "stream",
     "text": [
      "100%|██████████| 5000/5000 [00:00<00:00, 21295.16it/s]\n",
      "100%|██████████| 5000/5000 [00:00<00:00, 21225.57it/s]\n",
      "100%|██████████| 5000/5000 [00:00<00:00, 20888.99it/s]\n",
      "100%|██████████| 5000/5000 [00:00<00:00, 20574.41it/s]\n",
      "100%|██████████| 5000/5000 [00:00<00:00, 21238.77it/s]\n",
      "100%|██████████| 5000/5000 [00:00<00:00, 20882.64it/s]\n",
      "  0%|          | 0/5000 [00:00<?, ?it/s] 20993.81it/s]"
     ]
    },
    {
     "name": "stdout",
     "output_type": "stream",
     "text": [
      "olr: [0.15147523281547523], w: [0.5075718567959102, 0.4924281432040898], means: [[36.732854237181684, 12.502762745915414], [12.152101889391938, 36.926300311882684]], cov: [array([[58.64031504, -3.8017596 ],\n",
      "       [-3.8017596 , 57.54721955]]), array([[59.26912126,  2.64966963],\n",
      "       [ 2.64966963, 54.7862221 ]])]\n",
      "olr: [0.39424120102543175], w: [0.7451479534917178, 0.2548520465082822], means: [[21.184323694583938, 18.44330403965128], [33.24966257471024, 41.852556749556086]], cov: [array([[165.27842895,  -2.45304896],\n",
      "       [ -2.45304896, 126.11153607]]), array([[215.08389938,  56.2297051 ],\n",
      "       [ 56.2297051 ,  23.78929604]])]\n",
      "olr: [0.6751639414612096], w: [0.49450927530820415, 0.5054907246917959], means: [[21.366584624177097, 12.792017424998166], [27.159006191572104, 36.51902563531614]], cov: [array([[166.49102489,  15.7638838 ],\n",
      "       [ 15.7638838 ,  65.76433493]]), array([[239.56647173,  34.25987986],\n",
      "       [ 34.25987986,  61.66816928]])]\n",
      "olr: [0.5633714721592126], w: [0.25960880254124663, 0.7403911974587534], means: [[26.17071527563876, 42.064392400011165], [24.006838555956357, 18.318037148413737]], cov: [array([[252.4498564 ,  32.61296454],\n",
      "       [ 32.61296454,  22.44074271]]), array([[190.75521564,   9.80887744],\n",
      "       [  9.80887744, 129.22836258]])]\n",
      "olr: [0.39971590679497504], w: [0.43352971830286186, 0.5664702816971382], means: [[35.56957099362294, 37.68806626629137], [15.393806504474503, 13.87310773770945]], cov: [array([[72.38222516, -4.01240782],\n",
      "       [-4.01240782, 56.0620847 ]]), array([[130.11403985,  -5.57523884],\n",
      "       [ -5.57523884,  77.39957645]])]\n",
      "olr: [0.6237816333284539], w: [0.5171328159059599, 0.48286718409404], means: [[26.4485099466665, 13.331910701817925], [21.96671864265227, 37.45798445859915]], cov: [array([[196.74021105,   4.92869745],\n",
      "       [  4.92869745,  72.190373  ]]), array([[206.70068977,   6.97357283],\n",
      "       [  6.97357283,  55.3809597 ]])]\n"
     ]
    },
    {
     "name": "stderr",
     "output_type": "stream",
     "text": [
      "100%|██████████| 5000/5000 [00:00<00:00, 22297.60it/s]\n",
      "100%|██████████| 5000/5000 [00:00<00:00, 23220.13it/s]\n",
      "100%|██████████| 5000/5000 [00:00<00:00, 23781.87it/s]\n",
      "100%|██████████| 5000/5000 [00:00<00:00, 23358.29it/s]\n",
      "100%|██████████| 5000/5000 [00:00<00:00, 23909.33it/s]\n",
      "100%|██████████| 5000/5000 [00:00<00:00, 23804.36it/s]\n",
      "  0%|          | 0/5000 [00:00<?, ?it/s] 23273.25it/s]"
     ]
    },
    {
     "name": "stdout",
     "output_type": "stream",
     "text": [
      "olr: [0.41829913851772005], w: [0.6019150034330102, 0.39808499656698987], means: [[31.496627244876255, 14.58542952101968], [13.58279651431695, 38.69276981703931]], cov: [array([[163.89211305,   7.61158543],\n",
      "       [  7.61158543,  80.33810462]]), array([[79.986851  ,  3.89682474],\n",
      "       [ 3.89682474, 42.5519292 ]])]\n",
      "olr: [0.6305371301391972], w: [0.534944488943038, 0.4650555110569619], means: [[35.380446678631856, 25.037684858848806], [11.466211895443491, 23.925377087948267]], cov: [array([[ 69.66271449,   6.1846959 ],\n",
      "       [  6.1846959 , 206.55826894]]), array([[ 55.74887816,  -1.4436302 ],\n",
      "       [ -1.4436302 , 202.41063194]])]\n",
      "olr: [0.47612646549597804], w: [0.2197616848500168, 0.7802383151499833], means: [[38.07928597595387, 42.45221139297728], [21.000035037870504, 19.593283490226327]], cov: [array([[52.61301885, -6.22487303],\n",
      "       [-6.22487303, 25.40299981]]), array([[191.26021674, -15.22524146],\n",
      "       [-15.22524146, 145.17163017]])]\n",
      "olr: [0.676183553004303], w: [0.5111308369267415, 0.4888691630732584], means: [[36.212633541977986, 26.788237190831484], [12.128411358764476, 22.215976635921976]], cov: [array([[ 63.34790784,  -4.20699763],\n",
      "       [ -4.20699763, 259.81434274]]), array([[ 59.5500578 ,  -7.89293199],\n",
      "       [ -7.89293199, 136.80933891]])]\n",
      "olr: [0.3765820536383342], w: [0.4904745104637073, 0.5095254895362926], means: [[12.376877954807624, 14.41180081729599], [36.37356172487733, 34.56113464561419]], cov: [array([[ 60.96939037,  -3.58551501],\n",
      "       [ -3.58551501, 108.38510065]]), array([[65.1597128 , -2.68767772],\n",
      "       [-2.68767772, 98.97516387]])]\n",
      "olr: [0.6711501758121788], w: [0.5568195426649771, 0.44318045733502276], means: [[24.477692665946346, 35.30913007921766], [24.987433856729346, 11.347039911532837]], cov: [array([[208.44002979, -18.12602658],\n",
      "       [-18.12602658,  78.63538545]]), array([[206.02385172,   7.03078261],\n",
      "       [  7.03078261,  55.56791568]])]\n"
     ]
    },
    {
     "name": "stderr",
     "output_type": "stream",
     "text": [
      "\r",
      "  0%|          | 0/5000 [00:00<?, ?it/s]\r",
      " 47%|████▋     | 2336/5000 [00:00<00:00, 23354.40it/s]\r",
      "  0%|          | 0/5000 [00:00<?, ?it/s]\r",
      " 93%|█████████▎| 4665/5000 [00:00<00:00, 23327.00it/s]\r",
      "100%|██████████| 5000/5000 [00:00<00:00, 23312.88it/s]\n",
      "\r",
      " 47%|████▋     | 2358/5000 [00:00<00:00, 23573.62it/s]\r",
      " 48%|████▊     | 2384/5000 [00:00<00:00, 23835.70it/s]\r",
      " 48%|████▊     | 2410/5000 [00:00<00:00, 24094.91it/s]\r",
      " 93%|█████████▎| 4672/5000 [00:00<00:00, 23352.01it/s]\r",
      " 47%|████▋     | 2363/5000 [00:00<00:00, 23623.04it/s]\r",
      "100%|██████████| 5000/5000 [00:00<00:00, 23385.07it/s]\n",
      "\r",
      " 94%|█████████▍| 4723/5000 [00:00<00:00, 23613.92it/s]\r",
      "  0%|          | 0/5000 [00:00<?, ?it/s]\r",
      "100%|██████████| 5000/5000 [00:00<00:00, 23571.69it/s]\n",
      "\r",
      " 95%|█████████▌| 4768/5000 [00:00<00:00, 23549.70it/s]\r",
      " 96%|█████████▋| 4820/5000 [00:00<00:00, 24060.63it/s]"
     ]
    },
    {
     "name": "stdout",
     "output_type": "stream",
     "text": [
      "olr: [0.6372475912433991], w: [0.41892008365941563, 0.5810799163405843], means: [[10.56304491578817, 28.036247044808327], [34.91590015354817, 22.778713685115378]], cov: [array([[ 45.11796947, -23.87509794],\n",
      "       [-23.87509794, 253.2816186 ]]), array([[ 80.6098237 ,   2.15850885],\n",
      "       [  2.15850885, 164.59042502]])]\n",
      "olr: [0.6430001536113014], w: [0.544371112285249, 0.45562888771475096], means: [[26.58506029668021, 35.2916642993849], [22.50573094159372, 11.444922812293024]], cov: [array([[189.1930427 ,  40.17437186],\n",
      "       [ 40.17437186,  75.70010384]]), array([[218.22682718, -16.43368297],\n",
      "       [-16.43368297,  53.31455781]])]\n",
      "olr: [0.17091398618976938], w: [0.28595194233300397, 0.7140480576669961], means: [[42.403698722438406, 42.36978469505818], [17.79569295340236, 18.038110505194698]], cov: [array([[17.91466462,  1.17958634],\n",
      "       [ 1.17958634, 17.74097678]]), array([[115.55510119,   2.29557454],\n",
      "       [  2.29557454, 117.92921203]])]\n",
      "olr: [0.6403530394299252], w: [0.5096861174162755, 0.49031388258372455], means: [[25.49567669934739, 36.602243130521394], [23.42541775828209, 12.340961626850866]], cov: [array([[220.89909483,  19.66866729],\n",
      "       [ 19.66866729,  66.0842243 ]]), array([[190.56309451,   7.9758908 ],\n",
      "       [  7.9758908 ,  62.23662974]])]\n",
      "olr: [0.643009668948866], w: [0.38725597106965326, 0.6127440289303467], means: [[27.963309119643394, 9.413837282893144], [22.50701911632875, 33.45546318469599]], cov: [array([[158.35174109, -15.52099627],\n",
      "       [-15.52099627,  40.73853134]]), array([[226.38261318, -42.07293174],\n",
      "       [-42.07293174,  94.03504687]])]\n"
     ]
    },
    {
     "name": "stderr",
     "output_type": "stream",
     "text": [
      "\r",
      " 95%|█████████▌| 4774/5000 [00:00<00:00, 23907.86it/s]\r",
      "100%|██████████| 5000/5000 [00:00<00:00, 23568.62it/s]\n",
      "\r",
      "100%|██████████| 5000/5000 [00:00<00:00, 23973.37it/s]\n",
      "\r",
      "100%|██████████| 5000/5000 [00:00<00:00, 23789.64it/s]\n",
      "\r",
      " 48%|████▊     | 2387/5000 [00:00<00:00, 23869.34it/s]\r",
      "  0%|          | 0/5000 [00:00<?, ?it/s]\r",
      "  0%|          | 0/5000 [00:00<?, ?it/s]\r",
      "  0%|          | 0/5000 [00:00<?, ?it/s]\r",
      "  0%|          | 0/5000 [00:00<?, ?it/s]\r",
      " 46%|████▌     | 2284/5000 [00:00<00:00, 22836.27it/s]\r",
      "  0%|          | 0/5000 [00:00<?, ?it/s]\r",
      " 95%|█████████▌| 4774/5000 [00:00<00:00, 23351.84it/s]"
     ]
    },
    {
     "name": "stdout",
     "output_type": "stream",
     "text": [
      "olr: [0.6708222003253177], w: [0.4948720146382821, 0.5051279853617179], means: [[12.226323664932776, 23.248198787248832], [35.9155206245873, 25.46546103604137]], cov: [array([[ 59.99061189,  -1.17200235],\n",
      "       [ -1.17200235, 195.63640569]]), array([[ 67.39985109,  23.6804147 ],\n",
      "       [ 23.6804147 , 218.70083632]])]\n"
     ]
    },
    {
     "name": "stderr",
     "output_type": "stream",
     "text": [
      "\r",
      "100%|██████████| 5000/5000 [00:00<00:00, 23421.90it/s]\n",
      "\r",
      " 47%|████▋     | 2372/5000 [00:00<00:00, 23715.61it/s]\r",
      " 47%|████▋     | 2366/5000 [00:00<00:00, 23652.80it/s]\r",
      " 47%|████▋     | 2369/5000 [00:00<00:00, 23686.24it/s]\r",
      " 93%|█████████▎| 4657/5000 [00:00<00:00, 23361.15it/s]\r",
      " 48%|████▊     | 2388/5000 [00:00<00:00, 23879.23it/s]\r",
      "100%|██████████| 5000/5000 [00:00<00:00, 23252.70it/s]\n",
      "\r",
      " 95%|█████████▍| 4744/5000 [00:00<00:00, 23639.57it/s]\r",
      "100%|██████████| 5000/5000 [00:00<00:00, 23635.37it/s]\n",
      "\r",
      " 95%|█████████▍| 4737/5000 [00:00<00:00, 23683.54it/s]\r",
      "100%|██████████| 5000/5000 [00:00<00:00, 23640.08it/s]\n",
      "\r",
      " 95%|█████████▌| 4751/5000 [00:00<00:00, 23760.57it/s]\r",
      " 96%|█████████▌| 4776/5000 [00:00<00:00, 23763.25it/s]\r",
      "100%|██████████| 5000/5000 [00:00<00:00, 23711.58it/s]\n",
      "\r",
      "100%|██████████| 5000/5000 [00:00<00:00, 23685.20it/s]\n"
     ]
    },
    {
     "name": "stdout",
     "output_type": "stream",
     "text": [
      "2024-01-16 22:51:06,697 - MultiprocessingDispatcher - 54 individuals out of 54 in previous population were evaluated successfully.\n",
      "2024-01-16 22:51:06,700 - EvoGraphOptimizer - Generation num: 15 size: 55\n",
      "2024-01-16 22:51:06,700 - EvoGraphOptimizer - Best individuals: HallOfFame archive fitness (1): ['<custom=0.000>']\n",
      "2024-01-16 22:51:06,701 - EvoGraphOptimizer - no improvements for 4 iterations\n",
      "2024-01-16 22:51:06,701 - EvoGraphOptimizer - spent time: 0.7 min\n",
      "2024-01-16 22:51:06,702 - EvoGraphOptimizer - Next population size: 55; max graph depth: 100\n",
      "2024-01-16 22:51:06,716 - MultiprocessingDispatcher - Number of used CPU's: 6\n",
      "olr: [0.5522571161468902], w: [0.2524389164436191, 0.7475610835563808], means: [[6.851189104763339, 26.31494190956489], [30.638156198664408, 23.93768880121623]], cov: [array([[ 21.92837728, -29.01702377],\n",
      "       [-29.01702377, 230.7290223 ]]), array([[128.77447697, -10.16654391],\n",
      "       [-10.16654391, 199.18894562]])]\n",
      "olr: [0.15391819877341073], w: [0.7887380515731505, 0.2112619484268494], means: [[29.621955496485278, 29.396581655371797], [5.249580183152009, 5.351637957758095]], cov: [array([[131.57367068,   1.82703082],\n",
      "       [  1.82703082, 134.62199192]]), array([[12.21979272,  0.40295724],\n",
      "       [ 0.40295724, 10.93082751]])]\n",
      "olr: [0.27615113414986986], w: [0.8069138214019046, 0.19308617859809543], means: [[20.36871228987517, 28.822798704134804], [43.13309523037521, 5.178440846509034]], cov: [array([[152.58562893,  -7.29090772],\n",
      "       [ -7.29090772, 145.93282596]]), array([[19.2664862 , -1.78594031],\n",
      "       [-1.78594031, 12.266417  ]])]\n",
      "olr: [0.4450972547313159], w: [0.7729761895053462, 0.22702381049465367], means: [[29.49222904435112, 29.483418397112693], [8.772688507602451, 6.913898548297727]], cov: [array([[163.89834589,   4.48702286],\n",
      "       [  4.48702286, 147.45121345]]), array([[29.89174426, -0.68216484],\n",
      "       [-0.68216484, 25.85017257]])]\n",
      "olr: [0.624004914141264], w: [0.4992281519922668, 0.5007718480077332], means: [[24.838221674381202, 11.966198586918209], [23.80976594862472, 36.26908514393937]], cov: [array([[205.03965172,  -1.31560393],\n",
      "       [ -1.31560393,  59.2484658 ]]), array([[218.13116316,  -6.07842105],\n",
      "       [ -6.07842105,  64.87199949]])]\n",
      "olr: [0.11556722812018108], w: [0.24500330082872288, 0.7549966991712771], means: [[43.02676892302945, 43.14143113103951], [18.31464906408311, 18.58234212920388]], cov: [array([[13.82241038, -0.68844623],\n",
      "       [-0.68844623, 13.22886105]]), array([[122.2192811 ,  -1.42689209],\n",
      "       [ -1.42689209, 116.97234009]])]\n"
     ]
    },
    {
     "name": "stderr",
     "output_type": "stream",
     "text": [
      "100%|██████████| 5000/5000 [00:00<00:00, 23807.33it/s]\n",
      "100%|██████████| 5000/5000 [00:00<00:00, 23808.33it/s]\n",
      "100%|██████████| 5000/5000 [00:00<00:00, 23762.17it/s]\n",
      "100%|██████████| 5000/5000 [00:00<00:00, 23723.73it/s]\n",
      "100%|██████████| 5000/5000 [00:00<00:00, 23983.18it/s]\n",
      "100%|██████████| 5000/5000 [00:00<00:00, 23752.65it/s]\n",
      "  0%|          | 0/5000 [00:00<?, ?it/s]"
     ]
    },
    {
     "name": "stdout",
     "output_type": "stream",
     "text": [
      "olr: [0.438414185585797], w: [0.8010807983846147, 0.19891920161538532], means: [[27.90637506511917, 19.69532255981938], [11.295735980070413, 43.063993871744884]], cov: [array([[188.08737379,  18.94138172],\n",
      "       [ 18.94138172, 147.54637643]]), array([[54.56026815,  2.1957873 ],\n",
      "       [ 2.1957873 , 20.4376129 ]])]\n",
      "olr: [0.23294350288490476], w: [0.5799871708872634, 0.4200128291127367], means: [[14.482535149598743, 14.216721000266066], [38.16672801441036, 38.28903093682772]], cov: [array([[90.76579293, -3.79374   ],\n",
      "       [-3.79374   , 83.01210791]]), array([[45.16565755, -1.0855675 ],\n",
      "       [-1.0855675 , 50.42865704]])]\n",
      "olr: [0.6065447107342078], w: [0.4639720820754475, 0.5360279179245525], means: [[11.749945783611915, 20.293880974780766], [35.907743882125715, 28.55150875349328]], cov: [array([[ 55.81675209,  -1.53323272],\n",
      "       [ -1.53323272, 178.65021643]]), array([[ 69.82289411,   9.38052318],\n",
      "       [  9.38052318, 202.5211759 ]])]\n",
      "olr: [0.49761366989470607], w: [0.09088621806110013, 0.9091137819388998], means: [[44.500010964600406, 39.95710975437946], [22.17122069886797, 22.972096369754137]], cov: [array([[13.56133298, 17.62556707],\n",
      "       [17.62556707, 63.6900309 ]]), array([[183.22702861, -12.61675407],\n",
      "       [-12.61675407, 196.81320639]])]\n",
      "olr: [0.5870607088095486], w: [0.49697642577544177, 0.5030235742245582], means: [[36.827144482964606, 26.13687882630302], [12.495194431055785, 22.915401922758125]], cov: [array([[ 60.85367183,  26.56043506],\n",
      "       [ 26.56043506, 216.52790758]]), array([[ 60.78512344,  12.09519077],\n",
      "       [ 12.09519077, 199.14311595]])]\n",
      "olr: [0.627075470920922], w: [0.5099523839948381, 0.49004761600516183], means: [[12.836523955985493, 23.18363744346455], [36.775985471274126, 26.03961002821987]], cov: [array([[ 62.95308037,   7.48073067],\n",
      "       [  7.48073067, 202.36272688]]), array([[ 60.70310826,   1.82775423],\n",
      "       [  1.82775423, 202.09176124]])]\n"
     ]
    },
    {
     "name": "stderr",
     "output_type": "stream",
     "text": [
      "100%|██████████| 5000/5000 [00:00<00:00, 23802.60it/s]\n",
      "100%|██████████| 5000/5000 [00:00<00:00, 23766.99it/s]\n",
      "100%|██████████| 5000/5000 [00:00<00:00, 23893.34it/s]\n",
      "100%|██████████| 5000/5000 [00:00<00:00, 23429.17it/s]\n",
      "100%|██████████| 5000/5000 [00:00<00:00, 23646.43it/s]\n",
      "100%|██████████| 5000/5000 [00:00<00:00, 23627.83it/s]\n",
      "  0%|          | 0/5000 [00:00<?, ?it/s]"
     ]
    },
    {
     "name": "stdout",
     "output_type": "stream",
     "text": [
      "olr: [0.5899406920752088], w: [0.5282249648072267, 0.47177503519277325], means: [[13.192963535023772, 28.55183430759631], [37.26298763101306, 20.1901491540265]], cov: [array([[ 68.47948198,   1.54197467],\n",
      "       [  1.54197467, 184.66398999]]), array([[ 56.26050615,  11.23129122],\n",
      "       [ 11.23129122, 206.38030708]])]\n",
      "olr: [0.322938823605299], w: [0.23129797114437345, 0.7687020288556266], means: [[6.431683085349254, 11.893067189889198], [30.089636664220713, 28.170808551829662]], cov: [array([[23.68299877, -2.23224761],\n",
      "       [-2.23224761, 54.01749903]]), array([[132.20771213, -59.62055351],\n",
      "       [-59.62055351, 192.41427346]])]\n",
      "olr: [0.6381484017585446], w: [0.41821231073096726, 0.5817876892690329], means: [[10.177956703479024, 22.218728057792013], [34.142099557787276, 25.681970713784818]], cov: [array([[ 46.22341122,  16.25011021],\n",
      "       [ 16.25011021, 214.48932899]]), array([[ 87.54990071,  18.8792662 ],\n",
      "       [ 18.8792662 , 199.70630828]])]\n",
      "olr: [0.4548716574356136], w: [0.21672541945686125, 0.7832745805431388], means: [[42.04991170709916, 39.26665868099556], [19.83303892791057, 20.61463160912891]], cov: [array([[20.52251563, -4.75050446],\n",
      "       [-4.75050446, 56.27707968]]), array([[151.11739955, -11.63642863],\n",
      "       [-11.63642863, 181.66433379]])]\n",
      "olr: [0.6224348768984702], w: [0.5143547654472662, 0.4856452345527337], means: [[12.843037165200393, 24.69105081420827], [36.609280533014875, 24.781135474118564]], cov: [array([[ 64.12505165, -21.97100862],\n",
      "       [-21.97100862, 212.85013715]]), array([[ 59.77605758,  -4.93654042],\n",
      "       [ -4.93654042, 201.89626599]])]\n",
      "olr: [0.5714981860887033], w: [0.586279738585099, 0.41372026141490104], means: [[14.517183892915426, 21.628167273219553], [38.55423751236966, 28.995543278340424]], cov: [array([[ 84.25096253, -26.30093225],\n",
      "       [-26.30093225, 200.92050479]]), array([[ 46.97190158,  32.91118434],\n",
      "       [ 32.91118434, 186.21914383]])]\n"
     ]
    },
    {
     "name": "stderr",
     "output_type": "stream",
     "text": [
      "100%|██████████| 5000/5000 [00:00<00:00, 23720.57it/s]\n",
      "100%|██████████| 5000/5000 [00:00<00:00, 23929.85it/s]\n",
      "100%|██████████| 5000/5000 [00:00<00:00, 23356.29it/s]\n",
      "100%|██████████| 5000/5000 [00:00<00:00, 23816.96it/s]\n",
      "100%|██████████| 5000/5000 [00:00<00:00, 23529.61it/s]\n",
      "100%|██████████| 5000/5000 [00:00<00:00, 23697.28it/s]\n",
      "  0%|          | 0/5000 [00:00<?, ?it/s]"
     ]
    },
    {
     "name": "stdout",
     "output_type": "stream",
     "text": [
      "olr: [0.1459057311302547], w: [0.6248870373789596, 0.3751129626210405], means: [[33.701384717101035, 33.54102540063877], [8.52181040672705, 8.95263118415639]], cov: [array([[86.49871915,  1.21387792],\n",
      "       [ 1.21387792, 89.34029233]]), array([[28.43094789,  1.21436929],\n",
      "       [ 1.21436929, 29.98002498]])]\n",
      "olr: [0.6769555139476372], w: [0.5745687460271337, 0.42543125397286635], means: [[23.211332291012265, 34.36794049862435], [25.897236766334764, 10.943379172765828]], cov: [array([[204.27561647, -15.06746741],\n",
      "       [-15.06746741,  82.26277839]]), array([[226.41141544,  -2.226365  ],\n",
      "       [ -2.226365  ,  47.58568042]])]\n",
      "olr: [0.6972355760452562], w: [0.8740124787484077, 0.1259875212515922], means: [[26.079826788464093, 26.525861076225134], [12.333808363307758, 7.909246883606801]], cov: [array([[207.13497303, -57.31000725],\n",
      "       [-57.31000725, 190.34399465]]), array([[50.4228181 , -7.85265508],\n",
      "       [-7.85265508, 26.32540852]])]\n",
      "olr: [0.7089589661626963], w: [0.47412193878162445, 0.5258780612183755], means: [[37.21121430963895, 24.11418502461433], [13.58707931367451, 25.29167277519863]], cov: [array([[ 59.73294939, -10.56977126],\n",
      "       [-10.56977126, 227.88343167]]), array([[ 71.66238433, -26.71676027],\n",
      "       [-26.71676027, 183.22973754]])]\n",
      "olr: [0.6062140430144002], w: [0.281542994639156, 0.718457005360844], means: [[7.573223483485192, 24.432305254944595], [31.55569757441691, 24.177724600041365]], cov: [array([[ 26.32651157,  -2.45918874],\n",
      "       [ -2.45918874, 207.39261049]]), array([[120.9500332 ,   7.25992455],\n",
      "       [  7.25992455, 208.84332965]])]\n",
      "olr: [0.5987983809320917], w: [0.424555999793081, 0.5754440002069189], means: [[38.75106573065157, 27.389968059353247], [14.309302977726693, 22.46964903902262]], cov: [array([[ 45.74370102,   7.28877345],\n",
      "       [  7.28877345, 188.06572504]]), array([[ 80.77050678,  16.27679043],\n",
      "       [ 16.27679043, 215.53781957]])]\n"
     ]
    },
    {
     "name": "stderr",
     "output_type": "stream",
     "text": [
      "100%|██████████| 5000/5000 [00:00<00:00, 19341.09it/s]\n",
      "100%|██████████| 5000/5000 [00:00<00:00, 20940.97it/s]\n",
      "100%|██████████| 5000/5000 [00:00<00:00, 21094.37it/s]\n",
      "100%|██████████| 5000/5000 [00:00<00:00, 21068.37it/s]\n",
      "100%|██████████| 5000/5000 [00:00<00:00, 21099.06it/s]\n",
      "100%|██████████| 5000/5000 [00:00<00:00, 20784.23it/s]\n",
      "  0%|          | 0/5000 [00:00<?, ?it/s]"
     ]
    },
    {
     "name": "stdout",
     "output_type": "stream",
     "text": [
      "olr: [0.25867607215179006], w: [0.5604190534773038, 0.43958094652269614], means: [[14.66538211091164, 13.855318755280269], [37.39798225688355, 37.89976683322708]], cov: [array([[97.93286998, -1.49118526],\n",
      "       [-1.49118526, 80.76047093]]), array([[53.41269363, -5.96933142],\n",
      "       [-5.96933142, 47.12221771]])]\n",
      "olr: [0.13961587825831617], w: [0.7315521801754068, 0.2684478198245931], means: [[17.72599969257587, 30.944029285460353], [42.65226026640516, 6.646460805588682]], cov: [array([[114.76467345,  -0.60514898],\n",
      "       [ -0.60514898, 116.91424585]]), array([[17.50984822,  0.30113594],\n",
      "       [ 0.30113594, 16.28030231]])]\n",
      "olr: [0.49328606213337656], w: [0.6424844147388291, 0.35751558526117083], means: [[19.95723733601962, 15.668508471970313], [33.74897919918429, 39.833864848583474]], cov: [array([[156.13630746,  -7.84524337],\n",
      "       [ -7.84524337, 100.48060969]]), array([[173.05574646,  49.96534028],\n",
      "       [ 49.96534028,  37.69439159]])]\n",
      "olr: [0.649139525999577], w: [0.5071232687724618, 0.49287673122753806], means: [[27.58169945920869, 36.273294344574836], [21.17381030740644, 12.26385426591188]], cov: [array([[154.87113923, -14.87997302],\n",
      "       [-14.87997302,  66.09574855]]), array([[241.77119583,  -8.0389213 ],\n",
      "       [ -8.0389213 ,  60.66183379]])]\n",
      "olr: [0.604819897561933], w: [0.6061351662259561, 0.39386483377404385], means: [[24.09237142688754, 14.835008003864969], [25.322307515546672, 38.99556050851997]], cov: [array([[215.49922901,   7.95792453],\n",
      "       [  7.95792453,  89.05576303]]), array([[196.93379295,  -9.12363317],\n",
      "       [ -9.12363317,  41.68650583]])]\n",
      "olr: [0.6578775662804616], w: [0.45065256187274255, 0.5493474381272574], means: [[11.396127996943207, 25.400748017448503], [35.25037959358241, 22.91207159418317]], cov: [array([[ 55.60168037, -10.41039898],\n",
      "       [-10.41039898, 196.10750686]]), array([[ 74.48383423,   4.24990208],\n",
      "       [  4.24990208, 220.16745131]])]\n"
     ]
    },
    {
     "name": "stderr",
     "output_type": "stream",
     "text": [
      "100%|██████████| 5000/5000 [00:00<00:00, 22447.92it/s]\n",
      "100%|██████████| 5000/5000 [00:00<00:00, 22938.72it/s]\n",
      "100%|██████████| 5000/5000 [00:00<00:00, 23288.62it/s]\n",
      "100%|██████████| 5000/5000 [00:00<00:00, 23460.04it/s]\n",
      "100%|██████████| 5000/5000 [00:00<00:00, 23348.67it/s]\n",
      "100%|██████████| 5000/5000 [00:00<00:00, 23433.67it/s]\n",
      "  0%|          | 0/5000 [00:00<?, ?it/s]"
     ]
    },
    {
     "name": "stdout",
     "output_type": "stream",
     "text": [
      "olr: [0.6310474100204307], w: [0.6223817599223299, 0.3776182400776701], means: [[23.152168401203056, 15.892742936455438], [26.124036493607967, 39.64121722016586]], cov: [array([[191.14238112,   1.00454577],\n",
      "       [  1.00454577,  94.22684388]]), array([[221.19761097,   9.42476905],\n",
      "       [  9.42476905,  37.75462799]])]\n",
      "olr: [0.6753209849740163], w: [0.43951939739745, 0.5604806026025501], means: [[28.25607250210894, 38.21084916833137], [20.987895007306868, 14.290932750031407]], cov: [array([[223.1040621 ,  24.76150879],\n",
      "       [ 24.76150879,  51.23019633]]), array([[174.08702408,  14.34330244],\n",
      "       [ 14.34330244,  78.76581545]])]\n",
      "olr: [0.49399172815074455], w: [0.7857313165736882, 0.21426868342631178], means: [[27.645627913402922, 19.596620533486735], [12.09586179674726, 42.99705118128897]], cov: [array([[201.69613291,  15.41837025],\n",
      "       [ 15.41837025, 144.48355972]]), array([[55.58578958, -1.39083023],\n",
      "       [-1.39083023, 20.09076308]])]\n",
      "olr: [0.6108511213124002], w: [0.5269004839711523, 0.4730995160288478], means: [[22.49673006839401, 35.62787001481301], [26.722204548659644, 11.420975636771068]], cov: [array([[221.58018605, -40.41596478],\n",
      "       [-40.41596478,  70.83759389]]), array([[182.97320917, -14.61528662],\n",
      "       [-14.61528662,  54.1074322 ]])]\n",
      "olr: [0.20185956920632966], w: [0.8153684899298937, 0.18463151007010636], means: [[20.191645845188436, 19.789934739638664], [42.9567424054429, 44.299647402677905]], cov: [array([[154.36871517,  -6.64490885],\n",
      "       [ -6.64490885, 141.83699986]]), array([[14.22314879,  1.60479217],\n",
      "       [ 1.60479217, 11.16333279]])]\n",
      "olr: [0.6080418431379405], w: [0.5220763841762778, 0.4779236158237222], means: [[27.816770788541223, 36.71475633681306], [21.415809029686454, 12.350703272090861]], cov: [array([[198.93299943,   6.38847418],\n",
      "       [  6.38847418,  63.16890475]]), array([[198.07581955,  12.72066338],\n",
      "       [ 12.72066338,  60.12960066]])]\n"
     ]
    },
    {
     "name": "stderr",
     "output_type": "stream",
     "text": [
      "100%|██████████| 5000/5000 [00:00<00:00, 23698.96it/s]\n",
      "100%|██████████| 5000/5000 [00:00<00:00, 23373.37it/s]\n",
      "100%|██████████| 5000/5000 [00:00<00:00, 23837.07it/s]\n",
      "100%|██████████| 5000/5000 [00:00<00:00, 23658.70it/s]\n",
      "100%|██████████| 5000/5000 [00:00<00:00, 23620.57it/s]\n",
      "100%|██████████| 5000/5000 [00:00<00:00, 23847.53it/s]\n",
      "  0%|          | 0/5000 [00:00<?, ?it/s]"
     ]
    },
    {
     "name": "stdout",
     "output_type": "stream",
     "text": [
      "olr: [0.6166964057691071], w: [0.46816478722211285, 0.5318352127778871], means: [[26.098308948434536, 11.946456801643201], [22.904633712899, 36.230939829566964]], cov: [array([[213.28489757,  -9.48596192],\n",
      "       [ -9.48596192,  57.1309268 ]]), array([[208.70812102, -13.07842804],\n",
      "       [-13.07842804,  66.27329096]])]\n",
      "olr: [0.6450780445464509], w: [0.42664540199863915, 0.5733545980013609], means: [[10.867058285235931, 20.128648863012774], [34.92466899045491, 28.48639318684193]], cov: [array([[ 51.18190004,   3.29796828],\n",
      "       [  3.29796828, 204.36710984]]), array([[ 78.89187895,   0.52126828],\n",
      "       [  0.52126828, 188.8348006 ]])]\n",
      "olr: [0.6032795828314232], w: [0.5398097282116885, 0.46019027178831157], means: [[22.766565678255574, 13.638101596741802], [26.504224701468562, 37.82917882224899]], cov: [array([[200.31623827,  36.23232388],\n",
      "       [ 36.23232388,  74.75691472]]), array([[205.8861049 ,   2.83244007],\n",
      "       [  2.83244007,  51.81782275]])]\n",
      "olr: [0.41297240615035924], w: [0.22194009293737413, 0.778059907062626], means: [[8.135325074015961, 6.924950238146759], [29.171847811418132, 29.756418098915635]], cov: [array([[28.5720904 , -2.25167786],\n",
      "       [-2.25167786, 26.5809324 ]]), array([[163.68368835,   5.35908782],\n",
      "       [  5.35908782, 147.20087722]])]\n",
      "olr: [0.5598858480252988], w: [0.47302703302857446, 0.5269729669714256], means: [[37.6891460678143, 21.167864462358548], [13.49142271760356, 27.038631525461433]], cov: [array([[ 55.76071862,   0.57174611],\n",
      "       [  0.57174611, 181.8637835 ]]), array([[ 68.26787006, -59.66621452],\n",
      "       [-59.66621452, 218.51686066]])]\n",
      "olr: [0.6473328685107326], w: [0.5901205800651973, 0.4098794199348027], means: [[26.391527199991955, 34.02925780849772], [22.069945988928072, 10.31726512039515]], cov: [array([[202.41580255,  15.69736694],\n",
      "       [ 15.69736694,  86.53451923]]), array([[206.74101389,  20.8383444 ],\n",
      "       [ 20.8383444 ,  46.27319974]])]\n"
     ]
    },
    {
     "name": "stderr",
     "output_type": "stream",
     "text": [
      "100%|██████████| 5000/5000 [00:00<00:00, 22173.17it/s]\n",
      "100%|██████████| 5000/5000 [00:00<00:00, 22272.43it/s]\n",
      "100%|██████████| 5000/5000 [00:00<00:00, 23149.24it/s]\n",
      "100%|██████████| 5000/5000 [00:00<00:00, 23432.91it/s]\n",
      "100%|██████████| 5000/5000 [00:00<00:00, 23324.11it/s]\n",
      "100%|██████████| 5000/5000 [00:00<00:00, 23273.37it/s]\n",
      "  0%|          | 0/5000 [00:00<?, ?it/s]"
     ]
    },
    {
     "name": "stdout",
     "output_type": "stream",
     "text": [
      "olr: [0.6449684822533993], w: [0.34535220826761887, 0.6546477917323811], means: [[17.795475797937353, 9.058434919249848], [27.977934650235163, 32.60997710035131]], cov: [array([[161.92703499,  15.32970686],\n",
      "       [ 15.32970686,  36.53597503]]), array([[200.99372389,  34.56245139],\n",
      "       [ 34.56245139, 101.85699319]])]\n",
      "olr: [0.571394113677212], w: [0.7047831247794638, 0.29521687522053613], means: [[25.700678184281067, 31.641755493959735], [21.551599025557508, 7.580951081429398]], cov: [array([[203.70516123,  26.45257672],\n",
      "       [ 26.45257672, 116.08922185]]), array([[204.29612729,  12.36497819],\n",
      "       [ 12.36497819,  26.1393202 ]])]\n",
      "olr: [0.6054102123925654], w: [0.5643920604161983, 0.4356079395838017], means: [[24.472764837271054, 14.199351278417522], [24.216192752341016, 38.451087212514516]], cov: [array([[212.38635661,   2.83501014],\n",
      "       [  2.83501014,  80.42108604]]), array([[212.01845246,   4.23101326],\n",
      "       [  4.23101326,  46.24955486]])]\n",
      "olr: [0.5685938266461434], w: [0.6752049406728041, 0.32479505932719577], means: [[25.319158965957644, 16.67127191888514], [23.10989209027271, 40.43434299854597]], cov: [array([[191.5211642 ,   1.85831774],\n",
      "       [  1.85831774, 107.05940785]]), array([[230.49751095, -33.76472436],\n",
      "       [-33.76472436,  31.01463864]])]\n",
      "olr: [0.6455778181915137], w: [0.554295476014233, 0.4457045239857671], means: [[35.15822569291132, 25.552181104672282], [11.234695373861104, 23.771222954250508]], cov: [array([[ 78.29030851,   6.00317773],\n",
      "       [  6.00317773, 215.53020908]]), array([[ 50.25534141,  -5.08216152],\n",
      "       [ -5.08216152, 202.10476284]])]\n",
      "olr: [0.5716864393451343], w: [0.585408461493663, 0.4145915385063371], means: [[22.933331419416167, 34.640785567482204], [26.707331695015064, 10.317120873760992]], cov: [array([[224.67346847, -54.01762614],\n",
      "       [-54.01762614,  81.25123123]]), array([[179.81692261,  -1.74137449],\n",
      "       [ -1.74137449,  46.8935761 ]])]\n"
     ]
    },
    {
     "name": "stderr",
     "output_type": "stream",
     "text": [
      "100%|██████████| 5000/5000 [00:00<00:00, 24140.88it/s]\n",
      "100%|██████████| 5000/5000 [00:00<00:00, 23354.24it/s]\n",
      "100%|██████████| 5000/5000 [00:00<00:00, 23533.89it/s]\n",
      "100%|██████████| 5000/5000 [00:00<00:00, 23449.21it/s]\n",
      "100%|██████████| 5000/5000 [00:00<00:00, 22935.49it/s]\n",
      "100%|██████████| 5000/5000 [00:00<00:00, 22542.77it/s]\n",
      "  0%|          | 0/5000 [00:00<?, ?it/s]"
     ]
    },
    {
     "name": "stdout",
     "output_type": "stream",
     "text": [
      "olr: [0.6410143872160083], w: [0.4034514774399248, 0.5965485225600753], means: [[38.92282113176767, 25.03624994500473], [15.22647356375545, 24.19935248214243]], cov: [array([[ 43.30223449,   4.82245958],\n",
      "       [  4.82245958, 214.4304386 ]]), array([[ 89.14751564,   0.79937757],\n",
      "       [  0.79937757, 205.67343409]])]\n",
      "olr: [0.4658573165248528], w: [0.7949206569279188, 0.20507934307208128], means: [[19.77756006666737, 26.88638297621278], [43.39983162636284, 14.885257268746038]], cov: [array([[143.73013884,  -5.19192272],\n",
      "       [ -5.19192272, 209.95643448]]), array([[14.71909445,  8.43367119],\n",
      "       [ 8.43367119, 90.44769315]])]\n",
      "olr: [0.12041257630027549], w: [0.471054121413461, 0.528945878586539], means: [[11.41551041912323, 11.497431957454202], [36.13011754643444, 36.37893415899291]], cov: [array([[47.11093277, -0.7078665 ],\n",
      "       [-0.7078665 , 46.95749518]]), array([[59.59718902,  2.34940439],\n",
      "       [ 2.34940439, 59.19360291]])]\n",
      "olr: [0.24706310016222022], w: [0.5005170748756986, 0.49948292512430137], means: [[12.473712894535861, 35.66901995314224], [36.97722740890755, 12.69081714413527]], cov: [array([[60.88247155,  1.81971461],\n",
      "       [ 1.81971461, 81.13935613]]), array([[56.60294439, -1.72054391],\n",
      "       [-1.72054391, 73.79004928]])]\n",
      "olr: [0.4368911483760571], w: [0.5233175112418955, 0.47668248875810454], means: [[35.98305763461482, 33.30855067744404], [12.255612424529987, 14.564521080883564]], cov: [array([[ 67.12294612,  -4.67856808],\n",
      "       [ -4.67856808, 116.03229666]]), array([[ 58.61466462,  -4.34897097],\n",
      "       [ -4.34897097, 127.19463254]])]\n",
      "olr: [0.11805539334808383], w: [0.25086123655242626, 0.7491387634475738], means: [[43.32615438791251, 43.05094805394464], [18.064139776867822, 18.471592462724736]], cov: [array([[13.07681183,  0.38936544],\n",
      "       [ 0.38936544, 13.35844577]]), array([[118.06773852,   1.34823148],\n",
      "       [  1.34823148, 118.66467398]])]\n"
     ]
    },
    {
     "name": "stderr",
     "output_type": "stream",
     "text": [
      "\r",
      "  0%|          | 0/5000 [00:00<?, ?it/s]\r",
      " 45%|████▌     | 2251/5000 [00:00<00:00, 22507.61it/s]\r",
      " 45%|████▍     | 2238/5000 [00:00<00:00, 22371.59it/s]\r",
      " 45%|████▌     | 2254/5000 [00:00<00:00, 22534.86it/s]\r",
      " 45%|████▍     | 2226/5000 [00:00<00:00, 22256.15it/s]\r",
      " 44%|████▍     | 2215/5000 [00:00<00:00, 22148.17it/s]\r",
      " 44%|████▍     | 2192/5000 [00:00<00:00, 21912.34it/s]\r",
      " 90%|█████████ | 4502/5000 [00:00<00:00, 22230.56it/s]\r",
      "100%|██████████| 5000/5000 [00:00<00:00, 22362.85it/s]\n",
      "\r",
      " 90%|████████▉ | 4483/5000 [00:00<00:00, 22413.67it/s]\r",
      "100%|██████████| 5000/5000 [00:00<00:00, 22484.55it/s]\n",
      "\r",
      " 92%|█████████▏| 4577/5000 [00:00<00:00, 22940.40it/s]\r",
      " 91%|█████████ | 4543/5000 [00:00<00:00, 22792.82it/s]\r",
      "100%|██████████| 5000/5000 [00:00<00:00, 22847.41it/s]\n",
      "\r",
      " 91%|█████████ | 4535/5000 [00:00<00:00, 22765.74it/s]\r",
      "100%|██████████| 5000/5000 [00:00<00:00, 22740.28it/s]\n",
      "\r",
      " 90%|█████████ | 4524/5000 [00:00<00:00, 22737.05it/s]"
     ]
    },
    {
     "name": "stdout",
     "output_type": "stream",
     "text": [
      "2024-01-16 22:51:10,449 - MultiprocessingDispatcher - 54 individuals out of 54 in previous population were evaluated successfully.\n",
      "2024-01-16 22:51:10,452 - EvoGraphOptimizer - Generation num: 16 size: 55\n",
      "2024-01-16 22:51:10,453 - EvoGraphOptimizer - Best individuals: HallOfFame archive fitness (1): ['<custom=0.000>']\n",
      "2024-01-16 22:51:10,453 - EvoGraphOptimizer - no improvements for 5 iterations\n",
      "2024-01-16 22:51:10,454 - EvoGraphOptimizer - spent time: 0.8 min\n",
      "2024-01-16 22:51:10,454 - GroupedCondition - Optimisation finished: Early stopping iterations criteria was satisfied\n"
     ]
    },
    {
     "name": "stderr",
     "output_type": "stream",
     "text": [
      "\r",
      "100%|██████████| 5000/5000 [00:00<00:00, 22687.19it/s]\n",
      "\r",
      "100%|██████████| 5000/5000 [00:00<00:00, 22657.27it/s]\n",
      "\r",
      "Generations:   0%|          | 1/500 [00:47<?, ?gen/s]"
     ]
    },
    {
     "name": "stdout",
     "output_type": "stream",
     "text": [
      "2024-01-16 22:51:10,455 - OptimisationTimer - Composition time: 0.797 min\n",
      "2024-01-16 22:51:10,455 - EvoGraphOptimizer - Generation num: 17 size: 1\n",
      "2024-01-16 22:51:10,456 - EvoGraphOptimizer - Best individuals: HallOfFame archive fitness (1): ['<custom=0.000>']\n",
      "2024-01-16 22:51:10,456 - EvoGraphOptimizer - no improvements for 6 iterations\n",
      "2024-01-16 22:51:10,457 - EvoGraphOptimizer - spent time: 0.8 min\n"
     ]
    },
    {
     "name": "stderr",
     "output_type": "stream",
     "text": [
      "\n"
     ]
    }
   ],
   "source": [
    "n_generation = 500\n",
    "time_m = 60\n",
    "pop_size = 10\n",
    "\n",
    "number_of_components = 2\n",
    "dimensions = [2]\n",
    "# p_edge = [0.0, 0.3, 0.5, 0.8]\n",
    "repeat_for_p = 1\n",
    "# target_olr = [0.3]\n",
    "\n",
    "# dimensions = [4]\n",
    "p_edge = [0.3]\n",
    "# repeat_for_p = 1\n",
    "target_olr = [0.6]\n",
    "\n",
    "times = []\n",
    "\n",
    "df_result = pd.DataFrame(columns=['Dimensions', 'P_edge', 'Target OLR', 'Time', 'Deviation'])\n",
    "for _ in range(1):\n",
    "    for n in dimensions:\n",
    "        vertices = []\n",
    "        for i in range(n):\n",
    "            vertices.append('Comp_' + str(i))\n",
    "            \n",
    "        for p_i in p_edge:\n",
    "            for p_i_j in range(repeat_for_p):\n",
    "                print(f'Dim: {n}, p_i: {p_i}, p_i_j: {p_i_j}')\n",
    "                initial = [GeneratorModel(nodes=[GeneratorNode(nodes_from=[],\n",
    "                    content={'name': vertex,\n",
    "                        'w': [1 / number_of_components] * number_of_components,\n",
    "                        'mean': [[randint(0,20)] for _ in range(number_of_components)],\n",
    "                        'var': [[[randint(1,10)]] for _ in range(number_of_components)]\n",
    "                    }) \n",
    "                    for vertex in vertices])]\n",
    "\n",
    "                if p_i >= 0.001:\n",
    "                    is_all = True\n",
    "                    DAG = []\n",
    "                    while is_all == True:\n",
    "                        G=nx.gnp_random_graph(n, p_i, directed=True)\n",
    "                        DAG = nx.DiGraph([(u,v) for (u,v) in G.edges() if u<v])\n",
    "                        if len(DAG.nodes) == n:\n",
    "                            is_all =False\n",
    "\n",
    "                    structure_parents = {}\n",
    "                    for v in DAG:\n",
    "                        structure_parents['Comp_' + str(v)] = ['Comp_' + str(i) for i in DAG.pred[v].keys()]\n",
    "\n",
    "                    for node in initial[0].nodes:\n",
    "                        parents_names = structure_parents[node.content['name']]\n",
    "                        for name_p in parents_names:\n",
    "                            for node_p in initial[0].nodes:\n",
    "                                if node_p.content['name'] == name_p:\n",
    "                                    node.nodes_from.append(node_p)\n",
    "                                    break\n",
    "\n",
    "                for target in target_olr:\n",
    "#                     pathname = f'./bns/comps_{number_of_components}/olr_{target}/{n}_{p_i}_{p_i_j}.json'\n",
    "#                     if os.path.isfile(pathname):\n",
    "#                         print(f'File \"{pathname}\" already exist. Skipping...')\n",
    "#                         continue\n",
    "                    \n",
    "                    objective = Objective({'custom': lambda a: optimisation_metric(a, target, number_of_components)})\n",
    "                    objective_eval = ObjectiveEvaluate(objective)\n",
    "\n",
    "                    requirements = GraphRequirements(\n",
    "                        max_arity=100,\n",
    "                        max_depth=100, \n",
    "                        early_stopping_iterations=5,\n",
    "                        num_of_generations=n_generation,\n",
    "                        timeout=timedelta(minutes=time_m),\n",
    "                        history_dir = None,\n",
    "                        n_jobs=6\n",
    "                    )\n",
    "\n",
    "                    optimiser_parameters = GPAlgorithmParameters(\n",
    "                        max_pop_size=55,\n",
    "                        pop_size=pop_size,\n",
    "                        crossover_prob=0.8, \n",
    "                        mutation_prob=0.9,\n",
    "                        genetic_scheme_type = GeneticSchemeTypesEnum.steady_state,\n",
    "                        selection_types = [SelectionTypesEnum.tournament],\n",
    "                        mutation_types = [custom_mutation_change_mean_i, custom_mutation_change_var_i,\n",
    "                            custom_mutation_change_mean, custom_mutation_change_var,\n",
    "                            custom_mutation_change_mean_step,\n",
    "                            custom_mutation_change_w\n",
    "                        ],\n",
    "                        crossover_types = [custom_crossover_exchange_mean, custom_crossover_exchange_var, custom_crossover_exchange_mean_i, custom_crossover_exchange_var_i]\n",
    "                    )\n",
    "                    rules = []\n",
    "                    graph_generation_params = GraphGenerationParams(\n",
    "                        adapter=DirectAdapter(base_graph_class=GeneratorModel, base_node_class=GeneratorNode),\n",
    "                        rules_for_constraint=rules\n",
    "                    )\n",
    "\n",
    "                    optimiser = EvoGraphOptimizer(\n",
    "                        graph_generation_params=graph_generation_params,\n",
    "                        graph_optimizer_params=optimiser_parameters,\n",
    "                        requirements=requirements,\n",
    "                        initial_graphs=initial,\n",
    "                        objective=objective)\n",
    "\n",
    "                    start = datetime.now()\n",
    "                    \n",
    "                    optimized_graph = optimiser.optimise(objective_eval)[0]\n",
    "                    \n",
    "                    end = datetime.now()\n",
    "                    times.append(end - start)\n",
    "                    \n",
    "#                     print(end - start)\n",
    "                    \n",
    "                    bn = build_bn(optimized_graph)\n",
    "#                     write_bn_to_file(bn, pathname)\n",
    "                    \n",
    "                    gc.collect()"
   ]
  },
  {
   "cell_type": "code",
   "execution_count": 122,
   "id": "9828f335",
   "metadata": {},
   "outputs": [
    {
     "name": "stderr",
     "output_type": "stream",
     "text": [
      "100%|██████████| 5000/5000 [00:00<00:00, 21518.06it/s]\n",
      "100%|██████████| 5000/5000 [00:00<00:00, 22368.50it/s]\n",
      "100%|██████████| 5000/5000 [00:00<00:00, 22295.23it/s]\n",
      "100%|██████████| 5000/5000 [00:00<00:00, 20729.32it/s]\n",
      "100%|██████████| 5000/5000 [00:00<00:00, 22164.15it/s]\n",
      "100%|██████████| 5000/5000 [00:00<00:00, 19183.82it/s]\n",
      "100%|██████████| 5000/5000 [00:00<00:00, 22686.11it/s]\n",
      "100%|██████████| 5000/5000 [00:00<00:00, 22156.07it/s]\n",
      "100%|██████████| 5000/5000 [00:00<00:00, 22802.07it/s]\n",
      "100%|██████████| 5000/5000 [00:00<00:00, 16543.54it/s]\n"
     ]
    },
    {
     "data": {
      "text/plain": [
       "0.6173756993743336"
      ]
     },
     "execution_count": 122,
     "metadata": {},
     "output_type": "execute_result"
    }
   ],
   "source": [
    "o_sum = 0\n",
    "tot = 10\n",
    "\n",
    "for _ in range(tot):\n",
    "    data = bn.sample(5000)\n",
    "\n",
    "    gmm = GMM(n_components=number_of_components)\n",
    "#     gmm = GMM(n_components=component(data, data.columns.tolist(), 'bic'))\n",
    "    gmm.from_samples(data.to_numpy().astype('int'))\n",
    "\n",
    "    w = gmm.priors.tolist()\n",
    "    means = gmm.means.tolist()\n",
    "    cov = make_diagonal(gmm.covariances.tolist())\n",
    "\n",
    "    oo = olr(w, means, cov)\n",
    "    o_sum += sum(oo) / len(oo)\n",
    "\n",
    "o_sum / tot"
   ]
  },
  {
   "cell_type": "code",
   "execution_count": 120,
   "id": "352d33e7",
   "metadata": {},
   "outputs": [
    {
     "name": "stdout",
     "output_type": "stream",
     "text": [
      "2024-01-16 22:54:19,755 - FitnessLine - Visualizing optimization history... It may take some time, depending on the history size.\n"
     ]
    },
    {
     "data": {
      "image/png": "[encoded data removed]",
      "text/plain": [
       "<Figure size 1280x960 with 1 Axes>"
      ]
     },
     "metadata": {},
     "output_type": "display_data"
    },
    {
     "name": "stdout",
     "output_type": "stream",
     "text": [
      "olr: [0.5725868570246655], w: [0.7666331885515543, 0.2333668114484458], means: [[24.413001629006242, 30.03402485309473], [24.609252204268323, 6.341603386745384]], cov: [array([[211.09353155,  18.08554518],\n",
      "       [ 18.08554518, 131.03673756]]), array([[195.97518875,   3.84022391],\n",
      "       [  3.84022391,  19.52202091]])]\n",
      "olr: [0.14538286307533504], w: [0.4080255923649888, 0.5919744076350112], means: [[9.817489397195066, 10.215650493296115], [34.652195785159996, 34.7132458617183]], cov: [array([[3.81875229e+01, 1.43166112e-02],\n",
      "       [1.43166112e-02, 3.85333803e+01]]), array([[73.47355984,  2.3488016 ],\n",
      "       [ 2.3488016 , 75.74735119]])]\n",
      "olr: [0.10768359617437213], w: [0.7651338742491056, 0.23486612575089447], means: [[18.285026788668542, 30.876423708854315], [43.16206340964337, 5.758183732812034]], cov: [array([[117.72906602,   2.39799064],\n",
      "       [  2.39799064, 121.96297919]]), array([[12.6322449 , -0.3953726 ],\n",
      "       [-0.3953726 , 12.92874339]])]\n",
      "olr: [0.23846995426069487], w: [0.2863667226052655, 0.7136332773947346], means: [[7.116391465368467, 41.41674498598147], [31.19263493506268, 18.01572724344091]], cov: [array([[25.71902047,  0.34664257],\n",
      "       [ 0.34664257, 22.27963812]]), array([[113.03958001,  -5.7064151 ],\n",
      "       [ -5.7064151 , 125.94202202]])]\n",
      "olr: [0.5687975681762019], w: [0.5556658709296264, 0.4443341290703736], means: [[13.75031340668919, 23.963952495901292], [38.14881418355339, 25.13164921364883]], cov: [array([[ 73.34655292,  -4.13290969],\n",
      "       [ -4.13290969, 206.48159957]]), array([[ 48.02685028,   1.80170367],\n",
      "       [  1.80170367, 205.2227514 ]])]\n",
      "olr: [0.5980449047697222], w: [0.7031860469770873, 0.2968139530229128], means: [[25.421270350437275, 31.586967359871327], [22.245306616803514, 7.849648786686167]], cov: [array([[205.0182263 ,  15.17768964],\n",
      "       [ 15.17768964, 116.52084517]]), array([[180.91308016,  10.92781314],\n",
      "       [ 10.92781314,  28.19003595]])]\n"
     ]
    }
   ],
   "source": [
    "plt.rcParams['figure.dpi'] = 200\n",
    "optimiser.history.show()"
   ]
  },
  {
   "cell_type": "code",
   "execution_count": 46,
   "id": "550b722b",
   "metadata": {},
   "outputs": [
    {
     "data": {
      "text/plain": [
       "{'depth': 2, 'length': 2, 'nodes': [Comp_0, Comp_1]}"
      ]
     },
     "execution_count": 46,
     "metadata": {},
     "output_type": "execute_result"
    }
   ],
   "source": [
    "optimized_graph"
   ]
  },
  {
   "cell_type": "code",
   "execution_count": 121,
   "id": "8afa7d86",
   "metadata": {},
   "outputs": [
    {
     "name": "stdout",
     "output_type": "stream",
     "text": [
      "[0.74985104 0.25014896] [[-0.6748119634074365], [19.487109257922597]] [[[6]], [[5]]]\n",
      "[0.74985104 0.25014896] [[7.953276716448512], [10.38720637342482]] [[[37]], [[40]]]\n"
     ]
    }
   ],
   "source": [
    "for node in optimized_graph.nodes:\n",
    "    w = node.content['w']\n",
    "    mean = node.content['mean']\n",
    "    var = node.content['var']\n",
    "    \n",
    "    print(w, mean, var)"
   ]
  },
  {
   "cell_type": "code",
   "execution_count": 124,
   "id": "be75011c",
   "metadata": {},
   "outputs": [
    {
     "name": "stderr",
     "output_type": "stream",
     "text": [
      "100%|██████████| 5000/5000 [00:00<00:00, 21337.18it/s]\n"
     ]
    }
   ],
   "source": [
    "data = bn.sample(5000)\n",
    "\n",
    "gmm = GMM(n_components=number_of_components)\n",
    "gmm.from_samples(data.to_numpy().astype('int'))\n",
    "\n",
    "w = gmm.priors.tolist()\n",
    "means = gmm.means.tolist()\n",
    "cov = make_diagonal(gmm.covariances.tolist())"
   ]
  },
  {
   "cell_type": "code",
   "execution_count": 126,
   "id": "215f8f1e",
   "metadata": {},
   "outputs": [
    {
     "data": {
      "text/plain": [
       "([0.7550468486011945, 0.24495315139880555],\n",
       " [[18.543394229522, 23.29533220084879],\n",
       "  [42.52269695306556, 28.646019839144486]],\n",
       " [array([[130.2911039 , -10.52985576],\n",
       "         [-10.52985576, 204.69597956]]),\n",
       "  array([[ 19.73064748,  -2.90578274],\n",
       "         [ -2.90578274, 193.93661822]])])"
      ]
     },
     "execution_count": 126,
     "metadata": {},
     "output_type": "execute_result"
    }
   ],
   "source": [
    "w, means, cov"
   ]
  },
  {
   "cell_type": "code",
   "execution_count": 111,
   "id": "b4b60793",
   "metadata": {},
   "outputs": [
    {
     "data": {
      "text/plain": [
       "<Individual 23b07bc9-85bf-4c8f-8ffa-219e3fdaf710 | fitness: 0.0002 | native_generation: 3 | graph: {'depth': 2, 'length': 2, 'nodes': [Comp_0, Comp_1]}>"
      ]
     },
     "execution_count": 111,
     "metadata": {},
     "output_type": "execute_result"
    }
   ],
   "source": [
    "optimiser.best_individuals[0]"
   ]
  },
  {
   "cell_type": "code",
   "execution_count": null,
   "id": "f772d4fc",
   "metadata": {},
   "outputs": [],
   "source": [
    "# [0.5, 0.5] [[14], [3]] [[[37]], [[35]]]\n",
    "# [0.5, 0.5] [[16], [12]] [[[28]], [[23]]]\n",
    "\n",
    "# [0.74985104 0.25014896] [[-0.6748119634074365], [19.487109257922597]] [[[6]], [[5]]]\n",
    "# [0.74985104 0.25014896] [[7.953276716448512], [10.38720637342482]] [[[37]], [[40]]]"
   ]
  },
  {
   "cell_type": "code",
   "execution_count": null,
   "id": "38010c4b",
   "metadata": {},
   "outputs": [],
   "source": [
    "olr: [0.14072068123861659], w: [0.5165915620698648, 0.48340843793013527], means: [[36.700183557848526, 36.89171049478641], [12.089972762215126, 12.126502535142556]],\n",
    "    cov: [array([[53.49434029,  0.60960388],\n",
    "                 [0.60960388, 55.91087547]]),\n",
    "        array([[54.77838081,  0.99271228],\n",
    "               [ 0.99271228, 58.27632169]])]\n",
    "                \n",
    "olr: [0.29801285359437096], w: [0.42330955045693874, 0.5766904495430613], means: [[37.34580634588582, 37.79603519615378], [14.418764019518049, 14.487108879089686]],\n",
    "    cov: [array([[53.28750735, -4.85484793],\n",
    "                 [-4.85484793, 55.81569782]]),\n",
    "          array([[9.78957820e+01, -8.87155581e-03],\n",
    "                 [-8.87155581e-03, 8.20472549e+01]])]\n",
    "\n",
    "olr: [0.6543998232604697], w: [0.716150863889959, 0.28384913611004103], means: [[22.935533562856268, 17.519706215268254], [28.082163414064713, 40.99165992996546]],\n",
    "    cov: [array([[203.99654261, 62.31500296],\n",
    "                 [62.31500296, 116.03476483]]),\n",
    "          array([[196.0187708 ,  19.88611612],\n",
    "                 [19.88611612, 28.81560215]])]\n",
    "                \n",
    "olr: [0.617], w: [0.7550468486011945, 0.24495315139880555], means: [[18.543394229522, 23.29533220084879], [42.52269695306556, 28.646019839144486]],\n",
    "    cov: [array([[130.2911039 , -10.52985576],\n",
    "                 [-10.52985576, 204.69597956]]),\n",
    "      array([[ 19.73064748,  -2.90578274],\n",
    "             [ -2.90578274, 193.93661822]])]"
   ]
  },
  {
   "cell_type": "code",
   "execution_count": null,
   "id": "d59dc2d0",
   "metadata": {},
   "outputs": [],
   "source": [
    "График для разных таргетных ОЛР по оси y - отклонение от таргетного значения, по оси x - кол-во узлов.\n",
    "Барплоты.\n",
    "Также для разного кол-во компонент."
   ]
  },
  {
   "cell_type": "code",
   "execution_count": 5,
   "id": "a2c71c4e",
   "metadata": {},
   "outputs": [],
   "source": [
    "# optimiser.history.to_csv('./history', 'criteria-2-olr-0.6-4.csv')"
   ]
  },
  {
   "cell_type": "code",
   "execution_count": 6,
   "id": "8b949d63",
   "metadata": {},
   "outputs": [],
   "source": [
    "# historical_fitness = optimiser.history.historical_fitness"
   ]
  },
  {
   "cell_type": "code",
   "execution_count": 7,
   "id": "db367173",
   "metadata": {},
   "outputs": [
    {
     "name": "stdout",
     "output_type": "stream",
     "text": [
      "[0.49219683529115027, 0.5078031647088497] [[2.9463139315296645, 19.806163310597395, 10.846299915608604, 14.682398092952065], [4.990072852396739, 19.175716033736762, 16.92178844077739, 12.567433084594677]] [array([[ 5.91106690e+00,  7.27608332e-01, -7.54856373e-02,\n",
      "        -1.72639339e+00],\n",
      "       [ 7.27608332e-01,  2.41939604e+01, -3.08663135e-01,\n",
      "        -5.91276535e-03],\n",
      "       [-7.54856373e-02, -3.08663135e-01,  4.37156878e+00,\n",
      "        -2.98555145e-01],\n",
      "       [-1.72639339e+00, -5.91276535e-03, -2.98555145e-01,\n",
      "         3.79778863e+01]]), array([[ 1.02839578,  0.09547921, -0.40214553, -0.19654509],\n",
      "       [ 0.09547921, 26.59930995,  2.09591959, -2.12143596],\n",
      "       [-0.40214553,  2.09591959, 40.79508397,  2.63282237],\n",
      "       [-0.19654509, -2.12143596,  2.63282237, 49.87573984]])]\n",
      "[0.5034, 0.4966] [[4.958623024129207, 19.461782725889194, 4.998814929516386, 12.682540787383806], [3.0594887943044142, 19.467036322908807, -853.9656456530303, 14.288529891660433]] [array([[ 3.54399571e+01, -2.83772071e-01, -1.86230531e-01,\n",
      "        -3.86729942e+00],\n",
      "       [-2.83772071e-01,  4.26923767e+00,  4.69979992e-02,\n",
      "        -9.22456819e-01],\n",
      "       [-1.86230531e-01,  4.69979992e-02,  1.01970254e+00,\n",
      "        -1.11380475e-02],\n",
      "       [-3.86729942e+00, -9.22456819e-01, -1.11380475e-02,\n",
      "         3.50407574e+01]]), array([[ 6.11526053e+00,  6.33672899e-03,  2.77010746e-01,\n",
      "        -1.77552821e-02],\n",
      "       [ 6.33672899e-03,  4.35492190e+00,  3.79322789e-02,\n",
      "        -3.41805982e-01],\n",
      "       [ 2.77010746e-01,  3.79322789e-02,  5.69923269e+00,\n",
      "        -1.92044683e-01],\n",
      "       [-1.77552821e-02, -3.41805982e-01, -1.92044683e-01,\n",
      "         4.41026681e+01]])]\n",
      "[0.4826, 0.5174] [[4.08029203517944, 19.041445645143376, 14.094617354676878, 16.037740930483867], [4.115731850965836, 657.8915698896303, 13.88710131693923, 11.290789673920239]] [array([[ 1.55798063e+01,  1.11987166e-01,  2.99611395e+00,\n",
      "         7.36503890e-01],\n",
      "       [ 1.11987166e-01,  3.05429748e+00,  1.95961909e-02,\n",
      "        -7.22356789e-02],\n",
      "       [ 2.99611395e+00,  1.95961909e-02,  1.28994158e+01,\n",
      "         5.03335427e-01],\n",
      "       [ 7.36503890e-01, -7.22356789e-02,  5.03335427e-01,\n",
      "         2.84273830e+01]]), array([[15.90712609,  0.16372118,  3.58198474, -1.07644527],\n",
      "       [ 0.16372118,  5.56196362, -0.14372559, -0.51148188],\n",
      "       [ 3.58198474, -0.14372559, 12.7624635 , -0.45399441],\n",
      "       [-1.07644527, -0.51148188, -0.45399441, 37.50084157]])]\n",
      "[0.45231613334112925, 0.5476838666588707] [[3.146889595615622, 18.978488995792098, 13.400984711899225, 16.3505943542419], [4.768175578667103, 19.931377334396117, 14.525330409987642, 11.169116398593324]] [array([[37.02982878,  0.04139014,  3.07931569,  0.62191858],\n",
      "       [ 0.04139014,  3.47321701, -0.57746243,  0.15727348],\n",
      "       [ 3.07931569, -0.57746243, 16.60059109,  0.62693986],\n",
      "       [ 0.62191858,  0.15727348,  0.62693986,  6.27362853]]), array([[ 2.71438341e+01, -3.08347533e-01,  2.35659253e+00,\n",
      "        -1.11506317e+00],\n",
      "       [-3.08347533e-01,  4.59432463e+00, -1.05371516e-03,\n",
      "        -4.23390429e-01],\n",
      "       [ 2.35659253e+00, -1.05371516e-03,  1.72336857e+01,\n",
      "         7.92605120e-01],\n",
      "       [-1.11506317e+00, -4.23390429e-01,  7.92605120e-01,\n",
      "         1.64654079e+01]])]\n",
      "[0.5441427205550458, 0.4558572794449543] [[4.956007024693519, 19.716166457213383, 16.19420803480714, 12.420211118601003], [2.9026652980406022, 19.453583060664034, 11.084036599007268, 15.723941492206448]] [array([[ 1.12976037, -0.07465235,  0.32897872, -0.14149953],\n",
      "       [-0.07465235, 18.63720561, -0.89780014, -1.54271381],\n",
      "       [ 0.32897872, -0.89780014, 41.85804708,  3.82470292],\n",
      "       [-0.14149953, -1.54271381,  3.82470292, 14.12758801]]), array([[ 5.8026619 ,  0.32621631,  0.30157309, -0.73608509],\n",
      "       [ 0.32621631, 34.49501098,  0.1076744 , -0.40365481],\n",
      "       [ 0.30157309,  0.1076744 ,  3.90018517, -0.18198181],\n",
      "       [-0.73608509, -0.40365481, -0.18198181,  8.36719629]])]\n",
      "[0.48292265425241176, 0.5170773457475881] [[2.8706384662760986, 19.469108333188643, 10.984383005647024, 14.683312524657728], [4.959533740699289, 19.730340743822786, 16.910324018454858, 12.539057601768661]] [array([[ 5.88047687e+00,  2.77280075e-03, -3.25006685e-01,\n",
      "        -1.98798869e+00],\n",
      "       [ 2.77280075e-03,  2.93021881e+01, -3.56722496e-02,\n",
      "        -9.51635837e-01],\n",
      "       [-3.25006685e-01, -3.56722496e-02,  2.85392601e+00,\n",
      "         4.86839198e-01],\n",
      "       [-1.98798869e+00, -9.51635837e-01,  4.86839198e-01,\n",
      "         1.05980577e+01]]), array([[ 1.00337628,  0.05740659,  0.05540163, -0.23807804],\n",
      "       [ 0.05740659, 29.11348728, -0.58585532, -0.20313936],\n",
      "       [ 0.05540163, -0.58585532,  5.74078944,  1.08540704],\n",
      "       [-0.23807804, -0.20313936,  1.08540704, 14.03209894]])]\n"
     ]
    }
   ],
   "source": [
    "# with open('./history/criteria-2-olr-0.6-4.json', 'w') as f:\n",
    "#     f.write(json.dumps(historical_fitness))"
   ]
  },
  {
   "cell_type": "code",
   "execution_count": 8,
   "id": "773f2958",
   "metadata": {},
   "outputs": [],
   "source": [
    "# to_df = {'iteration': [], 'losses': []}\n",
    "\n",
    "# for i in range(len(historical_fitness)):\n",
    "#     losses = historical_fitness[i]\n",
    "    \n",
    "#     for loss in losses:\n",
    "#         to_df['iteration'].append(i)\n",
    "#         to_df['losses'].append(loss)\n",
    "\n",
    "# df = pd.DataFrame.from_dict(to_df)"
   ]
  },
  {
   "cell_type": "code",
   "execution_count": 9,
   "id": "c29ec3f5",
   "metadata": {},
   "outputs": [
    {
     "data": {
      "text/plain": [
       "<AxesSubplot: xlabel='iteration', ylabel='losses'>"
      ]
     },
     "execution_count": 9,
     "metadata": {},
     "output_type": "execute_result"
    },
    {
     "data": {
      "image/png": "[encoded data removed]",
      "text/plain": [
       "<Figure size 640x480 with 1 Axes>"
      ]
     },
     "metadata": {},
     "output_type": "display_data"
    }
   ],
   "source": [
    "# sns.lineplot(data=df, x=\"iteration\", y=\"losses\")"
   ]
  },
  {
   "cell_type": "code",
   "execution_count": 8,
   "id": "a1ae3b21",
   "metadata": {},
   "outputs": [
    {
     "name": "stdout",
     "output_type": "stream",
     "text": [
      "/bin/sh: 1: help: not found\r\n"
     ]
    }
   ],
   "source": [
    "# !help bn.sample"
   ]
  }
 ],
 "metadata": {
  "kernelspec": {
   "display_name": "Python 3 (ipykernel)",
   "language": "python",
   "name": "python3"
  },
  "language_info": {
   "codemirror_mode": {
    "name": "ipython",
    "version": 3
   },
   "file_extension": ".py",
   "mimetype": "text/x-python",
   "name": "python",
   "nbconvert_exporter": "python",
   "pygments_lexer": "ipython3",
   "version": "3.9.16"
  }
 },
 "nbformat": 4,
 "nbformat_minor": 5
}
