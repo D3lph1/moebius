{
 "cells": [
  {
   "cell_type": "code",
   "execution_count": 1,
   "id": "96b78812",
   "metadata": {},
   "outputs": [
    {
     "name": "stderr",
     "output_type": "stream",
     "text": [
      "/usr/local/lib/python3.9/site-packages/tqdm/auto.py:21: TqdmWarning: IProgress not found. Please update jupyter and ipywidgets. See https://ipywidgets.readthedocs.io/en/stable/user_install.html\n",
      "  from .autonotebook import tqdm as notebook_tqdm\n"
     ]
    }
   ],
   "source": [
    "import numpy as np\n",
    "import pandas as pd\n",
    "import matplotlib.pyplot as plt\n",
    "from gmr import GMM\n",
    "\n",
    "from scipy.io.arff import loadarff\n",
    "from sklearn.mixture import GaussianMixture\n",
    "from sklearn.linear_model import LogisticRegression\n",
    "from sklearn.model_selection import train_test_split\n",
    "from sklearn.metrics import f1_score, accuracy_score\n",
    "\n",
    "from moebius.model.gmm.evol.optimizer import GMMOptimizer\n",
    "from moebius.model.gmm.evol.parameters import EvolutionaryConfiguration\n",
    "from moebius.model.gmm.evol.graph.graph import ProbabilisticGraphShuffler\n",
    "\n",
    "from moebius.model.gmm.evol.graph.graph import GeneratorNode\n",
    "from moebius.model.gmm.evol.operators.mutation import mutation, \\\n",
    "    Mutation, \\\n",
    "    ByNameNodeSelector, \\\n",
    "    RandomValueNodeMutator, \\\n",
    "    RandomDeltaNodeMutator, \\\n",
    "    ClapNodeDecoratedMutator, \\\n",
    "    RandomIndexRandomDeltaNodeMutator, \\\n",
    "    RandomValuesSumTo1NodeMutator, \\\n",
    "    DirichletValuesSumTo1NodeMutator\n",
    "\n",
    "from moebius.model.gmm.evol.operators.crossover import crossover, \\\n",
    "    Crossover, \\\n",
    "    ExchangeFieldNodesCrossover, \\\n",
    "    RandomIndexExchangeFieldNodesCrossover\n",
    "\n",
    "from moebius.model.gmm.evol.graph.initializer import GMMParametersInitializer, \\\n",
    "    RandomWeightsInitializer, \\\n",
    "    RandomMeansInitializer, \\\n",
    "    RandomCovariancesInitializer, \\\n",
    "    ConstantMeansInitializer, \\\n",
    "    ConstantCovariancesInitializer\n",
    "\n",
    "from moebius.model.gmm.evol.graph.auto_initializer import AutoMeansInitializer\n",
    "\n",
    "from moebius.model.gmm.bn import ContinuousBNSerializer, JsonDictSerializer, FilesystemStorage\n",
    "\n",
    "from moebius.model.gmm.evol.bn import build_bn\n",
    "from moebius.util import make_diagonal, print_gmm_params_fancy\n",
    "from moebius import olr, olr_universal"
   ]
  },
  {
   "cell_type": "code",
   "execution_count": 2,
   "id": "253808d7",
   "metadata": {},
   "outputs": [],
   "source": [
    "def explode_cluster(data, target, clusters):\n",
    "    indices_0_1 = [idx for idx, x in enumerate(target) if x in clusters]\n",
    "    \n",
    "    return (\n",
    "        [list(data[idx]) for idx in indices_0_1],\n",
    "        [target[idx].decode('UTF-8') if isinstance(target[idx], np.bytes_) else target[idx] for idx in indices_0_1]\n",
    "    )"
   ]
  },
  {
   "cell_type": "code",
   "execution_count": 4,
   "id": "a3fc5d64-f273-4567-9477-85e337d4a9fc",
   "metadata": {},
   "outputs": [],
   "source": [
    "data = loadarff('./datasets/openml/volcanoes-a1.arff')\n",
    "\n",
    "rows = data[0]\n",
    "meta = data[1]\n",
    "\n",
    "X = rows[['V1', 'V2', 'V3']]\n",
    "y = [int(each.decode('UTF-8')) for each in rows['Class']]"
   ]
  },
  {
   "cell_type": "code",
   "execution_count": 5,
   "id": "5ae83c65",
   "metadata": {},
   "outputs": [],
   "source": [
    "X_1_2, y_1_2 = explode_cluster(X, y, (4, 5))"
   ]
  },
  {
   "cell_type": "code",
   "execution_count": 6,
   "id": "a5bf8b2a",
   "metadata": {
    "scrolled": true
   },
   "outputs": [
    {
     "name": "stdout",
     "output_type": "stream",
     "text": [
      "\u001b[92m ---  weights   --- \u001b[0m\n",
      "[0.495 0.505]\n",
      "\u001b[92m ---   means    --- \u001b[0m\n",
      "[[3.76626e+02 7.31724e+02 6.13000e-01]\n",
      " [6.23400e+02 4.07901e+02 5.83000e-01]]\n",
      "\u001b[92m --- covariance --- \u001b[0m\n",
      "[[[ 7.0576529e+04  2.3710779e+04 -6.1580000e+00]\n",
      "  [ 2.3710779e+04  2.9523721e+04 -6.5980000e+00]\n",
      "  [-6.1580000e+00 -6.5980000e+00  6.0000000e-03]]\n",
      "\n",
      " [[ 5.3298615e+04  1.1976348e+04  1.1108000e+01]\n",
      "  [ 1.1976348e+04  4.1825613e+04 -2.5530000e+00]\n",
      "  [ 1.1108000e+01 -2.5530000e+00  1.1000000e-02]]]\n",
      "\u001b[94m ---    OLR     --- \u001b[0m\n",
      "0.7978315132386272\n"
     ]
    }
   ],
   "source": [
    "gmm = GMM(n_components=2)\n",
    "gmm.from_samples(np.array(X_1_2))\n",
    "\n",
    "w = gmm.priors.tolist()\n",
    "means = gmm.means.tolist()\n",
    "cov = make_diagonal(gmm.covariances.tolist())\n",
    "\n",
    "print_gmm_params_fancy(w, means, cov, decimal_places=3)"
   ]
  },
  {
   "cell_type": "code",
   "execution_count": 7,
   "id": "59cd68a0",
   "metadata": {},
   "outputs": [
    {
     "data": {
      "text/html": [
       "<div>\n",
       "<style scoped>\n",
       "    .dataframe tbody tr th:only-of-type {\n",
       "        vertical-align: middle;\n",
       "    }\n",
       "\n",
       "    .dataframe tbody tr th {\n",
       "        vertical-align: top;\n",
       "    }\n",
       "\n",
       "    .dataframe thead th {\n",
       "        text-align: right;\n",
       "    }\n",
       "</style>\n",
       "<table border=\"1\" class=\"dataframe\">\n",
       "  <thead>\n",
       "    <tr style=\"text-align: right;\">\n",
       "      <th></th>\n",
       "      <th>0</th>\n",
       "      <th>1</th>\n",
       "      <th>2</th>\n",
       "    </tr>\n",
       "  </thead>\n",
       "  <tbody>\n",
       "    <tr>\n",
       "      <th>count</th>\n",
       "      <td>174.000000</td>\n",
       "      <td>174.000000</td>\n",
       "      <td>174.000000</td>\n",
       "    </tr>\n",
       "    <tr>\n",
       "      <th>mean</th>\n",
       "      <td>501.183908</td>\n",
       "      <td>568.275862</td>\n",
       "      <td>0.597946</td>\n",
       "    </tr>\n",
       "    <tr>\n",
       "      <th>std</th>\n",
       "      <td>278.431633</td>\n",
       "      <td>249.607770</td>\n",
       "      <td>0.092360</td>\n",
       "    </tr>\n",
       "    <tr>\n",
       "      <th>min</th>\n",
       "      <td>27.000000</td>\n",
       "      <td>51.000000</td>\n",
       "      <td>0.378594</td>\n",
       "    </tr>\n",
       "    <tr>\n",
       "      <th>25%</th>\n",
       "      <td>243.750000</td>\n",
       "      <td>371.250000</td>\n",
       "      <td>0.528619</td>\n",
       "    </tr>\n",
       "    <tr>\n",
       "      <th>50%</th>\n",
       "      <td>508.000000</td>\n",
       "      <td>565.000000</td>\n",
       "      <td>0.605478</td>\n",
       "    </tr>\n",
       "    <tr>\n",
       "      <th>75%</th>\n",
       "      <td>709.750000</td>\n",
       "      <td>799.000000</td>\n",
       "      <td>0.679428</td>\n",
       "    </tr>\n",
       "    <tr>\n",
       "      <th>max</th>\n",
       "      <td>1000.000000</td>\n",
       "      <td>1003.000000</td>\n",
       "      <td>0.772831</td>\n",
       "    </tr>\n",
       "  </tbody>\n",
       "</table>\n",
       "</div>"
      ],
      "text/plain": [
       "                 0            1           2\n",
       "count   174.000000   174.000000  174.000000\n",
       "mean    501.183908   568.275862    0.597946\n",
       "std     278.431633   249.607770    0.092360\n",
       "min      27.000000    51.000000    0.378594\n",
       "25%     243.750000   371.250000    0.528619\n",
       "50%     508.000000   565.000000    0.605478\n",
       "75%     709.750000   799.000000    0.679428\n",
       "max    1000.000000  1003.000000    0.772831"
      ]
     },
     "execution_count": 7,
     "metadata": {},
     "output_type": "execute_result"
    }
   ],
   "source": [
    "pd.DataFrame(data=X_1_2).describe()"
   ]
  },
  {
   "cell_type": "code",
   "execution_count": 8,
   "id": "e4b05192",
   "metadata": {},
   "outputs": [],
   "source": [
    "X_train, X_test, y_train, y_test = train_test_split(X_1_2, y_1_2, test_size=0.25, random_state=0)"
   ]
  },
  {
   "cell_type": "code",
   "execution_count": 9,
   "id": "ae391a05",
   "metadata": {},
   "outputs": [
    {
     "data": {
      "text/plain": [
       "(0.5, 0.47619047619047616)"
      ]
     },
     "execution_count": 9,
     "metadata": {},
     "output_type": "execute_result"
    }
   ],
   "source": [
    "model = LogisticRegression()\n",
    "model.fit(X_train, y_train)\n",
    "\n",
    "accuracy = accuracy_score(y_test, model.predict(X_test))\n",
    "f1 = f1_score(y_test, model.predict(X_test), pos_label=5)\n",
    "accuracy, f1"
   ]
  },
  {
   "cell_type": "code",
   "execution_count": 12,
   "id": "cf84b7d8",
   "metadata": {},
   "outputs": [
    {
     "data": {
      "text/plain": [
       "[[0.6224094924476576], [0.5864018214701798]]"
      ]
     },
     "execution_count": 12,
     "metadata": {},
     "output_type": "execute_result"
    }
   ],
   "source": [
    "auto = AutoMeansInitializer.from_data(X_1_2, 2)\n",
    "auto.create_initial_means('Comp_2', 2)"
   ]
  },
  {
   "cell_type": "code",
   "execution_count": 13,
   "id": "a22179a7",
   "metadata": {},
   "outputs": [],
   "source": [
    "optimizer = GMMOptimizer(\n",
    "    EvolutionaryConfiguration()\n",
    "        .set_mutation_types([\n",
    "            mutation(RandomValueNodeMutator('var', [\n",
    "                [\n",
    "                    [400.0, 600.0],\n",
    "                ],\n",
    "                [\n",
    "                    [500.0, 600.0],\n",
    "                ]\n",
    "            ])),\n",
    "            mutation(RandomValuesSumTo1NodeMutator('w')),\n",
    "        ])\n",
    "        .set_crossover_types([\n",
    "            crossover(ExchangeFieldNodesCrossover('var')),\n",
    "            crossover(RandomIndexExchangeFieldNodesCrossover('var'))\n",
    "        ]),\n",
    "    ProbabilisticGraphShuffler(0.5),\n",
    "    GMMParametersInitializer(\n",
    "        RandomWeightsInitializer(),\n",
    "        AutoMeansInitializer.from_data(X_1_2, 2),\n",
    "        RandomCovariancesInitializer(50, 500)\n",
    "    )\n",
    ")"
   ]
  },
  {
   "cell_type": "code",
   "execution_count": 25,
   "id": "a0809199",
   "metadata": {
    "scrolled": true
   },
   "outputs": [
    {
     "name": "stderr",
     "output_type": "stream",
     "text": [
      "Generations:   0%|          | 1/500 [00:00<?, ?gen/s]"
     ]
    },
    {
     "name": "stdout",
     "output_type": "stream",
     "text": [
      "2024-04-14 16:21:10,823 - MultiprocessingDispatcher - Number of used CPU's: 6\n"
     ]
    },
    {
     "name": "stderr",
     "output_type": "stream",
     "text": [
      " 73%|███████▎  | 3654/5000 [00:00<00:00, 18288.31it/s]"
     ]
    },
    {
     "name": "stdout",
     "output_type": "stream",
     "text": [
      "2024-04-14 16:21:11,230 - MultiprocessingDispatcher - 1 individuals out of 1 in previous population were evaluated successfully.\n",
      "2024-04-14 16:21:11,231 - EvoGraphOptimizer - Generation num: 1 size: 1\n",
      "2024-04-14 16:21:11,231 - EvoGraphOptimizer - Best individuals: HallOfFame archive fitness (1): ['<custom=0.250>']\n"
     ]
    },
    {
     "name": "stderr",
     "output_type": "stream",
     "text": [
      "100%|██████████| 5000/5000 [00:00<00:00, 18304.88it/s]\n"
     ]
    },
    {
     "name": "stdout",
     "output_type": "stream",
     "text": [
      "2024-04-14 16:21:11,407 - EvoGraphOptimizer - Exceeded max number of attempts for extending initial graphs, stopping.Current size 1 instead of 10 graphs.\n",
      "2024-04-14 16:21:11,408 - MultiprocessingDispatcher - Number of used CPU's: 6\n",
      "2024-04-14 16:21:11,409 - MultiprocessingDispatcher - 1 individuals out of 1 in previous population were evaluated successfully.\n",
      "2024-04-14 16:21:11,410 - EvoGraphOptimizer - Generation num: 2 size: 1\n",
      "2024-04-14 16:21:11,410 - EvoGraphOptimizer - Best individuals: HallOfFame archive fitness (1): ['<custom=0.250>']\n",
      "2024-04-14 16:21:11,410 - EvoGraphOptimizer - no improvements for 1 iterations\n",
      "2024-04-14 16:21:11,411 - EvoGraphOptimizer - spent time: 0.0 min\n",
      "2024-04-14 16:21:11,411 - EvoGraphOptimizer - Next population size: 20; max graph depth: 100\n",
      "2024-04-14 16:21:11,416 - MultiprocessingDispatcher - Number of used CPU's: 6\n",
      "Error message\n",
      "[Errno 17] File exists: '/root/BAMT/Nodes_data/429'\n",
      "Error message\n",
      "[Errno 17] File exists: '/root/BAMT/Nodes_data/431'\n"
     ]
    },
    {
     "name": "stderr",
     "output_type": "stream",
     "text": [
      "100%|██████████| 5000/5000 [00:00<00:00, 17418.48it/s]\n",
      "100%|██████████| 5000/5000 [00:00<00:00, 17409.47it/s]\n",
      "100%|██████████| 5000/5000 [00:00<00:00, 17394.15it/s]\n",
      "100%|██████████| 5000/5000 [00:00<00:00, 17248.70it/s]\n",
      "100%|██████████| 5000/5000 [00:00<00:00, 17159.73it/s]\n",
      "100%|██████████| 5000/5000 [00:00<00:00, 17079.54it/s]\n",
      "100%|██████████| 5000/5000 [00:00<00:00, 17463.27it/s]\n",
      "100%|██████████| 5000/5000 [00:00<00:00, 17468.49it/s]\n",
      "100%|██████████| 5000/5000 [00:00<00:00, 17467.94it/s]\n",
      "100%|██████████| 5000/5000 [00:00<00:00, 17302.35it/s]\n",
      "100%|██████████| 5000/5000 [00:00<00:00, 17588.63it/s]\n",
      "100%|██████████| 5000/5000 [00:00<00:00, 17335.34it/s]\n",
      "100%|██████████| 5000/5000 [00:00<00:00, 17801.03it/s]\n",
      "100%|██████████| 5000/5000 [00:00<00:00, 17398.80it/s]\n",
      "100%|██████████| 5000/5000 [00:00<00:00, 17632.54it/s]\n",
      "100%|██████████| 5000/5000 [00:00<00:00, 17583.88it/s]\n",
      "100%|██████████| 5000/5000 [00:00<00:00, 17843.26it/s]\n",
      "100%|██████████| 5000/5000 [00:00<00:00, 17598.52it/s]\n"
     ]
    },
    {
     "name": "stdout",
     "output_type": "stream",
     "text": [
      "2024-04-14 16:21:12,738 - MultiprocessingDispatcher - 18 individuals out of 20 in previous population were evaluated successfully.\n",
      "2024-04-14 16:21:12,739 - EvoGraphOptimizer - Generation num: 3 size: 19\n",
      "2024-04-14 16:21:12,740 - EvoGraphOptimizer - Best individuals: HallOfFame archive fitness (1): ['<custom=0.250>']\n",
      "2024-04-14 16:21:12,740 - EvoGraphOptimizer - Next population size: 38; max graph depth: 100\n",
      "2024-04-14 16:21:12,747 - MultiprocessingDispatcher - Number of used CPU's: 6\n",
      "Error message\n",
      "[Errno 17] File exists: '/root/BAMT/Nodes_data/449'\n",
      "Error message\n",
      "[Errno 17] File exists: '/root/BAMT/Nodes_data/447'\n",
      "Error message\n",
      "[Errno 17] File exists: '/root/BAMT/Nodes_data/447'\n",
      "Error message\n",
      "[Errno 17] File exists: '/root/BAMT/Nodes_data/450'\n"
     ]
    },
    {
     "name": "stderr",
     "output_type": "stream",
     "text": [
      "100%|██████████| 5000/5000 [00:00<00:00, 17601.50it/s]\n",
      "100%|██████████| 5000/5000 [00:00<00:00, 17719.60it/s]\n",
      "100%|██████████| 5000/5000 [00:00<00:00, 17588.04it/s]\n",
      "100%|██████████| 5000/5000 [00:00<00:00, 17664.65it/s]\n",
      "100%|██████████| 5000/5000 [00:00<00:00, 17436.86it/s]\n",
      "100%|██████████| 5000/5000 [00:00<00:00, 17408.59it/s]\n",
      "100%|██████████| 5000/5000 [00:00<00:00, 17608.98it/s]\n",
      "100%|██████████| 5000/5000 [00:00<00:00, 17557.79it/s]\n",
      "100%|██████████| 5000/5000 [00:00<00:00, 17638.82it/s]\n",
      "100%|██████████| 5000/5000 [00:00<00:00, 17627.56it/s]\n",
      "100%|██████████| 5000/5000 [00:00<00:00, 17652.19it/s]\n",
      "100%|██████████| 5000/5000 [00:00<00:00, 17932.55it/s]\n",
      " 71%|███████▏  | 3565/5000 [00:00<00:00, 17873.80it/s]"
     ]
    },
    {
     "name": "stdout",
     "output_type": "stream",
     "text": [
      "2024-04-14 16:21:13,981 - MultiprocessingDispatcher - 14 individuals out of 18 in previous population were evaluated successfully.\n",
      "2024-04-14 16:21:13,982 - EvoGraphOptimizer - Generation num: 4 size: 32\n",
      "2024-04-14 16:21:13,983 - EvoGraphOptimizer - Best individuals: HallOfFame archive fitness (1): ['<custom=0.250>']\n",
      "2024-04-14 16:21:13,983 - EvoGraphOptimizer - no improvements for 1 iterations\n",
      "2024-04-14 16:21:13,983 - EvoGraphOptimizer - spent time: 0.1 min\n",
      "2024-04-14 16:21:13,984 - EvoGraphOptimizer - Next population size: 55; max graph depth: 100\n",
      "2024-04-14 16:21:13,994 - MultiprocessingDispatcher - Number of used CPU's: 6\n"
     ]
    },
    {
     "name": "stderr",
     "output_type": "stream",
     "text": [
      "100%|██████████| 5000/5000 [00:00<00:00, 17943.58it/s]\n",
      "100%|██████████| 5000/5000 [00:00<00:00, 18023.23it/s]\n"
     ]
    },
    {
     "name": "stdout",
     "output_type": "stream",
     "text": [
      "Error message\n",
      "[Errno 17] File exists: '/root/BAMT/Nodes_data/461'\n",
      "Error message\n",
      "[Errno 17] File exists: '/root/BAMT/Nodes_data/461'\n",
      "Error message\n",
      "[Errno 17] File exists: '/root/BAMT/Nodes_data/462'\n",
      "Error message\n",
      "[Errno 17] File exists: '/root/BAMT/Nodes_data/461'\n"
     ]
    },
    {
     "name": "stderr",
     "output_type": "stream",
     "text": [
      "100%|██████████| 5000/5000 [00:00<00:00, 17653.61it/s]\n",
      "100%|██████████| 5000/5000 [00:00<00:00, 17611.82it/s]\n",
      "100%|██████████| 5000/5000 [00:00<00:00, 18042.14it/s]\n",
      "100%|██████████| 5000/5000 [00:00<00:00, 17811.93it/s]\n",
      "100%|██████████| 5000/5000 [00:00<00:00, 17790.72it/s]\n",
      "100%|██████████| 5000/5000 [00:00<00:00, 17647.92it/s]\n",
      "100%|██████████| 5000/5000 [00:00<00:00, 17413.38it/s]\n",
      "100%|██████████| 5000/5000 [00:00<00:00, 17575.04it/s]\n",
      "100%|██████████| 5000/5000 [00:00<00:00, 16989.57it/s]\n",
      "100%|██████████| 5000/5000 [00:00<00:00, 17369.93it/s]\n",
      "100%|██████████| 5000/5000 [00:00<00:00, 17272.15it/s]\n",
      "100%|██████████| 5000/5000 [00:00<00:00, 17391.63it/s]\n",
      "100%|██████████| 5000/5000 [00:00<00:00, 17611.57it/s]\n",
      "100%|██████████| 5000/5000 [00:00<00:00, 17568.47it/s]\n",
      "100%|██████████| 5000/5000 [00:00<00:00, 17763.04it/s]\n",
      "100%|██████████| 5000/5000 [00:00<00:00, 17578.65it/s]\n",
      "100%|██████████| 5000/5000 [00:00<00:00, 17765.62it/s]\n",
      "100%|██████████| 5000/5000 [00:00<00:00, 17780.97it/s]\n",
      "100%|██████████| 5000/5000 [00:00<00:00, 17803.01it/s]\n",
      "100%|██████████| 5000/5000 [00:00<00:00, 17455.55it/s]\n",
      "100%|██████████| 5000/5000 [00:00<00:00, 17660.45it/s]\n",
      "100%|██████████| 5000/5000 [00:00<00:00, 17621.13it/s]\n",
      "100%|██████████| 5000/5000 [00:00<00:00, 17506.47it/s]\n",
      "100%|██████████| 5000/5000 [00:00<00:00, 17919.97it/s]\n",
      "100%|██████████| 5000/5000 [00:00<00:00, 17336.18it/s]\n",
      "100%|██████████| 5000/5000 [00:00<00:00, 17139.87it/s]\n"
     ]
    },
    {
     "name": "stdout",
     "output_type": "stream",
     "text": [
      "2024-04-14 16:21:16,046 - MultiprocessingDispatcher - 26 individuals out of 30 in previous population were evaluated successfully.\n",
      "2024-04-14 16:21:16,049 - EvoGraphOptimizer - Generation num: 5 size: 55\n",
      "2024-04-14 16:21:16,049 - EvoGraphOptimizer - Best individuals: HallOfFame archive fitness (1): ['<custom=0.247>']\n",
      "2024-04-14 16:21:16,050 - EvoGraphOptimizer - Next population size: 55; max graph depth: 100\n",
      "2024-04-14 16:21:16,069 - MultiprocessingDispatcher - Number of used CPU's: 6\n",
      "Error message\n",
      "[Errno 17] File exists: '/root/BAMT/Nodes_data/489'\n",
      "Error message\n",
      "[Errno 17] File exists: '/root/BAMT/Nodes_data/487'\n",
      "Error message\n",
      "[Errno 17] File exists: '/root/BAMT/Nodes_data/488'\n",
      "Error message\n",
      "[Errno 17] File exists: '/root/BAMT/Nodes_data/491'\n"
     ]
    },
    {
     "name": "stderr",
     "output_type": "stream",
     "text": [
      "100%|██████████| 5000/5000 [00:00<00:00, 17738.92it/s]\n",
      "100%|██████████| 5000/5000 [00:00<00:00, 17672.03it/s]\n",
      "100%|██████████| 5000/5000 [00:00<00:00, 17681.45it/s]\n",
      "100%|██████████| 5000/5000 [00:00<00:00, 17620.56it/s]\n",
      "100%|██████████| 5000/5000 [00:00<00:00, 17684.92it/s]\n",
      "100%|██████████| 5000/5000 [00:00<00:00, 17829.01it/s]\n",
      "100%|██████████| 5000/5000 [00:00<00:00, 17548.99it/s]\n",
      "100%|██████████| 5000/5000 [00:00<00:00, 17814.31it/s]\n",
      "100%|██████████| 5000/5000 [00:00<00:00, 17740.35it/s]\n",
      "100%|██████████| 5000/5000 [00:00<00:00, 17728.39it/s]\n",
      "100%|██████████| 5000/5000 [00:00<00:00, 17645.43it/s]\n",
      "100%|██████████| 5000/5000 [00:00<00:00, 17925.91it/s]\n",
      "100%|██████████| 5000/5000 [00:00<00:00, 17669.60it/s]\n",
      "100%|██████████| 5000/5000 [00:00<00:00, 17465.41it/s]\n",
      "100%|██████████| 5000/5000 [00:00<00:00, 17709.83it/s]\n",
      "100%|██████████| 5000/5000 [00:00<00:00, 17550.42it/s]\n",
      "100%|██████████| 5000/5000 [00:00<00:00, 17551.46it/s]\n",
      "100%|██████████| 5000/5000 [00:00<00:00, 17580.74it/s]\n",
      "100%|██████████| 5000/5000 [00:00<00:00, 17792.02it/s]\n",
      "100%|██████████| 5000/5000 [00:00<00:00, 17745.20it/s]\n",
      "100%|██████████| 5000/5000 [00:00<00:00, 17839.54it/s]\n",
      "100%|██████████| 5000/5000 [00:00<00:00, 17714.56it/s]\n",
      "100%|██████████| 5000/5000 [00:00<00:00, 17795.79it/s]\n",
      "100%|██████████| 5000/5000 [00:00<00:00, 17651.07it/s]\n",
      "100%|██████████| 5000/5000 [00:00<00:00, 17592.21it/s]\n",
      "100%|██████████| 5000/5000 [00:00<00:00, 17466.09it/s]\n",
      "100%|██████████| 5000/5000 [00:00<00:00, 17566.18it/s]\n",
      "100%|██████████| 5000/5000 [00:00<00:00, 17573.64it/s]\n",
      "100%|██████████| 5000/5000 [00:00<00:00, 17674.19it/s]\n",
      "100%|██████████| 5000/5000 [00:00<00:00, 17621.78it/s]\n",
      "100%|██████████| 5000/5000 [00:00<00:00, 17596.01it/s]\n",
      "100%|██████████| 5000/5000 [00:00<00:00, 17550.95it/s]\n",
      "100%|██████████| 5000/5000 [00:00<00:00, 17245.41it/s]\n",
      "100%|██████████| 5000/5000 [00:00<00:00, 17528.00it/s]\n",
      "100%|██████████| 5000/5000 [00:00<00:00, 17597.25it/s]\n",
      "100%|██████████| 5000/5000 [00:00<00:00, 17423.40it/s]\n",
      "100%|██████████| 5000/5000 [00:00<00:00, 17507.85it/s]\n",
      "100%|██████████| 5000/5000 [00:00<00:00, 17921.89it/s]\n",
      "100%|██████████| 5000/5000 [00:00<00:00, 17887.47it/s]\n",
      "100%|██████████| 5000/5000 [00:00<00:00, 17674.01it/s]\n",
      "100%|██████████| 5000/5000 [00:00<00:00, 17636.46it/s]\n",
      "100%|██████████| 5000/5000 [00:00<00:00, 17911.18it/s]\n",
      "100%|██████████| 5000/5000 [00:00<00:00, 17759.65it/s]\n",
      "100%|██████████| 5000/5000 [00:00<00:00, 17985.68it/s]\n",
      "100%|██████████| 5000/5000 [00:00<00:00, 17407.35it/s]\n",
      "100%|██████████| 5000/5000 [00:00<00:00, 17548.89it/s]\n",
      "100%|██████████| 5000/5000 [00:00<00:00, 17535.13it/s]\n",
      "100%|██████████| 5000/5000 [00:00<00:00, 17756.69it/s]\n",
      " 35%|███▌      | 1755/5000 [00:00<00:00, 17545.62it/s]"
     ]
    },
    {
     "name": "stdout",
     "output_type": "stream",
     "text": [
      "2024-04-14 16:21:19,731 - MultiprocessingDispatcher - 50 individuals out of 54 in previous population were evaluated successfully.\n",
      "2024-04-14 16:21:19,735 - EvoGraphOptimizer - Generation num: 6 size: 55\n",
      "2024-04-14 16:21:19,735 - EvoGraphOptimizer - Best individuals: HallOfFame archive fitness (1): ['<custom=0.247>']\n",
      "2024-04-14 16:21:19,736 - EvoGraphOptimizer - no improvements for 1 iterations\n",
      "2024-04-14 16:21:19,736 - EvoGraphOptimizer - spent time: 0.1 min\n",
      "2024-04-14 16:21:19,736 - EvoGraphOptimizer - Next population size: 55; max graph depth: 100\n",
      "2024-04-14 16:21:19,755 - MultiprocessingDispatcher - Number of used CPU's: 6\n"
     ]
    },
    {
     "name": "stderr",
     "output_type": "stream",
     "text": [
      "100%|██████████| 5000/5000 [00:00<00:00, 17981.53it/s]\n",
      "100%|██████████| 5000/5000 [00:00<00:00, 17793.96it/s]\n"
     ]
    },
    {
     "name": "stdout",
     "output_type": "stream",
     "text": [
      "Error message\n",
      "[Errno 17] File exists: '/root/BAMT/Nodes_data/538'\n",
      "Error message\n",
      "[Errno 17] File exists: '/root/BAMT/Nodes_data/538'\n",
      "Error message\n",
      "[Errno 17] File exists: '/root/BAMT/Nodes_data/537'\n"
     ]
    },
    {
     "name": "stderr",
     "output_type": "stream",
     "text": [
      "100%|██████████| 5000/5000 [00:00<00:00, 17807.62it/s]\n",
      "100%|██████████| 5000/5000 [00:00<00:00, 17590.74it/s]\n",
      "100%|██████████| 5000/5000 [00:00<00:00, 17698.10it/s]\n",
      "100%|██████████| 5000/5000 [00:00<00:00, 17771.51it/s]\n",
      "100%|██████████| 5000/5000 [00:00<00:00, 17620.43it/s]\n",
      "100%|██████████| 5000/5000 [00:00<00:00, 17568.10it/s]\n",
      " 69%|██████▉   | 3450/5000 [00:00<00:00, 17276.17it/s]"
     ]
    },
    {
     "name": "stdout",
     "output_type": "stream",
     "text": [
      "Error message\n",
      "[Errno 17] File exists: '/root/BAMT/Nodes_data/544'\n"
     ]
    },
    {
     "name": "stderr",
     "output_type": "stream",
     "text": [
      "100%|██████████| 5000/5000 [00:00<00:00, 17433.80it/s]\n",
      "100%|██████████| 5000/5000 [00:00<00:00, 17453.00it/s]\n",
      "100%|██████████| 5000/5000 [00:00<00:00, 17838.54it/s]\n",
      "100%|██████████| 5000/5000 [00:00<00:00, 17616.60it/s]\n",
      "100%|██████████| 5000/5000 [00:00<00:00, 17515.78it/s]\n",
      "100%|██████████| 5000/5000 [00:00<00:00, 17767.63it/s]\n",
      "100%|██████████| 5000/5000 [00:00<00:00, 17763.61it/s]\n",
      "100%|██████████| 5000/5000 [00:00<00:00, 17526.76it/s]\n",
      "100%|██████████| 5000/5000 [00:00<00:00, 17572.30it/s]\n",
      "100%|██████████| 5000/5000 [00:00<00:00, 17550.43it/s]\n",
      "100%|██████████| 5000/5000 [00:00<00:00, 17729.31it/s]\n",
      "100%|██████████| 5000/5000 [00:00<00:00, 17489.24it/s]\n",
      "100%|██████████| 5000/5000 [00:00<00:00, 17347.56it/s]\n",
      "100%|██████████| 5000/5000 [00:00<00:00, 17458.81it/s]\n",
      "100%|██████████| 5000/5000 [00:00<00:00, 17469.05it/s]\n",
      "100%|██████████| 5000/5000 [00:00<00:00, 17597.32it/s]\n",
      "100%|██████████| 5000/5000 [00:00<00:00, 17492.26it/s]\n",
      "100%|██████████| 5000/5000 [00:00<00:00, 17219.06it/s]\n",
      " 71%|███████   | 3544/5000 [00:00<00:00, 17789.99it/s]"
     ]
    },
    {
     "name": "stdout",
     "output_type": "stream",
     "text": [
      "Error message\n",
      "[Errno 17] File exists: '/root/BAMT/Nodes_data/561'\n"
     ]
    },
    {
     "name": "stderr",
     "output_type": "stream",
     "text": [
      "100%|██████████| 5000/5000 [00:00<00:00, 17633.20it/s]\n",
      "100%|██████████| 5000/5000 [00:00<00:00, 17716.89it/s]\n",
      "100%|██████████| 5000/5000 [00:00<00:00, 17521.08it/s]\n",
      "100%|██████████| 5000/5000 [00:00<00:00, 17778.21it/s]\n",
      "100%|██████████| 5000/5000 [00:00<00:00, 17673.07it/s]\n",
      "100%|██████████| 5000/5000 [00:00<00:00, 17411.29it/s]\n",
      "100%|██████████| 5000/5000 [00:00<00:00, 17590.62it/s]\n",
      "100%|██████████| 5000/5000 [00:00<00:00, 17466.03it/s]\n",
      "100%|██████████| 5000/5000 [00:00<00:00, 17616.39it/s]\n",
      "100%|██████████| 5000/5000 [00:00<00:00, 17759.56it/s]\n",
      "100%|██████████| 5000/5000 [00:00<00:00, 17700.64it/s]\n",
      "100%|██████████| 5000/5000 [00:00<00:00, 17654.07it/s]\n",
      "100%|██████████| 5000/5000 [00:00<00:00, 16847.75it/s]\n",
      "100%|██████████| 5000/5000 [00:00<00:00, 16670.51it/s]\n",
      "100%|██████████| 5000/5000 [00:00<00:00, 16759.10it/s]\n",
      "100%|██████████| 5000/5000 [00:00<00:00, 16876.65it/s]\n",
      "100%|██████████| 5000/5000 [00:00<00:00, 16861.35it/s]\n",
      "100%|██████████| 5000/5000 [00:00<00:00, 16802.93it/s]\n",
      "100%|██████████| 5000/5000 [00:00<00:00, 17656.42it/s]\n",
      "100%|██████████| 5000/5000 [00:00<00:00, 17828.95it/s]\n",
      "100%|██████████| 5000/5000 [00:00<00:00, 17737.48it/s]\n",
      "100%|██████████| 5000/5000 [00:00<00:00, 17871.66it/s]\n",
      "100%|██████████| 5000/5000 [00:00<00:00, 17932.53it/s]\n",
      "100%|██████████| 5000/5000 [00:00<00:00, 17622.28it/s]\n",
      "100%|██████████| 5000/5000 [00:00<00:00, 18416.28it/s]\n"
     ]
    },
    {
     "name": "stdout",
     "output_type": "stream",
     "text": [
      "2024-04-14 16:21:23,540 - MultiprocessingDispatcher - 49 individuals out of 54 in previous population were evaluated successfully.\n",
      "2024-04-14 16:21:23,544 - EvoGraphOptimizer - Generation num: 7 size: 55\n",
      "2024-04-14 16:21:23,544 - EvoGraphOptimizer - Best individuals: HallOfFame archive fitness (1): ['<custom=0.008>']\n",
      "2024-04-14 16:21:23,545 - EvoGraphOptimizer - Next population size: 55; max graph depth: 100\n",
      "2024-04-14 16:21:23,563 - MultiprocessingDispatcher - Number of used CPU's: 6\n",
      "Error message\n",
      "[Errno 17] File exists: '/root/BAMT/Nodes_data/586'\n",
      "Error message\n",
      "[Errno 17] File exists: '/root/BAMT/Nodes_data/586'\n",
      "Error message\n",
      "[Errno 17] File exists: '/root/BAMT/Nodes_data/587'\n",
      "Error message\n",
      "[Errno 17] File exists: '/root/BAMT/Nodes_data/589'\n"
     ]
    },
    {
     "name": "stderr",
     "output_type": "stream",
     "text": [
      "  0%|          | 0/5000 [00:00<?, ?it/s] 17655.01it/s]"
     ]
    },
    {
     "name": "stdout",
     "output_type": "stream",
     "text": [
      "Error message\n",
      "[Errno 17] File exists: '/root/BAMT/Nodes_data/586'\n",
      "Error message\n",
      "[Errno 17] File exists: '/root/BAMT/Nodes_data/589'\n",
      "Error message\n",
      "[Errno 17] File exists: '/root/BAMT/Nodes_data/590'\n"
     ]
    },
    {
     "name": "stderr",
     "output_type": "stream",
     "text": [
      "100%|██████████| 5000/5000 [00:00<00:00, 17688.99it/s]\n",
      "100%|██████████| 5000/5000 [00:00<00:00, 17345.24it/s]\n",
      "100%|██████████| 5000/5000 [00:00<00:00, 17535.83it/s]\n",
      "100%|██████████| 5000/5000 [00:00<00:00, 17539.10it/s]\n",
      "100%|██████████| 5000/5000 [00:00<00:00, 17585.43it/s]\n",
      "100%|██████████| 5000/5000 [00:00<00:00, 17485.91it/s]\n",
      "100%|██████████| 5000/5000 [00:00<00:00, 17656.51it/s]\n",
      "100%|██████████| 5000/5000 [00:00<00:00, 17652.97it/s]\n",
      "100%|██████████| 5000/5000 [00:00<00:00, 17734.53it/s]\n",
      "100%|██████████| 5000/5000 [00:00<00:00, 17619.44it/s]\n",
      "100%|██████████| 5000/5000 [00:00<00:00, 17550.30it/s]\n",
      "100%|██████████| 5000/5000 [00:00<00:00, 17525.85it/s]\n",
      "100%|██████████| 5000/5000 [00:00<00:00, 17385.79it/s]\n",
      "100%|██████████| 5000/5000 [00:00<00:00, 17446.35it/s]\n",
      "100%|██████████| 5000/5000 [00:00<00:00, 17247.63it/s]\n",
      "100%|██████████| 5000/5000 [00:00<00:00, 17247.51it/s]\n",
      "100%|██████████| 5000/5000 [00:00<00:00, 16699.36it/s]\n",
      "100%|██████████| 5000/5000 [00:00<00:00, 17122.95it/s]\n",
      "100%|██████████| 5000/5000 [00:00<00:00, 17374.74it/s]\n",
      "100%|██████████| 5000/5000 [00:00<00:00, 17723.73it/s]\n",
      "100%|██████████| 5000/5000 [00:00<00:00, 17793.13it/s]\n",
      "100%|██████████| 5000/5000 [00:00<00:00, 17722.25it/s]\n",
      "100%|██████████| 5000/5000 [00:00<00:00, 18142.44it/s]\n",
      "100%|██████████| 5000/5000 [00:00<00:00, 17541.40it/s]\n",
      "100%|██████████| 5000/5000 [00:00<00:00, 17555.52it/s]\n",
      "100%|██████████| 5000/5000 [00:00<00:00, 17624.00it/s]\n",
      "100%|██████████| 5000/5000 [00:00<00:00, 17661.02it/s]\n",
      "100%|██████████| 5000/5000 [00:00<00:00, 17624.22it/s]\n",
      "100%|██████████| 5000/5000 [00:00<00:00, 17796.09it/s]\n",
      "100%|██████████| 5000/5000 [00:00<00:00, 17503.46it/s]\n",
      "100%|██████████| 5000/5000 [00:00<00:00, 17273.70it/s]\n",
      "100%|██████████| 5000/5000 [00:00<00:00, 17261.87it/s]\n",
      "100%|██████████| 5000/5000 [00:00<00:00, 17279.31it/s]\n",
      "100%|██████████| 5000/5000 [00:00<00:00, 17383.44it/s]\n",
      "100%|██████████| 5000/5000 [00:00<00:00, 17281.60it/s]\n",
      "100%|██████████| 5000/5000 [00:00<00:00, 17423.69it/s]\n",
      "100%|██████████| 5000/5000 [00:00<00:00, 17440.70it/s]\n",
      "100%|██████████| 5000/5000 [00:00<00:00, 17492.04it/s]\n",
      "100%|██████████| 5000/5000 [00:00<00:00, 17400.33it/s]\n",
      "100%|██████████| 5000/5000 [00:00<00:00, 17501.54it/s]\n",
      "100%|██████████| 5000/5000 [00:00<00:00, 17391.43it/s]\n",
      "100%|██████████| 5000/5000 [00:00<00:00, 17325.58it/s]\n",
      "100%|██████████| 5000/5000 [00:00<00:00, 16915.03it/s]\n",
      "100%|██████████| 5000/5000 [00:00<00:00, 16949.34it/s]\n",
      "100%|██████████| 5000/5000 [00:00<00:00, 16862.46it/s]\n",
      "100%|██████████| 5000/5000 [00:00<00:00, 17153.73it/s]\n",
      "100%|██████████| 5000/5000 [00:00<00:00, 17117.67it/s]\n"
     ]
    },
    {
     "name": "stdout",
     "output_type": "stream",
     "text": [
      "2024-04-14 16:21:27,011 - MultiprocessingDispatcher - 47 individuals out of 54 in previous population were evaluated successfully.\n",
      "2024-04-14 16:21:27,015 - EvoGraphOptimizer - Generation num: 8 size: 55\n",
      "2024-04-14 16:21:27,015 - EvoGraphOptimizer - Best individuals: HallOfFame archive fitness (1): ['<custom=0.008>']\n",
      "2024-04-14 16:21:27,016 - EvoGraphOptimizer - no improvements for 1 iterations\n",
      "2024-04-14 16:21:27,017 - EvoGraphOptimizer - spent time: 0.3 min\n",
      "2024-04-14 16:21:27,017 - EvoGraphOptimizer - Next population size: 55; max graph depth: 100\n",
      "2024-04-14 16:21:27,037 - MultiprocessingDispatcher - Number of used CPU's: 6\n",
      "Error message\n",
      "[Errno 17] File exists: '/root/BAMT/Nodes_data/633'\n",
      "Error message\n",
      "[Errno 17] File exists: '/root/BAMT/Nodes_data/634'\n",
      "Error message\n",
      "[Errno 17] File exists: '/root/BAMT/Nodes_data/633'\n",
      "Error message\n",
      "[Errno 17] File exists: '/root/BAMT/Nodes_data/636'\n"
     ]
    },
    {
     "name": "stderr",
     "output_type": "stream",
     "text": [
      "100%|██████████| 5000/5000 [00:00<00:00, 17715.81it/s]\n",
      "100%|██████████| 5000/5000 [00:00<00:00, 17723.34it/s]\n",
      "100%|██████████| 5000/5000 [00:00<00:00, 17657.36it/s]\n",
      "100%|██████████| 5000/5000 [00:00<00:00, 17606.35it/s]\n",
      "100%|██████████| 5000/5000 [00:00<00:00, 17543.78it/s]\n",
      "100%|██████████| 5000/5000 [00:00<00:00, 17535.87it/s]\n",
      "100%|██████████| 5000/5000 [00:00<00:00, 17473.01it/s]\n",
      "100%|██████████| 5000/5000 [00:00<00:00, 17687.81it/s]\n",
      "100%|██████████| 5000/5000 [00:00<00:00, 17724.65it/s]\n",
      "100%|██████████| 5000/5000 [00:00<00:00, 17592.46it/s]\n",
      "100%|██████████| 5000/5000 [00:00<00:00, 17630.13it/s]\n",
      "100%|██████████| 5000/5000 [00:00<00:00, 17961.16it/s]\n",
      "100%|██████████| 5000/5000 [00:00<00:00, 17610.38it/s]\n",
      "100%|██████████| 5000/5000 [00:00<00:00, 17446.49it/s]\n",
      "100%|██████████| 5000/5000 [00:00<00:00, 17800.96it/s]\n",
      "100%|██████████| 5000/5000 [00:00<00:00, 17605.96it/s]\n",
      "100%|██████████| 5000/5000 [00:00<00:00, 17617.91it/s]\n",
      "100%|██████████| 5000/5000 [00:00<00:00, 17664.04it/s]\n",
      "100%|██████████| 5000/5000 [00:00<00:00, 17694.38it/s]\n",
      "100%|██████████| 5000/5000 [00:00<00:00, 17504.48it/s]\n",
      "100%|██████████| 5000/5000 [00:00<00:00, 17516.99it/s]\n",
      "100%|██████████| 5000/5000 [00:00<00:00, 17653.75it/s]\n",
      "100%|██████████| 5000/5000 [00:00<00:00, 17857.83it/s]\n",
      "100%|██████████| 5000/5000 [00:00<00:00, 17638.17it/s]\n",
      "100%|██████████| 5000/5000 [00:00<00:00, 17751.67it/s]\n",
      "100%|██████████| 5000/5000 [00:00<00:00, 17569.52it/s]\n",
      "100%|██████████| 5000/5000 [00:00<00:00, 17924.25it/s]\n",
      "100%|██████████| 5000/5000 [00:00<00:00, 17939.08it/s]\n",
      "100%|██████████| 5000/5000 [00:00<00:00, 17677.42it/s]\n",
      "100%|██████████| 5000/5000 [00:00<00:00, 17621.42it/s]\n",
      "100%|██████████| 5000/5000 [00:00<00:00, 17671.63it/s]\n",
      "100%|██████████| 5000/5000 [00:00<00:00, 17608.61it/s]\n",
      "100%|██████████| 5000/5000 [00:00<00:00, 17497.58it/s]\n",
      "100%|██████████| 5000/5000 [00:00<00:00, 17901.79it/s]\n",
      "100%|██████████| 5000/5000 [00:00<00:00, 17468.70it/s]\n",
      "100%|██████████| 5000/5000 [00:00<00:00, 17663.98it/s]\n",
      "100%|██████████| 5000/5000 [00:00<00:00, 17490.03it/s]\n",
      "100%|██████████| 5000/5000 [00:00<00:00, 17806.84it/s]\n",
      "100%|██████████| 5000/5000 [00:00<00:00, 17840.19it/s]\n",
      "100%|██████████| 5000/5000 [00:00<00:00, 17670.45it/s]\n",
      "100%|██████████| 5000/5000 [00:00<00:00, 17737.35it/s]\n",
      "100%|██████████| 5000/5000 [00:00<00:00, 17778.59it/s]\n",
      "100%|██████████| 5000/5000 [00:00<00:00, 17574.41it/s]\n",
      "100%|██████████| 5000/5000 [00:00<00:00, 17774.78it/s]\n",
      "100%|██████████| 5000/5000 [00:00<00:00, 17861.91it/s]\n",
      "100%|██████████| 5000/5000 [00:00<00:00, 17482.49it/s]\n",
      "100%|██████████| 5000/5000 [00:00<00:00, 17618.67it/s]\n",
      "100%|██████████| 5000/5000 [00:00<00:00, 17857.30it/s]\n",
      "100%|██████████| 5000/5000 [00:00<00:00, 17791.93it/s]\n",
      "100%|██████████| 5000/5000 [00:00<00:00, 17716.59it/s]\n"
     ]
    },
    {
     "name": "stdout",
     "output_type": "stream",
     "text": [
      "2024-04-14 16:21:30,740 - MultiprocessingDispatcher - 50 individuals out of 54 in previous population were evaluated successfully.\n",
      "2024-04-14 16:21:30,743 - EvoGraphOptimizer - Generation num: 9 size: 55\n",
      "2024-04-14 16:21:30,744 - EvoGraphOptimizer - Best individuals: HallOfFame archive fitness (1): ['<custom=0.008>']\n",
      "2024-04-14 16:21:30,744 - EvoGraphOptimizer - no improvements for 2 iterations\n",
      "2024-04-14 16:21:30,745 - EvoGraphOptimizer - spent time: 0.3 min\n",
      "2024-04-14 16:21:30,745 - EvoGraphOptimizer - Next population size: 55; max graph depth: 100\n",
      "2024-04-14 16:21:30,762 - MultiprocessingDispatcher - Number of used CPU's: 6\n",
      "Error message\n",
      "[Errno 17] File exists: '/root/BAMT/Nodes_data/685'\n",
      "Error message\n",
      "[Errno 17] File exists: '/root/BAMT/Nodes_data/685'\n",
      "Error message\n",
      "[Errno 17] File exists: '/root/BAMT/Nodes_data/685'\n"
     ]
    },
    {
     "name": "stderr",
     "output_type": "stream",
     "text": [
      "100%|██████████| 5000/5000 [00:00<00:00, 17877.33it/s]\n",
      "100%|██████████| 5000/5000 [00:00<00:00, 17961.96it/s]\n",
      "100%|██████████| 5000/5000 [00:00<00:00, 17633.07it/s]\n",
      "100%|██████████| 5000/5000 [00:00<00:00, 17683.59it/s]\n",
      "100%|██████████| 5000/5000 [00:00<00:00, 17703.30it/s]\n",
      "100%|██████████| 5000/5000 [00:00<00:00, 17593.48it/s]\n",
      "100%|██████████| 5000/5000 [00:00<00:00, 17669.35it/s]\n",
      "100%|██████████| 5000/5000 [00:00<00:00, 17477.29it/s]\n",
      "100%|██████████| 5000/5000 [00:00<00:00, 17622.80it/s]\n",
      "100%|██████████| 5000/5000 [00:00<00:00, 17758.48it/s]\n",
      "100%|██████████| 5000/5000 [00:00<00:00, 17524.94it/s]\n",
      "100%|██████████| 5000/5000 [00:00<00:00, 17749.40it/s]\n",
      "100%|██████████| 5000/5000 [00:00<00:00, 18025.63it/s]\n",
      "100%|██████████| 5000/5000 [00:00<00:00, 17657.18it/s]\n",
      "100%|██████████| 5000/5000 [00:00<00:00, 17813.25it/s]\n",
      "100%|██████████| 5000/5000 [00:00<00:00, 18170.34it/s]\n",
      "100%|██████████| 5000/5000 [00:00<00:00, 17720.84it/s]\n",
      "100%|██████████| 5000/5000 [00:00<00:00, 17588.35it/s]\n",
      "100%|██████████| 5000/5000 [00:00<00:00, 17706.72it/s]\n",
      "100%|██████████| 5000/5000 [00:00<00:00, 17569.25it/s]\n",
      "100%|██████████| 5000/5000 [00:00<00:00, 17669.62it/s]\n",
      "100%|██████████| 5000/5000 [00:00<00:00, 17528.15it/s]\n",
      "100%|██████████| 5000/5000 [00:00<00:00, 17762.39it/s]\n",
      "100%|██████████| 5000/5000 [00:00<00:00, 17682.82it/s]\n",
      "100%|██████████| 5000/5000 [00:00<00:00, 16832.16it/s]\n",
      "100%|██████████| 5000/5000 [00:00<00:00, 17029.21it/s]\n",
      "100%|██████████| 5000/5000 [00:00<00:00, 16988.21it/s]\n",
      "100%|██████████| 5000/5000 [00:00<00:00, 17465.93it/s]\n",
      "100%|██████████| 5000/5000 [00:00<00:00, 17519.34it/s]\n",
      "100%|██████████| 5000/5000 [00:00<00:00, 17440.98it/s]\n",
      "100%|██████████| 5000/5000 [00:00<00:00, 17446.01it/s]\n",
      "100%|██████████| 5000/5000 [00:00<00:00, 17344.06it/s]\n",
      "100%|██████████| 5000/5000 [00:00<00:00, 17353.56it/s]\n",
      "100%|██████████| 5000/5000 [00:00<00:00, 17468.35it/s]\n",
      "100%|██████████| 5000/5000 [00:00<00:00, 17358.93it/s]\n",
      "100%|██████████| 5000/5000 [00:00<00:00, 17414.33it/s]\n",
      "100%|██████████| 5000/5000 [00:00<00:00, 17762.72it/s]\n",
      "100%|██████████| 5000/5000 [00:00<00:00, 17668.28it/s]\n",
      "100%|██████████| 5000/5000 [00:00<00:00, 17536.18it/s]\n",
      "100%|██████████| 5000/5000 [00:00<00:00, 17651.32it/s]\n",
      "100%|██████████| 5000/5000 [00:00<00:00, 17557.21it/s]\n",
      "100%|██████████| 5000/5000 [00:00<00:00, 17337.09it/s]\n",
      "100%|██████████| 5000/5000 [00:00<00:00, 17936.32it/s]\n",
      "100%|██████████| 5000/5000 [00:00<00:00, 17666.42it/s]\n",
      "100%|██████████| 5000/5000 [00:00<00:00, 17708.87it/s]\n",
      "100%|██████████| 5000/5000 [00:00<00:00, 17676.82it/s]\n",
      "100%|██████████| 5000/5000 [00:00<00:00, 18062.05it/s]\n",
      "100%|██████████| 5000/5000 [00:00<00:00, 17772.44it/s]\n",
      "100%|██████████| 5000/5000 [00:00<00:00, 17759.89it/s]\n"
     ]
    },
    {
     "name": "stdout",
     "output_type": "stream",
     "text": [
      "2024-04-14 16:21:34,589 - MultiprocessingDispatcher - 51 individuals out of 54 in previous population were evaluated successfully.\n",
      "2024-04-14 16:21:34,592 - EvoGraphOptimizer - Generation num: 10 size: 55\n",
      "2024-04-14 16:21:34,593 - EvoGraphOptimizer - Best individuals: HallOfFame archive fitness (1): ['<custom=0.001>']\n",
      "2024-04-14 16:21:34,593 - EvoGraphOptimizer - Next population size: 55; max graph depth: 100\n"
     ]
    },
    {
     "name": "stderr",
     "output_type": "stream",
     "text": [
      "100%|██████████| 5000/5000 [00:00<00:00, 17743.23it/s]\n",
      "100%|██████████| 5000/5000 [00:00<00:00, 17717.45it/s]\n"
     ]
    },
    {
     "name": "stdout",
     "output_type": "stream",
     "text": [
      "2024-04-14 16:21:34,613 - MultiprocessingDispatcher - Number of used CPU's: 6\n",
      "Error message\n",
      "[Errno 17] File exists: '/root/BAMT/Nodes_data/735'\n",
      "Error message\n",
      "[Errno 17] File exists: '/root/BAMT/Nodes_data/734'\n",
      "Error message\n",
      "[Errno 17] File exists: '/root/BAMT/Nodes_data/735'\n"
     ]
    },
    {
     "name": "stderr",
     "output_type": "stream",
     "text": [
      "100%|██████████| 5000/5000 [00:00<00:00, 17889.88it/s]\n",
      "100%|██████████| 5000/5000 [00:00<00:00, 17830.82it/s]\n",
      "100%|██████████| 5000/5000 [00:00<00:00, 17695.19it/s]\n",
      "100%|██████████| 5000/5000 [00:00<00:00, 17843.61it/s]\n",
      "100%|██████████| 5000/5000 [00:00<00:00, 17650.05it/s]\n",
      "100%|██████████| 5000/5000 [00:00<00:00, 17589.38it/s]\n",
      "100%|██████████| 5000/5000 [00:00<00:00, 17886.55it/s]\n",
      "100%|██████████| 5000/5000 [00:00<00:00, 17825.41it/s]\n",
      "100%|██████████| 5000/5000 [00:00<00:00, 17661.82it/s]\n",
      "100%|██████████| 5000/5000 [00:00<00:00, 17677.50it/s]\n",
      "100%|██████████| 5000/5000 [00:00<00:00, 17602.51it/s]\n",
      "100%|██████████| 5000/5000 [00:00<00:00, 17818.47it/s]\n",
      "100%|██████████| 5000/5000 [00:00<00:00, 17547.69it/s]\n",
      "100%|██████████| 5000/5000 [00:00<00:00, 17610.41it/s]\n",
      "100%|██████████| 5000/5000 [00:00<00:00, 17683.40it/s]\n",
      "100%|██████████| 5000/5000 [00:00<00:00, 17655.19it/s]\n",
      "100%|██████████| 5000/5000 [00:00<00:00, 17718.93it/s]\n",
      "100%|██████████| 5000/5000 [00:00<00:00, 17458.28it/s]\n",
      "100%|██████████| 5000/5000 [00:00<00:00, 17505.02it/s]\n",
      "100%|██████████| 5000/5000 [00:00<00:00, 17473.19it/s]\n",
      "100%|██████████| 5000/5000 [00:00<00:00, 17593.76it/s]\n",
      "100%|██████████| 5000/5000 [00:00<00:00, 17829.73it/s]\n",
      "100%|██████████| 5000/5000 [00:00<00:00, 17636.06it/s]\n",
      "100%|██████████| 5000/5000 [00:00<00:00, 17583.31it/s]\n",
      "100%|██████████| 5000/5000 [00:00<00:00, 17741.26it/s]\n",
      "100%|██████████| 5000/5000 [00:00<00:00, 17715.25it/s]\n",
      "100%|██████████| 5000/5000 [00:00<00:00, 17606.24it/s]\n",
      "100%|██████████| 5000/5000 [00:00<00:00, 17399.94it/s]\n",
      "100%|██████████| 5000/5000 [00:00<00:00, 17661.79it/s]\n",
      "100%|██████████| 5000/5000 [00:00<00:00, 17633.04it/s]\n",
      "100%|██████████| 5000/5000 [00:00<00:00, 17490.48it/s]\n",
      "100%|██████████| 5000/5000 [00:00<00:00, 17430.21it/s]\n",
      "100%|██████████| 5000/5000 [00:00<00:00, 17507.31it/s]\n",
      "100%|██████████| 5000/5000 [00:00<00:00, 17723.91it/s]\n",
      "100%|██████████| 5000/5000 [00:00<00:00, 17794.90it/s]\n",
      "100%|██████████| 5000/5000 [00:00<00:00, 17652.14it/s]\n",
      "100%|██████████| 5000/5000 [00:00<00:00, 16940.15it/s]\n",
      "100%|██████████| 5000/5000 [00:00<00:00, 17027.77it/s]\n",
      "100%|██████████| 5000/5000 [00:00<00:00, 16953.99it/s]\n",
      "100%|██████████| 5000/5000 [00:00<00:00, 16997.82it/s]\n",
      "100%|██████████| 5000/5000 [00:00<00:00, 17590.06it/s]\n",
      "100%|██████████| 5000/5000 [00:00<00:00, 17604.06it/s]\n",
      "100%|██████████| 5000/5000 [00:00<00:00, 17556.06it/s]\n",
      "100%|██████████| 5000/5000 [00:00<00:00, 17722.25it/s]\n",
      "100%|██████████| 5000/5000 [00:00<00:00, 17393.72it/s]\n",
      "100%|██████████| 5000/5000 [00:00<00:00, 17426.76it/s]\n",
      "100%|██████████| 5000/5000 [00:00<00:00, 17708.74it/s]\n",
      "100%|██████████| 5000/5000 [00:00<00:00, 17630.68it/s]\n",
      " 71%|███████   | 3545/5000 [00:00<00:00, 17743.09it/s]"
     ]
    },
    {
     "name": "stdout",
     "output_type": "stream",
     "text": [
      "2024-04-14 16:21:38,397 - MultiprocessingDispatcher - 51 individuals out of 54 in previous population were evaluated successfully.\n",
      "2024-04-14 16:21:38,400 - EvoGraphOptimizer - Generation num: 11 size: 55\n",
      "2024-04-14 16:21:38,401 - EvoGraphOptimizer - Best individuals: HallOfFame archive fitness (1): ['<custom=0.001>']\n",
      "2024-04-14 16:21:38,401 - EvoGraphOptimizer - no improvements for 1 iterations\n",
      "2024-04-14 16:21:38,402 - EvoGraphOptimizer - spent time: 0.5 min\n",
      "2024-04-14 16:21:38,402 - EvoGraphOptimizer - Next population size: 55; max graph depth: 100\n",
      "2024-04-14 16:21:38,422 - MultiprocessingDispatcher - Number of used CPU's: 6\n"
     ]
    },
    {
     "name": "stderr",
     "output_type": "stream",
     "text": [
      "100%|██████████| 5000/5000 [00:00<00:00, 17741.73it/s]\n",
      "100%|██████████| 5000/5000 [00:00<00:00, 17865.65it/s]\n",
      "100%|██████████| 5000/5000 [00:00<00:00, 17726.54it/s]\n"
     ]
    },
    {
     "name": "stdout",
     "output_type": "stream",
     "text": [
      "Error message\n",
      "[Errno 17] File exists: '/root/BAMT/Nodes_data/785'\n",
      "Error message\n",
      "[Errno 17] File exists: '/root/BAMT/Nodes_data/786'\n",
      "Error message\n",
      "[Errno 17] File exists: '/root/BAMT/Nodes_data/786'\n",
      "Error message\n",
      "[Errno 17] File exists: '/root/BAMT/Nodes_data/789'\n"
     ]
    },
    {
     "name": "stderr",
     "output_type": "stream",
     "text": [
      "100%|██████████| 5000/5000 [00:00<00:00, 17688.74it/s]\n",
      "100%|██████████| 5000/5000 [00:00<00:00, 17630.24it/s]\n",
      "100%|██████████| 5000/5000 [00:00<00:00, 17503.13it/s]\n",
      "100%|██████████| 5000/5000 [00:00<00:00, 17909.47it/s]\n",
      "100%|██████████| 5000/5000 [00:00<00:00, 17436.57it/s]\n",
      "100%|██████████| 5000/5000 [00:00<00:00, 17441.78it/s]\n",
      "100%|██████████| 5000/5000 [00:00<00:00, 17805.54it/s]\n",
      "100%|██████████| 5000/5000 [00:00<00:00, 17649.51it/s]\n",
      "100%|██████████| 5000/5000 [00:00<00:00, 17525.88it/s]\n",
      "100%|██████████| 5000/5000 [00:00<00:00, 17410.70it/s]\n",
      "100%|██████████| 5000/5000 [00:00<00:00, 17510.59it/s]\n",
      "100%|██████████| 5000/5000 [00:00<00:00, 17462.62it/s]\n",
      "100%|██████████| 5000/5000 [00:00<00:00, 17576.57it/s]\n",
      "100%|██████████| 5000/5000 [00:00<00:00, 17917.30it/s]\n",
      "100%|██████████| 5000/5000 [00:00<00:00, 17634.37it/s]\n",
      "100%|██████████| 5000/5000 [00:00<00:00, 17968.53it/s]\n",
      "100%|██████████| 5000/5000 [00:00<00:00, 17357.14it/s]\n",
      "100%|██████████| 5000/5000 [00:00<00:00, 17695.31it/s]\n",
      "100%|██████████| 5000/5000 [00:00<00:00, 17921.16it/s]\n",
      "100%|██████████| 5000/5000 [00:00<00:00, 17739.43it/s]\n",
      "100%|██████████| 5000/5000 [00:00<00:00, 17742.97it/s]\n",
      "100%|██████████| 5000/5000 [00:00<00:00, 17540.73it/s]\n",
      "100%|██████████| 5000/5000 [00:00<00:00, 17966.08it/s]\n",
      "100%|██████████| 5000/5000 [00:00<00:00, 17691.02it/s]\n",
      "100%|██████████| 5000/5000 [00:00<00:00, 17542.42it/s]\n",
      "100%|██████████| 5000/5000 [00:00<00:00, 17597.35it/s]\n",
      "100%|██████████| 5000/5000 [00:00<00:00, 17612.07it/s]\n",
      "100%|██████████| 5000/5000 [00:00<00:00, 17765.13it/s]\n",
      "100%|██████████| 5000/5000 [00:00<00:00, 17882.67it/s]\n",
      "100%|██████████| 5000/5000 [00:00<00:00, 17814.88it/s]\n",
      "100%|██████████| 5000/5000 [00:00<00:00, 17596.73it/s]\n",
      "100%|██████████| 5000/5000 [00:00<00:00, 17680.94it/s]\n",
      "100%|██████████| 5000/5000 [00:00<00:00, 17924.24it/s]\n",
      "100%|██████████| 5000/5000 [00:00<00:00, 17581.51it/s]\n",
      "100%|██████████| 5000/5000 [00:00<00:00, 17765.46it/s]\n",
      "100%|██████████| 5000/5000 [00:00<00:00, 17840.48it/s]\n",
      "100%|██████████| 5000/5000 [00:00<00:00, 17760.25it/s]\n",
      "100%|██████████| 5000/5000 [00:00<00:00, 17664.69it/s]\n",
      "100%|██████████| 5000/5000 [00:00<00:00, 17291.88it/s]\n",
      "100%|██████████| 5000/5000 [00:00<00:00, 17448.33it/s]\n",
      "100%|██████████| 5000/5000 [00:00<00:00, 17376.01it/s]\n",
      "100%|██████████| 5000/5000 [00:00<00:00, 17455.09it/s]\n",
      "100%|██████████| 5000/5000 [00:00<00:00, 18056.62it/s]\n",
      "100%|██████████| 5000/5000 [00:00<00:00, 17770.07it/s]\n",
      "100%|██████████| 5000/5000 [00:00<00:00, 17704.49it/s]\n",
      "100%|██████████| 5000/5000 [00:00<00:00, 17615.49it/s]\n",
      "100%|██████████| 5000/5000 [00:00<00:00, 17637.53it/s]\n",
      "100%|██████████| 5000/5000 [00:00<00:00, 17916.90it/s]\n",
      "100%|██████████| 5000/5000 [00:00<00:00, 17774.16it/s]\n"
     ]
    },
    {
     "name": "stdout",
     "output_type": "stream",
     "text": [
      "2024-04-14 16:21:42,141 - MultiprocessingDispatcher - 50 individuals out of 54 in previous population were evaluated successfully.\n",
      "2024-04-14 16:21:42,144 - EvoGraphOptimizer - Generation num: 12 size: 55\n",
      "2024-04-14 16:21:42,145 - EvoGraphOptimizer - Best individuals: HallOfFame archive fitness (1): ['<custom=0.001>']\n",
      "2024-04-14 16:21:42,145 - EvoGraphOptimizer - no improvements for 2 iterations\n",
      "2024-04-14 16:21:42,146 - EvoGraphOptimizer - spent time: 0.5 min\n",
      "2024-04-14 16:21:42,146 - EvoGraphOptimizer - Next population size: 55; max graph depth: 100\n",
      "2024-04-14 16:21:42,176 - MultiprocessingDispatcher - Number of used CPU's: 6\n"
     ]
    },
    {
     "name": "stderr",
     "output_type": "stream",
     "text": [
      "100%|██████████| 5000/5000 [00:00<00:00, 17953.99it/s]\n",
      "  0%|          | 0/5000 [00:00<?, ?it/s]"
     ]
    },
    {
     "name": "stdout",
     "output_type": "stream",
     "text": [
      "Error message\n",
      "[Errno 17] File exists: '/root/BAMT/Nodes_data/835'\n",
      "Error message\n",
      "[Errno 17] File exists: '/root/BAMT/Nodes_data/835'\n",
      "Error message\n",
      "[Errno 17] File exists: '/root/BAMT/Nodes_data/836'\n",
      "Error message\n",
      "[Errno 17] File exists: '/root/BAMT/Nodes_data/838'\n",
      "Error message\n",
      "[Errno 17] File exists: '/root/BAMT/Nodes_data/836'\n",
      "Error message\n",
      "[Errno 17] File exists: '/root/BAMT/Nodes_data/837'\n"
     ]
    },
    {
     "name": "stderr",
     "output_type": "stream",
     "text": [
      "100%|██████████| 5000/5000 [00:00<00:00, 17536.05it/s]\n",
      "100%|██████████| 5000/5000 [00:00<00:00, 17347.81it/s]\n",
      "100%|██████████| 5000/5000 [00:00<00:00, 17578.62it/s]\n",
      "100%|██████████| 5000/5000 [00:00<00:00, 17359.67it/s]\n",
      "100%|██████████| 5000/5000 [00:00<00:00, 17516.23it/s]\n",
      "100%|██████████| 5000/5000 [00:00<00:00, 17440.83it/s]\n",
      "100%|██████████| 5000/5000 [00:00<00:00, 17735.13it/s]\n",
      "100%|██████████| 5000/5000 [00:00<00:00, 17758.37it/s]\n",
      "100%|██████████| 5000/5000 [00:00<00:00, 17762.55it/s]\n",
      "100%|██████████| 5000/5000 [00:00<00:00, 17635.49it/s]\n",
      "100%|██████████| 5000/5000 [00:00<00:00, 17797.19it/s]\n",
      "100%|██████████| 5000/5000 [00:00<00:00, 17927.85it/s]\n",
      "100%|██████████| 5000/5000 [00:00<00:00, 17536.92it/s]\n",
      "100%|██████████| 5000/5000 [00:00<00:00, 17523.70it/s]\n",
      "100%|██████████| 5000/5000 [00:00<00:00, 17584.31it/s]\n",
      "100%|██████████| 5000/5000 [00:00<00:00, 17762.06it/s]\n",
      "100%|██████████| 5000/5000 [00:00<00:00, 17633.93it/s]\n",
      "100%|██████████| 5000/5000 [00:00<00:00, 17729.64it/s]\n",
      "100%|██████████| 5000/5000 [00:00<00:00, 17684.47it/s]\n",
      "100%|██████████| 5000/5000 [00:00<00:00, 17336.62it/s]\n",
      "100%|██████████| 5000/5000 [00:00<00:00, 17862.64it/s]\n",
      "100%|██████████| 5000/5000 [00:00<00:00, 17556.38it/s]\n",
      "100%|██████████| 5000/5000 [00:00<00:00, 17771.39it/s]\n",
      "100%|██████████| 5000/5000 [00:00<00:00, 17604.19it/s]\n",
      "100%|██████████| 5000/5000 [00:00<00:00, 17489.35it/s]\n",
      "100%|██████████| 5000/5000 [00:00<00:00, 17609.91it/s]\n",
      "100%|██████████| 5000/5000 [00:00<00:00, 17497.75it/s]\n",
      "100%|██████████| 5000/5000 [00:00<00:00, 17684.93it/s]\n",
      "100%|██████████| 5000/5000 [00:00<00:00, 17748.96it/s]\n",
      "100%|██████████| 5000/5000 [00:00<00:00, 17508.75it/s]\n",
      "100%|██████████| 5000/5000 [00:00<00:00, 17735.68it/s]\n",
      "100%|██████████| 5000/5000 [00:00<00:00, 17713.15it/s]\n",
      " 71%|███████   | 3536/5000 [00:00<00:00, 17696.09it/s]"
     ]
    },
    {
     "name": "stdout",
     "output_type": "stream",
     "text": [
      "Error message\n",
      "[Errno 17] File exists: '/root/BAMT/Nodes_data/869'\n"
     ]
    },
    {
     "name": "stderr",
     "output_type": "stream",
     "text": [
      "100%|██████████| 5000/5000 [00:00<00:00, 17591.77it/s]\n",
      "100%|██████████| 5000/5000 [00:00<00:00, 17674.96it/s]\n",
      "100%|██████████| 5000/5000 [00:00<00:00, 17159.66it/s]\n",
      "100%|██████████| 5000/5000 [00:00<00:00, 17604.16it/s]\n",
      "100%|██████████| 5000/5000 [00:00<00:00, 17421.77it/s]\n",
      "100%|██████████| 5000/5000 [00:00<00:00, 17711.61it/s]\n",
      "100%|██████████| 5000/5000 [00:00<00:00, 17417.69it/s]\n",
      "100%|██████████| 5000/5000 [00:00<00:00, 17381.41it/s]\n",
      "100%|██████████| 5000/5000 [00:00<00:00, 17583.08it/s]\n",
      "100%|██████████| 5000/5000 [00:00<00:00, 17591.71it/s]\n",
      "100%|██████████| 5000/5000 [00:00<00:00, 17551.12it/s]\n",
      "100%|██████████| 5000/5000 [00:00<00:00, 17728.56it/s]\n",
      "100%|██████████| 5000/5000 [00:00<00:00, 17639.05it/s]\n",
      "100%|██████████| 5000/5000 [00:00<00:00, 17498.40it/s]\n",
      "100%|██████████| 5000/5000 [00:00<00:00, 18077.59it/s]\n"
     ]
    },
    {
     "name": "stdout",
     "output_type": "stream",
     "text": [
      "2024-04-14 16:21:45,615 - MultiprocessingDispatcher - 47 individuals out of 54 in previous population were evaluated successfully.\n",
      "2024-04-14 16:21:45,618 - EvoGraphOptimizer - Generation num: 13 size: 55\n",
      "2024-04-14 16:21:45,619 - EvoGraphOptimizer - Best individuals: HallOfFame archive fitness (1): ['<custom=0.001>']\n",
      "2024-04-14 16:21:45,619 - EvoGraphOptimizer - no improvements for 3 iterations\n",
      "2024-04-14 16:21:45,620 - EvoGraphOptimizer - spent time: 0.6 min\n",
      "2024-04-14 16:21:45,620 - EvoGraphOptimizer - Next population size: 55; max graph depth: 100\n",
      "2024-04-14 16:21:45,639 - MultiprocessingDispatcher - Number of used CPU's: 6\n",
      "Error message\n",
      "[Errno 17] File exists: '/root/BAMT/Nodes_data/883'\n",
      "Error message\n",
      "[Errno 17] File exists: '/root/BAMT/Nodes_data/882'\n",
      "Error message\n",
      "[Errno 17] File exists: '/root/BAMT/Nodes_data/882'\n",
      "Error message\n",
      "[Errno 17] File exists: '/root/BAMT/Nodes_data/883'\n"
     ]
    },
    {
     "name": "stderr",
     "output_type": "stream",
     "text": [
      "100%|██████████| 5000/5000 [00:00<00:00, 17648.66it/s]\n",
      "100%|██████████| 5000/5000 [00:00<00:00, 17556.54it/s]\n",
      "100%|██████████| 5000/5000 [00:00<00:00, 18001.60it/s]\n",
      "100%|██████████| 5000/5000 [00:00<00:00, 17901.67it/s]\n",
      "100%|██████████| 5000/5000 [00:00<00:00, 17821.74it/s]\n",
      "100%|██████████| 5000/5000 [00:00<00:00, 17582.32it/s]\n",
      "100%|██████████| 5000/5000 [00:00<00:00, 17747.63it/s]\n",
      "100%|██████████| 5000/5000 [00:00<00:00, 17739.96it/s]\n",
      "100%|██████████| 5000/5000 [00:00<00:00, 18088.31it/s]\n",
      "100%|██████████| 5000/5000 [00:00<00:00, 17850.38it/s]\n",
      "100%|██████████| 5000/5000 [00:00<00:00, 18096.49it/s]\n",
      "100%|██████████| 5000/5000 [00:00<00:00, 17626.44it/s]\n",
      "100%|██████████| 5000/5000 [00:00<00:00, 17653.95it/s]\n",
      "100%|██████████| 5000/5000 [00:00<00:00, 17834.49it/s]\n",
      "100%|██████████| 5000/5000 [00:00<00:00, 17983.98it/s]\n",
      "100%|██████████| 5000/5000 [00:00<00:00, 17919.54it/s]\n",
      "100%|██████████| 5000/5000 [00:00<00:00, 17914.01it/s]\n",
      "100%|██████████| 5000/5000 [00:00<00:00, 17935.93it/s]\n",
      "100%|██████████| 5000/5000 [00:00<00:00, 17714.33it/s]\n",
      "100%|██████████| 5000/5000 [00:00<00:00, 17800.81it/s]\n",
      "100%|██████████| 5000/5000 [00:00<00:00, 17703.54it/s]\n",
      "100%|██████████| 5000/5000 [00:00<00:00, 17556.03it/s]\n",
      "100%|██████████| 5000/5000 [00:00<00:00, 17590.09it/s]\n",
      "100%|██████████| 5000/5000 [00:00<00:00, 17914.44it/s]\n",
      "100%|██████████| 5000/5000 [00:00<00:00, 16681.93it/s]\n",
      "100%|██████████| 5000/5000 [00:00<00:00, 16439.21it/s]\n",
      "100%|██████████| 5000/5000 [00:00<00:00, 16898.36it/s]\n",
      "100%|██████████| 5000/5000 [00:00<00:00, 16779.46it/s]\n",
      "100%|██████████| 5000/5000 [00:00<00:00, 16681.61it/s]\n",
      "100%|██████████| 5000/5000 [00:00<00:00, 16720.77it/s]\n",
      "100%|██████████| 5000/5000 [00:00<00:00, 17605.73it/s]\n",
      "100%|██████████| 5000/5000 [00:00<00:00, 17475.26it/s]\n",
      "100%|██████████| 5000/5000 [00:00<00:00, 17527.93it/s]\n",
      "100%|██████████| 5000/5000 [00:00<00:00, 17679.21it/s]\n",
      "100%|██████████| 5000/5000 [00:00<00:00, 17667.98it/s]\n",
      "100%|██████████| 5000/5000 [00:00<00:00, 17651.20it/s]\n",
      "100%|██████████| 5000/5000 [00:00<00:00, 17148.18it/s]\n",
      "100%|██████████| 5000/5000 [00:00<00:00, 17530.05it/s]\n",
      "100%|██████████| 5000/5000 [00:00<00:00, 17556.29it/s]\n",
      "100%|██████████| 5000/5000 [00:00<00:00, 17410.92it/s]\n",
      "100%|██████████| 5000/5000 [00:00<00:00, 17515.12it/s]\n",
      "100%|██████████| 5000/5000 [00:00<00:00, 17653.17it/s]\n",
      "100%|██████████| 5000/5000 [00:00<00:00, 16864.76it/s]\n",
      "100%|██████████| 5000/5000 [00:00<00:00, 16820.33it/s]\n",
      "100%|██████████| 5000/5000 [00:00<00:00, 16831.13it/s]\n",
      "100%|██████████| 5000/5000 [00:00<00:00, 16741.50it/s]\n",
      "100%|██████████| 5000/5000 [00:00<00:00, 16779.31it/s]\n",
      "100%|██████████| 5000/5000 [00:00<00:00, 16851.58it/s]\n",
      " 71%|███████   | 3561/5000 [00:00<00:00, 17836.91it/s]"
     ]
    },
    {
     "name": "stdout",
     "output_type": "stream",
     "text": [
      "2024-04-14 16:21:49,466 - MultiprocessingDispatcher - 50 individuals out of 54 in previous population were evaluated successfully.\n",
      "2024-04-14 16:21:49,469 - EvoGraphOptimizer - Generation num: 14 size: 55\n",
      "2024-04-14 16:21:49,470 - EvoGraphOptimizer - Best individuals: HallOfFame archive fitness (1): ['<custom=0.001>']\n",
      "2024-04-14 16:21:49,470 - EvoGraphOptimizer - no improvements for 4 iterations\n",
      "2024-04-14 16:21:49,470 - EvoGraphOptimizer - spent time: 0.6 min\n",
      "2024-04-14 16:21:49,471 - EvoGraphOptimizer - Next population size: 55; max graph depth: 100\n",
      "2024-04-14 16:21:49,489 - MultiprocessingDispatcher - Number of used CPU's: 6\n"
     ]
    },
    {
     "name": "stderr",
     "output_type": "stream",
     "text": [
      "100%|██████████| 5000/5000 [00:00<00:00, 18020.50it/s]\n",
      "100%|██████████| 5000/5000 [00:00<00:00, 17836.28it/s]\n",
      "  0%|          | 0/5000 [00:00<?, ?it/s]"
     ]
    },
    {
     "name": "stdout",
     "output_type": "stream",
     "text": [
      "Error message\n",
      "[Errno 17] File exists: '/root/BAMT/Nodes_data/933'\n",
      "Error message\n",
      "[Errno 17] File exists: '/root/BAMT/Nodes_data/933'\n",
      "Error message\n",
      "[Errno 17] File exists: '/root/BAMT/Nodes_data/932'\n",
      "Error message\n",
      "[Errno 17] File exists: '/root/BAMT/Nodes_data/932'\n",
      "Error message\n",
      "[Errno 17] File exists: '/root/BAMT/Nodes_data/934'\n"
     ]
    },
    {
     "name": "stderr",
     "output_type": "stream",
     "text": [
      "100%|██████████| 5000/5000 [00:00<00:00, 17600.10it/s]\n",
      "100%|██████████| 5000/5000 [00:00<00:00, 17453.55it/s]\n",
      "100%|██████████| 5000/5000 [00:00<00:00, 17561.87it/s]\n",
      "100%|██████████| 5000/5000 [00:00<00:00, 17482.59it/s]\n",
      "100%|██████████| 5000/5000 [00:00<00:00, 17455.32it/s]\n",
      "100%|██████████| 5000/5000 [00:00<00:00, 17323.47it/s]\n",
      "100%|██████████| 5000/5000 [00:00<00:00, 17864.99it/s]\n",
      "100%|██████████| 5000/5000 [00:00<00:00, 17979.04it/s]\n",
      "100%|██████████| 5000/5000 [00:00<00:00, 17923.63it/s]\n",
      "100%|██████████| 5000/5000 [00:00<00:00, 17841.06it/s]\n",
      "100%|██████████| 5000/5000 [00:00<00:00, 17754.99it/s]\n",
      "100%|██████████| 5000/5000 [00:00<00:00, 17743.11it/s]\n",
      "100%|██████████| 5000/5000 [00:00<00:00, 17397.59it/s]\n",
      "100%|██████████| 5000/5000 [00:00<00:00, 17501.75it/s]\n",
      "100%|██████████| 5000/5000 [00:00<00:00, 17601.22it/s]\n",
      "100%|██████████| 5000/5000 [00:00<00:00, 17563.50it/s]\n",
      "100%|██████████| 5000/5000 [00:00<00:00, 17505.88it/s]\n",
      "100%|██████████| 5000/5000 [00:00<00:00, 17734.20it/s]\n",
      "100%|██████████| 5000/5000 [00:00<00:00, 17810.12it/s]\n",
      "100%|██████████| 5000/5000 [00:00<00:00, 18296.53it/s]\n",
      "100%|██████████| 5000/5000 [00:00<00:00, 18041.24it/s]\n",
      "100%|██████████| 5000/5000 [00:00<00:00, 17586.46it/s]\n",
      "100%|██████████| 5000/5000 [00:00<00:00, 17809.16it/s]\n",
      "100%|██████████| 5000/5000 [00:00<00:00, 17712.13it/s]\n",
      "100%|██████████| 5000/5000 [00:00<00:00, 17593.35it/s]\n",
      "100%|██████████| 5000/5000 [00:00<00:00, 17506.74it/s]\n",
      "100%|██████████| 5000/5000 [00:00<00:00, 17373.13it/s]\n",
      "100%|██████████| 5000/5000 [00:00<00:00, 17493.54it/s]\n",
      "100%|██████████| 5000/5000 [00:00<00:00, 17508.28it/s]\n",
      "100%|██████████| 5000/5000 [00:00<00:00, 17601.87it/s]\n",
      " 72%|███████▏  | 3585/5000 [00:00<00:00, 17963.78it/s]"
     ]
    },
    {
     "name": "stdout",
     "output_type": "stream",
     "text": [
      "Error message\n",
      "[Errno 17] File exists: '/root/BAMT/Nodes_data/964'\n"
     ]
    },
    {
     "name": "stderr",
     "output_type": "stream",
     "text": [
      "100%|██████████| 5000/5000 [00:00<00:00, 18035.78it/s]\n",
      "100%|██████████| 5000/5000 [00:00<00:00, 17810.62it/s]\n",
      "100%|██████████| 5000/5000 [00:00<00:00, 18029.28it/s]\n",
      "100%|██████████| 5000/5000 [00:00<00:00, 17682.16it/s]\n",
      "100%|██████████| 5000/5000 [00:00<00:00, 17830.62it/s]\n",
      "100%|██████████| 5000/5000 [00:00<00:00, 17742.97it/s]\n",
      "100%|██████████| 5000/5000 [00:00<00:00, 17639.37it/s]\n",
      "100%|██████████| 5000/5000 [00:00<00:00, 17582.14it/s]\n",
      "100%|██████████| 5000/5000 [00:00<00:00, 17751.05it/s]\n",
      "100%|██████████| 5000/5000 [00:00<00:00, 17414.56it/s]\n",
      "100%|██████████| 5000/5000 [00:00<00:00, 17418.38it/s]\n",
      "100%|██████████| 5000/5000 [00:00<00:00, 17471.04it/s]\n",
      "100%|██████████| 5000/5000 [00:00<00:00, 17751.92it/s]\n",
      "100%|██████████| 5000/5000 [00:00<00:00, 17658.03it/s]\n",
      "100%|██████████| 5000/5000 [00:00<00:00, 17482.27it/s]\n",
      "100%|██████████| 5000/5000 [00:00<00:00, 17555.10it/s]\n",
      "100%|██████████| 5000/5000 [00:00<00:00, 17513.04it/s]\n",
      "100%|██████████| 5000/5000 [00:00<00:00, 17562.94it/s]\n"
     ]
    },
    {
     "name": "stdout",
     "output_type": "stream",
     "text": [
      "2024-04-14 16:21:53,013 - MultiprocessingDispatcher - 48 individuals out of 54 in previous population were evaluated successfully.\n",
      "2024-04-14 16:21:53,016 - EvoGraphOptimizer - Generation num: 15 size: 55\n",
      "2024-04-14 16:21:53,017 - EvoGraphOptimizer - Best individuals: HallOfFame archive fitness (1): ['<custom=0.000>']\n",
      "2024-04-14 16:21:53,017 - EvoGraphOptimizer - Next population size: 55; max graph depth: 100\n",
      "2024-04-14 16:21:53,035 - MultiprocessingDispatcher - Number of used CPU's: 6\n",
      "Error message\n",
      "[Errno 17] File exists: '/root/BAMT/Nodes_data/980'\n",
      "Error message\n",
      "[Errno 17] File exists: '/root/BAMT/Nodes_data/980'\n",
      "Error message\n",
      "[Errno 17] File exists: '/root/BAMT/Nodes_data/980'\n",
      "Error message\n",
      "[Errno 17] File exists: '/root/BAMT/Nodes_data/980'\n"
     ]
    },
    {
     "name": "stderr",
     "output_type": "stream",
     "text": [
      "100%|██████████| 5000/5000 [00:00<00:00, 17571.84it/s]\n",
      "100%|██████████| 5000/5000 [00:00<00:00, 17657.74it/s]\n",
      "100%|██████████| 5000/5000 [00:00<00:00, 17983.48it/s]\n",
      "100%|██████████| 5000/5000 [00:00<00:00, 17954.61it/s]\n",
      "100%|██████████| 5000/5000 [00:00<00:00, 17621.32it/s]\n",
      "100%|██████████| 5000/5000 [00:00<00:00, 17705.84it/s]\n",
      "100%|██████████| 5000/5000 [00:00<00:00, 14512.19it/s]\n",
      "100%|██████████| 5000/5000 [00:00<00:00, 14851.95it/s]\n",
      "100%|██████████| 5000/5000 [00:00<00:00, 17285.93it/s]\n",
      "100%|██████████| 5000/5000 [00:00<00:00, 15903.33it/s]\n",
      "100%|██████████| 5000/5000 [00:00<00:00, 16875.74it/s]\n",
      "100%|██████████| 5000/5000 [00:00<00:00, 16164.60it/s]\n",
      "100%|██████████| 5000/5000 [00:00<00:00, 17661.83it/s]\n",
      "100%|██████████| 5000/5000 [00:00<00:00, 17655.11it/s]\n",
      "100%|██████████| 5000/5000 [00:00<00:00, 17895.53it/s]\n",
      "100%|██████████| 5000/5000 [00:00<00:00, 18001.63it/s]\n",
      "100%|██████████| 5000/5000 [00:00<00:00, 17698.61it/s]\n",
      "100%|██████████| 5000/5000 [00:00<00:00, 17721.41it/s]\n",
      "100%|██████████| 5000/5000 [00:00<00:00, 17492.93it/s]\n",
      "100%|██████████| 5000/5000 [00:00<00:00, 17592.13it/s]\n",
      "100%|██████████| 5000/5000 [00:00<00:00, 17648.99it/s]\n",
      "100%|██████████| 5000/5000 [00:00<00:00, 16981.61it/s]\n",
      "100%|██████████| 5000/5000 [00:00<00:00, 17805.82it/s]\n",
      "100%|██████████| 5000/5000 [00:00<00:00, 17465.57it/s]\n",
      "100%|██████████| 5000/5000 [00:00<00:00, 17597.16it/s]\n",
      "100%|██████████| 5000/5000 [00:00<00:00, 17363.53it/s]\n",
      "100%|██████████| 5000/5000 [00:00<00:00, 17528.72it/s]\n",
      "100%|██████████| 5000/5000 [00:00<00:00, 17244.23it/s]\n",
      "100%|██████████| 5000/5000 [00:00<00:00, 17350.56it/s]\n",
      "100%|██████████| 5000/5000 [00:00<00:00, 17315.51it/s]\n",
      "100%|██████████| 5000/5000 [00:00<00:00, 17568.87it/s]\n",
      "100%|██████████| 5000/5000 [00:00<00:00, 17660.85it/s]\n",
      "100%|██████████| 5000/5000 [00:00<00:00, 17562.70it/s]\n",
      "100%|██████████| 5000/5000 [00:00<00:00, 17845.40it/s]\n",
      "100%|██████████| 5000/5000 [00:00<00:00, 17683.16it/s]\n",
      "100%|██████████| 5000/5000 [00:00<00:00, 17496.12it/s]\n",
      "100%|██████████| 5000/5000 [00:00<00:00, 16216.33it/s]\n",
      "100%|██████████| 5000/5000 [00:00<00:00, 16410.23it/s]\n",
      "100%|██████████| 5000/5000 [00:00<00:00, 16390.11it/s]\n",
      "100%|██████████| 5000/5000 [00:00<00:00, 16229.04it/s]\n",
      "100%|██████████| 5000/5000 [00:00<00:00, 16611.64it/s]\n",
      "100%|██████████| 5000/5000 [00:00<00:00, 16084.87it/s]\n",
      "100%|██████████| 5000/5000 [00:00<00:00, 17871.86it/s]\n",
      "100%|██████████| 5000/5000 [00:00<00:00, 18031.75it/s]\n",
      "100%|██████████| 5000/5000 [00:00<00:00, 17733.69it/s]\n",
      "100%|██████████| 5000/5000 [00:00<00:00, 17177.72it/s]\n",
      "100%|██████████| 5000/5000 [00:00<00:00, 17099.72it/s]\n",
      "100%|██████████| 5000/5000 [00:00<00:00, 16937.49it/s]\n",
      "100%|██████████| 5000/5000 [00:00<00:00, 18040.51it/s]\n",
      "100%|██████████| 5000/5000 [00:00<00:00, 18209.57it/s]\n"
     ]
    },
    {
     "name": "stdout",
     "output_type": "stream",
     "text": [
      "2024-04-14 16:21:56,899 - MultiprocessingDispatcher - 50 individuals out of 54 in previous population were evaluated successfully.\n",
      "2024-04-14 16:21:56,903 - EvoGraphOptimizer - Generation num: 16 size: 55\n",
      "2024-04-14 16:21:56,903 - EvoGraphOptimizer - Best individuals: HallOfFame archive fitness (1): ['<custom=0.000>']\n",
      "2024-04-14 16:21:56,904 - EvoGraphOptimizer - no improvements for 1 iterations\n",
      "2024-04-14 16:21:56,904 - EvoGraphOptimizer - spent time: 0.8 min\n",
      "2024-04-14 16:21:56,904 - EvoGraphOptimizer - Next population size: 55; max graph depth: 100\n",
      "2024-04-14 16:21:56,926 - MultiprocessingDispatcher - Number of used CPU's: 6\n",
      "Error message\n",
      "[Errno 17] File exists: '/root/BAMT/Nodes_data/1031'\n",
      "Error message\n",
      "[Errno 17] File exists: '/root/BAMT/Nodes_data/1030'\n",
      "Error message\n",
      "[Errno 17] File exists: '/root/BAMT/Nodes_data/1030'\n",
      "Error message\n",
      "[Errno 17] File exists: '/root/BAMT/Nodes_data/1033'\n"
     ]
    },
    {
     "name": "stderr",
     "output_type": "stream",
     "text": [
      "100%|██████████| 5000/5000 [00:00<00:00, 17436.38it/s]\n",
      "100%|██████████| 5000/5000 [00:00<00:00, 17443.40it/s]\n",
      "100%|██████████| 5000/5000 [00:00<00:00, 17212.68it/s]\n",
      "100%|██████████| 5000/5000 [00:00<00:00, 17481.55it/s]\n",
      "100%|██████████| 5000/5000 [00:00<00:00, 17352.69it/s]\n",
      "100%|██████████| 5000/5000 [00:00<00:00, 17191.31it/s]\n",
      "100%|██████████| 5000/5000 [00:00<00:00, 17273.09it/s]\n",
      "100%|██████████| 5000/5000 [00:00<00:00, 17503.44it/s]\n",
      "100%|██████████| 5000/5000 [00:00<00:00, 17493.13it/s]\n",
      "100%|██████████| 5000/5000 [00:00<00:00, 17370.78it/s]\n",
      "100%|██████████| 5000/5000 [00:00<00:00, 17522.78it/s]\n",
      "100%|██████████| 5000/5000 [00:00<00:00, 17312.63it/s]\n",
      "100%|██████████| 5000/5000 [00:00<00:00, 17633.69it/s]\n",
      "100%|██████████| 5000/5000 [00:00<00:00, 17874.08it/s]\n",
      "100%|██████████| 5000/5000 [00:00<00:00, 17961.90it/s]\n",
      "100%|██████████| 5000/5000 [00:00<00:00, 17920.36it/s]\n",
      "100%|██████████| 5000/5000 [00:00<00:00, 17684.32it/s]\n",
      "100%|██████████| 5000/5000 [00:00<00:00, 17473.51it/s]\n",
      "100%|██████████| 5000/5000 [00:00<00:00, 17598.41it/s]\n",
      "100%|██████████| 5000/5000 [00:00<00:00, 17470.78it/s]\n",
      "100%|██████████| 5000/5000 [00:00<00:00, 17535.07it/s]\n",
      "100%|██████████| 5000/5000 [00:00<00:00, 17668.19it/s]\n",
      "100%|██████████| 5000/5000 [00:00<00:00, 17750.53it/s]\n",
      "100%|██████████| 5000/5000 [00:00<00:00, 17185.49it/s]\n",
      "100%|██████████| 5000/5000 [00:00<00:00, 17352.95it/s]\n",
      "100%|██████████| 5000/5000 [00:00<00:00, 17515.66it/s]\n",
      "100%|██████████| 5000/5000 [00:00<00:00, 17506.16it/s]\n",
      "100%|██████████| 5000/5000 [00:00<00:00, 17764.89it/s]\n",
      "100%|██████████| 5000/5000 [00:00<00:00, 17690.29it/s]\n",
      "100%|██████████| 5000/5000 [00:00<00:00, 17542.56it/s]\n",
      "100%|██████████| 5000/5000 [00:00<00:00, 17280.68it/s]\n",
      "100%|██████████| 5000/5000 [00:00<00:00, 17284.12it/s]\n",
      "100%|██████████| 5000/5000 [00:00<00:00, 17408.40it/s]\n",
      "100%|██████████| 5000/5000 [00:00<00:00, 17346.49it/s]\n",
      "100%|██████████| 5000/5000 [00:00<00:00, 17388.43it/s]\n",
      "100%|██████████| 5000/5000 [00:00<00:00, 17530.73it/s]\n",
      "100%|██████████| 5000/5000 [00:00<00:00, 17533.29it/s]\n",
      "100%|██████████| 5000/5000 [00:00<00:00, 17527.84it/s]\n",
      "100%|██████████| 5000/5000 [00:00<00:00, 17336.46it/s]\n",
      "100%|██████████| 5000/5000 [00:00<00:00, 17375.06it/s]\n",
      "100%|██████████| 5000/5000 [00:00<00:00, 17401.11it/s]\n",
      "100%|██████████| 5000/5000 [00:00<00:00, 17306.66it/s]\n",
      "100%|██████████| 5000/5000 [00:00<00:00, 17604.89it/s]\n",
      "100%|██████████| 5000/5000 [00:00<00:00, 17797.83it/s]\n",
      "100%|██████████| 5000/5000 [00:00<00:00, 17367.50it/s]\n",
      "100%|██████████| 5000/5000 [00:00<00:00, 17473.54it/s]\n",
      "100%|██████████| 5000/5000 [00:00<00:00, 18117.98it/s]\n",
      "100%|██████████| 5000/5000 [00:00<00:00, 17680.88it/s]\n",
      " 35%|███▍      | 1729/5000 [00:00<00:00, 17281.61it/s]"
     ]
    },
    {
     "name": "stdout",
     "output_type": "stream",
     "text": [
      "2024-04-14 16:22:00,665 - MultiprocessingDispatcher - 50 individuals out of 54 in previous population were evaluated successfully.\n",
      "2024-04-14 16:22:00,669 - EvoGraphOptimizer - Generation num: 17 size: 55\n",
      "2024-04-14 16:22:00,669 - EvoGraphOptimizer - Best individuals: HallOfFame archive fitness (1): ['<custom=0.000>']\n",
      "2024-04-14 16:22:00,669 - EvoGraphOptimizer - no improvements for 2 iterations\n",
      "2024-04-14 16:22:00,670 - EvoGraphOptimizer - spent time: 0.8 min\n",
      "2024-04-14 16:22:00,670 - EvoGraphOptimizer - Next population size: 55; max graph depth: 100\n",
      "2024-04-14 16:22:00,691 - MultiprocessingDispatcher - Number of used CPU's: 6\n"
     ]
    },
    {
     "name": "stderr",
     "output_type": "stream",
     "text": [
      "100%|██████████| 5000/5000 [00:00<00:00, 17411.03it/s]\n",
      "100%|██████████| 5000/5000 [00:00<00:00, 17357.25it/s]\n"
     ]
    },
    {
     "name": "stdout",
     "output_type": "stream",
     "text": [
      "Error message\n",
      "[Errno 17] File exists: '/root/BAMT/Nodes_data/1081'\n",
      "Error message\n",
      "[Errno 17] File exists: '/root/BAMT/Nodes_data/1081'\n",
      "Error message\n",
      "[Errno 17] File exists: '/root/BAMT/Nodes_data/1080'\n",
      "Error message\n",
      "[Errno 17] File exists: '/root/BAMT/Nodes_data/1080'\n"
     ]
    },
    {
     "name": "stderr",
     "output_type": "stream",
     "text": [
      "100%|██████████| 5000/5000 [00:00<00:00, 17695.77it/s]\n",
      "100%|██████████| 5000/5000 [00:00<00:00, 17652.01it/s]\n",
      "100%|██████████| 5000/5000 [00:00<00:00, 18063.62it/s]\n",
      "100%|██████████| 5000/5000 [00:00<00:00, 17594.31it/s]\n",
      "100%|██████████| 5000/5000 [00:00<00:00, 17730.75it/s]\n",
      "100%|██████████| 5000/5000 [00:00<00:00, 17732.59it/s]\n",
      "100%|██████████| 5000/5000 [00:00<00:00, 17546.10it/s]\n",
      "100%|██████████| 5000/5000 [00:00<00:00, 16605.49it/s]\n",
      "100%|██████████| 5000/5000 [00:00<00:00, 17578.69it/s]\n",
      "100%|██████████| 5000/5000 [00:00<00:00, 17303.95it/s]\n",
      "100%|██████████| 5000/5000 [00:00<00:00, 17367.82it/s]\n",
      "100%|██████████| 5000/5000 [00:00<00:00, 17463.81it/s]\n",
      "100%|██████████| 5000/5000 [00:00<00:00, 17253.44it/s]\n",
      "100%|██████████| 5000/5000 [00:00<00:00, 17433.28it/s]\n",
      "100%|██████████| 5000/5000 [00:00<00:00, 17338.96it/s]\n",
      "100%|██████████| 5000/5000 [00:00<00:00, 17366.93it/s]\n",
      "100%|██████████| 5000/5000 [00:00<00:00, 17339.14it/s]\n",
      "100%|██████████| 5000/5000 [00:00<00:00, 17423.92it/s]\n",
      "100%|██████████| 5000/5000 [00:00<00:00, 17436.26it/s]\n",
      "100%|██████████| 5000/5000 [00:00<00:00, 17517.58it/s]\n",
      "100%|██████████| 5000/5000 [00:00<00:00, 17479.31it/s]\n",
      "100%|██████████| 5000/5000 [00:00<00:00, 17403.51it/s]\n",
      "100%|██████████| 5000/5000 [00:00<00:00, 17595.80it/s]\n",
      "100%|██████████| 5000/5000 [00:00<00:00, 17604.69it/s]\n",
      " 71%|███████   | 3540/5000 [00:00<00:00, 17756.67it/s]"
     ]
    },
    {
     "name": "stdout",
     "output_type": "stream",
     "text": [
      "Error message\n",
      "[Errno 17] File exists: '/root/BAMT/Nodes_data/1107'\n"
     ]
    },
    {
     "name": "stderr",
     "output_type": "stream",
     "text": [
      "100%|██████████| 5000/5000 [00:00<00:00, 17364.90it/s]\n",
      "100%|██████████| 5000/5000 [00:00<00:00, 17520.42it/s]\n",
      "100%|██████████| 5000/5000 [00:00<00:00, 17510.38it/s]\n",
      "100%|██████████| 5000/5000 [00:00<00:00, 17267.36it/s]\n",
      "100%|██████████| 5000/5000 [00:00<00:00, 17236.55it/s]\n",
      "100%|██████████| 5000/5000 [00:00<00:00, 17325.06it/s]\n",
      "100%|██████████| 5000/5000 [00:00<00:00, 17988.61it/s]\n",
      "100%|██████████| 5000/5000 [00:00<00:00, 17718.94it/s]\n",
      "100%|██████████| 5000/5000 [00:00<00:00, 17824.97it/s]\n",
      "100%|██████████| 5000/5000 [00:00<00:00, 17636.08it/s]\n",
      "100%|██████████| 5000/5000 [00:00<00:00, 17750.63it/s]\n",
      "100%|██████████| 5000/5000 [00:00<00:00, 17965.59it/s]\n",
      "100%|██████████| 5000/5000 [00:00<00:00, 17450.92it/s]\n",
      "100%|██████████| 5000/5000 [00:00<00:00, 17709.89it/s]\n",
      "100%|██████████| 5000/5000 [00:00<00:00, 17541.87it/s]\n",
      "100%|██████████| 5000/5000 [00:00<00:00, 17473.65it/s]\n",
      "100%|██████████| 5000/5000 [00:00<00:00, 17629.85it/s]\n",
      "100%|██████████| 5000/5000 [00:00<00:00, 17470.25it/s]\n",
      "100%|██████████| 5000/5000 [00:00<00:00, 17750.41it/s]\n",
      "100%|██████████| 5000/5000 [00:00<00:00, 17885.62it/s]\n",
      "100%|██████████| 5000/5000 [00:00<00:00, 17738.20it/s]\n",
      "100%|██████████| 5000/5000 [00:00<00:00, 17849.45it/s]\n",
      "100%|██████████| 5000/5000 [00:00<00:00, 17907.97it/s]\n",
      "100%|██████████| 5000/5000 [00:00<00:00, 17738.26it/s]\n",
      "100%|██████████| 5000/5000 [00:00<00:00, 18248.47it/s]\n"
     ]
    },
    {
     "name": "stdout",
     "output_type": "stream",
     "text": [
      "2024-04-14 16:22:04,521 - MultiprocessingDispatcher - 49 individuals out of 54 in previous population were evaluated successfully.\n",
      "2024-04-14 16:22:04,524 - EvoGraphOptimizer - Generation num: 18 size: 55\n",
      "2024-04-14 16:22:04,525 - EvoGraphOptimizer - Best individuals: HallOfFame archive fitness (1): ['<custom=0.000>']\n",
      "2024-04-14 16:22:04,525 - EvoGraphOptimizer - Next population size: 55; max graph depth: 100\n",
      "2024-04-14 16:22:04,544 - MultiprocessingDispatcher - Number of used CPU's: 6\n",
      "Error message\n",
      "[Errno 17] File exists: '/root/BAMT/Nodes_data/1130'\n",
      "Error message\n",
      "[Errno 17] File exists: '/root/BAMT/Nodes_data/1129'\n",
      "Error message\n",
      "[Errno 17] File exists: '/root/BAMT/Nodes_data/1130'\n",
      "Error message\n",
      "[Errno 17] File exists: '/root/BAMT/Nodes_data/1133'\n"
     ]
    },
    {
     "name": "stderr",
     "output_type": "stream",
     "text": [
      "100%|██████████| 5000/5000 [00:00<00:00, 17482.90it/s]\n",
      "100%|██████████| 5000/5000 [00:00<00:00, 17320.37it/s]\n",
      "100%|██████████| 5000/5000 [00:00<00:00, 17399.42it/s]\n",
      "100%|██████████| 5000/5000 [00:00<00:00, 17688.22it/s]\n",
      "100%|██████████| 5000/5000 [00:00<00:00, 17475.64it/s]\n",
      "100%|██████████| 5000/5000 [00:00<00:00, 17404.96it/s]\n",
      "100%|██████████| 5000/5000 [00:00<00:00, 17384.65it/s]\n",
      "100%|██████████| 5000/5000 [00:00<00:00, 17520.01it/s]\n",
      "100%|██████████| 5000/5000 [00:00<00:00, 17347.09it/s]\n",
      "100%|██████████| 5000/5000 [00:00<00:00, 17736.90it/s]\n",
      "100%|██████████| 5000/5000 [00:00<00:00, 17461.16it/s]\n",
      "100%|██████████| 5000/5000 [00:00<00:00, 17474.33it/s]\n",
      "100%|██████████| 5000/5000 [00:00<00:00, 17465.60it/s]\n",
      "100%|██████████| 5000/5000 [00:00<00:00, 17756.30it/s]\n",
      "100%|██████████| 5000/5000 [00:00<00:00, 17739.15it/s]\n",
      "100%|██████████| 5000/5000 [00:00<00:00, 17740.77it/s]\n",
      "100%|██████████| 5000/5000 [00:00<00:00, 17676.39it/s]\n",
      "100%|██████████| 5000/5000 [00:00<00:00, 17518.60it/s]\n",
      "100%|██████████| 5000/5000 [00:00<00:00, 17653.03it/s]\n",
      "100%|██████████| 5000/5000 [00:00<00:00, 17896.64it/s]\n",
      "100%|██████████| 5000/5000 [00:00<00:00, 17695.95it/s]\n",
      "100%|██████████| 5000/5000 [00:00<00:00, 17833.41it/s]\n",
      "100%|██████████| 5000/5000 [00:00<00:00, 17870.84it/s]\n",
      "100%|██████████| 5000/5000 [00:00<00:00, 18042.41it/s]\n",
      "100%|██████████| 5000/5000 [00:00<00:00, 17577.12it/s]\n",
      "100%|██████████| 5000/5000 [00:00<00:00, 17548.80it/s]\n",
      "100%|██████████| 5000/5000 [00:00<00:00, 17670.44it/s]\n",
      "100%|██████████| 5000/5000 [00:00<00:00, 17925.72it/s]\n",
      "100%|██████████| 5000/5000 [00:00<00:00, 17773.62it/s]\n",
      "100%|██████████| 5000/5000 [00:00<00:00, 17487.91it/s]\n",
      "100%|██████████| 5000/5000 [00:00<00:00, 17570.28it/s]\n",
      "100%|██████████| 5000/5000 [00:00<00:00, 17672.83it/s]\n",
      "100%|██████████| 5000/5000 [00:00<00:00, 17970.38it/s]\n",
      "100%|██████████| 5000/5000 [00:00<00:00, 17584.78it/s]\n",
      "100%|██████████| 5000/5000 [00:00<00:00, 17819.71it/s]\n",
      "100%|██████████| 5000/5000 [00:00<00:00, 17697.23it/s]\n",
      "100%|██████████| 5000/5000 [00:00<00:00, 17560.51it/s]\n",
      "100%|██████████| 5000/5000 [00:00<00:00, 17849.99it/s]\n",
      "100%|██████████| 5000/5000 [00:00<00:00, 17678.69it/s]\n",
      "100%|██████████| 5000/5000 [00:00<00:00, 17564.90it/s]\n",
      "100%|██████████| 5000/5000 [00:00<00:00, 17507.49it/s]\n",
      "100%|██████████| 5000/5000 [00:00<00:00, 17469.99it/s]\n",
      "100%|██████████| 5000/5000 [00:00<00:00, 17295.36it/s]\n",
      "100%|██████████| 5000/5000 [00:00<00:00, 17464.65it/s]\n",
      "100%|██████████| 5000/5000 [00:00<00:00, 17378.07it/s]\n",
      "100%|██████████| 5000/5000 [00:00<00:00, 17351.98it/s]\n",
      "100%|██████████| 5000/5000 [00:00<00:00, 17454.52it/s]\n",
      "100%|██████████| 5000/5000 [00:00<00:00, 17412.59it/s]\n",
      " 71%|███████   | 3552/5000 [00:00<00:00, 17771.16it/s]"
     ]
    },
    {
     "name": "stdout",
     "output_type": "stream",
     "text": [
      "2024-04-14 16:22:08,325 - MultiprocessingDispatcher - 50 individuals out of 54 in previous population were evaluated successfully.\n",
      "2024-04-14 16:22:08,329 - EvoGraphOptimizer - Generation num: 19 size: 55\n",
      "2024-04-14 16:22:08,329 - EvoGraphOptimizer - Best individuals: HallOfFame archive fitness (1): ['<custom=0.000>']\n",
      "2024-04-14 16:22:08,330 - EvoGraphOptimizer - Next population size: 55; max graph depth: 100\n",
      "2024-04-14 16:22:08,348 - MultiprocessingDispatcher - Number of used CPU's: 6\n"
     ]
    },
    {
     "name": "stderr",
     "output_type": "stream",
     "text": [
      "100%|██████████| 5000/5000 [00:00<00:00, 17422.27it/s]\n",
      "100%|██████████| 5000/5000 [00:00<00:00, 17722.25it/s]\n",
      "  0%|          | 0/5000 [00:00<?, ?it/s]"
     ]
    },
    {
     "name": "stdout",
     "output_type": "stream",
     "text": [
      "Error message\n",
      "[Errno 17] File exists: '/root/BAMT/Nodes_data/1179'\n",
      "Error message\n",
      "[Errno 17] File exists: '/root/BAMT/Nodes_data/1179'\n",
      "Error message\n",
      "[Errno 17] File exists: '/root/BAMT/Nodes_data/1179'\n",
      "Error message\n",
      "[Errno 17] File exists: '/root/BAMT/Nodes_data/1179'\n",
      "Error message\n",
      "[Errno 17] File exists: '/root/BAMT/Nodes_data/1179'\n",
      "Error message\n",
      "[Errno 17] File exists: '/root/BAMT/Nodes_data/1181'\n"
     ]
    },
    {
     "name": "stderr",
     "output_type": "stream",
     "text": [
      "100%|██████████| 5000/5000 [00:00<00:00, 16628.87it/s]\n",
      "100%|██████████| 5000/5000 [00:00<00:00, 16608.28it/s]\n",
      "100%|██████████| 5000/5000 [00:00<00:00, 16707.79it/s]\n",
      "100%|██████████| 5000/5000 [00:00<00:00, 16633.69it/s]\n",
      "100%|██████████| 5000/5000 [00:00<00:00, 16506.48it/s]\n",
      "100%|██████████| 5000/5000 [00:00<00:00, 16319.65it/s]\n",
      "100%|██████████| 5000/5000 [00:00<00:00, 17268.70it/s]\n",
      "100%|██████████| 5000/5000 [00:00<00:00, 17179.38it/s]\n",
      "100%|██████████| 5000/5000 [00:00<00:00, 17342.46it/s]\n",
      "100%|██████████| 5000/5000 [00:00<00:00, 17173.69it/s]\n",
      "100%|██████████| 5000/5000 [00:00<00:00, 17180.18it/s]\n",
      "100%|██████████| 5000/5000 [00:00<00:00, 17158.84it/s]\n",
      "100%|██████████| 5000/5000 [00:00<00:00, 17280.59it/s]\n",
      "100%|██████████| 5000/5000 [00:00<00:00, 17070.18it/s]\n",
      "100%|██████████| 5000/5000 [00:00<00:00, 16805.50it/s]\n",
      "100%|██████████| 5000/5000 [00:00<00:00, 17022.71it/s]\n",
      "100%|██████████| 5000/5000 [00:00<00:00, 16943.21it/s]\n",
      "100%|██████████| 5000/5000 [00:00<00:00, 16556.17it/s]\n",
      "100%|██████████| 5000/5000 [00:00<00:00, 16497.00it/s]\n",
      "100%|██████████| 5000/5000 [00:00<00:00, 16981.98it/s]\n",
      "100%|██████████| 5000/5000 [00:00<00:00, 16748.57it/s]\n",
      "100%|██████████| 5000/5000 [00:00<00:00, 17234.45it/s]\n",
      "100%|██████████| 5000/5000 [00:00<00:00, 17044.10it/s]\n",
      "100%|██████████| 5000/5000 [00:00<00:00, 16973.63it/s]\n",
      "100%|██████████| 5000/5000 [00:00<00:00, 17232.97it/s]\n",
      "100%|██████████| 5000/5000 [00:00<00:00, 17115.88it/s]\n",
      "100%|██████████| 5000/5000 [00:00<00:00, 17374.77it/s]\n",
      "100%|██████████| 5000/5000 [00:00<00:00, 17408.09it/s]\n",
      "100%|██████████| 5000/5000 [00:00<00:00, 17352.95it/s]\n",
      "100%|██████████| 5000/5000 [00:00<00:00, 17359.38it/s]\n",
      "100%|██████████| 5000/5000 [00:00<00:00, 17063.47it/s]\n",
      "100%|██████████| 5000/5000 [00:00<00:00, 17126.11it/s]\n",
      "100%|██████████| 5000/5000 [00:00<00:00, 16860.15it/s]\n",
      "100%|██████████| 5000/5000 [00:00<00:00, 17272.81it/s]\n",
      "100%|██████████| 5000/5000 [00:00<00:00, 17331.79it/s]\n",
      "100%|██████████| 5000/5000 [00:00<00:00, 17123.90it/s]\n",
      "100%|██████████| 5000/5000 [00:00<00:00, 17416.30it/s]\n",
      "100%|██████████| 5000/5000 [00:00<00:00, 17072.11it/s]\n",
      "100%|██████████| 5000/5000 [00:00<00:00, 16263.32it/s]\n",
      "100%|██████████| 5000/5000 [00:00<00:00, 17422.59it/s]\n",
      "100%|██████████| 5000/5000 [00:00<00:00, 16775.10it/s]\n",
      "100%|██████████| 5000/5000 [00:00<00:00, 17243.32it/s]\n",
      "100%|██████████| 5000/5000 [00:00<00:00, 17433.25it/s]\n",
      "100%|██████████| 5000/5000 [00:00<00:00, 17390.88it/s]\n",
      "100%|██████████| 5000/5000 [00:00<00:00, 17413.81it/s]\n"
     ]
    },
    {
     "name": "stdout",
     "output_type": "stream",
     "text": [
      "2024-04-14 16:22:11,934 - MultiprocessingDispatcher - 48 individuals out of 54 in previous population were evaluated successfully.\n",
      "2024-04-14 16:22:11,938 - EvoGraphOptimizer - Generation num: 20 size: 55\n",
      "2024-04-14 16:22:11,938 - EvoGraphOptimizer - Best individuals: HallOfFame archive fitness (1): ['<custom=0.000>']\n",
      "2024-04-14 16:22:11,939 - EvoGraphOptimizer - no improvements for 1 iterations\n",
      "2024-04-14 16:22:11,939 - EvoGraphOptimizer - spent time: 1.0 min\n",
      "2024-04-14 16:22:11,940 - EvoGraphOptimizer - Next population size: 55; max graph depth: 100\n",
      "2024-04-14 16:22:11,956 - MultiprocessingDispatcher - Number of used CPU's: 6\n"
     ]
    },
    {
     "name": "stderr",
     "output_type": "stream",
     "text": [
      "100%|██████████| 5000/5000 [00:00<00:00, 17616.98it/s]\n",
      "100%|██████████| 5000/5000 [00:00<00:00, 17464.67it/s]\n",
      "100%|██████████| 5000/5000 [00:00<00:00, 17455.86it/s]\n",
      "  0%|          | 0/5000 [00:00<?, ?it/s]"
     ]
    },
    {
     "name": "stdout",
     "output_type": "stream",
     "text": [
      "Error message\n",
      "[Errno 17] File exists: '/root/BAMT/Nodes_data/1227'\n",
      "Error message\n",
      "[Errno 17] File exists: '/root/BAMT/Nodes_data/1227'\n",
      "Error message\n",
      "[Errno 17] File exists: '/root/BAMT/Nodes_data/1227'\n",
      "Error message\n",
      "[Errno 17] File exists: '/root/BAMT/Nodes_data/1230'\n",
      "Error message\n",
      "[Errno 17] File exists: '/root/BAMT/Nodes_data/1228'\n",
      "Error message\n",
      "[Errno 17] File exists: '/root/BAMT/Nodes_data/1230'\n"
     ]
    },
    {
     "name": "stderr",
     "output_type": "stream",
     "text": [
      "100%|██████████| 5000/5000 [00:00<00:00, 17368.67it/s]\n",
      "100%|██████████| 5000/5000 [00:00<00:00, 17248.59it/s]\n",
      "100%|██████████| 5000/5000 [00:00<00:00, 17459.77it/s]\n",
      "100%|██████████| 5000/5000 [00:00<00:00, 17451.11it/s]\n",
      "100%|██████████| 5000/5000 [00:00<00:00, 17362.21it/s]\n",
      "100%|██████████| 5000/5000 [00:00<00:00, 17325.45it/s]\n",
      "100%|██████████| 5000/5000 [00:00<00:00, 17392.87it/s]\n",
      "100%|██████████| 5000/5000 [00:00<00:00, 17483.49it/s]\n",
      "100%|██████████| 5000/5000 [00:00<00:00, 17317.61it/s]\n",
      "100%|██████████| 5000/5000 [00:00<00:00, 17385.85it/s]\n",
      "100%|██████████| 5000/5000 [00:00<00:00, 17550.52it/s]\n",
      "100%|██████████| 5000/5000 [00:00<00:00, 17429.95it/s]\n",
      "100%|██████████| 5000/5000 [00:00<00:00, 17435.99it/s]\n",
      "100%|██████████| 5000/5000 [00:00<00:00, 17602.09it/s]\n",
      "100%|██████████| 5000/5000 [00:00<00:00, 17668.19it/s]\n",
      "100%|██████████| 5000/5000 [00:00<00:00, 17513.97it/s]\n",
      "100%|██████████| 5000/5000 [00:00<00:00, 17697.05it/s]\n",
      "100%|██████████| 5000/5000 [00:00<00:00, 17715.28it/s]\n",
      "100%|██████████| 5000/5000 [00:00<00:00, 17549.68it/s]\n",
      "100%|██████████| 5000/5000 [00:00<00:00, 17731.89it/s]\n",
      "100%|██████████| 5000/5000 [00:00<00:00, 17711.67it/s]\n",
      "100%|██████████| 5000/5000 [00:00<00:00, 17633.71it/s]\n",
      "100%|██████████| 5000/5000 [00:00<00:00, 17435.95it/s]\n",
      "100%|██████████| 5000/5000 [00:00<00:00, 17544.10it/s]\n",
      "100%|██████████| 5000/5000 [00:00<00:00, 17440.85it/s]\n",
      "100%|██████████| 5000/5000 [00:00<00:00, 17545.98it/s]\n",
      "100%|██████████| 5000/5000 [00:00<00:00, 17645.00it/s]\n",
      "100%|██████████| 5000/5000 [00:00<00:00, 17623.70it/s]\n",
      "100%|██████████| 5000/5000 [00:00<00:00, 17572.45it/s]\n",
      "100%|██████████| 5000/5000 [00:00<00:00, 17620.55it/s]\n",
      "100%|██████████| 5000/5000 [00:00<00:00, 17537.82it/s]\n",
      "100%|██████████| 5000/5000 [00:00<00:00, 17551.05it/s]\n",
      "100%|██████████| 5000/5000 [00:00<00:00, 17647.91it/s]\n",
      "100%|██████████| 5000/5000 [00:00<00:00, 17474.90it/s]\n",
      "100%|██████████| 5000/5000 [00:00<00:00, 17562.59it/s]\n",
      "100%|██████████| 5000/5000 [00:00<00:00, 17568.35it/s]\n",
      "100%|██████████| 5000/5000 [00:00<00:00, 17527.12it/s]\n",
      "100%|██████████| 5000/5000 [00:00<00:00, 17509.84it/s]\n",
      "100%|██████████| 5000/5000 [00:00<00:00, 17529.01it/s]\n",
      "100%|██████████| 5000/5000 [00:00<00:00, 17531.18it/s]\n",
      "100%|██████████| 5000/5000 [00:00<00:00, 17523.65it/s]\n",
      "100%|██████████| 5000/5000 [00:00<00:00, 17438.89it/s]\n",
      "100%|██████████| 5000/5000 [00:00<00:00, 17506.04it/s]\n",
      " 71%|███████   | 3544/5000 [00:00<00:00, 17733.15it/s]"
     ]
    },
    {
     "name": "stdout",
     "output_type": "stream",
     "text": [
      "2024-04-14 16:22:15,444 - MultiprocessingDispatcher - 48 individuals out of 54 in previous population were evaluated successfully.\n"
     ]
    },
    {
     "name": "stderr",
     "output_type": "stream",
     "text": [
      "100%|██████████| 5000/5000 [00:00<00:00, 17533.87it/s]\n",
      "100%|██████████| 5000/5000 [00:00<00:00, 17634.71it/s]\n",
      "100%|██████████| 5000/5000 [00:00<00:00, 17711.37it/s]\n",
      "100%|██████████| 5000/5000 [00:00<00:00, 17719.98it/s]\n",
      "100%|██████████| 5000/5000 [00:00<00:00, 17465.89it/s]\n"
     ]
    },
    {
     "name": "stdout",
     "output_type": "stream",
     "text": [
      "2024-04-14 16:22:15,448 - EvoGraphOptimizer - Generation num: 21 size: 55\n",
      "2024-04-14 16:22:15,448 - EvoGraphOptimizer - Best individuals: HallOfFame archive fitness (1): ['<custom=0.000>']\n",
      "2024-04-14 16:22:15,449 - EvoGraphOptimizer - no improvements for 2 iterations\n",
      "2024-04-14 16:22:15,450 - EvoGraphOptimizer - spent time: 1.1 min\n",
      "2024-04-14 16:22:15,450 - EvoGraphOptimizer - Next population size: 55; max graph depth: 100\n",
      "2024-04-14 16:22:15,467 - MultiprocessingDispatcher - Number of used CPU's: 6\n",
      "Error message\n",
      "[Errno 17] File exists: '/root/BAMT/Nodes_data/1275'\n",
      "Error message\n",
      "[Errno 17] File exists: '/root/BAMT/Nodes_data/1275'\n",
      "Error message\n",
      "[Errno 17] File exists: '/root/BAMT/Nodes_data/1275'\n",
      "Error message\n",
      "[Errno 17] File exists: '/root/BAMT/Nodes_data/1275'\n",
      "Error message\n",
      "[Errno 17] File exists: '/root/BAMT/Nodes_data/1278'\n"
     ]
    },
    {
     "name": "stderr",
     "output_type": "stream",
     "text": [
      "100%|██████████| 5000/5000 [00:00<00:00, 17588.78it/s]\n",
      "100%|██████████| 5000/5000 [00:00<00:00, 17388.08it/s]\n",
      "100%|██████████| 5000/5000 [00:00<00:00, 17763.05it/s]\n",
      "100%|██████████| 5000/5000 [00:00<00:00, 17591.99it/s]\n",
      "100%|██████████| 5000/5000 [00:00<00:00, 17590.37it/s]\n",
      "100%|██████████| 5000/5000 [00:00<00:00, 17587.08it/s]\n",
      "100%|██████████| 5000/5000 [00:00<00:00, 17473.40it/s]\n",
      "100%|██████████| 5000/5000 [00:00<00:00, 17650.08it/s]\n",
      "100%|██████████| 5000/5000 [00:00<00:00, 17655.14it/s]\n",
      "100%|██████████| 5000/5000 [00:00<00:00, 17694.44it/s]\n",
      "100%|██████████| 5000/5000 [00:00<00:00, 17500.91it/s]\n",
      "100%|██████████| 5000/5000 [00:00<00:00, 17489.85it/s]\n",
      "100%|██████████| 5000/5000 [00:00<00:00, 16889.86it/s]\n",
      "100%|██████████| 5000/5000 [00:00<00:00, 16983.63it/s]\n",
      "100%|██████████| 5000/5000 [00:00<00:00, 17031.12it/s]\n",
      "100%|██████████| 5000/5000 [00:00<00:00, 17080.93it/s]\n",
      "100%|██████████| 5000/5000 [00:00<00:00, 16983.39it/s]\n",
      "100%|██████████| 5000/5000 [00:00<00:00, 17069.22it/s]\n",
      " 70%|███████   | 3506/5000 [00:00<00:00, 17540.28it/s]"
     ]
    },
    {
     "name": "stdout",
     "output_type": "stream",
     "text": [
      "Error message\n",
      "[Errno 17] File exists: '/root/BAMT/Nodes_data/1297'\n"
     ]
    },
    {
     "name": "stderr",
     "output_type": "stream",
     "text": [
      "100%|██████████| 5000/5000 [00:00<00:00, 17467.08it/s]\n",
      "100%|██████████| 5000/5000 [00:00<00:00, 17562.84it/s]\n",
      "100%|██████████| 5000/5000 [00:00<00:00, 17531.05it/s]\n",
      "100%|██████████| 5000/5000 [00:00<00:00, 17664.82it/s]\n",
      "100%|██████████| 5000/5000 [00:00<00:00, 17547.92it/s]\n",
      "100%|██████████| 5000/5000 [00:00<00:00, 17496.62it/s]\n",
      "100%|██████████| 5000/5000 [00:00<00:00, 17535.92it/s]\n",
      "100%|██████████| 5000/5000 [00:00<00:00, 17560.97it/s]\n",
      "100%|██████████| 5000/5000 [00:00<00:00, 17659.69it/s]\n",
      "100%|██████████| 5000/5000 [00:00<00:00, 17550.49it/s]\n",
      "100%|██████████| 5000/5000 [00:00<00:00, 17574.20it/s]\n",
      "100%|██████████| 5000/5000 [00:00<00:00, 17608.18it/s]\n",
      "100%|██████████| 5000/5000 [00:00<00:00, 17476.30it/s]\n",
      "100%|██████████| 5000/5000 [00:00<00:00, 17514.90it/s]\n",
      "100%|██████████| 5000/5000 [00:00<00:00, 17674.52it/s]\n",
      "100%|██████████| 5000/5000 [00:00<00:00, 17674.63it/s]\n",
      "100%|██████████| 5000/5000 [00:00<00:00, 17537.93it/s]\n",
      "100%|██████████| 5000/5000 [00:00<00:00, 17501.51it/s]\n",
      "100%|██████████| 5000/5000 [00:00<00:00, 17622.02it/s]\n",
      "100%|██████████| 5000/5000 [00:00<00:00, 17570.39it/s]\n",
      "100%|██████████| 5000/5000 [00:00<00:00, 17288.21it/s]\n",
      "100%|██████████| 5000/5000 [00:00<00:00, 17501.25it/s]\n",
      "100%|██████████| 5000/5000 [00:00<00:00, 17334.44it/s]\n",
      "100%|██████████| 5000/5000 [00:00<00:00, 17257.40it/s]\n",
      "100%|██████████| 5000/5000 [00:00<00:00, 17306.89it/s]\n",
      "100%|██████████| 5000/5000 [00:00<00:00, 17292.73it/s]\n",
      "100%|██████████| 5000/5000 [00:00<00:00, 17250.71it/s]\n",
      "100%|██████████| 5000/5000 [00:00<00:00, 17309.52it/s]\n",
      "100%|██████████| 5000/5000 [00:00<00:00, 17299.14it/s]\n"
     ]
    },
    {
     "name": "stdout",
     "output_type": "stream",
     "text": [
      "2024-04-14 16:22:19,012 - MultiprocessingDispatcher - 48 individuals out of 54 in previous population were evaluated successfully.\n",
      "2024-04-14 16:22:19,015 - EvoGraphOptimizer - Generation num: 22 size: 55\n",
      "2024-04-14 16:22:19,016 - EvoGraphOptimizer - Best individuals: HallOfFame archive fitness (1): ['<custom=0.000>']\n",
      "2024-04-14 16:22:19,016 - EvoGraphOptimizer - no improvements for 3 iterations\n",
      "2024-04-14 16:22:19,017 - EvoGraphOptimizer - spent time: 1.1 min\n",
      "2024-04-14 16:22:19,017 - EvoGraphOptimizer - Next population size: 55; max graph depth: 100\n",
      "2024-04-14 16:22:19,035 - MultiprocessingDispatcher - Number of used CPU's: 6\n"
     ]
    },
    {
     "name": "stderr",
     "output_type": "stream",
     "text": [
      "100%|██████████| 5000/5000 [00:00<00:00, 17192.66it/s]\n",
      "  0%|          | 0/5000 [00:00<?, ?it/s]"
     ]
    },
    {
     "name": "stdout",
     "output_type": "stream",
     "text": [
      "Error message\n",
      "[Errno 17] File exists: '/root/BAMT/Nodes_data/1323'\n",
      "Error message\n",
      "[Errno 17] File exists: '/root/BAMT/Nodes_data/1323'\n",
      "Error message\n",
      "[Errno 17] File exists: '/root/BAMT/Nodes_data/1323'\n",
      "Error message\n",
      "[Errno 17] File exists: '/root/BAMT/Nodes_data/1323'\n",
      "Error message\n",
      "[Errno 17] File exists: '/root/BAMT/Nodes_data/1323'\n",
      "Error message\n",
      "[Errno 17] File exists: '/root/BAMT/Nodes_data/1326'\n"
     ]
    },
    {
     "name": "stderr",
     "output_type": "stream",
     "text": [
      "100%|██████████| 5000/5000 [00:00<00:00, 17381.51it/s]\n",
      "100%|██████████| 5000/5000 [00:00<00:00, 17465.25it/s]\n",
      "100%|██████████| 5000/5000 [00:00<00:00, 17375.00it/s]\n",
      "\n",
      "100%|██████████| 5000/5000 [00:00<00:00, 17277.96it/s]\n",
      "100%|██████████| 5000/5000 [00:00<00:00, 17334.76it/s]\n",
      "100%|██████████| 5000/5000 [00:00<00:00, 16868.01it/s]\n",
      "100%|██████████| 5000/5000 [00:00<00:00, 16867.23it/s]\n",
      "100%|██████████| 5000/5000 [00:00<00:00, 17053.34it/s]\n",
      "100%|██████████| 5000/5000 [00:00<00:00, 17079.55it/s]\n",
      "100%|██████████| 5000/5000 [00:00<00:00, 17059.67it/s]\n",
      "100%|██████████| 5000/5000 [00:00<00:00, 16944.96it/s]\n",
      "100%|██████████| 5000/5000 [00:00<00:00, 16329.53it/s]\n",
      "100%|██████████| 5000/5000 [00:00<00:00, 16892.94it/s]\n",
      "100%|██████████| 5000/5000 [00:00<00:00, 17444.78it/s]\n",
      "100%|██████████| 5000/5000 [00:00<00:00, 17484.11it/s]\n",
      "100%|██████████| 5000/5000 [00:00<00:00, 17496.48it/s]\n",
      "100%|██████████| 5000/5000 [00:00<00:00, 17329.94it/s]\n",
      "100%|██████████| 5000/5000 [00:00<00:00, 16931.21it/s]\n",
      "100%|██████████| 5000/5000 [00:00<00:00, 17529.63it/s]\n",
      "100%|██████████| 5000/5000 [00:00<00:00, 17187.50it/s]\n",
      "100%|██████████| 5000/5000 [00:00<00:00, 16939.99it/s]\n",
      "100%|██████████| 5000/5000 [00:00<00:00, 16355.10it/s]\n",
      "100%|██████████| 5000/5000 [00:00<00:00, 16980.00it/s]\n",
      "100%|██████████| 5000/5000 [00:00<00:00, 16722.11it/s]\n"
     ]
    },
    {
     "name": "stdout",
     "output_type": "stream",
     "text": [
      "Error message\n",
      "[Errno 17] File exists: '/root/BAMT/Nodes_data/1349'\n"
     ]
    },
    {
     "name": "stderr",
     "output_type": "stream",
     "text": [
      "100%|██████████| 5000/5000 [00:00<00:00, 16507.38it/s]\n",
      "100%|██████████| 5000/5000 [00:00<00:00, 16782.28it/s]\n",
      "100%|██████████| 5000/5000 [00:00<00:00, 16244.19it/s]\n",
      "100%|██████████| 5000/5000 [00:00<00:00, 16537.14it/s]\n",
      "100%|██████████| 5000/5000 [00:00<00:00, 16702.34it/s]\n",
      "100%|██████████| 5000/5000 [00:00<00:00, 16995.78it/s]\n",
      "100%|██████████| 5000/5000 [00:00<00:00, 17145.71it/s]\n",
      "100%|██████████| 5000/5000 [00:00<00:00, 16090.72it/s]\n",
      "100%|██████████| 5000/5000 [00:00<00:00, 17169.29it/s]\n",
      "100%|██████████| 5000/5000 [00:00<00:00, 16450.01it/s]\n",
      "100%|██████████| 5000/5000 [00:00<00:00, 17396.42it/s]\n",
      "100%|██████████| 5000/5000 [00:00<00:00, 17191.57it/s]\n",
      "100%|██████████| 5000/5000 [00:00<00:00, 17579.87it/s]\n",
      "100%|██████████| 5000/5000 [00:00<00:00, 17488.13it/s]\n",
      "100%|██████████| 5000/5000 [00:00<00:00, 17569.13it/s]\n",
      "100%|██████████| 5000/5000 [00:00<00:00, 17515.18it/s]\n",
      "100%|██████████| 5000/5000 [00:00<00:00, 17478.93it/s]\n",
      "100%|██████████| 5000/5000 [00:00<00:00, 17241.75it/s]\n",
      "100%|██████████| 5000/5000 [00:00<00:00, 17391.24it/s]\n",
      "100%|██████████| 5000/5000 [00:00<00:00, 17476.54it/s]\n",
      "100%|██████████| 5000/5000 [00:00<00:00, 17453.68it/s]\n",
      "100%|██████████| 5000/5000 [00:00<00:00, 17584.94it/s]\n"
     ]
    },
    {
     "name": "stdout",
     "output_type": "stream",
     "text": [
      "2024-04-14 16:22:22,685 - MultiprocessingDispatcher - 47 individuals out of 54 in previous population were evaluated successfully.\n",
      "2024-04-14 16:22:22,689 - EvoGraphOptimizer - Generation num: 23 size: 55\n",
      "2024-04-14 16:22:22,690 - EvoGraphOptimizer - Best individuals: HallOfFame archive fitness (1): ['<custom=0.000>']\n",
      "2024-04-14 16:22:22,691 - EvoGraphOptimizer - no improvements for 4 iterations\n",
      "2024-04-14 16:22:22,691 - EvoGraphOptimizer - spent time: 1.2 min\n",
      "2024-04-14 16:22:22,691 - EvoGraphOptimizer - Next population size: 55; max graph depth: 100\n",
      "2024-04-14 16:22:22,713 - MultiprocessingDispatcher - Number of used CPU's: 6\n",
      "Error message\n",
      "[Errno 17] File exists: '/root/BAMT/Nodes_data/1371'\n",
      "Error message\n",
      "[Errno 17] File exists: '/root/BAMT/Nodes_data/1371'\n",
      "Error message\n",
      "[Errno 17] File exists: '/root/BAMT/Nodes_data/1370'\n",
      "Error message\n",
      "[Errno 17] File exists: '/root/BAMT/Nodes_data/1372'\n"
     ]
    },
    {
     "name": "stderr",
     "output_type": "stream",
     "text": [
      " 68%|██████▊   | 3389/5000 [00:00<00:00, 16940.51it/s]"
     ]
    },
    {
     "name": "stdout",
     "output_type": "stream",
     "text": [
      "Error message\n",
      "[Errno 17] File exists: '/root/BAMT/Nodes_data/1370'\n",
      "Error message\n",
      "[Errno 17] File exists: '/root/BAMT/Nodes_data/1372'\n",
      "Error message\n",
      "[Errno 17] File exists: '/root/BAMT/Nodes_data/1374'\n"
     ]
    },
    {
     "name": "stderr",
     "output_type": "stream",
     "text": [
      "100%|██████████| 5000/5000 [00:00<00:00, 17117.72it/s]\n",
      "100%|██████████| 5000/5000 [00:00<00:00, 17016.94it/s]\n",
      "100%|██████████| 5000/5000 [00:00<00:00, 17181.31it/s]\n",
      "100%|██████████| 5000/5000 [00:00<00:00, 17123.06it/s]\n",
      "100%|██████████| 5000/5000 [00:00<00:00, 16842.25it/s]\n",
      "100%|██████████| 5000/5000 [00:00<00:00, 17211.44it/s]\n",
      "100%|██████████| 5000/5000 [00:00<00:00, 17309.48it/s]\n",
      "100%|██████████| 5000/5000 [00:00<00:00, 17346.97it/s]\n",
      "100%|██████████| 5000/5000 [00:00<00:00, 17282.33it/s]\n",
      "100%|██████████| 5000/5000 [00:00<00:00, 17234.99it/s]\n",
      "100%|██████████| 5000/5000 [00:00<00:00, 17214.72it/s]\n",
      "100%|██████████| 5000/5000 [00:00<00:00, 17283.63it/s]\n",
      "100%|██████████| 5000/5000 [00:00<00:00, 17384.03it/s]\n",
      "100%|██████████| 5000/5000 [00:00<00:00, 17307.85it/s]\n",
      "100%|██████████| 5000/5000 [00:00<00:00, 17331.41it/s]\n",
      "100%|██████████| 5000/5000 [00:00<00:00, 17281.59it/s]\n",
      "100%|██████████| 5000/5000 [00:00<00:00, 17269.24it/s]\n",
      "100%|██████████| 5000/5000 [00:00<00:00, 17259.15it/s]\n",
      "100%|██████████| 5000/5000 [00:00<00:00, 17249.82it/s]\n",
      "100%|██████████| 5000/5000 [00:00<00:00, 17392.94it/s]\n",
      "100%|██████████| 5000/5000 [00:00<00:00, 17387.37it/s]\n",
      "100%|██████████| 5000/5000 [00:00<00:00, 17272.59it/s]\n",
      "100%|██████████| 5000/5000 [00:00<00:00, 17247.63it/s]\n",
      "100%|██████████| 5000/5000 [00:00<00:00, 17293.67it/s]\n",
      "100%|██████████| 5000/5000 [00:00<00:00, 17310.80it/s]\n",
      "100%|██████████| 5000/5000 [00:00<00:00, 17506.52it/s]\n",
      "100%|██████████| 5000/5000 [00:00<00:00, 17370.60it/s]\n",
      "100%|██████████| 5000/5000 [00:00<00:00, 16885.16it/s]\n",
      "100%|██████████| 5000/5000 [00:00<00:00, 16897.06it/s]\n",
      "100%|██████████| 5000/5000 [00:00<00:00, 17196.82it/s]\n",
      "100%|██████████| 5000/5000 [00:00<00:00, 17231.44it/s]\n",
      "100%|██████████| 5000/5000 [00:00<00:00, 17103.76it/s]\n",
      "100%|██████████| 5000/5000 [00:00<00:00, 17372.73it/s]\n",
      "100%|██████████| 5000/5000 [00:00<00:00, 16965.92it/s]\n",
      "100%|██████████| 5000/5000 [00:00<00:00, 16774.72it/s]\n",
      "100%|██████████| 5000/5000 [00:00<00:00, 17265.33it/s]\n",
      "100%|██████████| 5000/5000 [00:00<00:00, 17254.77it/s]\n",
      "100%|██████████| 5000/5000 [00:00<00:00, 17235.53it/s]\n",
      "100%|██████████| 5000/5000 [00:00<00:00, 17319.22it/s]\n",
      "100%|██████████| 5000/5000 [00:00<00:00, 17222.72it/s]\n",
      "100%|██████████| 5000/5000 [00:00<00:00, 17168.77it/s]\n",
      "100%|██████████| 5000/5000 [00:00<00:00, 17105.46it/s]\n",
      "100%|██████████| 5000/5000 [00:00<00:00, 16574.67it/s]\n",
      "100%|██████████| 5000/5000 [00:00<00:00, 16772.40it/s]\n",
      "100%|██████████| 5000/5000 [00:00<00:00, 16694.93it/s]\n"
     ]
    },
    {
     "name": "stdout",
     "output_type": "stream",
     "text": [
      "2024-04-14 16:22:26,302 - MultiprocessingDispatcher - 47 individuals out of 54 in previous population were evaluated successfully.\n",
      "2024-04-14 16:22:26,306 - EvoGraphOptimizer - Generation num: 24 size: 55\n",
      "2024-04-14 16:22:26,307 - EvoGraphOptimizer - Best individuals: HallOfFame archive fitness (1): ['<custom=0.000>']\n",
      "2024-04-14 16:22:26,307 - EvoGraphOptimizer - Next population size: 55; max graph depth: 100\n",
      "2024-04-14 16:22:26,325 - MultiprocessingDispatcher - Number of used CPU's: 6\n"
     ]
    },
    {
     "name": "stderr",
     "output_type": "stream",
     "text": [
      "100%|██████████| 5000/5000 [00:00<00:00, 16707.61it/s]\n",
      "100%|██████████| 5000/5000 [00:00<00:00, 16651.20it/s]\n"
     ]
    },
    {
     "name": "stdout",
     "output_type": "stream",
     "text": [
      "Error message\n",
      "[Errno 17] File exists: '/root/BAMT/Nodes_data/1417'\n",
      "Error message\n",
      "[Errno 17] File exists: '/root/BAMT/Nodes_data/1418'\n",
      "Error message\n",
      "[Errno 17] File exists: '/root/BAMT/Nodes_data/1418'\n",
      "Error message\n",
      "[Errno 17] File exists: '/root/BAMT/Nodes_data/1418'\n",
      "Error message\n",
      "[Errno 17] File exists: '/root/BAMT/Nodes_data/1420'\n"
     ]
    },
    {
     "name": "stderr",
     "output_type": "stream",
     "text": [
      "100%|██████████| 5000/5000 [00:00<00:00, 17268.51it/s]\n",
      "100%|██████████| 5000/5000 [00:00<00:00, 17228.51it/s]\n",
      "100%|██████████| 5000/5000 [00:00<00:00, 17272.41it/s]\n",
      "100%|██████████| 5000/5000 [00:00<00:00, 17269.02it/s]\n",
      "100%|██████████| 5000/5000 [00:00<00:00, 17326.28it/s]\n",
      "100%|██████████| 5000/5000 [00:00<00:00, 17295.00it/s]\n",
      "100%|██████████| 5000/5000 [00:00<00:00, 17313.91it/s]\n",
      "100%|██████████| 5000/5000 [00:00<00:00, 17382.57it/s]\n",
      "100%|██████████| 5000/5000 [00:00<00:00, 17355.99it/s]\n",
      "100%|██████████| 5000/5000 [00:00<00:00, 17335.29it/s]\n",
      "100%|██████████| 5000/5000 [00:00<00:00, 17415.05it/s]\n",
      "100%|██████████| 5000/5000 [00:00<00:00, 17214.89it/s]\n",
      " 34%|███▍      | 1705/5000 [00:00<00:00, 17049.12it/s]"
     ]
    },
    {
     "name": "stdout",
     "output_type": "stream",
     "text": [
      "ERROR Bad distribution parameters\n",
      "Error message\n",
      "[Errno 17] File exists: '/root/BAMT/Nodes_data/1431'\n"
     ]
    },
    {
     "name": "stderr",
     "output_type": "stream",
     "text": [
      "100%|██████████| 5000/5000 [00:00<00:00, 17184.59it/s]\n",
      "100%|██████████| 5000/5000 [00:00<00:00, 17147.59it/s]\n",
      "100%|██████████| 5000/5000 [00:00<00:00, 17165.30it/s]\n",
      "100%|██████████| 5000/5000 [00:00<00:00, 17190.80it/s]\n",
      "100%|██████████| 5000/5000 [00:00<00:00, 17285.15it/s]\n",
      "100%|██████████| 5000/5000 [00:00<00:00, 17262.83it/s]\n",
      "100%|██████████| 5000/5000 [00:00<00:00, 17103.08it/s]\n",
      "100%|██████████| 5000/5000 [00:00<00:00, 17195.49it/s]\n",
      "100%|██████████| 5000/5000 [00:00<00:00, 17223.09it/s]\n",
      "100%|██████████| 5000/5000 [00:00<00:00, 17315.58it/s]\n",
      "100%|██████████| 5000/5000 [00:00<00:00, 17385.82it/s]\n",
      "100%|██████████| 5000/5000 [00:00<00:00, 17151.74it/s]\n",
      "100%|██████████| 5000/5000 [00:00<00:00, 17363.45it/s]\n",
      "100%|██████████| 5000/5000 [00:00<00:00, 17264.99it/s]\n",
      "100%|██████████| 5000/5000 [00:00<00:00, 17310.78it/s]\n",
      "100%|██████████| 5000/5000 [00:00<00:00, 17321.30it/s]\n",
      "100%|██████████| 5000/5000 [00:00<00:00, 17406.37it/s]\n",
      "100%|██████████| 5000/5000 [00:00<00:00, 17235.32it/s]\n",
      "100%|██████████| 5000/5000 [00:00<00:00, 17264.97it/s]\n",
      "100%|██████████| 5000/5000 [00:00<00:00, 17302.99it/s]\n",
      "100%|██████████| 5000/5000 [00:00<00:00, 17235.44it/s]\n",
      "100%|██████████| 5000/5000 [00:00<00:00, 17215.92it/s]\n",
      "100%|██████████| 5000/5000 [00:00<00:00, 17241.98it/s]\n",
      "100%|██████████| 5000/5000 [00:00<00:00, 17127.56it/s]\n",
      "100%|██████████| 5000/5000 [00:00<00:00, 17269.98it/s]\n",
      "100%|██████████| 5000/5000 [00:00<00:00, 17337.29it/s]\n",
      "100%|██████████| 5000/5000 [00:00<00:00, 17279.97it/s]\n",
      "100%|██████████| 5000/5000 [00:00<00:00, 17278.03it/s]\n",
      "100%|██████████| 5000/5000 [00:00<00:00, 17416.70it/s]\n",
      "100%|██████████| 5000/5000 [00:00<00:00, 17341.41it/s]\n",
      "100%|██████████| 5000/5000 [00:00<00:00, 17349.56it/s]\n",
      "100%|██████████| 5000/5000 [00:00<00:00, 17288.88it/s]\n",
      "100%|██████████| 5000/5000 [00:00<00:00, 17316.85it/s]\n",
      "100%|██████████| 5000/5000 [00:00<00:00, 17249.21it/s]\n",
      "100%|██████████| 5000/5000 [00:00<00:00, 17325.08it/s]\n",
      "100%|██████████| 5000/5000 [00:00<00:00, 17254.89it/s]\n"
     ]
    },
    {
     "name": "stdout",
     "output_type": "stream",
     "text": [
      "2024-04-14 16:22:29,951 - MultiprocessingDispatcher - 48 individuals out of 54 in previous population were evaluated successfully.\n",
      "2024-04-14 16:22:29,956 - EvoGraphOptimizer - Generation num: 25 size: 55\n",
      "2024-04-14 16:22:29,956 - EvoGraphOptimizer - Best individuals: HallOfFame archive fitness (1): ['<custom=0.000>']\n",
      "2024-04-14 16:22:29,957 - EvoGraphOptimizer - no improvements for 1 iterations\n",
      "2024-04-14 16:22:29,957 - EvoGraphOptimizer - spent time: 1.3 min\n",
      "2024-04-14 16:22:29,958 - EvoGraphOptimizer - Next population size: 55; max graph depth: 100\n",
      "2024-04-14 16:22:29,978 - MultiprocessingDispatcher - Number of used CPU's: 6\n",
      "Error message\n",
      "[Errno 17] File exists: '/root/BAMT/Nodes_data/1465'\n",
      "Error message\n",
      "[Errno 17] File exists: '/root/BAMT/Nodes_data/1465'\n",
      "Error message\n",
      "[Errno 17] File exists: '/root/BAMT/Nodes_data/1465'\n",
      "Error message\n",
      "[Errno 17] File exists: '/root/BAMT/Nodes_data/1468'\n",
      "Error message\n",
      "[Errno 17] File exists: '/root/BAMT/Nodes_data/1465'\n",
      "Error message\n",
      "[Errno 17] File exists: '/root/BAMT/Nodes_data/1468'\n"
     ]
    },
    {
     "name": "stderr",
     "output_type": "stream",
     "text": [
      "100%|██████████| 5000/5000 [00:00<00:00, 17190.59it/s]\n",
      "100%|██████████| 5000/5000 [00:00<00:00, 17233.01it/s]\n",
      "100%|██████████| 5000/5000 [00:00<00:00, 17128.82it/s]\n",
      "100%|██████████| 5000/5000 [00:00<00:00, 16858.39it/s]\n",
      "100%|██████████| 5000/5000 [00:00<00:00, 16811.35it/s]\n",
      "100%|██████████| 5000/5000 [00:00<00:00, 16603.16it/s]\n",
      "100%|██████████| 5000/5000 [00:00<00:00, 16713.77it/s]\n",
      "100%|██████████| 5000/5000 [00:00<00:00, 17176.96it/s]\n",
      "100%|██████████| 5000/5000 [00:00<00:00, 16349.53it/s]\n",
      "100%|██████████| 5000/5000 [00:00<00:00, 16678.44it/s]\n",
      "100%|██████████| 5000/5000 [00:00<00:00, 16906.38it/s]\n",
      "100%|██████████| 5000/5000 [00:00<00:00, 16922.90it/s]\n",
      " 35%|███▍      | 1741/5000 [00:00<00:00, 17405.95it/s]"
     ]
    },
    {
     "name": "stdout",
     "output_type": "stream",
     "text": [
      "ERROR Bad distribution parameters\n"
     ]
    },
    {
     "name": "stderr",
     "output_type": "stream",
     "text": [
      "100%|██████████| 5000/5000 [00:00<00:00, 17240.23it/s]\n",
      "100%|██████████| 5000/5000 [00:00<00:00, 17225.46it/s]\n",
      "100%|██████████| 5000/5000 [00:00<00:00, 17256.39it/s]\n",
      "100%|██████████| 5000/5000 [00:00<00:00, 16996.46it/s]\n",
      "100%|██████████| 5000/5000 [00:00<00:00, 17037.66it/s]\n",
      "100%|██████████| 5000/5000 [00:00<00:00, 17049.02it/s]\n",
      "100%|██████████| 5000/5000 [00:00<00:00, 17318.67it/s]\n",
      "100%|██████████| 5000/5000 [00:00<00:00, 17362.18it/s]\n",
      "100%|██████████| 5000/5000 [00:00<00:00, 17364.54it/s]\n",
      "100%|██████████| 5000/5000 [00:00<00:00, 17247.22it/s]\n",
      "100%|██████████| 5000/5000 [00:00<00:00, 17425.80it/s]\n",
      "100%|██████████| 5000/5000 [00:00<00:00, 17368.27it/s]\n",
      "100%|██████████| 5000/5000 [00:00<00:00, 17346.33it/s]\n",
      "100%|██████████| 5000/5000 [00:00<00:00, 17532.40it/s]\n",
      "100%|██████████| 5000/5000 [00:00<00:00, 17462.46it/s]\n",
      "100%|██████████| 5000/5000 [00:00<00:00, 17422.33it/s]\n",
      "100%|██████████| 5000/5000 [00:00<00:00, 17633.87it/s]\n",
      "100%|██████████| 5000/5000 [00:00<00:00, 17467.81it/s]\n",
      "100%|██████████| 5000/5000 [00:00<00:00, 17055.22it/s]\n",
      "100%|██████████| 5000/5000 [00:00<00:00, 17269.34it/s]\n",
      "100%|██████████| 5000/5000 [00:00<00:00, 17186.94it/s]\n",
      "100%|██████████| 5000/5000 [00:00<00:00, 17220.80it/s]\n",
      "100%|██████████| 5000/5000 [00:00<00:00, 17189.11it/s]\n",
      "100%|██████████| 5000/5000 [00:00<00:00, 17192.05it/s]\n",
      "100%|██████████| 5000/5000 [00:00<00:00, 17245.45it/s]\n",
      "100%|██████████| 5000/5000 [00:00<00:00, 17200.06it/s]\n",
      "100%|██████████| 5000/5000 [00:00<00:00, 17243.20it/s]\n",
      "100%|██████████| 5000/5000 [00:00<00:00, 17310.19it/s]\n",
      "100%|██████████| 5000/5000 [00:00<00:00, 17044.60it/s]\n",
      "100%|██████████| 5000/5000 [00:00<00:00, 17262.46it/s]\n",
      "100%|██████████| 5000/5000 [00:00<00:00, 16998.04it/s]\n",
      "100%|██████████| 5000/5000 [00:00<00:00, 17057.30it/s]\n",
      "100%|██████████| 5000/5000 [00:00<00:00, 17273.31it/s]\n",
      "100%|██████████| 5000/5000 [00:00<00:00, 17339.96it/s]\n",
      "100%|██████████| 5000/5000 [00:00<00:00, 17322.11it/s]\n"
     ]
    },
    {
     "name": "stdout",
     "output_type": "stream",
     "text": [
      "2024-04-14 16:22:33,603 - MultiprocessingDispatcher - 48 individuals out of 54 in previous population were evaluated successfully.\n",
      "2024-04-14 16:22:33,607 - EvoGraphOptimizer - Generation num: 26 size: 55\n",
      "2024-04-14 16:22:33,608 - EvoGraphOptimizer - Best individuals: HallOfFame archive fitness (1): ['<custom=0.000>']\n",
      "2024-04-14 16:22:33,608 - EvoGraphOptimizer - no improvements for 2 iterations\n",
      "2024-04-14 16:22:33,609 - EvoGraphOptimizer - spent time: 1.4 min\n",
      "2024-04-14 16:22:33,609 - EvoGraphOptimizer - Next population size: 55; max graph depth: 100\n",
      "2024-04-14 16:22:33,630 - MultiprocessingDispatcher - Number of used CPU's: 6\n"
     ]
    },
    {
     "name": "stderr",
     "output_type": "stream",
     "text": [
      "100%|██████████| 5000/5000 [00:00<00:00, 17231.89it/s]\n",
      "  0%|          | 0/5000 [00:00<?, ?it/s]"
     ]
    },
    {
     "name": "stdout",
     "output_type": "stream",
     "text": [
      "Error message\n",
      "[Errno 17] File exists: '/root/BAMT/Nodes_data/1513'\n",
      "Error message\n",
      "[Errno 17] File exists: '/root/BAMT/Nodes_data/1513'\n",
      "Error message\n",
      "[Errno 17] File exists: '/root/BAMT/Nodes_data/1513'\n",
      "Error message\n",
      "[Errno 17] File exists: '/root/BAMT/Nodes_data/1515'\n",
      "Error message\n",
      "[Errno 17] File exists: '/root/BAMT/Nodes_data/1513'\n",
      "Error message\n",
      "[Errno 17] File exists: '/root/BAMT/Nodes_data/1515'\n"
     ]
    },
    {
     "name": "stderr",
     "output_type": "stream",
     "text": [
      "100%|██████████| 5000/5000 [00:00<00:00, 17390.89it/s]\n",
      "100%|██████████| 5000/5000 [00:00<00:00, 17359.27it/s]\n",
      "100%|██████████| 5000/5000 [00:00<00:00, 17425.17it/s]\n",
      "100%|██████████| 5000/5000 [00:00<00:00, 17351.87it/s]\n",
      "100%|██████████| 5000/5000 [00:00<00:00, 17459.71it/s]\n",
      "100%|██████████| 5000/5000 [00:00<00:00, 17371.88it/s]\n",
      " 70%|██████▉   | 3493/5000 [00:00<00:00, 17488.81it/s]"
     ]
    },
    {
     "name": "stdout",
     "output_type": "stream",
     "text": [
      "Error message\n",
      "[Errno 17] File exists: '/root/BAMT/Nodes_data/1523'\n"
     ]
    },
    {
     "name": "stderr",
     "output_type": "stream",
     "text": [
      "100%|██████████| 5000/5000 [00:00<00:00, 17375.56it/s]\n",
      "100%|██████████| 5000/5000 [00:00<00:00, 17387.29it/s]\n",
      "100%|██████████| 5000/5000 [00:00<00:00, 17298.80it/s]\n",
      "100%|██████████| 5000/5000 [00:00<00:00, 17416.57it/s]\n",
      "100%|██████████| 5000/5000 [00:00<00:00, 17447.28it/s]\n",
      "100%|██████████| 5000/5000 [00:00<00:00, 17463.52it/s]\n",
      "100%|██████████| 5000/5000 [00:00<00:00, 17228.65it/s]\n",
      "100%|██████████| 5000/5000 [00:00<00:00, 17173.02it/s]\n",
      "100%|██████████| 5000/5000 [00:00<00:00, 17156.61it/s]\n",
      "100%|██████████| 5000/5000 [00:00<00:00, 17215.65it/s]\n",
      "100%|██████████| 5000/5000 [00:00<00:00, 17251.83it/s]\n",
      "100%|██████████| 5000/5000 [00:00<00:00, 17465.28it/s]\n",
      "100%|██████████| 5000/5000 [00:00<00:00, 17413.91it/s]\n",
      "100%|██████████| 5000/5000 [00:00<00:00, 17363.05it/s]\n",
      "100%|██████████| 5000/5000 [00:00<00:00, 17461.35it/s]\n",
      "100%|██████████| 5000/5000 [00:00<00:00, 17420.51it/s]\n",
      "100%|██████████| 5000/5000 [00:00<00:00, 17444.62it/s]\n",
      "100%|██████████| 5000/5000 [00:00<00:00, 16779.57it/s]\n",
      "100%|██████████| 5000/5000 [00:00<00:00, 16695.36it/s]\n",
      "100%|██████████| 5000/5000 [00:00<00:00, 16763.07it/s]\n",
      "100%|██████████| 5000/5000 [00:00<00:00, 17281.09it/s]\n",
      "100%|██████████| 5000/5000 [00:00<00:00, 17467.85it/s]\n",
      "100%|██████████| 5000/5000 [00:00<00:00, 17422.50it/s]\n",
      "100%|██████████| 5000/5000 [00:00<00:00, 17502.64it/s]\n",
      "100%|██████████| 5000/5000 [00:00<00:00, 17396.27it/s]\n",
      "100%|██████████| 5000/5000 [00:00<00:00, 17322.24it/s]\n",
      "100%|██████████| 5000/5000 [00:00<00:00, 17395.19it/s]\n",
      "100%|██████████| 5000/5000 [00:00<00:00, 17451.73it/s]\n",
      "100%|██████████| 5000/5000 [00:00<00:00, 17347.62it/s]\n",
      "100%|██████████| 5000/5000 [00:00<00:00, 17388.41it/s]\n",
      "100%|██████████| 5000/5000 [00:00<00:00, 17456.03it/s]\n",
      "100%|██████████| 5000/5000 [00:00<00:00, 17415.67it/s]\n",
      "100%|██████████| 5000/5000 [00:00<00:00, 17310.39it/s]\n",
      "100%|██████████| 5000/5000 [00:00<00:00, 17262.30it/s]\n",
      "100%|██████████| 5000/5000 [00:00<00:00, 17246.51it/s]\n",
      "100%|██████████| 5000/5000 [00:00<00:00, 17407.97it/s]\n",
      "100%|██████████| 5000/5000 [00:00<00:00, 17360.31it/s]\n",
      "100%|██████████| 5000/5000 [00:00<00:00, 17406.42it/s]\n",
      "100%|██████████| 5000/5000 [00:00<00:00, 17488.64it/s]\n",
      "100%|██████████| 5000/5000 [00:00<00:00, 17633.71it/s]\n",
      "100%|██████████| 5000/5000 [00:00<00:00, 17686.29it/s]\n"
     ]
    },
    {
     "name": "stdout",
     "output_type": "stream",
     "text": [
      "2024-04-14 16:22:37,238 - MultiprocessingDispatcher - 47 individuals out of 54 in previous population were evaluated successfully.\n",
      "2024-04-14 16:22:37,243 - EvoGraphOptimizer - Generation num: 27 size: 55\n",
      "2024-04-14 16:22:37,244 - EvoGraphOptimizer - Best individuals: HallOfFame archive fitness (1): ['<custom=0.000>']\n",
      "2024-04-14 16:22:37,244 - EvoGraphOptimizer - no improvements for 3 iterations\n",
      "2024-04-14 16:22:37,245 - EvoGraphOptimizer - spent time: 1.4 min\n",
      "2024-04-14 16:22:37,246 - EvoGraphOptimizer - Next population size: 55; max graph depth: 100\n",
      "2024-04-14 16:22:37,264 - MultiprocessingDispatcher - Number of used CPU's: 6\n",
      "Error message\n",
      "[Errno 17] File exists: '/root/BAMT/Nodes_data/1561'\n",
      "Error message\n",
      "[Errno 17] File exists: '/root/BAMT/Nodes_data/1561'\n",
      "Error message\n",
      "[Errno 17] File exists: '/root/BAMT/Nodes_data/1560'\n",
      "Error message\n",
      "[Errno 17] File exists: '/root/BAMT/Nodes_data/1561'\n",
      "Error message\n",
      "[Errno 17] File exists: '/root/BAMT/Nodes_data/1563'\n"
     ]
    },
    {
     "name": "stderr",
     "output_type": "stream",
     "text": [
      "100%|██████████| 5000/5000 [00:00<00:00, 17254.43it/s]\n",
      "100%|██████████| 5000/5000 [00:00<00:00, 17178.27it/s]\n",
      "100%|██████████| 5000/5000 [00:00<00:00, 17254.99it/s]\n",
      "100%|██████████| 5000/5000 [00:00<00:00, 17368.21it/s]\n",
      "100%|██████████| 5000/5000 [00:00<00:00, 17332.04it/s]\n",
      "100%|██████████| 5000/5000 [00:00<00:00, 17358.93it/s]\n",
      "100%|██████████| 5000/5000 [00:00<00:00, 16981.73it/s]\n",
      "100%|██████████| 5000/5000 [00:00<00:00, 17246.47it/s]\n",
      "100%|██████████| 5000/5000 [00:00<00:00, 17306.58it/s]\n",
      "100%|██████████| 5000/5000 [00:00<00:00, 17281.99it/s]\n",
      "100%|██████████| 5000/5000 [00:00<00:00, 17365.73it/s]\n",
      "100%|██████████| 5000/5000 [00:00<00:00, 17425.25it/s]\n",
      "100%|██████████| 5000/5000 [00:00<00:00, 17366.73it/s]\n",
      "100%|██████████| 5000/5000 [00:00<00:00, 17334.70it/s]\n",
      "100%|██████████| 5000/5000 [00:00<00:00, 17311.93it/s]\n",
      "100%|██████████| 5000/5000 [00:00<00:00, 17448.77it/s]\n",
      "100%|██████████| 5000/5000 [00:00<00:00, 17364.53it/s]\n",
      "100%|██████████| 5000/5000 [00:00<00:00, 17473.03it/s]\n",
      "100%|██████████| 5000/5000 [00:00<00:00, 17219.85it/s]\n",
      "100%|██████████| 5000/5000 [00:00<00:00, 17347.15it/s]\n",
      "100%|██████████| 5000/5000 [00:00<00:00, 17167.62it/s]\n",
      "100%|██████████| 5000/5000 [00:00<00:00, 17294.97it/s]\n",
      "100%|██████████| 5000/5000 [00:00<00:00, 17253.20it/s]\n",
      "100%|██████████| 5000/5000 [00:00<00:00, 17401.08it/s]\n",
      "100%|██████████| 5000/5000 [00:00<00:00, 17401.07it/s]\n",
      "100%|██████████| 5000/5000 [00:00<00:00, 17385.41it/s]\n",
      "100%|██████████| 5000/5000 [00:00<00:00, 17327.68it/s]\n",
      "100%|██████████| 5000/5000 [00:00<00:00, 17412.62it/s]\n",
      "100%|██████████| 5000/5000 [00:00<00:00, 17391.81it/s]\n",
      "100%|██████████| 5000/5000 [00:00<00:00, 17446.23it/s]\n",
      "  0%|          | 0/5000 [00:00<?, ?it/s]"
     ]
    },
    {
     "name": "stdout",
     "output_type": "stream",
     "text": [
      "ERROR Bad distribution parameters\n"
     ]
    },
    {
     "name": "stderr",
     "output_type": "stream",
     "text": [
      "100%|██████████| 5000/5000 [00:00<00:00, 17331.35it/s]\n",
      "100%|██████████| 5000/5000 [00:00<00:00, 17456.63it/s]\n",
      "100%|██████████| 5000/5000 [00:00<00:00, 17334.60it/s]\n",
      "100%|██████████| 5000/5000 [00:00<00:00, 17449.13it/s]\n",
      "100%|██████████| 5000/5000 [00:00<00:00, 17499.45it/s]\n",
      "100%|██████████| 5000/5000 [00:00<00:00, 17286.11it/s]\n",
      "100%|██████████| 5000/5000 [00:00<00:00, 17318.55it/s]\n",
      "100%|██████████| 5000/5000 [00:00<00:00, 17436.25it/s]\n",
      "100%|██████████| 5000/5000 [00:00<00:00, 17360.80it/s]\n",
      "100%|██████████| 5000/5000 [00:00<00:00, 17384.75it/s]\n",
      "100%|██████████| 5000/5000 [00:00<00:00, 17590.44it/s]\n",
      "100%|██████████| 5000/5000 [00:00<00:00, 17386.15it/s]\n",
      "100%|██████████| 5000/5000 [00:00<00:00, 17345.14it/s]\n",
      "100%|██████████| 5000/5000 [00:00<00:00, 17362.28it/s]\n",
      "\n",
      "100%|██████████| 5000/5000 [00:00<00:00, 17489.00it/s]\n",
      "100%|██████████| 5000/5000 [00:00<00:00, 17549.32it/s]\n",
      "100%|██████████| 5000/5000 [00:00<00:00, 17451.57it/s]\n",
      "100%|██████████| 5000/5000 [00:00<00:00, 17987.50it/s]\n"
     ]
    },
    {
     "name": "stdout",
     "output_type": "stream",
     "text": [
      "2024-04-14 16:22:41,052 - MultiprocessingDispatcher - 49 individuals out of 54 in previous population were evaluated successfully.\n",
      "2024-04-14 16:22:41,056 - EvoGraphOptimizer - Generation num: 28 size: 55\n",
      "2024-04-14 16:22:41,057 - EvoGraphOptimizer - Best individuals: HallOfFame archive fitness (1): ['<custom=0.000>']\n",
      "2024-04-14 16:22:41,058 - EvoGraphOptimizer - no improvements for 4 iterations\n",
      "2024-04-14 16:22:41,058 - EvoGraphOptimizer - spent time: 1.5 min\n",
      "2024-04-14 16:22:41,058 - EvoGraphOptimizer - Next population size: 55; max graph depth: 100\n",
      "2024-04-14 16:22:41,077 - MultiprocessingDispatcher - Number of used CPU's: 6\n",
      "Error message\n",
      "[Errno 17] File exists: '/root/BAMT/Nodes_data/1610'\n",
      "Error message\n",
      "[Errno 17] File exists: '/root/BAMT/Nodes_data/1610'\n",
      "Error message\n",
      "[Errno 17] File exists: '/root/BAMT/Nodes_data/1609'\n",
      "Error message\n",
      "[Errno 17] File exists: '/root/BAMT/Nodes_data/1612'\n"
     ]
    },
    {
     "name": "stderr",
     "output_type": "stream",
     "text": [
      "100%|██████████| 5000/5000 [00:00<00:00, 17369.08it/s]\n",
      "100%|██████████| 5000/5000 [00:00<00:00, 17146.13it/s]\n",
      "100%|██████████| 5000/5000 [00:00<00:00, 17239.61it/s]\n",
      "100%|██████████| 5000/5000 [00:00<00:00, 17074.73it/s]\n",
      "100%|██████████| 5000/5000 [00:00<00:00, 16878.30it/s]\n",
      "100%|██████████| 5000/5000 [00:00<00:00, 17515.62it/s]\n",
      "100%|██████████| 5000/5000 [00:00<00:00, 17499.09it/s]\n",
      "100%|██████████| 5000/5000 [00:00<00:00, 17479.98it/s]\n",
      "100%|██████████| 5000/5000 [00:00<00:00, 17680.82it/s]\n",
      "100%|██████████| 5000/5000 [00:00<00:00, 17554.69it/s]\n",
      "100%|██████████| 5000/5000 [00:00<00:00, 17609.97it/s]\n",
      "100%|██████████| 5000/5000 [00:00<00:00, 17566.34it/s]\n",
      "100%|██████████| 5000/5000 [00:00<00:00, 17312.53it/s]\n",
      "100%|██████████| 5000/5000 [00:00<00:00, 17281.53it/s]\n",
      "100%|██████████| 5000/5000 [00:00<00:00, 17162.59it/s]\n",
      "100%|██████████| 5000/5000 [00:00<00:00, 17241.11it/s]\n",
      "100%|██████████| 5000/5000 [00:00<00:00, 17169.07it/s]\n",
      "100%|██████████| 5000/5000 [00:00<00:00, 17432.79it/s]\n",
      "100%|██████████| 5000/5000 [00:00<00:00, 17088.43it/s]\n",
      "100%|██████████| 5000/5000 [00:00<00:00, 17375.33it/s]\n",
      "100%|██████████| 5000/5000 [00:00<00:00, 17205.07it/s]\n",
      "100%|██████████| 5000/5000 [00:00<00:00, 17267.96it/s]\n",
      "100%|██████████| 5000/5000 [00:00<00:00, 17288.57it/s]\n",
      "100%|██████████| 5000/5000 [00:00<00:00, 17438.85it/s]\n",
      "100%|██████████| 5000/5000 [00:00<00:00, 17265.80it/s]\n",
      "100%|██████████| 5000/5000 [00:00<00:00, 17209.00it/s]\n",
      "100%|██████████| 5000/5000 [00:00<00:00, 17076.28it/s]\n",
      "100%|██████████| 5000/5000 [00:00<00:00, 17340.63it/s]\n",
      "100%|██████████| 5000/5000 [00:00<00:00, 17265.91it/s]\n",
      "100%|██████████| 5000/5000 [00:00<00:00, 17342.38it/s]\n",
      "100%|██████████| 5000/5000 [00:00<00:00, 17336.82it/s]\n",
      "100%|██████████| 5000/5000 [00:00<00:00, 17368.41it/s]\n",
      "100%|██████████| 5000/5000 [00:00<00:00, 17309.58it/s]\n",
      "100%|██████████| 5000/5000 [00:00<00:00, 17304.88it/s]\n",
      "100%|██████████| 5000/5000 [00:00<00:00, 17411.97it/s]\n",
      "100%|██████████| 5000/5000 [00:00<00:00, 17271.03it/s]\n",
      "100%|██████████| 5000/5000 [00:00<00:00, 17208.94it/s]\n",
      "100%|██████████| 5000/5000 [00:00<00:00, 16708.95it/s]\n",
      "100%|██████████| 5000/5000 [00:00<00:00, 16465.39it/s]\n",
      "100%|██████████| 5000/5000 [00:00<00:00, 16678.00it/s]\n",
      "100%|██████████| 5000/5000 [00:00<00:00, 16738.78it/s]\n",
      "100%|██████████| 5000/5000 [00:00<00:00, 16677.80it/s]\n",
      "100%|██████████| 5000/5000 [00:00<00:00, 17124.29it/s]\n",
      "100%|██████████| 5000/5000 [00:00<00:00, 17408.78it/s]\n",
      "100%|██████████| 5000/5000 [00:00<00:00, 17223.51it/s]\n",
      "100%|██████████| 5000/5000 [00:00<00:00, 17234.33it/s]\n",
      "100%|██████████| 5000/5000 [00:00<00:00, 17218.32it/s]\n",
      "100%|██████████| 5000/5000 [00:00<00:00, 17425.60it/s]\n",
      "100%|██████████| 5000/5000 [00:00<00:00, 17668.34it/s]\n",
      " 70%|███████   | 3516/5000 [00:00<00:00, 17600.16it/s]"
     ]
    },
    {
     "name": "stdout",
     "output_type": "stream",
     "text": [
      "2024-04-14 16:22:44,999 - MultiprocessingDispatcher - 50 individuals out of 54 in previous population were evaluated successfully.\n",
      "2024-04-14 16:22:45,002 - EvoGraphOptimizer - Generation num: 29 size: 55\n",
      "2024-04-14 16:22:45,003 - EvoGraphOptimizer - Best individuals: HallOfFame archive fitness (1): ['<custom=0.000>']\n",
      "2024-04-14 16:22:45,003 - EvoGraphOptimizer - Next population size: 55; max graph depth: 100\n",
      "2024-04-14 16:22:45,023 - MultiprocessingDispatcher - Number of used CPU's: 6\n"
     ]
    },
    {
     "name": "stderr",
     "output_type": "stream",
     "text": [
      "100%|██████████| 5000/5000 [00:00<00:00, 17561.13it/s]\n",
      "  0%|          | 0/5000 [00:00<?, ?it/s]"
     ]
    },
    {
     "name": "stdout",
     "output_type": "stream",
     "text": [
      "Error message\n",
      "[Errno 17] File exists: '/root/BAMT/Nodes_data/1659'\n",
      "Error message\n",
      "[Errno 17] File exists: '/root/BAMT/Nodes_data/1660'\n",
      "Error message\n",
      "[Errno 17] File exists: '/root/BAMT/Nodes_data/1659'\n",
      "Error message\n",
      "[Errno 17] File exists: '/root/BAMT/Nodes_data/1661'\n",
      "Error message\n",
      "[Errno 17] File exists: '/root/BAMT/Nodes_data/1659'\n",
      "Error message\n",
      "[Errno 17] File exists: '/root/BAMT/Nodes_data/1661'\n",
      "Error message\n",
      "[Errno 17] File exists: '/root/BAMT/Nodes_data/1663'\n"
     ]
    },
    {
     "name": "stderr",
     "output_type": "stream",
     "text": [
      "100%|██████████| 5000/5000 [00:00<00:00, 17274.37it/s]\n",
      "100%|██████████| 5000/5000 [00:00<00:00, 17343.56it/s]\n",
      "100%|██████████| 5000/5000 [00:00<00:00, 17399.32it/s]\n",
      "100%|██████████| 5000/5000 [00:00<00:00, 17294.47it/s]\n",
      "100%|██████████| 5000/5000 [00:00<00:00, 17377.17it/s]\n",
      "100%|██████████| 5000/5000 [00:00<00:00, 17181.48it/s]\n",
      "100%|██████████| 5000/5000 [00:00<00:00, 17421.03it/s]\n",
      "100%|██████████| 5000/5000 [00:00<00:00, 17396.71it/s]\n",
      "100%|██████████| 5000/5000 [00:00<00:00, 17245.05it/s]\n",
      "100%|██████████| 5000/5000 [00:00<00:00, 17459.10it/s]\n",
      "100%|██████████| 5000/5000 [00:00<00:00, 17391.37it/s]\n",
      "100%|██████████| 5000/5000 [00:00<00:00, 17383.50it/s]\n",
      "100%|██████████| 5000/5000 [00:00<00:00, 17400.40it/s]\n",
      "100%|██████████| 5000/5000 [00:00<00:00, 17348.48it/s]\n",
      "100%|██████████| 5000/5000 [00:00<00:00, 17357.74it/s]\n",
      "100%|██████████| 5000/5000 [00:00<00:00, 17367.96it/s]\n",
      "100%|██████████| 5000/5000 [00:00<00:00, 17345.57it/s]\n",
      "100%|██████████| 5000/5000 [00:00<00:00, 17289.58it/s]\n",
      "100%|██████████| 5000/5000 [00:00<00:00, 17319.12it/s]\n",
      "100%|██████████| 5000/5000 [00:00<00:00, 17418.67it/s]\n",
      "100%|██████████| 5000/5000 [00:00<00:00, 17452.26it/s]\n",
      "100%|██████████| 5000/5000 [00:00<00:00, 17363.68it/s]\n",
      "100%|██████████| 5000/5000 [00:00<00:00, 17377.71it/s]\n",
      "100%|██████████| 5000/5000 [00:00<00:00, 17304.88it/s]\n",
      "100%|██████████| 5000/5000 [00:00<00:00, 17453.07it/s]\n",
      "100%|██████████| 5000/5000 [00:00<00:00, 17338.64it/s]\n",
      "100%|██████████| 5000/5000 [00:00<00:00, 17358.89it/s]\n",
      "100%|██████████| 5000/5000 [00:00<00:00, 17398.34it/s]\n",
      "100%|██████████| 5000/5000 [00:00<00:00, 17375.42it/s]\n",
      "100%|██████████| 5000/5000 [00:00<00:00, 17255.14it/s]\n",
      "100%|██████████| 5000/5000 [00:00<00:00, 17317.92it/s]\n",
      "100%|██████████| 5000/5000 [00:00<00:00, 17232.85it/s]\n",
      "100%|██████████| 5000/5000 [00:00<00:00, 17272.24it/s]\n",
      "100%|██████████| 5000/5000 [00:00<00:00, 17412.10it/s]\n",
      "100%|██████████| 5000/5000 [00:00<00:00, 17314.45it/s]\n",
      "100%|██████████| 5000/5000 [00:00<00:00, 17279.34it/s]\n",
      "100%|██████████| 5000/5000 [00:00<00:00, 17168.59it/s]\n",
      "100%|██████████| 5000/5000 [00:00<00:00, 17221.87it/s]\n",
      "100%|██████████| 5000/5000 [00:00<00:00, 17279.70it/s]\n",
      "100%|██████████| 5000/5000 [00:00<00:00, 17334.20it/s]\n",
      "100%|██████████| 5000/5000 [00:00<00:00, 17330.40it/s]\n",
      "100%|██████████| 5000/5000 [00:00<00:00, 17353.49it/s]\n",
      "100%|██████████| 5000/5000 [00:00<00:00, 17400.04it/s]\n",
      "100%|██████████| 5000/5000 [00:00<00:00, 17584.01it/s]\n",
      "100%|██████████| 5000/5000 [00:00<00:00, 17686.75it/s]\n",
      "100%|██████████| 5000/5000 [00:00<00:00, 17488.11it/s]\n"
     ]
    },
    {
     "name": "stdout",
     "output_type": "stream",
     "text": [
      "2024-04-14 16:22:48,597 - MultiprocessingDispatcher - 47 individuals out of 54 in previous population were evaluated successfully.\n",
      "2024-04-14 16:22:48,601 - EvoGraphOptimizer - Generation num: 30 size: 55\n",
      "2024-04-14 16:22:48,601 - EvoGraphOptimizer - Best individuals: HallOfFame archive fitness (1): ['<custom=0.000>']\n",
      "2024-04-14 16:22:48,602 - EvoGraphOptimizer - no improvements for 1 iterations\n",
      "2024-04-14 16:22:48,602 - EvoGraphOptimizer - spent time: 1.6 min\n",
      "2024-04-14 16:22:48,603 - EvoGraphOptimizer - Next population size: 55; max graph depth: 100\n",
      "2024-04-14 16:22:48,621 - MultiprocessingDispatcher - Number of used CPU's: 6\n"
     ]
    },
    {
     "name": "stderr",
     "output_type": "stream",
     "text": [
      "100%|██████████| 5000/5000 [00:00<00:00, 17463.71it/s]\n",
      "  0%|          | 0/5000 [00:00<?, ?it/s]"
     ]
    },
    {
     "name": "stdout",
     "output_type": "stream",
     "text": [
      "Error message\n",
      "[Errno 17] File exists: '/root/BAMT/Nodes_data/1707'\n",
      "Error message\n",
      "[Errno 17] File exists: '/root/BAMT/Nodes_data/1706'\n",
      "Error message\n",
      "[Errno 17] File exists: '/root/BAMT/Nodes_data/1707'\n",
      "Error message\n",
      "[Errno 17] File exists: '/root/BAMT/Nodes_data/1708'\n",
      "Error message\n",
      "[Errno 17] File exists: '/root/BAMT/Nodes_data/1706'\n",
      "Error message\n",
      "[Errno 17] File exists: '/root/BAMT/Nodes_data/1708'\n",
      "Error message\n",
      "[Errno 17] File exists: '/root/BAMT/Nodes_data/1710'\n"
     ]
    },
    {
     "name": "stderr",
     "output_type": "stream",
     "text": [
      "100%|██████████| 5000/5000 [00:00<00:00, 17439.76it/s]\n",
      "100%|██████████| 5000/5000 [00:00<00:00, 17353.30it/s]\n",
      "100%|██████████| 5000/5000 [00:00<00:00, 17490.49it/s]\n",
      "100%|██████████| 5000/5000 [00:00<00:00, 17500.93it/s]\n",
      "100%|██████████| 5000/5000 [00:00<00:00, 17551.53it/s]\n",
      "100%|██████████| 5000/5000 [00:00<00:00, 17565.44it/s]\n",
      "100%|██████████| 5000/5000 [00:00<00:00, 17381.55it/s]\n",
      "100%|██████████| 5000/5000 [00:00<00:00, 17315.65it/s]\n",
      "100%|██████████| 5000/5000 [00:00<00:00, 17352.08it/s]\n",
      "100%|██████████| 5000/5000 [00:00<00:00, 17337.62it/s]\n",
      "100%|██████████| 5000/5000 [00:00<00:00, 17295.86it/s]\n",
      "100%|██████████| 5000/5000 [00:00<00:00, 17270.01it/s]\n",
      "100%|██████████| 5000/5000 [00:00<00:00, 17238.11it/s]\n",
      "100%|██████████| 5000/5000 [00:00<00:00, 17120.84it/s]\n",
      "100%|██████████| 5000/5000 [00:00<00:00, 17201.21it/s]\n",
      "100%|██████████| 5000/5000 [00:00<00:00, 17329.56it/s]\n",
      "100%|██████████| 5000/5000 [00:00<00:00, 17302.88it/s]\n",
      "100%|██████████| 5000/5000 [00:00<00:00, 17294.84it/s]\n",
      "100%|██████████| 5000/5000 [00:00<00:00, 17411.22it/s]\n",
      "100%|██████████| 5000/5000 [00:00<00:00, 17366.78it/s]\n",
      "100%|██████████| 5000/5000 [00:00<00:00, 16812.63it/s]\n",
      "100%|██████████| 5000/5000 [00:00<00:00, 16704.98it/s]\n",
      "100%|██████████| 5000/5000 [00:00<00:00, 16682.53it/s]\n",
      "100%|██████████| 5000/5000 [00:00<00:00, 16825.39it/s]\n",
      "100%|██████████| 5000/5000 [00:00<00:00, 17262.13it/s]\n",
      "100%|██████████| 5000/5000 [00:00<00:00, 17329.10it/s]\n",
      "100%|██████████| 5000/5000 [00:00<00:00, 17475.39it/s]\n",
      "100%|██████████| 5000/5000 [00:00<00:00, 17419.74it/s]\n",
      "100%|██████████| 5000/5000 [00:00<00:00, 17584.50it/s]\n",
      "100%|██████████| 5000/5000 [00:00<00:00, 17398.12it/s]\n",
      "100%|██████████| 5000/5000 [00:00<00:00, 17435.41it/s]\n",
      "100%|██████████| 5000/5000 [00:00<00:00, 17357.93it/s]\n",
      "100%|██████████| 5000/5000 [00:00<00:00, 17421.42it/s]\n",
      "100%|██████████| 5000/5000 [00:00<00:00, 17320.50it/s]\n",
      "100%|██████████| 5000/5000 [00:00<00:00, 17418.55it/s]\n",
      "100%|██████████| 5000/5000 [00:00<00:00, 17436.93it/s]\n",
      "100%|██████████| 5000/5000 [00:00<00:00, 17156.23it/s]\n",
      "100%|██████████| 5000/5000 [00:00<00:00, 16426.04it/s]\n",
      "100%|██████████| 5000/5000 [00:00<00:00, 17354.08it/s]\n",
      "100%|██████████| 5000/5000 [00:00<00:00, 17285.79it/s]\n",
      "100%|██████████| 5000/5000 [00:00<00:00, 17204.69it/s]\n",
      "100%|██████████| 5000/5000 [00:00<00:00, 17224.01it/s]\n",
      "100%|██████████| 5000/5000 [00:00<00:00, 16740.17it/s]\n",
      "100%|██████████| 5000/5000 [00:00<00:00, 17244.30it/s]\n",
      "100%|██████████| 5000/5000 [00:00<00:00, 17214.70it/s]\n",
      "100%|██████████| 5000/5000 [00:00<00:00, 17047.41it/s]\n",
      "100%|██████████| 5000/5000 [00:00<00:00, 17320.48it/s]\n"
     ]
    },
    {
     "name": "stdout",
     "output_type": "stream",
     "text": [
      "2024-04-14 16:22:52,250 - MultiprocessingDispatcher - 47 individuals out of 54 in previous population were evaluated successfully.\n",
      "2024-04-14 16:22:52,254 - EvoGraphOptimizer - Generation num: 31 size: 55\n",
      "2024-04-14 16:22:52,254 - EvoGraphOptimizer - Best individuals: HallOfFame archive fitness (1): ['<custom=0.000>']\n",
      "2024-04-14 16:22:52,254 - EvoGraphOptimizer - no improvements for 2 iterations\n",
      "2024-04-14 16:22:52,255 - EvoGraphOptimizer - spent time: 1.7 min\n",
      "2024-04-14 16:22:52,255 - EvoGraphOptimizer - Next population size: 55; max graph depth: 100\n",
      "2024-04-14 16:22:52,275 - MultiprocessingDispatcher - Number of used CPU's: 6\n",
      "Error message\n",
      "[Errno 17] File exists: '/root/BAMT/Nodes_data/1753'\n",
      "Error message\n",
      "[Errno 17] File exists: '/root/BAMT/Nodes_data/1753'\n",
      "Error message\n",
      "[Errno 17] File exists: '/root/BAMT/Nodes_data/1753'\n",
      "Error message\n",
      "[Errno 17] File exists: '/root/BAMT/Nodes_data/1753'\n",
      "Error message\n",
      "[Errno 17] File exists: '/root/BAMT/Nodes_data/1756'\n"
     ]
    },
    {
     "name": "stderr",
     "output_type": "stream",
     "text": [
      " 69%|██████▊   | 3433/5000 [00:00<00:00, 17177.51it/s]"
     ]
    },
    {
     "name": "stdout",
     "output_type": "stream",
     "text": [
      "Error message\n",
      "[Errno 17] File exists: '/root/BAMT/Nodes_data/1753'\n",
      "Error message\n",
      "[Errno 17] File exists: '/root/BAMT/Nodes_data/1756'\n",
      "Error message\n",
      "[Errno 17] File exists: '/root/BAMT/Nodes_data/1757'\n"
     ]
    },
    {
     "name": "stderr",
     "output_type": "stream",
     "text": [
      "100%|██████████| 5000/5000 [00:00<00:00, 17186.07it/s]\n",
      "100%|██████████| 5000/5000 [00:00<00:00, 17345.52it/s]\n",
      "100%|██████████| 5000/5000 [00:00<00:00, 17260.55it/s]\n",
      "100%|██████████| 5000/5000 [00:00<00:00, 17418.31it/s]\n",
      "100%|██████████| 5000/5000 [00:00<00:00, 17412.49it/s]\n",
      "100%|██████████| 5000/5000 [00:00<00:00, 17440.24it/s]\n",
      "100%|██████████| 5000/5000 [00:00<00:00, 17297.74it/s]\n",
      "100%|██████████| 5000/5000 [00:00<00:00, 17385.86it/s]\n",
      "100%|██████████| 5000/5000 [00:00<00:00, 17540.41it/s]\n",
      "100%|██████████| 5000/5000 [00:00<00:00, 17481.58it/s]\n",
      "100%|██████████| 5000/5000 [00:00<00:00, 17491.94it/s]\n",
      "100%|██████████| 5000/5000 [00:00<00:00, 17329.89it/s]\n",
      "100%|██████████| 5000/5000 [00:00<00:00, 17410.83it/s]\n",
      "100%|██████████| 5000/5000 [00:00<00:00, 17465.95it/s]\n",
      "100%|██████████| 5000/5000 [00:00<00:00, 17423.79it/s]\n",
      "100%|██████████| 5000/5000 [00:00<00:00, 17495.66it/s]\n",
      "100%|██████████| 5000/5000 [00:00<00:00, 17372.47it/s]\n",
      "100%|██████████| 5000/5000 [00:00<00:00, 17346.16it/s]\n",
      "100%|██████████| 5000/5000 [00:00<00:00, 17347.76it/s]\n",
      "100%|██████████| 5000/5000 [00:00<00:00, 17348.93it/s]\n",
      "100%|██████████| 5000/5000 [00:00<00:00, 17449.25it/s]\n",
      "100%|██████████| 5000/5000 [00:00<00:00, 17192.70it/s]\n",
      "100%|██████████| 5000/5000 [00:00<00:00, 17430.86it/s]\n",
      "100%|██████████| 5000/5000 [00:00<00:00, 17258.01it/s]\n",
      "100%|██████████| 5000/5000 [00:00<00:00, 17283.53it/s]\n",
      "100%|██████████| 5000/5000 [00:00<00:00, 17551.20it/s]\n",
      "100%|██████████| 5000/5000 [00:00<00:00, 17644.11it/s]\n",
      "100%|██████████| 5000/5000 [00:00<00:00, 17591.65it/s]\n",
      "100%|██████████| 5000/5000 [00:00<00:00, 17616.43it/s]\n",
      "100%|██████████| 5000/5000 [00:00<00:00, 17396.60it/s]\n",
      "100%|██████████| 5000/5000 [00:00<00:00, 16933.94it/s]\n",
      " 70%|██████▉   | 3495/5000 [00:00<00:00, 17484.96it/s]"
     ]
    },
    {
     "name": "stdout",
     "output_type": "stream",
     "text": [
      "Error message\n",
      "[Errno 17] File exists: '/root/BAMT/Nodes_data/1785'\n"
     ]
    },
    {
     "name": "stderr",
     "output_type": "stream",
     "text": [
      "100%|██████████| 5000/5000 [00:00<00:00, 17205.02it/s]\n",
      "100%|██████████| 5000/5000 [00:00<00:00, 16620.75it/s]\n",
      "100%|██████████| 5000/5000 [00:00<00:00, 17493.53it/s]\n",
      "100%|██████████| 5000/5000 [00:00<00:00, 17330.12it/s]\n",
      "100%|██████████| 5000/5000 [00:00<00:00, 17376.78it/s]\n",
      "100%|██████████| 5000/5000 [00:00<00:00, 17336.86it/s]\n",
      "100%|██████████| 5000/5000 [00:00<00:00, 17434.47it/s]\n",
      "100%|██████████| 5000/5000 [00:00<00:00, 17432.24it/s]\n",
      "100%|██████████| 5000/5000 [00:00<00:00, 17607.40it/s]\n",
      "100%|██████████| 5000/5000 [00:00<00:00, 17614.02it/s]\n",
      "100%|██████████| 5000/5000 [00:00<00:00, 17601.25it/s]\n",
      "100%|██████████| 5000/5000 [00:00<00:00, 17495.44it/s]\n",
      " 71%|███████   | 3527/5000 [00:00<00:00, 17664.27it/s]"
     ]
    },
    {
     "name": "stdout",
     "output_type": "stream",
     "text": [
      "2024-04-14 16:22:55,881 - MultiprocessingDispatcher - 45 individuals out of 54 in previous population were evaluated successfully.\n",
      "2024-04-14 16:22:55,885 - EvoGraphOptimizer - Generation num: 32 size: 55\n",
      "2024-04-14 16:22:55,886 - EvoGraphOptimizer - Best individuals: HallOfFame archive fitness (1): ['<custom=0.000>']\n",
      "2024-04-14 16:22:55,886 - EvoGraphOptimizer - no improvements for 3 iterations\n",
      "2024-04-14 16:22:55,887 - EvoGraphOptimizer - spent time: 1.8 min\n",
      "2024-04-14 16:22:55,887 - EvoGraphOptimizer - Next population size: 55; max graph depth: 100\n",
      "2024-04-14 16:22:55,906 - MultiprocessingDispatcher - Number of used CPU's: 6\n"
     ]
    },
    {
     "name": "stderr",
     "output_type": "stream",
     "text": [
      "100%|██████████| 5000/5000 [00:00<00:00, 17486.23it/s]\n",
      "100%|██████████| 5000/5000 [00:00<00:00, 17635.26it/s]\n"
     ]
    },
    {
     "name": "stdout",
     "output_type": "stream",
     "text": [
      "Error message\n",
      "[Errno 17] File exists: '/root/BAMT/Nodes_data/1798'\n",
      "Error message\n",
      "[Errno 17] File exists: '/root/BAMT/Nodes_data/1798'\n",
      "Error message\n",
      "[Errno 17] File exists: '/root/BAMT/Nodes_data/1798'\n",
      "Error message\n",
      "[Errno 17] File exists: '/root/BAMT/Nodes_data/1798'\n",
      "Error message\n",
      "[Errno 17] File exists: '/root/BAMT/Nodes_data/1798'\n",
      "Error message\n",
      "[Errno 17] File exists: '/root/BAMT/Nodes_data/1800'\n"
     ]
    },
    {
     "name": "stderr",
     "output_type": "stream",
     "text": [
      "100%|██████████| 5000/5000 [00:00<00:00, 17203.10it/s]\n",
      "100%|██████████| 5000/5000 [00:00<00:00, 17184.21it/s]\n",
      "100%|██████████| 5000/5000 [00:00<00:00, 17222.39it/s]\n",
      "100%|██████████| 5000/5000 [00:00<00:00, 17118.88it/s]\n",
      "100%|██████████| 5000/5000 [00:00<00:00, 16914.13it/s]\n",
      "100%|██████████| 5000/5000 [00:00<00:00, 17232.64it/s]\n",
      "100%|██████████| 5000/5000 [00:00<00:00, 17380.62it/s]\n",
      "100%|██████████| 5000/5000 [00:00<00:00, 17332.15it/s]\n",
      "100%|██████████| 5000/5000 [00:00<00:00, 17329.00it/s]\n",
      "100%|██████████| 5000/5000 [00:00<00:00, 17351.67it/s]\n",
      "100%|██████████| 5000/5000 [00:00<00:00, 17441.33it/s]\n",
      "100%|██████████| 5000/5000 [00:00<00:00, 17380.33it/s]\n",
      "100%|██████████| 5000/5000 [00:00<00:00, 17382.08it/s]\n",
      "100%|██████████| 5000/5000 [00:00<00:00, 17475.80it/s]\n",
      "100%|██████████| 5000/5000 [00:00<00:00, 17392.77it/s]\n",
      "100%|██████████| 5000/5000 [00:00<00:00, 17538.40it/s]\n",
      "100%|██████████| 5000/5000 [00:00<00:00, 17449.92it/s]\n",
      "100%|██████████| 5000/5000 [00:00<00:00, 17469.38it/s]\n",
      "100%|██████████| 5000/5000 [00:00<00:00, 17394.90it/s]\n",
      "100%|██████████| 5000/5000 [00:00<00:00, 17318.68it/s]\n",
      "100%|██████████| 5000/5000 [00:00<00:00, 17426.88it/s]\n",
      "100%|██████████| 5000/5000 [00:00<00:00, 17315.64it/s]\n",
      "100%|██████████| 5000/5000 [00:00<00:00, 17317.98it/s]\n",
      "100%|██████████| 5000/5000 [00:00<00:00, 17259.96it/s]\n",
      " 31%|███       | 1551/5000 [00:00<00:00, 15506.91it/s]"
     ]
    },
    {
     "name": "stdout",
     "output_type": "stream",
     "text": [
      "Error message\n",
      "[Errno 17] File exists: '/root/BAMT/Nodes_data/1824'\n",
      "Error message\n",
      "[Errno 17] File exists: '/root/BAMT/Nodes_data/1825'\n"
     ]
    },
    {
     "name": "stderr",
     "output_type": "stream",
     "text": [
      "100%|██████████| 5000/5000 [00:00<00:00, 15636.41it/s]\n",
      "100%|██████████| 5000/5000 [00:00<00:00, 16020.78it/s]\n",
      "100%|██████████| 5000/5000 [00:00<00:00, 14531.25it/s]\n",
      "100%|██████████| 5000/5000 [00:00<00:00, 15964.12it/s]\n",
      "100%|██████████| 5000/5000 [00:00<00:00, 15951.10it/s]\n",
      "100%|██████████| 5000/5000 [00:00<00:00, 16544.81it/s]\n",
      "100%|██████████| 5000/5000 [00:00<00:00, 16384.46it/s]\n",
      "100%|██████████| 5000/5000 [00:00<00:00, 16783.15it/s]\n",
      "100%|██████████| 5000/5000 [00:00<00:00, 16806.34it/s]\n",
      "100%|██████████| 5000/5000 [00:00<00:00, 17110.93it/s]\n",
      "100%|██████████| 5000/5000 [00:00<00:00, 17073.03it/s]\n",
      "100%|██████████| 5000/5000 [00:00<00:00, 17122.77it/s]\n",
      "100%|██████████| 5000/5000 [00:00<00:00, 16789.29it/s]\n",
      "100%|██████████| 5000/5000 [00:00<00:00, 16378.66it/s]\n",
      "100%|██████████| 5000/5000 [00:00<00:00, 16144.71it/s]\n",
      "100%|██████████| 5000/5000 [00:00<00:00, 16619.19it/s]\n",
      "100%|██████████| 5000/5000 [00:00<00:00, 16490.92it/s]\n",
      "100%|██████████| 5000/5000 [00:00<00:00, 15884.29it/s]\n",
      "100%|██████████| 5000/5000 [00:00<00:00, 16729.89it/s]\n",
      "100%|██████████| 5000/5000 [00:00<00:00, 16928.57it/s]\n",
      "100%|██████████| 5000/5000 [00:00<00:00, 17174.24it/s]\n",
      "100%|██████████| 5000/5000 [00:00<00:00, 17119.24it/s]\n"
     ]
    },
    {
     "name": "stdout",
     "output_type": "stream",
     "text": [
      "2024-04-14 16:22:59,555 - MultiprocessingDispatcher - 46 individuals out of 54 in previous population were evaluated successfully.\n",
      "2024-04-14 16:22:59,559 - EvoGraphOptimizer - Generation num: 33 size: 55\n",
      "2024-04-14 16:22:59,559 - EvoGraphOptimizer - Best individuals: HallOfFame archive fitness (1): ['<custom=0.000>']\n",
      "2024-04-14 16:22:59,560 - EvoGraphOptimizer - Next population size: 55; max graph depth: 100\n",
      "2024-04-14 16:22:59,578 - MultiprocessingDispatcher - Number of used CPU's: 6\n",
      "Error message\n",
      "[Errno 17] File exists: '/root/BAMT/Nodes_data/1844'\n"
     ]
    },
    {
     "name": "stderr",
     "output_type": "stream",
     "text": [
      " 31%|███       | 1560/5000 [00:00<00:00, 15594.33it/s]"
     ]
    },
    {
     "name": "stdout",
     "output_type": "stream",
     "text": [
      "Error message\n",
      "[Errno 17] File exists: '/root/BAMT/Nodes_data/1845'\n",
      "Error message\n",
      "[Errno 17] File exists: '/root/BAMT/Nodes_data/1846'\n",
      "Error message\n",
      "[Errno 17] File exists: '/root/BAMT/Nodes_data/1844'\n",
      "Error message\n",
      "[Errno 17] File exists: '/root/BAMT/Nodes_data/1846'\n",
      "Error message\n",
      "[Errno 17] File exists: '/root/BAMT/Nodes_data/1847'\n",
      "Error message\n",
      "[Errno 17] File exists: '/root/BAMT/Nodes_data/1844'\n",
      "Error message\n",
      "[Errno 17] File exists: '/root/BAMT/Nodes_data/1846'\n",
      "Error message\n",
      "[Errno 17] File exists: '/root/BAMT/Nodes_data/1847'\n"
     ]
    },
    {
     "name": "stderr",
     "output_type": "stream",
     "text": [
      "100%|██████████| 5000/5000 [00:00<00:00, 16616.16it/s]\n",
      "100%|██████████| 5000/5000 [00:00<00:00, 16643.20it/s]\n",
      "100%|██████████| 5000/5000 [00:00<00:00, 16807.48it/s]\n",
      "100%|██████████| 5000/5000 [00:00<00:00, 17385.20it/s]\n",
      "100%|██████████| 5000/5000 [00:00<00:00, 17406.65it/s]\n",
      "100%|██████████| 5000/5000 [00:00<00:00, 17417.74it/s]\n",
      "100%|██████████| 5000/5000 [00:00<00:00, 17591.71it/s]\n",
      "100%|██████████| 5000/5000 [00:00<00:00, 17793.28it/s]\n",
      "100%|██████████| 5000/5000 [00:00<00:00, 17643.71it/s]\n",
      "100%|██████████| 5000/5000 [00:00<00:00, 17260.99it/s]\n",
      "100%|██████████| 5000/5000 [00:00<00:00, 17406.63it/s]\n",
      "100%|██████████| 5000/5000 [00:00<00:00, 17379.46it/s]\n",
      "100%|██████████| 5000/5000 [00:00<00:00, 17649.90it/s]\n",
      "100%|██████████| 5000/5000 [00:00<00:00, 17759.73it/s]\n",
      "100%|██████████| 5000/5000 [00:00<00:00, 17666.42it/s]\n",
      "100%|██████████| 5000/5000 [00:00<00:00, 17581.03it/s]\n",
      "100%|██████████| 5000/5000 [00:00<00:00, 17491.37it/s]\n",
      "100%|██████████| 5000/5000 [00:00<00:00, 17351.32it/s]\n",
      "100%|██████████| 5000/5000 [00:00<00:00, 17414.47it/s]\n",
      "100%|██████████| 5000/5000 [00:00<00:00, 17761.67it/s]\n",
      "100%|██████████| 5000/5000 [00:00<00:00, 17669.36it/s]\n",
      "100%|██████████| 5000/5000 [00:00<00:00, 17657.03it/s]\n",
      "100%|██████████| 5000/5000 [00:00<00:00, 17589.99it/s]\n",
      "100%|██████████| 5000/5000 [00:00<00:00, 17818.97it/s]\n",
      "100%|██████████| 5000/5000 [00:00<00:00, 17651.77it/s]\n",
      "100%|██████████| 5000/5000 [00:00<00:00, 17759.38it/s]\n",
      "100%|██████████| 5000/5000 [00:00<00:00, 17681.21it/s]\n",
      "100%|██████████| 5000/5000 [00:00<00:00, 17710.13it/s]\n",
      "100%|██████████| 5000/5000 [00:00<00:00, 17758.60it/s]\n",
      "100%|██████████| 5000/5000 [00:00<00:00, 17644.48it/s]\n",
      "100%|██████████| 5000/5000 [00:00<00:00, 17720.77it/s]\n",
      "100%|██████████| 5000/5000 [00:00<00:00, 17685.72it/s]\n",
      "100%|██████████| 5000/5000 [00:00<00:00, 18142.07it/s]\n",
      "100%|██████████| 5000/5000 [00:00<00:00, 17703.69it/s]\n",
      "100%|██████████| 5000/5000 [00:00<00:00, 17804.52it/s]\n",
      "100%|██████████| 5000/5000 [00:00<00:00, 17787.28it/s]\n",
      "100%|██████████| 5000/5000 [00:00<00:00, 17954.68it/s]\n",
      "100%|██████████| 5000/5000 [00:00<00:00, 17629.39it/s]\n",
      "100%|██████████| 5000/5000 [00:00<00:00, 17593.44it/s]\n",
      " 71%|███████   | 3528/5000 [00:00<00:00, 17618.33it/s]"
     ]
    },
    {
     "name": "stdout",
     "output_type": "stream",
     "text": [
      "ERROR Bad distribution parameters\n"
     ]
    },
    {
     "name": "stderr",
     "output_type": "stream",
     "text": [
      "100%|██████████| 5000/5000 [00:00<00:00, 17636.06it/s]\n",
      "100%|██████████| 5000/5000 [00:00<00:00, 17608.96it/s]\n",
      "100%|██████████| 5000/5000 [00:00<00:00, 17689.44it/s]\n",
      "100%|██████████| 5000/5000 [00:00<00:00, 17776.62it/s]\n",
      "100%|██████████| 5000/5000 [00:00<00:00, 17629.26it/s]\n",
      "100%|██████████| 5000/5000 [00:00<00:00, 17563.51it/s]\n"
     ]
    },
    {
     "name": "stdout",
     "output_type": "stream",
     "text": [
      "2024-04-14 16:23:03,021 - MultiprocessingDispatcher - 45 individuals out of 54 in previous population were evaluated successfully.\n",
      "2024-04-14 16:23:03,025 - EvoGraphOptimizer - Generation num: 34 size: 55\n",
      "2024-04-14 16:23:03,025 - EvoGraphOptimizer - Best individuals: HallOfFame archive fitness (1): ['<custom=0.000>']\n",
      "2024-04-14 16:23:03,026 - EvoGraphOptimizer - no improvements for 1 iterations\n",
      "2024-04-14 16:23:03,026 - EvoGraphOptimizer - spent time: 1.9 min\n",
      "2024-04-14 16:23:03,027 - EvoGraphOptimizer - Next population size: 55; max graph depth: 100\n",
      "2024-04-14 16:23:03,045 - MultiprocessingDispatcher - Number of used CPU's: 6\n",
      "Error message\n",
      "[Errno 17] File exists: '/root/BAMT/Nodes_data/1889'\n",
      "Error message\n",
      "[Errno 17] File exists: '/root/BAMT/Nodes_data/1889'\n",
      "Error message\n",
      "[Errno 17] File exists: '/root/BAMT/Nodes_data/1889'\n",
      "Error message\n",
      "[Errno 17] File exists: '/root/BAMT/Nodes_data/1892'\n"
     ]
    },
    {
     "name": "stderr",
     "output_type": "stream",
     "text": [
      " 70%|███████   | 3517/5000 [00:00<00:00, 17595.05it/s]"
     ]
    },
    {
     "name": "stdout",
     "output_type": "stream",
     "text": [
      "Error message\n",
      "[Errno 17] File exists: '/root/BAMT/Nodes_data/1890'\n",
      "Error message\n",
      "[Errno 17] File exists: '/root/BAMT/Nodes_data/1892'\n",
      "Error message\n",
      "[Errno 17] File exists: '/root/BAMT/Nodes_data/1893'\n"
     ]
    },
    {
     "name": "stderr",
     "output_type": "stream",
     "text": [
      "100%|██████████| 5000/5000 [00:00<00:00, 17707.95it/s]\n",
      "100%|██████████| 5000/5000 [00:00<00:00, 17569.30it/s]\n",
      "100%|██████████| 5000/5000 [00:00<00:00, 17603.50it/s]\n",
      "100%|██████████| 5000/5000 [00:00<00:00, 17468.80it/s]\n",
      "100%|██████████| 5000/5000 [00:00<00:00, 17515.68it/s]\n",
      "100%|██████████| 5000/5000 [00:00<00:00, 17451.12it/s]\n",
      "100%|██████████| 5000/5000 [00:00<00:00, 17622.87it/s]\n",
      "100%|██████████| 5000/5000 [00:00<00:00, 17766.81it/s]\n",
      "100%|██████████| 5000/5000 [00:00<00:00, 17731.71it/s]\n",
      "100%|██████████| 5000/5000 [00:00<00:00, 17671.79it/s]\n",
      "100%|██████████| 5000/5000 [00:00<00:00, 17795.71it/s]\n",
      "100%|██████████| 5000/5000 [00:00<00:00, 17692.54it/s]\n",
      "100%|██████████| 5000/5000 [00:00<00:00, 17702.33it/s]\n",
      "100%|██████████| 5000/5000 [00:00<00:00, 17931.89it/s]\n",
      "100%|██████████| 5000/5000 [00:00<00:00, 17970.69it/s]\n",
      "100%|██████████| 5000/5000 [00:00<00:00, 17576.95it/s]\n",
      "100%|██████████| 5000/5000 [00:00<00:00, 17759.68it/s]\n",
      "100%|██████████| 5000/5000 [00:00<00:00, 17965.56it/s]\n",
      " 71%|███████   | 3537/5000 [00:00<00:00, 17702.45it/s]"
     ]
    },
    {
     "name": "stdout",
     "output_type": "stream",
     "text": [
      "Error message\n",
      "[Errno 17] File exists: '/root/BAMT/Nodes_data/1910'\n"
     ]
    },
    {
     "name": "stderr",
     "output_type": "stream",
     "text": [
      "100%|██████████| 5000/5000 [00:00<00:00, 17632.19it/s]\n",
      "100%|██████████| 5000/5000 [00:00<00:00, 17637.52it/s]\n",
      "100%|██████████| 5000/5000 [00:00<00:00, 17519.51it/s]\n",
      "100%|██████████| 5000/5000 [00:00<00:00, 16804.06it/s]\n",
      "100%|██████████| 5000/5000 [00:00<00:00, 17883.52it/s]\n",
      "100%|██████████| 5000/5000 [00:00<00:00, 17624.16it/s]\n",
      "100%|██████████| 5000/5000 [00:00<00:00, 17352.97it/s]\n",
      "100%|██████████| 5000/5000 [00:00<00:00, 17478.96it/s]\n",
      "100%|██████████| 5000/5000 [00:00<00:00, 17460.67it/s]\n",
      "100%|██████████| 5000/5000 [00:00<00:00, 17501.83it/s]\n",
      "100%|██████████| 5000/5000 [00:00<00:00, 17401.67it/s]\n",
      "100%|██████████| 5000/5000 [00:00<00:00, 17399.14it/s]\n",
      "100%|██████████| 5000/5000 [00:00<00:00, 17341.38it/s]\n",
      "100%|██████████| 5000/5000 [00:00<00:00, 17422.11it/s]\n",
      "100%|██████████| 5000/5000 [00:00<00:00, 17674.95it/s]\n",
      "100%|██████████| 5000/5000 [00:00<00:00, 17569.66it/s]\n",
      "100%|██████████| 5000/5000 [00:00<00:00, 17632.27it/s]\n",
      "100%|██████████| 5000/5000 [00:00<00:00, 17880.44it/s]\n",
      "100%|██████████| 5000/5000 [00:00<00:00, 17710.41it/s]\n",
      "100%|██████████| 5000/5000 [00:00<00:00, 17698.72it/s]\n",
      "100%|██████████| 5000/5000 [00:00<00:00, 17801.91it/s]\n",
      "100%|██████████| 5000/5000 [00:00<00:00, 17926.20it/s]\n",
      "100%|██████████| 5000/5000 [00:00<00:00, 17638.91it/s]\n",
      "100%|██████████| 5000/5000 [00:00<00:00, 17726.79it/s]\n",
      "100%|██████████| 5000/5000 [00:00<00:00, 17670.87it/s]\n",
      "100%|██████████| 5000/5000 [00:00<00:00, 17786.66it/s]\n",
      "100%|██████████| 5000/5000 [00:00<00:00, 17549.08it/s]\n",
      "100%|██████████| 5000/5000 [00:00<00:00, 17611.54it/s]\n"
     ]
    },
    {
     "name": "stdout",
     "output_type": "stream",
     "text": [
      "2024-04-14 16:23:06,526 - MultiprocessingDispatcher - 46 individuals out of 54 in previous population were evaluated successfully.\n",
      "2024-04-14 16:23:06,530 - EvoGraphOptimizer - Generation num: 35 size: 55\n",
      "2024-04-14 16:23:06,531 - EvoGraphOptimizer - Best individuals: HallOfFame archive fitness (1): ['<custom=0.000>']\n",
      "2024-04-14 16:23:06,531 - EvoGraphOptimizer - no improvements for 2 iterations\n",
      "2024-04-14 16:23:06,531 - EvoGraphOptimizer - spent time: 1.9 min\n",
      "2024-04-14 16:23:06,532 - EvoGraphOptimizer - Next population size: 55; max graph depth: 100\n",
      "2024-04-14 16:23:06,551 - MultiprocessingDispatcher - Number of used CPU's: 6\n",
      "Error message\n",
      "[Errno 17] File exists: '/root/BAMT/Nodes_data/1935'\n",
      "Error message\n",
      "[Errno 17] File exists: '/root/BAMT/Nodes_data/1935'\n",
      "Error message\n",
      "[Errno 17] File exists: '/root/BAMT/Nodes_data/1935'\n",
      "Error message\n",
      "[Errno 17] File exists: '/root/BAMT/Nodes_data/1936'\n",
      "Error message\n",
      "[Errno 17] File exists: '/root/BAMT/Nodes_data/1935'\n",
      "Error message\n",
      "[Errno 17] File exists: '/root/BAMT/Nodes_data/1937'\n"
     ]
    },
    {
     "name": "stderr",
     "output_type": "stream",
     "text": [
      " 70%|██████▉   | 3490/5000 [00:00<00:00, 17472.09it/s]"
     ]
    },
    {
     "name": "stdout",
     "output_type": "stream",
     "text": [
      "Error message\n",
      "[Errno 17] File exists: '/root/BAMT/Nodes_data/1935'\n",
      "Error message\n",
      "[Errno 17] File exists: '/root/BAMT/Nodes_data/1937'\n",
      "Error message\n",
      "[Errno 17] File exists: '/root/BAMT/Nodes_data/1939'\n"
     ]
    },
    {
     "name": "stderr",
     "output_type": "stream",
     "text": [
      "100%|██████████| 5000/5000 [00:00<00:00, 17623.90it/s]\n",
      "100%|██████████| 5000/5000 [00:00<00:00, 17715.53it/s]\n",
      "100%|██████████| 5000/5000 [00:00<00:00, 17769.90it/s]\n",
      "100%|██████████| 5000/5000 [00:00<00:00, 17666.61it/s]\n",
      "100%|██████████| 5000/5000 [00:00<00:00, 17732.92it/s]\n",
      "100%|██████████| 5000/5000 [00:00<00:00, 17532.77it/s]\n",
      "100%|██████████| 5000/5000 [00:00<00:00, 18011.29it/s]\n",
      "100%|██████████| 5000/5000 [00:00<00:00, 17924.25it/s]\n",
      "100%|██████████| 5000/5000 [00:00<00:00, 17820.56it/s]\n",
      "100%|██████████| 5000/5000 [00:00<00:00, 17774.61it/s]\n",
      "100%|██████████| 5000/5000 [00:00<00:00, 17775.02it/s]\n",
      "100%|██████████| 5000/5000 [00:00<00:00, 17210.92it/s]\n",
      "100%|██████████| 5000/5000 [00:00<00:00, 16951.87it/s]\n",
      "100%|██████████| 5000/5000 [00:00<00:00, 16956.90it/s]\n",
      "100%|██████████| 5000/5000 [00:00<00:00, 17362.08it/s]\n",
      "100%|██████████| 5000/5000 [00:00<00:00, 17470.31it/s]\n",
      "100%|██████████| 5000/5000 [00:00<00:00, 17580.99it/s]\n",
      "100%|██████████| 5000/5000 [00:00<00:00, 17515.34it/s]\n",
      "100%|██████████| 5000/5000 [00:00<00:00, 16537.70it/s]\n",
      "100%|██████████| 5000/5000 [00:00<00:00, 16548.01it/s]\n",
      "100%|██████████| 5000/5000 [00:00<00:00, 16636.06it/s]\n",
      "100%|██████████| 5000/5000 [00:00<00:00, 16795.76it/s]\n",
      "100%|██████████| 5000/5000 [00:00<00:00, 16810.55it/s]\n",
      "100%|██████████| 5000/5000 [00:00<00:00, 17803.86it/s]\n",
      "100%|██████████| 5000/5000 [00:00<00:00, 17303.16it/s]\n",
      "100%|██████████| 5000/5000 [00:00<00:00, 17304.88it/s]\n",
      "100%|██████████| 5000/5000 [00:00<00:00, 17456.90it/s]\n",
      "100%|██████████| 5000/5000 [00:00<00:00, 17299.89it/s]\n",
      "100%|██████████| 5000/5000 [00:00<00:00, 17351.67it/s]\n",
      "100%|██████████| 5000/5000 [00:00<00:00, 17279.92it/s]\n",
      "100%|██████████| 5000/5000 [00:00<00:00, 17012.85it/s]\n",
      "100%|██████████| 5000/5000 [00:00<00:00, 17023.04it/s]\n",
      "100%|██████████| 5000/5000 [00:00<00:00, 17117.43it/s]\n",
      "100%|██████████| 5000/5000 [00:00<00:00, 17100.00it/s]\n",
      "100%|██████████| 5000/5000 [00:00<00:00, 17221.83it/s]\n",
      "100%|██████████| 5000/5000 [00:00<00:00, 17272.51it/s]\n",
      "100%|██████████| 5000/5000 [00:00<00:00, 17421.06it/s]\n",
      "100%|██████████| 5000/5000 [00:00<00:00, 17365.92it/s]\n",
      "100%|██████████| 5000/5000 [00:00<00:00, 17399.81it/s]\n",
      "100%|██████████| 5000/5000 [00:00<00:00, 17352.39it/s]\n",
      "100%|██████████| 5000/5000 [00:00<00:00, 17426.35it/s]\n",
      "100%|██████████| 5000/5000 [00:00<00:00, 17287.63it/s]\n",
      "100%|██████████| 5000/5000 [00:00<00:00, 17351.70it/s]\n",
      "100%|██████████| 5000/5000 [00:00<00:00, 17375.23it/s]\n"
     ]
    },
    {
     "name": "stdout",
     "output_type": "stream",
     "text": [
      "2024-04-14 16:23:10,094 - MultiprocessingDispatcher - 45 individuals out of 54 in previous population were evaluated successfully.\n",
      "2024-04-14 16:23:10,098 - EvoGraphOptimizer - Generation num: 36 size: 55\n",
      "2024-04-14 16:23:10,099 - EvoGraphOptimizer - Best individuals: HallOfFame archive fitness (1): ['<custom=0.000>']\n",
      "2024-04-14 16:23:10,099 - EvoGraphOptimizer - no improvements for 3 iterations\n",
      "2024-04-14 16:23:10,100 - EvoGraphOptimizer - spent time: 2.0 min\n",
      "2024-04-14 16:23:10,100 - EvoGraphOptimizer - Next population size: 55; max graph depth: 100\n",
      "2024-04-14 16:23:10,120 - MultiprocessingDispatcher - Number of used CPU's: 6\n"
     ]
    },
    {
     "name": "stderr",
     "output_type": "stream",
     "text": [
      "100%|██████████| 5000/5000 [00:00<00:00, 17442.11it/s]\n",
      "  0%|          | 0/5000 [00:00<?, ?it/s]"
     ]
    },
    {
     "name": "stdout",
     "output_type": "stream",
     "text": [
      "Error message\n",
      "[Errno 17] File exists: '/root/BAMT/Nodes_data/1980'\n",
      "Error message\n",
      "[Errno 17] File exists: '/root/BAMT/Nodes_data/1980'\n",
      "Error message\n",
      "[Errno 17] File exists: '/root/BAMT/Nodes_data/1980'\n",
      "Error message\n",
      "[Errno 17] File exists: '/root/BAMT/Nodes_data/1982'\n",
      "Error message\n",
      "[Errno 17] File exists: '/root/BAMT/Nodes_data/1981'\n",
      "Error message\n",
      "[Errno 17] File exists: '/root/BAMT/Nodes_data/1983'\n"
     ]
    },
    {
     "name": "stderr",
     "output_type": "stream",
     "text": [
      "100%|██████████| 5000/5000 [00:00<00:00, 16824.20it/s]\n",
      "100%|██████████| 5000/5000 [00:00<00:00, 16609.28it/s]\n",
      "100%|██████████| 5000/5000 [00:00<00:00, 17005.79it/s]\n",
      "100%|██████████| 5000/5000 [00:00<00:00, 16897.84it/s]\n",
      "100%|██████████| 5000/5000 [00:00<00:00, 17192.53it/s]\n",
      "100%|██████████| 5000/5000 [00:00<00:00, 17309.88it/s]\n",
      "100%|██████████| 5000/5000 [00:00<00:00, 17391.96it/s]\n",
      "100%|██████████| 5000/5000 [00:00<00:00, 17288.40it/s]\n",
      "100%|██████████| 5000/5000 [00:00<00:00, 17435.63it/s]\n",
      "100%|██████████| 5000/5000 [00:00<00:00, 17460.97it/s]\n",
      "100%|██████████| 5000/5000 [00:00<00:00, 17431.02it/s]\n",
      "100%|██████████| 5000/5000 [00:00<00:00, 17404.31it/s]\n",
      "100%|██████████| 5000/5000 [00:00<00:00, 17377.00it/s]\n",
      "100%|██████████| 5000/5000 [00:00<00:00, 17344.22it/s]\n",
      "100%|██████████| 5000/5000 [00:00<00:00, 17616.55it/s]\n",
      "100%|██████████| 5000/5000 [00:00<00:00, 17335.10it/s]\n",
      "100%|██████████| 5000/5000 [00:00<00:00, 17213.59it/s]\n",
      "100%|██████████| 5000/5000 [00:00<00:00, 16826.11it/s]\n",
      "100%|██████████| 5000/5000 [00:00<00:00, 17558.90it/s]\n",
      "100%|██████████| 5000/5000 [00:00<00:00, 17840.09it/s]\n",
      "100%|██████████| 5000/5000 [00:00<00:00, 17557.21it/s]\n",
      "100%|██████████| 5000/5000 [00:00<00:00, 17482.27it/s]\n",
      "100%|██████████| 5000/5000 [00:00<00:00, 17793.63it/s]\n",
      "100%|██████████| 5000/5000 [00:00<00:00, 18027.16it/s]\n",
      "100%|██████████| 5000/5000 [00:00<00:00, 17357.70it/s]\n",
      "100%|██████████| 5000/5000 [00:00<00:00, 17446.27it/s]\n",
      "100%|██████████| 5000/5000 [00:00<00:00, 17381.34it/s]\n",
      "100%|██████████| 5000/5000 [00:00<00:00, 17122.47it/s]\n",
      "100%|██████████| 5000/5000 [00:00<00:00, 17329.60it/s]\n",
      "100%|██████████| 5000/5000 [00:00<00:00, 17333.54it/s]\n",
      "100%|██████████| 5000/5000 [00:00<00:00, 17117.11it/s]\n",
      "100%|██████████| 5000/5000 [00:00<00:00, 17194.04it/s]\n",
      "100%|██████████| 5000/5000 [00:00<00:00, 17296.61it/s]\n",
      "100%|██████████| 5000/5000 [00:00<00:00, 17127.21it/s]\n",
      "100%|██████████| 5000/5000 [00:00<00:00, 17219.82it/s]\n",
      "100%|██████████| 5000/5000 [00:00<00:00, 17498.78it/s]\n",
      "100%|██████████| 5000/5000 [00:00<00:00, 17425.34it/s]\n",
      "100%|██████████| 5000/5000 [00:00<00:00, 17524.52it/s]\n",
      "100%|██████████| 5000/5000 [00:00<00:00, 17549.95it/s]\n",
      "100%|██████████| 5000/5000 [00:00<00:00, 17532.77it/s]\n",
      "100%|██████████| 5000/5000 [00:00<00:00, 17506.30it/s]\n",
      "100%|██████████| 5000/5000 [00:00<00:00, 17700.70it/s]\n",
      "100%|██████████| 5000/5000 [00:00<00:00, 16752.77it/s]\n",
      "100%|██████████| 5000/5000 [00:00<00:00, 16781.67it/s]\n",
      "100%|██████████| 5000/5000 [00:00<00:00, 16682.62it/s]\n",
      "100%|██████████| 5000/5000 [00:00<00:00, 17571.33it/s]\n",
      "100%|██████████| 5000/5000 [00:00<00:00, 17523.58it/s]\n",
      "100%|██████████| 5000/5000 [00:00<00:00, 17615.31it/s]\n"
     ]
    },
    {
     "name": "stdout",
     "output_type": "stream",
     "text": [
      "2024-04-14 16:23:13,700 - MultiprocessingDispatcher - 48 individuals out of 54 in previous population were evaluated successfully.\n",
      "2024-04-14 16:23:13,705 - EvoGraphOptimizer - Generation num: 37 size: 55\n",
      "2024-04-14 16:23:13,705 - EvoGraphOptimizer - Best individuals: HallOfFame archive fitness (1): ['<custom=0.000>']\n",
      "2024-04-14 16:23:13,706 - EvoGraphOptimizer - no improvements for 4 iterations\n",
      "2024-04-14 16:23:13,706 - EvoGraphOptimizer - spent time: 2.0 min\n",
      "2024-04-14 16:23:13,706 - EvoGraphOptimizer - Next population size: 55; max graph depth: 100\n",
      "2024-04-14 16:23:13,726 - MultiprocessingDispatcher - Number of used CPU's: 6\n",
      "Error message\n",
      "[Errno 17] File exists: '/root/BAMT/Nodes_data/2028'\n",
      "Error message\n",
      "[Errno 17] File exists: '/root/BAMT/Nodes_data/2028'\n"
     ]
    },
    {
     "name": "stderr",
     "output_type": "stream",
     "text": [
      " 66%|██████▌   | 3292/5000 [00:00<00:00, 16512.91it/s]"
     ]
    },
    {
     "name": "stdout",
     "output_type": "stream",
     "text": [
      "Error message\n",
      "[Errno 17] File exists: '/root/BAMT/Nodes_data/2028'\n",
      "Error message\n",
      "[Errno 17] File exists: '/root/BAMT/Nodes_data/2029'\n",
      "Error message\n",
      "[Errno 17] File exists: '/root/BAMT/Nodes_data/2028'\n",
      "Error message\n",
      "[Errno 17] File exists: '/root/BAMT/Nodes_data/2029'\n",
      "Error message\n",
      "[Errno 17] File exists: '/root/BAMT/Nodes_data/2028'\n",
      "Error message\n",
      "[Errno 17] File exists: '/root/BAMT/Nodes_data/2029'\n",
      "Error message\n",
      "[Errno 17] File exists: '/root/BAMT/Nodes_data/2031'\n"
     ]
    },
    {
     "name": "stderr",
     "output_type": "stream",
     "text": [
      "100%|██████████| 5000/5000 [00:00<00:00, 16673.31it/s]\n",
      "100%|██████████| 5000/5000 [00:00<00:00, 17152.60it/s]\n",
      "100%|██████████| 5000/5000 [00:00<00:00, 17205.24it/s]\n",
      "100%|██████████| 5000/5000 [00:00<00:00, 17667.01it/s]\n",
      "100%|██████████| 5000/5000 [00:00<00:00, 17252.49it/s]\n",
      "100%|██████████| 5000/5000 [00:00<00:00, 17616.06it/s]\n",
      "100%|██████████| 5000/5000 [00:00<00:00, 17350.35it/s]\n",
      "100%|██████████| 5000/5000 [00:00<00:00, 17688.96it/s]\n",
      "100%|██████████| 5000/5000 [00:00<00:00, 17669.26it/s]\n",
      "100%|██████████| 5000/5000 [00:00<00:00, 17672.00it/s]\n",
      "100%|██████████| 5000/5000 [00:00<00:00, 17525.31it/s]\n",
      "100%|██████████| 5000/5000 [00:00<00:00, 16561.32it/s]\n",
      "100%|██████████| 5000/5000 [00:00<00:00, 17397.79it/s]\n",
      "100%|██████████| 5000/5000 [00:00<00:00, 17542.27it/s]\n",
      "100%|██████████| 5000/5000 [00:00<00:00, 17572.48it/s]\n",
      "100%|██████████| 5000/5000 [00:00<00:00, 17974.71it/s]\n",
      "100%|██████████| 5000/5000 [00:00<00:00, 17766.12it/s]\n",
      "100%|██████████| 5000/5000 [00:00<00:00, 17592.80it/s]\n",
      "100%|██████████| 5000/5000 [00:00<00:00, 17498.08it/s]\n",
      "100%|██████████| 5000/5000 [00:00<00:00, 17651.47it/s]\n",
      "100%|██████████| 5000/5000 [00:00<00:00, 17362.94it/s]\n",
      "100%|██████████| 5000/5000 [00:00<00:00, 17498.37it/s]\n",
      "100%|██████████| 5000/5000 [00:00<00:00, 17600.76it/s]\n",
      "100%|██████████| 5000/5000 [00:00<00:00, 17457.70it/s]\n",
      "100%|██████████| 5000/5000 [00:00<00:00, 17459.61it/s]\n",
      "100%|██████████| 5000/5000 [00:00<00:00, 17622.49it/s]\n",
      "100%|██████████| 5000/5000 [00:00<00:00, 17681.80it/s]\n",
      "100%|██████████| 5000/5000 [00:00<00:00, 17816.20it/s]\n",
      "100%|██████████| 5000/5000 [00:00<00:00, 17619.53it/s]\n",
      "100%|██████████| 5000/5000 [00:00<00:00, 17575.04it/s]\n",
      "100%|██████████| 5000/5000 [00:00<00:00, 17572.62it/s]\n",
      "100%|██████████| 5000/5000 [00:00<00:00, 17496.52it/s]\n",
      "100%|██████████| 5000/5000 [00:00<00:00, 17567.22it/s]\n",
      "100%|██████████| 5000/5000 [00:00<00:00, 17685.78it/s]\n",
      "100%|██████████| 5000/5000 [00:00<00:00, 17614.75it/s]\n",
      "100%|██████████| 5000/5000 [00:00<00:00, 17735.11it/s]\n",
      "100%|██████████| 5000/5000 [00:00<00:00, 17535.29it/s]\n",
      "100%|██████████| 5000/5000 [00:00<00:00, 17788.26it/s]\n",
      "100%|██████████| 5000/5000 [00:00<00:00, 17739.24it/s]\n",
      "100%|██████████| 5000/5000 [00:00<00:00, 17739.91it/s]\n",
      "100%|██████████| 5000/5000 [00:00<00:00, 17760.36it/s]\n",
      "100%|██████████| 5000/5000 [00:00<00:00, 17559.48it/s]\n",
      " 71%|███████   | 3533/5000 [00:00<00:00, 17717.27it/s]"
     ]
    },
    {
     "name": "stdout",
     "output_type": "stream",
     "text": [
      "2024-04-14 16:23:17,234 - MultiprocessingDispatcher - 45 individuals out of 54 in previous population were evaluated successfully.\n",
      "2024-04-14 16:23:17,238 - EvoGraphOptimizer - Generation num: 38 size: 55\n",
      "2024-04-14 16:23:17,238 - EvoGraphOptimizer - Best individuals: HallOfFame archive fitness (1): ['<custom=0.000>']\n",
      "2024-04-14 16:23:17,239 - EvoGraphOptimizer - no improvements for 5 iterations\n",
      "2024-04-14 16:23:17,239 - EvoGraphOptimizer - spent time: 2.1 min\n"
     ]
    },
    {
     "name": "stderr",
     "output_type": "stream",
     "text": [
      "100%|██████████| 5000/5000 [00:00<00:00, 17654.01it/s]\n",
      "100%|██████████| 5000/5000 [00:00<00:00, 17806.56it/s]\n",
      "100%|██████████| 5000/5000 [00:00<00:00, 17458.75it/s]\n"
     ]
    },
    {
     "name": "stdout",
     "output_type": "stream",
     "text": [
      "2024-04-14 16:23:17,240 - GroupedCondition - Optimisation finished: Early stopping iterations criteria was satisfied\n"
     ]
    },
    {
     "name": "stderr",
     "output_type": "stream",
     "text": [
      "Generations:   0%|          | 1/500 [02:06<?, ?gen/s]"
     ]
    },
    {
     "name": "stdout",
     "output_type": "stream",
     "text": [
      "2024-04-14 16:23:17,241 - OptimisationTimer - Composition time: 2.107 min\n",
      "2024-04-14 16:23:17,242 - EvoGraphOptimizer - Generation num: 39 size: 1\n",
      "2024-04-14 16:23:17,242 - EvoGraphOptimizer - Best individuals: HallOfFame archive fitness (1): ['<custom=0.000>']\n",
      "2024-04-14 16:23:17,243 - EvoGraphOptimizer - no improvements for 6 iterations\n",
      "2024-04-14 16:23:17,243 - EvoGraphOptimizer - spent time: 2.1 min\n"
     ]
    },
    {
     "name": "stderr",
     "output_type": "stream",
     "text": [
      "\n"
     ]
    }
   ],
   "source": [
    "optimization_result = optimizer.optimize(n_dim=3, n_comp=2, target_olr=0.2)"
   ]
  },
  {
   "cell_type": "code",
   "execution_count": 26,
   "id": "11738238",
   "metadata": {},
   "outputs": [],
   "source": [
    "optimized_graph = optimization_result[0]\n",
    "net = build_bn(optimized_graph)"
   ]
  },
  {
   "cell_type": "code",
   "execution_count": 27,
   "id": "ad1bdc1c",
   "metadata": {},
   "outputs": [
    {
     "name": "stderr",
     "output_type": "stream",
     "text": [
      "100%|██████████| 200/200 [00:00<00:00, 1391.05it/s]\n"
     ]
    }
   ],
   "source": [
    "data = net.sample(200)"
   ]
  },
  {
   "cell_type": "code",
   "execution_count": 28,
   "id": "ce87294e",
   "metadata": {},
   "outputs": [
    {
     "data": {
      "text/html": [
       "<div>\n",
       "<style scoped>\n",
       "    .dataframe tbody tr th:only-of-type {\n",
       "        vertical-align: middle;\n",
       "    }\n",
       "\n",
       "    .dataframe tbody tr th {\n",
       "        vertical-align: top;\n",
       "    }\n",
       "\n",
       "    .dataframe thead th {\n",
       "        text-align: right;\n",
       "    }\n",
       "</style>\n",
       "<table border=\"1\" class=\"dataframe\">\n",
       "  <thead>\n",
       "    <tr style=\"text-align: right;\">\n",
       "      <th></th>\n",
       "      <th>Comp_0</th>\n",
       "      <th>Comp_1</th>\n",
       "      <th>Comp_2</th>\n",
       "    </tr>\n",
       "  </thead>\n",
       "  <tbody>\n",
       "    <tr>\n",
       "      <th>count</th>\n",
       "      <td>200.000000</td>\n",
       "      <td>200.000000</td>\n",
       "      <td>200.000000</td>\n",
       "    </tr>\n",
       "    <tr>\n",
       "      <th>mean</th>\n",
       "      <td>529.548844</td>\n",
       "      <td>831.405155</td>\n",
       "      <td>1.106758</td>\n",
       "    </tr>\n",
       "    <tr>\n",
       "      <th>std</th>\n",
       "      <td>18.103479</td>\n",
       "      <td>60.371379</td>\n",
       "      <td>23.325214</td>\n",
       "    </tr>\n",
       "    <tr>\n",
       "      <th>min</th>\n",
       "      <td>468.948847</td>\n",
       "      <td>427.587552</td>\n",
       "      <td>-59.802589</td>\n",
       "    </tr>\n",
       "    <tr>\n",
       "      <th>25%</th>\n",
       "      <td>521.140709</td>\n",
       "      <td>823.877285</td>\n",
       "      <td>-16.006815</td>\n",
       "    </tr>\n",
       "    <tr>\n",
       "      <th>50%</th>\n",
       "      <td>531.721460</td>\n",
       "      <td>839.058680</td>\n",
       "      <td>1.506552</td>\n",
       "    </tr>\n",
       "    <tr>\n",
       "      <th>75%</th>\n",
       "      <td>541.830914</td>\n",
       "      <td>854.836516</td>\n",
       "      <td>15.714597</td>\n",
       "    </tr>\n",
       "    <tr>\n",
       "      <th>max</th>\n",
       "      <td>564.454058</td>\n",
       "      <td>892.758150</td>\n",
       "      <td>66.110737</td>\n",
       "    </tr>\n",
       "  </tbody>\n",
       "</table>\n",
       "</div>"
      ],
      "text/plain": [
       "           Comp_0      Comp_1      Comp_2\n",
       "count  200.000000  200.000000  200.000000\n",
       "mean   529.548844  831.405155    1.106758\n",
       "std     18.103479   60.371379   23.325214\n",
       "min    468.948847  427.587552  -59.802589\n",
       "25%    521.140709  823.877285  -16.006815\n",
       "50%    531.721460  839.058680    1.506552\n",
       "75%    541.830914  854.836516   15.714597\n",
       "max    564.454058  892.758150   66.110737"
      ]
     },
     "execution_count": 28,
     "metadata": {},
     "output_type": "execute_result"
    }
   ],
   "source": [
    "data.describe()"
   ]
  },
  {
   "cell_type": "code",
   "execution_count": 34,
   "id": "3f0a7962",
   "metadata": {},
   "outputs": [
    {
     "data": {
      "text/plain": [
       "0.20770187213466382"
      ]
     },
     "execution_count": 34,
     "metadata": {},
     "output_type": "execute_result"
    }
   ],
   "source": [
    "gmm = GMM(n_components=2)\n",
    "gmm.from_samples(data.to_numpy())\n",
    "\n",
    "w = gmm.priors.tolist()\n",
    "means = gmm.means.tolist()\n",
    "cov = make_diagonal(gmm.covariances.tolist())\n",
    "\n",
    "# print_gmm_params_fancy(w, means, cov, decimal_places=3)\n",
    "\n",
    "olr_universal(w, means, cov)"
   ]
  },
  {
   "cell_type": "code",
   "execution_count": 35,
   "id": "fc88df99",
   "metadata": {},
   "outputs": [
    {
     "data": {
      "text/plain": [
       "<bamt.networks.continuous_bn.ContinuousBN at 0xfffefe7cd880>"
      ]
     },
     "execution_count": 35,
     "metadata": {},
     "output_type": "execute_result"
    }
   ],
   "source": [
    "net"
   ]
  },
  {
   "cell_type": "code",
   "execution_count": 37,
   "id": "819fb520",
   "metadata": {},
   "outputs": [],
   "source": [
    "serialized = ContinuousBNSerializer().serialize(net)\n",
    "j = JsonDictSerializer().serialize(serialized)\n",
    "FilesystemStorage().write(j, './bns_volcanoes/0.2_0.json')"
   ]
  },
  {
   "cell_type": "code",
   "execution_count": null,
   "id": "933bf1a7",
   "metadata": {},
   "outputs": [],
   "source": [
    "gmm = GaussianMixture(n_components = 2) \n",
    "gmm.fit(data)\n",
    "        \n",
    "sample = gmm.sample(200)\n",
    "data = sample[0]\n",
    "labels = [5 if each == 5 else 4 for each in sample[1]]\n",
    "\n",
    "accuracy = accuracy_score(labels, model.predict(data), pos_label=5)\n",
    "f1 = f1_score(labels, model.predict(data), pos_label=5)\n",
    "\n",
    "accuracy, f1"
   ]
  }
 ],
 "metadata": {
  "kernelspec": {
   "display_name": "Python 3 (ipykernel)",
   "language": "python",
   "name": "python3"
  },
  "language_info": {
   "codemirror_mode": {
    "name": "ipython",
    "version": 3
   },
   "file_extension": ".py",
   "mimetype": "text/x-python",
   "name": "python",
   "nbconvert_exporter": "python",
   "pygments_lexer": "ipython3",
   "version": "3.9.19"
  }
 },
 "nbformat": 4,
 "nbformat_minor": 5
}
